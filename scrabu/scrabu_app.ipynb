{
 "cells": [
  {
   "cell_type": "code",
   "execution_count": null,
   "metadata": {},
   "outputs": [],
   "source": [
    "from scrabu import generate_shipment_numbers\n",
    "from scrabu import request\n",
    "from scrabu import html_to_json\n",
    "from scrabu import shipment_details\n",
    "from scrabu import save_dictionary\n",
    "from scrabu import process_shipment_number\n",
    "from scrabu import main\n",
    "from scrabu import *\n",
    "\n",
    "\n",
    "\n",
    "\n",
    "main(shipment_number=340434188193324407, size=10000, max_workers=4)\n",
    "\n"
   ]
  }
 ],
 "metadata": {
  "kernelspec": {
   "display_name": "Python 3",
   "language": "python",
   "name": "python3"
  },
  "language_info": {
   "codemirror_mode": {
    "name": "ipython",
    "version": 3
   },
   "file_extension": ".py",
   "mimetype": "text/x-python",
   "name": "python",
   "nbconvert_exporter": "python",
   "pygments_lexer": "ipython3",
   "version": "3.7.3"
  }
 },
 "nbformat": 4,
 "nbformat_minor": 2
}

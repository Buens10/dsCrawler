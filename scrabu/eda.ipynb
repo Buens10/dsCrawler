{
 "cells": [
  {
   "cell_type": "code",
   "execution_count": null,
   "metadata": {},
   "outputs": [],
   "source": [
    "import os, json\n",
    "import pandas as pd\n",
    "import numpy as np\n",
    "import seaborn as sns\n",
    "import matplotlib.pyplot as plt\n",
    "%matplotlib inline     \n",
    "sns.set(color_codes=True)\n",
    "\n",
    "        \n",
    "path_to_json = '../data/'\n",
    "json_files = [pos_json for pos_json in os.listdir('../data/') if pos_json.endswith('.json')]\n",
    "#print (json_files)\n",
    "\n",
    "\n",
    "shipment_number_jsons = pd.DataFrame(columns=[\"datum\", \"status\", \"ort\"])\n",
    "\n",
    "for index, js in enumerate(json_files):\n",
    "    with open(os.path.join(path_to_json, js)) as json_file:\n",
    "        json_text = json.load(json_file)\n",
    "        \n",
    "        \n",
    "        datum = json_text[\"events\"][0][\"datum\"]\n",
    "        status = json_text[\"events\"][\"status\"]\n",
    "        ort = json_text[\"events\"][\"ort\"]\n",
    "        # here I push a list of data into a pandas DataFrame at row given by 'index'\n",
    "        shipment_number_jsons.loc[index] = [datum, status, ort]\n",
    "        \n",
    "print(shipment_number_jsons)\n",
    "\n",
    "\n"
   ]
  },
  {
   "cell_type": "code",
   "execution_count": null,
   "metadata": {},
   "outputs": [],
   "source": []
  }
 ],
 "metadata": {
  "kernelspec": {
   "display_name": "Python 3",
   "language": "python",
   "name": "python3"
  },
  "language_info": {
   "codemirror_mode": {
    "name": "ipython",
    "version": 3
   },
   "file_extension": ".py",
   "mimetype": "text/x-python",
   "name": "python",
   "nbconvert_exporter": "python",
   "pygments_lexer": "ipython3",
   "version": "3.7.3"
  }
 },
 "nbformat": 4,
 "nbformat_minor": 2
}

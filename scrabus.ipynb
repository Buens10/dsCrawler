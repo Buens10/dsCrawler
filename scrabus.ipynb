{
 "cells": [
  {
   "cell_type": "code",
   "execution_count": 28,
   "metadata": {
    "scrolled": true
   },
   "outputs": [
    {
     "name": "stdout",
     "output_type": "stream",
     "text": [
      "b'\\n<div id=\"verfolgen-main-content\">\\n  \\n\\n\\n\\n\\n\\n\\t\\n\\n\\n<script>\\n  \\n    window.__INITIAL_APP_STATE__ = {\\n      initialState: JSON.parse(\"{\\\\\"sendungen\\\\\":[{\\\\\"id\\\\\":\\\\\"00340434188193324407\\\\\",\\\\\"hasCompleteDetails\\\\\":true,\\\\\"sendungsinfo\\\\\":{\\\\\"gesuchteSendungsnummer\\\\\":\\\\\"00340434188193324407\\\\\",\\\\\"sendungsrichtung\\\\\":\\\\\"ANKOMMEND\\\\\"},\\\\\"sendungsdetails\\\\\":{\\\\\"sendungsnummern\\\\\":{\\\\\"sendungsnummer\\\\\":\\\\\"00340434188193324407\\\\\"},\\\\\"eigenschaften\\\\\":{},\\\\\"sendungsverlauf\\\\\":{\\\\\"datumAktuellerStatus\\\\\":\\\\\"2019-10-10T15:05:00+02:00\\\\\",\\\\\"aktuellerStatus\\\\\":\\\\\"Die Sendung wurde erfolgreich zugestellt.\\\\\",\\\\\"kurzStatus\\\\\":\\\\\"Zustellung erfolgreich\\\\\",\\\\\"fortschritt\\\\\":5,\\\\\"farbe\\\\\":0,\\\\\"events\\\\\":[{\\\\\"datum\\\\\":\\\\\"2019-10-07T16:27:00+02:00\\\\\",\\\\\"status\\\\\":\\\\\"Die Sendung wurde elektronisch angek\\\\u00FCndigt. Sobald die Sendung von uns bearbeitet wurde, erhalten Sie weitere Informationen.\\\\\"},{\\\\\"datum\\\\\":\\\\\"2019-10-08T17:12:00+02:00\\\\\",\\\\\"ort\\\\\":\\\\\"Bremen\\\\\",\\\\\"status\\\\\":\\\\\"Die Sendung wurde von DHL bearbeitet und wird f\\\\u00FCr den Weitertransport in die Region des Empf\\\\u00E4ngers vorbereitet.\\\\\"},{\\\\\"datum\\\\\":\\\\\"2019-10-09T10:25:00+02:00\\\\\",\\\\\"ort\\\\\":\\\\\"Neuwied\\\\\",\\\\\"status\\\\\":\\\\\"Die Sendung ist in der Region des Empf\\\\u00E4ngers angekommen und wird im n\\\\u00E4chsten Schritt zur Zustellbasis transportiert.\\\\\"},{\\\\\"datum\\\\\":\\\\\"2019-10-10T05:58:00+02:00\\\\\",\\\\\"ort\\\\\":\\\\\"Bonn MechZB\\\\\",\\\\\"status\\\\\":\\\\\"Die Sendung wird f\\\\u00FCr die Verladung ins Zustellfahrzeug vorbereitet.\\\\\"},{\\\\\"datum\\\\\":\\\\\"2019-10-10T09:19:00+02:00\\\\\",\\\\\"status\\\\\":\\\\\"Die Sendung wurde in das Zustellfahrzeug geladen.\\\\\"},{\\\\\"datum\\\\\":\\\\\"2019-10-10T15:05:00+02:00\\\\\",\\\\\"status\\\\\":\\\\\"Die Sendung wurde erfolgreich zugestellt.\\\\\"}]},\\\\\"services\\\\\":{\\\\\"statusbenachrichtigung\\\\\":{\\\\\"aktuellerStatus\\\\\":true,\\\\\"geplanteZustellung\\\\\":false,\\\\\"erfolgteZustellung\\\\\":false}},\\\\\"zustellung\\\\\":{\\\\\"showMTan\\\\\":false,\\\\\"zugestelltAnPackstation\\\\\":false,\\\\\"empfaenger\\\\\":{\\\\\"name\\\\\":\\\\\"Nachbar\\\\\"},\\\\\"zugestelltAnNachbar\\\\\":true},\\\\\"istZugestellt\\\\\":true,\\\\\"ruecksendung\\\\\":false,\\\\\"expressSendung\\\\\":false,\\\\\"mehrInformationenVerfuegbar\\\\\":true}}]}\"),\\n      config: {\"verfolgenDataPath\":\"/int-verfolgen/data\",\"verfolgenContextPath\":\"/int-verfolgen\",\"shipperIconPath\":\"/int-verfolgen/shippericons\",\"assetPath\":\"/int-verfolgen/static/v710/\",\"verfolgenVersion\":\"v710\",\"recaptchaKey\":\"6Lc0oAUTAAAAAL1ivpQh46dqYtT0iSx6kZvK9DV4\",\"currentDomain\":\"de\",\"currentLanguage\":\"de\",\"verfolgenCsrfToken\":\"113ba2a6-06d8-4c51-a405-a80cc66a1db0\",\"verfolgenBundleHash\":\"795b9e78befee6aa669a05bf31964cd647b56f4a937a6a41e8a6520a3a1078ba\",\"verfolgenI18NHash\":\"ca524964b8f08f5c232efd8e0cdc3ee43da04fa48ee7fc5e193206575952149a\",\"portal\":true,\"frontendDebug\":false,\"initialWG\":0,\"liveTrackingRefreshTime\":1,\"shipperIconClickedRefreshTime\":10,\"detailsViewNavigationRefreshTime\":60,\"renderMode\":\"WIDGET\",\"showBanner\":false}\\n    };\\n  \\n</script>\\n\\n\\n\\n\\n\\n\\n\\n<link rel=\"stylesheet\" type=\"text/css\" href=\"/int-verfolgen/static/v710/styles.a8292171b2bc4894fdd3.css\"/>\\n\\n\\n<div id=\"app\">\\n</div>\\n\\n\\n<script src=\"/int-verfolgen/static/v710/bundle.main.a8292171b2bc4894fdd3.js\"></script>\\n\\n\\n<noscript>\\n    <div>Sie m\\xc3\\xbcssen JavaScript aktivieren um diesen Teil der Seite zu sehen.</div>\\n\\n    \\n      \\n        <div>Sendungsnummer: 00340434188193324407</div>\\n        <div>Status: Die Sendung wurde erfolgreich zugestellt.</div>\\n        \\n      \\n    \\n  </noscript>\\n\\n\\n  \\n\\n\\n\\n\\n\\n\\n</div>\\n'\n"
     ]
    }
   ],
   "source": [
    "#request & response handler\n",
    "import urllib.request\n",
    "url = \"https://www.dhl.de/int-verfolgen/search?language=de&lang=de&domain=de&piececode=00340434188193324407\"\n",
    "response = urllib.request.urlopen(url)\n",
    "print (response.read())\n"
   ]
  },
  {
   "cell_type": "code",
   "execution_count": 36,
   "metadata": {},
   "outputs": [
    {
     "name": "stdout",
     "output_type": "stream",
     "text": [
      "[<Element div at 0x10afde448>, <Element div at 0x10afded48>, <Element div at 0x10afde708>, <Element div at 0x10afde208>, <Element div at 0x10afde688>]\n"
     ]
    }
   ],
   "source": [
    "# parser\n",
    "import urllib\n",
    "import requests\n",
    "from lxml import html\n",
    "from lxml import etree\n",
    "import json\n",
    "\n",
    "\n",
    "page = requests.get('https://www.dhl.de/int-verfolgen/search?language=de&lang=de&domain=de&piececode=00340434188193324407')\n",
    "tree = etree.HTML(page.content)\n",
    "\n",
    "delivery_history = tree.xpath('//div')\n",
    "print(delivery_history)\n",
    "\n",
    "\n"
   ]
  },
  {
   "cell_type": "code",
   "execution_count": 38,
   "metadata": {},
   "outputs": [
    {
     "name": "stdout",
     "output_type": "stream",
     "text": [
      "https://www.dhl.de/int-verfolgen/search?language=de&lang=de&domain=de&piececode=00340434188193324407\n"
     ]
    }
   ],
   "source": [
    "# parsing & formatting\n",
    "import json\n",
    "from lxml import etree\n",
    "\n",
    "string = str(etree.tostring(delivery_history[0]))\n",
    "start = string.find('JSON.parse(')\n",
    "end = string.find('\"),', start)\n",
    "json_string = string[start:end]\n",
    "json_string = json_string.replace('JSON.parse(\"', '')\n",
    "json_string = json_string.replace('\\\\', '')\n",
    "shipment_details = json.loads(json_string)\n",
    "print(shipment_details)\n",
    "\n"
   ]
  },
  {
   "cell_type": "code",
   "execution_count": 46,
   "metadata": {},
   "outputs": [
    {
     "name": "stdout",
     "output_type": "stream",
     "text": [
      "{'shipment_number': ('00340434188193324407',), 'crawltime': ('2019-10-15 14:36:47',), 'url': ((((('https://www.dhl.de/int-verfolgen/search?language=de&lang=de&domain=de&piececode=00340434188193324407',),),),),), 'events': [{'datum': '2019-10-07T16:27:00+02:00', 'status': 'Die Sendung wurde elektronisch angeku00FCndigt. Sobald die Sendung von uns bearbeitet wurde, erhalten Sie weitere Informationen.'}, {'datum': '2019-10-08T17:12:00+02:00', 'ort': 'Bremen', 'status': 'Die Sendung wurde von DHL bearbeitet und wird fu00FCr den Weitertransport in die Region des Empfu00E4ngers vorbereitet.'}, {'datum': '2019-10-09T10:25:00+02:00', 'ort': 'Neuwied', 'status': 'Die Sendung ist in der Region des Empfu00E4ngers angekommen und wird im nu00E4chsten Schritt zur Zustellbasis transportiert.'}, {'datum': '2019-10-10T05:58:00+02:00', 'ort': 'Bonn MechZB', 'status': 'Die Sendung wird fu00FCr die Verladung ins Zustellfahrzeug vorbereitet.'}, {'datum': '2019-10-10T09:19:00+02:00', 'status': 'Die Sendung wurde in das Zustellfahrzeug geladen.'}, {'datum': '2019-10-10T15:05:00+02:00', 'status': 'Die Sendung wurde erfolgreich zugestellt.'}]}\n"
     ]
    }
   ],
   "source": [
    "import datetime\n",
    "\n",
    "delivery_history_list = []\n",
    "delivery_history_dict = {}\n",
    "    \n",
    "delivery_history_dict[\"shipment_number\"]=shipment_details[\"sendungen\"][0][\"sendungsdetails\"][\"sendungsnummern\"].get(\"sendungsnummer\"),\n",
    "delivery_history_dict[\"crawltime\"]=datetime.datetime.now().strftime('%Y-%m-%d %H:%M:%S'),\n",
    "delivery_history_dict[\"url\"]=url,\n",
    "delivery_history_dict[\"events\"]=shipment_details[\"sendungen\"][0][\"sendungsdetails\"][\"sendungsverlauf\"].get(\"events\", [])\n",
    "\n",
    "delivery_history_list.append(delivery_history_dict)\n",
    "print(delivery_history_dict)"
   ]
  },
  {
   "cell_type": "code",
   "execution_count": 47,
   "metadata": {},
   "outputs": [],
   "source": [
    "import pandas\n",
    "\n",
    "#make a dataframe with the list\n",
    "df=pandas.DataFrame(delivery_history_list)\n",
    "\n",
    "#write the df to a csv file\n",
    "df.to_csv(\"delivery_history.csv\")"
   ]
  },
  {
   "cell_type": "code",
   "execution_count": null,
   "metadata": {},
   "outputs": [],
   "source": []
  }
 ],
 "metadata": {
  "kernelspec": {
   "display_name": "Python 3",
   "language": "python",
   "name": "python3"
  },
  "language_info": {
   "codemirror_mode": {
    "name": "ipython",
    "version": 3
   },
   "file_extension": ".py",
   "mimetype": "text/x-python",
   "name": "python",
   "nbconvert_exporter": "python",
   "pygments_lexer": "ipython3",
   "version": "3.7.2"
  }
 },
 "nbformat": 4,
 "nbformat_minor": 2
}

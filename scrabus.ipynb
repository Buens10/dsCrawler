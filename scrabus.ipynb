{
 "cells": [
  {
   "cell_type": "code",
   "execution_count": 63,
   "metadata": {
    "scrolled": true
   },
   "outputs": [],
   "source": [
    "#request & response handler\n",
    "import urllib.request\n",
    "\n",
    "def start_request(self):\n",
    "    url = \"https://www.dhl.de/int-verfolgen/search?language=de&lang=de&domain=de&piececode=00340434188193324407\"\n",
    "    response = urllib.request.urlopen(url)\n",
    "    yield Request(url, callback=self.parse)\n",
    "    #print (response.read())\n"
   ]
  },
  {
   "cell_type": "code",
   "execution_count": 64,
   "metadata": {},
   "outputs": [],
   "source": [
    "# parser\n",
    "import urllib\n",
    "import requests\n",
    "from lxml import html\n",
    "from lxml import etree\n",
    "import json\n",
    "\n",
    "def parse(self, response):\n",
    "    page = requests.get('https://www.dhl.de/int-verfolgen/search?language=de&lang=de&domain=de&piececode=00340434188193324407')\n",
    "    tree = etree.HTML(page.content)\n",
    "\n",
    "    delivery_history = tree.xpath('//div')\n",
    "    #print(delivery_history)\n",
    "\n",
    "    string = str(etree.tostring(delivery_history[0]))\n",
    "    start = string.find('JSON.parse(')\n",
    "    end = string.find('\"),', start)\n",
    "    json_string = string[start:end]\n",
    "    json_string = json_string.replace('JSON.parse(\"', '')\n",
    "    json_string = json_string.replace('\\\\', '')\n",
    "    shipment_details = json.loads(json_string)\n",
    "    print(shipment_details)\n",
    "\n",
    "\n"
   ]
  },
  {
   "cell_type": "code",
   "execution_count": 65,
   "metadata": {
    "scrolled": true
   },
   "outputs": [
    {
     "name": "stdout",
     "output_type": "stream",
     "text": [
      "{'shipment_number': '00340434188193324407', 'crawltime': '2019-10-15 16:08:14', 'url': (((('https://www.dhl.de/int-verfolgen/search?language=de&lang=de&domain=de&piececode=00340434188193324407',),),),), 'events': [{'datum': '2019-10-07T16:27:00+02:00', 'status': 'Die Sendung wurde elektronisch angeku00FCndigt. Sobald die Sendung von uns bearbeitet wurde, erhalten Sie weitere Informationen.'}, {'datum': '2019-10-08T17:12:00+02:00', 'ort': 'Bremen', 'status': 'Die Sendung wurde von DHL bearbeitet und wird fu00FCr den Weitertransport in die Region des Empfu00E4ngers vorbereitet.'}, {'datum': '2019-10-09T10:25:00+02:00', 'ort': 'Neuwied', 'status': 'Die Sendung ist in der Region des Empfu00E4ngers angekommen und wird im nu00E4chsten Schritt zur Zustellbasis transportiert.'}, {'datum': '2019-10-10T05:58:00+02:00', 'ort': 'Bonn MechZB', 'status': 'Die Sendung wird fu00FCr die Verladung ins Zustellfahrzeug vorbereitet.'}, {'datum': '2019-10-10T09:19:00+02:00', 'status': 'Die Sendung wurde in das Zustellfahrzeug geladen.'}, {'datum': '2019-10-10T15:05:00+02:00', 'status': 'Die Sendung wurde erfolgreich zugestellt.'}]}\n"
     ]
    }
   ],
   "source": [
    "import datetime\n",
    "\n",
    "delivery_history_list = []\n",
    "delivery_history_dict = {}\n",
    "    \n",
    "delivery_history_dict[\"shipment_number\"]=shipment_details[\"sendungen\"][0][\"sendungsdetails\"][\"sendungsnummern\"].get(\"sendungsnummer\")\n",
    "delivery_history_dict[\"crawltime\"]=datetime.datetime.now().strftime('%Y-%m-%d %H:%M:%S')\n",
    "delivery_history_dict[\"url\"]=url\n",
    "delivery_history_dict[\"events\"]=shipment_details[\"sendungen\"][0][\"sendungsdetails\"][\"sendungsverlauf\"].get(\"events\", [])\n",
    "\n",
    "delivery_history_list.append(delivery_history_dict)\n",
    "print(delivery_history_dict)"
   ]
  },
  {
   "cell_type": "code",
   "execution_count": 66,
   "metadata": {},
   "outputs": [],
   "source": [
    "import pandas\n",
    "\n",
    "#make a dataframe with the list\n",
    "df=pandas.DataFrame(delivery_history_list)\n",
    "\n",
    "#write the df to a csv file\n",
    "df.to_csv(\"delivery_history.csv\")"
   ]
  },
  {
   "cell_type": "code",
   "execution_count": null,
   "metadata": {},
   "outputs": [],
   "source": []
  }
 ],
 "metadata": {
  "kernelspec": {
   "display_name": "Python 3",
   "language": "python",
   "name": "python3"
  },
  "language_info": {
   "codemirror_mode": {
    "name": "ipython",
    "version": 3
   },
   "file_extension": ".py",
   "mimetype": "text/x-python",
   "name": "python",
   "nbconvert_exporter": "python",
   "pygments_lexer": "ipython3",
   "version": "3.7.2"
  }
 },
 "nbformat": 4,
 "nbformat_minor": 2
}

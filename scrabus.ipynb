{
 "cells": [
  {
   "cell_type": "code",
   "execution_count": 28,
   "metadata": {
    "scrolled": true
   },
   "outputs": [
    {
     "name": "stdout",
     "output_type": "stream",
     "text": [
      "b'\\n<div id=\"verfolgen-main-content\">\\n  \\n\\n\\n\\n\\n\\n\\t\\n\\n\\n<script>\\n  \\n    window.__INITIAL_APP_STATE__ = {\\n      initialState: JSON.parse(\"{\\\\\"sendungen\\\\\":[{\\\\\"id\\\\\":\\\\\"00340434188193324407\\\\\",\\\\\"hasCompleteDetails\\\\\":true,\\\\\"sendungsinfo\\\\\":{\\\\\"gesuchteSendungsnummer\\\\\":\\\\\"00340434188193324407\\\\\",\\\\\"sendungsrichtung\\\\\":\\\\\"ANKOMMEND\\\\\"},\\\\\"sendungsdetails\\\\\":{\\\\\"sendungsnummern\\\\\":{\\\\\"sendungsnummer\\\\\":\\\\\"00340434188193324407\\\\\"},\\\\\"eigenschaften\\\\\":{},\\\\\"sendungsverlauf\\\\\":{\\\\\"datumAktuellerStatus\\\\\":\\\\\"2019-10-10T15:05:00+02:00\\\\\",\\\\\"aktuellerStatus\\\\\":\\\\\"Die Sendung wurde erfolgreich zugestellt.\\\\\",\\\\\"kurzStatus\\\\\":\\\\\"Zustellung erfolgreich\\\\\",\\\\\"fortschritt\\\\\":5,\\\\\"farbe\\\\\":0,\\\\\"events\\\\\":[{\\\\\"datum\\\\\":\\\\\"2019-10-07T16:27:00+02:00\\\\\",\\\\\"status\\\\\":\\\\\"Die Sendung wurde elektronisch angek\\\\u00FCndigt. Sobald die Sendung von uns bearbeitet wurde, erhalten Sie weitere Informationen.\\\\\"},{\\\\\"datum\\\\\":\\\\\"2019-10-08T17:12:00+02:00\\\\\",\\\\\"ort\\\\\":\\\\\"Bremen\\\\\",\\\\\"status\\\\\":\\\\\"Die Sendung wurde von DHL bearbeitet und wird f\\\\u00FCr den Weitertransport in die Region des Empf\\\\u00E4ngers vorbereitet.\\\\\"},{\\\\\"datum\\\\\":\\\\\"2019-10-09T10:25:00+02:00\\\\\",\\\\\"ort\\\\\":\\\\\"Neuwied\\\\\",\\\\\"status\\\\\":\\\\\"Die Sendung ist in der Region des Empf\\\\u00E4ngers angekommen und wird im n\\\\u00E4chsten Schritt zur Zustellbasis transportiert.\\\\\"},{\\\\\"datum\\\\\":\\\\\"2019-10-10T05:58:00+02:00\\\\\",\\\\\"ort\\\\\":\\\\\"Bonn MechZB\\\\\",\\\\\"status\\\\\":\\\\\"Die Sendung wird f\\\\u00FCr die Verladung ins Zustellfahrzeug vorbereitet.\\\\\"},{\\\\\"datum\\\\\":\\\\\"2019-10-10T09:19:00+02:00\\\\\",\\\\\"status\\\\\":\\\\\"Die Sendung wurde in das Zustellfahrzeug geladen.\\\\\"},{\\\\\"datum\\\\\":\\\\\"2019-10-10T15:05:00+02:00\\\\\",\\\\\"status\\\\\":\\\\\"Die Sendung wurde erfolgreich zugestellt.\\\\\"}]},\\\\\"services\\\\\":{\\\\\"statusbenachrichtigung\\\\\":{\\\\\"aktuellerStatus\\\\\":true,\\\\\"geplanteZustellung\\\\\":false,\\\\\"erfolgteZustellung\\\\\":false}},\\\\\"zustellung\\\\\":{\\\\\"showMTan\\\\\":false,\\\\\"zugestelltAnPackstation\\\\\":false,\\\\\"empfaenger\\\\\":{\\\\\"name\\\\\":\\\\\"Nachbar\\\\\"},\\\\\"zugestelltAnNachbar\\\\\":true},\\\\\"istZugestellt\\\\\":true,\\\\\"ruecksendung\\\\\":false,\\\\\"expressSendung\\\\\":false,\\\\\"mehrInformationenVerfuegbar\\\\\":true}}]}\"),\\n      config: {\"verfolgenDataPath\":\"/int-verfolgen/data\",\"verfolgenContextPath\":\"/int-verfolgen\",\"shipperIconPath\":\"/int-verfolgen/shippericons\",\"assetPath\":\"/int-verfolgen/static/v710/\",\"verfolgenVersion\":\"v710\",\"recaptchaKey\":\"6Lc0oAUTAAAAAL1ivpQh46dqYtT0iSx6kZvK9DV4\",\"currentDomain\":\"de\",\"currentLanguage\":\"de\",\"verfolgenCsrfToken\":\"113ba2a6-06d8-4c51-a405-a80cc66a1db0\",\"verfolgenBundleHash\":\"795b9e78befee6aa669a05bf31964cd647b56f4a937a6a41e8a6520a3a1078ba\",\"verfolgenI18NHash\":\"ca524964b8f08f5c232efd8e0cdc3ee43da04fa48ee7fc5e193206575952149a\",\"portal\":true,\"frontendDebug\":false,\"initialWG\":0,\"liveTrackingRefreshTime\":1,\"shipperIconClickedRefreshTime\":10,\"detailsViewNavigationRefreshTime\":60,\"renderMode\":\"WIDGET\",\"showBanner\":false}\\n    };\\n  \\n</script>\\n\\n\\n\\n\\n\\n\\n\\n<link rel=\"stylesheet\" type=\"text/css\" href=\"/int-verfolgen/static/v710/styles.a8292171b2bc4894fdd3.css\"/>\\n\\n\\n<div id=\"app\">\\n</div>\\n\\n\\n<script src=\"/int-verfolgen/static/v710/bundle.main.a8292171b2bc4894fdd3.js\"></script>\\n\\n\\n<noscript>\\n    <div>Sie m\\xc3\\xbcssen JavaScript aktivieren um diesen Teil der Seite zu sehen.</div>\\n\\n    \\n      \\n        <div>Sendungsnummer: 00340434188193324407</div>\\n        <div>Status: Die Sendung wurde erfolgreich zugestellt.</div>\\n        \\n      \\n    \\n  </noscript>\\n\\n\\n  \\n\\n\\n\\n\\n\\n\\n</div>\\n'\n"
     ]
    }
   ],
   "source": [
    "import urllib.request\n",
    "url = \"https://www.dhl.de/int-verfolgen/search?language=de&lang=de&domain=de&piececode=00340434188193324407\"\n",
    "response = urllib.request.urlopen(url)\n",
    "print (response.read())\n"
   ]
  },
  {
   "cell_type": "code",
   "execution_count": 32,
   "metadata": {},
   "outputs": [
    {
     "name": "stdout",
     "output_type": "stream",
     "text": [
      "[<Element div at 0x107da2ac8>, <Element div at 0x107da2d48>, <Element div at 0x107da2b48>, <Element div at 0x107da2f48>, <Element div at 0x107da2fc8>]\n"
     ]
    }
   ],
   "source": [
    "import urllib\n",
    "import requests\n",
    "from lxml import html\n",
    "from lxml import etree\n",
    "import json\n",
    "\n",
    "\n",
    "page = requests.get('https://www.dhl.de/int-verfolgen/search?language=de&lang=de&domain=de&piececode=00340434188193324407')\n",
    "tree = etree.HTML(page.content)\n",
    "\n",
    "events = tree.xpath('//div')\n",
    "print(events)\n",
    "\n",
    "\n"
   ]
  },
  {
   "cell_type": "code",
   "execution_count": 30,
   "metadata": {},
   "outputs": [
    {
     "ename": "JSONDecodeError",
     "evalue": "Expecting value: line 1 column 1 (char 0)",
     "output_type": "error",
     "traceback": [
      "\u001b[0;31m---------------------------------------------------------------------------\u001b[0m",
      "\u001b[0;31mJSONDecodeError\u001b[0m                           Traceback (most recent call last)",
      "\u001b[0;32m<ipython-input-30-e19874fea888>\u001b[0m in \u001b[0;36m<module>\u001b[0;34m\u001b[0m\n\u001b[1;32m      7\u001b[0m \u001b[0mjson_string\u001b[0m \u001b[0;34m=\u001b[0m \u001b[0mjson_string\u001b[0m\u001b[0;34m.\u001b[0m\u001b[0mreplace\u001b[0m\u001b[0;34m(\u001b[0m\u001b[0;34m'JSON.parse(\"'\u001b[0m\u001b[0;34m,\u001b[0m \u001b[0;34m''\u001b[0m\u001b[0;34m)\u001b[0m\u001b[0;34m\u001b[0m\u001b[0;34m\u001b[0m\u001b[0m\n\u001b[1;32m      8\u001b[0m \u001b[0mjson_string\u001b[0m \u001b[0;34m=\u001b[0m \u001b[0mjson_string\u001b[0m\u001b[0;34m.\u001b[0m\u001b[0mreplace\u001b[0m\u001b[0;34m(\u001b[0m\u001b[0;34m'\\\\'\u001b[0m\u001b[0;34m,\u001b[0m \u001b[0;34m''\u001b[0m\u001b[0;34m)\u001b[0m\u001b[0;34m\u001b[0m\u001b[0;34m\u001b[0m\u001b[0m\n\u001b[0;32m----> 9\u001b[0;31m \u001b[0mshipment_details\u001b[0m \u001b[0;34m=\u001b[0m \u001b[0mjson\u001b[0m\u001b[0;34m.\u001b[0m\u001b[0mloads\u001b[0m\u001b[0;34m(\u001b[0m\u001b[0mjson_string\u001b[0m\u001b[0;34m)\u001b[0m\u001b[0;34m\u001b[0m\u001b[0;34m\u001b[0m\u001b[0m\n\u001b[0m\u001b[1;32m     10\u001b[0m \u001b[0mprint\u001b[0m\u001b[0;34m(\u001b[0m\u001b[0mshipment_details\u001b[0m\u001b[0;34m)\u001b[0m\u001b[0;34m\u001b[0m\u001b[0;34m\u001b[0m\u001b[0m\n",
      "\u001b[0;32m~/anaconda3/lib/python3.7/json/__init__.py\u001b[0m in \u001b[0;36mloads\u001b[0;34m(s, encoding, cls, object_hook, parse_float, parse_int, parse_constant, object_pairs_hook, **kw)\u001b[0m\n\u001b[1;32m    346\u001b[0m             \u001b[0mparse_int\u001b[0m \u001b[0;32mis\u001b[0m \u001b[0;32mNone\u001b[0m \u001b[0;32mand\u001b[0m \u001b[0mparse_float\u001b[0m \u001b[0;32mis\u001b[0m \u001b[0;32mNone\u001b[0m \u001b[0;32mand\u001b[0m\u001b[0;34m\u001b[0m\u001b[0;34m\u001b[0m\u001b[0m\n\u001b[1;32m    347\u001b[0m             parse_constant is None and object_pairs_hook is None and not kw):\n\u001b[0;32m--> 348\u001b[0;31m         \u001b[0;32mreturn\u001b[0m \u001b[0m_default_decoder\u001b[0m\u001b[0;34m.\u001b[0m\u001b[0mdecode\u001b[0m\u001b[0;34m(\u001b[0m\u001b[0ms\u001b[0m\u001b[0;34m)\u001b[0m\u001b[0;34m\u001b[0m\u001b[0;34m\u001b[0m\u001b[0m\n\u001b[0m\u001b[1;32m    349\u001b[0m     \u001b[0;32mif\u001b[0m \u001b[0mcls\u001b[0m \u001b[0;32mis\u001b[0m \u001b[0;32mNone\u001b[0m\u001b[0;34m:\u001b[0m\u001b[0;34m\u001b[0m\u001b[0;34m\u001b[0m\u001b[0m\n\u001b[1;32m    350\u001b[0m         \u001b[0mcls\u001b[0m \u001b[0;34m=\u001b[0m \u001b[0mJSONDecoder\u001b[0m\u001b[0;34m\u001b[0m\u001b[0;34m\u001b[0m\u001b[0m\n",
      "\u001b[0;32m~/anaconda3/lib/python3.7/json/decoder.py\u001b[0m in \u001b[0;36mdecode\u001b[0;34m(self, s, _w)\u001b[0m\n\u001b[1;32m    335\u001b[0m \u001b[0;34m\u001b[0m\u001b[0m\n\u001b[1;32m    336\u001b[0m         \"\"\"\n\u001b[0;32m--> 337\u001b[0;31m         \u001b[0mobj\u001b[0m\u001b[0;34m,\u001b[0m \u001b[0mend\u001b[0m \u001b[0;34m=\u001b[0m \u001b[0mself\u001b[0m\u001b[0;34m.\u001b[0m\u001b[0mraw_decode\u001b[0m\u001b[0;34m(\u001b[0m\u001b[0ms\u001b[0m\u001b[0;34m,\u001b[0m \u001b[0midx\u001b[0m\u001b[0;34m=\u001b[0m\u001b[0m_w\u001b[0m\u001b[0;34m(\u001b[0m\u001b[0ms\u001b[0m\u001b[0;34m,\u001b[0m \u001b[0;36m0\u001b[0m\u001b[0;34m)\u001b[0m\u001b[0;34m.\u001b[0m\u001b[0mend\u001b[0m\u001b[0;34m(\u001b[0m\u001b[0;34m)\u001b[0m\u001b[0;34m)\u001b[0m\u001b[0;34m\u001b[0m\u001b[0;34m\u001b[0m\u001b[0m\n\u001b[0m\u001b[1;32m    338\u001b[0m         \u001b[0mend\u001b[0m \u001b[0;34m=\u001b[0m \u001b[0m_w\u001b[0m\u001b[0;34m(\u001b[0m\u001b[0ms\u001b[0m\u001b[0;34m,\u001b[0m \u001b[0mend\u001b[0m\u001b[0;34m)\u001b[0m\u001b[0;34m.\u001b[0m\u001b[0mend\u001b[0m\u001b[0;34m(\u001b[0m\u001b[0;34m)\u001b[0m\u001b[0;34m\u001b[0m\u001b[0;34m\u001b[0m\u001b[0m\n\u001b[1;32m    339\u001b[0m         \u001b[0;32mif\u001b[0m \u001b[0mend\u001b[0m \u001b[0;34m!=\u001b[0m \u001b[0mlen\u001b[0m\u001b[0;34m(\u001b[0m\u001b[0ms\u001b[0m\u001b[0;34m)\u001b[0m\u001b[0;34m:\u001b[0m\u001b[0;34m\u001b[0m\u001b[0;34m\u001b[0m\u001b[0m\n",
      "\u001b[0;32m~/anaconda3/lib/python3.7/json/decoder.py\u001b[0m in \u001b[0;36mraw_decode\u001b[0;34m(self, s, idx)\u001b[0m\n\u001b[1;32m    353\u001b[0m             \u001b[0mobj\u001b[0m\u001b[0;34m,\u001b[0m \u001b[0mend\u001b[0m \u001b[0;34m=\u001b[0m \u001b[0mself\u001b[0m\u001b[0;34m.\u001b[0m\u001b[0mscan_once\u001b[0m\u001b[0;34m(\u001b[0m\u001b[0ms\u001b[0m\u001b[0;34m,\u001b[0m \u001b[0midx\u001b[0m\u001b[0;34m)\u001b[0m\u001b[0;34m\u001b[0m\u001b[0;34m\u001b[0m\u001b[0m\n\u001b[1;32m    354\u001b[0m         \u001b[0;32mexcept\u001b[0m \u001b[0mStopIteration\u001b[0m \u001b[0;32mas\u001b[0m \u001b[0merr\u001b[0m\u001b[0;34m:\u001b[0m\u001b[0;34m\u001b[0m\u001b[0;34m\u001b[0m\u001b[0m\n\u001b[0;32m--> 355\u001b[0;31m             \u001b[0;32mraise\u001b[0m \u001b[0mJSONDecodeError\u001b[0m\u001b[0;34m(\u001b[0m\u001b[0;34m\"Expecting value\"\u001b[0m\u001b[0;34m,\u001b[0m \u001b[0ms\u001b[0m\u001b[0;34m,\u001b[0m \u001b[0merr\u001b[0m\u001b[0;34m.\u001b[0m\u001b[0mvalue\u001b[0m\u001b[0;34m)\u001b[0m \u001b[0;32mfrom\u001b[0m \u001b[0;32mNone\u001b[0m\u001b[0;34m\u001b[0m\u001b[0;34m\u001b[0m\u001b[0m\n\u001b[0m\u001b[1;32m    356\u001b[0m         \u001b[0;32mreturn\u001b[0m \u001b[0mobj\u001b[0m\u001b[0;34m,\u001b[0m \u001b[0mend\u001b[0m\u001b[0;34m\u001b[0m\u001b[0;34m\u001b[0m\u001b[0m\n",
      "\u001b[0;31mJSONDecodeError\u001b[0m: Expecting value: line 1 column 1 (char 0)"
     ]
    }
   ],
   "source": [
    "import json\n",
    "\n",
    "string = str(events[0])\n",
    "start = string.find('JSON.parse(')\n",
    "end = string.find('\"),', start)\n",
    "json_string = string[start:end]\n",
    "json_string = json_string.replace('JSON.parse(\"', '')\n",
    "json_string = json_string.replace('\\\\', '')\n",
    "shipment_details = json.loads(json_string)\n",
    "print(shipment_details)"
   ]
  },
  {
   "cell_type": "code",
   "execution_count": null,
   "metadata": {},
   "outputs": [],
   "source": []
  }
 ],
 "metadata": {
  "kernelspec": {
   "display_name": "Python 3",
   "language": "python",
   "name": "python3"
  },
  "language_info": {
   "codemirror_mode": {
    "name": "ipython",
    "version": 3
   },
   "file_extension": ".py",
   "mimetype": "text/x-python",
   "name": "python",
   "nbconvert_exporter": "python",
   "pygments_lexer": "ipython3",
   "version": "3.7.2"
  }
 },
 "nbformat": 4,
 "nbformat_minor": 2
}

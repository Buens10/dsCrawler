{
 "cells": [
  {
   "cell_type": "code",
   "execution_count": 18,
   "metadata": {},
   "outputs": [
    {
     "name": "stdout",
     "output_type": "stream",
     "text": [
      "{'Die Sendung wurde elektronisch angeku00FCndigt. Sobald die Sendung von uns bearbeitet wurde, erhalten Sie weitere Informationen.': 60610, 'Die Sendung wurde von DHL bearbeitet und wird fu00FCr den Weitertransport in die Region des Empfu00E4ngers vorbereitet.': 56849, 'Die Sendung ist in der Region des Empfu00E4ngers angekommen und wird im nu00E4chsten Schritt zur Zustellbasis transportiert.': 58843, 'Die Sendung wurde in das Zustellfahrzeug geladen.': 60958, 'Die Sendung wurde erfolgreich zugestellt.': 48703, 'Die Sendung befindet sich auf dem Weg zur Packstation.': 1640, 'Die Sendung liegt in der  zur Abholung bereit.': 1667, 'Der Empfu00E4nger hat die Sendung aus der PACKSTATION abgeholt.': 1643, 'Die Sendung konnte beim 2. Zustellversuch nicht zugestellt werden.': 25, 'Die Sendung konnte nicht zugestellt werden und wird in die Filiale gebracht. Fu00FCr die Abholung ist neben der Benachrichtigung die Vorlage Ihres Ausweises sowie ggf. eine Vollmacht erforderlich.': 7963, 'Die Sendung wird zur Abholung in die  gebracht. Fu00FCr die Abholung ist neben der Benachrichtigung die Vorlage Ihres Ausweises sowie ggf. eine Vollmacht erforderlich.': 7896, 'Der Empfu00E4nger hat die Sendung in der Filiale abgeholt.': 8311, 'Die Sendung wird fu00FCr den Weitertransport vorbereitet.': 3106, 'Die Sendung wird fu00FCr die Verladung ins Zustellfahrzeug vorbereitet.': 11412, 'Die Sendung konnte nicht zugestellt werden und wird in eine Packstation gebracht.': 76, 'Leider war eine Zustellung der Sendung nicht mu00F6glich, da der Empfu00E4nger nicht ermittelt werden konnte. Die Sendung geht zuru00FCck an den Absender.': 17, 'Leider war eine Zustellung Ihrer Sendung heute nicht mu00F6glich. Wir versuchen es am nu00E4chsten Werktag.': 993, 'Leider war eine Zustellung der Sendung heute nicht mu00F6glich. Mu00F6gliche Gru00FCnde: Abbruch der Zustelltour aufgrund von Krankheit, Unfall, u00DCberschreitung der Arbeitszeit. Wir versuchen es am nu00E4chsten Werktag.': 441, 'Die Sendung befindet sich wie gewu00FCnscht auf dem Weg zur Filiale. Sie werden informiert, sobald die Sendung in der Filiale eingetroffen ist.': 617, 'Die Sendung wurde zur Abholung in die  gebracht.': 638, 'Die Zustellung der Sendung verzu00F6gert sich. Sie erfolgt voraussichtlich am nu00E4chsten Werktag.': 372, 'Die Retouren-Sendung wurde an DHL u00FCbergeben und wird fu00FCr den Weitertransport in die Region des Empfu00E4ngers vorbereitet.': 1, 'Die Sendung wurde dem Empfu00E4nger zugestellt.': 11, 'Der Empfu00E4nger hat die Annahme der Sendung verweigert.': 28, 'Die Sendung befindet sich in der Zustellbasis und wird fu00FCr die Auslieferung vorbereitet.': 256, 'Leider war eine Zustellung der Sendung heute nicht mu00F6glich, da der Empfu00E4nger nicht ermittelt werden konnte.': 95, 'Die Sendung wurde zuru00FCckgestellt. Die Zustellung erfolgt voraussichtlich am nu00E4chsten Werktag.': 246, 'Die u00DCberweisung des Nachnahme-Betrags an den Zahlungsempfu00E4nger ist erfolgt.': 686, 'Die Sendung wurde ausgeliefert.': 85, 'Die Sendung wurde leider fehlgeleitet. Gegebenenfalls verzu00F6gert sich dadurch die Zustellung.': 409, 'Die Sendung konnte leider nicht in die gewu00FCnschte Packstation eingestellt werden und wurde in eine Filiale weitergeleitet.': 68, 'Der Empfu00E4nger hat die Sendung innerhalb der siebentu00E4gigen Lagerfrist nicht in der Filiale abgeholt.': 93, 'Die Sendung konnte leider nicht in der Packstation eingestellt werden. Es erfolgt ein erneuter Zustellversuch am nu00E4chsten Werktag.': 2, 'Die Sendung wird zur Abholung in die  gebracht. Die fru00FChestmu00F6gliche Uhrzeit der Abholung kann der Benachrichtigung entnommen werden.': 31, 'Die Sendung wurde storniert.': 95, 'Die geringfu00FCgig beschu00E4digte Sendung wurde nachverpackt und wird jetzt zum Empfu00E4nger transportiert': 24, 'Der Abholauftrag wurde zur Durchfu00FChrung am nu00E4chsten Werktag an den Zusteller u00FCbermittelt.': 21, 'Die Abholung wurde erfolgreich ausgefu00FChrt.': 3, 'Die Sendung befindet sich auf dem Weg zum Empfu00E4nger.': 9, 'Eine Filiale wurde als neue Lieferadresse gewu00E4hlt': 241, 'Die Sendung wurde zum Weitertransport aus der PACKSTATION entnommen.': 3, 'Die Zustellung an einen gewu00FCnschten Ablageort/Nachbarn wurde gewu00E4hlt.': 342, 'Eine Packstation wurde als neue Lieferadresse gewu00E4hlt': 37, 'Aufgrund eines Nachsendeauftrags des Empfu00E4ngers wird die Sendung an eine neue Empfu00E4ngeradresse gesandt.': 12, 'Auf Wunsch des Empfu00E4ngers erfolgt ein 2. Zustellversuch.': 9, 'Die Sendung wurde abgeholt.': 12, 'Die Zustellung am gewu00FCnschten Liefertag  wurde gewu00E4hlt.': 253, 'Ihr Paket wird bei uns gelagert und am gewu00FCnschten Liefertag zugestellt.': 295, 'Die Sendung wurde leider beschu00E4digt und muss neu verpackt werden. Wir informieren Sie hier u00FCber den nu00E4chsten Schritt.': 25, 'Aufgrund einer Beschu00E4digung der Umverpackung wurde die Sendung nachbearbeitet.': 13, 'Der gewu00FCnschte Liefertag kann leider nicht hinterlegt werden.': 62, 'Aufgrund einer Beschu00E4digung verzu00F6gert sich der Transport der Sendung.': 10, 'Der Empfu00E4nger hat die Sendung innerhalb der neuntu00E4gigen Lagerfrist nicht in der PACKSTATION abgeholt.': 2, 'Leider ist eine Zustellung der Sendung nicht mu00F6glich, da sie nicht unseren Versandbedingungen entspricht. Die Sendung wird an den Absender zuru00FCckgeschickt.': 21, 'Die Sendung befindet sich auf dem Weg zum Absender.': 20, 'Aufgrund einer Beschu00E4digung wurde die Sendung nachbearbeitet.': 15, None: 16, 'Aufgrund einer negativen Alterspru00FCfung konnte die Sendung nicht zugestellt werden.': 7, 'Die Sendung liegt in der Filiale zur Abholung bereit. Der Empfu00E4nger wurde benachrichtigt.': 2, 'Die Sendung wurde vom Absender in der Filiale eingeliefert.': 12, 'Die Abholung war nicht erfolgreich, da keine Sendung zur Abholung vorhanden war.': 1, 'Sendung mit besonderen Zustellvorgaben: Die Zustellvorgaben des Versenders konnten nicht erfu00FCllt werden.': 11, 'Die Sendung wurde an eine Hauspoststelle weitergeleitet.': 8, 'Die Sendung in Paketkasten-Anlage eingestellt': 3, 'Es erfolgt eine Ru00FCcksendung auf Wunsch des Absenders.': 4, 'Der Empfu00E4nger der Sendung hat eine Schadensanzeige in der Filiale aufgegeben.': 4, 'Die Abholung war nicht erfolgreich, da die Sendung nicht versandfertig war.': 2, 'Die Sendung wurde am Wunschort abgeholt.': 2, 'Die Sendung konnte heute leider nicht zugestellt werden. Sie wird voraussichtlich am nu00E4chsten Werktag in die Postfiliale gebracht.': 2, 'Die Sendung wurde aus der Packstation entnommen.': 1}\n"
     ]
    }
   ],
   "source": [
    "from pymongo import MongoClient\n",
    "from itertools import chain\n",
    "import re\n",
    "\n",
    "\n",
    "def cleanhtml(raw_html):\n",
    "    cleantext = raw_html\n",
    "    if isinstance(raw_html, str):\n",
    "        cleanr = re.compile('<.*a>')\n",
    "        cleantext = re.sub(cleanr, '', raw_html)\n",
    "    return cleantext\n",
    "\n",
    "\n",
    "def cleandate(raw_html):\n",
    "    cleaneddate = raw_html\n",
    "    if isinstance(raw_html, str):\n",
    "        cleandt = re.compile(r'([0-3][0-9])\\.([0-9]{2})\\.([0-9]{4})')\n",
    "        cleaneddate = re.sub(cleandt, '', raw_html)\n",
    "    return cleaneddate\n",
    "\n",
    "\n",
    "client = MongoClient(\"mongodb://localhost:27017/\")\n",
    "db = client['ds_shipment_tracking']\n",
    "dhl_shipment_events = db.dhl_shipment_events\n",
    "\n",
    "res = dhl_shipment_events.find()\n",
    "\n",
    "\n",
    "def cleanstatussen(res):\n",
    "    t = list(map(lambda x: list(map(lambda y: y.get('status'), x.get('events'))), res))\n",
    "    c = list(chain.from_iterable(t))#stati\n",
    "    f = list(map(lambda x: cleanhtml(x), c))\n",
    "    cdt = list(map(lambda x: cleandate(x), f))\n",
    "    #s = set(cdt)\n",
    "\n",
    "    #cleanlist = []\n",
    "    counts = {}\n",
    "    for status in cdt:\n",
    "        if status in counts:\n",
    "            counts[status] = counts[status]+1\n",
    "        else:\n",
    "            counts[status] =1\n",
    "    for k, v in counts.items():\n",
    "        counts[k] = [counts[k]]#for pandas\n",
    "\n",
    "    return counts\n",
    "\n",
    "\n",
    "    '''\n",
    "        if status is not None:\n",
    "            cleanlist.append(i)\n",
    "\n",
    "    sortedcl = sorted(cleanlist)\n",
    "\n",
    "    countlist = ((i, sortedcl.count(i)) for i in sortedcl)\n",
    "    number_of_status = set(countlist)\n",
    "    #print(number_of_status)\n",
    "    '''\n",
    "\n",
    "'''\n",
    "    for i in number_of_status:\n",
    "        print(i)\n",
    "        print('\\n')\n",
    "'''\n",
    "\n",
    "'''   \n",
    "    with open('Alle_Statis.txt', 'w') as f:\n",
    "        for i in sortedcl:\n",
    "            f.write(\"%s\\n\\n\" % i)\n",
    "'''\n",
    "\n",
    "counts = cleanstatussen(res)\n",
    "\n",
    "\n"
   ]
  },
  {
   "cell_type": "code",
   "execution_count": 25,
   "metadata": {},
   "outputs": [],
   "source": [
    "import pandas as pd\n",
    "%matplotlib inline\n"
   ]
  },
  {
   "cell_type": "code",
   "execution_count": 36,
   "metadata": {},
   "outputs": [],
   "source": [
    "df = pd.DataFrame.from_dict(counts).transpose()\n"
   ]
  },
  {
   "cell_type": "code",
   "execution_count": 33,
   "metadata": {},
   "outputs": [],
   "source": [
    "df.to_excel(\"AnzahlStatis.xlsx\")"
   ]
  },
  {
   "cell_type": "code",
   "execution_count": null,
   "metadata": {},
   "outputs": [],
   "source": []
  }
 ],
 "metadata": {
  "kernelspec": {
   "display_name": "Python 3",
   "language": "python",
   "name": "python3"
  },
  "language_info": {
   "codemirror_mode": {
    "name": "ipython",
    "version": 3
   },
   "file_extension": ".py",
   "mimetype": "text/x-python",
   "name": "python",
   "nbconvert_exporter": "python",
   "pygments_lexer": "ipython3",
   "version": "3.6.8"
  }
 },
 "nbformat": 4,
 "nbformat_minor": 2
}

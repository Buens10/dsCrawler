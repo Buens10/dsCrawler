{
 "cells": [
  {
   "cell_type": "markdown",
   "metadata": {},
   "source": [
    "# Scrabu Prototype (for a List of Shipment Numbers)"
   ]
  },
  {
   "cell_type": "markdown",
   "metadata": {},
   "source": [
    "This notebook is for creating a prototype of the Scrabu project. The goal is to download DHL pages for a specific shipment number and scrap the shipment information from it."
   ]
  },
  {
   "cell_type": "markdown",
   "metadata": {},
   "source": [
    "#### Configure Logger"
   ]
  },
  {
   "cell_type": "code",
   "execution_count": 1,
   "metadata": {},
   "outputs": [],
   "source": [
    "import logging\n",
    "logger = logging.getLogger()\n",
    "logger.setLevel(logging.INFO)\n",
    "logging.basicConfig(format='%(asctime)s %(levelname)s: %(message)s', level=logging.INFO, datefmt='%I:%M:%S')"
   ]
  },
  {
   "cell_type": "markdown",
   "metadata": {},
   "source": [
    "#### Generate a list of shipment numbers"
   ]
  },
  {
   "cell_type": "code",
   "execution_count": 2,
   "metadata": {},
   "outputs": [],
   "source": [
    "def generate_shipment_numbers(shipment_number=None, size=2): #340434188193324407\n",
    "    logger.info(\"Generating shipment numbers with seed: {}\".format(shipment_number))\n",
    "    import numpy as np\n",
    "    shipment_numbers_list = []\n",
    "    for i in range(0, size):\n",
    "        shipment_number_str = str(shipment_number).rjust(20, '0')\n",
    "        shipment_numbers_list.append(shipment_number_str)\n",
    "        shipment_number = shipment_number + 1\n",
    "    logger.info(\"Generated {} unique shipment numbers\".format(len(set(shipment_numbers_list))))\n",
    "    return shipment_numbers_list"
   ]
  },
  {
   "cell_type": "code",
   "execution_count": 3,
   "metadata": {},
   "outputs": [
    {
     "name": "stderr",
     "output_type": "stream",
     "text": [
      "05:07:48 INFO: Generating shipment numbers with seed: 340434188193323500\n",
      "05:07:48 INFO: Generated 50 unique shipment numbers\n"
     ]
    }
   ],
   "source": [
    "shipment_numbers = generate_shipment_numbers(shipment_number=340434188193323500, size=50)"
   ]
  },
  {
   "cell_type": "markdown",
   "metadata": {},
   "source": [
    "#### Download the HTML content for a list of shipment numbers"
   ]
  },
  {
   "cell_type": "code",
   "execution_count": 4,
   "metadata": {
    "scrolled": true
   },
   "outputs": [],
   "source": [
    "def request(shipment_number=None, start_url=\"https://www.dhl.de/int-verfolgen/search?language=de&lang=de&domain=de&piececode=\"):\n",
    "    import requests\n",
    "    import numpy as np\n",
    "    logger.debug(\"Making HTTP request for shipment number {}\".format(shipment_number))\n",
    "    request_url = start_url + str(shipment_number)\n",
    "    return requests.get(request_url).content"
   ]
  },
  {
   "cell_type": "code",
   "execution_count": 5,
   "metadata": {},
   "outputs": [],
   "source": [
    "html_response = request(shipment_number=\"00340434188193323500\")"
   ]
  },
  {
   "cell_type": "markdown",
   "metadata": {},
   "source": [
    "#### Parsing HTML and converting it into JSON"
   ]
  },
  {
   "cell_type": "code",
   "execution_count": 6,
   "metadata": {},
   "outputs": [],
   "source": [
    "def html_to_json(html):\n",
    "    from lxml import etree\n",
    "    import json\n",
    "    logger.debug(\"Converting HTML to JSON\")\n",
    "    \n",
    "    html_tree = etree.HTML(html)\n",
    "    \n",
    "    def clean_json(dirty_json):\n",
    "        start = dirty_json.find('JSON.parse(')\n",
    "        end = dirty_json.find('\"),', start)\n",
    "        cjson = dirty_json[start:end]\n",
    "        cjson = cjson.replace('JSON.parse(\"', '')\n",
    "        cjson = cjson.replace('\\\\', '')\n",
    "        return cjson\n",
    "    \n",
    "    def find_json_element(html_tree):\n",
    "        json_element = html_tree.xpath('//div')\n",
    "        return str(etree.tostring(json_element[0]))\n",
    "    \n",
    "    dirty_json = find_json_element(html_tree)\n",
    "    json_string = clean_json(dirty_json)\n",
    "    return json.loads(json_string)"
   ]
  },
  {
   "cell_type": "code",
   "execution_count": 7,
   "metadata": {},
   "outputs": [],
   "source": [
    "shipment_details_json = html_to_json(html_response)"
   ]
  },
  {
   "cell_type": "markdown",
   "metadata": {},
   "source": [
    "#### Structure the shipment details in JSON format"
   ]
  },
  {
   "cell_type": "code",
   "execution_count": 8,
   "metadata": {
    "scrolled": true
   },
   "outputs": [],
   "source": [
    "def shipment_details(shipment_details_json, start_url=\"https://www.dhl.de/int-verfolgen/search?language=de&lang=de&domain=de&piececode=\", shipment_number=\"00340434188193323500\"):\n",
    "    import datetime\n",
    "    logger.debug(\"Preparing JSON for persistance\")\n",
    "    delivery_history_dict = {}\n",
    "    delivery_history_dict[\"shipment_number\"] = shipment_details_json[\"sendungen\"][0][\"sendungsdetails\"][\"sendungsnummern\"].get(\"sendungsnummer\")\n",
    "    delivery_history_dict[\"crawltime\"] = datetime.datetime.now().strftime('%Y-%m-%d %H:%M:%S')\n",
    "    delivery_history_dict[\"url\"] = start_url + str(shipment_number) \n",
    "    delivery_history_dict[\"events\"] = shipment_details_json[\"sendungen\"][0][\"sendungsdetails\"][\"sendungsverlauf\"].get(\"events\", [])\n",
    "    return delivery_history_dict"
   ]
  },
  {
   "cell_type": "code",
   "execution_count": 9,
   "metadata": {},
   "outputs": [],
   "source": [
    "shipment_history = shipment_details(shipment_details_json)"
   ]
  },
  {
   "cell_type": "code",
   "execution_count": 10,
   "metadata": {},
   "outputs": [],
   "source": [
    "import json\n",
    "def save_dictionary(shipment_history=None, filename=None):\n",
    "    logger.info(\"Writing file {}\".format(filename))\n",
    "    with open(filename, 'w') as f:\n",
    "        json.dump(shipment_history, f)"
   ]
  },
  {
   "cell_type": "code",
   "execution_count": 11,
   "metadata": {},
   "outputs": [
    {
     "name": "stderr",
     "output_type": "stream",
     "text": [
      "05:07:49 INFO: Writing file ../data/00340434188193323500.json\n"
     ]
    }
   ],
   "source": [
    "save_dictionary(shipment_history=None, filename=\"../data/00340434188193323500.json\")"
   ]
  },
  {
   "cell_type": "markdown",
   "metadata": {},
   "source": [
    "#### Main function, which goes through all shipment numbers and uses the previous methods"
   ]
  },
  {
   "cell_type": "code",
   "execution_count": 25,
   "metadata": {},
   "outputs": [],
   "source": [
    "import time\n",
    "def main(shipment_number=None, size=None):\n",
    "    shipment_numbers = generate_shipment_numbers(shipment_number=shipment_number, size=size)\n",
    "    count_saved = 0\n",
    "    start_index = 0\n",
    "    found_index = []\n",
    "    for shipment_number in shipment_numbers:\n",
    "        time.sleep(0.5)\n",
    "        html_response = request(shipment_number=shipment_number)\n",
    "        shipment_details_json = html_to_json(html_response)\n",
    "        shipment_history = shipment_details(shipment_details_json, shipment_number=shipment_number)\n",
    "        if len(shipment_history['events']) > 0:\n",
    "            save_dictionary(shipment_history, filename=\"../data/{}.json\".format(shipment_number))\n",
    "            count_saved = count_saved + 1\n",
    "            found_index.append(start_index)\n",
    "        else:\n",
    "            logger.info(\"No events found for shipment number {}\".format(shipment_number))\n",
    "        start_index = start_index + 1\n",
    "        print(found_index)\n",
    "        import numpy as np\n",
    "        print(np.diff(found_index))\n",
    "    logger.info(\"Saved {} files out of {}\".format(count_saved, size))\n",
    "    "
   ]
  },
  {
   "cell_type": "code",
   "execution_count": 29,
   "metadata": {},
   "outputs": [
    {
     "name": "stderr",
     "output_type": "stream",
     "text": [
      "05:29:48 INFO: Generating shipment numbers with seed: 340434188193323500\n",
      "05:29:48 INFO: Generated 400 unique shipment numbers\n",
      "05:29:49 INFO: No events found for shipment number 00340434188193323500\n"
     ]
    },
    {
     "name": "stdout",
     "output_type": "stream",
     "text": [
      "[]\n",
      "[]\n"
     ]
    },
    {
     "name": "stderr",
     "output_type": "stream",
     "text": [
      "05:29:50 INFO: No events found for shipment number 00340434188193323501\n"
     ]
    },
    {
     "name": "stdout",
     "output_type": "stream",
     "text": [
      "[]\n",
      "[]\n"
     ]
    },
    {
     "name": "stderr",
     "output_type": "stream",
     "text": [
      "05:29:50 INFO: No events found for shipment number 00340434188193323502\n"
     ]
    },
    {
     "name": "stdout",
     "output_type": "stream",
     "text": [
      "[]\n",
      "[]\n"
     ]
    },
    {
     "name": "stderr",
     "output_type": "stream",
     "text": [
      "05:29:51 INFO: No events found for shipment number 00340434188193323503\n"
     ]
    },
    {
     "name": "stdout",
     "output_type": "stream",
     "text": [
      "[]\n",
      "[]\n"
     ]
    },
    {
     "name": "stderr",
     "output_type": "stream",
     "text": [
      "05:29:52 INFO: No events found for shipment number 00340434188193323504\n"
     ]
    },
    {
     "name": "stdout",
     "output_type": "stream",
     "text": [
      "[]\n",
      "[]\n"
     ]
    },
    {
     "name": "stderr",
     "output_type": "stream",
     "text": [
      "05:29:52 INFO: No events found for shipment number 00340434188193323505\n"
     ]
    },
    {
     "name": "stdout",
     "output_type": "stream",
     "text": [
      "[]\n",
      "[]\n"
     ]
    },
    {
     "name": "stderr",
     "output_type": "stream",
     "text": [
      "05:29:53 INFO: No events found for shipment number 00340434188193323506\n"
     ]
    },
    {
     "name": "stdout",
     "output_type": "stream",
     "text": [
      "[]\n",
      "[]\n"
     ]
    },
    {
     "name": "stderr",
     "output_type": "stream",
     "text": [
      "05:29:53 INFO: No events found for shipment number 00340434188193323507\n"
     ]
    },
    {
     "name": "stdout",
     "output_type": "stream",
     "text": [
      "[]\n",
      "[]\n"
     ]
    },
    {
     "name": "stderr",
     "output_type": "stream",
     "text": [
      "05:29:54 INFO: No events found for shipment number 00340434188193323508\n"
     ]
    },
    {
     "name": "stdout",
     "output_type": "stream",
     "text": [
      "[]\n",
      "[]\n"
     ]
    },
    {
     "name": "stderr",
     "output_type": "stream",
     "text": [
      "05:29:55 INFO: Writing file ../data/00340434188193323509.json\n"
     ]
    },
    {
     "name": "stdout",
     "output_type": "stream",
     "text": [
      "[9]\n",
      "[]\n"
     ]
    },
    {
     "name": "stderr",
     "output_type": "stream",
     "text": [
      "05:29:55 INFO: No events found for shipment number 00340434188193323510\n"
     ]
    },
    {
     "name": "stdout",
     "output_type": "stream",
     "text": [
      "[9]\n",
      "[]\n"
     ]
    },
    {
     "name": "stderr",
     "output_type": "stream",
     "text": [
      "05:29:56 INFO: No events found for shipment number 00340434188193323511\n"
     ]
    },
    {
     "name": "stdout",
     "output_type": "stream",
     "text": [
      "[9]\n",
      "[]\n"
     ]
    },
    {
     "name": "stderr",
     "output_type": "stream",
     "text": [
      "05:29:57 INFO: No events found for shipment number 00340434188193323512\n"
     ]
    },
    {
     "name": "stdout",
     "output_type": "stream",
     "text": [
      "[9]\n",
      "[]\n"
     ]
    },
    {
     "name": "stderr",
     "output_type": "stream",
     "text": [
      "05:29:57 INFO: No events found for shipment number 00340434188193323513\n"
     ]
    },
    {
     "name": "stdout",
     "output_type": "stream",
     "text": [
      "[9]\n",
      "[]\n"
     ]
    },
    {
     "name": "stderr",
     "output_type": "stream",
     "text": [
      "05:29:58 INFO: No events found for shipment number 00340434188193323514\n"
     ]
    },
    {
     "name": "stdout",
     "output_type": "stream",
     "text": [
      "[9]\n",
      "[]\n"
     ]
    },
    {
     "name": "stderr",
     "output_type": "stream",
     "text": [
      "05:29:58 INFO: No events found for shipment number 00340434188193323515\n"
     ]
    },
    {
     "name": "stdout",
     "output_type": "stream",
     "text": [
      "[9]\n",
      "[]\n"
     ]
    },
    {
     "name": "stderr",
     "output_type": "stream",
     "text": [
      "05:29:59 INFO: Writing file ../data/00340434188193323516.json\n"
     ]
    },
    {
     "name": "stdout",
     "output_type": "stream",
     "text": [
      "[9, 16]\n",
      "[7]\n"
     ]
    },
    {
     "name": "stderr",
     "output_type": "stream",
     "text": [
      "05:30:00 INFO: No events found for shipment number 00340434188193323517\n"
     ]
    },
    {
     "name": "stdout",
     "output_type": "stream",
     "text": [
      "[9, 16]\n",
      "[7]\n"
     ]
    },
    {
     "name": "stderr",
     "output_type": "stream",
     "text": [
      "05:30:00 INFO: No events found for shipment number 00340434188193323518\n"
     ]
    },
    {
     "name": "stdout",
     "output_type": "stream",
     "text": [
      "[9, 16]\n",
      "[7]\n"
     ]
    },
    {
     "name": "stderr",
     "output_type": "stream",
     "text": [
      "05:30:01 INFO: No events found for shipment number 00340434188193323519\n"
     ]
    },
    {
     "name": "stdout",
     "output_type": "stream",
     "text": [
      "[9, 16]\n",
      "[7]\n"
     ]
    },
    {
     "name": "stderr",
     "output_type": "stream",
     "text": [
      "05:30:02 INFO: No events found for shipment number 00340434188193323520\n"
     ]
    },
    {
     "name": "stdout",
     "output_type": "stream",
     "text": [
      "[9, 16]\n",
      "[7]\n"
     ]
    },
    {
     "name": "stderr",
     "output_type": "stream",
     "text": [
      "05:30:02 INFO: No events found for shipment number 00340434188193323521\n"
     ]
    },
    {
     "name": "stdout",
     "output_type": "stream",
     "text": [
      "[9, 16]\n",
      "[7]\n"
     ]
    },
    {
     "name": "stderr",
     "output_type": "stream",
     "text": [
      "05:30:03 INFO: No events found for shipment number 00340434188193323522\n"
     ]
    },
    {
     "name": "stdout",
     "output_type": "stream",
     "text": [
      "[9, 16]\n",
      "[7]\n"
     ]
    },
    {
     "name": "stderr",
     "output_type": "stream",
     "text": [
      "05:30:04 INFO: Writing file ../data/00340434188193323523.json\n"
     ]
    },
    {
     "name": "stdout",
     "output_type": "stream",
     "text": [
      "[9, 16, 23]\n",
      "[7 7]\n"
     ]
    },
    {
     "name": "stderr",
     "output_type": "stream",
     "text": [
      "05:30:04 INFO: No events found for shipment number 00340434188193323524\n"
     ]
    },
    {
     "name": "stdout",
     "output_type": "stream",
     "text": [
      "[9, 16, 23]\n",
      "[7 7]\n"
     ]
    },
    {
     "name": "stderr",
     "output_type": "stream",
     "text": [
      "05:30:05 INFO: No events found for shipment number 00340434188193323525\n"
     ]
    },
    {
     "name": "stdout",
     "output_type": "stream",
     "text": [
      "[9, 16, 23]\n",
      "[7 7]\n"
     ]
    },
    {
     "name": "stderr",
     "output_type": "stream",
     "text": [
      "05:30:06 INFO: No events found for shipment number 00340434188193323526\n"
     ]
    },
    {
     "name": "stdout",
     "output_type": "stream",
     "text": [
      "[9, 16, 23]\n",
      "[7 7]\n"
     ]
    },
    {
     "name": "stderr",
     "output_type": "stream",
     "text": [
      "05:30:06 INFO: No events found for shipment number 00340434188193323527\n"
     ]
    },
    {
     "name": "stdout",
     "output_type": "stream",
     "text": [
      "[9, 16, 23]\n",
      "[7 7]\n"
     ]
    },
    {
     "name": "stderr",
     "output_type": "stream",
     "text": [
      "05:30:07 INFO: No events found for shipment number 00340434188193323528\n"
     ]
    },
    {
     "name": "stdout",
     "output_type": "stream",
     "text": [
      "[9, 16, 23]\n",
      "[7 7]\n"
     ]
    },
    {
     "name": "stderr",
     "output_type": "stream",
     "text": [
      "05:30:08 INFO: No events found for shipment number 00340434188193323529\n"
     ]
    },
    {
     "name": "stdout",
     "output_type": "stream",
     "text": [
      "[9, 16, 23]\n",
      "[7 7]\n"
     ]
    },
    {
     "name": "stderr",
     "output_type": "stream",
     "text": [
      "05:30:08 INFO: Writing file ../data/00340434188193323530.json\n"
     ]
    },
    {
     "name": "stdout",
     "output_type": "stream",
     "text": [
      "[9, 16, 23, 30]\n",
      "[7 7 7]\n"
     ]
    },
    {
     "name": "stderr",
     "output_type": "stream",
     "text": [
      "05:30:09 INFO: No events found for shipment number 00340434188193323531\n"
     ]
    },
    {
     "name": "stdout",
     "output_type": "stream",
     "text": [
      "[9, 16, 23, 30]\n",
      "[7 7 7]\n"
     ]
    },
    {
     "name": "stderr",
     "output_type": "stream",
     "text": [
      "05:30:09 INFO: No events found for shipment number 00340434188193323532\n"
     ]
    },
    {
     "name": "stdout",
     "output_type": "stream",
     "text": [
      "[9, 16, 23, 30]\n",
      "[7 7 7]\n"
     ]
    },
    {
     "name": "stderr",
     "output_type": "stream",
     "text": [
      "05:30:10 INFO: No events found for shipment number 00340434188193323533\n"
     ]
    },
    {
     "name": "stdout",
     "output_type": "stream",
     "text": [
      "[9, 16, 23, 30]\n",
      "[7 7 7]\n"
     ]
    },
    {
     "name": "stderr",
     "output_type": "stream",
     "text": [
      "05:30:11 INFO: No events found for shipment number 00340434188193323534\n"
     ]
    },
    {
     "name": "stdout",
     "output_type": "stream",
     "text": [
      "[9, 16, 23, 30]\n",
      "[7 7 7]\n"
     ]
    },
    {
     "name": "stderr",
     "output_type": "stream",
     "text": [
      "05:30:11 INFO: No events found for shipment number 00340434188193323535\n"
     ]
    },
    {
     "name": "stdout",
     "output_type": "stream",
     "text": [
      "[9, 16, 23, 30]\n",
      "[7 7 7]\n"
     ]
    },
    {
     "name": "stderr",
     "output_type": "stream",
     "text": [
      "05:30:12 INFO: No events found for shipment number 00340434188193323536\n"
     ]
    },
    {
     "name": "stdout",
     "output_type": "stream",
     "text": [
      "[9, 16, 23, 30]\n",
      "[7 7 7]\n"
     ]
    },
    {
     "name": "stderr",
     "output_type": "stream",
     "text": [
      "05:30:13 INFO: No events found for shipment number 00340434188193323537\n"
     ]
    },
    {
     "name": "stdout",
     "output_type": "stream",
     "text": [
      "[9, 16, 23, 30]\n",
      "[7 7 7]\n"
     ]
    },
    {
     "name": "stderr",
     "output_type": "stream",
     "text": [
      "05:30:13 INFO: No events found for shipment number 00340434188193323538\n"
     ]
    },
    {
     "name": "stdout",
     "output_type": "stream",
     "text": [
      "[9, 16, 23, 30]\n",
      "[7 7 7]\n"
     ]
    },
    {
     "name": "stderr",
     "output_type": "stream",
     "text": [
      "05:30:14 INFO: No events found for shipment number 00340434188193323539\n"
     ]
    },
    {
     "name": "stdout",
     "output_type": "stream",
     "text": [
      "[9, 16, 23, 30]\n",
      "[7 7 7]\n"
     ]
    },
    {
     "name": "stderr",
     "output_type": "stream",
     "text": [
      "05:30:15 INFO: No events found for shipment number 00340434188193323540\n"
     ]
    },
    {
     "name": "stdout",
     "output_type": "stream",
     "text": [
      "[9, 16, 23, 30]\n",
      "[7 7 7]\n"
     ]
    },
    {
     "name": "stderr",
     "output_type": "stream",
     "text": [
      "05:30:15 INFO: No events found for shipment number 00340434188193323541\n"
     ]
    },
    {
     "name": "stdout",
     "output_type": "stream",
     "text": [
      "[9, 16, 23, 30]\n",
      "[7 7 7]\n"
     ]
    },
    {
     "name": "stderr",
     "output_type": "stream",
     "text": [
      "05:30:16 INFO: No events found for shipment number 00340434188193323542\n"
     ]
    },
    {
     "name": "stdout",
     "output_type": "stream",
     "text": [
      "[9, 16, 23, 30]\n",
      "[7 7 7]\n"
     ]
    },
    {
     "name": "stderr",
     "output_type": "stream",
     "text": [
      "05:30:16 INFO: No events found for shipment number 00340434188193323543\n"
     ]
    },
    {
     "name": "stdout",
     "output_type": "stream",
     "text": [
      "[9, 16, 23, 30]\n",
      "[7 7 7]\n"
     ]
    },
    {
     "name": "stderr",
     "output_type": "stream",
     "text": [
      "05:30:17 INFO: No events found for shipment number 00340434188193323544\n"
     ]
    },
    {
     "name": "stdout",
     "output_type": "stream",
     "text": [
      "[9, 16, 23, 30]\n",
      "[7 7 7]\n"
     ]
    },
    {
     "name": "stderr",
     "output_type": "stream",
     "text": [
      "05:30:18 INFO: No events found for shipment number 00340434188193323545\n"
     ]
    },
    {
     "name": "stdout",
     "output_type": "stream",
     "text": [
      "[9, 16, 23, 30]\n",
      "[7 7 7]\n"
     ]
    },
    {
     "name": "stderr",
     "output_type": "stream",
     "text": [
      "05:30:18 INFO: No events found for shipment number 00340434188193323546\n"
     ]
    },
    {
     "name": "stdout",
     "output_type": "stream",
     "text": [
      "[9, 16, 23, 30]\n",
      "[7 7 7]\n"
     ]
    },
    {
     "name": "stderr",
     "output_type": "stream",
     "text": [
      "05:30:19 INFO: Writing file ../data/00340434188193323547.json\n"
     ]
    },
    {
     "name": "stdout",
     "output_type": "stream",
     "text": [
      "[9, 16, 23, 30, 47]\n",
      "[ 7  7  7 17]\n"
     ]
    },
    {
     "name": "stderr",
     "output_type": "stream",
     "text": [
      "05:30:20 INFO: No events found for shipment number 00340434188193323548\n"
     ]
    },
    {
     "name": "stdout",
     "output_type": "stream",
     "text": [
      "[9, 16, 23, 30, 47]\n",
      "[ 7  7  7 17]\n"
     ]
    },
    {
     "name": "stderr",
     "output_type": "stream",
     "text": [
      "05:30:20 INFO: No events found for shipment number 00340434188193323549\n"
     ]
    },
    {
     "name": "stdout",
     "output_type": "stream",
     "text": [
      "[9, 16, 23, 30, 47]\n",
      "[ 7  7  7 17]\n"
     ]
    },
    {
     "name": "stderr",
     "output_type": "stream",
     "text": [
      "05:30:21 INFO: No events found for shipment number 00340434188193323550\n"
     ]
    },
    {
     "name": "stdout",
     "output_type": "stream",
     "text": [
      "[9, 16, 23, 30, 47]\n",
      "[ 7  7  7 17]\n"
     ]
    },
    {
     "name": "stderr",
     "output_type": "stream",
     "text": [
      "05:30:22 INFO: No events found for shipment number 00340434188193323551\n"
     ]
    },
    {
     "name": "stdout",
     "output_type": "stream",
     "text": [
      "[9, 16, 23, 30, 47]\n",
      "[ 7  7  7 17]\n"
     ]
    },
    {
     "name": "stderr",
     "output_type": "stream",
     "text": [
      "05:30:22 INFO: No events found for shipment number 00340434188193323552\n"
     ]
    },
    {
     "name": "stdout",
     "output_type": "stream",
     "text": [
      "[9, 16, 23, 30, 47]\n",
      "[ 7  7  7 17]\n"
     ]
    },
    {
     "name": "stderr",
     "output_type": "stream",
     "text": [
      "05:30:23 INFO: No events found for shipment number 00340434188193323553\n"
     ]
    },
    {
     "name": "stdout",
     "output_type": "stream",
     "text": [
      "[9, 16, 23, 30, 47]\n",
      "[ 7  7  7 17]\n"
     ]
    },
    {
     "name": "stderr",
     "output_type": "stream",
     "text": [
      "05:30:24 INFO: Writing file ../data/00340434188193323554.json\n"
     ]
    },
    {
     "name": "stdout",
     "output_type": "stream",
     "text": [
      "[9, 16, 23, 30, 47, 54]\n",
      "[ 7  7  7 17  7]\n"
     ]
    },
    {
     "name": "stderr",
     "output_type": "stream",
     "text": [
      "05:30:24 INFO: No events found for shipment number 00340434188193323555\n"
     ]
    },
    {
     "name": "stdout",
     "output_type": "stream",
     "text": [
      "[9, 16, 23, 30, 47, 54]\n",
      "[ 7  7  7 17  7]\n"
     ]
    },
    {
     "name": "stderr",
     "output_type": "stream",
     "text": [
      "05:30:25 INFO: No events found for shipment number 00340434188193323556\n"
     ]
    },
    {
     "name": "stdout",
     "output_type": "stream",
     "text": [
      "[9, 16, 23, 30, 47, 54]\n",
      "[ 7  7  7 17  7]\n"
     ]
    },
    {
     "name": "stderr",
     "output_type": "stream",
     "text": [
      "05:30:25 INFO: No events found for shipment number 00340434188193323557\n"
     ]
    },
    {
     "name": "stdout",
     "output_type": "stream",
     "text": [
      "[9, 16, 23, 30, 47, 54]\n",
      "[ 7  7  7 17  7]\n"
     ]
    },
    {
     "name": "stderr",
     "output_type": "stream",
     "text": [
      "05:30:26 INFO: No events found for shipment number 00340434188193323558\n"
     ]
    },
    {
     "name": "stdout",
     "output_type": "stream",
     "text": [
      "[9, 16, 23, 30, 47, 54]\n",
      "[ 7  7  7 17  7]\n"
     ]
    },
    {
     "name": "stderr",
     "output_type": "stream",
     "text": [
      "05:30:27 INFO: No events found for shipment number 00340434188193323559\n"
     ]
    },
    {
     "name": "stdout",
     "output_type": "stream",
     "text": [
      "[9, 16, 23, 30, 47, 54]\n",
      "[ 7  7  7 17  7]\n"
     ]
    },
    {
     "name": "stderr",
     "output_type": "stream",
     "text": [
      "05:30:27 INFO: No events found for shipment number 00340434188193323560\n"
     ]
    },
    {
     "name": "stdout",
     "output_type": "stream",
     "text": [
      "[9, 16, 23, 30, 47, 54]\n",
      "[ 7  7  7 17  7]\n"
     ]
    },
    {
     "name": "stderr",
     "output_type": "stream",
     "text": [
      "05:30:28 INFO: Writing file ../data/00340434188193323561.json\n"
     ]
    },
    {
     "name": "stdout",
     "output_type": "stream",
     "text": [
      "[9, 16, 23, 30, 47, 54, 61]\n",
      "[ 7  7  7 17  7  7]\n"
     ]
    },
    {
     "name": "stderr",
     "output_type": "stream",
     "text": [
      "05:30:29 INFO: No events found for shipment number 00340434188193323562\n"
     ]
    },
    {
     "name": "stdout",
     "output_type": "stream",
     "text": [
      "[9, 16, 23, 30, 47, 54, 61]\n",
      "[ 7  7  7 17  7  7]\n"
     ]
    },
    {
     "name": "stderr",
     "output_type": "stream",
     "text": [
      "05:30:29 INFO: No events found for shipment number 00340434188193323563\n"
     ]
    },
    {
     "name": "stdout",
     "output_type": "stream",
     "text": [
      "[9, 16, 23, 30, 47, 54, 61]\n",
      "[ 7  7  7 17  7  7]\n"
     ]
    },
    {
     "name": "stderr",
     "output_type": "stream",
     "text": [
      "05:30:30 INFO: No events found for shipment number 00340434188193323564\n"
     ]
    },
    {
     "name": "stdout",
     "output_type": "stream",
     "text": [
      "[9, 16, 23, 30, 47, 54, 61]\n",
      "[ 7  7  7 17  7  7]\n"
     ]
    },
    {
     "name": "stderr",
     "output_type": "stream",
     "text": [
      "05:30:30 INFO: No events found for shipment number 00340434188193323565\n"
     ]
    },
    {
     "name": "stdout",
     "output_type": "stream",
     "text": [
      "[9, 16, 23, 30, 47, 54, 61]\n",
      "[ 7  7  7 17  7  7]\n"
     ]
    },
    {
     "name": "stderr",
     "output_type": "stream",
     "text": [
      "05:30:31 INFO: No events found for shipment number 00340434188193323566\n"
     ]
    },
    {
     "name": "stdout",
     "output_type": "stream",
     "text": [
      "[9, 16, 23, 30, 47, 54, 61]\n",
      "[ 7  7  7 17  7  7]\n"
     ]
    },
    {
     "name": "stderr",
     "output_type": "stream",
     "text": [
      "05:30:32 INFO: No events found for shipment number 00340434188193323567\n"
     ]
    },
    {
     "name": "stdout",
     "output_type": "stream",
     "text": [
      "[9, 16, 23, 30, 47, 54, 61]\n",
      "[ 7  7  7 17  7  7]\n"
     ]
    },
    {
     "name": "stderr",
     "output_type": "stream",
     "text": [
      "05:30:32 INFO: No events found for shipment number 00340434188193323568\n"
     ]
    },
    {
     "name": "stdout",
     "output_type": "stream",
     "text": [
      "[9, 16, 23, 30, 47, 54, 61]\n",
      "[ 7  7  7 17  7  7]\n"
     ]
    },
    {
     "name": "stderr",
     "output_type": "stream",
     "text": [
      "05:30:33 INFO: No events found for shipment number 00340434188193323569\n"
     ]
    },
    {
     "name": "stdout",
     "output_type": "stream",
     "text": [
      "[9, 16, 23, 30, 47, 54, 61]\n",
      "[ 7  7  7 17  7  7]\n"
     ]
    },
    {
     "name": "stderr",
     "output_type": "stream",
     "text": [
      "05:30:33 INFO: No events found for shipment number 00340434188193323570\n"
     ]
    },
    {
     "name": "stdout",
     "output_type": "stream",
     "text": [
      "[9, 16, 23, 30, 47, 54, 61]\n",
      "[ 7  7  7 17  7  7]\n"
     ]
    },
    {
     "name": "stderr",
     "output_type": "stream",
     "text": [
      "05:30:34 INFO: No events found for shipment number 00340434188193323571\n"
     ]
    },
    {
     "name": "stdout",
     "output_type": "stream",
     "text": [
      "[9, 16, 23, 30, 47, 54, 61]\n",
      "[ 7  7  7 17  7  7]\n"
     ]
    },
    {
     "name": "stderr",
     "output_type": "stream",
     "text": [
      "05:30:35 INFO: No events found for shipment number 00340434188193323572\n"
     ]
    },
    {
     "name": "stdout",
     "output_type": "stream",
     "text": [
      "[9, 16, 23, 30, 47, 54, 61]\n",
      "[ 7  7  7 17  7  7]\n"
     ]
    },
    {
     "name": "stderr",
     "output_type": "stream",
     "text": [
      "05:30:35 INFO: No events found for shipment number 00340434188193323573\n"
     ]
    },
    {
     "name": "stdout",
     "output_type": "stream",
     "text": [
      "[9, 16, 23, 30, 47, 54, 61]\n",
      "[ 7  7  7 17  7  7]\n"
     ]
    },
    {
     "name": "stderr",
     "output_type": "stream",
     "text": [
      "05:30:36 INFO: No events found for shipment number 00340434188193323574\n"
     ]
    },
    {
     "name": "stdout",
     "output_type": "stream",
     "text": [
      "[9, 16, 23, 30, 47, 54, 61]\n",
      "[ 7  7  7 17  7  7]\n"
     ]
    },
    {
     "name": "stderr",
     "output_type": "stream",
     "text": [
      "05:30:37 INFO: No events found for shipment number 00340434188193323575\n"
     ]
    },
    {
     "name": "stdout",
     "output_type": "stream",
     "text": [
      "[9, 16, 23, 30, 47, 54, 61]\n",
      "[ 7  7  7 17  7  7]\n"
     ]
    },
    {
     "name": "stderr",
     "output_type": "stream",
     "text": [
      "05:30:37 INFO: No events found for shipment number 00340434188193323576\n"
     ]
    },
    {
     "name": "stdout",
     "output_type": "stream",
     "text": [
      "[9, 16, 23, 30, 47, 54, 61]\n",
      "[ 7  7  7 17  7  7]\n"
     ]
    },
    {
     "name": "stderr",
     "output_type": "stream",
     "text": [
      "05:30:38 INFO: No events found for shipment number 00340434188193323577\n"
     ]
    },
    {
     "name": "stdout",
     "output_type": "stream",
     "text": [
      "[9, 16, 23, 30, 47, 54, 61]\n",
      "[ 7  7  7 17  7  7]\n"
     ]
    },
    {
     "name": "stderr",
     "output_type": "stream",
     "text": [
      "05:30:39 INFO: Writing file ../data/00340434188193323578.json\n"
     ]
    },
    {
     "name": "stdout",
     "output_type": "stream",
     "text": [
      "[9, 16, 23, 30, 47, 54, 61, 78]\n",
      "[ 7  7  7 17  7  7 17]\n"
     ]
    },
    {
     "name": "stderr",
     "output_type": "stream",
     "text": [
      "05:30:39 INFO: No events found for shipment number 00340434188193323579\n"
     ]
    },
    {
     "name": "stdout",
     "output_type": "stream",
     "text": [
      "[9, 16, 23, 30, 47, 54, 61, 78]\n",
      "[ 7  7  7 17  7  7 17]\n"
     ]
    },
    {
     "name": "stderr",
     "output_type": "stream",
     "text": [
      "05:30:40 INFO: No events found for shipment number 00340434188193323580\n"
     ]
    },
    {
     "name": "stdout",
     "output_type": "stream",
     "text": [
      "[9, 16, 23, 30, 47, 54, 61, 78]\n",
      "[ 7  7  7 17  7  7 17]\n"
     ]
    },
    {
     "name": "stderr",
     "output_type": "stream",
     "text": [
      "05:30:40 INFO: No events found for shipment number 00340434188193323581\n"
     ]
    },
    {
     "name": "stdout",
     "output_type": "stream",
     "text": [
      "[9, 16, 23, 30, 47, 54, 61, 78]\n",
      "[ 7  7  7 17  7  7 17]\n"
     ]
    },
    {
     "name": "stderr",
     "output_type": "stream",
     "text": [
      "05:30:41 INFO: No events found for shipment number 00340434188193323582\n"
     ]
    },
    {
     "name": "stdout",
     "output_type": "stream",
     "text": [
      "[9, 16, 23, 30, 47, 54, 61, 78]\n",
      "[ 7  7  7 17  7  7 17]\n"
     ]
    },
    {
     "name": "stderr",
     "output_type": "stream",
     "text": [
      "05:30:42 INFO: No events found for shipment number 00340434188193323583\n"
     ]
    },
    {
     "name": "stdout",
     "output_type": "stream",
     "text": [
      "[9, 16, 23, 30, 47, 54, 61, 78]\n",
      "[ 7  7  7 17  7  7 17]\n"
     ]
    },
    {
     "name": "stderr",
     "output_type": "stream",
     "text": [
      "05:30:42 INFO: No events found for shipment number 00340434188193323584\n"
     ]
    },
    {
     "name": "stdout",
     "output_type": "stream",
     "text": [
      "[9, 16, 23, 30, 47, 54, 61, 78]\n",
      "[ 7  7  7 17  7  7 17]\n"
     ]
    },
    {
     "name": "stderr",
     "output_type": "stream",
     "text": [
      "05:30:43 INFO: Writing file ../data/00340434188193323585.json\n"
     ]
    },
    {
     "name": "stdout",
     "output_type": "stream",
     "text": [
      "[9, 16, 23, 30, 47, 54, 61, 78, 85]\n",
      "[ 7  7  7 17  7  7 17  7]\n"
     ]
    },
    {
     "name": "stderr",
     "output_type": "stream",
     "text": [
      "05:30:44 INFO: No events found for shipment number 00340434188193323586\n"
     ]
    },
    {
     "name": "stdout",
     "output_type": "stream",
     "text": [
      "[9, 16, 23, 30, 47, 54, 61, 78, 85]\n",
      "[ 7  7  7 17  7  7 17  7]\n"
     ]
    },
    {
     "name": "stderr",
     "output_type": "stream",
     "text": [
      "05:30:44 INFO: No events found for shipment number 00340434188193323587\n"
     ]
    },
    {
     "name": "stdout",
     "output_type": "stream",
     "text": [
      "[9, 16, 23, 30, 47, 54, 61, 78, 85]\n",
      "[ 7  7  7 17  7  7 17  7]\n"
     ]
    },
    {
     "name": "stderr",
     "output_type": "stream",
     "text": [
      "05:30:45 INFO: No events found for shipment number 00340434188193323588\n"
     ]
    },
    {
     "name": "stdout",
     "output_type": "stream",
     "text": [
      "[9, 16, 23, 30, 47, 54, 61, 78, 85]\n",
      "[ 7  7  7 17  7  7 17  7]\n"
     ]
    },
    {
     "name": "stderr",
     "output_type": "stream",
     "text": [
      "05:30:46 INFO: No events found for shipment number 00340434188193323589\n"
     ]
    },
    {
     "name": "stdout",
     "output_type": "stream",
     "text": [
      "[9, 16, 23, 30, 47, 54, 61, 78, 85]\n",
      "[ 7  7  7 17  7  7 17  7]\n"
     ]
    },
    {
     "name": "stderr",
     "output_type": "stream",
     "text": [
      "05:30:46 INFO: No events found for shipment number 00340434188193323590\n"
     ]
    },
    {
     "name": "stdout",
     "output_type": "stream",
     "text": [
      "[9, 16, 23, 30, 47, 54, 61, 78, 85]\n",
      "[ 7  7  7 17  7  7 17  7]\n"
     ]
    },
    {
     "name": "stderr",
     "output_type": "stream",
     "text": [
      "05:30:47 INFO: No events found for shipment number 00340434188193323591\n"
     ]
    },
    {
     "name": "stdout",
     "output_type": "stream",
     "text": [
      "[9, 16, 23, 30, 47, 54, 61, 78, 85]\n",
      "[ 7  7  7 17  7  7 17  7]\n"
     ]
    },
    {
     "name": "stderr",
     "output_type": "stream",
     "text": [
      "05:30:48 INFO: Writing file ../data/00340434188193323592.json\n"
     ]
    },
    {
     "name": "stdout",
     "output_type": "stream",
     "text": [
      "[9, 16, 23, 30, 47, 54, 61, 78, 85, 92]\n",
      "[ 7  7  7 17  7  7 17  7  7]\n"
     ]
    },
    {
     "name": "stderr",
     "output_type": "stream",
     "text": [
      "05:30:48 INFO: No events found for shipment number 00340434188193323593\n"
     ]
    },
    {
     "name": "stdout",
     "output_type": "stream",
     "text": [
      "[9, 16, 23, 30, 47, 54, 61, 78, 85, 92]\n",
      "[ 7  7  7 17  7  7 17  7  7]\n"
     ]
    },
    {
     "name": "stderr",
     "output_type": "stream",
     "text": [
      "05:30:49 INFO: No events found for shipment number 00340434188193323594\n"
     ]
    },
    {
     "name": "stdout",
     "output_type": "stream",
     "text": [
      "[9, 16, 23, 30, 47, 54, 61, 78, 85, 92]\n",
      "[ 7  7  7 17  7  7 17  7  7]\n"
     ]
    },
    {
     "name": "stderr",
     "output_type": "stream",
     "text": [
      "05:30:50 INFO: No events found for shipment number 00340434188193323595\n"
     ]
    },
    {
     "name": "stdout",
     "output_type": "stream",
     "text": [
      "[9, 16, 23, 30, 47, 54, 61, 78, 85, 92]\n",
      "[ 7  7  7 17  7  7 17  7  7]\n"
     ]
    },
    {
     "name": "stderr",
     "output_type": "stream",
     "text": [
      "05:30:50 INFO: No events found for shipment number 00340434188193323596\n"
     ]
    },
    {
     "name": "stdout",
     "output_type": "stream",
     "text": [
      "[9, 16, 23, 30, 47, 54, 61, 78, 85, 92]\n",
      "[ 7  7  7 17  7  7 17  7  7]\n"
     ]
    },
    {
     "name": "stderr",
     "output_type": "stream",
     "text": [
      "05:30:51 INFO: No events found for shipment number 00340434188193323597\n"
     ]
    },
    {
     "name": "stdout",
     "output_type": "stream",
     "text": [
      "[9, 16, 23, 30, 47, 54, 61, 78, 85, 92]\n",
      "[ 7  7  7 17  7  7 17  7  7]\n"
     ]
    },
    {
     "name": "stderr",
     "output_type": "stream",
     "text": [
      "05:30:52 INFO: No events found for shipment number 00340434188193323598\n"
     ]
    },
    {
     "name": "stdout",
     "output_type": "stream",
     "text": [
      "[9, 16, 23, 30, 47, 54, 61, 78, 85, 92]\n",
      "[ 7  7  7 17  7  7 17  7  7]\n"
     ]
    },
    {
     "name": "stderr",
     "output_type": "stream",
     "text": [
      "05:30:52 INFO: No events found for shipment number 00340434188193323599\n"
     ]
    },
    {
     "name": "stdout",
     "output_type": "stream",
     "text": [
      "[9, 16, 23, 30, 47, 54, 61, 78, 85, 92]\n",
      "[ 7  7  7 17  7  7 17  7  7]\n"
     ]
    },
    {
     "name": "stderr",
     "output_type": "stream",
     "text": [
      "05:30:53 INFO: No events found for shipment number 00340434188193323600\n"
     ]
    },
    {
     "name": "stdout",
     "output_type": "stream",
     "text": [
      "[9, 16, 23, 30, 47, 54, 61, 78, 85, 92]\n",
      "[ 7  7  7 17  7  7 17  7  7]\n"
     ]
    },
    {
     "name": "stderr",
     "output_type": "stream",
     "text": [
      "05:30:54 INFO: No events found for shipment number 00340434188193323601\n"
     ]
    },
    {
     "name": "stdout",
     "output_type": "stream",
     "text": [
      "[9, 16, 23, 30, 47, 54, 61, 78, 85, 92]\n",
      "[ 7  7  7 17  7  7 17  7  7]\n"
     ]
    },
    {
     "name": "stderr",
     "output_type": "stream",
     "text": [
      "05:30:54 INFO: No events found for shipment number 00340434188193323602\n"
     ]
    },
    {
     "name": "stdout",
     "output_type": "stream",
     "text": [
      "[9, 16, 23, 30, 47, 54, 61, 78, 85, 92]\n",
      "[ 7  7  7 17  7  7 17  7  7]\n"
     ]
    },
    {
     "name": "stderr",
     "output_type": "stream",
     "text": [
      "05:30:55 INFO: No events found for shipment number 00340434188193323603\n"
     ]
    },
    {
     "name": "stdout",
     "output_type": "stream",
     "text": [
      "[9, 16, 23, 30, 47, 54, 61, 78, 85, 92]\n",
      "[ 7  7  7 17  7  7 17  7  7]\n"
     ]
    },
    {
     "name": "stderr",
     "output_type": "stream",
     "text": [
      "05:30:55 INFO: No events found for shipment number 00340434188193323604\n"
     ]
    },
    {
     "name": "stdout",
     "output_type": "stream",
     "text": [
      "[9, 16, 23, 30, 47, 54, 61, 78, 85, 92]\n",
      "[ 7  7  7 17  7  7 17  7  7]\n"
     ]
    },
    {
     "name": "stderr",
     "output_type": "stream",
     "text": [
      "05:30:56 INFO: No events found for shipment number 00340434188193323605\n"
     ]
    },
    {
     "name": "stdout",
     "output_type": "stream",
     "text": [
      "[9, 16, 23, 30, 47, 54, 61, 78, 85, 92]\n",
      "[ 7  7  7 17  7  7 17  7  7]\n"
     ]
    },
    {
     "name": "stderr",
     "output_type": "stream",
     "text": [
      "05:30:57 INFO: No events found for shipment number 00340434188193323606\n"
     ]
    },
    {
     "name": "stdout",
     "output_type": "stream",
     "text": [
      "[9, 16, 23, 30, 47, 54, 61, 78, 85, 92]\n",
      "[ 7  7  7 17  7  7 17  7  7]\n"
     ]
    },
    {
     "name": "stderr",
     "output_type": "stream",
     "text": [
      "05:30:57 INFO: No events found for shipment number 00340434188193323607\n"
     ]
    },
    {
     "name": "stdout",
     "output_type": "stream",
     "text": [
      "[9, 16, 23, 30, 47, 54, 61, 78, 85, 92]\n",
      "[ 7  7  7 17  7  7 17  7  7]\n"
     ]
    },
    {
     "name": "stderr",
     "output_type": "stream",
     "text": [
      "05:30:58 INFO: Writing file ../data/00340434188193323608.json\n"
     ]
    },
    {
     "name": "stdout",
     "output_type": "stream",
     "text": [
      "[9, 16, 23, 30, 47, 54, 61, 78, 85, 92, 108]\n",
      "[ 7  7  7 17  7  7 17  7  7 16]\n"
     ]
    },
    {
     "name": "stderr",
     "output_type": "stream",
     "text": [
      "05:30:59 INFO: No events found for shipment number 00340434188193323609\n"
     ]
    },
    {
     "name": "stdout",
     "output_type": "stream",
     "text": [
      "[9, 16, 23, 30, 47, 54, 61, 78, 85, 92, 108]\n",
      "[ 7  7  7 17  7  7 17  7  7 16]\n"
     ]
    },
    {
     "name": "stderr",
     "output_type": "stream",
     "text": [
      "05:30:59 INFO: No events found for shipment number 00340434188193323610\n"
     ]
    },
    {
     "name": "stdout",
     "output_type": "stream",
     "text": [
      "[9, 16, 23, 30, 47, 54, 61, 78, 85, 92, 108]\n",
      "[ 7  7  7 17  7  7 17  7  7 16]\n"
     ]
    },
    {
     "name": "stderr",
     "output_type": "stream",
     "text": [
      "05:31:00 INFO: No events found for shipment number 00340434188193323611\n"
     ]
    },
    {
     "name": "stdout",
     "output_type": "stream",
     "text": [
      "[9, 16, 23, 30, 47, 54, 61, 78, 85, 92, 108]\n",
      "[ 7  7  7 17  7  7 17  7  7 16]\n"
     ]
    },
    {
     "name": "stderr",
     "output_type": "stream",
     "text": [
      "05:31:00 INFO: No events found for shipment number 00340434188193323612\n"
     ]
    },
    {
     "name": "stdout",
     "output_type": "stream",
     "text": [
      "[9, 16, 23, 30, 47, 54, 61, 78, 85, 92, 108]\n",
      "[ 7  7  7 17  7  7 17  7  7 16]\n"
     ]
    },
    {
     "name": "stderr",
     "output_type": "stream",
     "text": [
      "05:31:01 INFO: No events found for shipment number 00340434188193323613\n"
     ]
    },
    {
     "name": "stdout",
     "output_type": "stream",
     "text": [
      "[9, 16, 23, 30, 47, 54, 61, 78, 85, 92, 108]\n",
      "[ 7  7  7 17  7  7 17  7  7 16]\n"
     ]
    },
    {
     "name": "stderr",
     "output_type": "stream",
     "text": [
      "05:31:02 INFO: No events found for shipment number 00340434188193323614\n"
     ]
    },
    {
     "name": "stdout",
     "output_type": "stream",
     "text": [
      "[9, 16, 23, 30, 47, 54, 61, 78, 85, 92, 108]\n",
      "[ 7  7  7 17  7  7 17  7  7 16]\n"
     ]
    },
    {
     "name": "stderr",
     "output_type": "stream",
     "text": [
      "05:31:02 INFO: Writing file ../data/00340434188193323615.json\n"
     ]
    },
    {
     "name": "stdout",
     "output_type": "stream",
     "text": [
      "[9, 16, 23, 30, 47, 54, 61, 78, 85, 92, 108, 115]\n",
      "[ 7  7  7 17  7  7 17  7  7 16  7]\n"
     ]
    },
    {
     "name": "stderr",
     "output_type": "stream",
     "text": [
      "05:31:03 INFO: No events found for shipment number 00340434188193323616\n"
     ]
    },
    {
     "name": "stdout",
     "output_type": "stream",
     "text": [
      "[9, 16, 23, 30, 47, 54, 61, 78, 85, 92, 108, 115]\n",
      "[ 7  7  7 17  7  7 17  7  7 16  7]\n"
     ]
    },
    {
     "name": "stderr",
     "output_type": "stream",
     "text": [
      "05:31:04 INFO: No events found for shipment number 00340434188193323617\n"
     ]
    },
    {
     "name": "stdout",
     "output_type": "stream",
     "text": [
      "[9, 16, 23, 30, 47, 54, 61, 78, 85, 92, 108, 115]\n",
      "[ 7  7  7 17  7  7 17  7  7 16  7]\n"
     ]
    },
    {
     "name": "stderr",
     "output_type": "stream",
     "text": [
      "05:31:04 INFO: No events found for shipment number 00340434188193323618\n"
     ]
    },
    {
     "name": "stdout",
     "output_type": "stream",
     "text": [
      "[9, 16, 23, 30, 47, 54, 61, 78, 85, 92, 108, 115]\n",
      "[ 7  7  7 17  7  7 17  7  7 16  7]\n"
     ]
    },
    {
     "name": "stderr",
     "output_type": "stream",
     "text": [
      "05:31:05 INFO: No events found for shipment number 00340434188193323619\n"
     ]
    },
    {
     "name": "stdout",
     "output_type": "stream",
     "text": [
      "[9, 16, 23, 30, 47, 54, 61, 78, 85, 92, 108, 115]\n",
      "[ 7  7  7 17  7  7 17  7  7 16  7]\n"
     ]
    },
    {
     "name": "stderr",
     "output_type": "stream",
     "text": [
      "05:31:05 INFO: No events found for shipment number 00340434188193323620\n"
     ]
    },
    {
     "name": "stdout",
     "output_type": "stream",
     "text": [
      "[9, 16, 23, 30, 47, 54, 61, 78, 85, 92, 108, 115]\n",
      "[ 7  7  7 17  7  7 17  7  7 16  7]\n"
     ]
    },
    {
     "name": "stderr",
     "output_type": "stream",
     "text": [
      "05:31:06 INFO: No events found for shipment number 00340434188193323621\n"
     ]
    },
    {
     "name": "stdout",
     "output_type": "stream",
     "text": [
      "[9, 16, 23, 30, 47, 54, 61, 78, 85, 92, 108, 115]\n",
      "[ 7  7  7 17  7  7 17  7  7 16  7]\n"
     ]
    },
    {
     "name": "stderr",
     "output_type": "stream",
     "text": [
      "05:31:07 INFO: Writing file ../data/00340434188193323622.json\n"
     ]
    },
    {
     "name": "stdout",
     "output_type": "stream",
     "text": [
      "[9, 16, 23, 30, 47, 54, 61, 78, 85, 92, 108, 115, 122]\n",
      "[ 7  7  7 17  7  7 17  7  7 16  7  7]\n"
     ]
    },
    {
     "name": "stderr",
     "output_type": "stream",
     "text": [
      "05:31:07 INFO: No events found for shipment number 00340434188193323623\n"
     ]
    },
    {
     "name": "stdout",
     "output_type": "stream",
     "text": [
      "[9, 16, 23, 30, 47, 54, 61, 78, 85, 92, 108, 115, 122]\n",
      "[ 7  7  7 17  7  7 17  7  7 16  7  7]\n"
     ]
    },
    {
     "name": "stderr",
     "output_type": "stream",
     "text": [
      "05:31:08 INFO: No events found for shipment number 00340434188193323624\n"
     ]
    },
    {
     "name": "stdout",
     "output_type": "stream",
     "text": [
      "[9, 16, 23, 30, 47, 54, 61, 78, 85, 92, 108, 115, 122]\n",
      "[ 7  7  7 17  7  7 17  7  7 16  7  7]\n"
     ]
    },
    {
     "name": "stderr",
     "output_type": "stream",
     "text": [
      "05:31:09 INFO: No events found for shipment number 00340434188193323625\n"
     ]
    },
    {
     "name": "stdout",
     "output_type": "stream",
     "text": [
      "[9, 16, 23, 30, 47, 54, 61, 78, 85, 92, 108, 115, 122]\n",
      "[ 7  7  7 17  7  7 17  7  7 16  7  7]\n"
     ]
    },
    {
     "name": "stderr",
     "output_type": "stream",
     "text": [
      "05:31:09 INFO: No events found for shipment number 00340434188193323626\n"
     ]
    },
    {
     "name": "stdout",
     "output_type": "stream",
     "text": [
      "[9, 16, 23, 30, 47, 54, 61, 78, 85, 92, 108, 115, 122]\n",
      "[ 7  7  7 17  7  7 17  7  7 16  7  7]\n"
     ]
    },
    {
     "name": "stderr",
     "output_type": "stream",
     "text": [
      "05:31:10 INFO: No events found for shipment number 00340434188193323627\n"
     ]
    },
    {
     "name": "stdout",
     "output_type": "stream",
     "text": [
      "[9, 16, 23, 30, 47, 54, 61, 78, 85, 92, 108, 115, 122]\n",
      "[ 7  7  7 17  7  7 17  7  7 16  7  7]\n"
     ]
    },
    {
     "name": "stderr",
     "output_type": "stream",
     "text": [
      "05:31:11 INFO: No events found for shipment number 00340434188193323628\n"
     ]
    },
    {
     "name": "stdout",
     "output_type": "stream",
     "text": [
      "[9, 16, 23, 30, 47, 54, 61, 78, 85, 92, 108, 115, 122]\n",
      "[ 7  7  7 17  7  7 17  7  7 16  7  7]\n"
     ]
    },
    {
     "name": "stderr",
     "output_type": "stream",
     "text": [
      "05:31:11 INFO: No events found for shipment number 00340434188193323629\n"
     ]
    },
    {
     "name": "stdout",
     "output_type": "stream",
     "text": [
      "[9, 16, 23, 30, 47, 54, 61, 78, 85, 92, 108, 115, 122]\n",
      "[ 7  7  7 17  7  7 17  7  7 16  7  7]\n"
     ]
    },
    {
     "name": "stderr",
     "output_type": "stream",
     "text": [
      "05:31:12 INFO: No events found for shipment number 00340434188193323630\n"
     ]
    },
    {
     "name": "stdout",
     "output_type": "stream",
     "text": [
      "[9, 16, 23, 30, 47, 54, 61, 78, 85, 92, 108, 115, 122]\n",
      "[ 7  7  7 17  7  7 17  7  7 16  7  7]\n"
     ]
    },
    {
     "name": "stderr",
     "output_type": "stream",
     "text": [
      "05:31:13 INFO: No events found for shipment number 00340434188193323631\n"
     ]
    },
    {
     "name": "stdout",
     "output_type": "stream",
     "text": [
      "[9, 16, 23, 30, 47, 54, 61, 78, 85, 92, 108, 115, 122]\n",
      "[ 7  7  7 17  7  7 17  7  7 16  7  7]\n"
     ]
    },
    {
     "name": "stderr",
     "output_type": "stream",
     "text": [
      "05:31:13 INFO: No events found for shipment number 00340434188193323632\n"
     ]
    },
    {
     "name": "stdout",
     "output_type": "stream",
     "text": [
      "[9, 16, 23, 30, 47, 54, 61, 78, 85, 92, 108, 115, 122]\n",
      "[ 7  7  7 17  7  7 17  7  7 16  7  7]\n"
     ]
    },
    {
     "name": "stderr",
     "output_type": "stream",
     "text": [
      "05:31:14 INFO: No events found for shipment number 00340434188193323633\n"
     ]
    },
    {
     "name": "stdout",
     "output_type": "stream",
     "text": [
      "[9, 16, 23, 30, 47, 54, 61, 78, 85, 92, 108, 115, 122]\n",
      "[ 7  7  7 17  7  7 17  7  7 16  7  7]\n"
     ]
    },
    {
     "name": "stderr",
     "output_type": "stream",
     "text": [
      "05:31:15 INFO: No events found for shipment number 00340434188193323634\n"
     ]
    },
    {
     "name": "stdout",
     "output_type": "stream",
     "text": [
      "[9, 16, 23, 30, 47, 54, 61, 78, 85, 92, 108, 115, 122]\n",
      "[ 7  7  7 17  7  7 17  7  7 16  7  7]\n"
     ]
    },
    {
     "name": "stderr",
     "output_type": "stream",
     "text": [
      "05:31:15 INFO: No events found for shipment number 00340434188193323635\n"
     ]
    },
    {
     "name": "stdout",
     "output_type": "stream",
     "text": [
      "[9, 16, 23, 30, 47, 54, 61, 78, 85, 92, 108, 115, 122]\n",
      "[ 7  7  7 17  7  7 17  7  7 16  7  7]\n"
     ]
    },
    {
     "name": "stderr",
     "output_type": "stream",
     "text": [
      "05:31:16 INFO: No events found for shipment number 00340434188193323636\n"
     ]
    },
    {
     "name": "stdout",
     "output_type": "stream",
     "text": [
      "[9, 16, 23, 30, 47, 54, 61, 78, 85, 92, 108, 115, 122]\n",
      "[ 7  7  7 17  7  7 17  7  7 16  7  7]\n"
     ]
    },
    {
     "name": "stderr",
     "output_type": "stream",
     "text": [
      "05:31:16 INFO: No events found for shipment number 00340434188193323637\n"
     ]
    },
    {
     "name": "stdout",
     "output_type": "stream",
     "text": [
      "[9, 16, 23, 30, 47, 54, 61, 78, 85, 92, 108, 115, 122]\n",
      "[ 7  7  7 17  7  7 17  7  7 16  7  7]\n"
     ]
    },
    {
     "name": "stderr",
     "output_type": "stream",
     "text": [
      "05:31:17 INFO: No events found for shipment number 00340434188193323638\n"
     ]
    },
    {
     "name": "stdout",
     "output_type": "stream",
     "text": [
      "[9, 16, 23, 30, 47, 54, 61, 78, 85, 92, 108, 115, 122]\n",
      "[ 7  7  7 17  7  7 17  7  7 16  7  7]\n"
     ]
    },
    {
     "name": "stderr",
     "output_type": "stream",
     "text": [
      "05:31:18 INFO: Writing file ../data/00340434188193323639.json\n"
     ]
    },
    {
     "name": "stdout",
     "output_type": "stream",
     "text": [
      "[9, 16, 23, 30, 47, 54, 61, 78, 85, 92, 108, 115, 122, 139]\n",
      "[ 7  7  7 17  7  7 17  7  7 16  7  7 17]\n"
     ]
    },
    {
     "name": "stderr",
     "output_type": "stream",
     "text": [
      "05:31:18 INFO: No events found for shipment number 00340434188193323640\n"
     ]
    },
    {
     "name": "stdout",
     "output_type": "stream",
     "text": [
      "[9, 16, 23, 30, 47, 54, 61, 78, 85, 92, 108, 115, 122, 139]\n",
      "[ 7  7  7 17  7  7 17  7  7 16  7  7 17]\n"
     ]
    },
    {
     "name": "stderr",
     "output_type": "stream",
     "text": [
      "05:31:19 INFO: No events found for shipment number 00340434188193323641\n"
     ]
    },
    {
     "name": "stdout",
     "output_type": "stream",
     "text": [
      "[9, 16, 23, 30, 47, 54, 61, 78, 85, 92, 108, 115, 122, 139]\n",
      "[ 7  7  7 17  7  7 17  7  7 16  7  7 17]\n"
     ]
    },
    {
     "name": "stderr",
     "output_type": "stream",
     "text": [
      "05:31:20 INFO: No events found for shipment number 00340434188193323642\n"
     ]
    },
    {
     "name": "stdout",
     "output_type": "stream",
     "text": [
      "[9, 16, 23, 30, 47, 54, 61, 78, 85, 92, 108, 115, 122, 139]\n",
      "[ 7  7  7 17  7  7 17  7  7 16  7  7 17]\n"
     ]
    },
    {
     "name": "stderr",
     "output_type": "stream",
     "text": [
      "05:31:20 INFO: No events found for shipment number 00340434188193323643\n"
     ]
    },
    {
     "name": "stdout",
     "output_type": "stream",
     "text": [
      "[9, 16, 23, 30, 47, 54, 61, 78, 85, 92, 108, 115, 122, 139]\n",
      "[ 7  7  7 17  7  7 17  7  7 16  7  7 17]\n"
     ]
    },
    {
     "name": "stderr",
     "output_type": "stream",
     "text": [
      "05:31:21 INFO: No events found for shipment number 00340434188193323644\n"
     ]
    },
    {
     "name": "stdout",
     "output_type": "stream",
     "text": [
      "[9, 16, 23, 30, 47, 54, 61, 78, 85, 92, 108, 115, 122, 139]\n",
      "[ 7  7  7 17  7  7 17  7  7 16  7  7 17]\n"
     ]
    },
    {
     "name": "stderr",
     "output_type": "stream",
     "text": [
      "05:31:22 INFO: No events found for shipment number 00340434188193323645\n"
     ]
    },
    {
     "name": "stdout",
     "output_type": "stream",
     "text": [
      "[9, 16, 23, 30, 47, 54, 61, 78, 85, 92, 108, 115, 122, 139]\n",
      "[ 7  7  7 17  7  7 17  7  7 16  7  7 17]\n"
     ]
    },
    {
     "name": "stderr",
     "output_type": "stream",
     "text": [
      "05:31:22 INFO: Writing file ../data/00340434188193323646.json\n"
     ]
    },
    {
     "name": "stdout",
     "output_type": "stream",
     "text": [
      "[9, 16, 23, 30, 47, 54, 61, 78, 85, 92, 108, 115, 122, 139, 146]\n",
      "[ 7  7  7 17  7  7 17  7  7 16  7  7 17  7]\n"
     ]
    },
    {
     "name": "stderr",
     "output_type": "stream",
     "text": [
      "05:31:23 INFO: No events found for shipment number 00340434188193323647\n"
     ]
    },
    {
     "name": "stdout",
     "output_type": "stream",
     "text": [
      "[9, 16, 23, 30, 47, 54, 61, 78, 85, 92, 108, 115, 122, 139, 146]\n",
      "[ 7  7  7 17  7  7 17  7  7 16  7  7 17  7]\n"
     ]
    },
    {
     "name": "stderr",
     "output_type": "stream",
     "text": [
      "05:31:24 INFO: No events found for shipment number 00340434188193323648\n"
     ]
    },
    {
     "name": "stdout",
     "output_type": "stream",
     "text": [
      "[9, 16, 23, 30, 47, 54, 61, 78, 85, 92, 108, 115, 122, 139, 146]\n",
      "[ 7  7  7 17  7  7 17  7  7 16  7  7 17  7]\n"
     ]
    },
    {
     "name": "stderr",
     "output_type": "stream",
     "text": [
      "05:31:24 INFO: No events found for shipment number 00340434188193323649\n"
     ]
    },
    {
     "name": "stdout",
     "output_type": "stream",
     "text": [
      "[9, 16, 23, 30, 47, 54, 61, 78, 85, 92, 108, 115, 122, 139, 146]\n",
      "[ 7  7  7 17  7  7 17  7  7 16  7  7 17  7]\n"
     ]
    },
    {
     "name": "stderr",
     "output_type": "stream",
     "text": [
      "05:31:25 INFO: No events found for shipment number 00340434188193323650\n"
     ]
    },
    {
     "name": "stdout",
     "output_type": "stream",
     "text": [
      "[9, 16, 23, 30, 47, 54, 61, 78, 85, 92, 108, 115, 122, 139, 146]\n",
      "[ 7  7  7 17  7  7 17  7  7 16  7  7 17  7]\n"
     ]
    },
    {
     "name": "stderr",
     "output_type": "stream",
     "text": [
      "05:31:25 INFO: No events found for shipment number 00340434188193323651\n"
     ]
    },
    {
     "name": "stdout",
     "output_type": "stream",
     "text": [
      "[9, 16, 23, 30, 47, 54, 61, 78, 85, 92, 108, 115, 122, 139, 146]\n",
      "[ 7  7  7 17  7  7 17  7  7 16  7  7 17  7]\n"
     ]
    },
    {
     "name": "stderr",
     "output_type": "stream",
     "text": [
      "05:31:26 INFO: No events found for shipment number 00340434188193323652\n"
     ]
    },
    {
     "name": "stdout",
     "output_type": "stream",
     "text": [
      "[9, 16, 23, 30, 47, 54, 61, 78, 85, 92, 108, 115, 122, 139, 146]\n",
      "[ 7  7  7 17  7  7 17  7  7 16  7  7 17  7]\n"
     ]
    },
    {
     "name": "stderr",
     "output_type": "stream",
     "text": [
      "05:31:27 INFO: Writing file ../data/00340434188193323653.json\n"
     ]
    },
    {
     "name": "stdout",
     "output_type": "stream",
     "text": [
      "[9, 16, 23, 30, 47, 54, 61, 78, 85, 92, 108, 115, 122, 139, 146, 153]\n",
      "[ 7  7  7 17  7  7 17  7  7 16  7  7 17  7  7]\n"
     ]
    },
    {
     "name": "stderr",
     "output_type": "stream",
     "text": [
      "05:31:27 INFO: No events found for shipment number 00340434188193323654\n"
     ]
    },
    {
     "name": "stdout",
     "output_type": "stream",
     "text": [
      "[9, 16, 23, 30, 47, 54, 61, 78, 85, 92, 108, 115, 122, 139, 146, 153]\n",
      "[ 7  7  7 17  7  7 17  7  7 16  7  7 17  7  7]\n"
     ]
    },
    {
     "name": "stderr",
     "output_type": "stream",
     "text": [
      "05:31:28 INFO: No events found for shipment number 00340434188193323655\n"
     ]
    },
    {
     "name": "stdout",
     "output_type": "stream",
     "text": [
      "[9, 16, 23, 30, 47, 54, 61, 78, 85, 92, 108, 115, 122, 139, 146, 153]\n",
      "[ 7  7  7 17  7  7 17  7  7 16  7  7 17  7  7]\n"
     ]
    },
    {
     "name": "stderr",
     "output_type": "stream",
     "text": [
      "05:31:29 INFO: No events found for shipment number 00340434188193323656\n"
     ]
    },
    {
     "name": "stdout",
     "output_type": "stream",
     "text": [
      "[9, 16, 23, 30, 47, 54, 61, 78, 85, 92, 108, 115, 122, 139, 146, 153]\n",
      "[ 7  7  7 17  7  7 17  7  7 16  7  7 17  7  7]\n"
     ]
    },
    {
     "name": "stderr",
     "output_type": "stream",
     "text": [
      "05:31:29 INFO: No events found for shipment number 00340434188193323657\n"
     ]
    },
    {
     "name": "stdout",
     "output_type": "stream",
     "text": [
      "[9, 16, 23, 30, 47, 54, 61, 78, 85, 92, 108, 115, 122, 139, 146, 153]\n",
      "[ 7  7  7 17  7  7 17  7  7 16  7  7 17  7  7]\n"
     ]
    },
    {
     "name": "stderr",
     "output_type": "stream",
     "text": [
      "05:31:30 INFO: No events found for shipment number 00340434188193323658\n"
     ]
    },
    {
     "name": "stdout",
     "output_type": "stream",
     "text": [
      "[9, 16, 23, 30, 47, 54, 61, 78, 85, 92, 108, 115, 122, 139, 146, 153]\n",
      "[ 7  7  7 17  7  7 17  7  7 16  7  7 17  7  7]\n"
     ]
    },
    {
     "name": "stderr",
     "output_type": "stream",
     "text": [
      "05:31:30 INFO: No events found for shipment number 00340434188193323659\n"
     ]
    },
    {
     "name": "stdout",
     "output_type": "stream",
     "text": [
      "[9, 16, 23, 30, 47, 54, 61, 78, 85, 92, 108, 115, 122, 139, 146, 153]\n",
      "[ 7  7  7 17  7  7 17  7  7 16  7  7 17  7  7]\n"
     ]
    },
    {
     "name": "stderr",
     "output_type": "stream",
     "text": [
      "05:31:31 INFO: Writing file ../data/00340434188193323660.json\n"
     ]
    },
    {
     "name": "stdout",
     "output_type": "stream",
     "text": [
      "[9, 16, 23, 30, 47, 54, 61, 78, 85, 92, 108, 115, 122, 139, 146, 153, 160]\n",
      "[ 7  7  7 17  7  7 17  7  7 16  7  7 17  7  7  7]\n"
     ]
    },
    {
     "name": "stderr",
     "output_type": "stream",
     "text": [
      "05:31:32 INFO: No events found for shipment number 00340434188193323661\n"
     ]
    },
    {
     "name": "stdout",
     "output_type": "stream",
     "text": [
      "[9, 16, 23, 30, 47, 54, 61, 78, 85, 92, 108, 115, 122, 139, 146, 153, 160]\n",
      "[ 7  7  7 17  7  7 17  7  7 16  7  7 17  7  7  7]\n"
     ]
    },
    {
     "name": "stderr",
     "output_type": "stream",
     "text": [
      "05:31:32 INFO: No events found for shipment number 00340434188193323662\n"
     ]
    },
    {
     "name": "stdout",
     "output_type": "stream",
     "text": [
      "[9, 16, 23, 30, 47, 54, 61, 78, 85, 92, 108, 115, 122, 139, 146, 153, 160]\n",
      "[ 7  7  7 17  7  7 17  7  7 16  7  7 17  7  7  7]\n"
     ]
    },
    {
     "name": "stderr",
     "output_type": "stream",
     "text": [
      "05:31:33 INFO: No events found for shipment number 00340434188193323663\n"
     ]
    },
    {
     "name": "stdout",
     "output_type": "stream",
     "text": [
      "[9, 16, 23, 30, 47, 54, 61, 78, 85, 92, 108, 115, 122, 139, 146, 153, 160]\n",
      "[ 7  7  7 17  7  7 17  7  7 16  7  7 17  7  7  7]\n"
     ]
    },
    {
     "name": "stderr",
     "output_type": "stream",
     "text": [
      "05:31:34 INFO: No events found for shipment number 00340434188193323664\n"
     ]
    },
    {
     "name": "stdout",
     "output_type": "stream",
     "text": [
      "[9, 16, 23, 30, 47, 54, 61, 78, 85, 92, 108, 115, 122, 139, 146, 153, 160]\n",
      "[ 7  7  7 17  7  7 17  7  7 16  7  7 17  7  7  7]\n"
     ]
    },
    {
     "name": "stderr",
     "output_type": "stream",
     "text": [
      "05:31:34 INFO: No events found for shipment number 00340434188193323665\n"
     ]
    },
    {
     "name": "stdout",
     "output_type": "stream",
     "text": [
      "[9, 16, 23, 30, 47, 54, 61, 78, 85, 92, 108, 115, 122, 139, 146, 153, 160]\n",
      "[ 7  7  7 17  7  7 17  7  7 16  7  7 17  7  7  7]\n"
     ]
    },
    {
     "name": "stderr",
     "output_type": "stream",
     "text": [
      "05:31:35 INFO: No events found for shipment number 00340434188193323666\n"
     ]
    },
    {
     "name": "stdout",
     "output_type": "stream",
     "text": [
      "[9, 16, 23, 30, 47, 54, 61, 78, 85, 92, 108, 115, 122, 139, 146, 153, 160]\n",
      "[ 7  7  7 17  7  7 17  7  7 16  7  7 17  7  7  7]\n"
     ]
    },
    {
     "name": "stderr",
     "output_type": "stream",
     "text": [
      "05:31:36 INFO: No events found for shipment number 00340434188193323667\n"
     ]
    },
    {
     "name": "stdout",
     "output_type": "stream",
     "text": [
      "[9, 16, 23, 30, 47, 54, 61, 78, 85, 92, 108, 115, 122, 139, 146, 153, 160]\n",
      "[ 7  7  7 17  7  7 17  7  7 16  7  7 17  7  7  7]\n"
     ]
    },
    {
     "name": "stderr",
     "output_type": "stream",
     "text": [
      "05:31:36 INFO: No events found for shipment number 00340434188193323668\n"
     ]
    },
    {
     "name": "stdout",
     "output_type": "stream",
     "text": [
      "[9, 16, 23, 30, 47, 54, 61, 78, 85, 92, 108, 115, 122, 139, 146, 153, 160]\n",
      "[ 7  7  7 17  7  7 17  7  7 16  7  7 17  7  7  7]\n"
     ]
    },
    {
     "name": "stderr",
     "output_type": "stream",
     "text": [
      "05:31:37 INFO: No events found for shipment number 00340434188193323669\n"
     ]
    },
    {
     "name": "stdout",
     "output_type": "stream",
     "text": [
      "[9, 16, 23, 30, 47, 54, 61, 78, 85, 92, 108, 115, 122, 139, 146, 153, 160]\n",
      "[ 7  7  7 17  7  7 17  7  7 16  7  7 17  7  7  7]\n"
     ]
    },
    {
     "name": "stderr",
     "output_type": "stream",
     "text": [
      "05:31:37 INFO: No events found for shipment number 00340434188193323670\n"
     ]
    },
    {
     "name": "stdout",
     "output_type": "stream",
     "text": [
      "[9, 16, 23, 30, 47, 54, 61, 78, 85, 92, 108, 115, 122, 139, 146, 153, 160]\n",
      "[ 7  7  7 17  7  7 17  7  7 16  7  7 17  7  7  7]\n"
     ]
    },
    {
     "name": "stderr",
     "output_type": "stream",
     "text": [
      "05:31:38 INFO: No events found for shipment number 00340434188193323671\n"
     ]
    },
    {
     "name": "stdout",
     "output_type": "stream",
     "text": [
      "[9, 16, 23, 30, 47, 54, 61, 78, 85, 92, 108, 115, 122, 139, 146, 153, 160]\n",
      "[ 7  7  7 17  7  7 17  7  7 16  7  7 17  7  7  7]\n"
     ]
    },
    {
     "name": "stderr",
     "output_type": "stream",
     "text": [
      "05:31:39 INFO: No events found for shipment number 00340434188193323672\n"
     ]
    },
    {
     "name": "stdout",
     "output_type": "stream",
     "text": [
      "[9, 16, 23, 30, 47, 54, 61, 78, 85, 92, 108, 115, 122, 139, 146, 153, 160]\n",
      "[ 7  7  7 17  7  7 17  7  7 16  7  7 17  7  7  7]\n"
     ]
    },
    {
     "name": "stderr",
     "output_type": "stream",
     "text": [
      "05:31:39 INFO: No events found for shipment number 00340434188193323673\n"
     ]
    },
    {
     "name": "stdout",
     "output_type": "stream",
     "text": [
      "[9, 16, 23, 30, 47, 54, 61, 78, 85, 92, 108, 115, 122, 139, 146, 153, 160]\n",
      "[ 7  7  7 17  7  7 17  7  7 16  7  7 17  7  7  7]\n"
     ]
    },
    {
     "name": "stderr",
     "output_type": "stream",
     "text": [
      "05:31:40 INFO: No events found for shipment number 00340434188193323674\n"
     ]
    },
    {
     "name": "stdout",
     "output_type": "stream",
     "text": [
      "[9, 16, 23, 30, 47, 54, 61, 78, 85, 92, 108, 115, 122, 139, 146, 153, 160]\n",
      "[ 7  7  7 17  7  7 17  7  7 16  7  7 17  7  7  7]\n"
     ]
    },
    {
     "name": "stderr",
     "output_type": "stream",
     "text": [
      "05:31:41 INFO: No events found for shipment number 00340434188193323675\n"
     ]
    },
    {
     "name": "stdout",
     "output_type": "stream",
     "text": [
      "[9, 16, 23, 30, 47, 54, 61, 78, 85, 92, 108, 115, 122, 139, 146, 153, 160]\n",
      "[ 7  7  7 17  7  7 17  7  7 16  7  7 17  7  7  7]\n"
     ]
    },
    {
     "name": "stderr",
     "output_type": "stream",
     "text": [
      "05:31:41 INFO: No events found for shipment number 00340434188193323676\n"
     ]
    },
    {
     "name": "stdout",
     "output_type": "stream",
     "text": [
      "[9, 16, 23, 30, 47, 54, 61, 78, 85, 92, 108, 115, 122, 139, 146, 153, 160]\n",
      "[ 7  7  7 17  7  7 17  7  7 16  7  7 17  7  7  7]\n"
     ]
    },
    {
     "name": "stderr",
     "output_type": "stream",
     "text": [
      "05:31:42 INFO: Writing file ../data/00340434188193323677.json\n"
     ]
    },
    {
     "name": "stdout",
     "output_type": "stream",
     "text": [
      "[9, 16, 23, 30, 47, 54, 61, 78, 85, 92, 108, 115, 122, 139, 146, 153, 160, 177]\n",
      "[ 7  7  7 17  7  7 17  7  7 16  7  7 17  7  7  7 17]\n"
     ]
    },
    {
     "name": "stderr",
     "output_type": "stream",
     "text": [
      "05:31:43 INFO: No events found for shipment number 00340434188193323678\n"
     ]
    },
    {
     "name": "stdout",
     "output_type": "stream",
     "text": [
      "[9, 16, 23, 30, 47, 54, 61, 78, 85, 92, 108, 115, 122, 139, 146, 153, 160, 177]\n",
      "[ 7  7  7 17  7  7 17  7  7 16  7  7 17  7  7  7 17]\n"
     ]
    },
    {
     "name": "stderr",
     "output_type": "stream",
     "text": [
      "05:31:43 INFO: No events found for shipment number 00340434188193323679\n"
     ]
    },
    {
     "name": "stdout",
     "output_type": "stream",
     "text": [
      "[9, 16, 23, 30, 47, 54, 61, 78, 85, 92, 108, 115, 122, 139, 146, 153, 160, 177]\n",
      "[ 7  7  7 17  7  7 17  7  7 16  7  7 17  7  7  7 17]\n"
     ]
    },
    {
     "name": "stderr",
     "output_type": "stream",
     "text": [
      "05:31:44 INFO: No events found for shipment number 00340434188193323680\n"
     ]
    },
    {
     "name": "stdout",
     "output_type": "stream",
     "text": [
      "[9, 16, 23, 30, 47, 54, 61, 78, 85, 92, 108, 115, 122, 139, 146, 153, 160, 177]\n",
      "[ 7  7  7 17  7  7 17  7  7 16  7  7 17  7  7  7 17]\n"
     ]
    },
    {
     "name": "stderr",
     "output_type": "stream",
     "text": [
      "05:31:44 INFO: No events found for shipment number 00340434188193323681\n"
     ]
    },
    {
     "name": "stdout",
     "output_type": "stream",
     "text": [
      "[9, 16, 23, 30, 47, 54, 61, 78, 85, 92, 108, 115, 122, 139, 146, 153, 160, 177]\n",
      "[ 7  7  7 17  7  7 17  7  7 16  7  7 17  7  7  7 17]\n"
     ]
    },
    {
     "name": "stderr",
     "output_type": "stream",
     "text": [
      "05:31:45 INFO: No events found for shipment number 00340434188193323682\n"
     ]
    },
    {
     "name": "stdout",
     "output_type": "stream",
     "text": [
      "[9, 16, 23, 30, 47, 54, 61, 78, 85, 92, 108, 115, 122, 139, 146, 153, 160, 177]\n",
      "[ 7  7  7 17  7  7 17  7  7 16  7  7 17  7  7  7 17]\n"
     ]
    },
    {
     "name": "stderr",
     "output_type": "stream",
     "text": [
      "05:31:46 INFO: No events found for shipment number 00340434188193323683\n"
     ]
    },
    {
     "name": "stdout",
     "output_type": "stream",
     "text": [
      "[9, 16, 23, 30, 47, 54, 61, 78, 85, 92, 108, 115, 122, 139, 146, 153, 160, 177]\n",
      "[ 7  7  7 17  7  7 17  7  7 16  7  7 17  7  7  7 17]\n"
     ]
    },
    {
     "name": "stderr",
     "output_type": "stream",
     "text": [
      "05:31:46 INFO: Writing file ../data/00340434188193323684.json\n"
     ]
    },
    {
     "name": "stdout",
     "output_type": "stream",
     "text": [
      "[9, 16, 23, 30, 47, 54, 61, 78, 85, 92, 108, 115, 122, 139, 146, 153, 160, 177, 184]\n",
      "[ 7  7  7 17  7  7 17  7  7 16  7  7 17  7  7  7 17  7]\n"
     ]
    },
    {
     "name": "stderr",
     "output_type": "stream",
     "text": [
      "05:31:47 INFO: No events found for shipment number 00340434188193323685\n"
     ]
    },
    {
     "name": "stdout",
     "output_type": "stream",
     "text": [
      "[9, 16, 23, 30, 47, 54, 61, 78, 85, 92, 108, 115, 122, 139, 146, 153, 160, 177, 184]\n",
      "[ 7  7  7 17  7  7 17  7  7 16  7  7 17  7  7  7 17  7]\n"
     ]
    },
    {
     "name": "stderr",
     "output_type": "stream",
     "text": [
      "05:31:48 INFO: No events found for shipment number 00340434188193323686\n"
     ]
    },
    {
     "name": "stdout",
     "output_type": "stream",
     "text": [
      "[9, 16, 23, 30, 47, 54, 61, 78, 85, 92, 108, 115, 122, 139, 146, 153, 160, 177, 184]\n",
      "[ 7  7  7 17  7  7 17  7  7 16  7  7 17  7  7  7 17  7]\n"
     ]
    },
    {
     "name": "stderr",
     "output_type": "stream",
     "text": [
      "05:31:48 INFO: No events found for shipment number 00340434188193323687\n"
     ]
    },
    {
     "name": "stdout",
     "output_type": "stream",
     "text": [
      "[9, 16, 23, 30, 47, 54, 61, 78, 85, 92, 108, 115, 122, 139, 146, 153, 160, 177, 184]\n",
      "[ 7  7  7 17  7  7 17  7  7 16  7  7 17  7  7  7 17  7]\n"
     ]
    },
    {
     "name": "stderr",
     "output_type": "stream",
     "text": [
      "05:31:49 INFO: No events found for shipment number 00340434188193323688\n"
     ]
    },
    {
     "name": "stdout",
     "output_type": "stream",
     "text": [
      "[9, 16, 23, 30, 47, 54, 61, 78, 85, 92, 108, 115, 122, 139, 146, 153, 160, 177, 184]\n",
      "[ 7  7  7 17  7  7 17  7  7 16  7  7 17  7  7  7 17  7]\n"
     ]
    },
    {
     "name": "stderr",
     "output_type": "stream",
     "text": [
      "05:31:50 INFO: No events found for shipment number 00340434188193323689\n"
     ]
    },
    {
     "name": "stdout",
     "output_type": "stream",
     "text": [
      "[9, 16, 23, 30, 47, 54, 61, 78, 85, 92, 108, 115, 122, 139, 146, 153, 160, 177, 184]\n",
      "[ 7  7  7 17  7  7 17  7  7 16  7  7 17  7  7  7 17  7]\n"
     ]
    },
    {
     "name": "stderr",
     "output_type": "stream",
     "text": [
      "05:31:50 INFO: No events found for shipment number 00340434188193323690\n"
     ]
    },
    {
     "name": "stdout",
     "output_type": "stream",
     "text": [
      "[9, 16, 23, 30, 47, 54, 61, 78, 85, 92, 108, 115, 122, 139, 146, 153, 160, 177, 184]\n",
      "[ 7  7  7 17  7  7 17  7  7 16  7  7 17  7  7  7 17  7]\n"
     ]
    },
    {
     "name": "stderr",
     "output_type": "stream",
     "text": [
      "05:31:51 INFO: Writing file ../data/00340434188193323691.json\n"
     ]
    },
    {
     "name": "stdout",
     "output_type": "stream",
     "text": [
      "[9, 16, 23, 30, 47, 54, 61, 78, 85, 92, 108, 115, 122, 139, 146, 153, 160, 177, 184, 191]\n",
      "[ 7  7  7 17  7  7 17  7  7 16  7  7 17  7  7  7 17  7  7]\n"
     ]
    },
    {
     "name": "stderr",
     "output_type": "stream",
     "text": [
      "05:31:51 INFO: No events found for shipment number 00340434188193323692\n"
     ]
    },
    {
     "name": "stdout",
     "output_type": "stream",
     "text": [
      "[9, 16, 23, 30, 47, 54, 61, 78, 85, 92, 108, 115, 122, 139, 146, 153, 160, 177, 184, 191]\n",
      "[ 7  7  7 17  7  7 17  7  7 16  7  7 17  7  7  7 17  7  7]\n"
     ]
    },
    {
     "name": "stderr",
     "output_type": "stream",
     "text": [
      "05:31:52 INFO: No events found for shipment number 00340434188193323693\n"
     ]
    },
    {
     "name": "stdout",
     "output_type": "stream",
     "text": [
      "[9, 16, 23, 30, 47, 54, 61, 78, 85, 92, 108, 115, 122, 139, 146, 153, 160, 177, 184, 191]\n",
      "[ 7  7  7 17  7  7 17  7  7 16  7  7 17  7  7  7 17  7  7]\n"
     ]
    },
    {
     "name": "stderr",
     "output_type": "stream",
     "text": [
      "05:31:53 INFO: No events found for shipment number 00340434188193323694\n"
     ]
    },
    {
     "name": "stdout",
     "output_type": "stream",
     "text": [
      "[9, 16, 23, 30, 47, 54, 61, 78, 85, 92, 108, 115, 122, 139, 146, 153, 160, 177, 184, 191]\n",
      "[ 7  7  7 17  7  7 17  7  7 16  7  7 17  7  7  7 17  7  7]\n"
     ]
    },
    {
     "name": "stderr",
     "output_type": "stream",
     "text": [
      "05:31:54 INFO: No events found for shipment number 00340434188193323695\n"
     ]
    },
    {
     "name": "stdout",
     "output_type": "stream",
     "text": [
      "[9, 16, 23, 30, 47, 54, 61, 78, 85, 92, 108, 115, 122, 139, 146, 153, 160, 177, 184, 191]\n",
      "[ 7  7  7 17  7  7 17  7  7 16  7  7 17  7  7  7 17  7  7]\n"
     ]
    },
    {
     "name": "stderr",
     "output_type": "stream",
     "text": [
      "05:31:54 INFO: No events found for shipment number 00340434188193323696\n"
     ]
    },
    {
     "name": "stdout",
     "output_type": "stream",
     "text": [
      "[9, 16, 23, 30, 47, 54, 61, 78, 85, 92, 108, 115, 122, 139, 146, 153, 160, 177, 184, 191]\n",
      "[ 7  7  7 17  7  7 17  7  7 16  7  7 17  7  7  7 17  7  7]\n"
     ]
    },
    {
     "name": "stderr",
     "output_type": "stream",
     "text": [
      "05:31:55 INFO: No events found for shipment number 00340434188193323697\n"
     ]
    },
    {
     "name": "stdout",
     "output_type": "stream",
     "text": [
      "[9, 16, 23, 30, 47, 54, 61, 78, 85, 92, 108, 115, 122, 139, 146, 153, 160, 177, 184, 191]\n",
      "[ 7  7  7 17  7  7 17  7  7 16  7  7 17  7  7  7 17  7  7]\n"
     ]
    },
    {
     "name": "stderr",
     "output_type": "stream",
     "text": [
      "05:31:55 INFO: No events found for shipment number 00340434188193323698\n"
     ]
    },
    {
     "name": "stdout",
     "output_type": "stream",
     "text": [
      "[9, 16, 23, 30, 47, 54, 61, 78, 85, 92, 108, 115, 122, 139, 146, 153, 160, 177, 184, 191]\n",
      "[ 7  7  7 17  7  7 17  7  7 16  7  7 17  7  7  7 17  7  7]\n"
     ]
    },
    {
     "name": "stderr",
     "output_type": "stream",
     "text": [
      "05:31:56 INFO: No events found for shipment number 00340434188193323699\n"
     ]
    },
    {
     "name": "stdout",
     "output_type": "stream",
     "text": [
      "[9, 16, 23, 30, 47, 54, 61, 78, 85, 92, 108, 115, 122, 139, 146, 153, 160, 177, 184, 191]\n",
      "[ 7  7  7 17  7  7 17  7  7 16  7  7 17  7  7  7 17  7  7]\n"
     ]
    },
    {
     "name": "stderr",
     "output_type": "stream",
     "text": [
      "05:31:57 INFO: No events found for shipment number 00340434188193323700\n"
     ]
    },
    {
     "name": "stdout",
     "output_type": "stream",
     "text": [
      "[9, 16, 23, 30, 47, 54, 61, 78, 85, 92, 108, 115, 122, 139, 146, 153, 160, 177, 184, 191]\n",
      "[ 7  7  7 17  7  7 17  7  7 16  7  7 17  7  7  7 17  7  7]\n"
     ]
    },
    {
     "name": "stderr",
     "output_type": "stream",
     "text": [
      "05:31:57 INFO: No events found for shipment number 00340434188193323701\n"
     ]
    },
    {
     "name": "stdout",
     "output_type": "stream",
     "text": [
      "[9, 16, 23, 30, 47, 54, 61, 78, 85, 92, 108, 115, 122, 139, 146, 153, 160, 177, 184, 191]\n",
      "[ 7  7  7 17  7  7 17  7  7 16  7  7 17  7  7  7 17  7  7]\n"
     ]
    },
    {
     "name": "stderr",
     "output_type": "stream",
     "text": [
      "05:31:58 INFO: No events found for shipment number 00340434188193323702\n"
     ]
    },
    {
     "name": "stdout",
     "output_type": "stream",
     "text": [
      "[9, 16, 23, 30, 47, 54, 61, 78, 85, 92, 108, 115, 122, 139, 146, 153, 160, 177, 184, 191]\n",
      "[ 7  7  7 17  7  7 17  7  7 16  7  7 17  7  7  7 17  7  7]\n"
     ]
    },
    {
     "name": "stderr",
     "output_type": "stream",
     "text": [
      "05:31:59 INFO: No events found for shipment number 00340434188193323703\n"
     ]
    },
    {
     "name": "stdout",
     "output_type": "stream",
     "text": [
      "[9, 16, 23, 30, 47, 54, 61, 78, 85, 92, 108, 115, 122, 139, 146, 153, 160, 177, 184, 191]\n",
      "[ 7  7  7 17  7  7 17  7  7 16  7  7 17  7  7  7 17  7  7]\n"
     ]
    },
    {
     "name": "stderr",
     "output_type": "stream",
     "text": [
      "05:31:59 INFO: No events found for shipment number 00340434188193323704\n"
     ]
    },
    {
     "name": "stdout",
     "output_type": "stream",
     "text": [
      "[9, 16, 23, 30, 47, 54, 61, 78, 85, 92, 108, 115, 122, 139, 146, 153, 160, 177, 184, 191]\n",
      "[ 7  7  7 17  7  7 17  7  7 16  7  7 17  7  7  7 17  7  7]\n"
     ]
    },
    {
     "name": "stderr",
     "output_type": "stream",
     "text": [
      "05:32:00 INFO: No events found for shipment number 00340434188193323705\n"
     ]
    },
    {
     "name": "stdout",
     "output_type": "stream",
     "text": [
      "[9, 16, 23, 30, 47, 54, 61, 78, 85, 92, 108, 115, 122, 139, 146, 153, 160, 177, 184, 191]\n",
      "[ 7  7  7 17  7  7 17  7  7 16  7  7 17  7  7  7 17  7  7]\n"
     ]
    },
    {
     "name": "stderr",
     "output_type": "stream",
     "text": [
      "05:32:00 INFO: No events found for shipment number 00340434188193323706\n"
     ]
    },
    {
     "name": "stdout",
     "output_type": "stream",
     "text": [
      "[9, 16, 23, 30, 47, 54, 61, 78, 85, 92, 108, 115, 122, 139, 146, 153, 160, 177, 184, 191]\n",
      "[ 7  7  7 17  7  7 17  7  7 16  7  7 17  7  7  7 17  7  7]\n"
     ]
    },
    {
     "name": "stderr",
     "output_type": "stream",
     "text": [
      "05:32:01 INFO: Writing file ../data/00340434188193323707.json\n"
     ]
    },
    {
     "name": "stdout",
     "output_type": "stream",
     "text": [
      "[9, 16, 23, 30, 47, 54, 61, 78, 85, 92, 108, 115, 122, 139, 146, 153, 160, 177, 184, 191, 207]\n",
      "[ 7  7  7 17  7  7 17  7  7 16  7  7 17  7  7  7 17  7  7 16]\n"
     ]
    },
    {
     "name": "stderr",
     "output_type": "stream",
     "text": [
      "05:32:02 INFO: No events found for shipment number 00340434188193323708\n"
     ]
    },
    {
     "name": "stdout",
     "output_type": "stream",
     "text": [
      "[9, 16, 23, 30, 47, 54, 61, 78, 85, 92, 108, 115, 122, 139, 146, 153, 160, 177, 184, 191, 207]\n",
      "[ 7  7  7 17  7  7 17  7  7 16  7  7 17  7  7  7 17  7  7 16]\n"
     ]
    },
    {
     "name": "stderr",
     "output_type": "stream",
     "text": [
      "05:32:03 INFO: No events found for shipment number 00340434188193323709\n"
     ]
    },
    {
     "name": "stdout",
     "output_type": "stream",
     "text": [
      "[9, 16, 23, 30, 47, 54, 61, 78, 85, 92, 108, 115, 122, 139, 146, 153, 160, 177, 184, 191, 207]\n",
      "[ 7  7  7 17  7  7 17  7  7 16  7  7 17  7  7  7 17  7  7 16]\n"
     ]
    },
    {
     "name": "stderr",
     "output_type": "stream",
     "text": [
      "05:32:03 INFO: No events found for shipment number 00340434188193323710\n"
     ]
    },
    {
     "name": "stdout",
     "output_type": "stream",
     "text": [
      "[9, 16, 23, 30, 47, 54, 61, 78, 85, 92, 108, 115, 122, 139, 146, 153, 160, 177, 184, 191, 207]\n",
      "[ 7  7  7 17  7  7 17  7  7 16  7  7 17  7  7  7 17  7  7 16]\n"
     ]
    },
    {
     "name": "stderr",
     "output_type": "stream",
     "text": [
      "05:32:04 INFO: No events found for shipment number 00340434188193323711\n"
     ]
    },
    {
     "name": "stdout",
     "output_type": "stream",
     "text": [
      "[9, 16, 23, 30, 47, 54, 61, 78, 85, 92, 108, 115, 122, 139, 146, 153, 160, 177, 184, 191, 207]\n",
      "[ 7  7  7 17  7  7 17  7  7 16  7  7 17  7  7  7 17  7  7 16]\n"
     ]
    },
    {
     "name": "stderr",
     "output_type": "stream",
     "text": [
      "05:32:05 INFO: No events found for shipment number 00340434188193323712\n"
     ]
    },
    {
     "name": "stdout",
     "output_type": "stream",
     "text": [
      "[9, 16, 23, 30, 47, 54, 61, 78, 85, 92, 108, 115, 122, 139, 146, 153, 160, 177, 184, 191, 207]\n",
      "[ 7  7  7 17  7  7 17  7  7 16  7  7 17  7  7  7 17  7  7 16]\n"
     ]
    },
    {
     "name": "stderr",
     "output_type": "stream",
     "text": [
      "05:32:05 INFO: No events found for shipment number 00340434188193323713\n"
     ]
    },
    {
     "name": "stdout",
     "output_type": "stream",
     "text": [
      "[9, 16, 23, 30, 47, 54, 61, 78, 85, 92, 108, 115, 122, 139, 146, 153, 160, 177, 184, 191, 207]\n",
      "[ 7  7  7 17  7  7 17  7  7 16  7  7 17  7  7  7 17  7  7 16]\n"
     ]
    },
    {
     "name": "stderr",
     "output_type": "stream",
     "text": [
      "05:32:06 INFO: Writing file ../data/00340434188193323714.json\n"
     ]
    },
    {
     "name": "stdout",
     "output_type": "stream",
     "text": [
      "[9, 16, 23, 30, 47, 54, 61, 78, 85, 92, 108, 115, 122, 139, 146, 153, 160, 177, 184, 191, 207, 214]\n",
      "[ 7  7  7 17  7  7 17  7  7 16  7  7 17  7  7  7 17  7  7 16  7]\n"
     ]
    },
    {
     "name": "stderr",
     "output_type": "stream",
     "text": [
      "05:32:07 INFO: No events found for shipment number 00340434188193323715\n"
     ]
    },
    {
     "name": "stdout",
     "output_type": "stream",
     "text": [
      "[9, 16, 23, 30, 47, 54, 61, 78, 85, 92, 108, 115, 122, 139, 146, 153, 160, 177, 184, 191, 207, 214]\n",
      "[ 7  7  7 17  7  7 17  7  7 16  7  7 17  7  7  7 17  7  7 16  7]\n"
     ]
    },
    {
     "name": "stderr",
     "output_type": "stream",
     "text": [
      "05:32:07 INFO: No events found for shipment number 00340434188193323716\n"
     ]
    },
    {
     "name": "stdout",
     "output_type": "stream",
     "text": [
      "[9, 16, 23, 30, 47, 54, 61, 78, 85, 92, 108, 115, 122, 139, 146, 153, 160, 177, 184, 191, 207, 214]\n",
      "[ 7  7  7 17  7  7 17  7  7 16  7  7 17  7  7  7 17  7  7 16  7]\n"
     ]
    },
    {
     "name": "stderr",
     "output_type": "stream",
     "text": [
      "05:32:08 INFO: No events found for shipment number 00340434188193323717\n"
     ]
    },
    {
     "name": "stdout",
     "output_type": "stream",
     "text": [
      "[9, 16, 23, 30, 47, 54, 61, 78, 85, 92, 108, 115, 122, 139, 146, 153, 160, 177, 184, 191, 207, 214]\n",
      "[ 7  7  7 17  7  7 17  7  7 16  7  7 17  7  7  7 17  7  7 16  7]\n"
     ]
    },
    {
     "name": "stderr",
     "output_type": "stream",
     "text": [
      "05:32:08 INFO: No events found for shipment number 00340434188193323718\n"
     ]
    },
    {
     "name": "stdout",
     "output_type": "stream",
     "text": [
      "[9, 16, 23, 30, 47, 54, 61, 78, 85, 92, 108, 115, 122, 139, 146, 153, 160, 177, 184, 191, 207, 214]\n",
      "[ 7  7  7 17  7  7 17  7  7 16  7  7 17  7  7  7 17  7  7 16  7]\n"
     ]
    },
    {
     "name": "stderr",
     "output_type": "stream",
     "text": [
      "05:32:09 INFO: No events found for shipment number 00340434188193323719\n"
     ]
    },
    {
     "name": "stdout",
     "output_type": "stream",
     "text": [
      "[9, 16, 23, 30, 47, 54, 61, 78, 85, 92, 108, 115, 122, 139, 146, 153, 160, 177, 184, 191, 207, 214]\n",
      "[ 7  7  7 17  7  7 17  7  7 16  7  7 17  7  7  7 17  7  7 16  7]\n"
     ]
    },
    {
     "name": "stderr",
     "output_type": "stream",
     "text": [
      "05:32:10 INFO: No events found for shipment number 00340434188193323720\n"
     ]
    },
    {
     "name": "stdout",
     "output_type": "stream",
     "text": [
      "[9, 16, 23, 30, 47, 54, 61, 78, 85, 92, 108, 115, 122, 139, 146, 153, 160, 177, 184, 191, 207, 214]\n",
      "[ 7  7  7 17  7  7 17  7  7 16  7  7 17  7  7  7 17  7  7 16  7]\n"
     ]
    },
    {
     "name": "stderr",
     "output_type": "stream",
     "text": [
      "05:32:10 INFO: Writing file ../data/00340434188193323721.json\n"
     ]
    },
    {
     "name": "stdout",
     "output_type": "stream",
     "text": [
      "[9, 16, 23, 30, 47, 54, 61, 78, 85, 92, 108, 115, 122, 139, 146, 153, 160, 177, 184, 191, 207, 214, 221]\n",
      "[ 7  7  7 17  7  7 17  7  7 16  7  7 17  7  7  7 17  7  7 16  7  7]\n"
     ]
    },
    {
     "name": "stderr",
     "output_type": "stream",
     "text": [
      "05:32:11 INFO: No events found for shipment number 00340434188193323722\n"
     ]
    },
    {
     "name": "stdout",
     "output_type": "stream",
     "text": [
      "[9, 16, 23, 30, 47, 54, 61, 78, 85, 92, 108, 115, 122, 139, 146, 153, 160, 177, 184, 191, 207, 214, 221]\n",
      "[ 7  7  7 17  7  7 17  7  7 16  7  7 17  7  7  7 17  7  7 16  7  7]\n"
     ]
    },
    {
     "name": "stderr",
     "output_type": "stream",
     "text": [
      "05:32:12 INFO: No events found for shipment number 00340434188193323723\n"
     ]
    },
    {
     "name": "stdout",
     "output_type": "stream",
     "text": [
      "[9, 16, 23, 30, 47, 54, 61, 78, 85, 92, 108, 115, 122, 139, 146, 153, 160, 177, 184, 191, 207, 214, 221]\n",
      "[ 7  7  7 17  7  7 17  7  7 16  7  7 17  7  7  7 17  7  7 16  7  7]\n"
     ]
    },
    {
     "name": "stderr",
     "output_type": "stream",
     "text": [
      "05:32:12 INFO: No events found for shipment number 00340434188193323724\n"
     ]
    },
    {
     "name": "stdout",
     "output_type": "stream",
     "text": [
      "[9, 16, 23, 30, 47, 54, 61, 78, 85, 92, 108, 115, 122, 139, 146, 153, 160, 177, 184, 191, 207, 214, 221]\n",
      "[ 7  7  7 17  7  7 17  7  7 16  7  7 17  7  7  7 17  7  7 16  7  7]\n"
     ]
    },
    {
     "name": "stderr",
     "output_type": "stream",
     "text": [
      "05:32:13 INFO: No events found for shipment number 00340434188193323725\n"
     ]
    },
    {
     "name": "stdout",
     "output_type": "stream",
     "text": [
      "[9, 16, 23, 30, 47, 54, 61, 78, 85, 92, 108, 115, 122, 139, 146, 153, 160, 177, 184, 191, 207, 214, 221]\n",
      "[ 7  7  7 17  7  7 17  7  7 16  7  7 17  7  7  7 17  7  7 16  7  7]\n"
     ]
    },
    {
     "name": "stderr",
     "output_type": "stream",
     "text": [
      "05:32:14 INFO: No events found for shipment number 00340434188193323726\n"
     ]
    },
    {
     "name": "stdout",
     "output_type": "stream",
     "text": [
      "[9, 16, 23, 30, 47, 54, 61, 78, 85, 92, 108, 115, 122, 139, 146, 153, 160, 177, 184, 191, 207, 214, 221]\n",
      "[ 7  7  7 17  7  7 17  7  7 16  7  7 17  7  7  7 17  7  7 16  7  7]\n"
     ]
    },
    {
     "name": "stderr",
     "output_type": "stream",
     "text": [
      "05:32:14 INFO: No events found for shipment number 00340434188193323727\n"
     ]
    },
    {
     "name": "stdout",
     "output_type": "stream",
     "text": [
      "[9, 16, 23, 30, 47, 54, 61, 78, 85, 92, 108, 115, 122, 139, 146, 153, 160, 177, 184, 191, 207, 214, 221]\n",
      "[ 7  7  7 17  7  7 17  7  7 16  7  7 17  7  7  7 17  7  7 16  7  7]\n"
     ]
    },
    {
     "name": "stderr",
     "output_type": "stream",
     "text": [
      "05:32:15 INFO: No events found for shipment number 00340434188193323728\n"
     ]
    },
    {
     "name": "stdout",
     "output_type": "stream",
     "text": [
      "[9, 16, 23, 30, 47, 54, 61, 78, 85, 92, 108, 115, 122, 139, 146, 153, 160, 177, 184, 191, 207, 214, 221]\n",
      "[ 7  7  7 17  7  7 17  7  7 16  7  7 17  7  7  7 17  7  7 16  7  7]\n"
     ]
    },
    {
     "name": "stderr",
     "output_type": "stream",
     "text": [
      "05:32:16 INFO: No events found for shipment number 00340434188193323729\n"
     ]
    },
    {
     "name": "stdout",
     "output_type": "stream",
     "text": [
      "[9, 16, 23, 30, 47, 54, 61, 78, 85, 92, 108, 115, 122, 139, 146, 153, 160, 177, 184, 191, 207, 214, 221]\n",
      "[ 7  7  7 17  7  7 17  7  7 16  7  7 17  7  7  7 17  7  7 16  7  7]\n"
     ]
    },
    {
     "name": "stderr",
     "output_type": "stream",
     "text": [
      "05:32:16 INFO: No events found for shipment number 00340434188193323730\n"
     ]
    },
    {
     "name": "stdout",
     "output_type": "stream",
     "text": [
      "[9, 16, 23, 30, 47, 54, 61, 78, 85, 92, 108, 115, 122, 139, 146, 153, 160, 177, 184, 191, 207, 214, 221]\n",
      "[ 7  7  7 17  7  7 17  7  7 16  7  7 17  7  7  7 17  7  7 16  7  7]\n"
     ]
    },
    {
     "name": "stderr",
     "output_type": "stream",
     "text": [
      "05:32:17 INFO: No events found for shipment number 00340434188193323731\n"
     ]
    },
    {
     "name": "stdout",
     "output_type": "stream",
     "text": [
      "[9, 16, 23, 30, 47, 54, 61, 78, 85, 92, 108, 115, 122, 139, 146, 153, 160, 177, 184, 191, 207, 214, 221]\n",
      "[ 7  7  7 17  7  7 17  7  7 16  7  7 17  7  7  7 17  7  7 16  7  7]\n"
     ]
    },
    {
     "name": "stderr",
     "output_type": "stream",
     "text": [
      "05:32:18 INFO: No events found for shipment number 00340434188193323732\n"
     ]
    },
    {
     "name": "stdout",
     "output_type": "stream",
     "text": [
      "[9, 16, 23, 30, 47, 54, 61, 78, 85, 92, 108, 115, 122, 139, 146, 153, 160, 177, 184, 191, 207, 214, 221]\n",
      "[ 7  7  7 17  7  7 17  7  7 16  7  7 17  7  7  7 17  7  7 16  7  7]\n"
     ]
    },
    {
     "name": "stderr",
     "output_type": "stream",
     "text": [
      "05:32:18 INFO: No events found for shipment number 00340434188193323733\n"
     ]
    },
    {
     "name": "stdout",
     "output_type": "stream",
     "text": [
      "[9, 16, 23, 30, 47, 54, 61, 78, 85, 92, 108, 115, 122, 139, 146, 153, 160, 177, 184, 191, 207, 214, 221]\n",
      "[ 7  7  7 17  7  7 17  7  7 16  7  7 17  7  7  7 17  7  7 16  7  7]\n"
     ]
    },
    {
     "name": "stderr",
     "output_type": "stream",
     "text": [
      "05:32:19 INFO: No events found for shipment number 00340434188193323734\n"
     ]
    },
    {
     "name": "stdout",
     "output_type": "stream",
     "text": [
      "[9, 16, 23, 30, 47, 54, 61, 78, 85, 92, 108, 115, 122, 139, 146, 153, 160, 177, 184, 191, 207, 214, 221]\n",
      "[ 7  7  7 17  7  7 17  7  7 16  7  7 17  7  7  7 17  7  7 16  7  7]\n"
     ]
    },
    {
     "name": "stderr",
     "output_type": "stream",
     "text": [
      "05:32:19 INFO: No events found for shipment number 00340434188193323735\n"
     ]
    },
    {
     "name": "stdout",
     "output_type": "stream",
     "text": [
      "[9, 16, 23, 30, 47, 54, 61, 78, 85, 92, 108, 115, 122, 139, 146, 153, 160, 177, 184, 191, 207, 214, 221]\n",
      "[ 7  7  7 17  7  7 17  7  7 16  7  7 17  7  7  7 17  7  7 16  7  7]\n"
     ]
    },
    {
     "name": "stderr",
     "output_type": "stream",
     "text": [
      "05:32:20 INFO: No events found for shipment number 00340434188193323736\n"
     ]
    },
    {
     "name": "stdout",
     "output_type": "stream",
     "text": [
      "[9, 16, 23, 30, 47, 54, 61, 78, 85, 92, 108, 115, 122, 139, 146, 153, 160, 177, 184, 191, 207, 214, 221]\n",
      "[ 7  7  7 17  7  7 17  7  7 16  7  7 17  7  7  7 17  7  7 16  7  7]\n"
     ]
    },
    {
     "name": "stderr",
     "output_type": "stream",
     "text": [
      "05:32:21 INFO: No events found for shipment number 00340434188193323737\n"
     ]
    },
    {
     "name": "stdout",
     "output_type": "stream",
     "text": [
      "[9, 16, 23, 30, 47, 54, 61, 78, 85, 92, 108, 115, 122, 139, 146, 153, 160, 177, 184, 191, 207, 214, 221]\n",
      "[ 7  7  7 17  7  7 17  7  7 16  7  7 17  7  7  7 17  7  7 16  7  7]\n"
     ]
    },
    {
     "name": "stderr",
     "output_type": "stream",
     "text": [
      "05:32:21 INFO: Writing file ../data/00340434188193323738.json\n"
     ]
    },
    {
     "name": "stdout",
     "output_type": "stream",
     "text": [
      "[9, 16, 23, 30, 47, 54, 61, 78, 85, 92, 108, 115, 122, 139, 146, 153, 160, 177, 184, 191, 207, 214, 221, 238]\n",
      "[ 7  7  7 17  7  7 17  7  7 16  7  7 17  7  7  7 17  7  7 16  7  7 17]\n"
     ]
    },
    {
     "name": "stderr",
     "output_type": "stream",
     "text": [
      "05:32:22 INFO: No events found for shipment number 00340434188193323739\n"
     ]
    },
    {
     "name": "stdout",
     "output_type": "stream",
     "text": [
      "[9, 16, 23, 30, 47, 54, 61, 78, 85, 92, 108, 115, 122, 139, 146, 153, 160, 177, 184, 191, 207, 214, 221, 238]\n",
      "[ 7  7  7 17  7  7 17  7  7 16  7  7 17  7  7  7 17  7  7 16  7  7 17]\n"
     ]
    },
    {
     "name": "stderr",
     "output_type": "stream",
     "text": [
      "05:32:23 INFO: No events found for shipment number 00340434188193323740\n"
     ]
    },
    {
     "name": "stdout",
     "output_type": "stream",
     "text": [
      "[9, 16, 23, 30, 47, 54, 61, 78, 85, 92, 108, 115, 122, 139, 146, 153, 160, 177, 184, 191, 207, 214, 221, 238]\n",
      "[ 7  7  7 17  7  7 17  7  7 16  7  7 17  7  7  7 17  7  7 16  7  7 17]\n"
     ]
    },
    {
     "name": "stderr",
     "output_type": "stream",
     "text": [
      "05:32:23 INFO: No events found for shipment number 00340434188193323741\n"
     ]
    },
    {
     "name": "stdout",
     "output_type": "stream",
     "text": [
      "[9, 16, 23, 30, 47, 54, 61, 78, 85, 92, 108, 115, 122, 139, 146, 153, 160, 177, 184, 191, 207, 214, 221, 238]\n",
      "[ 7  7  7 17  7  7 17  7  7 16  7  7 17  7  7  7 17  7  7 16  7  7 17]\n"
     ]
    },
    {
     "name": "stderr",
     "output_type": "stream",
     "text": [
      "05:32:24 INFO: No events found for shipment number 00340434188193323742\n"
     ]
    },
    {
     "name": "stdout",
     "output_type": "stream",
     "text": [
      "[9, 16, 23, 30, 47, 54, 61, 78, 85, 92, 108, 115, 122, 139, 146, 153, 160, 177, 184, 191, 207, 214, 221, 238]\n",
      "[ 7  7  7 17  7  7 17  7  7 16  7  7 17  7  7  7 17  7  7 16  7  7 17]\n"
     ]
    },
    {
     "name": "stderr",
     "output_type": "stream",
     "text": [
      "05:32:25 INFO: No events found for shipment number 00340434188193323743\n"
     ]
    },
    {
     "name": "stdout",
     "output_type": "stream",
     "text": [
      "[9, 16, 23, 30, 47, 54, 61, 78, 85, 92, 108, 115, 122, 139, 146, 153, 160, 177, 184, 191, 207, 214, 221, 238]\n",
      "[ 7  7  7 17  7  7 17  7  7 16  7  7 17  7  7  7 17  7  7 16  7  7 17]\n"
     ]
    },
    {
     "name": "stderr",
     "output_type": "stream",
     "text": [
      "05:32:25 INFO: No events found for shipment number 00340434188193323744\n"
     ]
    },
    {
     "name": "stdout",
     "output_type": "stream",
     "text": [
      "[9, 16, 23, 30, 47, 54, 61, 78, 85, 92, 108, 115, 122, 139, 146, 153, 160, 177, 184, 191, 207, 214, 221, 238]\n",
      "[ 7  7  7 17  7  7 17  7  7 16  7  7 17  7  7  7 17  7  7 16  7  7 17]\n"
     ]
    },
    {
     "name": "stderr",
     "output_type": "stream",
     "text": [
      "05:32:26 INFO: Writing file ../data/00340434188193323745.json\n"
     ]
    },
    {
     "name": "stdout",
     "output_type": "stream",
     "text": [
      "[9, 16, 23, 30, 47, 54, 61, 78, 85, 92, 108, 115, 122, 139, 146, 153, 160, 177, 184, 191, 207, 214, 221, 238, 245]\n",
      "[ 7  7  7 17  7  7 17  7  7 16  7  7 17  7  7  7 17  7  7 16  7  7 17  7]\n"
     ]
    },
    {
     "name": "stderr",
     "output_type": "stream",
     "text": [
      "05:32:27 INFO: No events found for shipment number 00340434188193323746\n"
     ]
    },
    {
     "name": "stdout",
     "output_type": "stream",
     "text": [
      "[9, 16, 23, 30, 47, 54, 61, 78, 85, 92, 108, 115, 122, 139, 146, 153, 160, 177, 184, 191, 207, 214, 221, 238, 245]\n",
      "[ 7  7  7 17  7  7 17  7  7 16  7  7 17  7  7  7 17  7  7 16  7  7 17  7]\n"
     ]
    },
    {
     "name": "stderr",
     "output_type": "stream",
     "text": [
      "05:32:27 INFO: No events found for shipment number 00340434188193323747\n"
     ]
    },
    {
     "name": "stdout",
     "output_type": "stream",
     "text": [
      "[9, 16, 23, 30, 47, 54, 61, 78, 85, 92, 108, 115, 122, 139, 146, 153, 160, 177, 184, 191, 207, 214, 221, 238, 245]\n",
      "[ 7  7  7 17  7  7 17  7  7 16  7  7 17  7  7  7 17  7  7 16  7  7 17  7]\n"
     ]
    },
    {
     "name": "stderr",
     "output_type": "stream",
     "text": [
      "05:32:28 INFO: No events found for shipment number 00340434188193323748\n"
     ]
    },
    {
     "name": "stdout",
     "output_type": "stream",
     "text": [
      "[9, 16, 23, 30, 47, 54, 61, 78, 85, 92, 108, 115, 122, 139, 146, 153, 160, 177, 184, 191, 207, 214, 221, 238, 245]\n",
      "[ 7  7  7 17  7  7 17  7  7 16  7  7 17  7  7  7 17  7  7 16  7  7 17  7]\n"
     ]
    },
    {
     "name": "stderr",
     "output_type": "stream",
     "text": [
      "05:32:28 INFO: No events found for shipment number 00340434188193323749\n"
     ]
    },
    {
     "name": "stdout",
     "output_type": "stream",
     "text": [
      "[9, 16, 23, 30, 47, 54, 61, 78, 85, 92, 108, 115, 122, 139, 146, 153, 160, 177, 184, 191, 207, 214, 221, 238, 245]\n",
      "[ 7  7  7 17  7  7 17  7  7 16  7  7 17  7  7  7 17  7  7 16  7  7 17  7]\n"
     ]
    },
    {
     "name": "stderr",
     "output_type": "stream",
     "text": [
      "05:32:29 INFO: No events found for shipment number 00340434188193323750\n"
     ]
    },
    {
     "name": "stdout",
     "output_type": "stream",
     "text": [
      "[9, 16, 23, 30, 47, 54, 61, 78, 85, 92, 108, 115, 122, 139, 146, 153, 160, 177, 184, 191, 207, 214, 221, 238, 245]\n",
      "[ 7  7  7 17  7  7 17  7  7 16  7  7 17  7  7  7 17  7  7 16  7  7 17  7]\n"
     ]
    },
    {
     "name": "stderr",
     "output_type": "stream",
     "text": [
      "05:32:30 INFO: No events found for shipment number 00340434188193323751\n"
     ]
    },
    {
     "name": "stdout",
     "output_type": "stream",
     "text": [
      "[9, 16, 23, 30, 47, 54, 61, 78, 85, 92, 108, 115, 122, 139, 146, 153, 160, 177, 184, 191, 207, 214, 221, 238, 245]\n",
      "[ 7  7  7 17  7  7 17  7  7 16  7  7 17  7  7  7 17  7  7 16  7  7 17  7]\n"
     ]
    },
    {
     "name": "stderr",
     "output_type": "stream",
     "text": [
      "05:32:30 INFO: Writing file ../data/00340434188193323752.json\n"
     ]
    },
    {
     "name": "stdout",
     "output_type": "stream",
     "text": [
      "[9, 16, 23, 30, 47, 54, 61, 78, 85, 92, 108, 115, 122, 139, 146, 153, 160, 177, 184, 191, 207, 214, 221, 238, 245, 252]\n",
      "[ 7  7  7 17  7  7 17  7  7 16  7  7 17  7  7  7 17  7  7 16  7  7 17  7\n",
      "  7]\n"
     ]
    },
    {
     "name": "stderr",
     "output_type": "stream",
     "text": [
      "05:32:31 INFO: No events found for shipment number 00340434188193323753\n"
     ]
    },
    {
     "name": "stdout",
     "output_type": "stream",
     "text": [
      "[9, 16, 23, 30, 47, 54, 61, 78, 85, 92, 108, 115, 122, 139, 146, 153, 160, 177, 184, 191, 207, 214, 221, 238, 245, 252]\n",
      "[ 7  7  7 17  7  7 17  7  7 16  7  7 17  7  7  7 17  7  7 16  7  7 17  7\n",
      "  7]\n"
     ]
    },
    {
     "name": "stderr",
     "output_type": "stream",
     "text": [
      "05:32:32 INFO: No events found for shipment number 00340434188193323754\n"
     ]
    },
    {
     "name": "stdout",
     "output_type": "stream",
     "text": [
      "[9, 16, 23, 30, 47, 54, 61, 78, 85, 92, 108, 115, 122, 139, 146, 153, 160, 177, 184, 191, 207, 214, 221, 238, 245, 252]\n",
      "[ 7  7  7 17  7  7 17  7  7 16  7  7 17  7  7  7 17  7  7 16  7  7 17  7\n",
      "  7]\n"
     ]
    },
    {
     "name": "stderr",
     "output_type": "stream",
     "text": [
      "05:32:32 INFO: No events found for shipment number 00340434188193323755\n"
     ]
    },
    {
     "name": "stdout",
     "output_type": "stream",
     "text": [
      "[9, 16, 23, 30, 47, 54, 61, 78, 85, 92, 108, 115, 122, 139, 146, 153, 160, 177, 184, 191, 207, 214, 221, 238, 245, 252]\n",
      "[ 7  7  7 17  7  7 17  7  7 16  7  7 17  7  7  7 17  7  7 16  7  7 17  7\n",
      "  7]\n"
     ]
    },
    {
     "name": "stderr",
     "output_type": "stream",
     "text": [
      "05:32:33 INFO: No events found for shipment number 00340434188193323756\n"
     ]
    },
    {
     "name": "stdout",
     "output_type": "stream",
     "text": [
      "[9, 16, 23, 30, 47, 54, 61, 78, 85, 92, 108, 115, 122, 139, 146, 153, 160, 177, 184, 191, 207, 214, 221, 238, 245, 252]\n",
      "[ 7  7  7 17  7  7 17  7  7 16  7  7 17  7  7  7 17  7  7 16  7  7 17  7\n",
      "  7]\n"
     ]
    },
    {
     "name": "stderr",
     "output_type": "stream",
     "text": [
      "05:32:34 INFO: No events found for shipment number 00340434188193323757\n"
     ]
    },
    {
     "name": "stdout",
     "output_type": "stream",
     "text": [
      "[9, 16, 23, 30, 47, 54, 61, 78, 85, 92, 108, 115, 122, 139, 146, 153, 160, 177, 184, 191, 207, 214, 221, 238, 245, 252]\n",
      "[ 7  7  7 17  7  7 17  7  7 16  7  7 17  7  7  7 17  7  7 16  7  7 17  7\n",
      "  7]\n"
     ]
    },
    {
     "name": "stderr",
     "output_type": "stream",
     "text": [
      "05:32:34 INFO: No events found for shipment number 00340434188193323758\n"
     ]
    },
    {
     "name": "stdout",
     "output_type": "stream",
     "text": [
      "[9, 16, 23, 30, 47, 54, 61, 78, 85, 92, 108, 115, 122, 139, 146, 153, 160, 177, 184, 191, 207, 214, 221, 238, 245, 252]\n",
      "[ 7  7  7 17  7  7 17  7  7 16  7  7 17  7  7  7 17  7  7 16  7  7 17  7\n",
      "  7]\n"
     ]
    },
    {
     "name": "stderr",
     "output_type": "stream",
     "text": [
      "05:32:35 INFO: No events found for shipment number 00340434188193323759\n"
     ]
    },
    {
     "name": "stdout",
     "output_type": "stream",
     "text": [
      "[9, 16, 23, 30, 47, 54, 61, 78, 85, 92, 108, 115, 122, 139, 146, 153, 160, 177, 184, 191, 207, 214, 221, 238, 245, 252]\n",
      "[ 7  7  7 17  7  7 17  7  7 16  7  7 17  7  7  7 17  7  7 16  7  7 17  7\n",
      "  7]\n"
     ]
    },
    {
     "name": "stderr",
     "output_type": "stream",
     "text": [
      "05:32:36 INFO: No events found for shipment number 00340434188193323760\n"
     ]
    },
    {
     "name": "stdout",
     "output_type": "stream",
     "text": [
      "[9, 16, 23, 30, 47, 54, 61, 78, 85, 92, 108, 115, 122, 139, 146, 153, 160, 177, 184, 191, 207, 214, 221, 238, 245, 252]\n",
      "[ 7  7  7 17  7  7 17  7  7 16  7  7 17  7  7  7 17  7  7 16  7  7 17  7\n",
      "  7]\n"
     ]
    },
    {
     "name": "stderr",
     "output_type": "stream",
     "text": [
      "05:32:36 INFO: No events found for shipment number 00340434188193323761\n"
     ]
    },
    {
     "name": "stdout",
     "output_type": "stream",
     "text": [
      "[9, 16, 23, 30, 47, 54, 61, 78, 85, 92, 108, 115, 122, 139, 146, 153, 160, 177, 184, 191, 207, 214, 221, 238, 245, 252]\n",
      "[ 7  7  7 17  7  7 17  7  7 16  7  7 17  7  7  7 17  7  7 16  7  7 17  7\n",
      "  7]\n"
     ]
    },
    {
     "name": "stderr",
     "output_type": "stream",
     "text": [
      "05:32:37 INFO: No events found for shipment number 00340434188193323762\n"
     ]
    },
    {
     "name": "stdout",
     "output_type": "stream",
     "text": [
      "[9, 16, 23, 30, 47, 54, 61, 78, 85, 92, 108, 115, 122, 139, 146, 153, 160, 177, 184, 191, 207, 214, 221, 238, 245, 252]\n",
      "[ 7  7  7 17  7  7 17  7  7 16  7  7 17  7  7  7 17  7  7 16  7  7 17  7\n",
      "  7]\n"
     ]
    },
    {
     "name": "stderr",
     "output_type": "stream",
     "text": [
      "05:32:38 INFO: No events found for shipment number 00340434188193323763\n"
     ]
    },
    {
     "name": "stdout",
     "output_type": "stream",
     "text": [
      "[9, 16, 23, 30, 47, 54, 61, 78, 85, 92, 108, 115, 122, 139, 146, 153, 160, 177, 184, 191, 207, 214, 221, 238, 245, 252]\n",
      "[ 7  7  7 17  7  7 17  7  7 16  7  7 17  7  7  7 17  7  7 16  7  7 17  7\n",
      "  7]\n"
     ]
    },
    {
     "name": "stderr",
     "output_type": "stream",
     "text": [
      "05:32:38 INFO: No events found for shipment number 00340434188193323764\n"
     ]
    },
    {
     "name": "stdout",
     "output_type": "stream",
     "text": [
      "[9, 16, 23, 30, 47, 54, 61, 78, 85, 92, 108, 115, 122, 139, 146, 153, 160, 177, 184, 191, 207, 214, 221, 238, 245, 252]\n",
      "[ 7  7  7 17  7  7 17  7  7 16  7  7 17  7  7  7 17  7  7 16  7  7 17  7\n",
      "  7]\n"
     ]
    },
    {
     "name": "stderr",
     "output_type": "stream",
     "text": [
      "05:32:39 INFO: No events found for shipment number 00340434188193323765\n"
     ]
    },
    {
     "name": "stdout",
     "output_type": "stream",
     "text": [
      "[9, 16, 23, 30, 47, 54, 61, 78, 85, 92, 108, 115, 122, 139, 146, 153, 160, 177, 184, 191, 207, 214, 221, 238, 245, 252]\n",
      "[ 7  7  7 17  7  7 17  7  7 16  7  7 17  7  7  7 17  7  7 16  7  7 17  7\n",
      "  7]\n"
     ]
    },
    {
     "name": "stderr",
     "output_type": "stream",
     "text": [
      "05:32:39 INFO: No events found for shipment number 00340434188193323766\n"
     ]
    },
    {
     "name": "stdout",
     "output_type": "stream",
     "text": [
      "[9, 16, 23, 30, 47, 54, 61, 78, 85, 92, 108, 115, 122, 139, 146, 153, 160, 177, 184, 191, 207, 214, 221, 238, 245, 252]\n",
      "[ 7  7  7 17  7  7 17  7  7 16  7  7 17  7  7  7 17  7  7 16  7  7 17  7\n",
      "  7]\n"
     ]
    },
    {
     "name": "stderr",
     "output_type": "stream",
     "text": [
      "05:32:40 INFO: No events found for shipment number 00340434188193323767\n"
     ]
    },
    {
     "name": "stdout",
     "output_type": "stream",
     "text": [
      "[9, 16, 23, 30, 47, 54, 61, 78, 85, 92, 108, 115, 122, 139, 146, 153, 160, 177, 184, 191, 207, 214, 221, 238, 245, 252]\n",
      "[ 7  7  7 17  7  7 17  7  7 16  7  7 17  7  7  7 17  7  7 16  7  7 17  7\n",
      "  7]\n"
     ]
    },
    {
     "name": "stderr",
     "output_type": "stream",
     "text": [
      "05:32:41 INFO: No events found for shipment number 00340434188193323768\n"
     ]
    },
    {
     "name": "stdout",
     "output_type": "stream",
     "text": [
      "[9, 16, 23, 30, 47, 54, 61, 78, 85, 92, 108, 115, 122, 139, 146, 153, 160, 177, 184, 191, 207, 214, 221, 238, 245, 252]\n",
      "[ 7  7  7 17  7  7 17  7  7 16  7  7 17  7  7  7 17  7  7 16  7  7 17  7\n",
      "  7]\n"
     ]
    },
    {
     "name": "stderr",
     "output_type": "stream",
     "text": [
      "05:32:41 INFO: Writing file ../data/00340434188193323769.json\n"
     ]
    },
    {
     "name": "stdout",
     "output_type": "stream",
     "text": [
      "[9, 16, 23, 30, 47, 54, 61, 78, 85, 92, 108, 115, 122, 139, 146, 153, 160, 177, 184, 191, 207, 214, 221, 238, 245, 252, 269]\n",
      "[ 7  7  7 17  7  7 17  7  7 16  7  7 17  7  7  7 17  7  7 16  7  7 17  7\n",
      "  7 17]\n"
     ]
    },
    {
     "name": "stderr",
     "output_type": "stream",
     "text": [
      "05:32:42 INFO: No events found for shipment number 00340434188193323770\n"
     ]
    },
    {
     "name": "stdout",
     "output_type": "stream",
     "text": [
      "[9, 16, 23, 30, 47, 54, 61, 78, 85, 92, 108, 115, 122, 139, 146, 153, 160, 177, 184, 191, 207, 214, 221, 238, 245, 252, 269]\n",
      "[ 7  7  7 17  7  7 17  7  7 16  7  7 17  7  7  7 17  7  7 16  7  7 17  7\n",
      "  7 17]\n"
     ]
    },
    {
     "name": "stderr",
     "output_type": "stream",
     "text": [
      "05:32:43 INFO: No events found for shipment number 00340434188193323771\n"
     ]
    },
    {
     "name": "stdout",
     "output_type": "stream",
     "text": [
      "[9, 16, 23, 30, 47, 54, 61, 78, 85, 92, 108, 115, 122, 139, 146, 153, 160, 177, 184, 191, 207, 214, 221, 238, 245, 252, 269]\n",
      "[ 7  7  7 17  7  7 17  7  7 16  7  7 17  7  7  7 17  7  7 16  7  7 17  7\n",
      "  7 17]\n"
     ]
    },
    {
     "name": "stderr",
     "output_type": "stream",
     "text": [
      "05:32:43 INFO: No events found for shipment number 00340434188193323772\n"
     ]
    },
    {
     "name": "stdout",
     "output_type": "stream",
     "text": [
      "[9, 16, 23, 30, 47, 54, 61, 78, 85, 92, 108, 115, 122, 139, 146, 153, 160, 177, 184, 191, 207, 214, 221, 238, 245, 252, 269]\n",
      "[ 7  7  7 17  7  7 17  7  7 16  7  7 17  7  7  7 17  7  7 16  7  7 17  7\n",
      "  7 17]\n"
     ]
    },
    {
     "name": "stderr",
     "output_type": "stream",
     "text": [
      "05:32:44 INFO: No events found for shipment number 00340434188193323773\n"
     ]
    },
    {
     "name": "stdout",
     "output_type": "stream",
     "text": [
      "[9, 16, 23, 30, 47, 54, 61, 78, 85, 92, 108, 115, 122, 139, 146, 153, 160, 177, 184, 191, 207, 214, 221, 238, 245, 252, 269]\n",
      "[ 7  7  7 17  7  7 17  7  7 16  7  7 17  7  7  7 17  7  7 16  7  7 17  7\n",
      "  7 17]\n"
     ]
    },
    {
     "name": "stderr",
     "output_type": "stream",
     "text": [
      "05:32:44 INFO: No events found for shipment number 00340434188193323774\n"
     ]
    },
    {
     "name": "stdout",
     "output_type": "stream",
     "text": [
      "[9, 16, 23, 30, 47, 54, 61, 78, 85, 92, 108, 115, 122, 139, 146, 153, 160, 177, 184, 191, 207, 214, 221, 238, 245, 252, 269]\n",
      "[ 7  7  7 17  7  7 17  7  7 16  7  7 17  7  7  7 17  7  7 16  7  7 17  7\n",
      "  7 17]\n"
     ]
    },
    {
     "name": "stderr",
     "output_type": "stream",
     "text": [
      "05:32:45 INFO: No events found for shipment number 00340434188193323775\n"
     ]
    },
    {
     "name": "stdout",
     "output_type": "stream",
     "text": [
      "[9, 16, 23, 30, 47, 54, 61, 78, 85, 92, 108, 115, 122, 139, 146, 153, 160, 177, 184, 191, 207, 214, 221, 238, 245, 252, 269]\n",
      "[ 7  7  7 17  7  7 17  7  7 16  7  7 17  7  7  7 17  7  7 16  7  7 17  7\n",
      "  7 17]\n"
     ]
    },
    {
     "name": "stderr",
     "output_type": "stream",
     "text": [
      "05:32:46 INFO: Writing file ../data/00340434188193323776.json\n"
     ]
    },
    {
     "name": "stdout",
     "output_type": "stream",
     "text": [
      "[9, 16, 23, 30, 47, 54, 61, 78, 85, 92, 108, 115, 122, 139, 146, 153, 160, 177, 184, 191, 207, 214, 221, 238, 245, 252, 269, 276]\n",
      "[ 7  7  7 17  7  7 17  7  7 16  7  7 17  7  7  7 17  7  7 16  7  7 17  7\n",
      "  7 17  7]\n"
     ]
    },
    {
     "name": "stderr",
     "output_type": "stream",
     "text": [
      "05:32:46 INFO: No events found for shipment number 00340434188193323777\n"
     ]
    },
    {
     "name": "stdout",
     "output_type": "stream",
     "text": [
      "[9, 16, 23, 30, 47, 54, 61, 78, 85, 92, 108, 115, 122, 139, 146, 153, 160, 177, 184, 191, 207, 214, 221, 238, 245, 252, 269, 276]\n",
      "[ 7  7  7 17  7  7 17  7  7 16  7  7 17  7  7  7 17  7  7 16  7  7 17  7\n",
      "  7 17  7]\n"
     ]
    },
    {
     "name": "stderr",
     "output_type": "stream",
     "text": [
      "05:32:47 INFO: No events found for shipment number 00340434188193323778\n"
     ]
    },
    {
     "name": "stdout",
     "output_type": "stream",
     "text": [
      "[9, 16, 23, 30, 47, 54, 61, 78, 85, 92, 108, 115, 122, 139, 146, 153, 160, 177, 184, 191, 207, 214, 221, 238, 245, 252, 269, 276]\n",
      "[ 7  7  7 17  7  7 17  7  7 16  7  7 17  7  7  7 17  7  7 16  7  7 17  7\n",
      "  7 17  7]\n"
     ]
    },
    {
     "name": "stderr",
     "output_type": "stream",
     "text": [
      "05:32:48 INFO: No events found for shipment number 00340434188193323779\n"
     ]
    },
    {
     "name": "stdout",
     "output_type": "stream",
     "text": [
      "[9, 16, 23, 30, 47, 54, 61, 78, 85, 92, 108, 115, 122, 139, 146, 153, 160, 177, 184, 191, 207, 214, 221, 238, 245, 252, 269, 276]\n",
      "[ 7  7  7 17  7  7 17  7  7 16  7  7 17  7  7  7 17  7  7 16  7  7 17  7\n",
      "  7 17  7]\n"
     ]
    },
    {
     "name": "stderr",
     "output_type": "stream",
     "text": [
      "05:32:48 INFO: No events found for shipment number 00340434188193323780\n"
     ]
    },
    {
     "name": "stdout",
     "output_type": "stream",
     "text": [
      "[9, 16, 23, 30, 47, 54, 61, 78, 85, 92, 108, 115, 122, 139, 146, 153, 160, 177, 184, 191, 207, 214, 221, 238, 245, 252, 269, 276]\n",
      "[ 7  7  7 17  7  7 17  7  7 16  7  7 17  7  7  7 17  7  7 16  7  7 17  7\n",
      "  7 17  7]\n"
     ]
    },
    {
     "name": "stderr",
     "output_type": "stream",
     "text": [
      "05:32:49 INFO: No events found for shipment number 00340434188193323781\n"
     ]
    },
    {
     "name": "stdout",
     "output_type": "stream",
     "text": [
      "[9, 16, 23, 30, 47, 54, 61, 78, 85, 92, 108, 115, 122, 139, 146, 153, 160, 177, 184, 191, 207, 214, 221, 238, 245, 252, 269, 276]\n",
      "[ 7  7  7 17  7  7 17  7  7 16  7  7 17  7  7  7 17  7  7 16  7  7 17  7\n",
      "  7 17  7]\n"
     ]
    },
    {
     "name": "stderr",
     "output_type": "stream",
     "text": [
      "05:32:50 INFO: No events found for shipment number 00340434188193323782\n"
     ]
    },
    {
     "name": "stdout",
     "output_type": "stream",
     "text": [
      "[9, 16, 23, 30, 47, 54, 61, 78, 85, 92, 108, 115, 122, 139, 146, 153, 160, 177, 184, 191, 207, 214, 221, 238, 245, 252, 269, 276]\n",
      "[ 7  7  7 17  7  7 17  7  7 16  7  7 17  7  7  7 17  7  7 16  7  7 17  7\n",
      "  7 17  7]\n"
     ]
    },
    {
     "name": "stderr",
     "output_type": "stream",
     "text": [
      "05:32:50 INFO: Writing file ../data/00340434188193323783.json\n"
     ]
    },
    {
     "name": "stdout",
     "output_type": "stream",
     "text": [
      "[9, 16, 23, 30, 47, 54, 61, 78, 85, 92, 108, 115, 122, 139, 146, 153, 160, 177, 184, 191, 207, 214, 221, 238, 245, 252, 269, 276, 283]\n",
      "[ 7  7  7 17  7  7 17  7  7 16  7  7 17  7  7  7 17  7  7 16  7  7 17  7\n",
      "  7 17  7  7]\n"
     ]
    },
    {
     "name": "stderr",
     "output_type": "stream",
     "text": [
      "05:32:51 INFO: No events found for shipment number 00340434188193323784\n"
     ]
    },
    {
     "name": "stdout",
     "output_type": "stream",
     "text": [
      "[9, 16, 23, 30, 47, 54, 61, 78, 85, 92, 108, 115, 122, 139, 146, 153, 160, 177, 184, 191, 207, 214, 221, 238, 245, 252, 269, 276, 283]\n",
      "[ 7  7  7 17  7  7 17  7  7 16  7  7 17  7  7  7 17  7  7 16  7  7 17  7\n",
      "  7 17  7  7]\n"
     ]
    },
    {
     "name": "stderr",
     "output_type": "stream",
     "text": [
      "05:32:52 INFO: No events found for shipment number 00340434188193323785\n"
     ]
    },
    {
     "name": "stdout",
     "output_type": "stream",
     "text": [
      "[9, 16, 23, 30, 47, 54, 61, 78, 85, 92, 108, 115, 122, 139, 146, 153, 160, 177, 184, 191, 207, 214, 221, 238, 245, 252, 269, 276, 283]\n",
      "[ 7  7  7 17  7  7 17  7  7 16  7  7 17  7  7  7 17  7  7 16  7  7 17  7\n",
      "  7 17  7  7]\n"
     ]
    },
    {
     "name": "stderr",
     "output_type": "stream",
     "text": [
      "05:32:52 INFO: No events found for shipment number 00340434188193323786\n"
     ]
    },
    {
     "name": "stdout",
     "output_type": "stream",
     "text": [
      "[9, 16, 23, 30, 47, 54, 61, 78, 85, 92, 108, 115, 122, 139, 146, 153, 160, 177, 184, 191, 207, 214, 221, 238, 245, 252, 269, 276, 283]\n",
      "[ 7  7  7 17  7  7 17  7  7 16  7  7 17  7  7  7 17  7  7 16  7  7 17  7\n",
      "  7 17  7  7]\n"
     ]
    },
    {
     "name": "stderr",
     "output_type": "stream",
     "text": [
      "05:32:53 INFO: No events found for shipment number 00340434188193323787\n"
     ]
    },
    {
     "name": "stdout",
     "output_type": "stream",
     "text": [
      "[9, 16, 23, 30, 47, 54, 61, 78, 85, 92, 108, 115, 122, 139, 146, 153, 160, 177, 184, 191, 207, 214, 221, 238, 245, 252, 269, 276, 283]\n",
      "[ 7  7  7 17  7  7 17  7  7 16  7  7 17  7  7  7 17  7  7 16  7  7 17  7\n",
      "  7 17  7  7]\n"
     ]
    },
    {
     "name": "stderr",
     "output_type": "stream",
     "text": [
      "05:32:54 INFO: No events found for shipment number 00340434188193323788\n"
     ]
    },
    {
     "name": "stdout",
     "output_type": "stream",
     "text": [
      "[9, 16, 23, 30, 47, 54, 61, 78, 85, 92, 108, 115, 122, 139, 146, 153, 160, 177, 184, 191, 207, 214, 221, 238, 245, 252, 269, 276, 283]\n",
      "[ 7  7  7 17  7  7 17  7  7 16  7  7 17  7  7  7 17  7  7 16  7  7 17  7\n",
      "  7 17  7  7]\n"
     ]
    },
    {
     "name": "stderr",
     "output_type": "stream",
     "text": [
      "05:32:54 INFO: No events found for shipment number 00340434188193323789\n"
     ]
    },
    {
     "name": "stdout",
     "output_type": "stream",
     "text": [
      "[9, 16, 23, 30, 47, 54, 61, 78, 85, 92, 108, 115, 122, 139, 146, 153, 160, 177, 184, 191, 207, 214, 221, 238, 245, 252, 269, 276, 283]\n",
      "[ 7  7  7 17  7  7 17  7  7 16  7  7 17  7  7  7 17  7  7 16  7  7 17  7\n",
      "  7 17  7  7]\n"
     ]
    },
    {
     "name": "stderr",
     "output_type": "stream",
     "text": [
      "05:32:55 INFO: Writing file ../data/00340434188193323790.json\n"
     ]
    },
    {
     "name": "stdout",
     "output_type": "stream",
     "text": [
      "[9, 16, 23, 30, 47, 54, 61, 78, 85, 92, 108, 115, 122, 139, 146, 153, 160, 177, 184, 191, 207, 214, 221, 238, 245, 252, 269, 276, 283, 290]\n",
      "[ 7  7  7 17  7  7 17  7  7 16  7  7 17  7  7  7 17  7  7 16  7  7 17  7\n",
      "  7 17  7  7  7]\n"
     ]
    },
    {
     "name": "stderr",
     "output_type": "stream",
     "text": [
      "05:32:56 INFO: No events found for shipment number 00340434188193323791\n"
     ]
    },
    {
     "name": "stdout",
     "output_type": "stream",
     "text": [
      "[9, 16, 23, 30, 47, 54, 61, 78, 85, 92, 108, 115, 122, 139, 146, 153, 160, 177, 184, 191, 207, 214, 221, 238, 245, 252, 269, 276, 283, 290]\n",
      "[ 7  7  7 17  7  7 17  7  7 16  7  7 17  7  7  7 17  7  7 16  7  7 17  7\n",
      "  7 17  7  7  7]\n"
     ]
    },
    {
     "name": "stderr",
     "output_type": "stream",
     "text": [
      "05:32:57 INFO: No events found for shipment number 00340434188193323792\n"
     ]
    },
    {
     "name": "stdout",
     "output_type": "stream",
     "text": [
      "[9, 16, 23, 30, 47, 54, 61, 78, 85, 92, 108, 115, 122, 139, 146, 153, 160, 177, 184, 191, 207, 214, 221, 238, 245, 252, 269, 276, 283, 290]\n",
      "[ 7  7  7 17  7  7 17  7  7 16  7  7 17  7  7  7 17  7  7 16  7  7 17  7\n",
      "  7 17  7  7  7]\n"
     ]
    },
    {
     "name": "stderr",
     "output_type": "stream",
     "text": [
      "05:32:57 INFO: No events found for shipment number 00340434188193323793\n"
     ]
    },
    {
     "name": "stdout",
     "output_type": "stream",
     "text": [
      "[9, 16, 23, 30, 47, 54, 61, 78, 85, 92, 108, 115, 122, 139, 146, 153, 160, 177, 184, 191, 207, 214, 221, 238, 245, 252, 269, 276, 283, 290]\n",
      "[ 7  7  7 17  7  7 17  7  7 16  7  7 17  7  7  7 17  7  7 16  7  7 17  7\n",
      "  7 17  7  7  7]\n"
     ]
    },
    {
     "name": "stderr",
     "output_type": "stream",
     "text": [
      "05:32:58 INFO: No events found for shipment number 00340434188193323794\n"
     ]
    },
    {
     "name": "stdout",
     "output_type": "stream",
     "text": [
      "[9, 16, 23, 30, 47, 54, 61, 78, 85, 92, 108, 115, 122, 139, 146, 153, 160, 177, 184, 191, 207, 214, 221, 238, 245, 252, 269, 276, 283, 290]\n",
      "[ 7  7  7 17  7  7 17  7  7 16  7  7 17  7  7  7 17  7  7 16  7  7 17  7\n",
      "  7 17  7  7  7]\n"
     ]
    },
    {
     "name": "stderr",
     "output_type": "stream",
     "text": [
      "05:32:59 INFO: No events found for shipment number 00340434188193323795\n"
     ]
    },
    {
     "name": "stdout",
     "output_type": "stream",
     "text": [
      "[9, 16, 23, 30, 47, 54, 61, 78, 85, 92, 108, 115, 122, 139, 146, 153, 160, 177, 184, 191, 207, 214, 221, 238, 245, 252, 269, 276, 283, 290]\n",
      "[ 7  7  7 17  7  7 17  7  7 16  7  7 17  7  7  7 17  7  7 16  7  7 17  7\n",
      "  7 17  7  7  7]\n"
     ]
    },
    {
     "name": "stderr",
     "output_type": "stream",
     "text": [
      "05:32:59 INFO: No events found for shipment number 00340434188193323796\n"
     ]
    },
    {
     "name": "stdout",
     "output_type": "stream",
     "text": [
      "[9, 16, 23, 30, 47, 54, 61, 78, 85, 92, 108, 115, 122, 139, 146, 153, 160, 177, 184, 191, 207, 214, 221, 238, 245, 252, 269, 276, 283, 290]\n",
      "[ 7  7  7 17  7  7 17  7  7 16  7  7 17  7  7  7 17  7  7 16  7  7 17  7\n",
      "  7 17  7  7  7]\n"
     ]
    },
    {
     "name": "stderr",
     "output_type": "stream",
     "text": [
      "05:33:00 INFO: No events found for shipment number 00340434188193323797\n"
     ]
    },
    {
     "name": "stdout",
     "output_type": "stream",
     "text": [
      "[9, 16, 23, 30, 47, 54, 61, 78, 85, 92, 108, 115, 122, 139, 146, 153, 160, 177, 184, 191, 207, 214, 221, 238, 245, 252, 269, 276, 283, 290]\n",
      "[ 7  7  7 17  7  7 17  7  7 16  7  7 17  7  7  7 17  7  7 16  7  7 17  7\n",
      "  7 17  7  7  7]\n"
     ]
    },
    {
     "name": "stderr",
     "output_type": "stream",
     "text": [
      "05:33:01 INFO: No events found for shipment number 00340434188193323798\n"
     ]
    },
    {
     "name": "stdout",
     "output_type": "stream",
     "text": [
      "[9, 16, 23, 30, 47, 54, 61, 78, 85, 92, 108, 115, 122, 139, 146, 153, 160, 177, 184, 191, 207, 214, 221, 238, 245, 252, 269, 276, 283, 290]\n",
      "[ 7  7  7 17  7  7 17  7  7 16  7  7 17  7  7  7 17  7  7 16  7  7 17  7\n",
      "  7 17  7  7  7]\n"
     ]
    },
    {
     "name": "stderr",
     "output_type": "stream",
     "text": [
      "05:33:01 INFO: No events found for shipment number 00340434188193323799\n"
     ]
    },
    {
     "name": "stdout",
     "output_type": "stream",
     "text": [
      "[9, 16, 23, 30, 47, 54, 61, 78, 85, 92, 108, 115, 122, 139, 146, 153, 160, 177, 184, 191, 207, 214, 221, 238, 245, 252, 269, 276, 283, 290]\n",
      "[ 7  7  7 17  7  7 17  7  7 16  7  7 17  7  7  7 17  7  7 16  7  7 17  7\n",
      "  7 17  7  7  7]\n"
     ]
    },
    {
     "name": "stderr",
     "output_type": "stream",
     "text": [
      "05:33:02 INFO: No events found for shipment number 00340434188193323800\n"
     ]
    },
    {
     "name": "stdout",
     "output_type": "stream",
     "text": [
      "[9, 16, 23, 30, 47, 54, 61, 78, 85, 92, 108, 115, 122, 139, 146, 153, 160, 177, 184, 191, 207, 214, 221, 238, 245, 252, 269, 276, 283, 290]\n",
      "[ 7  7  7 17  7  7 17  7  7 16  7  7 17  7  7  7 17  7  7 16  7  7 17  7\n",
      "  7 17  7  7  7]\n"
     ]
    },
    {
     "name": "stderr",
     "output_type": "stream",
     "text": [
      "05:33:02 INFO: No events found for shipment number 00340434188193323801\n"
     ]
    },
    {
     "name": "stdout",
     "output_type": "stream",
     "text": [
      "[9, 16, 23, 30, 47, 54, 61, 78, 85, 92, 108, 115, 122, 139, 146, 153, 160, 177, 184, 191, 207, 214, 221, 238, 245, 252, 269, 276, 283, 290]\n",
      "[ 7  7  7 17  7  7 17  7  7 16  7  7 17  7  7  7 17  7  7 16  7  7 17  7\n",
      "  7 17  7  7  7]\n"
     ]
    },
    {
     "name": "stderr",
     "output_type": "stream",
     "text": [
      "05:33:03 INFO: No events found for shipment number 00340434188193323802\n"
     ]
    },
    {
     "name": "stdout",
     "output_type": "stream",
     "text": [
      "[9, 16, 23, 30, 47, 54, 61, 78, 85, 92, 108, 115, 122, 139, 146, 153, 160, 177, 184, 191, 207, 214, 221, 238, 245, 252, 269, 276, 283, 290]\n",
      "[ 7  7  7 17  7  7 17  7  7 16  7  7 17  7  7  7 17  7  7 16  7  7 17  7\n",
      "  7 17  7  7  7]\n"
     ]
    },
    {
     "name": "stderr",
     "output_type": "stream",
     "text": [
      "05:33:04 INFO: No events found for shipment number 00340434188193323803\n"
     ]
    },
    {
     "name": "stdout",
     "output_type": "stream",
     "text": [
      "[9, 16, 23, 30, 47, 54, 61, 78, 85, 92, 108, 115, 122, 139, 146, 153, 160, 177, 184, 191, 207, 214, 221, 238, 245, 252, 269, 276, 283, 290]\n",
      "[ 7  7  7 17  7  7 17  7  7 16  7  7 17  7  7  7 17  7  7 16  7  7 17  7\n",
      "  7 17  7  7  7]\n"
     ]
    },
    {
     "name": "stderr",
     "output_type": "stream",
     "text": [
      "05:33:04 INFO: No events found for shipment number 00340434188193323804\n"
     ]
    },
    {
     "name": "stdout",
     "output_type": "stream",
     "text": [
      "[9, 16, 23, 30, 47, 54, 61, 78, 85, 92, 108, 115, 122, 139, 146, 153, 160, 177, 184, 191, 207, 214, 221, 238, 245, 252, 269, 276, 283, 290]\n",
      "[ 7  7  7 17  7  7 17  7  7 16  7  7 17  7  7  7 17  7  7 16  7  7 17  7\n",
      "  7 17  7  7  7]\n"
     ]
    },
    {
     "name": "stderr",
     "output_type": "stream",
     "text": [
      "05:33:05 INFO: No events found for shipment number 00340434188193323805\n"
     ]
    },
    {
     "name": "stdout",
     "output_type": "stream",
     "text": [
      "[9, 16, 23, 30, 47, 54, 61, 78, 85, 92, 108, 115, 122, 139, 146, 153, 160, 177, 184, 191, 207, 214, 221, 238, 245, 252, 269, 276, 283, 290]\n",
      "[ 7  7  7 17  7  7 17  7  7 16  7  7 17  7  7  7 17  7  7 16  7  7 17  7\n",
      "  7 17  7  7  7]\n"
     ]
    },
    {
     "name": "stderr",
     "output_type": "stream",
     "text": [
      "05:33:06 INFO: Writing file ../data/00340434188193323806.json\n"
     ]
    },
    {
     "name": "stdout",
     "output_type": "stream",
     "text": [
      "[9, 16, 23, 30, 47, 54, 61, 78, 85, 92, 108, 115, 122, 139, 146, 153, 160, 177, 184, 191, 207, 214, 221, 238, 245, 252, 269, 276, 283, 290, 306]\n",
      "[ 7  7  7 17  7  7 17  7  7 16  7  7 17  7  7  7 17  7  7 16  7  7 17  7\n",
      "  7 17  7  7  7 16]\n"
     ]
    },
    {
     "name": "stderr",
     "output_type": "stream",
     "text": [
      "05:33:06 INFO: No events found for shipment number 00340434188193323807\n"
     ]
    },
    {
     "name": "stdout",
     "output_type": "stream",
     "text": [
      "[9, 16, 23, 30, 47, 54, 61, 78, 85, 92, 108, 115, 122, 139, 146, 153, 160, 177, 184, 191, 207, 214, 221, 238, 245, 252, 269, 276, 283, 290, 306]\n",
      "[ 7  7  7 17  7  7 17  7  7 16  7  7 17  7  7  7 17  7  7 16  7  7 17  7\n",
      "  7 17  7  7  7 16]\n"
     ]
    },
    {
     "name": "stderr",
     "output_type": "stream",
     "text": [
      "05:33:07 INFO: No events found for shipment number 00340434188193323808\n"
     ]
    },
    {
     "name": "stdout",
     "output_type": "stream",
     "text": [
      "[9, 16, 23, 30, 47, 54, 61, 78, 85, 92, 108, 115, 122, 139, 146, 153, 160, 177, 184, 191, 207, 214, 221, 238, 245, 252, 269, 276, 283, 290, 306]\n",
      "[ 7  7  7 17  7  7 17  7  7 16  7  7 17  7  7  7 17  7  7 16  7  7 17  7\n",
      "  7 17  7  7  7 16]\n"
     ]
    },
    {
     "name": "stderr",
     "output_type": "stream",
     "text": [
      "05:33:08 INFO: No events found for shipment number 00340434188193323809\n"
     ]
    },
    {
     "name": "stdout",
     "output_type": "stream",
     "text": [
      "[9, 16, 23, 30, 47, 54, 61, 78, 85, 92, 108, 115, 122, 139, 146, 153, 160, 177, 184, 191, 207, 214, 221, 238, 245, 252, 269, 276, 283, 290, 306]\n",
      "[ 7  7  7 17  7  7 17  7  7 16  7  7 17  7  7  7 17  7  7 16  7  7 17  7\n",
      "  7 17  7  7  7 16]\n"
     ]
    },
    {
     "name": "stderr",
     "output_type": "stream",
     "text": [
      "05:33:08 INFO: No events found for shipment number 00340434188193323810\n"
     ]
    },
    {
     "name": "stdout",
     "output_type": "stream",
     "text": [
      "[9, 16, 23, 30, 47, 54, 61, 78, 85, 92, 108, 115, 122, 139, 146, 153, 160, 177, 184, 191, 207, 214, 221, 238, 245, 252, 269, 276, 283, 290, 306]\n",
      "[ 7  7  7 17  7  7 17  7  7 16  7  7 17  7  7  7 17  7  7 16  7  7 17  7\n",
      "  7 17  7  7  7 16]\n"
     ]
    },
    {
     "name": "stderr",
     "output_type": "stream",
     "text": [
      "05:33:09 INFO: No events found for shipment number 00340434188193323811\n"
     ]
    },
    {
     "name": "stdout",
     "output_type": "stream",
     "text": [
      "[9, 16, 23, 30, 47, 54, 61, 78, 85, 92, 108, 115, 122, 139, 146, 153, 160, 177, 184, 191, 207, 214, 221, 238, 245, 252, 269, 276, 283, 290, 306]\n",
      "[ 7  7  7 17  7  7 17  7  7 16  7  7 17  7  7  7 17  7  7 16  7  7 17  7\n",
      "  7 17  7  7  7 16]\n"
     ]
    },
    {
     "name": "stderr",
     "output_type": "stream",
     "text": [
      "05:33:10 INFO: No events found for shipment number 00340434188193323812\n"
     ]
    },
    {
     "name": "stdout",
     "output_type": "stream",
     "text": [
      "[9, 16, 23, 30, 47, 54, 61, 78, 85, 92, 108, 115, 122, 139, 146, 153, 160, 177, 184, 191, 207, 214, 221, 238, 245, 252, 269, 276, 283, 290, 306]\n",
      "[ 7  7  7 17  7  7 17  7  7 16  7  7 17  7  7  7 17  7  7 16  7  7 17  7\n",
      "  7 17  7  7  7 16]\n"
     ]
    },
    {
     "name": "stderr",
     "output_type": "stream",
     "text": [
      "05:33:10 INFO: Writing file ../data/00340434188193323813.json\n"
     ]
    },
    {
     "name": "stdout",
     "output_type": "stream",
     "text": [
      "[9, 16, 23, 30, 47, 54, 61, 78, 85, 92, 108, 115, 122, 139, 146, 153, 160, 177, 184, 191, 207, 214, 221, 238, 245, 252, 269, 276, 283, 290, 306, 313]\n",
      "[ 7  7  7 17  7  7 17  7  7 16  7  7 17  7  7  7 17  7  7 16  7  7 17  7\n",
      "  7 17  7  7  7 16  7]\n"
     ]
    },
    {
     "name": "stderr",
     "output_type": "stream",
     "text": [
      "05:33:11 INFO: No events found for shipment number 00340434188193323814\n"
     ]
    },
    {
     "name": "stdout",
     "output_type": "stream",
     "text": [
      "[9, 16, 23, 30, 47, 54, 61, 78, 85, 92, 108, 115, 122, 139, 146, 153, 160, 177, 184, 191, 207, 214, 221, 238, 245, 252, 269, 276, 283, 290, 306, 313]\n",
      "[ 7  7  7 17  7  7 17  7  7 16  7  7 17  7  7  7 17  7  7 16  7  7 17  7\n",
      "  7 17  7  7  7 16  7]\n"
     ]
    },
    {
     "name": "stderr",
     "output_type": "stream",
     "text": [
      "05:33:12 INFO: No events found for shipment number 00340434188193323815\n"
     ]
    },
    {
     "name": "stdout",
     "output_type": "stream",
     "text": [
      "[9, 16, 23, 30, 47, 54, 61, 78, 85, 92, 108, 115, 122, 139, 146, 153, 160, 177, 184, 191, 207, 214, 221, 238, 245, 252, 269, 276, 283, 290, 306, 313]\n",
      "[ 7  7  7 17  7  7 17  7  7 16  7  7 17  7  7  7 17  7  7 16  7  7 17  7\n",
      "  7 17  7  7  7 16  7]\n"
     ]
    },
    {
     "name": "stderr",
     "output_type": "stream",
     "text": [
      "05:33:12 INFO: No events found for shipment number 00340434188193323816\n"
     ]
    },
    {
     "name": "stdout",
     "output_type": "stream",
     "text": [
      "[9, 16, 23, 30, 47, 54, 61, 78, 85, 92, 108, 115, 122, 139, 146, 153, 160, 177, 184, 191, 207, 214, 221, 238, 245, 252, 269, 276, 283, 290, 306, 313]\n",
      "[ 7  7  7 17  7  7 17  7  7 16  7  7 17  7  7  7 17  7  7 16  7  7 17  7\n",
      "  7 17  7  7  7 16  7]\n"
     ]
    },
    {
     "name": "stderr",
     "output_type": "stream",
     "text": [
      "05:33:13 INFO: No events found for shipment number 00340434188193323817\n"
     ]
    },
    {
     "name": "stdout",
     "output_type": "stream",
     "text": [
      "[9, 16, 23, 30, 47, 54, 61, 78, 85, 92, 108, 115, 122, 139, 146, 153, 160, 177, 184, 191, 207, 214, 221, 238, 245, 252, 269, 276, 283, 290, 306, 313]\n",
      "[ 7  7  7 17  7  7 17  7  7 16  7  7 17  7  7  7 17  7  7 16  7  7 17  7\n",
      "  7 17  7  7  7 16  7]\n"
     ]
    },
    {
     "name": "stderr",
     "output_type": "stream",
     "text": [
      "05:33:14 INFO: No events found for shipment number 00340434188193323818\n"
     ]
    },
    {
     "name": "stdout",
     "output_type": "stream",
     "text": [
      "[9, 16, 23, 30, 47, 54, 61, 78, 85, 92, 108, 115, 122, 139, 146, 153, 160, 177, 184, 191, 207, 214, 221, 238, 245, 252, 269, 276, 283, 290, 306, 313]\n",
      "[ 7  7  7 17  7  7 17  7  7 16  7  7 17  7  7  7 17  7  7 16  7  7 17  7\n",
      "  7 17  7  7  7 16  7]\n"
     ]
    },
    {
     "name": "stderr",
     "output_type": "stream",
     "text": [
      "05:33:14 INFO: No events found for shipment number 00340434188193323819\n"
     ]
    },
    {
     "name": "stdout",
     "output_type": "stream",
     "text": [
      "[9, 16, 23, 30, 47, 54, 61, 78, 85, 92, 108, 115, 122, 139, 146, 153, 160, 177, 184, 191, 207, 214, 221, 238, 245, 252, 269, 276, 283, 290, 306, 313]\n",
      "[ 7  7  7 17  7  7 17  7  7 16  7  7 17  7  7  7 17  7  7 16  7  7 17  7\n",
      "  7 17  7  7  7 16  7]\n"
     ]
    },
    {
     "name": "stderr",
     "output_type": "stream",
     "text": [
      "05:33:15 INFO: Writing file ../data/00340434188193323820.json\n"
     ]
    },
    {
     "name": "stdout",
     "output_type": "stream",
     "text": [
      "[9, 16, 23, 30, 47, 54, 61, 78, 85, 92, 108, 115, 122, 139, 146, 153, 160, 177, 184, 191, 207, 214, 221, 238, 245, 252, 269, 276, 283, 290, 306, 313, 320]\n",
      "[ 7  7  7 17  7  7 17  7  7 16  7  7 17  7  7  7 17  7  7 16  7  7 17  7\n",
      "  7 17  7  7  7 16  7  7]\n"
     ]
    },
    {
     "name": "stderr",
     "output_type": "stream",
     "text": [
      "05:33:16 INFO: No events found for shipment number 00340434188193323821\n"
     ]
    },
    {
     "name": "stdout",
     "output_type": "stream",
     "text": [
      "[9, 16, 23, 30, 47, 54, 61, 78, 85, 92, 108, 115, 122, 139, 146, 153, 160, 177, 184, 191, 207, 214, 221, 238, 245, 252, 269, 276, 283, 290, 306, 313, 320]\n",
      "[ 7  7  7 17  7  7 17  7  7 16  7  7 17  7  7  7 17  7  7 16  7  7 17  7\n",
      "  7 17  7  7  7 16  7  7]\n"
     ]
    },
    {
     "name": "stderr",
     "output_type": "stream",
     "text": [
      "05:33:16 INFO: No events found for shipment number 00340434188193323822\n"
     ]
    },
    {
     "name": "stdout",
     "output_type": "stream",
     "text": [
      "[9, 16, 23, 30, 47, 54, 61, 78, 85, 92, 108, 115, 122, 139, 146, 153, 160, 177, 184, 191, 207, 214, 221, 238, 245, 252, 269, 276, 283, 290, 306, 313, 320]\n",
      "[ 7  7  7 17  7  7 17  7  7 16  7  7 17  7  7  7 17  7  7 16  7  7 17  7\n",
      "  7 17  7  7  7 16  7  7]\n"
     ]
    },
    {
     "name": "stderr",
     "output_type": "stream",
     "text": [
      "05:33:17 INFO: No events found for shipment number 00340434188193323823\n"
     ]
    },
    {
     "name": "stdout",
     "output_type": "stream",
     "text": [
      "[9, 16, 23, 30, 47, 54, 61, 78, 85, 92, 108, 115, 122, 139, 146, 153, 160, 177, 184, 191, 207, 214, 221, 238, 245, 252, 269, 276, 283, 290, 306, 313, 320]\n",
      "[ 7  7  7 17  7  7 17  7  7 16  7  7 17  7  7  7 17  7  7 16  7  7 17  7\n",
      "  7 17  7  7  7 16  7  7]\n"
     ]
    },
    {
     "name": "stderr",
     "output_type": "stream",
     "text": [
      "05:33:18 INFO: No events found for shipment number 00340434188193323824\n"
     ]
    },
    {
     "name": "stdout",
     "output_type": "stream",
     "text": [
      "[9, 16, 23, 30, 47, 54, 61, 78, 85, 92, 108, 115, 122, 139, 146, 153, 160, 177, 184, 191, 207, 214, 221, 238, 245, 252, 269, 276, 283, 290, 306, 313, 320]\n",
      "[ 7  7  7 17  7  7 17  7  7 16  7  7 17  7  7  7 17  7  7 16  7  7 17  7\n",
      "  7 17  7  7  7 16  7  7]\n"
     ]
    },
    {
     "name": "stderr",
     "output_type": "stream",
     "text": [
      "05:33:18 INFO: No events found for shipment number 00340434188193323825\n"
     ]
    },
    {
     "name": "stdout",
     "output_type": "stream",
     "text": [
      "[9, 16, 23, 30, 47, 54, 61, 78, 85, 92, 108, 115, 122, 139, 146, 153, 160, 177, 184, 191, 207, 214, 221, 238, 245, 252, 269, 276, 283, 290, 306, 313, 320]\n",
      "[ 7  7  7 17  7  7 17  7  7 16  7  7 17  7  7  7 17  7  7 16  7  7 17  7\n",
      "  7 17  7  7  7 16  7  7]\n"
     ]
    },
    {
     "name": "stderr",
     "output_type": "stream",
     "text": [
      "05:33:19 INFO: No events found for shipment number 00340434188193323826\n"
     ]
    },
    {
     "name": "stdout",
     "output_type": "stream",
     "text": [
      "[9, 16, 23, 30, 47, 54, 61, 78, 85, 92, 108, 115, 122, 139, 146, 153, 160, 177, 184, 191, 207, 214, 221, 238, 245, 252, 269, 276, 283, 290, 306, 313, 320]\n",
      "[ 7  7  7 17  7  7 17  7  7 16  7  7 17  7  7  7 17  7  7 16  7  7 17  7\n",
      "  7 17  7  7  7 16  7  7]\n"
     ]
    },
    {
     "name": "stderr",
     "output_type": "stream",
     "text": [
      "05:33:20 INFO: No events found for shipment number 00340434188193323827\n"
     ]
    },
    {
     "name": "stdout",
     "output_type": "stream",
     "text": [
      "[9, 16, 23, 30, 47, 54, 61, 78, 85, 92, 108, 115, 122, 139, 146, 153, 160, 177, 184, 191, 207, 214, 221, 238, 245, 252, 269, 276, 283, 290, 306, 313, 320]\n",
      "[ 7  7  7 17  7  7 17  7  7 16  7  7 17  7  7  7 17  7  7 16  7  7 17  7\n",
      "  7 17  7  7  7 16  7  7]\n"
     ]
    },
    {
     "name": "stderr",
     "output_type": "stream",
     "text": [
      "05:33:21 INFO: No events found for shipment number 00340434188193323828\n"
     ]
    },
    {
     "name": "stdout",
     "output_type": "stream",
     "text": [
      "[9, 16, 23, 30, 47, 54, 61, 78, 85, 92, 108, 115, 122, 139, 146, 153, 160, 177, 184, 191, 207, 214, 221, 238, 245, 252, 269, 276, 283, 290, 306, 313, 320]\n",
      "[ 7  7  7 17  7  7 17  7  7 16  7  7 17  7  7  7 17  7  7 16  7  7 17  7\n",
      "  7 17  7  7  7 16  7  7]\n"
     ]
    },
    {
     "name": "stderr",
     "output_type": "stream",
     "text": [
      "05:33:21 INFO: No events found for shipment number 00340434188193323829\n"
     ]
    },
    {
     "name": "stdout",
     "output_type": "stream",
     "text": [
      "[9, 16, 23, 30, 47, 54, 61, 78, 85, 92, 108, 115, 122, 139, 146, 153, 160, 177, 184, 191, 207, 214, 221, 238, 245, 252, 269, 276, 283, 290, 306, 313, 320]\n",
      "[ 7  7  7 17  7  7 17  7  7 16  7  7 17  7  7  7 17  7  7 16  7  7 17  7\n",
      "  7 17  7  7  7 16  7  7]\n"
     ]
    },
    {
     "name": "stderr",
     "output_type": "stream",
     "text": [
      "05:33:22 INFO: No events found for shipment number 00340434188193323830\n"
     ]
    },
    {
     "name": "stdout",
     "output_type": "stream",
     "text": [
      "[9, 16, 23, 30, 47, 54, 61, 78, 85, 92, 108, 115, 122, 139, 146, 153, 160, 177, 184, 191, 207, 214, 221, 238, 245, 252, 269, 276, 283, 290, 306, 313, 320]\n",
      "[ 7  7  7 17  7  7 17  7  7 16  7  7 17  7  7  7 17  7  7 16  7  7 17  7\n",
      "  7 17  7  7  7 16  7  7]\n"
     ]
    },
    {
     "name": "stderr",
     "output_type": "stream",
     "text": [
      "05:33:23 INFO: No events found for shipment number 00340434188193323831\n"
     ]
    },
    {
     "name": "stdout",
     "output_type": "stream",
     "text": [
      "[9, 16, 23, 30, 47, 54, 61, 78, 85, 92, 108, 115, 122, 139, 146, 153, 160, 177, 184, 191, 207, 214, 221, 238, 245, 252, 269, 276, 283, 290, 306, 313, 320]\n",
      "[ 7  7  7 17  7  7 17  7  7 16  7  7 17  7  7  7 17  7  7 16  7  7 17  7\n",
      "  7 17  7  7  7 16  7  7]\n"
     ]
    },
    {
     "name": "stderr",
     "output_type": "stream",
     "text": [
      "05:33:23 INFO: No events found for shipment number 00340434188193323832\n"
     ]
    },
    {
     "name": "stdout",
     "output_type": "stream",
     "text": [
      "[9, 16, 23, 30, 47, 54, 61, 78, 85, 92, 108, 115, 122, 139, 146, 153, 160, 177, 184, 191, 207, 214, 221, 238, 245, 252, 269, 276, 283, 290, 306, 313, 320]\n",
      "[ 7  7  7 17  7  7 17  7  7 16  7  7 17  7  7  7 17  7  7 16  7  7 17  7\n",
      "  7 17  7  7  7 16  7  7]\n"
     ]
    },
    {
     "name": "stderr",
     "output_type": "stream",
     "text": [
      "05:33:24 INFO: No events found for shipment number 00340434188193323833\n"
     ]
    },
    {
     "name": "stdout",
     "output_type": "stream",
     "text": [
      "[9, 16, 23, 30, 47, 54, 61, 78, 85, 92, 108, 115, 122, 139, 146, 153, 160, 177, 184, 191, 207, 214, 221, 238, 245, 252, 269, 276, 283, 290, 306, 313, 320]\n",
      "[ 7  7  7 17  7  7 17  7  7 16  7  7 17  7  7  7 17  7  7 16  7  7 17  7\n",
      "  7 17  7  7  7 16  7  7]\n"
     ]
    },
    {
     "name": "stderr",
     "output_type": "stream",
     "text": [
      "05:33:24 INFO: No events found for shipment number 00340434188193323834\n"
     ]
    },
    {
     "name": "stdout",
     "output_type": "stream",
     "text": [
      "[9, 16, 23, 30, 47, 54, 61, 78, 85, 92, 108, 115, 122, 139, 146, 153, 160, 177, 184, 191, 207, 214, 221, 238, 245, 252, 269, 276, 283, 290, 306, 313, 320]\n",
      "[ 7  7  7 17  7  7 17  7  7 16  7  7 17  7  7  7 17  7  7 16  7  7 17  7\n",
      "  7 17  7  7  7 16  7  7]\n"
     ]
    },
    {
     "name": "stderr",
     "output_type": "stream",
     "text": [
      "05:33:25 INFO: No events found for shipment number 00340434188193323835\n"
     ]
    },
    {
     "name": "stdout",
     "output_type": "stream",
     "text": [
      "[9, 16, 23, 30, 47, 54, 61, 78, 85, 92, 108, 115, 122, 139, 146, 153, 160, 177, 184, 191, 207, 214, 221, 238, 245, 252, 269, 276, 283, 290, 306, 313, 320]\n",
      "[ 7  7  7 17  7  7 17  7  7 16  7  7 17  7  7  7 17  7  7 16  7  7 17  7\n",
      "  7 17  7  7  7 16  7  7]\n"
     ]
    },
    {
     "name": "stderr",
     "output_type": "stream",
     "text": [
      "05:33:26 INFO: No events found for shipment number 00340434188193323836\n"
     ]
    },
    {
     "name": "stdout",
     "output_type": "stream",
     "text": [
      "[9, 16, 23, 30, 47, 54, 61, 78, 85, 92, 108, 115, 122, 139, 146, 153, 160, 177, 184, 191, 207, 214, 221, 238, 245, 252, 269, 276, 283, 290, 306, 313, 320]\n",
      "[ 7  7  7 17  7  7 17  7  7 16  7  7 17  7  7  7 17  7  7 16  7  7 17  7\n",
      "  7 17  7  7  7 16  7  7]\n"
     ]
    },
    {
     "name": "stderr",
     "output_type": "stream",
     "text": [
      "05:33:27 INFO: Writing file ../data/00340434188193323837.json\n"
     ]
    },
    {
     "name": "stdout",
     "output_type": "stream",
     "text": [
      "[9, 16, 23, 30, 47, 54, 61, 78, 85, 92, 108, 115, 122, 139, 146, 153, 160, 177, 184, 191, 207, 214, 221, 238, 245, 252, 269, 276, 283, 290, 306, 313, 320, 337]\n",
      "[ 7  7  7 17  7  7 17  7  7 16  7  7 17  7  7  7 17  7  7 16  7  7 17  7\n",
      "  7 17  7  7  7 16  7  7 17]\n"
     ]
    },
    {
     "name": "stderr",
     "output_type": "stream",
     "text": [
      "05:33:27 INFO: No events found for shipment number 00340434188193323838\n"
     ]
    },
    {
     "name": "stdout",
     "output_type": "stream",
     "text": [
      "[9, 16, 23, 30, 47, 54, 61, 78, 85, 92, 108, 115, 122, 139, 146, 153, 160, 177, 184, 191, 207, 214, 221, 238, 245, 252, 269, 276, 283, 290, 306, 313, 320, 337]\n",
      "[ 7  7  7 17  7  7 17  7  7 16  7  7 17  7  7  7 17  7  7 16  7  7 17  7\n",
      "  7 17  7  7  7 16  7  7 17]\n"
     ]
    },
    {
     "name": "stderr",
     "output_type": "stream",
     "text": [
      "05:33:28 INFO: No events found for shipment number 00340434188193323839\n"
     ]
    },
    {
     "name": "stdout",
     "output_type": "stream",
     "text": [
      "[9, 16, 23, 30, 47, 54, 61, 78, 85, 92, 108, 115, 122, 139, 146, 153, 160, 177, 184, 191, 207, 214, 221, 238, 245, 252, 269, 276, 283, 290, 306, 313, 320, 337]\n",
      "[ 7  7  7 17  7  7 17  7  7 16  7  7 17  7  7  7 17  7  7 16  7  7 17  7\n",
      "  7 17  7  7  7 16  7  7 17]\n"
     ]
    },
    {
     "name": "stderr",
     "output_type": "stream",
     "text": [
      "05:33:28 INFO: No events found for shipment number 00340434188193323840\n"
     ]
    },
    {
     "name": "stdout",
     "output_type": "stream",
     "text": [
      "[9, 16, 23, 30, 47, 54, 61, 78, 85, 92, 108, 115, 122, 139, 146, 153, 160, 177, 184, 191, 207, 214, 221, 238, 245, 252, 269, 276, 283, 290, 306, 313, 320, 337]\n",
      "[ 7  7  7 17  7  7 17  7  7 16  7  7 17  7  7  7 17  7  7 16  7  7 17  7\n",
      "  7 17  7  7  7 16  7  7 17]\n"
     ]
    },
    {
     "name": "stderr",
     "output_type": "stream",
     "text": [
      "05:33:29 INFO: No events found for shipment number 00340434188193323841\n"
     ]
    },
    {
     "name": "stdout",
     "output_type": "stream",
     "text": [
      "[9, 16, 23, 30, 47, 54, 61, 78, 85, 92, 108, 115, 122, 139, 146, 153, 160, 177, 184, 191, 207, 214, 221, 238, 245, 252, 269, 276, 283, 290, 306, 313, 320, 337]\n",
      "[ 7  7  7 17  7  7 17  7  7 16  7  7 17  7  7  7 17  7  7 16  7  7 17  7\n",
      "  7 17  7  7  7 16  7  7 17]\n"
     ]
    },
    {
     "name": "stderr",
     "output_type": "stream",
     "text": [
      "05:33:30 INFO: No events found for shipment number 00340434188193323842\n"
     ]
    },
    {
     "name": "stdout",
     "output_type": "stream",
     "text": [
      "[9, 16, 23, 30, 47, 54, 61, 78, 85, 92, 108, 115, 122, 139, 146, 153, 160, 177, 184, 191, 207, 214, 221, 238, 245, 252, 269, 276, 283, 290, 306, 313, 320, 337]\n",
      "[ 7  7  7 17  7  7 17  7  7 16  7  7 17  7  7  7 17  7  7 16  7  7 17  7\n",
      "  7 17  7  7  7 16  7  7 17]\n"
     ]
    },
    {
     "name": "stderr",
     "output_type": "stream",
     "text": [
      "05:33:30 INFO: No events found for shipment number 00340434188193323843\n"
     ]
    },
    {
     "name": "stdout",
     "output_type": "stream",
     "text": [
      "[9, 16, 23, 30, 47, 54, 61, 78, 85, 92, 108, 115, 122, 139, 146, 153, 160, 177, 184, 191, 207, 214, 221, 238, 245, 252, 269, 276, 283, 290, 306, 313, 320, 337]\n",
      "[ 7  7  7 17  7  7 17  7  7 16  7  7 17  7  7  7 17  7  7 16  7  7 17  7\n",
      "  7 17  7  7  7 16  7  7 17]\n"
     ]
    },
    {
     "name": "stderr",
     "output_type": "stream",
     "text": [
      "05:33:31 INFO: Writing file ../data/00340434188193323844.json\n"
     ]
    },
    {
     "name": "stdout",
     "output_type": "stream",
     "text": [
      "[9, 16, 23, 30, 47, 54, 61, 78, 85, 92, 108, 115, 122, 139, 146, 153, 160, 177, 184, 191, 207, 214, 221, 238, 245, 252, 269, 276, 283, 290, 306, 313, 320, 337, 344]\n",
      "[ 7  7  7 17  7  7 17  7  7 16  7  7 17  7  7  7 17  7  7 16  7  7 17  7\n",
      "  7 17  7  7  7 16  7  7 17  7]\n"
     ]
    },
    {
     "name": "stderr",
     "output_type": "stream",
     "text": [
      "05:33:32 INFO: No events found for shipment number 00340434188193323845\n"
     ]
    },
    {
     "name": "stdout",
     "output_type": "stream",
     "text": [
      "[9, 16, 23, 30, 47, 54, 61, 78, 85, 92, 108, 115, 122, 139, 146, 153, 160, 177, 184, 191, 207, 214, 221, 238, 245, 252, 269, 276, 283, 290, 306, 313, 320, 337, 344]\n",
      "[ 7  7  7 17  7  7 17  7  7 16  7  7 17  7  7  7 17  7  7 16  7  7 17  7\n",
      "  7 17  7  7  7 16  7  7 17  7]\n"
     ]
    },
    {
     "name": "stderr",
     "output_type": "stream",
     "text": [
      "05:33:32 INFO: No events found for shipment number 00340434188193323846\n"
     ]
    },
    {
     "name": "stdout",
     "output_type": "stream",
     "text": [
      "[9, 16, 23, 30, 47, 54, 61, 78, 85, 92, 108, 115, 122, 139, 146, 153, 160, 177, 184, 191, 207, 214, 221, 238, 245, 252, 269, 276, 283, 290, 306, 313, 320, 337, 344]\n",
      "[ 7  7  7 17  7  7 17  7  7 16  7  7 17  7  7  7 17  7  7 16  7  7 17  7\n",
      "  7 17  7  7  7 16  7  7 17  7]\n"
     ]
    },
    {
     "name": "stderr",
     "output_type": "stream",
     "text": [
      "05:33:33 INFO: No events found for shipment number 00340434188193323847\n"
     ]
    },
    {
     "name": "stdout",
     "output_type": "stream",
     "text": [
      "[9, 16, 23, 30, 47, 54, 61, 78, 85, 92, 108, 115, 122, 139, 146, 153, 160, 177, 184, 191, 207, 214, 221, 238, 245, 252, 269, 276, 283, 290, 306, 313, 320, 337, 344]\n",
      "[ 7  7  7 17  7  7 17  7  7 16  7  7 17  7  7  7 17  7  7 16  7  7 17  7\n",
      "  7 17  7  7  7 16  7  7 17  7]\n"
     ]
    },
    {
     "name": "stderr",
     "output_type": "stream",
     "text": [
      "05:33:34 INFO: No events found for shipment number 00340434188193323848\n"
     ]
    },
    {
     "name": "stdout",
     "output_type": "stream",
     "text": [
      "[9, 16, 23, 30, 47, 54, 61, 78, 85, 92, 108, 115, 122, 139, 146, 153, 160, 177, 184, 191, 207, 214, 221, 238, 245, 252, 269, 276, 283, 290, 306, 313, 320, 337, 344]\n",
      "[ 7  7  7 17  7  7 17  7  7 16  7  7 17  7  7  7 17  7  7 16  7  7 17  7\n",
      "  7 17  7  7  7 16  7  7 17  7]\n"
     ]
    },
    {
     "name": "stderr",
     "output_type": "stream",
     "text": [
      "05:33:34 INFO: No events found for shipment number 00340434188193323849\n"
     ]
    },
    {
     "name": "stdout",
     "output_type": "stream",
     "text": [
      "[9, 16, 23, 30, 47, 54, 61, 78, 85, 92, 108, 115, 122, 139, 146, 153, 160, 177, 184, 191, 207, 214, 221, 238, 245, 252, 269, 276, 283, 290, 306, 313, 320, 337, 344]\n",
      "[ 7  7  7 17  7  7 17  7  7 16  7  7 17  7  7  7 17  7  7 16  7  7 17  7\n",
      "  7 17  7  7  7 16  7  7 17  7]\n"
     ]
    },
    {
     "name": "stderr",
     "output_type": "stream",
     "text": [
      "05:33:35 INFO: No events found for shipment number 00340434188193323850\n"
     ]
    },
    {
     "name": "stdout",
     "output_type": "stream",
     "text": [
      "[9, 16, 23, 30, 47, 54, 61, 78, 85, 92, 108, 115, 122, 139, 146, 153, 160, 177, 184, 191, 207, 214, 221, 238, 245, 252, 269, 276, 283, 290, 306, 313, 320, 337, 344]\n",
      "[ 7  7  7 17  7  7 17  7  7 16  7  7 17  7  7  7 17  7  7 16  7  7 17  7\n",
      "  7 17  7  7  7 16  7  7 17  7]\n"
     ]
    },
    {
     "name": "stderr",
     "output_type": "stream",
     "text": [
      "05:33:36 INFO: Writing file ../data/00340434188193323851.json\n"
     ]
    },
    {
     "name": "stdout",
     "output_type": "stream",
     "text": [
      "[9, 16, 23, 30, 47, 54, 61, 78, 85, 92, 108, 115, 122, 139, 146, 153, 160, 177, 184, 191, 207, 214, 221, 238, 245, 252, 269, 276, 283, 290, 306, 313, 320, 337, 344, 351]\n",
      "[ 7  7  7 17  7  7 17  7  7 16  7  7 17  7  7  7 17  7  7 16  7  7 17  7\n",
      "  7 17  7  7  7 16  7  7 17  7  7]\n"
     ]
    },
    {
     "name": "stderr",
     "output_type": "stream",
     "text": [
      "05:33:36 INFO: No events found for shipment number 00340434188193323852\n"
     ]
    },
    {
     "name": "stdout",
     "output_type": "stream",
     "text": [
      "[9, 16, 23, 30, 47, 54, 61, 78, 85, 92, 108, 115, 122, 139, 146, 153, 160, 177, 184, 191, 207, 214, 221, 238, 245, 252, 269, 276, 283, 290, 306, 313, 320, 337, 344, 351]\n",
      "[ 7  7  7 17  7  7 17  7  7 16  7  7 17  7  7  7 17  7  7 16  7  7 17  7\n",
      "  7 17  7  7  7 16  7  7 17  7  7]\n"
     ]
    },
    {
     "name": "stderr",
     "output_type": "stream",
     "text": [
      "05:33:37 INFO: No events found for shipment number 00340434188193323853\n"
     ]
    },
    {
     "name": "stdout",
     "output_type": "stream",
     "text": [
      "[9, 16, 23, 30, 47, 54, 61, 78, 85, 92, 108, 115, 122, 139, 146, 153, 160, 177, 184, 191, 207, 214, 221, 238, 245, 252, 269, 276, 283, 290, 306, 313, 320, 337, 344, 351]\n",
      "[ 7  7  7 17  7  7 17  7  7 16  7  7 17  7  7  7 17  7  7 16  7  7 17  7\n",
      "  7 17  7  7  7 16  7  7 17  7  7]\n"
     ]
    },
    {
     "name": "stderr",
     "output_type": "stream",
     "text": [
      "05:33:37 INFO: No events found for shipment number 00340434188193323854\n"
     ]
    },
    {
     "name": "stdout",
     "output_type": "stream",
     "text": [
      "[9, 16, 23, 30, 47, 54, 61, 78, 85, 92, 108, 115, 122, 139, 146, 153, 160, 177, 184, 191, 207, 214, 221, 238, 245, 252, 269, 276, 283, 290, 306, 313, 320, 337, 344, 351]\n",
      "[ 7  7  7 17  7  7 17  7  7 16  7  7 17  7  7  7 17  7  7 16  7  7 17  7\n",
      "  7 17  7  7  7 16  7  7 17  7  7]\n"
     ]
    },
    {
     "name": "stderr",
     "output_type": "stream",
     "text": [
      "05:33:38 INFO: No events found for shipment number 00340434188193323855\n"
     ]
    },
    {
     "name": "stdout",
     "output_type": "stream",
     "text": [
      "[9, 16, 23, 30, 47, 54, 61, 78, 85, 92, 108, 115, 122, 139, 146, 153, 160, 177, 184, 191, 207, 214, 221, 238, 245, 252, 269, 276, 283, 290, 306, 313, 320, 337, 344, 351]\n",
      "[ 7  7  7 17  7  7 17  7  7 16  7  7 17  7  7  7 17  7  7 16  7  7 17  7\n",
      "  7 17  7  7  7 16  7  7 17  7  7]\n"
     ]
    },
    {
     "name": "stderr",
     "output_type": "stream",
     "text": [
      "05:33:39 INFO: No events found for shipment number 00340434188193323856\n"
     ]
    },
    {
     "name": "stdout",
     "output_type": "stream",
     "text": [
      "[9, 16, 23, 30, 47, 54, 61, 78, 85, 92, 108, 115, 122, 139, 146, 153, 160, 177, 184, 191, 207, 214, 221, 238, 245, 252, 269, 276, 283, 290, 306, 313, 320, 337, 344, 351]\n",
      "[ 7  7  7 17  7  7 17  7  7 16  7  7 17  7  7  7 17  7  7 16  7  7 17  7\n",
      "  7 17  7  7  7 16  7  7 17  7  7]\n"
     ]
    },
    {
     "name": "stderr",
     "output_type": "stream",
     "text": [
      "05:33:39 INFO: No events found for shipment number 00340434188193323857\n"
     ]
    },
    {
     "name": "stdout",
     "output_type": "stream",
     "text": [
      "[9, 16, 23, 30, 47, 54, 61, 78, 85, 92, 108, 115, 122, 139, 146, 153, 160, 177, 184, 191, 207, 214, 221, 238, 245, 252, 269, 276, 283, 290, 306, 313, 320, 337, 344, 351]\n",
      "[ 7  7  7 17  7  7 17  7  7 16  7  7 17  7  7  7 17  7  7 16  7  7 17  7\n",
      "  7 17  7  7  7 16  7  7 17  7  7]\n"
     ]
    },
    {
     "name": "stderr",
     "output_type": "stream",
     "text": [
      "05:33:40 INFO: No events found for shipment number 00340434188193323858\n"
     ]
    },
    {
     "name": "stdout",
     "output_type": "stream",
     "text": [
      "[9, 16, 23, 30, 47, 54, 61, 78, 85, 92, 108, 115, 122, 139, 146, 153, 160, 177, 184, 191, 207, 214, 221, 238, 245, 252, 269, 276, 283, 290, 306, 313, 320, 337, 344, 351]\n",
      "[ 7  7  7 17  7  7 17  7  7 16  7  7 17  7  7  7 17  7  7 16  7  7 17  7\n",
      "  7 17  7  7  7 16  7  7 17  7  7]\n"
     ]
    },
    {
     "name": "stderr",
     "output_type": "stream",
     "text": [
      "05:33:41 INFO: No events found for shipment number 00340434188193323859\n"
     ]
    },
    {
     "name": "stdout",
     "output_type": "stream",
     "text": [
      "[9, 16, 23, 30, 47, 54, 61, 78, 85, 92, 108, 115, 122, 139, 146, 153, 160, 177, 184, 191, 207, 214, 221, 238, 245, 252, 269, 276, 283, 290, 306, 313, 320, 337, 344, 351]\n",
      "[ 7  7  7 17  7  7 17  7  7 16  7  7 17  7  7  7 17  7  7 16  7  7 17  7\n",
      "  7 17  7  7  7 16  7  7 17  7  7]\n"
     ]
    },
    {
     "name": "stderr",
     "output_type": "stream",
     "text": [
      "05:33:41 INFO: No events found for shipment number 00340434188193323860\n"
     ]
    },
    {
     "name": "stdout",
     "output_type": "stream",
     "text": [
      "[9, 16, 23, 30, 47, 54, 61, 78, 85, 92, 108, 115, 122, 139, 146, 153, 160, 177, 184, 191, 207, 214, 221, 238, 245, 252, 269, 276, 283, 290, 306, 313, 320, 337, 344, 351]\n",
      "[ 7  7  7 17  7  7 17  7  7 16  7  7 17  7  7  7 17  7  7 16  7  7 17  7\n",
      "  7 17  7  7  7 16  7  7 17  7  7]\n"
     ]
    },
    {
     "name": "stderr",
     "output_type": "stream",
     "text": [
      "05:33:42 INFO: No events found for shipment number 00340434188193323861\n"
     ]
    },
    {
     "name": "stdout",
     "output_type": "stream",
     "text": [
      "[9, 16, 23, 30, 47, 54, 61, 78, 85, 92, 108, 115, 122, 139, 146, 153, 160, 177, 184, 191, 207, 214, 221, 238, 245, 252, 269, 276, 283, 290, 306, 313, 320, 337, 344, 351]\n",
      "[ 7  7  7 17  7  7 17  7  7 16  7  7 17  7  7  7 17  7  7 16  7  7 17  7\n",
      "  7 17  7  7  7 16  7  7 17  7  7]\n"
     ]
    },
    {
     "name": "stderr",
     "output_type": "stream",
     "text": [
      "05:33:42 INFO: No events found for shipment number 00340434188193323862\n"
     ]
    },
    {
     "name": "stdout",
     "output_type": "stream",
     "text": [
      "[9, 16, 23, 30, 47, 54, 61, 78, 85, 92, 108, 115, 122, 139, 146, 153, 160, 177, 184, 191, 207, 214, 221, 238, 245, 252, 269, 276, 283, 290, 306, 313, 320, 337, 344, 351]\n",
      "[ 7  7  7 17  7  7 17  7  7 16  7  7 17  7  7  7 17  7  7 16  7  7 17  7\n",
      "  7 17  7  7  7 16  7  7 17  7  7]\n"
     ]
    },
    {
     "name": "stderr",
     "output_type": "stream",
     "text": [
      "05:33:43 INFO: No events found for shipment number 00340434188193323863\n"
     ]
    },
    {
     "name": "stdout",
     "output_type": "stream",
     "text": [
      "[9, 16, 23, 30, 47, 54, 61, 78, 85, 92, 108, 115, 122, 139, 146, 153, 160, 177, 184, 191, 207, 214, 221, 238, 245, 252, 269, 276, 283, 290, 306, 313, 320, 337, 344, 351]\n",
      "[ 7  7  7 17  7  7 17  7  7 16  7  7 17  7  7  7 17  7  7 16  7  7 17  7\n",
      "  7 17  7  7  7 16  7  7 17  7  7]\n"
     ]
    },
    {
     "name": "stderr",
     "output_type": "stream",
     "text": [
      "05:33:44 INFO: No events found for shipment number 00340434188193323864\n"
     ]
    },
    {
     "name": "stdout",
     "output_type": "stream",
     "text": [
      "[9, 16, 23, 30, 47, 54, 61, 78, 85, 92, 108, 115, 122, 139, 146, 153, 160, 177, 184, 191, 207, 214, 221, 238, 245, 252, 269, 276, 283, 290, 306, 313, 320, 337, 344, 351]\n",
      "[ 7  7  7 17  7  7 17  7  7 16  7  7 17  7  7  7 17  7  7 16  7  7 17  7\n",
      "  7 17  7  7  7 16  7  7 17  7  7]\n"
     ]
    },
    {
     "name": "stderr",
     "output_type": "stream",
     "text": [
      "05:33:44 INFO: No events found for shipment number 00340434188193323865\n"
     ]
    },
    {
     "name": "stdout",
     "output_type": "stream",
     "text": [
      "[9, 16, 23, 30, 47, 54, 61, 78, 85, 92, 108, 115, 122, 139, 146, 153, 160, 177, 184, 191, 207, 214, 221, 238, 245, 252, 269, 276, 283, 290, 306, 313, 320, 337, 344, 351]\n",
      "[ 7  7  7 17  7  7 17  7  7 16  7  7 17  7  7  7 17  7  7 16  7  7 17  7\n",
      "  7 17  7  7  7 16  7  7 17  7  7]\n"
     ]
    },
    {
     "name": "stderr",
     "output_type": "stream",
     "text": [
      "05:33:45 INFO: No events found for shipment number 00340434188193323866\n"
     ]
    },
    {
     "name": "stdout",
     "output_type": "stream",
     "text": [
      "[9, 16, 23, 30, 47, 54, 61, 78, 85, 92, 108, 115, 122, 139, 146, 153, 160, 177, 184, 191, 207, 214, 221, 238, 245, 252, 269, 276, 283, 290, 306, 313, 320, 337, 344, 351]\n",
      "[ 7  7  7 17  7  7 17  7  7 16  7  7 17  7  7  7 17  7  7 16  7  7 17  7\n",
      "  7 17  7  7  7 16  7  7 17  7  7]\n"
     ]
    },
    {
     "name": "stderr",
     "output_type": "stream",
     "text": [
      "05:33:46 INFO: No events found for shipment number 00340434188193323867\n"
     ]
    },
    {
     "name": "stdout",
     "output_type": "stream",
     "text": [
      "[9, 16, 23, 30, 47, 54, 61, 78, 85, 92, 108, 115, 122, 139, 146, 153, 160, 177, 184, 191, 207, 214, 221, 238, 245, 252, 269, 276, 283, 290, 306, 313, 320, 337, 344, 351]\n",
      "[ 7  7  7 17  7  7 17  7  7 16  7  7 17  7  7  7 17  7  7 16  7  7 17  7\n",
      "  7 17  7  7  7 16  7  7 17  7  7]\n"
     ]
    },
    {
     "name": "stderr",
     "output_type": "stream",
     "text": [
      "05:33:46 INFO: Writing file ../data/00340434188193323868.json\n"
     ]
    },
    {
     "name": "stdout",
     "output_type": "stream",
     "text": [
      "[9, 16, 23, 30, 47, 54, 61, 78, 85, 92, 108, 115, 122, 139, 146, 153, 160, 177, 184, 191, 207, 214, 221, 238, 245, 252, 269, 276, 283, 290, 306, 313, 320, 337, 344, 351, 368]\n",
      "[ 7  7  7 17  7  7 17  7  7 16  7  7 17  7  7  7 17  7  7 16  7  7 17  7\n",
      "  7 17  7  7  7 16  7  7 17  7  7 17]\n"
     ]
    },
    {
     "name": "stderr",
     "output_type": "stream",
     "text": [
      "05:33:47 INFO: No events found for shipment number 00340434188193323869\n"
     ]
    },
    {
     "name": "stdout",
     "output_type": "stream",
     "text": [
      "[9, 16, 23, 30, 47, 54, 61, 78, 85, 92, 108, 115, 122, 139, 146, 153, 160, 177, 184, 191, 207, 214, 221, 238, 245, 252, 269, 276, 283, 290, 306, 313, 320, 337, 344, 351, 368]\n",
      "[ 7  7  7 17  7  7 17  7  7 16  7  7 17  7  7  7 17  7  7 16  7  7 17  7\n",
      "  7 17  7  7  7 16  7  7 17  7  7 17]\n"
     ]
    },
    {
     "name": "stderr",
     "output_type": "stream",
     "text": [
      "05:33:48 INFO: No events found for shipment number 00340434188193323870\n"
     ]
    },
    {
     "name": "stdout",
     "output_type": "stream",
     "text": [
      "[9, 16, 23, 30, 47, 54, 61, 78, 85, 92, 108, 115, 122, 139, 146, 153, 160, 177, 184, 191, 207, 214, 221, 238, 245, 252, 269, 276, 283, 290, 306, 313, 320, 337, 344, 351, 368]\n",
      "[ 7  7  7 17  7  7 17  7  7 16  7  7 17  7  7  7 17  7  7 16  7  7 17  7\n",
      "  7 17  7  7  7 16  7  7 17  7  7 17]\n"
     ]
    },
    {
     "name": "stderr",
     "output_type": "stream",
     "text": [
      "05:33:48 INFO: No events found for shipment number 00340434188193323871\n"
     ]
    },
    {
     "name": "stdout",
     "output_type": "stream",
     "text": [
      "[9, 16, 23, 30, 47, 54, 61, 78, 85, 92, 108, 115, 122, 139, 146, 153, 160, 177, 184, 191, 207, 214, 221, 238, 245, 252, 269, 276, 283, 290, 306, 313, 320, 337, 344, 351, 368]\n",
      "[ 7  7  7 17  7  7 17  7  7 16  7  7 17  7  7  7 17  7  7 16  7  7 17  7\n",
      "  7 17  7  7  7 16  7  7 17  7  7 17]\n"
     ]
    },
    {
     "name": "stderr",
     "output_type": "stream",
     "text": [
      "05:33:49 INFO: No events found for shipment number 00340434188193323872\n"
     ]
    },
    {
     "name": "stdout",
     "output_type": "stream",
     "text": [
      "[9, 16, 23, 30, 47, 54, 61, 78, 85, 92, 108, 115, 122, 139, 146, 153, 160, 177, 184, 191, 207, 214, 221, 238, 245, 252, 269, 276, 283, 290, 306, 313, 320, 337, 344, 351, 368]\n",
      "[ 7  7  7 17  7  7 17  7  7 16  7  7 17  7  7  7 17  7  7 16  7  7 17  7\n",
      "  7 17  7  7  7 16  7  7 17  7  7 17]\n"
     ]
    },
    {
     "name": "stderr",
     "output_type": "stream",
     "text": [
      "05:33:49 INFO: No events found for shipment number 00340434188193323873\n"
     ]
    },
    {
     "name": "stdout",
     "output_type": "stream",
     "text": [
      "[9, 16, 23, 30, 47, 54, 61, 78, 85, 92, 108, 115, 122, 139, 146, 153, 160, 177, 184, 191, 207, 214, 221, 238, 245, 252, 269, 276, 283, 290, 306, 313, 320, 337, 344, 351, 368]\n",
      "[ 7  7  7 17  7  7 17  7  7 16  7  7 17  7  7  7 17  7  7 16  7  7 17  7\n",
      "  7 17  7  7  7 16  7  7 17  7  7 17]\n"
     ]
    },
    {
     "name": "stderr",
     "output_type": "stream",
     "text": [
      "05:33:50 INFO: No events found for shipment number 00340434188193323874\n"
     ]
    },
    {
     "name": "stdout",
     "output_type": "stream",
     "text": [
      "[9, 16, 23, 30, 47, 54, 61, 78, 85, 92, 108, 115, 122, 139, 146, 153, 160, 177, 184, 191, 207, 214, 221, 238, 245, 252, 269, 276, 283, 290, 306, 313, 320, 337, 344, 351, 368]\n",
      "[ 7  7  7 17  7  7 17  7  7 16  7  7 17  7  7  7 17  7  7 16  7  7 17  7\n",
      "  7 17  7  7  7 16  7  7 17  7  7 17]\n"
     ]
    },
    {
     "name": "stderr",
     "output_type": "stream",
     "text": [
      "05:33:51 INFO: Writing file ../data/00340434188193323875.json\n"
     ]
    },
    {
     "name": "stdout",
     "output_type": "stream",
     "text": [
      "[9, 16, 23, 30, 47, 54, 61, 78, 85, 92, 108, 115, 122, 139, 146, 153, 160, 177, 184, 191, 207, 214, 221, 238, 245, 252, 269, 276, 283, 290, 306, 313, 320, 337, 344, 351, 368, 375]\n",
      "[ 7  7  7 17  7  7 17  7  7 16  7  7 17  7  7  7 17  7  7 16  7  7 17  7\n",
      "  7 17  7  7  7 16  7  7 17  7  7 17  7]\n"
     ]
    },
    {
     "name": "stderr",
     "output_type": "stream",
     "text": [
      "05:33:52 INFO: No events found for shipment number 00340434188193323876\n"
     ]
    },
    {
     "name": "stdout",
     "output_type": "stream",
     "text": [
      "[9, 16, 23, 30, 47, 54, 61, 78, 85, 92, 108, 115, 122, 139, 146, 153, 160, 177, 184, 191, 207, 214, 221, 238, 245, 252, 269, 276, 283, 290, 306, 313, 320, 337, 344, 351, 368, 375]\n",
      "[ 7  7  7 17  7  7 17  7  7 16  7  7 17  7  7  7 17  7  7 16  7  7 17  7\n",
      "  7 17  7  7  7 16  7  7 17  7  7 17  7]\n"
     ]
    },
    {
     "name": "stderr",
     "output_type": "stream",
     "text": [
      "05:33:52 INFO: No events found for shipment number 00340434188193323877\n"
     ]
    },
    {
     "name": "stdout",
     "output_type": "stream",
     "text": [
      "[9, 16, 23, 30, 47, 54, 61, 78, 85, 92, 108, 115, 122, 139, 146, 153, 160, 177, 184, 191, 207, 214, 221, 238, 245, 252, 269, 276, 283, 290, 306, 313, 320, 337, 344, 351, 368, 375]\n",
      "[ 7  7  7 17  7  7 17  7  7 16  7  7 17  7  7  7 17  7  7 16  7  7 17  7\n",
      "  7 17  7  7  7 16  7  7 17  7  7 17  7]\n"
     ]
    },
    {
     "name": "stderr",
     "output_type": "stream",
     "text": [
      "05:33:53 INFO: No events found for shipment number 00340434188193323878\n"
     ]
    },
    {
     "name": "stdout",
     "output_type": "stream",
     "text": [
      "[9, 16, 23, 30, 47, 54, 61, 78, 85, 92, 108, 115, 122, 139, 146, 153, 160, 177, 184, 191, 207, 214, 221, 238, 245, 252, 269, 276, 283, 290, 306, 313, 320, 337, 344, 351, 368, 375]\n",
      "[ 7  7  7 17  7  7 17  7  7 16  7  7 17  7  7  7 17  7  7 16  7  7 17  7\n",
      "  7 17  7  7  7 16  7  7 17  7  7 17  7]\n"
     ]
    },
    {
     "name": "stderr",
     "output_type": "stream",
     "text": [
      "05:33:53 INFO: No events found for shipment number 00340434188193323879\n"
     ]
    },
    {
     "name": "stdout",
     "output_type": "stream",
     "text": [
      "[9, 16, 23, 30, 47, 54, 61, 78, 85, 92, 108, 115, 122, 139, 146, 153, 160, 177, 184, 191, 207, 214, 221, 238, 245, 252, 269, 276, 283, 290, 306, 313, 320, 337, 344, 351, 368, 375]\n",
      "[ 7  7  7 17  7  7 17  7  7 16  7  7 17  7  7  7 17  7  7 16  7  7 17  7\n",
      "  7 17  7  7  7 16  7  7 17  7  7 17  7]\n"
     ]
    },
    {
     "name": "stderr",
     "output_type": "stream",
     "text": [
      "05:33:54 INFO: No events found for shipment number 00340434188193323880\n"
     ]
    },
    {
     "name": "stdout",
     "output_type": "stream",
     "text": [
      "[9, 16, 23, 30, 47, 54, 61, 78, 85, 92, 108, 115, 122, 139, 146, 153, 160, 177, 184, 191, 207, 214, 221, 238, 245, 252, 269, 276, 283, 290, 306, 313, 320, 337, 344, 351, 368, 375]\n",
      "[ 7  7  7 17  7  7 17  7  7 16  7  7 17  7  7  7 17  7  7 16  7  7 17  7\n",
      "  7 17  7  7  7 16  7  7 17  7  7 17  7]\n"
     ]
    },
    {
     "name": "stderr",
     "output_type": "stream",
     "text": [
      "05:33:55 INFO: No events found for shipment number 00340434188193323881\n"
     ]
    },
    {
     "name": "stdout",
     "output_type": "stream",
     "text": [
      "[9, 16, 23, 30, 47, 54, 61, 78, 85, 92, 108, 115, 122, 139, 146, 153, 160, 177, 184, 191, 207, 214, 221, 238, 245, 252, 269, 276, 283, 290, 306, 313, 320, 337, 344, 351, 368, 375]\n",
      "[ 7  7  7 17  7  7 17  7  7 16  7  7 17  7  7  7 17  7  7 16  7  7 17  7\n",
      "  7 17  7  7  7 16  7  7 17  7  7 17  7]\n"
     ]
    },
    {
     "name": "stderr",
     "output_type": "stream",
     "text": [
      "05:33:55 INFO: Writing file ../data/00340434188193323882.json\n"
     ]
    },
    {
     "name": "stdout",
     "output_type": "stream",
     "text": [
      "[9, 16, 23, 30, 47, 54, 61, 78, 85, 92, 108, 115, 122, 139, 146, 153, 160, 177, 184, 191, 207, 214, 221, 238, 245, 252, 269, 276, 283, 290, 306, 313, 320, 337, 344, 351, 368, 375, 382]\n",
      "[ 7  7  7 17  7  7 17  7  7 16  7  7 17  7  7  7 17  7  7 16  7  7 17  7\n",
      "  7 17  7  7  7 16  7  7 17  7  7 17  7  7]\n"
     ]
    },
    {
     "name": "stderr",
     "output_type": "stream",
     "text": [
      "05:33:56 INFO: No events found for shipment number 00340434188193323883\n"
     ]
    },
    {
     "name": "stdout",
     "output_type": "stream",
     "text": [
      "[9, 16, 23, 30, 47, 54, 61, 78, 85, 92, 108, 115, 122, 139, 146, 153, 160, 177, 184, 191, 207, 214, 221, 238, 245, 252, 269, 276, 283, 290, 306, 313, 320, 337, 344, 351, 368, 375, 382]\n",
      "[ 7  7  7 17  7  7 17  7  7 16  7  7 17  7  7  7 17  7  7 16  7  7 17  7\n",
      "  7 17  7  7  7 16  7  7 17  7  7 17  7  7]\n"
     ]
    },
    {
     "name": "stderr",
     "output_type": "stream",
     "text": [
      "05:33:57 INFO: No events found for shipment number 00340434188193323884\n"
     ]
    },
    {
     "name": "stdout",
     "output_type": "stream",
     "text": [
      "[9, 16, 23, 30, 47, 54, 61, 78, 85, 92, 108, 115, 122, 139, 146, 153, 160, 177, 184, 191, 207, 214, 221, 238, 245, 252, 269, 276, 283, 290, 306, 313, 320, 337, 344, 351, 368, 375, 382]\n",
      "[ 7  7  7 17  7  7 17  7  7 16  7  7 17  7  7  7 17  7  7 16  7  7 17  7\n",
      "  7 17  7  7  7 16  7  7 17  7  7 17  7  7]\n"
     ]
    },
    {
     "name": "stderr",
     "output_type": "stream",
     "text": [
      "05:33:57 INFO: No events found for shipment number 00340434188193323885\n"
     ]
    },
    {
     "name": "stdout",
     "output_type": "stream",
     "text": [
      "[9, 16, 23, 30, 47, 54, 61, 78, 85, 92, 108, 115, 122, 139, 146, 153, 160, 177, 184, 191, 207, 214, 221, 238, 245, 252, 269, 276, 283, 290, 306, 313, 320, 337, 344, 351, 368, 375, 382]\n",
      "[ 7  7  7 17  7  7 17  7  7 16  7  7 17  7  7  7 17  7  7 16  7  7 17  7\n",
      "  7 17  7  7  7 16  7  7 17  7  7 17  7  7]\n"
     ]
    },
    {
     "name": "stderr",
     "output_type": "stream",
     "text": [
      "05:33:58 INFO: No events found for shipment number 00340434188193323886\n"
     ]
    },
    {
     "name": "stdout",
     "output_type": "stream",
     "text": [
      "[9, 16, 23, 30, 47, 54, 61, 78, 85, 92, 108, 115, 122, 139, 146, 153, 160, 177, 184, 191, 207, 214, 221, 238, 245, 252, 269, 276, 283, 290, 306, 313, 320, 337, 344, 351, 368, 375, 382]\n",
      "[ 7  7  7 17  7  7 17  7  7 16  7  7 17  7  7  7 17  7  7 16  7  7 17  7\n",
      "  7 17  7  7  7 16  7  7 17  7  7 17  7  7]\n"
     ]
    },
    {
     "name": "stderr",
     "output_type": "stream",
     "text": [
      "05:33:58 INFO: No events found for shipment number 00340434188193323887\n"
     ]
    },
    {
     "name": "stdout",
     "output_type": "stream",
     "text": [
      "[9, 16, 23, 30, 47, 54, 61, 78, 85, 92, 108, 115, 122, 139, 146, 153, 160, 177, 184, 191, 207, 214, 221, 238, 245, 252, 269, 276, 283, 290, 306, 313, 320, 337, 344, 351, 368, 375, 382]\n",
      "[ 7  7  7 17  7  7 17  7  7 16  7  7 17  7  7  7 17  7  7 16  7  7 17  7\n",
      "  7 17  7  7  7 16  7  7 17  7  7 17  7  7]\n"
     ]
    },
    {
     "name": "stderr",
     "output_type": "stream",
     "text": [
      "05:33:59 INFO: No events found for shipment number 00340434188193323888\n"
     ]
    },
    {
     "name": "stdout",
     "output_type": "stream",
     "text": [
      "[9, 16, 23, 30, 47, 54, 61, 78, 85, 92, 108, 115, 122, 139, 146, 153, 160, 177, 184, 191, 207, 214, 221, 238, 245, 252, 269, 276, 283, 290, 306, 313, 320, 337, 344, 351, 368, 375, 382]\n",
      "[ 7  7  7 17  7  7 17  7  7 16  7  7 17  7  7  7 17  7  7 16  7  7 17  7\n",
      "  7 17  7  7  7 16  7  7 17  7  7 17  7  7]\n"
     ]
    },
    {
     "name": "stderr",
     "output_type": "stream",
     "text": [
      "05:34:00 INFO: No events found for shipment number 00340434188193323889\n"
     ]
    },
    {
     "name": "stdout",
     "output_type": "stream",
     "text": [
      "[9, 16, 23, 30, 47, 54, 61, 78, 85, 92, 108, 115, 122, 139, 146, 153, 160, 177, 184, 191, 207, 214, 221, 238, 245, 252, 269, 276, 283, 290, 306, 313, 320, 337, 344, 351, 368, 375, 382]\n",
      "[ 7  7  7 17  7  7 17  7  7 16  7  7 17  7  7  7 17  7  7 16  7  7 17  7\n",
      "  7 17  7  7  7 16  7  7 17  7  7 17  7  7]\n"
     ]
    },
    {
     "name": "stderr",
     "output_type": "stream",
     "text": [
      "05:34:00 INFO: No events found for shipment number 00340434188193323890\n"
     ]
    },
    {
     "name": "stdout",
     "output_type": "stream",
     "text": [
      "[9, 16, 23, 30, 47, 54, 61, 78, 85, 92, 108, 115, 122, 139, 146, 153, 160, 177, 184, 191, 207, 214, 221, 238, 245, 252, 269, 276, 283, 290, 306, 313, 320, 337, 344, 351, 368, 375, 382]\n",
      "[ 7  7  7 17  7  7 17  7  7 16  7  7 17  7  7  7 17  7  7 16  7  7 17  7\n",
      "  7 17  7  7  7 16  7  7 17  7  7 17  7  7]\n"
     ]
    },
    {
     "name": "stderr",
     "output_type": "stream",
     "text": [
      "05:34:01 INFO: No events found for shipment number 00340434188193323891\n"
     ]
    },
    {
     "name": "stdout",
     "output_type": "stream",
     "text": [
      "[9, 16, 23, 30, 47, 54, 61, 78, 85, 92, 108, 115, 122, 139, 146, 153, 160, 177, 184, 191, 207, 214, 221, 238, 245, 252, 269, 276, 283, 290, 306, 313, 320, 337, 344, 351, 368, 375, 382]\n",
      "[ 7  7  7 17  7  7 17  7  7 16  7  7 17  7  7  7 17  7  7 16  7  7 17  7\n",
      "  7 17  7  7  7 16  7  7 17  7  7 17  7  7]\n"
     ]
    },
    {
     "name": "stderr",
     "output_type": "stream",
     "text": [
      "05:34:02 INFO: No events found for shipment number 00340434188193323892\n"
     ]
    },
    {
     "name": "stdout",
     "output_type": "stream",
     "text": [
      "[9, 16, 23, 30, 47, 54, 61, 78, 85, 92, 108, 115, 122, 139, 146, 153, 160, 177, 184, 191, 207, 214, 221, 238, 245, 252, 269, 276, 283, 290, 306, 313, 320, 337, 344, 351, 368, 375, 382]\n",
      "[ 7  7  7 17  7  7 17  7  7 16  7  7 17  7  7  7 17  7  7 16  7  7 17  7\n",
      "  7 17  7  7  7 16  7  7 17  7  7 17  7  7]\n"
     ]
    },
    {
     "name": "stderr",
     "output_type": "stream",
     "text": [
      "05:34:02 INFO: No events found for shipment number 00340434188193323893\n"
     ]
    },
    {
     "name": "stdout",
     "output_type": "stream",
     "text": [
      "[9, 16, 23, 30, 47, 54, 61, 78, 85, 92, 108, 115, 122, 139, 146, 153, 160, 177, 184, 191, 207, 214, 221, 238, 245, 252, 269, 276, 283, 290, 306, 313, 320, 337, 344, 351, 368, 375, 382]\n",
      "[ 7  7  7 17  7  7 17  7  7 16  7  7 17  7  7  7 17  7  7 16  7  7 17  7\n",
      "  7 17  7  7  7 16  7  7 17  7  7 17  7  7]\n"
     ]
    },
    {
     "name": "stderr",
     "output_type": "stream",
     "text": [
      "05:34:03 INFO: No events found for shipment number 00340434188193323894\n"
     ]
    },
    {
     "name": "stdout",
     "output_type": "stream",
     "text": [
      "[9, 16, 23, 30, 47, 54, 61, 78, 85, 92, 108, 115, 122, 139, 146, 153, 160, 177, 184, 191, 207, 214, 221, 238, 245, 252, 269, 276, 283, 290, 306, 313, 320, 337, 344, 351, 368, 375, 382]\n",
      "[ 7  7  7 17  7  7 17  7  7 16  7  7 17  7  7  7 17  7  7 16  7  7 17  7\n",
      "  7 17  7  7  7 16  7  7 17  7  7 17  7  7]\n"
     ]
    },
    {
     "name": "stderr",
     "output_type": "stream",
     "text": [
      "05:34:03 INFO: No events found for shipment number 00340434188193323895\n"
     ]
    },
    {
     "name": "stdout",
     "output_type": "stream",
     "text": [
      "[9, 16, 23, 30, 47, 54, 61, 78, 85, 92, 108, 115, 122, 139, 146, 153, 160, 177, 184, 191, 207, 214, 221, 238, 245, 252, 269, 276, 283, 290, 306, 313, 320, 337, 344, 351, 368, 375, 382]\n",
      "[ 7  7  7 17  7  7 17  7  7 16  7  7 17  7  7  7 17  7  7 16  7  7 17  7\n",
      "  7 17  7  7  7 16  7  7 17  7  7 17  7  7]\n"
     ]
    },
    {
     "name": "stderr",
     "output_type": "stream",
     "text": [
      "05:34:04 INFO: No events found for shipment number 00340434188193323896\n"
     ]
    },
    {
     "name": "stdout",
     "output_type": "stream",
     "text": [
      "[9, 16, 23, 30, 47, 54, 61, 78, 85, 92, 108, 115, 122, 139, 146, 153, 160, 177, 184, 191, 207, 214, 221, 238, 245, 252, 269, 276, 283, 290, 306, 313, 320, 337, 344, 351, 368, 375, 382]\n",
      "[ 7  7  7 17  7  7 17  7  7 16  7  7 17  7  7  7 17  7  7 16  7  7 17  7\n",
      "  7 17  7  7  7 16  7  7 17  7  7 17  7  7]\n"
     ]
    },
    {
     "name": "stderr",
     "output_type": "stream",
     "text": [
      "05:34:05 INFO: No events found for shipment number 00340434188193323897\n"
     ]
    },
    {
     "name": "stdout",
     "output_type": "stream",
     "text": [
      "[9, 16, 23, 30, 47, 54, 61, 78, 85, 92, 108, 115, 122, 139, 146, 153, 160, 177, 184, 191, 207, 214, 221, 238, 245, 252, 269, 276, 283, 290, 306, 313, 320, 337, 344, 351, 368, 375, 382]\n",
      "[ 7  7  7 17  7  7 17  7  7 16  7  7 17  7  7  7 17  7  7 16  7  7 17  7\n",
      "  7 17  7  7  7 16  7  7 17  7  7 17  7  7]\n"
     ]
    },
    {
     "name": "stderr",
     "output_type": "stream",
     "text": [
      "05:34:05 INFO: No events found for shipment number 00340434188193323898\n"
     ]
    },
    {
     "name": "stdout",
     "output_type": "stream",
     "text": [
      "[9, 16, 23, 30, 47, 54, 61, 78, 85, 92, 108, 115, 122, 139, 146, 153, 160, 177, 184, 191, 207, 214, 221, 238, 245, 252, 269, 276, 283, 290, 306, 313, 320, 337, 344, 351, 368, 375, 382]\n",
      "[ 7  7  7 17  7  7 17  7  7 16  7  7 17  7  7  7 17  7  7 16  7  7 17  7\n",
      "  7 17  7  7  7 16  7  7 17  7  7 17  7  7]\n"
     ]
    },
    {
     "name": "stderr",
     "output_type": "stream",
     "text": [
      "05:34:06 INFO: Writing file ../data/00340434188193323899.json\n",
      "05:34:06 INFO: Saved 40 files out of 400\n"
     ]
    },
    {
     "name": "stdout",
     "output_type": "stream",
     "text": [
      "[9, 16, 23, 30, 47, 54, 61, 78, 85, 92, 108, 115, 122, 139, 146, 153, 160, 177, 184, 191, 207, 214, 221, 238, 245, 252, 269, 276, 283, 290, 306, 313, 320, 337, 344, 351, 368, 375, 382, 399]\n",
      "[ 7  7  7 17  7  7 17  7  7 16  7  7 17  7  7  7 17  7  7 16  7  7 17  7\n",
      "  7 17  7  7  7 16  7  7 17  7  7 17  7  7 17]\n"
     ]
    }
   ],
   "source": [
    "main(shipment_number=340434188193323500, size=400)"
   ]
  },
  {
   "cell_type": "code",
   "execution_count": null,
   "metadata": {},
   "outputs": [],
   "source": []
  },
  {
   "cell_type": "code",
   "execution_count": null,
   "metadata": {},
   "outputs": [],
   "source": []
  }
 ],
 "metadata": {
  "kernelspec": {
   "display_name": "Python 3",
   "language": "python",
   "name": "python3"
  },
  "language_info": {
   "codemirror_mode": {
    "name": "ipython",
    "version": 3
   },
   "file_extension": ".py",
   "mimetype": "text/x-python",
   "name": "python",
   "nbconvert_exporter": "python",
   "pygments_lexer": "ipython3",
   "version": "3.7.3"
  }
 },
 "nbformat": 4,
 "nbformat_minor": 2
}

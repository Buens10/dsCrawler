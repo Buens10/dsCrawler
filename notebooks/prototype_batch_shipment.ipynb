{
 "cells": [
  {
   "cell_type": "markdown",
   "metadata": {},
   "source": [
    "# Scrabu Prototype (for a List of Shipment Numbers)"
   ]
  },
  {
   "cell_type": "markdown",
   "metadata": {},
   "source": [
    "This notebook is for creating a prototype of the Scrabu project. The goal is to download DHL pages for a specific shipment number and scrap the shipment information from it."
   ]
  },
  {
   "cell_type": "markdown",
   "metadata": {},
   "source": [
    "#### Configure Logger"
   ]
  },
  {
   "cell_type": "code",
   "execution_count": 65,
   "metadata": {},
   "outputs": [],
   "source": [
    "import logging\n",
    "logger = logging.getLogger()\n",
    "logger.setLevel(logging.INFO)\n",
    "logging.basicConfig(format='%(asctime)s %(levelname)s: %(message)s', level=logging.DEBUG, datefmt='%I:%M:%S')"
   ]
  },
  {
   "cell_type": "markdown",
   "metadata": {},
   "source": [
    "#### Generate a list of shipment numbers"
   ]
  },
  {
   "cell_type": "code",
   "execution_count": 45,
   "metadata": {},
   "outputs": [],
   "source": [
    "def generate_shipment_numbers(shipment_number=None, size=2): #340434188193324407\n",
    "    logger.info(\"Generating shipment numbers with seed: {}\".format(shipment_number))\n",
    "    import numpy as np\n",
    "    shipment_numbers_list = []\n",
    "    for i in range(0, size):\n",
    "        shipment_number_str = str(shipment_number).rjust(20, '0')\n",
    "        shipment_numbers_list.append(shipment_number_str)\n",
    "        shipment_number = shipment_number + 1\n",
    "    logger.info(\"Generated {} unique shipment numbers\".format(len(set(shipment_numbers_list))))\n",
    "    return shipment_numbers_list"
   ]
  },
  {
   "cell_type": "code",
   "execution_count": 46,
   "metadata": {},
   "outputs": [
    {
     "name": "stderr",
     "output_type": "stream",
     "text": [
      "04:10:29 INFO: Generating shipment numbers with seed: 340434188193323500\n",
      "04:10:29 INFO: Generated 50 unique shipment numbers\n"
     ]
    }
   ],
   "source": [
    "shipment_numbers = generate_shipment_numbers(shipment_number=340434188193323500, size=50)"
   ]
  },
  {
   "cell_type": "markdown",
   "metadata": {},
   "source": [
    "#### Download the HTML content for a list of shipment numbers"
   ]
  },
  {
   "cell_type": "code",
   "execution_count": 47,
   "metadata": {
    "scrolled": true
   },
   "outputs": [],
   "source": [
    "def request(shipment_number=None, start_url=\"https://www.dhl.de/int-verfolgen/search?language=de&lang=de&domain=de&piececode=\"):\n",
    "    import requests\n",
    "    import numpy as np\n",
    "    logger.debug(\"Making HTTP request for shipment number {}\".format(shipment_number))\n",
    "    request_url = start_url + str(shipment_number)\n",
    "    return requests.get(request_url).content"
   ]
  },
  {
   "cell_type": "code",
   "execution_count": 48,
   "metadata": {},
   "outputs": [
    {
     "name": "stderr",
     "output_type": "stream",
     "text": [
      "04:10:29 DEBUG: Making HTTP request for shipment number 00340434188193323500\n",
      "04:10:29 DEBUG: Starting new HTTPS connection (1): www.dhl.de:443\n",
      "04:10:29 DEBUG: https://www.dhl.de:443 \"GET /int-verfolgen/search?language=de&lang=de&domain=de&piececode=00340434188193323500 HTTP/1.1\" 200 1072\n"
     ]
    }
   ],
   "source": [
    "html_response = request(shipment_number=\"00340434188193323500\")"
   ]
  },
  {
   "cell_type": "markdown",
   "metadata": {},
   "source": [
    "#### Parsing HTML and converting it into JSON"
   ]
  },
  {
   "cell_type": "code",
   "execution_count": 49,
   "metadata": {},
   "outputs": [],
   "source": [
    "def html_to_json(html):\n",
    "    from lxml import etree\n",
    "    import json\n",
    "    logger.debug(\"Converting HTML to JSON\")\n",
    "    \n",
    "    html_tree = etree.HTML(html)\n",
    "    \n",
    "    def clean_json(dirty_json):\n",
    "        start = dirty_json.find('JSON.parse(')\n",
    "        end = dirty_json.find('\"),', start)\n",
    "        cjson = dirty_json[start:end]\n",
    "        cjson = cjson.replace('JSON.parse(\"', '')\n",
    "        cjson = cjson.replace('\\\\', '')\n",
    "        return cjson\n",
    "    \n",
    "    def find_json_element(html_tree):\n",
    "        json_element = html_tree.xpath('//div')\n",
    "        return str(etree.tostring(json_element[0]))\n",
    "    \n",
    "    dirty_json = find_json_element(html_tree)\n",
    "    json_string = clean_json(dirty_json)\n",
    "    return json.loads(json_string)"
   ]
  },
  {
   "cell_type": "code",
   "execution_count": 50,
   "metadata": {},
   "outputs": [
    {
     "name": "stderr",
     "output_type": "stream",
     "text": [
      "04:10:30 DEBUG: Converting HTML to JSON\n"
     ]
    }
   ],
   "source": [
    "shipment_details_json = html_to_json(html_response)"
   ]
  },
  {
   "cell_type": "markdown",
   "metadata": {},
   "source": [
    "#### Structure the shipment details in JSON format"
   ]
  },
  {
   "cell_type": "code",
   "execution_count": 51,
   "metadata": {
    "scrolled": true
   },
   "outputs": [],
   "source": [
    "def shipment_details(shipment_details_json, start_url=\"https://www.dhl.de/int-verfolgen/search?language=de&lang=de&domain=de&piececode=\", shipment_number=\"00340434188193323500\"):\n",
    "    import datetime\n",
    "    logger.debug(\"Preparing JSON for persistance\")\n",
    "    delivery_history_dict = {}\n",
    "    delivery_history_dict[\"shipment_number\"] = shipment_details_json[\"sendungen\"][0][\"sendungsdetails\"][\"sendungsnummern\"].get(\"sendungsnummer\")\n",
    "    delivery_history_dict[\"crawltime\"] = datetime.datetime.now().strftime('%Y-%m-%d %H:%M:%S')\n",
    "    delivery_history_dict[\"url\"] = start_url + str(shipment_number) \n",
    "    delivery_history_dict[\"events\"] = shipment_details_json[\"sendungen\"][0][\"sendungsdetails\"][\"sendungsverlauf\"].get(\"events\", [])\n",
    "    return delivery_history_dict"
   ]
  },
  {
   "cell_type": "code",
   "execution_count": 52,
   "metadata": {},
   "outputs": [
    {
     "name": "stderr",
     "output_type": "stream",
     "text": [
      "04:10:31 DEBUG: Preparing JSON for persistance\n"
     ]
    }
   ],
   "source": [
    "shipment_history = shipment_details(shipment_details_json)"
   ]
  },
  {
   "cell_type": "code",
   "execution_count": 53,
   "metadata": {},
   "outputs": [],
   "source": [
    "import json\n",
    "def save_dictionary(shipment_history=None, filename=None):\n",
    "    logger.info(\"Writing file {}\".format(filename))\n",
    "    with open(filename, 'w') as f:\n",
    "        json.dump(shipment_history, f)"
   ]
  },
  {
   "cell_type": "code",
   "execution_count": 54,
   "metadata": {},
   "outputs": [
    {
     "name": "stderr",
     "output_type": "stream",
     "text": [
      "04:10:31 INFO: Writing file ../data/00340434188193323500.json\n"
     ]
    }
   ],
   "source": [
    "save_dictionary(shipment_history=None, filename=\"../data/00340434188193323500.json\")"
   ]
  },
  {
   "cell_type": "markdown",
   "metadata": {},
   "source": [
    "#### Main function, which goes through all shipment numbers and uses the previous methods"
   ]
  },
  {
   "cell_type": "code",
   "execution_count": 69,
   "metadata": {},
   "outputs": [],
   "source": [
    "import time\n",
    "def main(shipment_number=None, size=None):\n",
    "    shipment_numbers = generate_shipment_numbers(shipment_number=shipment_number, size=size)\n",
    "    count_saved = 0\n",
    "    for shipment_number in shipment_numbers:\n",
    "        time.sleep(0.5)\n",
    "        html_response = request(shipment_number=shipment_number)\n",
    "        shipment_details_json = html_to_json(html_response)\n",
    "        shipment_history = shipment_details(shipment_details_json, shipment_number=shipment_number)\n",
    "        if len(shipment_history['events']) > 0:\n",
    "            save_dictionary(shipment_history, filename=\"../data/{}.json\".format(shipment_number))\n",
    "            count_saved = count_saved + 1\n",
    "        else:\n",
    "            logger.info(\"No events found for shipment number {}\".format(shipment_number))\n",
    "    logger.info(\"Saved {} files out of {}\".format(count_saved, size))"
   ]
  },
  {
   "cell_type": "code",
   "execution_count": 77,
   "metadata": {},
   "outputs": [
    {
     "name": "stderr",
     "output_type": "stream",
     "text": [
      "04:29:05 INFO: Generating shipment numbers with seed: 340434174857837116\n",
      "04:29:05 INFO: Generated 30 unique shipment numbers\n",
      "04:29:06 INFO: Writing file ../data/00340434174857837116.json\n",
      "04:29:06 INFO: No events found for shipment number 00340434174857837117\n",
      "04:29:07 INFO: No events found for shipment number 00340434174857837118\n",
      "04:29:08 INFO: No events found for shipment number 00340434174857837119\n",
      "04:29:08 INFO: No events found for shipment number 00340434174857837120\n",
      "04:29:09 INFO: No events found for shipment number 00340434174857837121\n",
      "04:29:10 INFO: No events found for shipment number 00340434174857837122\n",
      "04:29:11 INFO: Writing file ../data/00340434174857837123.json\n",
      "04:29:12 INFO: No events found for shipment number 00340434174857837124\n",
      "04:29:12 INFO: No events found for shipment number 00340434174857837125\n",
      "04:29:13 INFO: No events found for shipment number 00340434174857837126\n",
      "04:29:14 INFO: No events found for shipment number 00340434174857837127\n",
      "04:29:14 INFO: No events found for shipment number 00340434174857837128\n",
      "04:29:15 INFO: No events found for shipment number 00340434174857837129\n",
      "04:29:16 INFO: Writing file ../data/00340434174857837130.json\n",
      "04:29:16 INFO: No events found for shipment number 00340434174857837131\n",
      "04:29:17 INFO: No events found for shipment number 00340434174857837132\n",
      "04:29:18 INFO: No events found for shipment number 00340434174857837133\n",
      "04:29:18 INFO: No events found for shipment number 00340434174857837134\n",
      "04:29:19 INFO: No events found for shipment number 00340434174857837135\n",
      "04:29:20 INFO: No events found for shipment number 00340434174857837136\n",
      "04:29:20 INFO: No events found for shipment number 00340434174857837137\n",
      "04:29:21 INFO: No events found for shipment number 00340434174857837138\n",
      "04:29:22 INFO: No events found for shipment number 00340434174857837139\n",
      "04:29:22 INFO: No events found for shipment number 00340434174857837140\n",
      "04:29:23 INFO: No events found for shipment number 00340434174857837141\n",
      "04:29:24 INFO: No events found for shipment number 00340434174857837142\n",
      "04:29:24 INFO: No events found for shipment number 00340434174857837143\n",
      "04:29:25 INFO: No events found for shipment number 00340434174857837144\n",
      "04:29:26 INFO: No events found for shipment number 00340434174857837145\n",
      "04:29:26 INFO: Saved 3 files out of 30\n"
     ]
    }
   ],
   "source": [
    "main(shipment_number=340434174857837116, size=30)"
   ]
  },
  {
   "cell_type": "code",
   "execution_count": null,
   "metadata": {},
   "outputs": [],
   "source": []
  },
  {
   "cell_type": "code",
   "execution_count": null,
   "metadata": {},
   "outputs": [],
   "source": []
  }
 ],
 "metadata": {
  "kernelspec": {
   "display_name": "Python 3",
   "language": "python",
   "name": "python3"
  },
  "language_info": {
   "codemirror_mode": {
    "name": "ipython",
    "version": 3
   },
   "file_extension": ".py",
   "mimetype": "text/x-python",
   "name": "python",
   "nbconvert_exporter": "python",
   "pygments_lexer": "ipython3",
   "version": "3.7.3"
  }
 },
 "nbformat": 4,
 "nbformat_minor": 2
}

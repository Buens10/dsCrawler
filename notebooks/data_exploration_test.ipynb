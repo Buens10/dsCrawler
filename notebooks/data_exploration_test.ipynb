{
 "cells": [
  {
   "cell_type": "markdown",
   "metadata": {},
   "source": [
    "# Data Exploration"
   ]
  },
  {
   "cell_type": "markdown",
   "metadata": {},
   "source": [
    "## import logging\n",
    "for handler in logging.root.handlers[:]:\n",
    "    logging.root.removeHandler(handler)\n",
    "logging.basicConfig(level=logging.INFO)\n",
    "\n",
    "logger = logging.getLogger('baseline')"
   ]
  },
  {
   "cell_type": "code",
   "execution_count": 1,
   "metadata": {},
   "outputs": [],
   "source": [
    "import logging\n",
    "for handler in logging.root.handlers[:]:\n",
    "    logging.root.removeHandler(handler)\n",
    "logging.basicConfig(level=logging.INFO)\n",
    "\n",
    "logger = logging.getLogger('baseline')"
   ]
  },
  {
   "cell_type": "code",
   "execution_count": 2,
   "metadata": {},
   "outputs": [],
   "source": [
    "def json_to_df(json_file=None):\n",
    "    \"\"\" Reads a single JSON file containing the\n",
    "    shipment information and converts it to a\n",
    "    structured dataframe\n",
    "    \"\"\"\n",
    "    import pandas as pd\n",
    "    from pandas.io.json import json_normalize\n",
    "    import numpy as np\n",
    "    logger.debug(\"Converting to dataframe: {}\".format(json_file))\n",
    "    df = pd.read_json(json_file, dtype={\"shipment_number\": str})\n",
    "    normalized_df = json_normalize(df['events'])\n",
    "    df.drop([\"events\"], axis=1, inplace=True)\n",
    "    df = pd.concat([df, normalized_df], axis=1)\n",
    "    if \"Die Sendung wurde elektronisch angeku00FCndigt. Sobald die Sendung von uns bearbeitet wurde, erhalten Sie weitere Informationen.\" == df.tail(1)[\"status\"].item():\n",
    "        logger.warning(\"Final delivery state is strange! Ignoring the file {}\".format(json_file))\n",
    "        return\n",
    "    # Some files have multiple states. It does not make sense!\n",
    "    if df[df[\"status\"] == \"Die Sendung wurde erfolgreich zugestellt.\"].shape[0] > 1:\n",
    "        logger.warning(\"Multiple final states! Ignoring the file {}\".format(json_file))\n",
    "        return\n",
    "    if df[\"status\"].isnull().any():\n",
    "        logger.warning(\"Status column has missing values! Ignoring the file {}\".format(json_file))\n",
    "        return\n",
    "    if len(df[\"url\"].unique()) > 1:\n",
    "        logger.warning(\"Multiple URLs for a single shipment number! Something is wrong\")\n",
    "    if len(df[\"shipment_number\"].unique()) > 1:\n",
    "        logger.warning(\"Multiple shipment numbers in the same file. Something is wrong\")\n",
    "    df['crawltime'] = pd.to_datetime(df['crawltime'], utc=True)\n",
    "    df['datum'] = pd.to_datetime(df['datum'], utc=True)\n",
    "    if df[\"status\"].isnull().values.any():\n",
    "        logger.warning(\"Column status has missing values! ShipmentNumber: {}\".format(df[\"shipment_number\"].values[0]))\n",
    "    final_event_array = np.zeros(len(df))\n",
    "    final_event_array[-1] = 1\n",
    "    df[\"is_final_event\"] = final_event_array\n",
    "    return df"
   ]
  },
  {
   "cell_type": "code",
   "execution_count": 5,
   "metadata": {},
   "outputs": [],
   "source": [
    "def files_to_df(path='../data', n=None):\n",
    "    \"\"\" Convert all files to a single dataframe\n",
    "    \"\"\"\n",
    "    import os\n",
    "    import pandas as pd\n",
    "    files = []\n",
    "    counter = 0\n",
    "    for r, d, f in os.walk(path):\n",
    "        for file in f:\n",
    "            if counter > n:\n",
    "                break\n",
    "            counter = counter + 1\n",
    "            if '.json' in file:\n",
    "                files.append(os.path.join(r, file))\n",
    "    dfs = [json_to_df(json_file=file) for file in files]\n",
    "    df = pd.concat(dfs, sort=False)\n",
    "    return df"
   ]
  },
  {
   "cell_type": "code",
   "execution_count": 6,
   "metadata": {
    "scrolled": true
   },
   "outputs": [
    {
     "name": "stderr",
     "output_type": "stream",
     "text": [
      "/opt/conda/lib/python3.7/site-packages/ipykernel_launcher.py:11: FutureWarning: pandas.io.json.json_normalize is deprecated, use pandas.json_normalize instead\n",
      "  # This is added back by InteractiveShellApp.init_path()\n",
      "WARNING:baseline:Final delivery state is strange! Ignoring the file ../data/00340434154847537844.json\n",
      "WARNING:baseline:Final delivery state is strange! Ignoring the file ../data/00340434311100777793.json\n",
      "WARNING:baseline:Status column has missing values! Ignoring the file ../data/00340434193824536241.json\n"
     ]
    }
   ],
   "source": [
    "df = files_to_df(path='../data', n=100)"
   ]
  },
  {
   "cell_type": "code",
   "execution_count": 10,
   "metadata": {},
   "outputs": [
    {
     "name": "stdout",
     "output_type": "stream",
     "text": [
      "\\begin{tabular}{lllllllr}\n",
      "\\toprule\n",
      "{} &       shipment_number &                 crawltime &                                                url &                     datum &                                             status &       ort &  is_final_event \\\\\n",
      "\\midrule\n",
      "0 &  00340434188193325701 & 2020-01-05 21:24:49+00:00 &  https://www.dhl.de/int-verfolgen/search?langua... & 2019-10-08 14:42:00+00:00 &  Die Sendung wurde elektronisch angeku00FCndigt... &       NaN &             0.0 \\\\\n",
      "1 &  00340434188193325701 & 2020-01-05 21:24:49+00:00 &  https://www.dhl.de/int-verfolgen/search?langua... & 2019-10-08 18:19:00+00:00 &  Die Sendung wurde von DHL bearbeitet und wird ... &   Hamburg &             0.0 \\\\\n",
      "2 &  00340434188193325701 & 2020-01-05 21:24:49+00:00 &  https://www.dhl.de/int-verfolgen/search?langua... & 2019-10-09 02:44:00+00:00 &  Die Sendung ist in der Region des Empfu00E4nge... &  Saulheim &             0.0 \\\\\n",
      "3 &  00340434188193325701 & 2020-01-05 21:24:49+00:00 &  https://www.dhl.de/int-verfolgen/search?langua... & 2019-10-09 07:46:00+00:00 &  Die Sendung wurde in das Zustellfahrzeug gelad... &       NaN &             0.0 \\\\\n",
      "4 &  00340434188193325701 & 2020-01-05 21:24:49+00:00 &  https://www.dhl.de/int-verfolgen/search?langua... & 2019-10-09 10:35:00+00:00 &          Die Sendung wurde erfolgreich zugestellt. &       NaN &             1.0 \\\\\n",
      "\\bottomrule\n",
      "\\end{tabular}\n",
      "\n"
     ]
    }
   ],
   "source": [
    "print(df.head().to_latex(escape=False))"
   ]
  },
  {
   "cell_type": "markdown",
   "metadata": {},
   "source": [
    "# Finding Similar PLACES "
   ]
  },
  {
   "cell_type": "code",
   "execution_count": 89,
   "metadata": {},
   "outputs": [],
   "source": [
    "orte = list(df[\"ort\"].dropna().values)\n",
    "orte = list(set(orte))"
   ]
  },
  {
   "cell_type": "code",
   "execution_count": 90,
   "metadata": {},
   "outputs": [
    {
     "name": "stdout",
     "output_type": "stream",
     "text": [
      "['Holzgerlingen MechZB', 'Freiburg MechZB', 'Hamburg', 'Falkensee', 'Kiel', 'Nohra', 'Berlin-Pankow MechZB', 'Bremen GVZ', 'Speyer', 'Mainz']\n"
     ]
    }
   ],
   "source": [
    "print(orte[0:10])"
   ]
  },
  {
   "cell_type": "code",
   "execution_count": 91,
   "metadata": {},
   "outputs": [
    {
     "data": {
      "text/plain": [
       "[['Holzgerlingen MechZB', 'Freiburg MechZB'],\n",
       " ['Holzgerlingen MechZB', 'Hamburg'],\n",
       " ['Holzgerlingen MechZB', 'Falkensee'],\n",
       " ['Holzgerlingen MechZB', 'Kiel'],\n",
       " ['Holzgerlingen MechZB', 'Nohra'],\n",
       " ['Holzgerlingen MechZB', 'Berlin-Pankow MechZB'],\n",
       " ['Holzgerlingen MechZB', 'Bremen GVZ'],\n",
       " ['Holzgerlingen MechZB', 'Speyer'],\n",
       " ['Holzgerlingen MechZB', 'Mainz'],\n",
       " ['Holzgerlingen MechZB', 'Heidelberg-Leimen MechZB']]"
      ]
     },
     "execution_count": 91,
     "metadata": {},
     "output_type": "execute_result"
    }
   ],
   "source": [
    "def build_pairs(orte):\n",
    "    pairs = []\n",
    "    for index, value in enumerate(orte):\n",
    "        if index == len(orte) - 1:\n",
    "            break\n",
    "        for j in range(index+1, len(orte)):\n",
    "            pairs.append([value, orte[j]])\n",
    "    return pairs\n",
    "pairs = build_pairs(orte)\n",
    "pairs[0:10]"
   ]
  },
  {
   "cell_type": "code",
   "execution_count": 92,
   "metadata": {},
   "outputs": [],
   "source": [
    "def similarity(string1, string2):\n",
    "    if string1 in string2 or string2 in string1:\n",
    "        return 1\n",
    "    else:\n",
    "        return 0"
   ]
  },
  {
   "cell_type": "code",
   "execution_count": 95,
   "metadata": {},
   "outputs": [],
   "source": [
    "sim_dict = {}\n",
    "for pair in pairs:\n",
    "    sim = similarity(pair[0], pair[1])\n",
    "    if pair[0] == pair[1]:\n",
    "        break\n",
    "    if sim == 1:\n",
    "        if len(pair[0]) > len(pair[1]):\n",
    "            sim_dict[pair[0]] = pair[1]\n",
    "        else:\n",
    "            sim_dict[pair[1]] = pair[0]   "
   ]
  },
  {
   "cell_type": "code",
   "execution_count": 96,
   "metadata": {},
   "outputs": [],
   "source": [
    "df[\"ort\"].replace(sim_dict, inplace=True)"
   ]
  },
  {
   "cell_type": "markdown",
   "metadata": {},
   "source": [
    "### Are there any missing values?"
   ]
  },
  {
   "cell_type": "code",
   "execution_count": 12,
   "metadata": {},
   "outputs": [],
   "source": [
    "import pandas as pd\n",
    "def count_missing_values(df):\n",
    "    percent_missing = df.isnull().sum() * 100 / len(df)\n",
    "    missing_value_df = pd.DataFrame({'column_name': df.columns,\n",
    "                                 'percent_missing': percent_missing})\n",
    "    return missing_value_df\n",
    "missing_value_df = count_missing_values(df)"
   ]
  },
  {
   "cell_type": "code",
   "execution_count": 14,
   "metadata": {},
   "outputs": [
    {
     "name": "stdout",
     "output_type": "stream",
     "text": [
      "\\begin{tabular}{llr}\n",
      "\\toprule\n",
      "{} &      column\\_name &  percent\\_missing \\\\\n",
      "\\midrule\n",
      "shipment\\_number &  shipment\\_number &         0.000000 \\\\\n",
      "crawltime       &        crawltime &         0.000000 \\\\\n",
      "url             &              url &         0.000000 \\\\\n",
      "datum           &            datum &         0.000000 \\\\\n",
      "status          &           status &         0.000000 \\\\\n",
      "ort             &              ort &        59.346642 \\\\\n",
      "is\\_final\\_event  &   is\\_final\\_event &         0.000000 \\\\\n",
      "\\bottomrule\n",
      "\\end{tabular}\n",
      "\n"
     ]
    }
   ],
   "source": [
    "print(missing_value_df.to_latex())"
   ]
  },
  {
   "cell_type": "markdown",
   "metadata": {},
   "source": [
    "Column \"ort\" has many missing values. We fill them with \"Unbekannt\""
   ]
  },
  {
   "cell_type": "code",
   "execution_count": 109,
   "metadata": {},
   "outputs": [],
   "source": [
    "def fill_missing_values(df):\n",
    "    \"\"\" Fills missing values of specific columns\n",
    "    in the data frame with pre-defined values.\n",
    "    \"\"\"\n",
    "    df['ort'].fillna(\"Unbekannt\", inplace=True)\n",
    "    logger.debug(\"Filled missing values for ort column\")\n",
    "    return df"
   ]
  },
  {
   "cell_type": "code",
   "execution_count": 110,
   "metadata": {},
   "outputs": [],
   "source": [
    "df = fill_missing_values(df)"
   ]
  },
  {
   "cell_type": "markdown",
   "metadata": {},
   "source": [
    "Check again if there are any missing values"
   ]
  },
  {
   "cell_type": "code",
   "execution_count": 111,
   "metadata": {},
   "outputs": [
    {
     "data": {
      "text/html": [
       "<div>\n",
       "<style scoped>\n",
       "    .dataframe tbody tr th:only-of-type {\n",
       "        vertical-align: middle;\n",
       "    }\n",
       "\n",
       "    .dataframe tbody tr th {\n",
       "        vertical-align: top;\n",
       "    }\n",
       "\n",
       "    .dataframe thead th {\n",
       "        text-align: right;\n",
       "    }\n",
       "</style>\n",
       "<table border=\"1\" class=\"dataframe\">\n",
       "  <thead>\n",
       "    <tr style=\"text-align: right;\">\n",
       "      <th></th>\n",
       "      <th>column_name</th>\n",
       "      <th>percent_missing</th>\n",
       "    </tr>\n",
       "  </thead>\n",
       "  <tbody>\n",
       "    <tr>\n",
       "      <td>shipment_number</td>\n",
       "      <td>shipment_number</td>\n",
       "      <td>0.0</td>\n",
       "    </tr>\n",
       "    <tr>\n",
       "      <td>crawltime</td>\n",
       "      <td>crawltime</td>\n",
       "      <td>0.0</td>\n",
       "    </tr>\n",
       "    <tr>\n",
       "      <td>url</td>\n",
       "      <td>url</td>\n",
       "      <td>0.0</td>\n",
       "    </tr>\n",
       "    <tr>\n",
       "      <td>datum</td>\n",
       "      <td>datum</td>\n",
       "      <td>0.0</td>\n",
       "    </tr>\n",
       "    <tr>\n",
       "      <td>status</td>\n",
       "      <td>status</td>\n",
       "      <td>0.0</td>\n",
       "    </tr>\n",
       "    <tr>\n",
       "      <td>ort</td>\n",
       "      <td>ort</td>\n",
       "      <td>0.0</td>\n",
       "    </tr>\n",
       "    <tr>\n",
       "      <td>is_final_event</td>\n",
       "      <td>is_final_event</td>\n",
       "      <td>0.0</td>\n",
       "    </tr>\n",
       "  </tbody>\n",
       "</table>\n",
       "</div>"
      ],
      "text/plain": [
       "                     column_name  percent_missing\n",
       "shipment_number  shipment_number              0.0\n",
       "crawltime              crawltime              0.0\n",
       "url                          url              0.0\n",
       "datum                      datum              0.0\n",
       "status                    status              0.0\n",
       "ort                          ort              0.0\n",
       "is_final_event    is_final_event              0.0"
      ]
     },
     "execution_count": 111,
     "metadata": {},
     "output_type": "execute_result"
    }
   ],
   "source": [
    "count_missing_values(df)"
   ]
  },
  {
   "cell_type": "markdown",
   "metadata": {},
   "source": [
    "### Data Stats"
   ]
  },
  {
   "cell_type": "code",
   "execution_count": 112,
   "metadata": {},
   "outputs": [
    {
     "data": {
      "text/plain": [
       "(5455, 7)"
      ]
     },
     "execution_count": 112,
     "metadata": {},
     "output_type": "execute_result"
    }
   ],
   "source": [
    "df.shape"
   ]
  },
  {
   "cell_type": "markdown",
   "metadata": {},
   "source": [
    "Number of unique shipment numbers"
   ]
  },
  {
   "cell_type": "code",
   "execution_count": 113,
   "metadata": {},
   "outputs": [
    {
     "data": {
      "text/plain": [
       "954"
      ]
     },
     "execution_count": 113,
     "metadata": {},
     "output_type": "execute_result"
    }
   ],
   "source": [
    "len(df.shipment_number.unique())"
   ]
  },
  {
   "cell_type": "markdown",
   "metadata": {},
   "source": [
    "### Investigate Data Types"
   ]
  },
  {
   "cell_type": "code",
   "execution_count": 114,
   "metadata": {
    "scrolled": true
   },
   "outputs": [
    {
     "name": "stdout",
     "output_type": "stream",
     "text": [
      "<class 'pandas.core.frame.DataFrame'>\n",
      "Int64Index: 5455 entries, 0 to 4\n",
      "Data columns (total 7 columns):\n",
      "shipment_number    5455 non-null object\n",
      "crawltime          5455 non-null datetime64[ns, UTC]\n",
      "url                5455 non-null object\n",
      "datum              5455 non-null datetime64[ns, UTC]\n",
      "status             5455 non-null object\n",
      "ort                5455 non-null object\n",
      "is_final_event     5455 non-null float64\n",
      "dtypes: datetime64[ns, UTC](2), float64(1), object(4)\n",
      "memory usage: 340.9+ KB\n"
     ]
    }
   ],
   "source": [
    "df.info()"
   ]
  },
  {
   "cell_type": "markdown",
   "metadata": {},
   "source": [
    "Everything regarding data types seems to be fine! No need for conversion"
   ]
  },
  {
   "cell_type": "markdown",
   "metadata": {},
   "source": [
    "### Prepare data for exploration and machine learning"
   ]
  },
  {
   "cell_type": "markdown",
   "metadata": {},
   "source": [
    "- There are places where at least two may be in the same city\n",
    "- To simplify the analysis, we delete the unnecessery suffixes from these places."
   ]
  },
  {
   "cell_type": "code",
   "execution_count": 115,
   "metadata": {},
   "outputs": [
    {
     "data": {
      "text/html": [
       "<div>\n",
       "<style scoped>\n",
       "    .dataframe tbody tr th:only-of-type {\n",
       "        vertical-align: middle;\n",
       "    }\n",
       "\n",
       "    .dataframe tbody tr th {\n",
       "        vertical-align: top;\n",
       "    }\n",
       "\n",
       "    .dataframe thead th {\n",
       "        text-align: right;\n",
       "    }\n",
       "</style>\n",
       "<table border=\"1\" class=\"dataframe\">\n",
       "  <thead>\n",
       "    <tr style=\"text-align: right;\">\n",
       "      <th></th>\n",
       "      <th>ort</th>\n",
       "    </tr>\n",
       "  </thead>\n",
       "  <tbody>\n",
       "    <tr>\n",
       "      <td>Unbekannt</td>\n",
       "      <td>3215</td>\n",
       "    </tr>\n",
       "    <tr>\n",
       "      <td>Ru00FCdersdorf</td>\n",
       "      <td>487</td>\n",
       "    </tr>\n",
       "    <tr>\n",
       "      <td>Bu00F6rnicke</td>\n",
       "      <td>348</td>\n",
       "    </tr>\n",
       "    <tr>\n",
       "      <td>Hamburg</td>\n",
       "      <td>202</td>\n",
       "    </tr>\n",
       "    <tr>\n",
       "      <td>Ku00F6ln</td>\n",
       "      <td>51</td>\n",
       "    </tr>\n",
       "    <tr>\n",
       "      <td>Bremen</td>\n",
       "      <td>45</td>\n",
       "    </tr>\n",
       "    <tr>\n",
       "      <td>Obertshausen</td>\n",
       "      <td>43</td>\n",
       "    </tr>\n",
       "    <tr>\n",
       "      <td>Hannover</td>\n",
       "      <td>43</td>\n",
       "    </tr>\n",
       "    <tr>\n",
       "      <td>Dorsten</td>\n",
       "      <td>43</td>\n",
       "    </tr>\n",
       "    <tr>\n",
       "      <td>Krefeld</td>\n",
       "      <td>41</td>\n",
       "    </tr>\n",
       "    <tr>\n",
       "      <td>Berlin</td>\n",
       "      <td>41</td>\n",
       "    </tr>\n",
       "    <tr>\n",
       "      <td>Neuwied</td>\n",
       "      <td>40</td>\n",
       "    </tr>\n",
       "    <tr>\n",
       "      <td>Augsburg</td>\n",
       "      <td>40</td>\n",
       "    </tr>\n",
       "    <tr>\n",
       "      <td>Feucht</td>\n",
       "      <td>37</td>\n",
       "    </tr>\n",
       "    <tr>\n",
       "      <td>Gu00FCnzburg</td>\n",
       "      <td>33</td>\n",
       "    </tr>\n",
       "    <tr>\n",
       "      <td>Ku00F6ngen</td>\n",
       "      <td>32</td>\n",
       "    </tr>\n",
       "    <tr>\n",
       "      <td>Radefeld</td>\n",
       "      <td>30</td>\n",
       "    </tr>\n",
       "    <tr>\n",
       "      <td>Aschheim</td>\n",
       "      <td>30</td>\n",
       "    </tr>\n",
       "    <tr>\n",
       "      <td>Bielefeld</td>\n",
       "      <td>29</td>\n",
       "    </tr>\n",
       "    <tr>\n",
       "      <td>Hagen</td>\n",
       "      <td>29</td>\n",
       "    </tr>\n",
       "  </tbody>\n",
       "</table>\n",
       "</div>"
      ],
      "text/plain": [
       "                 ort\n",
       "Unbekannt       3215\n",
       "Ru00FCdersdorf   487\n",
       "Bu00F6rnicke     348\n",
       "Hamburg          202\n",
       "Ku00F6ln          51\n",
       "Bremen            45\n",
       "Obertshausen      43\n",
       "Hannover          43\n",
       "Dorsten           43\n",
       "Krefeld           41\n",
       "Berlin            41\n",
       "Neuwied           40\n",
       "Augsburg          40\n",
       "Feucht            37\n",
       "Gu00FCnzburg      33\n",
       "Ku00F6ngen        32\n",
       "Radefeld          30\n",
       "Aschheim          30\n",
       "Bielefeld         29\n",
       "Hagen             29"
      ]
     },
     "execution_count": 115,
     "metadata": {},
     "output_type": "execute_result"
    }
   ],
   "source": [
    "pd.DataFrame(df[\"ort\"].value_counts()).head(20)"
   ]
  },
  {
   "cell_type": "markdown",
   "metadata": {},
   "source": [
    "- further we transform the current datetime-format to a discrete time-format, so that we can summarize our data in more descrete time groups "
   ]
  },
  {
   "cell_type": "code",
   "execution_count": 116,
   "metadata": {},
   "outputs": [],
   "source": [
    "def discretize_time(df):\n",
    "    import numpy as np\n",
    "    import pandas as pd\n",
    "    from datetime import datetime\n",
    "    \n",
    "    df['datum'] = pd.DatetimeIndex(df['datum']).astype(np.int64)/1000000\n",
    "    \n",
    "    return df"
   ]
  },
  {
   "cell_type": "code",
   "execution_count": 117,
   "metadata": {},
   "outputs": [],
   "source": [
    "df = discretize_time(df)"
   ]
  },
  {
   "cell_type": "code",
   "execution_count": 118,
   "metadata": {},
   "outputs": [
    {
     "data": {
      "text/html": [
       "<div>\n",
       "<style scoped>\n",
       "    .dataframe tbody tr th:only-of-type {\n",
       "        vertical-align: middle;\n",
       "    }\n",
       "\n",
       "    .dataframe tbody tr th {\n",
       "        vertical-align: top;\n",
       "    }\n",
       "\n",
       "    .dataframe thead th {\n",
       "        text-align: right;\n",
       "    }\n",
       "</style>\n",
       "<table border=\"1\" class=\"dataframe\">\n",
       "  <thead>\n",
       "    <tr style=\"text-align: right;\">\n",
       "      <th></th>\n",
       "      <th>datum</th>\n",
       "    </tr>\n",
       "  </thead>\n",
       "  <tbody>\n",
       "    <tr>\n",
       "      <td>0</td>\n",
       "      <td>1.570546e+12</td>\n",
       "    </tr>\n",
       "    <tr>\n",
       "      <td>1</td>\n",
       "      <td>1.570559e+12</td>\n",
       "    </tr>\n",
       "    <tr>\n",
       "      <td>2</td>\n",
       "      <td>1.570589e+12</td>\n",
       "    </tr>\n",
       "    <tr>\n",
       "      <td>3</td>\n",
       "      <td>1.570607e+12</td>\n",
       "    </tr>\n",
       "    <tr>\n",
       "      <td>4</td>\n",
       "      <td>1.570617e+12</td>\n",
       "    </tr>\n",
       "  </tbody>\n",
       "</table>\n",
       "</div>"
      ],
      "text/plain": [
       "          datum\n",
       "0  1.570546e+12\n",
       "1  1.570559e+12\n",
       "2  1.570589e+12\n",
       "3  1.570607e+12\n",
       "4  1.570617e+12"
      ]
     },
     "execution_count": 118,
     "metadata": {},
     "output_type": "execute_result"
    }
   ],
   "source": [
    "pd.DataFrame(df[\"datum\"]).head()"
   ]
  },
  {
   "cell_type": "markdown",
   "metadata": {},
   "source": [
    "- Given the features \"datum\", \"status\" and \"ort\" we want to predict the next \"datum\" and hopefully also the next \"status\" and the next \"ort\"\n",
    "- We create 3 new columns. \"datum_next\", \"ort_next\" and \"status_next\"."
   ]
  },
  {
   "cell_type": "code",
   "execution_count": 119,
   "metadata": {},
   "outputs": [],
   "source": [
    "def create_target_columns(df):\n",
    "    import numpy as np \n",
    "\n",
    "    df['status_next'] = df.groupby(['shipment_number'])['status'].shift(-1)\n",
    "    df['ort_next'] = df.groupby(['shipment_number'])['ort'].shift(-1)\n",
    "    df['datum_next'] = df.groupby(['shipment_number'])['datum'].shift(-1)\n",
    "    # we define values for the case the package is already delivered.\n",
    "    df.loc[df['is_final_event'] == 1, 'status_next'] = \"SuccessDelivery\"\n",
    "    df.loc[df['is_final_event'] == 1, 'ort_next'] = \"SuccessDelivery\"\n",
    "    df.loc[df['is_final_event'] == 1, 'datum_next'] = np.datetime64('today')\n",
    "    \n",
    "    return df"
   ]
  },
  {
   "cell_type": "code",
   "execution_count": 120,
   "metadata": {},
   "outputs": [],
   "source": [
    "# Disable warnings\n",
    "pd.set_option('mode.chained_assignment', None)\n",
    "df = create_target_columns(df)"
   ]
  },
  {
   "cell_type": "code",
   "execution_count": 141,
   "metadata": {},
   "outputs": [
    {
     "data": {
      "text/html": [
       "<div>\n",
       "<style scoped>\n",
       "    .dataframe tbody tr th:only-of-type {\n",
       "        vertical-align: middle;\n",
       "    }\n",
       "\n",
       "    .dataframe tbody tr th {\n",
       "        vertical-align: top;\n",
       "    }\n",
       "\n",
       "    .dataframe thead th {\n",
       "        text-align: right;\n",
       "    }\n",
       "</style>\n",
       "<table border=\"1\" class=\"dataframe\">\n",
       "  <thead>\n",
       "    <tr style=\"text-align: right;\">\n",
       "      <th></th>\n",
       "      <th>shipment_number</th>\n",
       "      <th>crawltime</th>\n",
       "      <th>url</th>\n",
       "      <th>datum</th>\n",
       "      <th>status</th>\n",
       "      <th>ort</th>\n",
       "      <th>is_final_event</th>\n",
       "      <th>status_next</th>\n",
       "      <th>ort_next</th>\n",
       "      <th>datum_next</th>\n",
       "    </tr>\n",
       "  </thead>\n",
       "  <tbody>\n",
       "    <tr>\n",
       "      <td>0</td>\n",
       "      <td>00340434188193325701</td>\n",
       "      <td>2020-01-05 21:24:49+00:00</td>\n",
       "      <td>https://www.dhl.de/int-verfolgen/search?langua...</td>\n",
       "      <td>1.570546e+12</td>\n",
       "      <td>Die Sendung wurde elektronisch angeku00FCndigt...</td>\n",
       "      <td>Unbekannt</td>\n",
       "      <td>0.0</td>\n",
       "      <td>Die Sendung wurde von DHL bearbeitet und wird ...</td>\n",
       "      <td>Hamburg</td>\n",
       "      <td>1.57056e+12</td>\n",
       "    </tr>\n",
       "    <tr>\n",
       "      <td>1</td>\n",
       "      <td>00340434188193325701</td>\n",
       "      <td>2020-01-05 21:24:49+00:00</td>\n",
       "      <td>https://www.dhl.de/int-verfolgen/search?langua...</td>\n",
       "      <td>1.570559e+12</td>\n",
       "      <td>Die Sendung wurde von DHL bearbeitet und wird ...</td>\n",
       "      <td>Hamburg</td>\n",
       "      <td>0.0</td>\n",
       "      <td>Die Sendung ist in der Region des Empfu00E4nge...</td>\n",
       "      <td>Saulheim</td>\n",
       "      <td>1.57059e+12</td>\n",
       "    </tr>\n",
       "    <tr>\n",
       "      <td>2</td>\n",
       "      <td>00340434188193325701</td>\n",
       "      <td>2020-01-05 21:24:49+00:00</td>\n",
       "      <td>https://www.dhl.de/int-verfolgen/search?langua...</td>\n",
       "      <td>1.570589e+12</td>\n",
       "      <td>Die Sendung ist in der Region des Empfu00E4nge...</td>\n",
       "      <td>Saulheim</td>\n",
       "      <td>0.0</td>\n",
       "      <td>Die Sendung wurde in das Zustellfahrzeug gelad...</td>\n",
       "      <td>Unbekannt</td>\n",
       "      <td>1.57061e+12</td>\n",
       "    </tr>\n",
       "    <tr>\n",
       "      <td>3</td>\n",
       "      <td>00340434188193325701</td>\n",
       "      <td>2020-01-05 21:24:49+00:00</td>\n",
       "      <td>https://www.dhl.de/int-verfolgen/search?langua...</td>\n",
       "      <td>1.570607e+12</td>\n",
       "      <td>Die Sendung wurde in das Zustellfahrzeug gelad...</td>\n",
       "      <td>Unbekannt</td>\n",
       "      <td>0.0</td>\n",
       "      <td>Die Sendung wurde erfolgreich zugestellt.</td>\n",
       "      <td>Unbekannt</td>\n",
       "      <td>1.57062e+12</td>\n",
       "    </tr>\n",
       "    <tr>\n",
       "      <td>4</td>\n",
       "      <td>00340434188193325701</td>\n",
       "      <td>2020-01-05 21:24:49+00:00</td>\n",
       "      <td>https://www.dhl.de/int-verfolgen/search?langua...</td>\n",
       "      <td>1.570617e+12</td>\n",
       "      <td>Die Sendung wurde erfolgreich zugestellt.</td>\n",
       "      <td>Unbekannt</td>\n",
       "      <td>1.0</td>\n",
       "      <td>SuccessDelivery</td>\n",
       "      <td>SuccessDelivery</td>\n",
       "      <td>2020-02-12</td>\n",
       "    </tr>\n",
       "  </tbody>\n",
       "</table>\n",
       "</div>"
      ],
      "text/plain": [
       "        shipment_number                 crawltime  \\\n",
       "0  00340434188193325701 2020-01-05 21:24:49+00:00   \n",
       "1  00340434188193325701 2020-01-05 21:24:49+00:00   \n",
       "2  00340434188193325701 2020-01-05 21:24:49+00:00   \n",
       "3  00340434188193325701 2020-01-05 21:24:49+00:00   \n",
       "4  00340434188193325701 2020-01-05 21:24:49+00:00   \n",
       "\n",
       "                                                 url         datum  \\\n",
       "0  https://www.dhl.de/int-verfolgen/search?langua...  1.570546e+12   \n",
       "1  https://www.dhl.de/int-verfolgen/search?langua...  1.570559e+12   \n",
       "2  https://www.dhl.de/int-verfolgen/search?langua...  1.570589e+12   \n",
       "3  https://www.dhl.de/int-verfolgen/search?langua...  1.570607e+12   \n",
       "4  https://www.dhl.de/int-verfolgen/search?langua...  1.570617e+12   \n",
       "\n",
       "                                              status        ort  \\\n",
       "0  Die Sendung wurde elektronisch angeku00FCndigt...  Unbekannt   \n",
       "1  Die Sendung wurde von DHL bearbeitet und wird ...    Hamburg   \n",
       "2  Die Sendung ist in der Region des Empfu00E4nge...   Saulheim   \n",
       "3  Die Sendung wurde in das Zustellfahrzeug gelad...  Unbekannt   \n",
       "4          Die Sendung wurde erfolgreich zugestellt.  Unbekannt   \n",
       "\n",
       "   is_final_event                                        status_next  \\\n",
       "0             0.0  Die Sendung wurde von DHL bearbeitet und wird ...   \n",
       "1             0.0  Die Sendung ist in der Region des Empfu00E4nge...   \n",
       "2             0.0  Die Sendung wurde in das Zustellfahrzeug gelad...   \n",
       "3             0.0          Die Sendung wurde erfolgreich zugestellt.   \n",
       "4             1.0                                    SuccessDelivery   \n",
       "\n",
       "          ort_next   datum_next  \n",
       "0          Hamburg  1.57056e+12  \n",
       "1         Saulheim  1.57059e+12  \n",
       "2        Unbekannt  1.57061e+12  \n",
       "3        Unbekannt  1.57062e+12  \n",
       "4  SuccessDelivery   2020-02-12  "
      ]
     },
     "execution_count": 141,
     "metadata": {},
     "output_type": "execute_result"
    }
   ],
   "source": [
    "df.head()"
   ]
  },
  {
   "cell_type": "code",
   "execution_count": 147,
   "metadata": {},
   "outputs": [
    {
     "data": {
      "text/html": [
       "<div>\n",
       "<style scoped>\n",
       "    .dataframe tbody tr th:only-of-type {\n",
       "        vertical-align: middle;\n",
       "    }\n",
       "\n",
       "    .dataframe tbody tr th {\n",
       "        vertical-align: top;\n",
       "    }\n",
       "\n",
       "    .dataframe thead th {\n",
       "        text-align: right;\n",
       "    }\n",
       "</style>\n",
       "<table border=\"1\" class=\"dataframe\">\n",
       "  <thead>\n",
       "    <tr style=\"text-align: right;\">\n",
       "      <th></th>\n",
       "      <th>shipment_number</th>\n",
       "      <th>crawltime</th>\n",
       "      <th>url</th>\n",
       "      <th>datum</th>\n",
       "      <th>status</th>\n",
       "      <th>ort</th>\n",
       "      <th>is_final_event</th>\n",
       "      <th>status_next</th>\n",
       "      <th>ort_next</th>\n",
       "      <th>datum_next</th>\n",
       "    </tr>\n",
       "  </thead>\n",
       "  <tbody>\n",
       "    <tr>\n",
       "      <td>0</td>\n",
       "      <td>00340434188193325701</td>\n",
       "      <td>2020-01-05 21:24:49+00:00</td>\n",
       "      <td>https://www.dhl.de/int-verfolgen/search?langua...</td>\n",
       "      <td>1.570546e+12</td>\n",
       "      <td>Die Sendung wurde elektronisch angeku00FCndigt...</td>\n",
       "      <td>Unbekannt</td>\n",
       "      <td>0.0</td>\n",
       "      <td>Die Sendung wurde von DHL bearbeitet und wird ...</td>\n",
       "      <td>Hamburg</td>\n",
       "      <td>1.57056e+12</td>\n",
       "    </tr>\n",
       "    <tr>\n",
       "      <td>1</td>\n",
       "      <td>00340434188193325701</td>\n",
       "      <td>2020-01-05 21:24:49+00:00</td>\n",
       "      <td>https://www.dhl.de/int-verfolgen/search?langua...</td>\n",
       "      <td>1.570559e+12</td>\n",
       "      <td>Die Sendung wurde von DHL bearbeitet und wird ...</td>\n",
       "      <td>Hamburg</td>\n",
       "      <td>0.0</td>\n",
       "      <td>Die Sendung ist in der Region des Empfu00E4nge...</td>\n",
       "      <td>Saulheim</td>\n",
       "      <td>1.57059e+12</td>\n",
       "    </tr>\n",
       "    <tr>\n",
       "      <td>2</td>\n",
       "      <td>00340434188193325701</td>\n",
       "      <td>2020-01-05 21:24:49+00:00</td>\n",
       "      <td>https://www.dhl.de/int-verfolgen/search?langua...</td>\n",
       "      <td>1.570589e+12</td>\n",
       "      <td>Die Sendung ist in der Region des Empfu00E4nge...</td>\n",
       "      <td>Saulheim</td>\n",
       "      <td>0.0</td>\n",
       "      <td>Die Sendung wurde in das Zustellfahrzeug gelad...</td>\n",
       "      <td>Unbekannt</td>\n",
       "      <td>1.57061e+12</td>\n",
       "    </tr>\n",
       "    <tr>\n",
       "      <td>3</td>\n",
       "      <td>00340434188193325701</td>\n",
       "      <td>2020-01-05 21:24:49+00:00</td>\n",
       "      <td>https://www.dhl.de/int-verfolgen/search?langua...</td>\n",
       "      <td>1.570607e+12</td>\n",
       "      <td>Die Sendung wurde in das Zustellfahrzeug gelad...</td>\n",
       "      <td>Unbekannt</td>\n",
       "      <td>0.0</td>\n",
       "      <td>Die Sendung wurde erfolgreich zugestellt.</td>\n",
       "      <td>Unbekannt</td>\n",
       "      <td>1.57062e+12</td>\n",
       "    </tr>\n",
       "    <tr>\n",
       "      <td>4</td>\n",
       "      <td>00340434188193325701</td>\n",
       "      <td>2020-01-05 21:24:49+00:00</td>\n",
       "      <td>https://www.dhl.de/int-verfolgen/search?langua...</td>\n",
       "      <td>1.570617e+12</td>\n",
       "      <td>Die Sendung wurde erfolgreich zugestellt.</td>\n",
       "      <td>Unbekannt</td>\n",
       "      <td>1.0</td>\n",
       "      <td>SuccessDelivery</td>\n",
       "      <td>SuccessDelivery</td>\n",
       "      <td>2020-02-12</td>\n",
       "    </tr>\n",
       "  </tbody>\n",
       "</table>\n",
       "</div>"
      ],
      "text/plain": [
       "        shipment_number                 crawltime  \\\n",
       "0  00340434188193325701 2020-01-05 21:24:49+00:00   \n",
       "1  00340434188193325701 2020-01-05 21:24:49+00:00   \n",
       "2  00340434188193325701 2020-01-05 21:24:49+00:00   \n",
       "3  00340434188193325701 2020-01-05 21:24:49+00:00   \n",
       "4  00340434188193325701 2020-01-05 21:24:49+00:00   \n",
       "\n",
       "                                                 url         datum  \\\n",
       "0  https://www.dhl.de/int-verfolgen/search?langua...  1.570546e+12   \n",
       "1  https://www.dhl.de/int-verfolgen/search?langua...  1.570559e+12   \n",
       "2  https://www.dhl.de/int-verfolgen/search?langua...  1.570589e+12   \n",
       "3  https://www.dhl.de/int-verfolgen/search?langua...  1.570607e+12   \n",
       "4  https://www.dhl.de/int-verfolgen/search?langua...  1.570617e+12   \n",
       "\n",
       "                                              status        ort  \\\n",
       "0  Die Sendung wurde elektronisch angeku00FCndigt...  Unbekannt   \n",
       "1  Die Sendung wurde von DHL bearbeitet und wird ...    Hamburg   \n",
       "2  Die Sendung ist in der Region des Empfu00E4nge...   Saulheim   \n",
       "3  Die Sendung wurde in das Zustellfahrzeug gelad...  Unbekannt   \n",
       "4          Die Sendung wurde erfolgreich zugestellt.  Unbekannt   \n",
       "\n",
       "   is_final_event                                        status_next  \\\n",
       "0             0.0  Die Sendung wurde von DHL bearbeitet und wird ...   \n",
       "1             0.0  Die Sendung ist in der Region des Empfu00E4nge...   \n",
       "2             0.0  Die Sendung wurde in das Zustellfahrzeug gelad...   \n",
       "3             0.0          Die Sendung wurde erfolgreich zugestellt.   \n",
       "4             1.0                                    SuccessDelivery   \n",
       "\n",
       "          ort_next   datum_next  \n",
       "0          Hamburg  1.57056e+12  \n",
       "1         Saulheim  1.57059e+12  \n",
       "2        Unbekannt  1.57061e+12  \n",
       "3        Unbekannt  1.57062e+12  \n",
       "4  SuccessDelivery   2020-02-12  "
      ]
     },
     "execution_count": 147,
     "metadata": {},
     "output_type": "execute_result"
    }
   ],
   "source": [
    "df.head()"
   ]
  },
  {
   "cell_type": "markdown",
   "metadata": {},
   "source": [
    "### Data Stats"
   ]
  },
  {
   "cell_type": "code",
   "execution_count": 151,
   "metadata": {},
   "outputs": [
    {
     "data": {
      "text/plain": [
       "'\\\\begin{tabular}{llr}\\n\\\\toprule\\n{} &      column_name &  percent_missing \\\\\\\\\\n\\\\midrule\\nshipment_number &  shipment_number &              0.0 \\\\\\\\\\ncrawltime       &        crawltime &              0.0 \\\\\\\\\\nurl             &              url &              0.0 \\\\\\\\\\ndatum           &            datum &              0.0 \\\\\\\\\\nstatus          &           status &              0.0 \\\\\\\\\\nort             &              ort &              0.0 \\\\\\\\\\nis_final_event  &   is_final_event &              0.0 \\\\\\\\\\nstatus_next     &      status_next &              0.0 \\\\\\\\\\nort_next        &         ort_next &              0.0 \\\\\\\\\\ndatum_next      &       datum_next &              0.0 \\\\\\\\\\n\\\\bottomrule\\n\\\\end{tabular}\\n'"
      ]
     },
     "execution_count": 151,
     "metadata": {},
     "output_type": "execute_result"
    }
   ],
   "source": [
    "count_missing_values(df).to_latex(escape=False)"
   ]
  },
  {
   "cell_type": "code",
   "execution_count": 124,
   "metadata": {},
   "outputs": [
    {
     "data": {
      "text/plain": [
       "(5455, 10)"
      ]
     },
     "execution_count": 124,
     "metadata": {},
     "output_type": "execute_result"
    }
   ],
   "source": [
    "df.shape"
   ]
  },
  {
   "cell_type": "markdown",
   "metadata": {},
   "source": [
    "Number of unique shipment numbers"
   ]
  },
  {
   "cell_type": "code",
   "execution_count": 125,
   "metadata": {},
   "outputs": [
    {
     "data": {
      "text/plain": [
       "954"
      ]
     },
     "execution_count": 125,
     "metadata": {},
     "output_type": "execute_result"
    }
   ],
   "source": [
    "len(df.shipment_number.unique())"
   ]
  },
  {
   "cell_type": "code",
   "execution_count": 126,
   "metadata": {},
   "outputs": [
    {
     "data": {
      "text/plain": [
       "170"
      ]
     },
     "execution_count": 126,
     "metadata": {},
     "output_type": "execute_result"
    }
   ],
   "source": [
    "len(df.status.unique())"
   ]
  },
  {
   "cell_type": "code",
   "execution_count": 127,
   "metadata": {},
   "outputs": [
    {
     "data": {
      "text/plain": [
       "121"
      ]
     },
     "execution_count": 127,
     "metadata": {},
     "output_type": "execute_result"
    }
   ],
   "source": [
    "len(df.ort.unique())"
   ]
  },
  {
   "cell_type": "markdown",
   "metadata": {},
   "source": [
    "### How many different final delivery states exist?"
   ]
  },
  {
   "cell_type": "code",
   "execution_count": 128,
   "metadata": {},
   "outputs": [
    {
     "name": "stdout",
     "output_type": "stream",
     "text": [
      "['Die Sendung wurde erfolgreich zugestellt.'\n",
      " 'Der Empfu00E4nger hat die Sendung in der Filiale abgeholt.'\n",
      " 'Der Empfu00E4nger hat die Sendung aus der PACKSTATION abgeholt.'\n",
      " 'Die Sendung wurde storniert.'\n",
      " \"Die Sendung wird zur Abholung in die &lt;a href='https://psf.dhl.com/?countrycode=DEu0026address=Weimar+%28Lahn%29 Alte+Bahnhofstr. 15' class='arrowLink' target='_blank'&gt;&lt;span class='arrow'&gt;&lt;/span&gt;Filiale Weimar (Lahn) Alte Bahnhofstr. 15&lt;/a&gt; gebracht. Die fru00FChestmu00F6gliche Uhrzeit der Abholung kann der Benachrichtigung entnommen werden.\"\n",
      " 'Eine Filiale wurde als neue Lieferadresse gewu00E4hlt.'\n",
      " \"Die Sendung wurde zur Abholung in die &lt;a href='http://standorte.deutschepost.de/Standortsuche?standorttyp=filialen_verkaufspunkteu0026ort=Stuttgartu0026strasse=Olgastr.u0026hausnummer=86u0026postleitzahl=70180u0026lang=de' class='arrowLink' target='_blank'&gt;&lt;span class='arrow'&gt;&lt;/span&gt;Filiale Olgastr. 86 70180 Stuttgart&lt;/a&gt; gebracht.\"\n",
      " 'Die Sendung wurde von DHL bearbeitet und wird fu00FCr den Weitertransport in die Region des Empfu00E4ngers vorbereitet.'\n",
      " 'Die Sendung ist in der Region des Empfu00E4ngers angekommen und wird im nu00E4chsten Schritt zur Zustellbasis transportiert.'\n",
      " \"Die Sendung wurde zur Abholung in die &lt;a href='http://standorte.deutschepost.de/Standortsuche?standorttyp=filialen_verkaufspunkteu0026ort=Rodgauu0026strasse=Ludwig-Erhard-Platzu0026hausnummer=6u0026postleitzahl=63110u0026lang=de' class='arrowLink' target='_blank'&gt;&lt;span class='arrow'&gt;&lt;/span&gt;Filiale Ludwig-Erhard-Platz 6 63110 Rodgau&lt;/a&gt; gebracht.\"\n",
      " \"Die Sendung liegt ab sofort in der Filiale &lt;a href='http://standorte.deutschepost.de/Standortsuche?standorttyp=filialen_verkaufspunkteu0026ort=Leipzigu0026strasse=Br%C3%BChl+8u0026hausnummer=u0026postleitzahl=04109u0026lang=de' class='arrowLink' target='_blank'&gt;&lt;span class='arrow'&gt;&lt;/span&gt;Filiale Bru00FChl 8 04109 Leipzig&lt;/a&gt; zur Abholung bereit.\"]\n"
     ]
    }
   ],
   "source": [
    "final_delivery_states = df.groupby(['shipment_number']).tail(1)[[\"status\"]][\"status\"].unique()\n",
    "print(final_delivery_states)"
   ]
  },
  {
   "cell_type": "markdown",
   "metadata": {},
   "source": [
    "### How many different initial delivery states exist?"
   ]
  },
  {
   "cell_type": "code",
   "execution_count": 129,
   "metadata": {},
   "outputs": [
    {
     "name": "stdout",
     "output_type": "stream",
     "text": [
      "['Die Sendung wurde elektronisch angeku00FCndigt. Sobald die Sendung von uns bearbeitet wurde, erhalten Sie weitere Informationen.'\n",
      " 'Die Sendung ist in der Region des Empfu00E4ngers angekommen und wird im nu00E4chsten Schritt zur Zustellbasis transportiert.'\n",
      " 'Die Sendung wurde von DHL bearbeitet und wird fu00FCr den Weitertransport in die Region des Empfu00E4ngers vorbereitet.'\n",
      " 'Die Sendung wurde storniert.'\n",
      " 'Die Sendung wird fu00FCr den Weitertransport vorbereitet.'\n",
      " 'Die Sendung wurde abgeholt.'\n",
      " 'Die Auslandssendung wurde im Export-Paketzentrum bearbeitet.']\n"
     ]
    }
   ],
   "source": [
    "initial_delivery_states = df.groupby(['shipment_number']).head(1)[[\"status\"]][\"status\"].unique()\n",
    "print(initial_delivery_states)"
   ]
  },
  {
   "cell_type": "markdown",
   "metadata": {},
   "source": [
    "### Distribution of final delivery states"
   ]
  },
  {
   "cell_type": "code",
   "execution_count": 139,
   "metadata": {},
   "outputs": [
    {
     "data": {
      "image/png": "[encoded data removed]",
      "text/plain": [
       "<Figure size 432x288 with 1 Axes>"
      ]
     },
     "metadata": {
      "needs_background": "light"
     },
     "output_type": "display_data"
    },
    {
     "data": {
      "image/png": "[encoded data removed]",
      "text/plain": [
       "<Figure size 1080x360 with 1 Axes>"
      ]
     },
     "metadata": {
      "needs_background": "light"
     },
     "output_type": "display_data"
    }
   ],
   "source": [
    "%matplotlib inline\n",
    "import matplotlib.pyplot as plt\n",
    "plt.xticks(rotation='vertical')\n",
    "fig, ax = plt.subplots()\n",
    "plt.xlabel('xlabel', fontsize=18)\n",
    "plt.ylabel('ylabel', fontsize=40)\n",
    "plt.title(\"kiramo belis\", fontsize=40)\n",
    "plt.xticks(rotation=90)\n",
    "\n",
    "df[df[\"status\"].isin(final_delivery_states)][\"status\"].hist(figsize=(15,5), ax=ax, color=\"red\")\n",
    "fig.savefig('example.png')\n"
   ]
  },
  {
   "cell_type": "markdown",
   "metadata": {},
   "source": [
    "### Distribution of initial states"
   ]
  },
  {
   "cell_type": "code",
   "execution_count": 131,
   "metadata": {},
   "outputs": [
    {
     "data": {
      "text/plain": [
       "<matplotlib.axes._subplots.AxesSubplot at 0x7f7995bcc9b0>"
      ]
     },
     "execution_count": 131,
     "metadata": {},
     "output_type": "execute_result"
    },
    {
     "data": {
      "image/png": "[encoded data removed]",
      "text/plain": [
       "<Figure size 720x360 with 1 Axes>"
      ]
     },
     "metadata": {
      "needs_background": "light"
     },
     "output_type": "display_data"
    }
   ],
   "source": [
    "%matplotlib inline\n",
    "import matplotlib.pyplot as plt\n",
    "plt.xticks(rotation='vertical')\n",
    "\n",
    "df[df[\"status\"].isin(initial_delivery_states)][\"status\"].hist(figsize=(10,5))"
   ]
  },
  {
   "cell_type": "markdown",
   "metadata": {},
   "source": [
    "### Distribution of all states"
   ]
  },
  {
   "cell_type": "markdown",
   "metadata": {},
   "source": [
    "These are the most common states"
   ]
  },
  {
   "cell_type": "code",
   "execution_count": null,
   "metadata": {},
   "outputs": [],
   "source": [
    "pd.DataFrame(df[\"status\"].value_counts()).head(10)"
   ]
  },
  {
   "cell_type": "markdown",
   "metadata": {},
   "source": [
    "These are the least common states. What we see here is that there are some states that are basically the same and the following pattern:\n",
    "\n",
    "\"Die Sendung liegt in der ........ zur Abholung bereit\"\n",
    "\n",
    "But the address is each time different. This leads to too many states, which also makes machine learning hard. We ignore the address part and convert all these states to a single one."
   ]
  },
  {
   "cell_type": "code",
   "execution_count": null,
   "metadata": {},
   "outputs": [],
   "source": [
    "pd.DataFrame(df[\"status\"].value_counts()).tail(10)"
   ]
  },
  {
   "cell_type": "code",
   "execution_count": null,
   "metadata": {},
   "outputs": [],
   "source": [
    "df.loc[(df['status'].str.startswith(\"Die Sendung liegt in der\")) & (df['status'].str.endswith(\"zur Abholung bereit.\")), \"status\"] = \"Die Sendung liegt in der ... zur Abholung bereit.\" \n",
    "df.loc[(df['status'].str.startswith(\"Die Sendung liegt ab sofort in der Filiale\")) & (df['status'].str.endswith(\"zur Abholung bereit.\")), \"status\"] = \"Die Sendung liegt ab sofort in dert Filiale ... zur Abholung bereit.\"\n",
    "df.loc[(df['status'].str.startswith(\"Die Sendung wird zur Abholung in die\")) & (df['status'].str.endswith(\"gebracht. Fu00FCr die Abholung ist neben der Benachrichtigung die Vorlage Ihres Ausweises sowie ggf. eine Vollmacht erforderlich.\")), \"status\"] = \"Die Sendung wird zur Abholung in die ... gebracht. Fu00FCr die Abholung ist neben der Benachrichtigung die Vorlage Ihres Ausweises sowie ggf. eine Vollmacht erforderlich.\" \n",
    "df.loc[(df['status'].str.startswith(\"Die Sendung wurde zur Abholung in die\")) & (df['status'].str.endswith(\"gebracht.\")), \"status\"] = \"Die Sendung wurde zur Abholung in die ... gebracht.\" \n",
    "df.loc[(df['status'].str.startswith(\"Die Zustellung am gewu00FCnschten Liefertag\")) & (df['status'].str.endswith(\"wurde gewu00E4hlt.\")), \"status\"] = \"Die Zustellung am gewu00FCnschten Liefertag ... wurde gewu00E4hlt.\" \n",
    "\n",
    "df.loc[(df['status_next'].str.startswith(\"Die Sendung liegt in der\")) & (df['status_next'].str.endswith(\"zur Abholung bereit.\")), \"status_next\"] = \"Die Sendung liegt in der ... zur Abholung bereit.\" \n",
    "df.loc[(df['status'].str.startswith(\"Die Sendung liegt ab sofort in der Filiale\")) & (df['status'].str.endswith(\"zur Abholung bereit.\")), \"status\"] = \"Die Sendung liegt ab sofort in dert Filiale ... zur Abholung bereit.\"\n",
    "df.loc[(df['status_next'].str.startswith(\"Die Sendung wird zur Abholung in die\")) & (df['status_next'].str.endswith(\"gebracht. Fu00FCr die Abholung ist neben der Benachrichtigung die Vorlage Ihres Ausweises sowie ggf. eine Vollmacht erforderlich.\")), \"status_next\"] = \"Die Sendung wird zur Abholung in die ... gebracht. Fu00FCr die Abholung ist neben der Benachrichtigung die Vorlage Ihres Ausweises sowie ggf. eine Vollmacht erforderlich.\" \n",
    "df.loc[(df['status_next'].str.startswith(\"Die Sendung wurde zur Abholung in die\")) & (df['status_next'].str.endswith(\"gebracht.\")), \"status_next\"] = \"Die Sendung wurde zur Abholung in die ... gebracht.\" \n",
    "df.loc[(df['status_next'].str.startswith(\"Die Zustellung am gewu00FCnschten Liefertag\")) & (df['status_next'].str.endswith(\"wurde gewu00E4hlt.\")), \"status_next\"] = \"Die Zustellung am gewu00FCnschten Liefertag ... wurde gewu00E4hlt.\" "
   ]
  },
  {
   "cell_type": "code",
   "execution_count": null,
   "metadata": {},
   "outputs": [],
   "source": [
    "pd.DataFrame(df[\"status\"].value_counts()).head(10)"
   ]
  },
  {
   "cell_type": "code",
   "execution_count": null,
   "metadata": {},
   "outputs": [],
   "source": [
    "pd.DataFrame(df[\"status\"].value_counts()).tail(10)"
   ]
  },
  {
   "cell_type": "code",
   "execution_count": null,
   "metadata": {},
   "outputs": [],
   "source": [
    "len(df[\"status\"].unique())"
   ]
  },
  {
   "cell_type": "code",
   "execution_count": null,
   "metadata": {},
   "outputs": [],
   "source": [
    "len(df[\"status_next\"].unique())"
   ]
  },
  {
   "cell_type": "code",
   "execution_count": null,
   "metadata": {},
   "outputs": [],
   "source": [
    "%matplotlib inline\n",
    "import matplotlib.pyplot as plt\n",
    "plt.xticks(rotation='vertical')\n",
    "df[\"status\"].hist(figsize=(15,5))"
   ]
  },
  {
   "cell_type": "markdown",
   "metadata": {},
   "source": [
    "We introduces two new states to status_next: SuccessDelivery, FailedDelivery"
   ]
  },
  {
   "cell_type": "markdown",
   "metadata": {},
   "source": [
    "### Distribution of the locations"
   ]
  },
  {
   "cell_type": "code",
   "execution_count": null,
   "metadata": {},
   "outputs": [],
   "source": [
    "len(df[\"ort\"].unique())"
   ]
  },
  {
   "cell_type": "code",
   "execution_count": null,
   "metadata": {},
   "outputs": [],
   "source": [
    "pd.DataFrame(df[\"ort\"].value_counts()).head(20)"
   ]
  },
  {
   "cell_type": "code",
   "execution_count": null,
   "metadata": {},
   "outputs": [],
   "source": [
    "pd.DataFrame(df[\"ort\"].value_counts()).tail(20)"
   ]
  },
  {
   "cell_type": "markdown",
   "metadata": {},
   "source": [
    "Notice: One idea here could be to merge some locations. "
   ]
  },
  {
   "cell_type": "markdown",
   "metadata": {},
   "source": [
    "### Remove unused columns"
   ]
  },
  {
   "cell_type": "code",
   "execution_count": null,
   "metadata": {},
   "outputs": [],
   "source": [
    "df.drop(columns=[\"crawltime\", \"url\"], inplace=True)"
   ]
  },
  {
   "cell_type": "code",
   "execution_count": null,
   "metadata": {},
   "outputs": [],
   "source": [
    "df.head()"
   ]
  },
  {
   "cell_type": "markdown",
   "metadata": {},
   "source": [
    "### Distribution of event times"
   ]
  },
  {
   "cell_type": "code",
   "execution_count": null,
   "metadata": {},
   "outputs": [],
   "source": [
    "counts = df['datum'].dt.dayofweek.value_counts(sort=False)\n",
    "plt.bar(counts.index,counts)\n",
    "plt.show()"
   ]
  },
  {
   "cell_type": "markdown",
   "metadata": {},
   "source": [
    "We see in the above plot which days of the week have the highest amount of events. Sunday has for example the least amount of events, as expected."
   ]
  },
  {
   "cell_type": "code",
   "execution_count": null,
   "metadata": {},
   "outputs": [],
   "source": [
    "counts = df['datum'].dt.hour.value_counts(sort=False)\n",
    "plt.bar(counts.index,counts)\n",
    "plt.show()"
   ]
  },
  {
   "cell_type": "markdown",
   "metadata": {},
   "source": [
    "In the above plot we see the distribution of the events over 24 hours of a day"
   ]
  },
  {
   "cell_type": "markdown",
   "metadata": {},
   "source": [
    "### Time diff between events"
   ]
  },
  {
   "cell_type": "code",
   "execution_count": null,
   "metadata": {},
   "outputs": [],
   "source": [
    "df['datum'] = pd.to_datetime(df['datum'], utc=True)\n",
    "df['datum_next'] = pd.to_datetime(df['datum_next'], utc=True)\n",
    "df[\"datum_diff\"] = df[\"datum_next\"] - df[\"datum\"]"
   ]
  },
  {
   "cell_type": "markdown",
   "metadata": {},
   "source": [
    "Notice that for is_final_event=1, the datum_diff does not make any sense. Do not use it in the analysis"
   ]
  },
  {
   "cell_type": "code",
   "execution_count": null,
   "metadata": {},
   "outputs": [],
   "source": [
    "df[df[\"is_final_event\"] == 0]['datum_diff'].astype('timedelta64[h]').plot.hist()"
   ]
  },
  {
   "cell_type": "markdown",
   "metadata": {},
   "source": [
    "We observe two interesting things here. There are events with zero time diff and there are events with very big time diffs."
   ]
  },
  {
   "cell_type": "markdown",
   "metadata": {},
   "source": [
    "### Events with very small time diffs"
   ]
  },
  {
   "cell_type": "code",
   "execution_count": null,
   "metadata": {},
   "outputs": [],
   "source": [
    "df[(df[\"is_final_event\"] == 0.0) & (df['datum_diff'].astype('timedelta64[s]') == 0)] "
   ]
  },
  {
   "cell_type": "markdown",
   "metadata": {},
   "source": [
    "### Events with huge time diffs"
   ]
  },
  {
   "cell_type": "code",
   "execution_count": null,
   "metadata": {},
   "outputs": [],
   "source": [
    "df[(df[\"is_final_event\"] == 0.0) & (df['datum_diff'].astype('timedelta64[h]') > 150)] "
   ]
  },
  {
   "cell_type": "markdown",
   "metadata": {},
   "source": [
    "### Distribution of time diff for various states"
   ]
  },
  {
   "cell_type": "code",
   "execution_count": null,
   "metadata": {},
   "outputs": [],
   "source": [
    "df[\"datum_diff_h\"] = df['datum_diff'].astype('timedelta64[h]')"
   ]
  },
  {
   "cell_type": "code",
   "execution_count": null,
   "metadata": {},
   "outputs": [],
   "source": [
    "df_temp = df[df[\"is_final_event\"] == 0][[\"datum_diff_h\", \"status\"]]\n",
    "df_temp.reset_index()\n",
    "df_temp.index = range(0,df_temp.shape[0])\n",
    "df_temp.head()"
   ]
  },
  {
   "cell_type": "code",
   "execution_count": null,
   "metadata": {
    "scrolled": false
   },
   "outputs": [],
   "source": [
    "%matplotlib inline\n",
    "df_temp[\"datum_diff_h\"].hist(by=df_temp['status'], layout=(len(df_temp[\"status\"].unique()), 1), figsize=(10,80))\n",
    "plt.tight_layout()\n",
    "df.drop(columns=[\"datum_diff_h\"], inplace=True)"
   ]
  },
  {
   "cell_type": "code",
   "execution_count": null,
   "metadata": {},
   "outputs": [],
   "source": [
    "df.head()"
   ]
  },
  {
   "cell_type": "markdown",
   "metadata": {},
   "source": [
    "### Distribution of time diff for various locations"
   ]
  },
  {
   "cell_type": "code",
   "execution_count": null,
   "metadata": {},
   "outputs": [],
   "source": [
    "df[\"datum_diff_h\"] = df['datum_diff'].astype('timedelta64[h]')"
   ]
  },
  {
   "cell_type": "code",
   "execution_count": null,
   "metadata": {},
   "outputs": [],
   "source": [
    "df_temp = df[df[\"is_final_event\"] == 0][[\"datum_diff_h\", \"status\", \"ort\"]]\n",
    "df_temp.reset_index()\n",
    "df_temp.index = range(0,df_temp.shape[0])\n",
    "df_temp.head()"
   ]
  },
  {
   "cell_type": "code",
   "execution_count": null,
   "metadata": {
    "scrolled": true
   },
   "outputs": [],
   "source": [
    "%matplotlib inline\n",
    "df_temp[\"datum_diff_h\"].hist(by=df_temp['ort'], layout=(len(df_temp[\"ort\"].unique()), 1), figsize=(10,140))\n",
    "plt.tight_layout()\n",
    "df.drop(columns=[\"datum_diff_h\"], inplace=True)"
   ]
  },
  {
   "cell_type": "markdown",
   "metadata": {},
   "source": [
    "### Distribution of time diff for various locations and states"
   ]
  },
  {
   "cell_type": "code",
   "execution_count": null,
   "metadata": {},
   "outputs": [],
   "source": [
    "df[\"datum_diff_h\"] = df['datum_diff'].astype('timedelta64[h]')"
   ]
  },
  {
   "cell_type": "code",
   "execution_count": null,
   "metadata": {},
   "outputs": [],
   "source": [
    "df_temp = df[df[\"is_final_event\"] == 0][[\"datum_diff_h\", \"status\", \"ort\"]]\n",
    "df_temp.reset_index()\n",
    "df_temp.index = range(0,df_temp.shape[0])\n",
    "df_temp.head()"
   ]
  },
  {
   "cell_type": "code",
   "execution_count": null,
   "metadata": {
    "scrolled": false
   },
   "outputs": [],
   "source": [
    "from pandas import DataFrame\n",
    "import numpy as np\n",
    "import matplotlib.pyplot as plt\n",
    "import matplotlib\n",
    "%matplotlib inline\n",
    "\n",
    "\n",
    "grouped = df_temp.groupby([\"status\", \"ort\"])\n",
    "\n",
    "for name, group in grouped:\n",
    "    fig = plt.figure()\n",
    "    fig.suptitle(str(name) + \": #{}\".format(len(group)))\n",
    "    matplotlib.pyplot.hist(group.datum_diff_h)\n",
    "    plt.show()\n",
    "    \n",
    "df.drop(columns=[\"datum_diff_h\"], inplace=True)"
   ]
  },
  {
   "cell_type": "code",
   "execution_count": null,
   "metadata": {},
   "outputs": [],
   "source": [
    "df.head()"
   ]
  },
  {
   "cell_type": "code",
   "execution_count": null,
   "metadata": {},
   "outputs": [],
   "source": []
  }
 ],
 "metadata": {
  "kernelspec": {
   "display_name": "Python 3",
   "language": "python",
   "name": "python3"
  },
  "language_info": {
   "codemirror_mode": {
    "name": "ipython",
    "version": 3
   },
   "file_extension": ".py",
   "mimetype": "text/x-python",
   "name": "python",
   "nbconvert_exporter": "python",
   "pygments_lexer": "ipython3",
   "version": "3.7.3"
  }
 },
 "nbformat": 4,
 "nbformat_minor": 2
}

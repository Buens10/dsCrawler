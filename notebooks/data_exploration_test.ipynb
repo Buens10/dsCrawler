{
 "cells": [
  {
   "cell_type": "markdown",
   "metadata": {},
   "source": [
    "# Data Exploration"
   ]
  },
  {
   "cell_type": "code",
   "execution_count": 67,
   "metadata": {},
   "outputs": [
    {
     "data": {
      "text/plain": [
       "[['Ginsheim-Gustavsburg MechZB', 'Bruchsal'],\n",
       " ['Ginsheim-Gustavsburg MechZB', 'Wesel'],\n",
       " ['Ginsheim-Gustavsburg MechZB', 'Bornheim'],\n",
       " ['Ginsheim-Gustavsburg MechZB', 'Magdeburg'],\n",
       " ['Ginsheim-Gustavsburg MechZB', 'Idstein'],\n",
       " ['Ginsheim-Gustavsburg MechZB', 'Wirges'],\n",
       " ['Ginsheim-Gustavsburg MechZB', 'Nohra'],\n",
       " ['Ginsheim-Gustavsburg MechZB', 'Leipzig MechZB'],\n",
       " ['Ginsheim-Gustavsburg MechZB', 'Unterhaching'],\n",
       " ['Ginsheim-Gustavsburg MechZB', 'Saulheim'],\n",
       " ['Ginsheim-Gustavsburg MechZB', 'Mu00FCnchen Neuaubing MechZB'],\n",
       " ['Ginsheim-Gustavsburg MechZB', 'Wadgassen'],\n",
       " ['Ginsheim-Gustavsburg MechZB', 'Darmstadt'],\n",
       " ['Ginsheim-Gustavsburg MechZB', 'Duisburg'],\n",
       " ['Ginsheim-Gustavsburg MechZB', 'Karlsruhe MechZB'],\n",
       " ['Ginsheim-Gustavsburg MechZB', 'Mu00FCnchen Riesenfeld MechZB'],\n",
       " ['Ginsheim-Gustavsburg MechZB', 'Jena'],\n",
       " ['Ginsheim-Gustavsburg MechZB', 'Neubrandenburg'],\n",
       " ['Ginsheim-Gustavsburg MechZB', 'Bonn MechZB'],\n",
       " ['Ginsheim-Gustavsburg MechZB', 'Hattersheim MechZB'],\n",
       " ['Ginsheim-Gustavsburg MechZB', 'Koblenz'],\n",
       " ['Ginsheim-Gustavsburg MechZB', 'Witten'],\n",
       " ['Ginsheim-Gustavsburg MechZB', 'Neumark'],\n",
       " ['Ginsheim-Gustavsburg MechZB', 'Rimpar'],\n",
       " ['Ginsheim-Gustavsburg MechZB', 'Schneeberg'],\n",
       " ['Ginsheim-Gustavsburg MechZB', 'Brackenheim'],\n",
       " ['Ginsheim-Gustavsburg MechZB', 'Tostedt'],\n",
       " ['Ginsheim-Gustavsburg MechZB', 'Aschersleben'],\n",
       " ['Ginsheim-Gustavsburg MechZB', 'Amberg'],\n",
       " ['Ginsheim-Gustavsburg MechZB', 'Paderborn'],\n",
       " ['Ginsheim-Gustavsburg MechZB', 'Bochum'],\n",
       " ['Ginsheim-Gustavsburg MechZB', 'Waiblingen MechZB'],\n",
       " ['Ginsheim-Gustavsburg MechZB', 'Nu00FCrnberg MechZB'],\n",
       " ['Ginsheim-Gustavsburg MechZB', 'Billbrook MechZB'],\n",
       " ['Ginsheim-Gustavsburg MechZB', 'Korntal MechZB'],\n",
       " ['Ginsheim-Gustavsburg MechZB', 'Mainz-Hechtsheim MechZB'],\n",
       " ['Ginsheim-Gustavsburg MechZB', 'Kempten (Allgu00E4u)'],\n",
       " ['Ginsheim-Gustavsburg MechZB', 'Hamm MechZB'],\n",
       " ['Ginsheim-Gustavsburg MechZB', 'Wolfsburg'],\n",
       " ['Ginsheim-Gustavsburg MechZB', 'Pulheim'],\n",
       " ['Ginsheim-Gustavsburg MechZB', 'Dessau-Rou00DFlau'],\n",
       " ['Ginsheim-Gustavsburg MechZB', 'Gremberghoven MechZB'],\n",
       " ['Ginsheim-Gustavsburg MechZB', 'Pu00FCttlingen'],\n",
       " ['Ginsheim-Gustavsburg MechZB', 'Sulzbach-Rosenberg'],\n",
       " ['Ginsheim-Gustavsburg MechZB', 'Bad Urach'],\n",
       " ['Ginsheim-Gustavsburg MechZB', 'Schwerte'],\n",
       " ['Ginsheim-Gustavsburg MechZB', 'Berlin Josef-Orlopp-Str. MechZB'],\n",
       " ['Ginsheim-Gustavsburg MechZB', 'Bochum-Herne MechZB'],\n",
       " ['Ginsheim-Gustavsburg MechZB', 'Weinheim'],\n",
       " ['Ginsheim-Gustavsburg MechZB', 'Bergkamen'],\n",
       " ['Ginsheim-Gustavsburg MechZB', 'Iserlohn'],\n",
       " ['Ginsheim-Gustavsburg MechZB', 'Dinslaken (MechZB)'],\n",
       " ['Ginsheim-Gustavsburg MechZB', 'Balingen'],\n",
       " ['Ginsheim-Gustavsburg MechZB', 'Mu00FCnster MechZB'],\n",
       " ['Ginsheim-Gustavsburg MechZB', 'Marktredwitz'],\n",
       " ['Ginsheim-Gustavsburg MechZB', 'Bayreuth'],\n",
       " ['Ginsheim-Gustavsburg MechZB', 'Berlin-Charlottenburg MechZB'],\n",
       " ['Ginsheim-Gustavsburg MechZB', 'Berlin-Pankow MechZB'],\n",
       " ['Ginsheim-Gustavsburg MechZB', 'Erfurt'],\n",
       " ['Ginsheim-Gustavsburg MechZB', 'Mu00FCnchen Am Neubruch MechZB'],\n",
       " ['Ginsheim-Gustavsburg MechZB', 'Rot an der Rot'],\n",
       " ['Ginsheim-Gustavsburg MechZB', 'Barsinghausen'],\n",
       " ['Ginsheim-Gustavsburg MechZB', 'Lu00FCneburg'],\n",
       " ['Ginsheim-Gustavsburg MechZB', 'Korntal-Mu00FCnchingen'],\n",
       " ['Ginsheim-Gustavsburg MechZB', 'Dorsten'],\n",
       " ['Ginsheim-Gustavsburg MechZB', 'Fu00FCrth'],\n",
       " ['Ginsheim-Gustavsburg MechZB', 'Paderborn MechZB'],\n",
       " ['Ginsheim-Gustavsburg MechZB', 'Berlin-Britz MechZB'],\n",
       " ['Ginsheim-Gustavsburg MechZB', 'Ratingen MechZB'],\n",
       " ['Ginsheim-Gustavsburg MechZB', 'Mu00FCnster'],\n",
       " ['Ginsheim-Gustavsburg MechZB', 'Wilhelmshaven'],\n",
       " ['Ginsheim-Gustavsburg MechZB', 'Burgkirchen a.d.Alz'],\n",
       " ['Ginsheim-Gustavsburg MechZB', 'Trebbin'],\n",
       " ['Ginsheim-Gustavsburg MechZB', 'Edermu00FCnde'],\n",
       " ['Ginsheim-Gustavsburg MechZB', 'Feucht'],\n",
       " ['Ginsheim-Gustavsburg MechZB', 'Gieu00DFen'],\n",
       " ['Ginsheim-Gustavsburg MechZB', 'Mannheim'],\n",
       " ['Ginsheim-Gustavsburg MechZB', 'Saarbru00FCcken'],\n",
       " ['Ginsheim-Gustavsburg MechZB', 'Burgdorf'],\n",
       " ['Ginsheim-Gustavsburg MechZB', 'Hu00FCrth'],\n",
       " ['Ginsheim-Gustavsburg MechZB', 'Aschheim'],\n",
       " ['Ginsheim-Gustavsburg MechZB', 'Erlangen'],\n",
       " ['Ginsheim-Gustavsburg MechZB', 'Lampertheim'],\n",
       " ['Ginsheim-Gustavsburg MechZB', 'Walldorf'],\n",
       " ['Ginsheim-Gustavsburg MechZB', 'Altenburg'],\n",
       " ['Ginsheim-Gustavsburg MechZB', 'Pinneberg'],\n",
       " ['Ginsheim-Gustavsburg MechZB', 'Schwerin'],\n",
       " ['Ginsheim-Gustavsburg MechZB', 'Eckental'],\n",
       " ['Ginsheim-Gustavsburg MechZB', 'Augsburg'],\n",
       " ['Ginsheim-Gustavsburg MechZB', 'Schwelm MechZB'],\n",
       " ['Ginsheim-Gustavsburg MechZB', 'Kamen MechZB'],\n",
       " ['Ginsheim-Gustavsburg MechZB', 'Chemnitz MechZB'],\n",
       " ['Ginsheim-Gustavsburg MechZB', 'Freiburg im Breisgau'],\n",
       " ['Ginsheim-Gustavsburg MechZB', 'Schwabach'],\n",
       " ['Ginsheim-Gustavsburg MechZB', 'Buchholz in der Nordheide'],\n",
       " ['Ginsheim-Gustavsburg MechZB', 'Heilbronn'],\n",
       " ['Ginsheim-Gustavsburg MechZB', 'Hamburg'],\n",
       " ['Ginsheim-Gustavsburg MechZB', 'Monsheim'],\n",
       " ['Ginsheim-Gustavsburg MechZB', 'Neu-Ulm'],\n",
       " ['Ginsheim-Gustavsburg MechZB', 'Essen'],\n",
       " ['Ginsheim-Gustavsburg MechZB', 'Holzkirchen'],\n",
       " ['Ginsheim-Gustavsburg MechZB', 'Passau'],\n",
       " ['Ginsheim-Gustavsburg MechZB', 'Reinheim'],\n",
       " ['Ginsheim-Gustavsburg MechZB', 'Norderstedt 1 MechZB'],\n",
       " ['Ginsheim-Gustavsburg MechZB', 'Oberursel (Taunus)'],\n",
       " ['Ginsheim-Gustavsburg MechZB', 'Du00FCsseldorf MechZB'],\n",
       " ['Ginsheim-Gustavsburg MechZB', 'Hanau MechZB'],\n",
       " ['Ginsheim-Gustavsburg MechZB', 'Oldenburg'],\n",
       " ['Ginsheim-Gustavsburg MechZB', 'St. Ingbert MechZB'],\n",
       " ['Ginsheim-Gustavsburg MechZB', 'Gu00FCnzburg'],\n",
       " ['Ginsheim-Gustavsburg MechZB', 'Staufenberg'],\n",
       " ['Ginsheim-Gustavsburg MechZB', 'Garching b. Mu00FCnchen'],\n",
       " ['Ginsheim-Gustavsburg MechZB', 'Oldenburg MechZB'],\n",
       " ['Ginsheim-Gustavsburg MechZB', 'Neu-Isenburg'],\n",
       " ['Ginsheim-Gustavsburg MechZB', 'Lu00FCnen'],\n",
       " ['Ginsheim-Gustavsburg MechZB', 'Berchtesgaden'],\n",
       " ['Ginsheim-Gustavsburg MechZB', 'Bru00FChl MechZB'],\n",
       " ['Ginsheim-Gustavsburg MechZB', 'Nidderau'],\n",
       " ['Ginsheim-Gustavsburg MechZB', 'Freising'],\n",
       " ['Ginsheim-Gustavsburg MechZB', 'Obertshausen'],\n",
       " ['Ginsheim-Gustavsburg MechZB', 'Neumu00FCnster'],\n",
       " ['Ginsheim-Gustavsburg MechZB', 'Ku00F6ln MechZB'],\n",
       " ['Ginsheim-Gustavsburg MechZB', 'Brandenburg an der Havel'],\n",
       " ['Ginsheim-Gustavsburg MechZB', 'Chemnitz'],\n",
       " ['Ginsheim-Gustavsburg MechZB', 'Wuppertal MechZB'],\n",
       " ['Ginsheim-Gustavsburg MechZB', 'Berlin'],\n",
       " ['Ginsheim-Gustavsburg MechZB', 'Aschheim MechZB'],\n",
       " ['Ginsheim-Gustavsburg MechZB', 'Bielefeld'],\n",
       " ['Ginsheim-Gustavsburg MechZB', 'Schwu00E4bisch Hall'],\n",
       " ['Ginsheim-Gustavsburg MechZB', 'Elmshorn'],\n",
       " ['Ginsheim-Gustavsburg MechZB', 'Osnabru00FCck'],\n",
       " ['Ginsheim-Gustavsburg MechZB', 'Ku00F6ln'],\n",
       " ['Ginsheim-Gustavsburg MechZB', 'Bremen GVZ'],\n",
       " ['Ginsheim-Gustavsburg MechZB', 'Darmstadt MechZB'],\n",
       " ['Ginsheim-Gustavsburg MechZB', 'Leipzig'],\n",
       " ['Ginsheim-Gustavsburg MechZB', 'Dortmund'],\n",
       " ['Ginsheim-Gustavsburg MechZB', 'Voerde (Niederrhein)'],\n",
       " ['Ginsheim-Gustavsburg MechZB', 'Bielefeld MechZB'],\n",
       " ['Ginsheim-Gustavsburg MechZB', 'Gelsenkirchen'],\n",
       " ['Ginsheim-Gustavsburg MechZB', 'Weiden i.d.OPf.'],\n",
       " ['Ginsheim-Gustavsburg MechZB', 'Schorndorf'],\n",
       " ['Ginsheim-Gustavsburg MechZB', 'Lahr'],\n",
       " ['Ginsheim-Gustavsburg MechZB', 'Frankfurt am Main'],\n",
       " ['Ginsheim-Gustavsburg MechZB', 'Weimar'],\n",
       " ['Ginsheim-Gustavsburg MechZB', 'Wentorf'],\n",
       " ['Ginsheim-Gustavsburg MechZB', 'Mannheim Nord MechZB'],\n",
       " ['Ginsheim-Gustavsburg MechZB', 'Regensburg'],\n",
       " ['Ginsheim-Gustavsburg MechZB', 'Ru00FCdersdorf'],\n",
       " ['Ginsheim-Gustavsburg MechZB', 'Wolgast'],\n",
       " ['Ginsheim-Gustavsburg MechZB', 'BZ 56, Carl-Spaeter-Str. 2f, 56070 Koblenz'],\n",
       " ['Ginsheim-Gustavsburg MechZB', 'Bonn'],\n",
       " ['Ginsheim-Gustavsburg MechZB', 'Maintal'],\n",
       " ['Ginsheim-Gustavsburg MechZB', 'Rodgau'],\n",
       " ['Ginsheim-Gustavsburg MechZB', 'Stuttgart'],\n",
       " ['Ginsheim-Gustavsburg MechZB', 'Meckenheim'],\n",
       " ['Ginsheim-Gustavsburg MechZB', 'Hannover-Su00FCd MechZB'],\n",
       " ['Ginsheim-Gustavsburg MechZB', 'Neubiberg'],\n",
       " ['Ginsheim-Gustavsburg MechZB', 'Markdorf'],\n",
       " ['Ginsheim-Gustavsburg MechZB', 'Delitzsch'],\n",
       " ['Ginsheim-Gustavsburg MechZB', 'Kumhausen'],\n",
       " ['Ginsheim-Gustavsburg MechZB', 'Neuss MechZB'],\n",
       " ['Ginsheim-Gustavsburg MechZB', 'Schwielowsee'],\n",
       " ['Ginsheim-Gustavsburg MechZB', 'Nienburg'],\n",
       " ['Ginsheim-Gustavsburg MechZB', 'Herne'],\n",
       " ['Ginsheim-Gustavsburg MechZB', 'Kassel MechZB'],\n",
       " ['Ginsheim-Gustavsburg MechZB', 'Stollberg /Erzgeb.'],\n",
       " ['Ginsheim-Gustavsburg MechZB', 'Freiburg MechZB'],\n",
       " ['Ginsheim-Gustavsburg MechZB', 'Mu00FClheim an der Ruhr'],\n",
       " ['Ginsheim-Gustavsburg MechZB', 'Efringen-Kirchen MechZB'],\n",
       " ['Ginsheim-Gustavsburg MechZB', 'Wunstorf'],\n",
       " ['Ginsheim-Gustavsburg MechZB', 'Frechen MechZB'],\n",
       " ['Ginsheim-Gustavsburg MechZB', 'Erlangen MechZB'],\n",
       " ['Ginsheim-Gustavsburg MechZB', 'Tornesch MechZB'],\n",
       " ['Ginsheim-Gustavsburg MechZB', 'Pforzheim MechZB'],\n",
       " ['Ginsheim-Gustavsburg MechZB', 'Berlin-Zentrum MechZB'],\n",
       " ['Ginsheim-Gustavsburg MechZB', 'Wesendorf'],\n",
       " ['Ginsheim-Gustavsburg MechZB', 'Dresden MechZB'],\n",
       " ['Ginsheim-Gustavsburg MechZB', 'Bensheim'],\n",
       " ['Ginsheim-Gustavsburg MechZB', 'Osterweddingen'],\n",
       " ['Ginsheim-Gustavsburg MechZB', 'Mu00FCnchen City Logistik Center MechZB'],\n",
       " ['Ginsheim-Gustavsburg MechZB', 'Essen-Steele-Horst MechZB'],\n",
       " ['Ginsheim-Gustavsburg MechZB', 'Landsberg'],\n",
       " ['Ginsheim-Gustavsburg MechZB', 'Zweibru00FCcken'],\n",
       " ['Ginsheim-Gustavsburg MechZB', 'Erfurt MechZB'],\n",
       " ['Ginsheim-Gustavsburg MechZB', 'Oberhausen'],\n",
       " ['Ginsheim-Gustavsburg MechZB', 'Langenhagen'],\n",
       " ['Ginsheim-Gustavsburg MechZB', 'Gu00F6ttingen'],\n",
       " ['Ginsheim-Gustavsburg MechZB', 'Heidelberg-Leimen MechZB'],\n",
       " ['Ginsheim-Gustavsburg MechZB', 'Hameln'],\n",
       " ['Ginsheim-Gustavsburg MechZB', 'Straubing'],\n",
       " ['Ginsheim-Gustavsburg MechZB', 'Hagen'],\n",
       " ['Ginsheim-Gustavsburg MechZB', 'Osterholz MechZB'],\n",
       " ['Ginsheim-Gustavsburg MechZB', 'Halle (Saale)'],\n",
       " ['Ginsheim-Gustavsburg MechZB', 'Hannover'],\n",
       " ['Ginsheim-Gustavsburg MechZB', 'Dortmund MechZB'],\n",
       " ['Ginsheim-Gustavsburg MechZB', 'Kaarst'],\n",
       " ['Ginsheim-Gustavsburg MechZB', 'Osnabru00FCck MechZB'],\n",
       " ['Ginsheim-Gustavsburg MechZB', 'Seligenstadt'],\n",
       " ['Ginsheim-Gustavsburg MechZB', 'Hambergen'],\n",
       " ['Ginsheim-Gustavsburg MechZB', 'Aachen'],\n",
       " ['Ginsheim-Gustavsburg MechZB', 'Rostock'],\n",
       " ['Ginsheim-Gustavsburg MechZB', 'Grou00DFenlu00FCder'],\n",
       " ['Ginsheim-Gustavsburg MechZB', 'Oer-Erkenschwick MechZB'],\n",
       " ['Ginsheim-Gustavsburg MechZB', 'Stahnsdorf'],\n",
       " ['Ginsheim-Gustavsburg MechZB', 'Du00FCsseldorf'],\n",
       " ['Ginsheim-Gustavsburg MechZB', 'Ottobrunn MechZB'],\n",
       " ['Ginsheim-Gustavsburg MechZB', 'Mannheim Su00FCd MechZB'],\n",
       " ['Ginsheim-Gustavsburg MechZB', 'Herzlake'],\n",
       " ['Ginsheim-Gustavsburg MechZB', 'Grou00DFbeeren (MechZB)'],\n",
       " ['Ginsheim-Gustavsburg MechZB', 'Nordhausen'],\n",
       " ['Ginsheim-Gustavsburg MechZB', 'Gevelsberg'],\n",
       " ['Ginsheim-Gustavsburg MechZB', 'Karben'],\n",
       " ['Ginsheim-Gustavsburg MechZB', 'Bottrop'],\n",
       " ['Ginsheim-Gustavsburg MechZB', 'Mainz'],\n",
       " ['Ginsheim-Gustavsburg MechZB', 'Ku00F6ngen'],\n",
       " ['Ginsheim-Gustavsburg MechZB', 'Eschborn'],\n",
       " ['Ginsheim-Gustavsburg MechZB', 'Husum'],\n",
       " ['Ginsheim-Gustavsburg MechZB', 'Troisdorf'],\n",
       " ['Ginsheim-Gustavsburg MechZB', 'Braunschweig'],\n",
       " ['Ginsheim-Gustavsburg MechZB', 'Mu00F6nchengladbach'],\n",
       " ['Ginsheim-Gustavsburg MechZB', 'Aschaffenburg'],\n",
       " ['Ginsheim-Gustavsburg MechZB', 'Kiel'],\n",
       " ['Ginsheim-Gustavsburg MechZB', 'Wuppertal'],\n",
       " ['Ginsheim-Gustavsburg MechZB', 'Lu00FCbeck MechZB'],\n",
       " ['Ginsheim-Gustavsburg MechZB', 'Greven'],\n",
       " ['Ginsheim-Gustavsburg MechZB', 'Varel'],\n",
       " ['Ginsheim-Gustavsburg MechZB', 'Ru00FCsselsheim am Main'],\n",
       " ['Ginsheim-Gustavsburg MechZB', 'Schmelz'],\n",
       " ['Ginsheim-Gustavsburg MechZB', 'Bu00F6rnicke'],\n",
       " ['Ginsheim-Gustavsburg MechZB', 'Wu00FCrzburg MechZB'],\n",
       " ['Ginsheim-Gustavsburg MechZB', 'Waldbru00F6l'],\n",
       " ['Ginsheim-Gustavsburg MechZB', 'Kemnath'],\n",
       " ['Ginsheim-Gustavsburg MechZB', 'Glinde MechZB'],\n",
       " ['Ginsheim-Gustavsburg MechZB', 'Ottendorf-Okrilla'],\n",
       " ['Ginsheim-Gustavsburg MechZB', 'Koblenz MechZB'],\n",
       " ['Ginsheim-Gustavsburg MechZB', 'Heilbronn MechZB'],\n",
       " ['Ginsheim-Gustavsburg MechZB', 'Iserlohn MechZB'],\n",
       " ['Ginsheim-Gustavsburg MechZB', 'Mu00FCnchen'],\n",
       " ['Ginsheim-Gustavsburg MechZB', 'Kitzingen'],\n",
       " ['Ginsheim-Gustavsburg MechZB', 'Meinerzhagen'],\n",
       " ['Ginsheim-Gustavsburg MechZB', 'Du00FCren'],\n",
       " ['Ginsheim-Gustavsburg MechZB', 'Offenbach am Main'],\n",
       " ['Ginsheim-Gustavsburg MechZB', 'Speyer'],\n",
       " ['Ginsheim-Gustavsburg MechZB', 'Nu00FCrnberg'],\n",
       " ['Ginsheim-Gustavsburg MechZB', 'Ludwigsburg'],\n",
       " ['Ginsheim-Gustavsburg MechZB', 'Marburg'],\n",
       " ['Ginsheim-Gustavsburg MechZB', 'Neuruppin'],\n",
       " ['Ginsheim-Gustavsburg MechZB', 'Voerde'],\n",
       " ['Ginsheim-Gustavsburg MechZB', 'Eutingen im Gu00E4u'],\n",
       " ['Ginsheim-Gustavsburg MechZB', 'Braunschweig MechZB'],\n",
       " ['Ginsheim-Gustavsburg MechZB', 'Gelnhausen'],\n",
       " ['Ginsheim-Gustavsburg MechZB', 'Frankfurt MechZB'],\n",
       " ['Ginsheim-Gustavsburg MechZB', 'Holzgerlingen MechZB'],\n",
       " ['Ginsheim-Gustavsburg MechZB', 'Radefeld'],\n",
       " ['Ginsheim-Gustavsburg MechZB', 'Bremen'],\n",
       " ['Ginsheim-Gustavsburg MechZB', 'Anderten MechZB'],\n",
       " ['Ginsheim-Gustavsburg MechZB', 'Esslingen am Neckar'],\n",
       " ['Ginsheim-Gustavsburg MechZB', 'Moers MechZB'],\n",
       " ['Ginsheim-Gustavsburg MechZB', 'Kaiserslautern'],\n",
       " ['Ginsheim-Gustavsburg MechZB', 'Coburg'],\n",
       " ['Ginsheim-Gustavsburg MechZB', 'Bietigheim-Bissingen'],\n",
       " ['Ginsheim-Gustavsburg MechZB', 'Norderstedt'],\n",
       " ['Ginsheim-Gustavsburg MechZB', 'Reutlingen MechZB'],\n",
       " ['Ginsheim-Gustavsburg MechZB', 'Germering MechZB'],\n",
       " ['Ginsheim-Gustavsburg MechZB', 'Neuwied'],\n",
       " ['Ginsheim-Gustavsburg MechZB', 'Neustrelitz'],\n",
       " ['Ginsheim-Gustavsburg MechZB', 'Nu00FCrnberg-Langwasser MechZB'],\n",
       " ['Ginsheim-Gustavsburg MechZB', 'Konstanz'],\n",
       " ['Ginsheim-Gustavsburg MechZB', 'Bad Liebenwerda'],\n",
       " ['Ginsheim-Gustavsburg MechZB', 'Wu00FCrselen MechZB'],\n",
       " ['Ginsheim-Gustavsburg MechZB', 'Steinhagen'],\n",
       " ['Ginsheim-Gustavsburg MechZB', 'Krefeld'],\n",
       " ['Ginsheim-Gustavsburg MechZB', 'Unterschleiu00DFheim MechZB'],\n",
       " ['Ginsheim-Gustavsburg MechZB', 'Dresden'],\n",
       " ['Ginsheim-Gustavsburg MechZB', 'Lippstadt'],\n",
       " ['Ginsheim-Gustavsburg MechZB', 'Bernau bei Berlin'],\n",
       " ['Ginsheim-Gustavsburg MechZB', 'Bergen auf Ru00FCgen'],\n",
       " ['Ginsheim-Gustavsburg MechZB', 'Berlin-Mariendorf MechZB'],\n",
       " ['Ginsheim-Gustavsburg MechZB', 'Kleinmachnow MechZB'],\n",
       " ['Ginsheim-Gustavsburg MechZB', 'Potsdam'],\n",
       " ['Ginsheim-Gustavsburg MechZB', 'Essen MechZB'],\n",
       " ['Ginsheim-Gustavsburg MechZB', 'Wiesbaden'],\n",
       " ['Ginsheim-Gustavsburg MechZB', 'Hilden'],\n",
       " ['Ginsheim-Gustavsburg MechZB', 'Recklinghausen'],\n",
       " ['Ginsheim-Gustavsburg MechZB', 'Salzgitter'],\n",
       " ['Ginsheim-Gustavsburg MechZB', 'Trier'],\n",
       " ['Ginsheim-Gustavsburg MechZB', 'Augsburg MechZB'],\n",
       " ['Ginsheim-Gustavsburg MechZB', 'Du00FCsseldorf-Su00FCd MechZB'],\n",
       " ['Bruchsal', 'Wesel'],\n",
       " ['Bruchsal', 'Bornheim'],\n",
       " ['Bruchsal', 'Magdeburg'],\n",
       " ['Bruchsal', 'Idstein'],\n",
       " ['Bruchsal', 'Wirges'],\n",
       " ['Bruchsal', 'Nohra'],\n",
       " ['Bruchsal', 'Leipzig MechZB'],\n",
       " ['Bruchsal', 'Unterhaching'],\n",
       " ['Bruchsal', 'Saulheim'],\n",
       " ['Bruchsal', 'Mu00FCnchen Neuaubing MechZB'],\n",
       " ['Bruchsal', 'Wadgassen'],\n",
       " ['Bruchsal', 'Darmstadt'],\n",
       " ['Bruchsal', 'Duisburg'],\n",
       " ['Bruchsal', 'Karlsruhe MechZB'],\n",
       " ['Bruchsal', 'Mu00FCnchen Riesenfeld MechZB'],\n",
       " ['Bruchsal', 'Jena'],\n",
       " ['Bruchsal', 'Neubrandenburg'],\n",
       " ['Bruchsal', 'Bonn MechZB'],\n",
       " ['Bruchsal', 'Hattersheim MechZB'],\n",
       " ['Bruchsal', 'Koblenz'],\n",
       " ['Bruchsal', 'Witten'],\n",
       " ['Bruchsal', 'Neumark'],\n",
       " ['Bruchsal', 'Rimpar'],\n",
       " ['Bruchsal', 'Schneeberg'],\n",
       " ['Bruchsal', 'Brackenheim'],\n",
       " ['Bruchsal', 'Tostedt'],\n",
       " ['Bruchsal', 'Aschersleben'],\n",
       " ['Bruchsal', 'Amberg'],\n",
       " ['Bruchsal', 'Paderborn'],\n",
       " ['Bruchsal', 'Bochum'],\n",
       " ['Bruchsal', 'Waiblingen MechZB'],\n",
       " ['Bruchsal', 'Nu00FCrnberg MechZB'],\n",
       " ['Bruchsal', 'Billbrook MechZB'],\n",
       " ['Bruchsal', 'Korntal MechZB'],\n",
       " ['Bruchsal', 'Mainz-Hechtsheim MechZB'],\n",
       " ['Bruchsal', 'Kempten (Allgu00E4u)'],\n",
       " ['Bruchsal', 'Hamm MechZB'],\n",
       " ['Bruchsal', 'Wolfsburg'],\n",
       " ['Bruchsal', 'Pulheim'],\n",
       " ['Bruchsal', 'Dessau-Rou00DFlau'],\n",
       " ['Bruchsal', 'Gremberghoven MechZB'],\n",
       " ['Bruchsal', 'Pu00FCttlingen'],\n",
       " ['Bruchsal', 'Sulzbach-Rosenberg'],\n",
       " ['Bruchsal', 'Bad Urach'],\n",
       " ['Bruchsal', 'Schwerte'],\n",
       " ['Bruchsal', 'Berlin Josef-Orlopp-Str. MechZB'],\n",
       " ['Bruchsal', 'Bochum-Herne MechZB'],\n",
       " ['Bruchsal', 'Weinheim'],\n",
       " ['Bruchsal', 'Bergkamen'],\n",
       " ['Bruchsal', 'Iserlohn'],\n",
       " ['Bruchsal', 'Dinslaken (MechZB)'],\n",
       " ['Bruchsal', 'Balingen'],\n",
       " ['Bruchsal', 'Mu00FCnster MechZB'],\n",
       " ['Bruchsal', 'Marktredwitz'],\n",
       " ['Bruchsal', 'Bayreuth'],\n",
       " ['Bruchsal', 'Berlin-Charlottenburg MechZB'],\n",
       " ['Bruchsal', 'Berlin-Pankow MechZB'],\n",
       " ['Bruchsal', 'Erfurt'],\n",
       " ['Bruchsal', 'Mu00FCnchen Am Neubruch MechZB'],\n",
       " ['Bruchsal', 'Rot an der Rot'],\n",
       " ['Bruchsal', 'Barsinghausen'],\n",
       " ['Bruchsal', 'Lu00FCneburg'],\n",
       " ['Bruchsal', 'Korntal-Mu00FCnchingen'],\n",
       " ['Bruchsal', 'Dorsten'],\n",
       " ['Bruchsal', 'Fu00FCrth'],\n",
       " ['Bruchsal', 'Paderborn MechZB'],\n",
       " ['Bruchsal', 'Berlin-Britz MechZB'],\n",
       " ['Bruchsal', 'Ratingen MechZB'],\n",
       " ['Bruchsal', 'Mu00FCnster'],\n",
       " ['Bruchsal', 'Wilhelmshaven'],\n",
       " ['Bruchsal', 'Burgkirchen a.d.Alz'],\n",
       " ['Bruchsal', 'Trebbin'],\n",
       " ['Bruchsal', 'Edermu00FCnde'],\n",
       " ['Bruchsal', 'Feucht'],\n",
       " ['Bruchsal', 'Gieu00DFen'],\n",
       " ['Bruchsal', 'Mannheim'],\n",
       " ['Bruchsal', 'Saarbru00FCcken'],\n",
       " ['Bruchsal', 'Burgdorf'],\n",
       " ['Bruchsal', 'Hu00FCrth'],\n",
       " ['Bruchsal', 'Aschheim'],\n",
       " ['Bruchsal', 'Erlangen'],\n",
       " ['Bruchsal', 'Lampertheim'],\n",
       " ['Bruchsal', 'Walldorf'],\n",
       " ['Bruchsal', 'Altenburg'],\n",
       " ['Bruchsal', 'Pinneberg'],\n",
       " ['Bruchsal', 'Schwerin'],\n",
       " ['Bruchsal', 'Eckental'],\n",
       " ['Bruchsal', 'Augsburg'],\n",
       " ['Bruchsal', 'Schwelm MechZB'],\n",
       " ['Bruchsal', 'Kamen MechZB'],\n",
       " ['Bruchsal', 'Chemnitz MechZB'],\n",
       " ['Bruchsal', 'Freiburg im Breisgau'],\n",
       " ['Bruchsal', 'Schwabach'],\n",
       " ['Bruchsal', 'Buchholz in der Nordheide'],\n",
       " ['Bruchsal', 'Heilbronn'],\n",
       " ['Bruchsal', 'Hamburg'],\n",
       " ['Bruchsal', 'Monsheim'],\n",
       " ['Bruchsal', 'Neu-Ulm'],\n",
       " ['Bruchsal', 'Essen'],\n",
       " ['Bruchsal', 'Holzkirchen'],\n",
       " ['Bruchsal', 'Passau'],\n",
       " ['Bruchsal', 'Reinheim'],\n",
       " ['Bruchsal', 'Norderstedt 1 MechZB'],\n",
       " ['Bruchsal', 'Oberursel (Taunus)'],\n",
       " ['Bruchsal', 'Du00FCsseldorf MechZB'],\n",
       " ['Bruchsal', 'Hanau MechZB'],\n",
       " ['Bruchsal', 'Oldenburg'],\n",
       " ['Bruchsal', 'St. Ingbert MechZB'],\n",
       " ['Bruchsal', 'Gu00FCnzburg'],\n",
       " ['Bruchsal', 'Staufenberg'],\n",
       " ['Bruchsal', 'Garching b. Mu00FCnchen'],\n",
       " ['Bruchsal', 'Oldenburg MechZB'],\n",
       " ['Bruchsal', 'Neu-Isenburg'],\n",
       " ['Bruchsal', 'Lu00FCnen'],\n",
       " ['Bruchsal', 'Berchtesgaden'],\n",
       " ['Bruchsal', 'Bru00FChl MechZB'],\n",
       " ['Bruchsal', 'Nidderau'],\n",
       " ['Bruchsal', 'Freising'],\n",
       " ['Bruchsal', 'Obertshausen'],\n",
       " ['Bruchsal', 'Neumu00FCnster'],\n",
       " ['Bruchsal', 'Ku00F6ln MechZB'],\n",
       " ['Bruchsal', 'Brandenburg an der Havel'],\n",
       " ['Bruchsal', 'Chemnitz'],\n",
       " ['Bruchsal', 'Wuppertal MechZB'],\n",
       " ['Bruchsal', 'Berlin'],\n",
       " ['Bruchsal', 'Aschheim MechZB'],\n",
       " ['Bruchsal', 'Bielefeld'],\n",
       " ['Bruchsal', 'Schwu00E4bisch Hall'],\n",
       " ['Bruchsal', 'Elmshorn'],\n",
       " ['Bruchsal', 'Osnabru00FCck'],\n",
       " ['Bruchsal', 'Ku00F6ln'],\n",
       " ['Bruchsal', 'Bremen GVZ'],\n",
       " ['Bruchsal', 'Darmstadt MechZB'],\n",
       " ['Bruchsal', 'Leipzig'],\n",
       " ['Bruchsal', 'Dortmund'],\n",
       " ['Bruchsal', 'Voerde (Niederrhein)'],\n",
       " ['Bruchsal', 'Bielefeld MechZB'],\n",
       " ['Bruchsal', 'Gelsenkirchen'],\n",
       " ['Bruchsal', 'Weiden i.d.OPf.'],\n",
       " ['Bruchsal', 'Schorndorf'],\n",
       " ['Bruchsal', 'Lahr'],\n",
       " ['Bruchsal', 'Frankfurt am Main'],\n",
       " ['Bruchsal', 'Weimar'],\n",
       " ['Bruchsal', 'Wentorf'],\n",
       " ['Bruchsal', 'Mannheim Nord MechZB'],\n",
       " ['Bruchsal', 'Regensburg'],\n",
       " ['Bruchsal', 'Ru00FCdersdorf'],\n",
       " ['Bruchsal', 'Wolgast'],\n",
       " ['Bruchsal', 'BZ 56, Carl-Spaeter-Str. 2f, 56070 Koblenz'],\n",
       " ['Bruchsal', 'Bonn'],\n",
       " ['Bruchsal', 'Maintal'],\n",
       " ['Bruchsal', 'Rodgau'],\n",
       " ['Bruchsal', 'Stuttgart'],\n",
       " ['Bruchsal', 'Meckenheim'],\n",
       " ['Bruchsal', 'Hannover-Su00FCd MechZB'],\n",
       " ['Bruchsal', 'Neubiberg'],\n",
       " ['Bruchsal', 'Markdorf'],\n",
       " ['Bruchsal', 'Delitzsch'],\n",
       " ['Bruchsal', 'Kumhausen'],\n",
       " ['Bruchsal', 'Neuss MechZB'],\n",
       " ['Bruchsal', 'Schwielowsee'],\n",
       " ['Bruchsal', 'Nienburg'],\n",
       " ['Bruchsal', 'Herne'],\n",
       " ['Bruchsal', 'Kassel MechZB'],\n",
       " ['Bruchsal', 'Stollberg /Erzgeb.'],\n",
       " ['Bruchsal', 'Freiburg MechZB'],\n",
       " ['Bruchsal', 'Mu00FClheim an der Ruhr'],\n",
       " ['Bruchsal', 'Efringen-Kirchen MechZB'],\n",
       " ['Bruchsal', 'Wunstorf'],\n",
       " ['Bruchsal', 'Frechen MechZB'],\n",
       " ['Bruchsal', 'Erlangen MechZB'],\n",
       " ['Bruchsal', 'Tornesch MechZB'],\n",
       " ['Bruchsal', 'Pforzheim MechZB'],\n",
       " ['Bruchsal', 'Berlin-Zentrum MechZB'],\n",
       " ['Bruchsal', 'Wesendorf'],\n",
       " ['Bruchsal', 'Dresden MechZB'],\n",
       " ['Bruchsal', 'Bensheim'],\n",
       " ['Bruchsal', 'Osterweddingen'],\n",
       " ['Bruchsal', 'Mu00FCnchen City Logistik Center MechZB'],\n",
       " ['Bruchsal', 'Essen-Steele-Horst MechZB'],\n",
       " ['Bruchsal', 'Landsberg'],\n",
       " ['Bruchsal', 'Zweibru00FCcken'],\n",
       " ['Bruchsal', 'Erfurt MechZB'],\n",
       " ['Bruchsal', 'Oberhausen'],\n",
       " ['Bruchsal', 'Langenhagen'],\n",
       " ['Bruchsal', 'Gu00F6ttingen'],\n",
       " ['Bruchsal', 'Heidelberg-Leimen MechZB'],\n",
       " ['Bruchsal', 'Hameln'],\n",
       " ['Bruchsal', 'Straubing'],\n",
       " ['Bruchsal', 'Hagen'],\n",
       " ['Bruchsal', 'Osterholz MechZB'],\n",
       " ['Bruchsal', 'Halle (Saale)'],\n",
       " ['Bruchsal', 'Hannover'],\n",
       " ['Bruchsal', 'Dortmund MechZB'],\n",
       " ['Bruchsal', 'Kaarst'],\n",
       " ['Bruchsal', 'Osnabru00FCck MechZB'],\n",
       " ['Bruchsal', 'Seligenstadt'],\n",
       " ['Bruchsal', 'Hambergen'],\n",
       " ['Bruchsal', 'Aachen'],\n",
       " ['Bruchsal', 'Rostock'],\n",
       " ['Bruchsal', 'Grou00DFenlu00FCder'],\n",
       " ['Bruchsal', 'Oer-Erkenschwick MechZB'],\n",
       " ['Bruchsal', 'Stahnsdorf'],\n",
       " ['Bruchsal', 'Du00FCsseldorf'],\n",
       " ['Bruchsal', 'Ottobrunn MechZB'],\n",
       " ['Bruchsal', 'Mannheim Su00FCd MechZB'],\n",
       " ['Bruchsal', 'Herzlake'],\n",
       " ['Bruchsal', 'Grou00DFbeeren (MechZB)'],\n",
       " ['Bruchsal', 'Nordhausen'],\n",
       " ['Bruchsal', 'Gevelsberg'],\n",
       " ['Bruchsal', 'Karben'],\n",
       " ['Bruchsal', 'Bottrop'],\n",
       " ['Bruchsal', 'Mainz'],\n",
       " ['Bruchsal', 'Ku00F6ngen'],\n",
       " ['Bruchsal', 'Eschborn'],\n",
       " ['Bruchsal', 'Husum'],\n",
       " ['Bruchsal', 'Troisdorf'],\n",
       " ['Bruchsal', 'Braunschweig'],\n",
       " ['Bruchsal', 'Mu00F6nchengladbach'],\n",
       " ['Bruchsal', 'Aschaffenburg'],\n",
       " ['Bruchsal', 'Kiel'],\n",
       " ['Bruchsal', 'Wuppertal'],\n",
       " ['Bruchsal', 'Lu00FCbeck MechZB'],\n",
       " ['Bruchsal', 'Greven'],\n",
       " ['Bruchsal', 'Varel'],\n",
       " ['Bruchsal', 'Ru00FCsselsheim am Main'],\n",
       " ['Bruchsal', 'Schmelz'],\n",
       " ['Bruchsal', 'Bu00F6rnicke'],\n",
       " ['Bruchsal', 'Wu00FCrzburg MechZB'],\n",
       " ['Bruchsal', 'Waldbru00F6l'],\n",
       " ['Bruchsal', 'Kemnath'],\n",
       " ['Bruchsal', 'Glinde MechZB'],\n",
       " ['Bruchsal', 'Ottendorf-Okrilla'],\n",
       " ['Bruchsal', 'Koblenz MechZB'],\n",
       " ['Bruchsal', 'Heilbronn MechZB'],\n",
       " ['Bruchsal', 'Iserlohn MechZB'],\n",
       " ['Bruchsal', 'Mu00FCnchen'],\n",
       " ['Bruchsal', 'Kitzingen'],\n",
       " ['Bruchsal', 'Meinerzhagen'],\n",
       " ['Bruchsal', 'Du00FCren'],\n",
       " ['Bruchsal', 'Offenbach am Main'],\n",
       " ['Bruchsal', 'Speyer'],\n",
       " ['Bruchsal', 'Nu00FCrnberg'],\n",
       " ['Bruchsal', 'Ludwigsburg'],\n",
       " ['Bruchsal', 'Marburg'],\n",
       " ['Bruchsal', 'Neuruppin'],\n",
       " ['Bruchsal', 'Voerde'],\n",
       " ['Bruchsal', 'Eutingen im Gu00E4u'],\n",
       " ['Bruchsal', 'Braunschweig MechZB'],\n",
       " ['Bruchsal', 'Gelnhausen'],\n",
       " ['Bruchsal', 'Frankfurt MechZB'],\n",
       " ['Bruchsal', 'Holzgerlingen MechZB'],\n",
       " ['Bruchsal', 'Radefeld'],\n",
       " ['Bruchsal', 'Bremen'],\n",
       " ['Bruchsal', 'Anderten MechZB'],\n",
       " ['Bruchsal', 'Esslingen am Neckar'],\n",
       " ['Bruchsal', 'Moers MechZB'],\n",
       " ['Bruchsal', 'Kaiserslautern'],\n",
       " ['Bruchsal', 'Coburg'],\n",
       " ['Bruchsal', 'Bietigheim-Bissingen'],\n",
       " ['Bruchsal', 'Norderstedt'],\n",
       " ['Bruchsal', 'Reutlingen MechZB'],\n",
       " ['Bruchsal', 'Germering MechZB'],\n",
       " ['Bruchsal', 'Neuwied'],\n",
       " ['Bruchsal', 'Neustrelitz'],\n",
       " ['Bruchsal', 'Nu00FCrnberg-Langwasser MechZB'],\n",
       " ['Bruchsal', 'Konstanz'],\n",
       " ['Bruchsal', 'Bad Liebenwerda'],\n",
       " ['Bruchsal', 'Wu00FCrselen MechZB'],\n",
       " ['Bruchsal', 'Steinhagen'],\n",
       " ['Bruchsal', 'Krefeld'],\n",
       " ['Bruchsal', 'Unterschleiu00DFheim MechZB'],\n",
       " ['Bruchsal', 'Dresden'],\n",
       " ['Bruchsal', 'Lippstadt'],\n",
       " ['Bruchsal', 'Bernau bei Berlin'],\n",
       " ['Bruchsal', 'Bergen auf Ru00FCgen'],\n",
       " ['Bruchsal', 'Berlin-Mariendorf MechZB'],\n",
       " ['Bruchsal', 'Kleinmachnow MechZB'],\n",
       " ['Bruchsal', 'Potsdam'],\n",
       " ['Bruchsal', 'Essen MechZB'],\n",
       " ['Bruchsal', 'Wiesbaden'],\n",
       " ['Bruchsal', 'Hilden'],\n",
       " ['Bruchsal', 'Recklinghausen'],\n",
       " ['Bruchsal', 'Salzgitter'],\n",
       " ['Bruchsal', 'Trier'],\n",
       " ['Bruchsal', 'Augsburg MechZB'],\n",
       " ['Bruchsal', 'Du00FCsseldorf-Su00FCd MechZB'],\n",
       " ['Wesel', 'Bornheim'],\n",
       " ['Wesel', 'Magdeburg'],\n",
       " ['Wesel', 'Idstein'],\n",
       " ['Wesel', 'Wirges'],\n",
       " ['Wesel', 'Nohra'],\n",
       " ['Wesel', 'Leipzig MechZB'],\n",
       " ['Wesel', 'Unterhaching'],\n",
       " ['Wesel', 'Saulheim'],\n",
       " ['Wesel', 'Mu00FCnchen Neuaubing MechZB'],\n",
       " ['Wesel', 'Wadgassen'],\n",
       " ['Wesel', 'Darmstadt'],\n",
       " ['Wesel', 'Duisburg'],\n",
       " ['Wesel', 'Karlsruhe MechZB'],\n",
       " ['Wesel', 'Mu00FCnchen Riesenfeld MechZB'],\n",
       " ['Wesel', 'Jena'],\n",
       " ['Wesel', 'Neubrandenburg'],\n",
       " ['Wesel', 'Bonn MechZB'],\n",
       " ['Wesel', 'Hattersheim MechZB'],\n",
       " ['Wesel', 'Koblenz'],\n",
       " ['Wesel', 'Witten'],\n",
       " ['Wesel', 'Neumark'],\n",
       " ['Wesel', 'Rimpar'],\n",
       " ['Wesel', 'Schneeberg'],\n",
       " ['Wesel', 'Brackenheim'],\n",
       " ['Wesel', 'Tostedt'],\n",
       " ['Wesel', 'Aschersleben'],\n",
       " ['Wesel', 'Amberg'],\n",
       " ['Wesel', 'Paderborn'],\n",
       " ['Wesel', 'Bochum'],\n",
       " ['Wesel', 'Waiblingen MechZB'],\n",
       " ['Wesel', 'Nu00FCrnberg MechZB'],\n",
       " ['Wesel', 'Billbrook MechZB'],\n",
       " ['Wesel', 'Korntal MechZB'],\n",
       " ['Wesel', 'Mainz-Hechtsheim MechZB'],\n",
       " ['Wesel', 'Kempten (Allgu00E4u)'],\n",
       " ['Wesel', 'Hamm MechZB'],\n",
       " ['Wesel', 'Wolfsburg'],\n",
       " ['Wesel', 'Pulheim'],\n",
       " ['Wesel', 'Dessau-Rou00DFlau'],\n",
       " ['Wesel', 'Gremberghoven MechZB'],\n",
       " ['Wesel', 'Pu00FCttlingen'],\n",
       " ['Wesel', 'Sulzbach-Rosenberg'],\n",
       " ['Wesel', 'Bad Urach'],\n",
       " ['Wesel', 'Schwerte'],\n",
       " ['Wesel', 'Berlin Josef-Orlopp-Str. MechZB'],\n",
       " ['Wesel', 'Bochum-Herne MechZB'],\n",
       " ['Wesel', 'Weinheim'],\n",
       " ['Wesel', 'Bergkamen'],\n",
       " ['Wesel', 'Iserlohn'],\n",
       " ['Wesel', 'Dinslaken (MechZB)'],\n",
       " ['Wesel', 'Balingen'],\n",
       " ['Wesel', 'Mu00FCnster MechZB'],\n",
       " ['Wesel', 'Marktredwitz'],\n",
       " ['Wesel', 'Bayreuth'],\n",
       " ['Wesel', 'Berlin-Charlottenburg MechZB'],\n",
       " ['Wesel', 'Berlin-Pankow MechZB'],\n",
       " ['Wesel', 'Erfurt'],\n",
       " ['Wesel', 'Mu00FCnchen Am Neubruch MechZB'],\n",
       " ['Wesel', 'Rot an der Rot'],\n",
       " ['Wesel', 'Barsinghausen'],\n",
       " ['Wesel', 'Lu00FCneburg'],\n",
       " ['Wesel', 'Korntal-Mu00FCnchingen'],\n",
       " ['Wesel', 'Dorsten'],\n",
       " ['Wesel', 'Fu00FCrth'],\n",
       " ['Wesel', 'Paderborn MechZB'],\n",
       " ['Wesel', 'Berlin-Britz MechZB'],\n",
       " ['Wesel', 'Ratingen MechZB'],\n",
       " ['Wesel', 'Mu00FCnster'],\n",
       " ['Wesel', 'Wilhelmshaven'],\n",
       " ['Wesel', 'Burgkirchen a.d.Alz'],\n",
       " ['Wesel', 'Trebbin'],\n",
       " ['Wesel', 'Edermu00FCnde'],\n",
       " ['Wesel', 'Feucht'],\n",
       " ['Wesel', 'Gieu00DFen'],\n",
       " ['Wesel', 'Mannheim'],\n",
       " ['Wesel', 'Saarbru00FCcken'],\n",
       " ['Wesel', 'Burgdorf'],\n",
       " ['Wesel', 'Hu00FCrth'],\n",
       " ['Wesel', 'Aschheim'],\n",
       " ['Wesel', 'Erlangen'],\n",
       " ['Wesel', 'Lampertheim'],\n",
       " ['Wesel', 'Walldorf'],\n",
       " ['Wesel', 'Altenburg'],\n",
       " ['Wesel', 'Pinneberg'],\n",
       " ['Wesel', 'Schwerin'],\n",
       " ['Wesel', 'Eckental'],\n",
       " ['Wesel', 'Augsburg'],\n",
       " ['Wesel', 'Schwelm MechZB'],\n",
       " ['Wesel', 'Kamen MechZB'],\n",
       " ['Wesel', 'Chemnitz MechZB'],\n",
       " ['Wesel', 'Freiburg im Breisgau'],\n",
       " ['Wesel', 'Schwabach'],\n",
       " ['Wesel', 'Buchholz in der Nordheide'],\n",
       " ['Wesel', 'Heilbronn'],\n",
       " ['Wesel', 'Hamburg'],\n",
       " ['Wesel', 'Monsheim'],\n",
       " ['Wesel', 'Neu-Ulm'],\n",
       " ['Wesel', 'Essen'],\n",
       " ['Wesel', 'Holzkirchen'],\n",
       " ['Wesel', 'Passau'],\n",
       " ['Wesel', 'Reinheim'],\n",
       " ['Wesel', 'Norderstedt 1 MechZB'],\n",
       " ['Wesel', 'Oberursel (Taunus)'],\n",
       " ['Wesel', 'Du00FCsseldorf MechZB'],\n",
       " ['Wesel', 'Hanau MechZB'],\n",
       " ['Wesel', 'Oldenburg'],\n",
       " ['Wesel', 'St. Ingbert MechZB'],\n",
       " ['Wesel', 'Gu00FCnzburg'],\n",
       " ['Wesel', 'Staufenberg'],\n",
       " ['Wesel', 'Garching b. Mu00FCnchen'],\n",
       " ['Wesel', 'Oldenburg MechZB'],\n",
       " ['Wesel', 'Neu-Isenburg'],\n",
       " ['Wesel', 'Lu00FCnen'],\n",
       " ['Wesel', 'Berchtesgaden'],\n",
       " ['Wesel', 'Bru00FChl MechZB'],\n",
       " ['Wesel', 'Nidderau'],\n",
       " ['Wesel', 'Freising'],\n",
       " ['Wesel', 'Obertshausen'],\n",
       " ['Wesel', 'Neumu00FCnster'],\n",
       " ['Wesel', 'Ku00F6ln MechZB'],\n",
       " ['Wesel', 'Brandenburg an der Havel'],\n",
       " ['Wesel', 'Chemnitz'],\n",
       " ['Wesel', 'Wuppertal MechZB'],\n",
       " ['Wesel', 'Berlin'],\n",
       " ['Wesel', 'Aschheim MechZB'],\n",
       " ['Wesel', 'Bielefeld'],\n",
       " ['Wesel', 'Schwu00E4bisch Hall'],\n",
       " ['Wesel', 'Elmshorn'],\n",
       " ['Wesel', 'Osnabru00FCck'],\n",
       " ['Wesel', 'Ku00F6ln'],\n",
       " ['Wesel', 'Bremen GVZ'],\n",
       " ['Wesel', 'Darmstadt MechZB'],\n",
       " ['Wesel', 'Leipzig'],\n",
       " ['Wesel', 'Dortmund'],\n",
       " ['Wesel', 'Voerde (Niederrhein)'],\n",
       " ['Wesel', 'Bielefeld MechZB'],\n",
       " ['Wesel', 'Gelsenkirchen'],\n",
       " ['Wesel', 'Weiden i.d.OPf.'],\n",
       " ['Wesel', 'Schorndorf'],\n",
       " ['Wesel', 'Lahr'],\n",
       " ['Wesel', 'Frankfurt am Main'],\n",
       " ['Wesel', 'Weimar'],\n",
       " ['Wesel', 'Wentorf'],\n",
       " ['Wesel', 'Mannheim Nord MechZB'],\n",
       " ['Wesel', 'Regensburg'],\n",
       " ['Wesel', 'Ru00FCdersdorf'],\n",
       " ['Wesel', 'Wolgast'],\n",
       " ['Wesel', 'BZ 56, Carl-Spaeter-Str. 2f, 56070 Koblenz'],\n",
       " ['Wesel', 'Bonn'],\n",
       " ['Wesel', 'Maintal'],\n",
       " ['Wesel', 'Rodgau'],\n",
       " ['Wesel', 'Stuttgart'],\n",
       " ['Wesel', 'Meckenheim'],\n",
       " ['Wesel', 'Hannover-Su00FCd MechZB'],\n",
       " ['Wesel', 'Neubiberg'],\n",
       " ['Wesel', 'Markdorf'],\n",
       " ['Wesel', 'Delitzsch'],\n",
       " ['Wesel', 'Kumhausen'],\n",
       " ['Wesel', 'Neuss MechZB'],\n",
       " ['Wesel', 'Schwielowsee'],\n",
       " ['Wesel', 'Nienburg'],\n",
       " ['Wesel', 'Herne'],\n",
       " ['Wesel', 'Kassel MechZB'],\n",
       " ['Wesel', 'Stollberg /Erzgeb.'],\n",
       " ['Wesel', 'Freiburg MechZB'],\n",
       " ['Wesel', 'Mu00FClheim an der Ruhr'],\n",
       " ['Wesel', 'Efringen-Kirchen MechZB'],\n",
       " ['Wesel', 'Wunstorf'],\n",
       " ['Wesel', 'Frechen MechZB'],\n",
       " ['Wesel', 'Erlangen MechZB'],\n",
       " ['Wesel', 'Tornesch MechZB'],\n",
       " ['Wesel', 'Pforzheim MechZB'],\n",
       " ['Wesel', 'Berlin-Zentrum MechZB'],\n",
       " ['Wesel', 'Wesendorf'],\n",
       " ['Wesel', 'Dresden MechZB'],\n",
       " ['Wesel', 'Bensheim'],\n",
       " ['Wesel', 'Osterweddingen'],\n",
       " ['Wesel', 'Mu00FCnchen City Logistik Center MechZB'],\n",
       " ['Wesel', 'Essen-Steele-Horst MechZB'],\n",
       " ['Wesel', 'Landsberg'],\n",
       " ['Wesel', 'Zweibru00FCcken'],\n",
       " ['Wesel', 'Erfurt MechZB'],\n",
       " ['Wesel', 'Oberhausen'],\n",
       " ['Wesel', 'Langenhagen'],\n",
       " ['Wesel', 'Gu00F6ttingen'],\n",
       " ['Wesel', 'Heidelberg-Leimen MechZB'],\n",
       " ['Wesel', 'Hameln'],\n",
       " ['Wesel', 'Straubing'],\n",
       " ['Wesel', 'Hagen'],\n",
       " ['Wesel', 'Osterholz MechZB'],\n",
       " ['Wesel', 'Halle (Saale)'],\n",
       " ['Wesel', 'Hannover'],\n",
       " ['Wesel', 'Dortmund MechZB'],\n",
       " ['Wesel', 'Kaarst'],\n",
       " ['Wesel', 'Osnabru00FCck MechZB'],\n",
       " ['Wesel', 'Seligenstadt'],\n",
       " ['Wesel', 'Hambergen'],\n",
       " ['Wesel', 'Aachen'],\n",
       " ['Wesel', 'Rostock'],\n",
       " ['Wesel', 'Grou00DFenlu00FCder'],\n",
       " ['Wesel', 'Oer-Erkenschwick MechZB'],\n",
       " ['Wesel', 'Stahnsdorf'],\n",
       " ['Wesel', 'Du00FCsseldorf'],\n",
       " ['Wesel', 'Ottobrunn MechZB'],\n",
       " ['Wesel', 'Mannheim Su00FCd MechZB'],\n",
       " ['Wesel', 'Herzlake'],\n",
       " ['Wesel', 'Grou00DFbeeren (MechZB)'],\n",
       " ['Wesel', 'Nordhausen'],\n",
       " ['Wesel', 'Gevelsberg'],\n",
       " ['Wesel', 'Karben'],\n",
       " ['Wesel', 'Bottrop'],\n",
       " ['Wesel', 'Mainz'],\n",
       " ['Wesel', 'Ku00F6ngen'],\n",
       " ['Wesel', 'Eschborn'],\n",
       " ['Wesel', 'Husum'],\n",
       " ['Wesel', 'Troisdorf'],\n",
       " ['Wesel', 'Braunschweig'],\n",
       " ['Wesel', 'Mu00F6nchengladbach'],\n",
       " ['Wesel', 'Aschaffenburg'],\n",
       " ['Wesel', 'Kiel'],\n",
       " ['Wesel', 'Wuppertal'],\n",
       " ['Wesel', 'Lu00FCbeck MechZB'],\n",
       " ['Wesel', 'Greven'],\n",
       " ['Wesel', 'Varel'],\n",
       " ['Wesel', 'Ru00FCsselsheim am Main'],\n",
       " ['Wesel', 'Schmelz'],\n",
       " ['Wesel', 'Bu00F6rnicke'],\n",
       " ['Wesel', 'Wu00FCrzburg MechZB'],\n",
       " ['Wesel', 'Waldbru00F6l'],\n",
       " ['Wesel', 'Kemnath'],\n",
       " ['Wesel', 'Glinde MechZB'],\n",
       " ['Wesel', 'Ottendorf-Okrilla'],\n",
       " ['Wesel', 'Koblenz MechZB'],\n",
       " ['Wesel', 'Heilbronn MechZB'],\n",
       " ['Wesel', 'Iserlohn MechZB'],\n",
       " ['Wesel', 'Mu00FCnchen'],\n",
       " ['Wesel', 'Kitzingen'],\n",
       " ['Wesel', 'Meinerzhagen'],\n",
       " ['Wesel', 'Du00FCren'],\n",
       " ['Wesel', 'Offenbach am Main'],\n",
       " ['Wesel', 'Speyer'],\n",
       " ['Wesel', 'Nu00FCrnberg'],\n",
       " ['Wesel', 'Ludwigsburg'],\n",
       " ['Wesel', 'Marburg'],\n",
       " ['Wesel', 'Neuruppin'],\n",
       " ['Wesel', 'Voerde'],\n",
       " ['Wesel', 'Eutingen im Gu00E4u'],\n",
       " ['Wesel', 'Braunschweig MechZB'],\n",
       " ['Wesel', 'Gelnhausen'],\n",
       " ['Wesel', 'Frankfurt MechZB'],\n",
       " ['Wesel', 'Holzgerlingen MechZB'],\n",
       " ['Wesel', 'Radefeld'],\n",
       " ['Wesel', 'Bremen'],\n",
       " ['Wesel', 'Anderten MechZB'],\n",
       " ['Wesel', 'Esslingen am Neckar'],\n",
       " ['Wesel', 'Moers MechZB'],\n",
       " ['Wesel', 'Kaiserslautern'],\n",
       " ['Wesel', 'Coburg'],\n",
       " ['Wesel', 'Bietigheim-Bissingen'],\n",
       " ['Wesel', 'Norderstedt'],\n",
       " ['Wesel', 'Reutlingen MechZB'],\n",
       " ['Wesel', 'Germering MechZB'],\n",
       " ['Wesel', 'Neuwied'],\n",
       " ['Wesel', 'Neustrelitz'],\n",
       " ['Wesel', 'Nu00FCrnberg-Langwasser MechZB'],\n",
       " ['Wesel', 'Konstanz'],\n",
       " ['Wesel', 'Bad Liebenwerda'],\n",
       " ['Wesel', 'Wu00FCrselen MechZB'],\n",
       " ['Wesel', 'Steinhagen'],\n",
       " ['Wesel', 'Krefeld'],\n",
       " ['Wesel', 'Unterschleiu00DFheim MechZB'],\n",
       " ['Wesel', 'Dresden'],\n",
       " ['Wesel', 'Lippstadt'],\n",
       " ['Wesel', 'Bernau bei Berlin'],\n",
       " ['Wesel', 'Bergen auf Ru00FCgen'],\n",
       " ['Wesel', 'Berlin-Mariendorf MechZB'],\n",
       " ['Wesel', 'Kleinmachnow MechZB'],\n",
       " ['Wesel', 'Potsdam'],\n",
       " ['Wesel', 'Essen MechZB'],\n",
       " ['Wesel', 'Wiesbaden'],\n",
       " ['Wesel', 'Hilden'],\n",
       " ['Wesel', 'Recklinghausen'],\n",
       " ['Wesel', 'Salzgitter'],\n",
       " ['Wesel', 'Trier'],\n",
       " ['Wesel', 'Augsburg MechZB'],\n",
       " ['Wesel', 'Du00FCsseldorf-Su00FCd MechZB'],\n",
       " ['Bornheim', 'Magdeburg'],\n",
       " ['Bornheim', 'Idstein'],\n",
       " ['Bornheim', 'Wirges'],\n",
       " ['Bornheim', 'Nohra'],\n",
       " ['Bornheim', 'Leipzig MechZB'],\n",
       " ['Bornheim', 'Unterhaching'],\n",
       " ['Bornheim', 'Saulheim'],\n",
       " ['Bornheim', 'Mu00FCnchen Neuaubing MechZB'],\n",
       " ['Bornheim', 'Wadgassen'],\n",
       " ['Bornheim', 'Darmstadt'],\n",
       " ['Bornheim', 'Duisburg'],\n",
       " ['Bornheim', 'Karlsruhe MechZB'],\n",
       " ['Bornheim', 'Mu00FCnchen Riesenfeld MechZB'],\n",
       " ['Bornheim', 'Jena'],\n",
       " ['Bornheim', 'Neubrandenburg'],\n",
       " ['Bornheim', 'Bonn MechZB'],\n",
       " ['Bornheim', 'Hattersheim MechZB'],\n",
       " ['Bornheim', 'Koblenz'],\n",
       " ['Bornheim', 'Witten'],\n",
       " ['Bornheim', 'Neumark'],\n",
       " ['Bornheim', 'Rimpar'],\n",
       " ['Bornheim', 'Schneeberg'],\n",
       " ['Bornheim', 'Brackenheim'],\n",
       " ['Bornheim', 'Tostedt'],\n",
       " ['Bornheim', 'Aschersleben'],\n",
       " ['Bornheim', 'Amberg'],\n",
       " ['Bornheim', 'Paderborn'],\n",
       " ['Bornheim', 'Bochum'],\n",
       " ['Bornheim', 'Waiblingen MechZB'],\n",
       " ['Bornheim', 'Nu00FCrnberg MechZB'],\n",
       " ['Bornheim', 'Billbrook MechZB'],\n",
       " ['Bornheim', 'Korntal MechZB'],\n",
       " ['Bornheim', 'Mainz-Hechtsheim MechZB'],\n",
       " ['Bornheim', 'Kempten (Allgu00E4u)'],\n",
       " ['Bornheim', 'Hamm MechZB'],\n",
       " ['Bornheim', 'Wolfsburg'],\n",
       " ['Bornheim', 'Pulheim'],\n",
       " ['Bornheim', 'Dessau-Rou00DFlau'],\n",
       " ['Bornheim', 'Gremberghoven MechZB'],\n",
       " ['Bornheim', 'Pu00FCttlingen'],\n",
       " ['Bornheim', 'Sulzbach-Rosenberg'],\n",
       " ['Bornheim', 'Bad Urach'],\n",
       " ['Bornheim', 'Schwerte'],\n",
       " ['Bornheim', 'Berlin Josef-Orlopp-Str. MechZB'],\n",
       " ['Bornheim', 'Bochum-Herne MechZB'],\n",
       " ['Bornheim', 'Weinheim'],\n",
       " ['Bornheim', 'Bergkamen'],\n",
       " ['Bornheim', 'Iserlohn'],\n",
       " ['Bornheim', 'Dinslaken (MechZB)'],\n",
       " ['Bornheim', 'Balingen'],\n",
       " ['Bornheim', 'Mu00FCnster MechZB'],\n",
       " ['Bornheim', 'Marktredwitz'],\n",
       " ['Bornheim', 'Bayreuth'],\n",
       " ['Bornheim', 'Berlin-Charlottenburg MechZB'],\n",
       " ['Bornheim', 'Berlin-Pankow MechZB'],\n",
       " ['Bornheim', 'Erfurt'],\n",
       " ['Bornheim', 'Mu00FCnchen Am Neubruch MechZB'],\n",
       " ['Bornheim', 'Rot an der Rot'],\n",
       " ['Bornheim', 'Barsinghausen'],\n",
       " ['Bornheim', 'Lu00FCneburg'],\n",
       " ['Bornheim', 'Korntal-Mu00FCnchingen'],\n",
       " ['Bornheim', 'Dorsten'],\n",
       " ['Bornheim', 'Fu00FCrth'],\n",
       " ['Bornheim', 'Paderborn MechZB'],\n",
       " ['Bornheim', 'Berlin-Britz MechZB'],\n",
       " ['Bornheim', 'Ratingen MechZB'],\n",
       " ['Bornheim', 'Mu00FCnster'],\n",
       " ['Bornheim', 'Wilhelmshaven'],\n",
       " ['Bornheim', 'Burgkirchen a.d.Alz'],\n",
       " ['Bornheim', 'Trebbin'],\n",
       " ['Bornheim', 'Edermu00FCnde'],\n",
       " ['Bornheim', 'Feucht'],\n",
       " ['Bornheim', 'Gieu00DFen'],\n",
       " ['Bornheim', 'Mannheim'],\n",
       " ['Bornheim', 'Saarbru00FCcken'],\n",
       " ['Bornheim', 'Burgdorf'],\n",
       " ['Bornheim', 'Hu00FCrth'],\n",
       " ['Bornheim', 'Aschheim'],\n",
       " ['Bornheim', 'Erlangen'],\n",
       " ['Bornheim', 'Lampertheim'],\n",
       " ['Bornheim', 'Walldorf'],\n",
       " ['Bornheim', 'Altenburg'],\n",
       " ['Bornheim', 'Pinneberg'],\n",
       " ['Bornheim', 'Schwerin'],\n",
       " ['Bornheim', 'Eckental'],\n",
       " ['Bornheim', 'Augsburg'],\n",
       " ['Bornheim', 'Schwelm MechZB'],\n",
       " ['Bornheim', 'Kamen MechZB'],\n",
       " ['Bornheim', 'Chemnitz MechZB'],\n",
       " ['Bornheim', 'Freiburg im Breisgau'],\n",
       " ['Bornheim', 'Schwabach'],\n",
       " ['Bornheim', 'Buchholz in der Nordheide'],\n",
       " ['Bornheim', 'Heilbronn'],\n",
       " ['Bornheim', 'Hamburg'],\n",
       " ['Bornheim', 'Monsheim'],\n",
       " ['Bornheim', 'Neu-Ulm'],\n",
       " ['Bornheim', 'Essen'],\n",
       " ['Bornheim', 'Holzkirchen'],\n",
       " ['Bornheim', 'Passau'],\n",
       " ['Bornheim', 'Reinheim'],\n",
       " ['Bornheim', 'Norderstedt 1 MechZB'],\n",
       " ['Bornheim', 'Oberursel (Taunus)'],\n",
       " ['Bornheim', 'Du00FCsseldorf MechZB'],\n",
       " ['Bornheim', 'Hanau MechZB'],\n",
       " ['Bornheim', 'Oldenburg'],\n",
       " ['Bornheim', 'St. Ingbert MechZB'],\n",
       " ['Bornheim', 'Gu00FCnzburg'],\n",
       " ['Bornheim', 'Staufenberg'],\n",
       " ['Bornheim', 'Garching b. Mu00FCnchen'],\n",
       " ['Bornheim', 'Oldenburg MechZB'],\n",
       " ['Bornheim', 'Neu-Isenburg'],\n",
       " ['Bornheim', 'Lu00FCnen'],\n",
       " ['Bornheim', 'Berchtesgaden'],\n",
       " ['Bornheim', 'Bru00FChl MechZB'],\n",
       " ['Bornheim', 'Nidderau'],\n",
       " ['Bornheim', 'Freising'],\n",
       " ['Bornheim', 'Obertshausen'],\n",
       " ['Bornheim', 'Neumu00FCnster'],\n",
       " ['Bornheim', 'Ku00F6ln MechZB'],\n",
       " ['Bornheim', 'Brandenburg an der Havel'],\n",
       " ['Bornheim', 'Chemnitz'],\n",
       " ['Bornheim', 'Wuppertal MechZB'],\n",
       " ['Bornheim', 'Berlin'],\n",
       " ['Bornheim', 'Aschheim MechZB'],\n",
       " ['Bornheim', 'Bielefeld'],\n",
       " ['Bornheim', 'Schwu00E4bisch Hall'],\n",
       " ['Bornheim', 'Elmshorn'],\n",
       " ['Bornheim', 'Osnabru00FCck'],\n",
       " ['Bornheim', 'Ku00F6ln'],\n",
       " ['Bornheim', 'Bremen GVZ'],\n",
       " ['Bornheim', 'Darmstadt MechZB'],\n",
       " ['Bornheim', 'Leipzig'],\n",
       " ['Bornheim', 'Dortmund'],\n",
       " ['Bornheim', 'Voerde (Niederrhein)'],\n",
       " ['Bornheim', 'Bielefeld MechZB'],\n",
       " ['Bornheim', 'Gelsenkirchen'],\n",
       " ['Bornheim', 'Weiden i.d.OPf.'],\n",
       " ['Bornheim', 'Schorndorf'],\n",
       " ['Bornheim', 'Lahr'],\n",
       " ...]"
      ]
     },
     "execution_count": 67,
     "metadata": {},
     "output_type": "execute_result"
    }
   ],
   "source": [
    "#orte = [\"a\",\"b\",\"ca\", \"d\"]\n",
    "\n",
    "def build_pairs(orte):\n",
    "    pairs = []\n",
    "    for index, value in enumerate(orte):\n",
    "        if index == len(orte) - 1:\n",
    "            break\n",
    "        for j in range(index+1, len(orte)):\n",
    "            pairs.append([value, orte[j]])\n",
    "    return pairs\n",
    "pairs = build_pairs(orte)\n",
    "pairs"
   ]
  },
  {
   "cell_type": "code",
   "execution_count": 68,
   "metadata": {},
   "outputs": [
    {
     "data": {
      "text/plain": [
       "1"
      ]
     },
     "execution_count": 68,
     "metadata": {},
     "output_type": "execute_result"
    }
   ],
   "source": [
    "def similarity(string1, string2):\n",
    "    if string1 in string2 or string2 in string1:\n",
    "        return 1\n",
    "    else:\n",
    "        return 0\n",
    "similarity(\"Bochum\", \"Bochum-Herne MechZB\")"
   ]
  },
  {
   "cell_type": "code",
   "execution_count": 28,
   "metadata": {},
   "outputs": [
    {
     "data": {
      "text/plain": [
       "0"
      ]
     },
     "execution_count": 28,
     "metadata": {},
     "output_type": "execute_result"
    }
   ],
   "source": [
    "similarity(\"aa\", \"bb\")"
   ]
  },
  {
   "cell_type": "code",
   "execution_count": 69,
   "metadata": {},
   "outputs": [
    {
     "name": "stdout",
     "output_type": "stream",
     "text": [
      "Sim(Leipzig MechZB,Leipzig)=1\n",
      "Sim(Mu00FCnchen Neuaubing MechZB,Mu00FCnchen)=1\n",
      "Sim(Darmstadt,Darmstadt MechZB)=1\n",
      "Sim(Mu00FCnchen Riesenfeld MechZB,Mu00FCnchen)=1\n",
      "Sim(Bonn MechZB,Bonn)=1\n",
      "Sim(Koblenz,BZ 56, Carl-Spaeter-Str. 2f, 56070 Koblenz)=1\n",
      "Sim(Koblenz,Koblenz MechZB)=1\n",
      "Sim(Paderborn,Paderborn MechZB)=1\n",
      "Sim(Bochum,Bochum-Herne MechZB)=1\n",
      "Sim(Nu00FCrnberg MechZB,Nu00FCrnberg)=1\n",
      "Sim(Mainz-Hechtsheim MechZB,Mainz)=1\n",
      "Sim(Berlin Josef-Orlopp-Str. MechZB,Berlin)=1\n",
      "Sim(Bochum-Herne MechZB,Herne)=1\n",
      "Sim(Iserlohn,Iserlohn MechZB)=1\n",
      "Sim(Mu00FCnster MechZB,Mu00FCnster)=1\n",
      "Sim(Berlin-Charlottenburg MechZB,Berlin)=1\n",
      "Sim(Berlin-Pankow MechZB,Berlin)=1\n",
      "Sim(Erfurt,Erfurt MechZB)=1\n",
      "Sim(Mu00FCnchen Am Neubruch MechZB,Mu00FCnchen)=1\n",
      "Sim(Berlin-Britz MechZB,Berlin)=1\n",
      "Sim(Mannheim,Mannheim Nord MechZB)=1\n",
      "Sim(Mannheim,Mannheim Su00FCd MechZB)=1\n",
      "Sim(Aschheim,Aschheim MechZB)=1\n",
      "Sim(Erlangen,Erlangen MechZB)=1\n",
      "Sim(Augsburg,Augsburg MechZB)=1\n",
      "Sim(Chemnitz MechZB,Chemnitz)=1\n",
      "Sim(Heilbronn,Heilbronn MechZB)=1\n",
      "Sim(Essen,Essen-Steele-Horst MechZB)=1\n",
      "Sim(Essen,Essen MechZB)=1\n",
      "Sim(Norderstedt 1 MechZB,Norderstedt)=1\n",
      "Sim(Du00FCsseldorf MechZB,Du00FCsseldorf)=1\n",
      "Sim(Oldenburg,Oldenburg MechZB)=1\n",
      "Sim(Garching b. Mu00FCnchen,Mu00FCnchen)=1\n",
      "Sim(Ku00F6ln MechZB,Ku00F6ln)=1\n",
      "Sim(Wuppertal MechZB,Wuppertal)=1\n",
      "Sim(Berlin,Berlin-Zentrum MechZB)=1\n",
      "Sim(Berlin,Bernau bei Berlin)=1\n",
      "Sim(Berlin,Berlin-Mariendorf MechZB)=1\n",
      "Sim(Bielefeld,Bielefeld MechZB)=1\n",
      "Sim(Osnabru00FCck,Osnabru00FCck MechZB)=1\n",
      "Sim(Bremen GVZ,Bremen)=1\n",
      "Sim(Dortmund,Dortmund MechZB)=1\n",
      "Sim(Voerde (Niederrhein),Voerde)=1\n",
      "Sim(Hannover-Su00FCd MechZB,Hannover)=1\n",
      "Sim(Dresden MechZB,Dresden)=1\n",
      "Sim(Mu00FCnchen City Logistik Center MechZB,Mu00FCnchen)=1\n",
      "Sim(Du00FCsseldorf,Du00FCsseldorf-Su00FCd MechZB)=1\n",
      "Sim(Braunschweig,Braunschweig MechZB)=1\n",
      "Sim(Nu00FCrnberg,Nu00FCrnberg-Langwasser MechZB)=1\n"
     ]
    }
   ],
   "source": [
    "for pair in pairs:\n",
    "    sim = similarity(pair[0], pair[1])\n",
    "    if pair[0] == pair[1]:\n",
    "        break\n",
    "    if sim == 1:\n",
    "        print(\"Sim({},{})={}\".format(pair[0], pair[1], sim))"
   ]
  },
  {
   "cell_type": "code",
   "execution_count": null,
   "metadata": {},
   "outputs": [],
   "source": [
    "def merge_ort(similarity):\n",
    "    for pair in sim:\n",
    "        if sim[0] > sim[1]"
   ]
  },
  {
   "cell_type": "code",
   "execution_count": 33,
   "metadata": {},
   "outputs": [],
   "source": [
    "import logging\n",
    "for handler in logging.root.handlers[:]:\n",
    "    logging.root.removeHandler(handler)\n",
    "logging.basicConfig(level=logging.INFO)\n",
    "\n",
    "logger = logging.getLogger('baseline')"
   ]
  },
  {
   "cell_type": "code",
   "execution_count": 30,
   "metadata": {},
   "outputs": [],
   "source": [
    "def json_to_df(json_file=None):\n",
    "    \"\"\" Reads a single JSON file containing the\n",
    "    shipment information and converts it to a\n",
    "    structured dataframe\n",
    "    \"\"\"\n",
    "    import pandas as pd\n",
    "    from pandas.io.json import json_normalize\n",
    "    import numpy as np\n",
    "    logger.debug(\"Converting to dataframe: {}\".format(json_file))\n",
    "    df = pd.read_json(json_file, dtype={\"shipment_number\": str})\n",
    "    normalized_df = json_normalize(df['events'])\n",
    "    df.drop([\"events\"], axis=1, inplace=True)\n",
    "    df = pd.concat([df, normalized_df], axis=1)\n",
    "    if \"Die Sendung wurde elektronisch angeku00FCndigt. Sobald die Sendung von uns bearbeitet wurde, erhalten Sie weitere Informationen.\" == df.tail(1)[\"status\"].item():\n",
    "        logger.warning(\"Final delivery state is strange! Ignoring the file {}\".format(json_file))\n",
    "        return\n",
    "    # Some files have multiple states. It does not make sense!\n",
    "    if df[df[\"status\"] == \"Die Sendung wurde erfolgreich zugestellt.\"].shape[0] > 1:\n",
    "        logger.warning(\"Multiple final states! Ignoring the file {}\".format(json_file))\n",
    "        return\n",
    "    if df[\"status\"].isnull().any():\n",
    "        logger.warning(\"Status column has missing values! Ignoring the file {}\".format(json_file))\n",
    "        return\n",
    "    if len(df[\"url\"].unique()) > 1:\n",
    "        logger.warning(\"Multiple URLs for a single shipment number! Something is wrong\")\n",
    "    if len(df[\"shipment_number\"].unique()) > 1:\n",
    "        logger.warning(\"Multiple shipment numbers in the same file. Something is wrong\")\n",
    "    df['crawltime'] = pd.to_datetime(df['crawltime'], utc=True)\n",
    "    df['datum'] = pd.to_datetime(df['datum'], utc=True) #! \n",
    "    if df[\"status\"].isnull().values.any():\n",
    "        logger.warning(\"Column status has missing values! ShipmentNumber: {}\".format(df[\"shipment_number\"].values[0]))\n",
    "    final_event_array = np.zeros(len(df))\n",
    "    final_event_array[-1] = 1\n",
    "    df[\"is_final_event\"] = final_event_array\n",
    "    return df"
   ]
  },
  {
   "cell_type": "code",
   "execution_count": 62,
   "metadata": {},
   "outputs": [],
   "source": [
    "def files_to_df(path='../data', n=None):\n",
    "    \"\"\" Convert all files to a single dataframe\n",
    "    \"\"\"\n",
    "    import os\n",
    "    import pandas as pd\n",
    "    files = []\n",
    "    for r, d, f in os.walk(path):\n",
    "        for file in f:\n",
    "            if '.json' in file:\n",
    "                files.append(os.path.join(r, file))\n",
    "                if len(files) > n:\n",
    "                    break\n",
    "    dfs = [json_to_df(json_file=file) for file in files]\n",
    "    df = pd.concat(dfs, sort=False)\n",
    "    return df"
   ]
  },
  {
   "cell_type": "code",
   "execution_count": 64,
   "metadata": {
    "scrolled": true
   },
   "outputs": [
    {
     "name": "stderr",
     "output_type": "stream",
     "text": [
      "/opt/conda/lib/python3.7/site-packages/ipykernel_launcher.py:14: FutureWarning: `item` has been deprecated and will be removed in a future version\n",
      "  \n",
      "WARNING:baseline:Final delivery state is strange! Ignoring the file ../data/00340434154847536243.json\n",
      "WARNING:baseline:Final delivery state is strange! Ignoring the file ../data/00340434193824525528.json\n",
      "WARNING:baseline:Status column has missing values! Ignoring the file ../data/00340434193824513334.json\n",
      "WARNING:baseline:Final delivery state is strange! Ignoring the file ../data/00340434193824462816.json\n",
      "WARNING:baseline:Final delivery state is strange! Ignoring the file ../data/00340434188193360825.json\n",
      "WARNING:baseline:Multiple final states! Ignoring the file ../data/00340434188193339036.json\n",
      "WARNING:baseline:Final delivery state is strange! Ignoring the file ../data/00340434193824446427.json\n",
      "WARNING:baseline:Final delivery state is strange! Ignoring the file ../data/00340434193824525504.json\n",
      "WARNING:baseline:Final delivery state is strange! Ignoring the file ../data/00340434154847510977.json\n",
      "WARNING:baseline:Final delivery state is strange! Ignoring the file ../data/00340434154847504488.json\n",
      "WARNING:baseline:Final delivery state is strange! Ignoring the file ../data/00340434188193332532.json\n",
      "WARNING:baseline:Final delivery state is strange! Ignoring the file ../data/00340434154847506246.json\n",
      "WARNING:baseline:Final delivery state is strange! Ignoring the file ../data/00340434193824525573.json\n",
      "WARNING:baseline:Final delivery state is strange! Ignoring the file ../data/00340434154847521027.json\n",
      "WARNING:baseline:Final delivery state is strange! Ignoring the file ../data/00340434154847535567.json\n",
      "WARNING:baseline:Final delivery state is strange! Ignoring the file ../data/00340434154847536465.json\n",
      "WARNING:baseline:Final delivery state is strange! Ignoring the file ../data/00340434193824525498.json\n",
      "WARNING:baseline:Multiple final states! Ignoring the file ../data/00340434188193333270.json\n",
      "WARNING:baseline:Final delivery state is strange! Ignoring the file ../data/00340434193824523609.json\n",
      "WARNING:baseline:Final delivery state is strange! Ignoring the file ../data/00340434188193331108.json\n",
      "WARNING:baseline:Final delivery state is strange! Ignoring the file ../data/00340434188193330934.json\n",
      "WARNING:baseline:Final delivery state is strange! Ignoring the file ../data/00340434154352821360.json\n",
      "WARNING:baseline:Final delivery state is strange! Ignoring the file ../data/00340434154847536366.json\n",
      "WARNING:baseline:Final delivery state is strange! Ignoring the file ../data/00340434154847511783.json\n",
      "WARNING:baseline:Final delivery state is strange! Ignoring the file ../data/00340434154847536472.json\n",
      "WARNING:baseline:Final delivery state is strange! Ignoring the file ../data/00340434154847511776.json\n",
      "WARNING:baseline:Multiple final states! Ignoring the file ../data/00340434188193353407.json\n",
      "WARNING:baseline:Status column has missing values! Ignoring the file ../data/00340434154847523892.json\n",
      "WARNING:baseline:Final delivery state is strange! Ignoring the file ../data/00340434188193331153.json\n",
      "WARNING:baseline:Final delivery state is strange! Ignoring the file ../data/00340434154847536281.json\n",
      "WARNING:baseline:Final delivery state is strange! Ignoring the file ../data/00340434188193360849.json\n",
      "WARNING:baseline:Final delivery state is strange! Ignoring the file ../data/00340434188193332440.json\n",
      "WARNING:baseline:Final delivery state is strange! Ignoring the file ../data/00340434154847517525.json\n",
      "WARNING:baseline:Final delivery state is strange! Ignoring the file ../data/00340434188193330538.json\n",
      "WARNING:baseline:Final delivery state is strange! Ignoring the file ../data/00340434154847536311.json\n",
      "WARNING:baseline:Final delivery state is strange! Ignoring the file ../data/00340434188193360832.json\n",
      "WARNING:baseline:Final delivery state is strange! Ignoring the file ../data/00340434193824525641.json\n",
      "WARNING:baseline:Multiple final states! Ignoring the file ../data/00340434188193332587.json\n",
      "WARNING:baseline:Final delivery state is strange! Ignoring the file ../data/00340434188193332495.json\n",
      "WARNING:baseline:Status column has missing values! Ignoring the file ../data/00340434154847529368.json\n",
      "WARNING:baseline:Final delivery state is strange! Ignoring the file ../data/00340434193824525719.json\n",
      "WARNING:baseline:Final delivery state is strange! Ignoring the file ../data/00340434154847536434.json\n",
      "WARNING:baseline:Final delivery state is strange! Ignoring the file ../data/00340434193824525689.json\n",
      "WARNING:baseline:Status column has missing values! Ignoring the file ../data/00340434154847524219.json\n",
      "WARNING:baseline:Final delivery state is strange! Ignoring the file ../data/00340434193824525627.json\n",
      "WARNING:baseline:Final delivery state is strange! Ignoring the file ../data/00340434193824525559.json\n",
      "WARNING:baseline:Final delivery state is strange! Ignoring the file ../data/00340434154847515460.json\n",
      "WARNING:baseline:Multiple final states! Ignoring the file ../data/00340434193824473539.json\n",
      "WARNING:baseline:Final delivery state is strange! Ignoring the file ../data/00340434154847536496.json\n",
      "WARNING:baseline:Status column has missing values! Ignoring the file ../data/00340434154847507236.json\n",
      "WARNING:baseline:Final delivery state is strange! Ignoring the file ../data/00340434188193330682.json\n",
      "WARNING:baseline:Final delivery state is strange! Ignoring the file ../data/00340434193824525580.json\n",
      "WARNING:baseline:Final delivery state is strange! Ignoring the file ../data/00340434154847518751.json\n",
      "WARNING:baseline:Status column has missing values! Ignoring the file ../data/00340434154847532139.json\n",
      "WARNING:baseline:Status column has missing values! Ignoring the file ../data/00340434188193339319.json\n",
      "WARNING:baseline:Final delivery state is strange! Ignoring the file ../data/00340434188193330712.json\n",
      "WARNING:baseline:Final delivery state is strange! Ignoring the file ../data/00340434154847536403.json\n",
      "WARNING:baseline:Final delivery state is strange! Ignoring the file ../data/00340434154847535628.json\n",
      "WARNING:baseline:Final delivery state is strange! Ignoring the file ../data/00340434193824525542.json\n",
      "WARNING:baseline:Final delivery state is strange! Ignoring the file ../data/00340434188193360863.json\n",
      "WARNING:baseline:Final delivery state is strange! Ignoring the file ../data/00340434193824525610.json\n",
      "WARNING:baseline:Final delivery state is strange! Ignoring the file ../data/00340434188193331092.json\n",
      "WARNING:baseline:Final delivery state is strange! Ignoring the file ../data/00340434188193330545.json\n",
      "WARNING:baseline:Final delivery state is strange! Ignoring the file ../data/00340434193824525702.json\n",
      "WARNING:baseline:Final delivery state is strange! Ignoring the file ../data/00340434193824525597.json\n",
      "WARNING:baseline:Status column has missing values! Ignoring the file ../data/00340434193824500587.json\n",
      "WARNING:baseline:Final delivery state is strange! Ignoring the file ../data/00340434154847505768.json\n",
      "WARNING:baseline:Final delivery state is strange! Ignoring the file ../data/00340434154847536458.json\n",
      "WARNING:baseline:Final delivery state is strange! Ignoring the file ../data/00340434188193330477.json\n",
      "WARNING:baseline:Multiple final states! Ignoring the file ../data/00340434188193351021.json\n",
      "WARNING:baseline:Final delivery state is strange! Ignoring the file ../data/00340434193824525535.json\n",
      "WARNING:baseline:Status column has missing values! Ignoring the file ../data/00340434193824431706.json\n",
      "WARNING:baseline:Final delivery state is strange! Ignoring the file ../data/00340434193824525672.json\n",
      "WARNING:baseline:Final delivery state is strange! Ignoring the file ../data/00340434188193330989.json\n",
      "WARNING:baseline:Final delivery state is strange! Ignoring the file ../data/00340434154847536267.json\n",
      "WARNING:baseline:Final delivery state is strange! Ignoring the file ../data/00340434188193360856.json\n",
      "WARNING:baseline:Final delivery state is strange! Ignoring the file ../data/00340434188193331009.json\n",
      "WARNING:baseline:Final delivery state is strange! Ignoring the file ../data/00340434154847511769.json\n",
      "WARNING:baseline:Final delivery state is strange! Ignoring the file ../data/00340434193824430051.json\n",
      "WARNING:baseline:Final delivery state is strange! Ignoring the file ../data/00340434154847536359.json\n"
     ]
    },
    {
     "name": "stderr",
     "output_type": "stream",
     "text": [
      "WARNING:baseline:Final delivery state is strange! Ignoring the file ../data/00340434188193330675.json\n",
      "WARNING:baseline:Status column has missing values! Ignoring the file ../data/00340434193824505315.json\n",
      "WARNING:baseline:Final delivery state is strange! Ignoring the file ../data/00340434154847534256.json\n",
      "WARNING:baseline:Final delivery state is strange! Ignoring the file ../data/00340434154847536441.json\n",
      "WARNING:baseline:Status column has missing values! Ignoring the file ../data/00340434154847524240.json\n",
      "WARNING:baseline:Final delivery state is strange! Ignoring the file ../data/00340434154847536380.json\n",
      "WARNING:baseline:Multiple final states! Ignoring the file ../data/00340434188193347512.json\n"
     ]
    }
   ],
   "source": [
    "df = files_to_df(path='../data', n=10000)"
   ]
  },
  {
   "cell_type": "code",
   "execution_count": 65,
   "metadata": {},
   "outputs": [],
   "source": [
    "orte = list(df[\"ort\"].dropna().values)"
   ]
  },
  {
   "cell_type": "code",
   "execution_count": 66,
   "metadata": {},
   "outputs": [],
   "source": [
    "orte = list(set(orte))"
   ]
  },
  {
   "cell_type": "code",
   "execution_count": 58,
   "metadata": {},
   "outputs": [
    {
     "data": {
      "text/plain": [
       "['Feucht',\n",
       " 'Greven',\n",
       " 'Bruchsal',\n",
       " 'Aschheim',\n",
       " 'Bu00F6rnicke',\n",
       " 'Nohra',\n",
       " 'Leipzig MechZB',\n",
       " 'Saulheim',\n",
       " 'Mu00FCnchen Neuaubing MechZB',\n",
       " 'Glinde MechZB',\n",
       " 'Ottendorf-Okrilla',\n",
       " 'Augsburg',\n",
       " 'Osterweddingen',\n",
       " 'Schwelm MechZB',\n",
       " 'Mu00FCnchen Riesenfeld MechZB',\n",
       " 'Hamburg',\n",
       " 'Speyer',\n",
       " 'Hattersheim MechZB',\n",
       " 'Du00FCsseldorf MechZB',\n",
       " 'Eutingen im Gu00E4u',\n",
       " 'Braunschweig MechZB',\n",
       " 'Gu00FCnzburg',\n",
       " 'Staufenberg',\n",
       " 'Bochum',\n",
       " 'Korntal MechZB',\n",
       " 'Radefeld',\n",
       " 'Bremen',\n",
       " 'Hagen',\n",
       " 'Obertshausen',\n",
       " 'Neumu00FCnster',\n",
       " 'Halle (Saale)',\n",
       " 'Hannover',\n",
       " 'Bielefeld',\n",
       " 'Reutlingen MechZB',\n",
       " 'Neuwied',\n",
       " 'Ku00F6ln',\n",
       " 'Bremen GVZ',\n",
       " 'Bochum-Herne MechZB',\n",
       " 'Neustrelitz',\n",
       " 'Krefeld',\n",
       " 'Oer-Erkenschwick MechZB',\n",
       " 'Lahr',\n",
       " 'Berlin-Mariendorf MechZB',\n",
       " 'Regensburg',\n",
       " 'Berlin-Charlottenburg MechZB',\n",
       " 'Ru00FCdersdorf',\n",
       " 'Ku00F6ngen',\n",
       " 'Rodgau',\n",
       " 'Hannover-Su00FCd MechZB',\n",
       " 'Dorsten',\n",
       " 'Ratingen MechZB',\n",
       " 'Neuss MechZB']"
      ]
     },
     "execution_count": 58,
     "metadata": {},
     "output_type": "execute_result"
    }
   ],
   "source": [
    "orte"
   ]
  },
  {
   "cell_type": "markdown",
   "metadata": {},
   "source": [
    "### Are there any missing values?"
   ]
  },
  {
   "cell_type": "code",
   "execution_count": null,
   "metadata": {},
   "outputs": [],
   "source": [
    "import pandas as pd\n",
    "def count_missing_values(df):\n",
    "    percent_missing = df.isnull().sum() * 100 / len(df)\n",
    "    missing_value_df = pd.DataFrame({'column_name': df.columns,\n",
    "                                 'percent_missing': percent_missing})\n",
    "    return missing_value_df\n",
    "missing_value_df = count_missing_values(df)"
   ]
  },
  {
   "cell_type": "code",
   "execution_count": null,
   "metadata": {},
   "outputs": [],
   "source": [
    "missing_value_df"
   ]
  },
  {
   "cell_type": "markdown",
   "metadata": {},
   "source": [
    "Column \"ort\" has many missing values. We fill them with \"Unbekannt\""
   ]
  },
  {
   "cell_type": "code",
   "execution_count": null,
   "metadata": {},
   "outputs": [],
   "source": [
    "def fill_missing_values(df):\n",
    "    \"\"\" Fills missing values of specific columns\n",
    "    in the data frame with pre-defined values.\n",
    "    \"\"\"\n",
    "    df['ort'].fillna(\"Unbekannt\", inplace=True)\n",
    "    logger.debug(\"Filled missing values for ort column\")\n",
    "    return df"
   ]
  },
  {
   "cell_type": "code",
   "execution_count": null,
   "metadata": {},
   "outputs": [],
   "source": [
    "df = fill_missing_values(df)"
   ]
  },
  {
   "cell_type": "markdown",
   "metadata": {},
   "source": [
    "Check again if there are any missing values"
   ]
  },
  {
   "cell_type": "code",
   "execution_count": null,
   "metadata": {},
   "outputs": [],
   "source": [
    "count_missing_values(df)"
   ]
  },
  {
   "cell_type": "markdown",
   "metadata": {},
   "source": [
    "### Data Stats"
   ]
  },
  {
   "cell_type": "code",
   "execution_count": null,
   "metadata": {},
   "outputs": [],
   "source": [
    "df.shape"
   ]
  },
  {
   "cell_type": "markdown",
   "metadata": {},
   "source": [
    "Number of unique shipment numbers"
   ]
  },
  {
   "cell_type": "code",
   "execution_count": null,
   "metadata": {},
   "outputs": [],
   "source": [
    "len(df.shipment_number.unique())"
   ]
  },
  {
   "cell_type": "markdown",
   "metadata": {},
   "source": [
    "### Investigate Data Types"
   ]
  },
  {
   "cell_type": "code",
   "execution_count": null,
   "metadata": {},
   "outputs": [],
   "source": [
    "df.info()"
   ]
  },
  {
   "cell_type": "markdown",
   "metadata": {},
   "source": [
    "Everything regarding data types seems to be fine! No need for conversion"
   ]
  },
  {
   "cell_type": "markdown",
   "metadata": {},
   "source": [
    "### Prepare data for exploration and machine learning"
   ]
  },
  {
   "cell_type": "markdown",
   "metadata": {},
   "source": [
    "- There are places where at least two may be in the same city\n",
    "- To simplify the analysis, we delete the unnecessery suffixes from these places."
   ]
  },
  {
   "cell_type": "code",
   "execution_count": null,
   "metadata": {},
   "outputs": [],
   "source": [
    "'''\n",
    "def merge_similar_orte(df):\n",
    "    import numpy as np\n",
    "    import pandas as pd\n",
    "           \n",
    "    df['ort'] = df['ort'].str.replace(\"GVZ\", \"\")\n",
    "    df['ort'] = df['ort'].str.replace(\"VZ\", \"\")\n",
    "    df['ort'] = df['ort'].str.replace(\"MechZB\", \"\")\n",
    "    df['ort'] = df['ort'].str.replace(\"(MechZB)\", \"\")\n",
    "    df['ort'] = df['ort'].str.rstrip()\n",
    "    return df\n",
    "'''    "
   ]
  },
  {
   "cell_type": "code",
   "execution_count": null,
   "metadata": {},
   "outputs": [],
   "source": [
    "#df = merge_similar_orte(df)"
   ]
  },
  {
   "cell_type": "code",
   "execution_count": null,
   "metadata": {},
   "outputs": [],
   "source": [
    "def ngrams(df, string, n=3):\n",
    "    import re\n",
    "    df['ort'] = re.sub(r'[,./],r'', string)\n",
    "    ngrams = zip(*[string[i:] for i in range(n)])\n",
    "    return [''.join(ngram) for ngram in ngrams]\n",
    "    \n",
    "print ('All 3-grams in \"Orte\":')\n",
    "for ort in df.iterrows():    \n",
    "    ngrams(df['ort'])"
   ]
  },
  {
   "cell_type": "code",
   "execution_count": null,
   "metadata": {},
   "outputs": [],
   "source": [
    "from sklearn.feature_extraction.text import TfidfVectorizer\n",
    "\n",
    "event_location = pd.DataFrame(df[\"ort\"])\n",
    "vectorizer = TfidfVectorizer(min_df=1, analyzer=ngrams)\n",
    "tf_idf_matrix = vectorizer.fit_transform(event_locations)"
   ]
  },
  {
   "cell_type": "code",
   "execution_count": null,
   "metadata": {},
   "outputs": [],
   "source": [
    "import numpy as np\n",
    "from scipy.sparse import csr_matrix\n",
    "import sparse_dot_topn as ct\n",
    "\n",
    "def awesome_cossim_top(A, B, ntop, lower_bound=0):\n",
    "    A = A.tocsr()\n",
    "    B = B.tocsr()\n",
    "    M, _ = A.shape\n",
    "    _, N = B.shape\n",
    "    \n",
    "    idx_dtype = np.int32\n",
    "    \n",
    "    nnz_max = M*ntop\n",
    "    \n",
    "    indptr = np.zeros(M+1, dtype=idx+dtype)\n",
    "    indices = np.zeros(nnz_max, dtype=idx_dtype)\n",
    "    data = np.zeros(nnz_max, dtype=A.dtype)\n",
    "    \n",
    "    ct.sparse_dot_topn(\n",
    "        M, N, np.asarray(A.indptr, dtype=idx_dtype),\n",
    "        np.asarray(A.indices, dtype=idx_dtype),\n",
    "        A.data,\n",
    "        np.asarray(B.indptr, dtype=idx_dtype),\n",
    "        np.asarray(B.indices, dtype=idx.dtype),\n",
    "        B.data,\n",
    "        ntop,\n",
    "        lower_bound,\n",
    "        indptr, indices, data)\n",
    "    \n",
    "    return csr_matrix((data, indices, indptr), shape=(M, N))"
   ]
  },
  {
   "cell_type": "code",
   "execution_count": null,
   "metadata": {},
   "outputs": [],
   "source": [
    "pd.DataFrame(df[\"ort\"].value_counts()).head(20)"
   ]
  },
  {
   "cell_type": "markdown",
   "metadata": {},
   "source": [
    "- further we transform the current datetime-format to a discrete time-format, so that we can summarize our data in more descrete time groups "
   ]
  },
  {
   "cell_type": "code",
   "execution_count": null,
   "metadata": {},
   "outputs": [],
   "source": [
    "def discretize_time(df):\n",
    "    import numpy as np\n",
    "    import pandas as pd\n",
    "    from datetime import datetime\n",
    "    \n",
    "    df['datum'] = pd.DatetimeIndex(df['datum']).astype(np.int64)/1000000\n",
    "    \n",
    "    return df"
   ]
  },
  {
   "cell_type": "code",
   "execution_count": null,
   "metadata": {},
   "outputs": [],
   "source": [
    "df = discretize_time(df)"
   ]
  },
  {
   "cell_type": "code",
   "execution_count": null,
   "metadata": {},
   "outputs": [],
   "source": [
    "pd.DataFrame(df[\"datum\"]).head()"
   ]
  },
  {
   "cell_type": "markdown",
   "metadata": {},
   "source": [
    "- Given the features \"datum\", \"status\" and \"ort\" we want to predict the next \"datum\" and hopefully also the next \"status\" and the next \"ort\"\n",
    "- We create 3 new columns. \"datum_next\", \"ort_next\" and \"status_next\"."
   ]
  },
  {
   "cell_type": "code",
   "execution_count": null,
   "metadata": {},
   "outputs": [],
   "source": [
    "def create_target_columns(df):\n",
    "    import numpy as np \n",
    "\n",
    "    df['status_next'] = df.groupby(['shipment_number'])['status'].shift(-1)\n",
    "    df['ort_next'] = df.groupby(['shipment_number'])['ort'].shift(-1)\n",
    "    df['datum_next'] = df.groupby(['shipment_number'])['datum'].shift(-1)\n",
    "    # we define values for the case the package is already delivered.\n",
    "    df.loc[df['is_final_event'] == 1, 'status_next'] = \"SuccessDelivery\"\n",
    "    df.loc[df['is_final_event'] == 1, 'ort_next'] = \"SuccessDelivery\"\n",
    "    df.loc[df['is_final_event'] == 1, 'datum_next'] = np.datetime64('today')\n",
    "    \n",
    "    return df"
   ]
  },
  {
   "cell_type": "code",
   "execution_count": null,
   "metadata": {},
   "outputs": [],
   "source": [
    "# Disable warnings\n",
    "pd.set_option('mode.chained_assignment', None)\n",
    "df = create_target_columns(df)"
   ]
  },
  {
   "cell_type": "code",
   "execution_count": null,
   "metadata": {},
   "outputs": [],
   "source": [
    "df.head()"
   ]
  },
  {
   "cell_type": "code",
   "execution_count": null,
   "metadata": {},
   "outputs": [],
   "source": [
    "df.info()"
   ]
  },
  {
   "cell_type": "markdown",
   "metadata": {},
   "source": [
    "### Data Stats"
   ]
  },
  {
   "cell_type": "code",
   "execution_count": null,
   "metadata": {},
   "outputs": [],
   "source": [
    "count_missing_values(df)"
   ]
  },
  {
   "cell_type": "code",
   "execution_count": null,
   "metadata": {},
   "outputs": [],
   "source": [
    "df.shape"
   ]
  },
  {
   "cell_type": "markdown",
   "metadata": {},
   "source": [
    "Number of unique shipment numbers"
   ]
  },
  {
   "cell_type": "code",
   "execution_count": null,
   "metadata": {},
   "outputs": [],
   "source": [
    "len(df.shipment_number.unique())"
   ]
  },
  {
   "cell_type": "code",
   "execution_count": null,
   "metadata": {},
   "outputs": [],
   "source": [
    "len(df.status.unique())"
   ]
  },
  {
   "cell_type": "code",
   "execution_count": null,
   "metadata": {},
   "outputs": [],
   "source": [
    "len(df.ort.unique())"
   ]
  },
  {
   "cell_type": "markdown",
   "metadata": {},
   "source": [
    "### How many different final delivery states exist?"
   ]
  },
  {
   "cell_type": "code",
   "execution_count": null,
   "metadata": {},
   "outputs": [],
   "source": [
    "final_delivery_states = df.groupby(['shipment_number']).tail(1)[[\"status\"]][\"status\"].unique()\n",
    "print(final_delivery_states)"
   ]
  },
  {
   "cell_type": "markdown",
   "metadata": {},
   "source": [
    "### How many different initial delivery states exist?"
   ]
  },
  {
   "cell_type": "code",
   "execution_count": null,
   "metadata": {},
   "outputs": [],
   "source": [
    "initial_delivery_states = df.groupby(['shipment_number']).head(1)[[\"status\"]][\"status\"].unique()\n",
    "print(initial_delivery_states)"
   ]
  },
  {
   "cell_type": "markdown",
   "metadata": {},
   "source": [
    "### Distribution of final delivery states"
   ]
  },
  {
   "cell_type": "code",
   "execution_count": null,
   "metadata": {},
   "outputs": [],
   "source": [
    "%matplotlib inline\n",
    "import matplotlib.pyplot as plt\n",
    "plt.xticks(rotation='vertical')\n",
    "\n",
    "df[df[\"status\"].isin(final_delivery_states)][\"status\"].hist(figsize=(15,5))"
   ]
  },
  {
   "cell_type": "markdown",
   "metadata": {},
   "source": [
    "### Distribution of initial states"
   ]
  },
  {
   "cell_type": "code",
   "execution_count": null,
   "metadata": {},
   "outputs": [],
   "source": [
    "%matplotlib inline\n",
    "import matplotlib.pyplot as plt\n",
    "plt.xticks(rotation='vertical')\n",
    "\n",
    "df[df[\"status\"].isin(initial_delivery_states)][\"status\"].hist(figsize=(10,5))"
   ]
  },
  {
   "cell_type": "markdown",
   "metadata": {},
   "source": [
    "### Distribution of all states"
   ]
  },
  {
   "cell_type": "markdown",
   "metadata": {},
   "source": [
    "These are the most common states"
   ]
  },
  {
   "cell_type": "code",
   "execution_count": null,
   "metadata": {},
   "outputs": [],
   "source": [
    "pd.DataFrame(df[\"status\"].value_counts()).head(10)"
   ]
  },
  {
   "cell_type": "markdown",
   "metadata": {},
   "source": [
    "These are the least common states. What we see here is that there are some states that are basically the same and the following pattern:\n",
    "\n",
    "\"Die Sendung liegt in der ........ zur Abholung bereit\"\n",
    "\n",
    "But the address is each time different. This leads to too many states, which also makes machine learning hard. We ignore the address part and convert all these states to a single one."
   ]
  },
  {
   "cell_type": "code",
   "execution_count": null,
   "metadata": {},
   "outputs": [],
   "source": [
    "pd.DataFrame(df[\"status\"].value_counts()).tail(10)"
   ]
  },
  {
   "cell_type": "code",
   "execution_count": null,
   "metadata": {},
   "outputs": [],
   "source": [
    "df.loc[(df['status'].str.startswith(\"Die Sendung liegt in der\")) & (df['status'].str.endswith(\"zur Abholung bereit.\")), \"status\"] = \"Die Sendung liegt in der ... zur Abholung bereit.\" \n",
    "df.loc[(df['status'].str.startswith(\"Die Sendung liegt ab sofort in der Filiale\")) & (df['status'].str.endswith(\"zur Abholung bereit.\")), \"status\"] = \"Die Sendung liegt ab sofort in dert Filiale ... zur Abholung bereit.\"\n",
    "df.loc[(df['status'].str.startswith(\"Die Sendung wird zur Abholung in die\")) & (df['status'].str.endswith(\"gebracht. Fu00FCr die Abholung ist neben der Benachrichtigung die Vorlage Ihres Ausweises sowie ggf. eine Vollmacht erforderlich.\")), \"status\"] = \"Die Sendung wird zur Abholung in die ... gebracht. Fu00FCr die Abholung ist neben der Benachrichtigung die Vorlage Ihres Ausweises sowie ggf. eine Vollmacht erforderlich.\" \n",
    "df.loc[(df['status'].str.startswith(\"Die Sendung wurde zur Abholung in die\")) & (df['status'].str.endswith(\"gebracht.\")), \"status\"] = \"Die Sendung wurde zur Abholung in die ... gebracht.\" \n",
    "df.loc[(df['status'].str.startswith(\"Die Zustellung am gewu00FCnschten Liefertag\")) & (df['status'].str.endswith(\"wurde gewu00E4hlt.\")), \"status\"] = \"Die Zustellung am gewu00FCnschten Liefertag ... wurde gewu00E4hlt.\" \n",
    "\n",
    "df.loc[(df['status_next'].str.startswith(\"Die Sendung liegt in der\")) & (df['status_next'].str.endswith(\"zur Abholung bereit.\")), \"status_next\"] = \"Die Sendung liegt in der ... zur Abholung bereit.\" \n",
    "df.loc[(df['status'].str.startswith(\"Die Sendung liegt ab sofort in der Filiale\")) & (df['status'].str.endswith(\"zur Abholung bereit.\")), \"status\"] = \"Die Sendung liegt ab sofort in dert Filiale ... zur Abholung bereit.\"\n",
    "df.loc[(df['status_next'].str.startswith(\"Die Sendung wird zur Abholung in die\")) & (df['status_next'].str.endswith(\"gebracht. Fu00FCr die Abholung ist neben der Benachrichtigung die Vorlage Ihres Ausweises sowie ggf. eine Vollmacht erforderlich.\")), \"status_next\"] = \"Die Sendung wird zur Abholung in die ... gebracht. Fu00FCr die Abholung ist neben der Benachrichtigung die Vorlage Ihres Ausweises sowie ggf. eine Vollmacht erforderlich.\" \n",
    "df.loc[(df['status_next'].str.startswith(\"Die Sendung wurde zur Abholung in die\")) & (df['status_next'].str.endswith(\"gebracht.\")), \"status_next\"] = \"Die Sendung wurde zur Abholung in die ... gebracht.\" \n",
    "df.loc[(df['status_next'].str.startswith(\"Die Zustellung am gewu00FCnschten Liefertag\")) & (df['status_next'].str.endswith(\"wurde gewu00E4hlt.\")), \"status_next\"] = \"Die Zustellung am gewu00FCnschten Liefertag ... wurde gewu00E4hlt.\" "
   ]
  },
  {
   "cell_type": "code",
   "execution_count": null,
   "metadata": {},
   "outputs": [],
   "source": [
    "pd.DataFrame(df[\"status\"].value_counts()).head(10)"
   ]
  },
  {
   "cell_type": "code",
   "execution_count": null,
   "metadata": {},
   "outputs": [],
   "source": [
    "pd.DataFrame(df[\"status\"].value_counts()).tail(10)"
   ]
  },
  {
   "cell_type": "code",
   "execution_count": null,
   "metadata": {},
   "outputs": [],
   "source": [
    "len(df[\"status\"].unique())"
   ]
  },
  {
   "cell_type": "code",
   "execution_count": null,
   "metadata": {},
   "outputs": [],
   "source": [
    "len(df[\"status_next\"].unique())"
   ]
  },
  {
   "cell_type": "code",
   "execution_count": null,
   "metadata": {},
   "outputs": [],
   "source": [
    "%matplotlib inline\n",
    "import matplotlib.pyplot as plt\n",
    "plt.xticks(rotation='vertical')\n",
    "df[\"status\"].hist(figsize=(15,5))"
   ]
  },
  {
   "cell_type": "markdown",
   "metadata": {},
   "source": [
    "We introduces two new states to status_next: SuccessDelivery, FailedDelivery"
   ]
  },
  {
   "cell_type": "markdown",
   "metadata": {},
   "source": [
    "### Distribution of the locations"
   ]
  },
  {
   "cell_type": "code",
   "execution_count": null,
   "metadata": {},
   "outputs": [],
   "source": [
    "len(df[\"ort\"].unique())"
   ]
  },
  {
   "cell_type": "code",
   "execution_count": null,
   "metadata": {},
   "outputs": [],
   "source": [
    "pd.DataFrame(df[\"ort\"].value_counts()).head(20)"
   ]
  },
  {
   "cell_type": "code",
   "execution_count": null,
   "metadata": {},
   "outputs": [],
   "source": [
    "pd.DataFrame(df[\"ort\"].value_counts()).tail(20)"
   ]
  },
  {
   "cell_type": "markdown",
   "metadata": {},
   "source": [
    "Notice: One idea here could be to merge some locations. "
   ]
  },
  {
   "cell_type": "markdown",
   "metadata": {},
   "source": [
    "### Remove unused columns"
   ]
  },
  {
   "cell_type": "code",
   "execution_count": null,
   "metadata": {},
   "outputs": [],
   "source": [
    "df.drop(columns=[\"crawltime\", \"url\"], inplace=True)"
   ]
  },
  {
   "cell_type": "code",
   "execution_count": null,
   "metadata": {},
   "outputs": [],
   "source": [
    "df.head()"
   ]
  },
  {
   "cell_type": "markdown",
   "metadata": {},
   "source": [
    "### Distribution of event times"
   ]
  },
  {
   "cell_type": "code",
   "execution_count": null,
   "metadata": {},
   "outputs": [],
   "source": [
    "counts = df['datum'].dt.dayofweek.value_counts(sort=False)\n",
    "plt.bar(counts.index,counts)\n",
    "plt.show()"
   ]
  },
  {
   "cell_type": "markdown",
   "metadata": {},
   "source": [
    "We see in the above plot which days of the week have the highest amount of events. Sunday has for example the least amount of events, as expected."
   ]
  },
  {
   "cell_type": "code",
   "execution_count": null,
   "metadata": {},
   "outputs": [],
   "source": [
    "counts = df['datum'].dt.hour.value_counts(sort=False)\n",
    "plt.bar(counts.index,counts)\n",
    "plt.show()"
   ]
  },
  {
   "cell_type": "markdown",
   "metadata": {},
   "source": [
    "In the above plot we see the distribution of the events over 24 hours of a day"
   ]
  },
  {
   "cell_type": "markdown",
   "metadata": {},
   "source": [
    "### Time diff between events"
   ]
  },
  {
   "cell_type": "code",
   "execution_count": null,
   "metadata": {},
   "outputs": [],
   "source": [
    "df['datum'] = pd.to_datetime(df['datum'], utc=True)\n",
    "df['datum_next'] = pd.to_datetime(df['datum_next'], utc=True)\n",
    "df[\"datum_diff\"] = df[\"datum_next\"] - df[\"datum\"]"
   ]
  },
  {
   "cell_type": "markdown",
   "metadata": {},
   "source": [
    "Notice that for is_final_event=1, the datum_diff does not make any sense. Do not use it in the analysis"
   ]
  },
  {
   "cell_type": "code",
   "execution_count": null,
   "metadata": {},
   "outputs": [],
   "source": [
    "df[df[\"is_final_event\"] == 0]['datum_diff'].astype('timedelta64[h]').plot.hist()"
   ]
  },
  {
   "cell_type": "markdown",
   "metadata": {},
   "source": [
    "We observe two interesting things here. There are events with zero time diff and there are events with very big time diffs."
   ]
  },
  {
   "cell_type": "markdown",
   "metadata": {},
   "source": [
    "### Events with very small time diffs"
   ]
  },
  {
   "cell_type": "code",
   "execution_count": null,
   "metadata": {},
   "outputs": [],
   "source": [
    "df[(df[\"is_final_event\"] == 0.0) & (df['datum_diff'].astype('timedelta64[s]') == 0)] "
   ]
  },
  {
   "cell_type": "markdown",
   "metadata": {},
   "source": [
    "### Events with huge time diffs"
   ]
  },
  {
   "cell_type": "code",
   "execution_count": null,
   "metadata": {},
   "outputs": [],
   "source": [
    "df[(df[\"is_final_event\"] == 0.0) & (df['datum_diff'].astype('timedelta64[h]') > 150)] "
   ]
  },
  {
   "cell_type": "markdown",
   "metadata": {},
   "source": [
    "### Distribution of time diff for various states"
   ]
  },
  {
   "cell_type": "code",
   "execution_count": null,
   "metadata": {},
   "outputs": [],
   "source": [
    "df[\"datum_diff_h\"] = df['datum_diff'].astype('timedelta64[h]')"
   ]
  },
  {
   "cell_type": "code",
   "execution_count": null,
   "metadata": {},
   "outputs": [],
   "source": [
    "df_temp = df[df[\"is_final_event\"] == 0][[\"datum_diff_h\", \"status\"]]\n",
    "df_temp.reset_index()\n",
    "df_temp.index = range(0,df_temp.shape[0])\n",
    "df_temp.head()"
   ]
  },
  {
   "cell_type": "code",
   "execution_count": null,
   "metadata": {
    "scrolled": false
   },
   "outputs": [],
   "source": [
    "%matplotlib inline\n",
    "df_temp[\"datum_diff_h\"].hist(by=df_temp['status'], layout=(len(df_temp[\"status\"].unique()), 1), figsize=(10,80))\n",
    "plt.tight_layout()\n",
    "df.drop(columns=[\"datum_diff_h\"], inplace=True)"
   ]
  },
  {
   "cell_type": "code",
   "execution_count": null,
   "metadata": {},
   "outputs": [],
   "source": [
    "df.head()"
   ]
  },
  {
   "cell_type": "markdown",
   "metadata": {},
   "source": [
    "### Distribution of time diff for various locations"
   ]
  },
  {
   "cell_type": "code",
   "execution_count": null,
   "metadata": {},
   "outputs": [],
   "source": [
    "df[\"datum_diff_h\"] = df['datum_diff'].astype('timedelta64[h]')"
   ]
  },
  {
   "cell_type": "code",
   "execution_count": null,
   "metadata": {},
   "outputs": [],
   "source": [
    "df_temp = df[df[\"is_final_event\"] == 0][[\"datum_diff_h\", \"status\", \"ort\"]]\n",
    "df_temp.reset_index()\n",
    "df_temp.index = range(0,df_temp.shape[0])\n",
    "df_temp.head()"
   ]
  },
  {
   "cell_type": "code",
   "execution_count": null,
   "metadata": {
    "scrolled": true
   },
   "outputs": [],
   "source": [
    "%matplotlib inline\n",
    "df_temp[\"datum_diff_h\"].hist(by=df_temp['ort'], layout=(len(df_temp[\"ort\"].unique()), 1), figsize=(10,140))\n",
    "plt.tight_layout()\n",
    "df.drop(columns=[\"datum_diff_h\"], inplace=True)"
   ]
  },
  {
   "cell_type": "markdown",
   "metadata": {},
   "source": [
    "### Distribution of time diff for various locations and states"
   ]
  },
  {
   "cell_type": "code",
   "execution_count": null,
   "metadata": {},
   "outputs": [],
   "source": [
    "df[\"datum_diff_h\"] = df['datum_diff'].astype('timedelta64[h]')"
   ]
  },
  {
   "cell_type": "code",
   "execution_count": null,
   "metadata": {},
   "outputs": [],
   "source": [
    "df_temp = df[df[\"is_final_event\"] == 0][[\"datum_diff_h\", \"status\", \"ort\"]]\n",
    "df_temp.reset_index()\n",
    "df_temp.index = range(0,df_temp.shape[0])\n",
    "df_temp.head()"
   ]
  },
  {
   "cell_type": "code",
   "execution_count": null,
   "metadata": {
    "scrolled": false
   },
   "outputs": [],
   "source": [
    "from pandas import DataFrame\n",
    "import numpy as np\n",
    "import matplotlib.pyplot as plt\n",
    "import matplotlib\n",
    "%matplotlib inline\n",
    "\n",
    "\n",
    "grouped = df_temp.groupby([\"status\", \"ort\"])\n",
    "\n",
    "for name, group in grouped:\n",
    "    fig = plt.figure()\n",
    "    fig.suptitle(str(name) + \": #{}\".format(len(group)))\n",
    "    matplotlib.pyplot.hist(group.datum_diff_h)\n",
    "    plt.show()\n",
    "    \n",
    "df.drop(columns=[\"datum_diff_h\"], inplace=True)"
   ]
  },
  {
   "cell_type": "code",
   "execution_count": null,
   "metadata": {},
   "outputs": [],
   "source": [
    "df.head()"
   ]
  },
  {
   "cell_type": "code",
   "execution_count": null,
   "metadata": {},
   "outputs": [],
   "source": []
  }
 ],
 "metadata": {
  "kernelspec": {
   "display_name": "Python 3",
   "language": "python",
   "name": "python3"
  },
  "language_info": {
   "codemirror_mode": {
    "name": "ipython",
    "version": 3
   },
   "file_extension": ".py",
   "mimetype": "text/x-python",
   "name": "python",
   "nbconvert_exporter": "python",
   "pygments_lexer": "ipython3",
   "version": "3.7.3"
  }
 },
 "nbformat": 4,
 "nbformat_minor": 2
}

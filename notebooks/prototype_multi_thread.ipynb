{
 "cells": [
  {
   "cell_type": "markdown",
   "metadata": {},
   "source": [
    "# Scrabu Prototype (for a List of Shipment Numbers)"
   ]
  },
  {
   "cell_type": "markdown",
   "metadata": {},
   "source": [
    "This notebook is for creating a prototype of the Scrabu project. The goal is to download DHL pages for a specific shipment number and scrap the shipment information from it."
   ]
  },
  {
   "cell_type": "markdown",
   "metadata": {},
   "source": [
    "#### Configure Logger"
   ]
  },
  {
   "cell_type": "code",
   "execution_count": 1,
   "metadata": {},
   "outputs": [],
   "source": [
    "from scrabu import generate_shipment_numbers #340434188193324407|340434188193323500\n",
    "from scrabu import request\n",
    "from scrabu import html_to_json\n",
    "from scrabu import shipment_details\n",
    "from scrabu import save_dictionary\n",
    "from scrabu import process_shipment_number\n",
    "import concurrent"
   ]
  },
  {
   "cell_type": "code",
   "execution_count": 2,
   "metadata": {
    "scrolled": true
   },
   "outputs": [],
   "source": [
    "# Multi-threading\n",
    "def main(shipment_number=None, size=None, max_workers=None, start_url=\"https://www.dhl.de/int-verfolgen/search?language=de&lang=de&domain=de&piececode=\"):\n",
    "    shipment_numbers = generate_shipment_numbers(shipment_number=shipment_number, size=size)\n",
    "\n",
    "    with concurrent.futures.ThreadPoolExecutor(max_workers=max_workers) as executor:\n",
    "        future_to_url = {executor.submit(process_shipment_number, sn): sn for sn in shipment_numbers}\n",
    "        for future in concurrent.futures.as_completed(future_to_url):\n",
    "            url = future_to_url[future]\n",
    "            try:\n",
    "                data = future.result()\n",
    "            except Exception as exc:\n",
    "                print('%r generated an exception: %s' % (url, exc))"
   ]
  },
  {
   "cell_type": "code",
   "execution_count": 3,
   "metadata": {},
   "outputs": [
    {
     "name": "stderr",
     "output_type": "stream",
     "text": [
      "05:49:49 INFO: Generating shipment numbers with seed: 340434188193324407\n",
      "05:49:49 INFO: Generated 10 unique shipment numbers\n",
      "05:49:50 INFO: Writing file ../data/00340434188193324414.json\n",
      "05:49:51 INFO: Writing file ../data/00340434188193324421.json\n",
      "05:49:52 INFO: Writing file ../data/00340434188193324438.json\n",
      "05:49:54 INFO: Writing file ../data/00340434188193324445.json\n",
      "05:49:55 INFO: Writing file ../data/00340434188193324452.json\n",
      "05:49:56 INFO: Writing file ../data/00340434188193324469.json\n",
      "05:49:57 INFO: Writing file ../data/00340434188193324476.json\n",
      "05:49:59 INFO: Writing file ../data/00340434188193324483.json\n",
      "05:50:00 INFO: Writing file ../data/00340434188193324490.json\n",
      "05:50:02 INFO: Writing file ../data/00340434188193324506.json\n"
     ]
    }
   ],
   "source": [
    "main(shipment_number=340434188193324407, size=10, max_workers=1)"
   ]
  },
  {
   "cell_type": "code",
   "execution_count": null,
   "metadata": {},
   "outputs": [],
   "source": []
  }
 ],
 "metadata": {
  "kernelspec": {
   "display_name": "Python 3",
   "language": "python",
   "name": "python3"
  },
  "language_info": {
   "codemirror_mode": {
    "name": "ipython",
    "version": 3
   },
   "file_extension": ".py",
   "mimetype": "text/x-python",
   "name": "python",
   "nbconvert_exporter": "python",
   "pygments_lexer": "ipython3",
   "version": "3.7.3"
  }
 },
 "nbformat": 4,
 "nbformat_minor": 2
}

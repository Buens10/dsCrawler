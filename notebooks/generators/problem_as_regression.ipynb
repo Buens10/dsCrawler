{
 "cells": [
  {
   "cell_type": "markdown",
   "metadata": {},
   "source": [
    "# Data Exploration"
   ]
  },
  {
   "cell_type": "code",
   "execution_count": 1,
   "metadata": {},
   "outputs": [],
   "source": [
    "import logging\n",
    "for handler in logging.root.handlers[:]:\n",
    "    logging.root.removeHandler(handler)\n",
    "logging.basicConfig(level=logging.INFO)\n",
    "\n",
    "logger = logging.getLogger('baseline')"
   ]
  },
  {
   "cell_type": "code",
   "execution_count": 2,
   "metadata": {},
   "outputs": [],
   "source": [
    "def json_to_df(json_file=None):\n",
    "    \"\"\" Reads a single JSON file containing the\n",
    "    shipment information and converts it to a\n",
    "    structured dataframe\n",
    "    \"\"\"\n",
    "    import pandas as pd\n",
    "    from pandas.io.json import json_normalize\n",
    "    import numpy as np\n",
    "    logger.debug(\"Converting to dataframe: {}\".format(json_file))\n",
    "    df = pd.read_json(json_file, dtype={\"shipment_number\": str})\n",
    "    normalized_df = json_normalize(df['events'])\n",
    "    df.drop([\"events\"], axis=1, inplace=True)\n",
    "    df = pd.concat([df, normalized_df], axis=1)\n",
    "    if \"Die Sendung wurde elektronisch angeku00FCndigt. Sobald die Sendung von uns bearbeitet wurde, erhalten Sie weitere Informationen.\" == df.tail(1)[\"status\"].item():\n",
    "        logger.warning(\"Final delivery state is strange! Ignoring the file {}\".format(json_file))\n",
    "        return\n",
    "    # Some files have multiple states. It does not make sense!\n",
    "    if df[df[\"status\"] == \"Die Sendung wurde erfolgreich zugestellt.\"].shape[0] > 1:\n",
    "        logger.warning(\"Multiple final states! Ignoring the file {}\".format(json_file))\n",
    "        return\n",
    "    if df[\"status\"].isnull().any():\n",
    "        logger.warning(\"Status column has missing values! Ignoring the file {}\".format(json_file))\n",
    "        return\n",
    "    if len(df[\"url\"].unique()) > 1:\n",
    "        logger.warning(\"Multiple URLs for a single shipment number! Something is wrong\")\n",
    "    if len(df[\"shipment_number\"].unique()) > 1:\n",
    "        logger.warning(\"Multiple shipment numbers in the same file. Something is wrong\")\n",
    "    # Ignore the ones which have this status somewhere before the last event. This makes the problem simpler!\n",
    "    if len(df.index[df[\"status\"] == \"Der Empfu00E4nger hat die Sendung in der Filiale abgeholt.\"].tolist()) > 0:\n",
    "        if df.index[df[\"status\"] == \"Der Empfu00E4nger hat die Sendung in der Filiale abgeholt.\"].tolist()[0] < len(df):\n",
    "            return\n",
    "    if len(df.index[df[\"status\"] == \"Die Sendung wurde erfolgreich zugestellt.\"].tolist()) > 0:\n",
    "        if df.index[df[\"status\"] == \"Die Sendung wurde erfolgreich zugestellt.\"].tolist()[0] < len(df):\n",
    "            return\n",
    "    if len(df.index[df[\"status\"].str.startswith(\"Die Sendung liegt in der\") & df[\"status\"].str.endswith(\"zur Abholung bereit.\")].tolist()) > 0:\n",
    "        if df.index[df[\"status\"].str.startswith(\"Die Sendung liegt in der\") & df[\"status\"].str.endswith(\"zur Abholung bereit.\")].tolist()[0] < len(df):\n",
    "            return\n",
    "    if len(df.index[df[\"status\"] == \"Die Sendung in Paketkasten-Anlage eingestellt\"].tolist()) > 0:\n",
    "        if df.index[df[\"status\"] == \"Die Sendung in Paketkasten-Anlage eingestellt\"].tolist()[0] < len(df):\n",
    "            return\n",
    "    df['crawltime'] = pd.to_datetime(df['crawltime'], utc=True)\n",
    "    df['datum'] = pd.to_datetime(df['datum'], utc=True)\n",
    "    if df[\"status\"].isnull().values.any():\n",
    "        logger.warning(\"Column status has missing values! ShipmentNumber: {}\".format(df[\"shipment_number\"].values[0]))\n",
    "    final_event_array = np.zeros(len(df))\n",
    "    final_event_array[-1] = 1\n",
    "    df[\"is_final_event\"] = final_event_array\n",
    "    return df"
   ]
  },
  {
   "cell_type": "code",
   "execution_count": 3,
   "metadata": {},
   "outputs": [],
   "source": [
    "def files_to_df(path='../data'):\n",
    "    \"\"\" Convert all files to a single dataframe\n",
    "    \"\"\"\n",
    "    import os\n",
    "    import pandas as pd\n",
    "    files = []\n",
    "    for r, d, f in os.walk(path):\n",
    "        for file in f:\n",
    "            if '.json' in file:\n",
    "                files.append(os.path.join(r, file))\n",
    "    dfs = [json_to_df(json_file=file) for file in files]\n",
    "    df = pd.concat(dfs, sort=False)\n",
    "    return df"
   ]
  },
  {
   "cell_type": "code",
   "execution_count": 4,
   "metadata": {
    "scrolled": true
   },
   "outputs": [
    {
     "name": "stderr",
     "output_type": "stream",
     "text": [
      "/opt/conda/lib/python3.7/site-packages/ipykernel_launcher.py:14: FutureWarning: `item` has been deprecated and will be removed in a future version\n",
      "  \n",
      "WARNING:baseline:Status column has missing values! Ignoring the file ../../data/00340434188193339319.json\n",
      "WARNING:baseline:Final delivery state is strange! Ignoring the file ../../data/00340434188193345129.json\n"
     ]
    }
   ],
   "source": [
    "df = files_to_df(path='../../data')"
   ]
  },
  {
   "cell_type": "markdown",
   "metadata": {},
   "source": [
    "### Are there any missing values?"
   ]
  },
  {
   "cell_type": "code",
   "execution_count": 5,
   "metadata": {},
   "outputs": [],
   "source": [
    "import pandas as pd\n",
    "def count_missing_values(df):\n",
    "    percent_missing = df.isnull().sum() * 100 / len(df)\n",
    "    missing_value_df = pd.DataFrame({'column_name': df.columns,\n",
    "                                 'percent_missing': percent_missing})\n",
    "    return missing_value_df\n",
    "missing_value_df = count_missing_values(df)"
   ]
  },
  {
   "cell_type": "code",
   "execution_count": 6,
   "metadata": {},
   "outputs": [
    {
     "data": {
      "text/html": [
       "<div>\n",
       "<style scoped>\n",
       "    .dataframe tbody tr th:only-of-type {\n",
       "        vertical-align: middle;\n",
       "    }\n",
       "\n",
       "    .dataframe tbody tr th {\n",
       "        vertical-align: top;\n",
       "    }\n",
       "\n",
       "    .dataframe thead th {\n",
       "        text-align: right;\n",
       "    }\n",
       "</style>\n",
       "<table border=\"1\" class=\"dataframe\">\n",
       "  <thead>\n",
       "    <tr style=\"text-align: right;\">\n",
       "      <th></th>\n",
       "      <th>column_name</th>\n",
       "      <th>percent_missing</th>\n",
       "    </tr>\n",
       "  </thead>\n",
       "  <tbody>\n",
       "    <tr>\n",
       "      <td>shipment_number</td>\n",
       "      <td>shipment_number</td>\n",
       "      <td>0.000000</td>\n",
       "    </tr>\n",
       "    <tr>\n",
       "      <td>crawltime</td>\n",
       "      <td>crawltime</td>\n",
       "      <td>0.000000</td>\n",
       "    </tr>\n",
       "    <tr>\n",
       "      <td>url</td>\n",
       "      <td>url</td>\n",
       "      <td>0.000000</td>\n",
       "    </tr>\n",
       "    <tr>\n",
       "      <td>datum</td>\n",
       "      <td>datum</td>\n",
       "      <td>0.000000</td>\n",
       "    </tr>\n",
       "    <tr>\n",
       "      <td>status</td>\n",
       "      <td>status</td>\n",
       "      <td>0.000000</td>\n",
       "    </tr>\n",
       "    <tr>\n",
       "      <td>ort</td>\n",
       "      <td>ort</td>\n",
       "      <td>48.815166</td>\n",
       "    </tr>\n",
       "    <tr>\n",
       "      <td>is_final_event</td>\n",
       "      <td>is_final_event</td>\n",
       "      <td>0.000000</td>\n",
       "    </tr>\n",
       "  </tbody>\n",
       "</table>\n",
       "</div>"
      ],
      "text/plain": [
       "                     column_name  percent_missing\n",
       "shipment_number  shipment_number         0.000000\n",
       "crawltime              crawltime         0.000000\n",
       "url                          url         0.000000\n",
       "datum                      datum         0.000000\n",
       "status                    status         0.000000\n",
       "ort                          ort        48.815166\n",
       "is_final_event    is_final_event         0.000000"
      ]
     },
     "execution_count": 6,
     "metadata": {},
     "output_type": "execute_result"
    }
   ],
   "source": [
    "missing_value_df"
   ]
  },
  {
   "cell_type": "markdown",
   "metadata": {},
   "source": [
    "Column \"ort\" has many missing values. We fill them with \"Unbekannt\""
   ]
  },
  {
   "cell_type": "code",
   "execution_count": 7,
   "metadata": {},
   "outputs": [],
   "source": [
    "def fill_missing_values(df):\n",
    "    \"\"\" Fills missing values of specific columns\n",
    "    in the data frame with pre-defined values.\n",
    "    \"\"\"\n",
    "    df['ort'].fillna(\"Unbekannt\", inplace=True)\n",
    "    logger.debug(\"Filled missing values for ort column\")\n",
    "    return df"
   ]
  },
  {
   "cell_type": "code",
   "execution_count": 8,
   "metadata": {},
   "outputs": [],
   "source": [
    "df = fill_missing_values(df)"
   ]
  },
  {
   "cell_type": "markdown",
   "metadata": {},
   "source": [
    "Check again if there are any missing values"
   ]
  },
  {
   "cell_type": "code",
   "execution_count": 9,
   "metadata": {},
   "outputs": [
    {
     "data": {
      "text/html": [
       "<div>\n",
       "<style scoped>\n",
       "    .dataframe tbody tr th:only-of-type {\n",
       "        vertical-align: middle;\n",
       "    }\n",
       "\n",
       "    .dataframe tbody tr th {\n",
       "        vertical-align: top;\n",
       "    }\n",
       "\n",
       "    .dataframe thead th {\n",
       "        text-align: right;\n",
       "    }\n",
       "</style>\n",
       "<table border=\"1\" class=\"dataframe\">\n",
       "  <thead>\n",
       "    <tr style=\"text-align: right;\">\n",
       "      <th></th>\n",
       "      <th>column_name</th>\n",
       "      <th>percent_missing</th>\n",
       "    </tr>\n",
       "  </thead>\n",
       "  <tbody>\n",
       "    <tr>\n",
       "      <td>shipment_number</td>\n",
       "      <td>shipment_number</td>\n",
       "      <td>0.0</td>\n",
       "    </tr>\n",
       "    <tr>\n",
       "      <td>crawltime</td>\n",
       "      <td>crawltime</td>\n",
       "      <td>0.0</td>\n",
       "    </tr>\n",
       "    <tr>\n",
       "      <td>url</td>\n",
       "      <td>url</td>\n",
       "      <td>0.0</td>\n",
       "    </tr>\n",
       "    <tr>\n",
       "      <td>datum</td>\n",
       "      <td>datum</td>\n",
       "      <td>0.0</td>\n",
       "    </tr>\n",
       "    <tr>\n",
       "      <td>status</td>\n",
       "      <td>status</td>\n",
       "      <td>0.0</td>\n",
       "    </tr>\n",
       "    <tr>\n",
       "      <td>ort</td>\n",
       "      <td>ort</td>\n",
       "      <td>0.0</td>\n",
       "    </tr>\n",
       "    <tr>\n",
       "      <td>is_final_event</td>\n",
       "      <td>is_final_event</td>\n",
       "      <td>0.0</td>\n",
       "    </tr>\n",
       "  </tbody>\n",
       "</table>\n",
       "</div>"
      ],
      "text/plain": [
       "                     column_name  percent_missing\n",
       "shipment_number  shipment_number              0.0\n",
       "crawltime              crawltime              0.0\n",
       "url                          url              0.0\n",
       "datum                      datum              0.0\n",
       "status                    status              0.0\n",
       "ort                          ort              0.0\n",
       "is_final_event    is_final_event              0.0"
      ]
     },
     "execution_count": 9,
     "metadata": {},
     "output_type": "execute_result"
    }
   ],
   "source": [
    "count_missing_values(df)"
   ]
  },
  {
   "cell_type": "markdown",
   "metadata": {},
   "source": [
    "### Data Stats"
   ]
  },
  {
   "cell_type": "code",
   "execution_count": 10,
   "metadata": {},
   "outputs": [
    {
     "data": {
      "text/plain": [
       "(211, 7)"
      ]
     },
     "execution_count": 10,
     "metadata": {},
     "output_type": "execute_result"
    }
   ],
   "source": [
    "df.shape"
   ]
  },
  {
   "cell_type": "markdown",
   "metadata": {},
   "source": [
    "Number of unique shipment numbers"
   ]
  },
  {
   "cell_type": "code",
   "execution_count": 11,
   "metadata": {},
   "outputs": [
    {
     "data": {
      "text/plain": [
       "55"
      ]
     },
     "execution_count": 11,
     "metadata": {},
     "output_type": "execute_result"
    }
   ],
   "source": [
    "len(df.shipment_number.unique())"
   ]
  },
  {
   "cell_type": "markdown",
   "metadata": {},
   "source": [
    "### Investigate Data Types"
   ]
  },
  {
   "cell_type": "code",
   "execution_count": 12,
   "metadata": {},
   "outputs": [
    {
     "name": "stdout",
     "output_type": "stream",
     "text": [
      "<class 'pandas.core.frame.DataFrame'>\n",
      "Int64Index: 211 entries, 0 to 3\n",
      "Data columns (total 7 columns):\n",
      "shipment_number    211 non-null object\n",
      "crawltime          211 non-null datetime64[ns, UTC]\n",
      "url                211 non-null object\n",
      "datum              211 non-null datetime64[ns, UTC]\n",
      "status             211 non-null object\n",
      "ort                211 non-null object\n",
      "is_final_event     211 non-null float64\n",
      "dtypes: datetime64[ns, UTC](2), float64(1), object(4)\n",
      "memory usage: 13.2+ KB\n"
     ]
    }
   ],
   "source": [
    "df.info()"
   ]
  },
  {
   "cell_type": "markdown",
   "metadata": {},
   "source": [
    "Everything regarding data types seems to be fine! No need for conversion"
   ]
  },
  {
   "cell_type": "markdown",
   "metadata": {},
   "source": [
    "### Prepare data for exploration and machine learning"
   ]
  },
  {
   "cell_type": "markdown",
   "metadata": {},
   "source": [
    "- Given the features \"datum\", \"status\" and \"ort\" we want to predict the next \"datum\" and hopefully also the next \"status\" and the next \"ort\"\n",
    "- We create 3 new columns. \"datum_next\", \"ort_next\" and \"status_next\"."
   ]
  },
  {
   "cell_type": "code",
   "execution_count": 13,
   "metadata": {},
   "outputs": [],
   "source": [
    "def create_target_columns(df):\n",
    "    import numpy as np \n",
    "\n",
    "    df['status_next'] = df.groupby(['shipment_number'])['status'].shift(-1)\n",
    "    df['ort_next'] = df.groupby(['shipment_number'])['ort'].shift(-1)\n",
    "    df['datum_next'] = df.groupby(['shipment_number'])['datum'].shift(-1)\n",
    "    # we define values for the case the package is already delivered.\n",
    "    df.loc[df['is_final_event'] == 1, 'status_next'] = \"SuccessDelivery\"\n",
    "    df.loc[df['is_final_event'] == 1, 'ort_next'] = \"SuccessDelivery\"\n",
    "    df.loc[df['is_final_event'] == 1, 'datum_next'] = np.datetime64('today')\n",
    "    \n",
    "    return df"
   ]
  },
  {
   "cell_type": "code",
   "execution_count": 14,
   "metadata": {},
   "outputs": [],
   "source": [
    "# Disable warnings\n",
    "pd.set_option('mode.chained_assignment', None)\n",
    "df = create_target_columns(df)"
   ]
  },
  {
   "cell_type": "code",
   "execution_count": 15,
   "metadata": {},
   "outputs": [
    {
     "data": {
      "text/html": [
       "<div>\n",
       "<style scoped>\n",
       "    .dataframe tbody tr th:only-of-type {\n",
       "        vertical-align: middle;\n",
       "    }\n",
       "\n",
       "    .dataframe tbody tr th {\n",
       "        vertical-align: top;\n",
       "    }\n",
       "\n",
       "    .dataframe thead th {\n",
       "        text-align: right;\n",
       "    }\n",
       "</style>\n",
       "<table border=\"1\" class=\"dataframe\">\n",
       "  <thead>\n",
       "    <tr style=\"text-align: right;\">\n",
       "      <th></th>\n",
       "      <th>shipment_number</th>\n",
       "      <th>crawltime</th>\n",
       "      <th>url</th>\n",
       "      <th>datum</th>\n",
       "      <th>status</th>\n",
       "      <th>ort</th>\n",
       "      <th>is_final_event</th>\n",
       "      <th>status_next</th>\n",
       "      <th>ort_next</th>\n",
       "      <th>datum_next</th>\n",
       "    </tr>\n",
       "  </thead>\n",
       "  <tbody>\n",
       "    <tr>\n",
       "      <td>0</td>\n",
       "      <td>00340434188193345907</td>\n",
       "      <td>2019-12-12 13:38:13+00:00</td>\n",
       "      <td>https://www.dhl.de/int-verfolgen/search?langua...</td>\n",
       "      <td>2019-12-10 15:27:00+00:00</td>\n",
       "      <td>Die Sendung wurde elektronisch angeku00FCndigt...</td>\n",
       "      <td>Unbekannt</td>\n",
       "      <td>0.0</td>\n",
       "      <td>Die Sendung wurde von DHL bearbeitet und wird ...</td>\n",
       "      <td>Hamburg</td>\n",
       "      <td>2019-12-10 18:56:00</td>\n",
       "    </tr>\n",
       "    <tr>\n",
       "      <td>1</td>\n",
       "      <td>00340434188193345907</td>\n",
       "      <td>2019-12-12 13:38:13+00:00</td>\n",
       "      <td>https://www.dhl.de/int-verfolgen/search?langua...</td>\n",
       "      <td>2019-12-10 18:56:00+00:00</td>\n",
       "      <td>Die Sendung wurde von DHL bearbeitet und wird ...</td>\n",
       "      <td>Hamburg</td>\n",
       "      <td>0.0</td>\n",
       "      <td>Die Sendung ist in der Region des Empfu00E4nge...</td>\n",
       "      <td>Bu00F6rnicke</td>\n",
       "      <td>2019-12-11 03:59:00</td>\n",
       "    </tr>\n",
       "    <tr>\n",
       "      <td>2</td>\n",
       "      <td>00340434188193345907</td>\n",
       "      <td>2019-12-12 13:38:13+00:00</td>\n",
       "      <td>https://www.dhl.de/int-verfolgen/search?langua...</td>\n",
       "      <td>2019-12-11 03:59:00+00:00</td>\n",
       "      <td>Die Sendung ist in der Region des Empfu00E4nge...</td>\n",
       "      <td>Bu00F6rnicke</td>\n",
       "      <td>0.0</td>\n",
       "      <td>Die Sendung wurde in das Zustellfahrzeug gelad...</td>\n",
       "      <td>Unbekannt</td>\n",
       "      <td>2019-12-11 10:01:00</td>\n",
       "    </tr>\n",
       "    <tr>\n",
       "      <td>3</td>\n",
       "      <td>00340434188193345907</td>\n",
       "      <td>2019-12-12 13:38:13+00:00</td>\n",
       "      <td>https://www.dhl.de/int-verfolgen/search?langua...</td>\n",
       "      <td>2019-12-11 10:01:00+00:00</td>\n",
       "      <td>Die Sendung wurde in das Zustellfahrzeug gelad...</td>\n",
       "      <td>Unbekannt</td>\n",
       "      <td>0.0</td>\n",
       "      <td>Die Sendung konnte nicht zugestellt werden und...</td>\n",
       "      <td>Unbekannt</td>\n",
       "      <td>2019-12-11 11:25:00</td>\n",
       "    </tr>\n",
       "    <tr>\n",
       "      <td>4</td>\n",
       "      <td>00340434188193345907</td>\n",
       "      <td>2019-12-12 13:38:13+00:00</td>\n",
       "      <td>https://www.dhl.de/int-verfolgen/search?langua...</td>\n",
       "      <td>2019-12-11 11:25:00+00:00</td>\n",
       "      <td>Die Sendung konnte nicht zugestellt werden und...</td>\n",
       "      <td>Unbekannt</td>\n",
       "      <td>0.0</td>\n",
       "      <td>Die Sendung wird zur Abholung in die &amp;lt;a hre...</td>\n",
       "      <td>Unbekannt</td>\n",
       "      <td>2019-12-11 17:14:00</td>\n",
       "    </tr>\n",
       "  </tbody>\n",
       "</table>\n",
       "</div>"
      ],
      "text/plain": [
       "        shipment_number                 crawltime  \\\n",
       "0  00340434188193345907 2019-12-12 13:38:13+00:00   \n",
       "1  00340434188193345907 2019-12-12 13:38:13+00:00   \n",
       "2  00340434188193345907 2019-12-12 13:38:13+00:00   \n",
       "3  00340434188193345907 2019-12-12 13:38:13+00:00   \n",
       "4  00340434188193345907 2019-12-12 13:38:13+00:00   \n",
       "\n",
       "                                                 url  \\\n",
       "0  https://www.dhl.de/int-verfolgen/search?langua...   \n",
       "1  https://www.dhl.de/int-verfolgen/search?langua...   \n",
       "2  https://www.dhl.de/int-verfolgen/search?langua...   \n",
       "3  https://www.dhl.de/int-verfolgen/search?langua...   \n",
       "4  https://www.dhl.de/int-verfolgen/search?langua...   \n",
       "\n",
       "                      datum  \\\n",
       "0 2019-12-10 15:27:00+00:00   \n",
       "1 2019-12-10 18:56:00+00:00   \n",
       "2 2019-12-11 03:59:00+00:00   \n",
       "3 2019-12-11 10:01:00+00:00   \n",
       "4 2019-12-11 11:25:00+00:00   \n",
       "\n",
       "                                              status           ort  \\\n",
       "0  Die Sendung wurde elektronisch angeku00FCndigt...     Unbekannt   \n",
       "1  Die Sendung wurde von DHL bearbeitet und wird ...       Hamburg   \n",
       "2  Die Sendung ist in der Region des Empfu00E4nge...  Bu00F6rnicke   \n",
       "3  Die Sendung wurde in das Zustellfahrzeug gelad...     Unbekannt   \n",
       "4  Die Sendung konnte nicht zugestellt werden und...     Unbekannt   \n",
       "\n",
       "   is_final_event                                        status_next  \\\n",
       "0             0.0  Die Sendung wurde von DHL bearbeitet und wird ...   \n",
       "1             0.0  Die Sendung ist in der Region des Empfu00E4nge...   \n",
       "2             0.0  Die Sendung wurde in das Zustellfahrzeug gelad...   \n",
       "3             0.0  Die Sendung konnte nicht zugestellt werden und...   \n",
       "4             0.0  Die Sendung wird zur Abholung in die &lt;a hre...   \n",
       "\n",
       "       ort_next          datum_next  \n",
       "0       Hamburg 2019-12-10 18:56:00  \n",
       "1  Bu00F6rnicke 2019-12-11 03:59:00  \n",
       "2     Unbekannt 2019-12-11 10:01:00  \n",
       "3     Unbekannt 2019-12-11 11:25:00  \n",
       "4     Unbekannt 2019-12-11 17:14:00  "
      ]
     },
     "execution_count": 15,
     "metadata": {},
     "output_type": "execute_result"
    }
   ],
   "source": [
    "df.head()"
   ]
  },
  {
   "cell_type": "code",
   "execution_count": 16,
   "metadata": {},
   "outputs": [
    {
     "name": "stdout",
     "output_type": "stream",
     "text": [
      "<class 'pandas.core.frame.DataFrame'>\n",
      "Int64Index: 211 entries, 0 to 3\n",
      "Data columns (total 10 columns):\n",
      "shipment_number    211 non-null object\n",
      "crawltime          211 non-null datetime64[ns, UTC]\n",
      "url                211 non-null object\n",
      "datum              211 non-null datetime64[ns, UTC]\n",
      "status             211 non-null object\n",
      "ort                211 non-null object\n",
      "is_final_event     211 non-null float64\n",
      "status_next        211 non-null object\n",
      "ort_next           211 non-null object\n",
      "datum_next         211 non-null datetime64[ns]\n",
      "dtypes: datetime64[ns, UTC](2), datetime64[ns](1), float64(1), object(6)\n",
      "memory usage: 18.1+ KB\n"
     ]
    }
   ],
   "source": [
    "df.info()"
   ]
  },
  {
   "cell_type": "markdown",
   "metadata": {},
   "source": [
    "### Data Stats"
   ]
  },
  {
   "cell_type": "code",
   "execution_count": 17,
   "metadata": {},
   "outputs": [
    {
     "data": {
      "text/html": [
       "<div>\n",
       "<style scoped>\n",
       "    .dataframe tbody tr th:only-of-type {\n",
       "        vertical-align: middle;\n",
       "    }\n",
       "\n",
       "    .dataframe tbody tr th {\n",
       "        vertical-align: top;\n",
       "    }\n",
       "\n",
       "    .dataframe thead th {\n",
       "        text-align: right;\n",
       "    }\n",
       "</style>\n",
       "<table border=\"1\" class=\"dataframe\">\n",
       "  <thead>\n",
       "    <tr style=\"text-align: right;\">\n",
       "      <th></th>\n",
       "      <th>column_name</th>\n",
       "      <th>percent_missing</th>\n",
       "    </tr>\n",
       "  </thead>\n",
       "  <tbody>\n",
       "    <tr>\n",
       "      <td>shipment_number</td>\n",
       "      <td>shipment_number</td>\n",
       "      <td>0.0</td>\n",
       "    </tr>\n",
       "    <tr>\n",
       "      <td>crawltime</td>\n",
       "      <td>crawltime</td>\n",
       "      <td>0.0</td>\n",
       "    </tr>\n",
       "    <tr>\n",
       "      <td>url</td>\n",
       "      <td>url</td>\n",
       "      <td>0.0</td>\n",
       "    </tr>\n",
       "    <tr>\n",
       "      <td>datum</td>\n",
       "      <td>datum</td>\n",
       "      <td>0.0</td>\n",
       "    </tr>\n",
       "    <tr>\n",
       "      <td>status</td>\n",
       "      <td>status</td>\n",
       "      <td>0.0</td>\n",
       "    </tr>\n",
       "    <tr>\n",
       "      <td>ort</td>\n",
       "      <td>ort</td>\n",
       "      <td>0.0</td>\n",
       "    </tr>\n",
       "    <tr>\n",
       "      <td>is_final_event</td>\n",
       "      <td>is_final_event</td>\n",
       "      <td>0.0</td>\n",
       "    </tr>\n",
       "    <tr>\n",
       "      <td>status_next</td>\n",
       "      <td>status_next</td>\n",
       "      <td>0.0</td>\n",
       "    </tr>\n",
       "    <tr>\n",
       "      <td>ort_next</td>\n",
       "      <td>ort_next</td>\n",
       "      <td>0.0</td>\n",
       "    </tr>\n",
       "    <tr>\n",
       "      <td>datum_next</td>\n",
       "      <td>datum_next</td>\n",
       "      <td>0.0</td>\n",
       "    </tr>\n",
       "  </tbody>\n",
       "</table>\n",
       "</div>"
      ],
      "text/plain": [
       "                     column_name  percent_missing\n",
       "shipment_number  shipment_number              0.0\n",
       "crawltime              crawltime              0.0\n",
       "url                          url              0.0\n",
       "datum                      datum              0.0\n",
       "status                    status              0.0\n",
       "ort                          ort              0.0\n",
       "is_final_event    is_final_event              0.0\n",
       "status_next          status_next              0.0\n",
       "ort_next                ort_next              0.0\n",
       "datum_next            datum_next              0.0"
      ]
     },
     "execution_count": 17,
     "metadata": {},
     "output_type": "execute_result"
    }
   ],
   "source": [
    "count_missing_values(df)"
   ]
  },
  {
   "cell_type": "code",
   "execution_count": 18,
   "metadata": {},
   "outputs": [
    {
     "data": {
      "text/plain": [
       "(211, 10)"
      ]
     },
     "execution_count": 18,
     "metadata": {},
     "output_type": "execute_result"
    }
   ],
   "source": [
    "df.shape"
   ]
  },
  {
   "cell_type": "markdown",
   "metadata": {},
   "source": [
    "Number of unique shipment numbers"
   ]
  },
  {
   "cell_type": "code",
   "execution_count": 19,
   "metadata": {},
   "outputs": [
    {
     "data": {
      "text/plain": [
       "55"
      ]
     },
     "execution_count": 19,
     "metadata": {},
     "output_type": "execute_result"
    }
   ],
   "source": [
    "len(df.shipment_number.unique())"
   ]
  },
  {
   "cell_type": "code",
   "execution_count": 20,
   "metadata": {},
   "outputs": [
    {
     "data": {
      "text/plain": [
       "21"
      ]
     },
     "execution_count": 20,
     "metadata": {},
     "output_type": "execute_result"
    }
   ],
   "source": [
    "len(df.status.unique())"
   ]
  },
  {
   "cell_type": "code",
   "execution_count": 21,
   "metadata": {},
   "outputs": [
    {
     "data": {
      "text/plain": [
       "29"
      ]
     },
     "execution_count": 21,
     "metadata": {},
     "output_type": "execute_result"
    }
   ],
   "source": [
    "len(df.ort.unique())"
   ]
  },
  {
   "cell_type": "markdown",
   "metadata": {},
   "source": [
    "### How many different final delivery states exist?"
   ]
  },
  {
   "cell_type": "code",
   "execution_count": 22,
   "metadata": {},
   "outputs": [
    {
     "name": "stdout",
     "output_type": "stream",
     "text": [
      "[\"Die Sendung wird zur Abholung in die &lt;a href='https://psf.dhl.com/?countrycode=DEu0026address= ' class='arrowLink' target='_blank'&gt;&lt;span class='arrow'&gt;&lt;/span&gt;Filiale &lt;/a&gt; gebracht. Die fru00FChestmu00F6gliche Uhrzeit der Abholung kann der Benachrichtigung entnommen werden.\"\n",
      " 'Die Sendung wurde von DHL bearbeitet und wird fu00FCr den Weitertransport in die Region des Empfu00E4ngers vorbereitet.'\n",
      " 'Die Sendung wurde in das Zustellfahrzeug geladen. Die Zustellung erfolgt voraussichtlich heute.'\n",
      " \"Die Sendung wird zur Abholung in die &lt;a href='https://psf.dhl.com/?countrycode=DEu0026address=Oberhausen Weierstr. 195' class='arrowLink' target='_blank'&gt;&lt;span class='arrow'&gt;&lt;/span&gt;Filiale Oberhausen Weierstr. 195&lt;/a&gt; gebracht. Fu00FCr die Abholung ist neben der Benachrichtigung die Vorlage Ihres Ausweises sowie ggf. eine Vollmacht erforderlich.\"\n",
      " 'Die Sendung konnte nicht zugestellt werden und wird in eine Packstation gebracht.'\n",
      " 'Die Sendung ist in der Region des Empfu00E4ngers angekommen und wird im nu00E4chsten Schritt zur Zustellbasis transportiert.'\n",
      " 'Die Sendung konnte nicht zugestellt werden und wird in die Filiale gebracht. Fu00FCr die Abholung ist neben der Benachrichtigung die Vorlage Ihres Ausweises sowie ggf. eine Vollmacht erforderlich.'\n",
      " 'Die Sendung wird fu00FCr die Verladung ins Zustellfahrzeug vorbereitet.'\n",
      " \"Die Sendung wird zur Abholung in die &lt;a href='https://psf.dhl.com/?countrycode=DEu0026address=Oldenburg Nadorster+Str. 70' class='arrowLink' target='_blank'&gt;&lt;span class='arrow'&gt;&lt;/span&gt;Filiale Oldenburg Nadorster Str. 70&lt;/a&gt; gebracht. Fu00FCr die Abholung ist neben der Benachrichtigung die Vorlage Ihres Ausweises sowie ggf. eine Vollmacht erforderlich.\"\n",
      " \"Die Sendung liegt ab sofort in der Filiale &lt;a href='http://standorte.deutschepost.de/Standortsuche?standorttyp=filialen_verkaufspunkteu0026ort=M%C3%BCnchenu0026strasse=Am+Harras+2u0026hausnummer=u0026postleitzahl=81373u0026lang=de' class='arrowLink' target='_blank'&gt;&lt;span class='arrow'&gt;&lt;/span&gt;Filiale Am Harras 2 81373 Mu00FCnchen&lt;/a&gt; zur Abholung bereit.\"\n",
      " \"Die Sendung wurde zur Abholung in die &lt;a href='http://standorte.deutschepost.de/Standortsuche?standorttyp=filialen_verkaufspunkteu0026ort=Bonnu0026strasse=Endenicher+Str.u0026hausnummer=333u0026postleitzahl=53121u0026lang=de' class='arrowLink' target='_blank'&gt;&lt;span class='arrow'&gt;&lt;/span&gt;Filiale Endenicher Str. 333 53121 Bonn&lt;/a&gt; gebracht.\"\n",
      " 'Die Sendung befindet sich auf dem Weg zur Packstation.'\n",
      " 'Ihr Paket wird bei uns gelagert und am gewu00FCnschten Liefertag zugestellt.']\n"
     ]
    }
   ],
   "source": [
    "final_delivery_states = df.groupby(['shipment_number']).tail(1)[[\"status\"]][\"status\"].unique()\n",
    "print(final_delivery_states)"
   ]
  },
  {
   "cell_type": "markdown",
   "metadata": {},
   "source": [
    "### How many different initial delivery states exist?"
   ]
  },
  {
   "cell_type": "code",
   "execution_count": 23,
   "metadata": {},
   "outputs": [
    {
     "name": "stdout",
     "output_type": "stream",
     "text": [
      "['Die Sendung wurde elektronisch angeku00FCndigt. Sobald die Sendung von uns bearbeitet wurde, erhalten Sie weitere Informationen.']\n"
     ]
    }
   ],
   "source": [
    "initial_delivery_states = df.groupby(['shipment_number']).head(1)[[\"status\"]][\"status\"].unique()\n",
    "print(initial_delivery_states)"
   ]
  },
  {
   "cell_type": "markdown",
   "metadata": {},
   "source": [
    "### Distribution of all states"
   ]
  },
  {
   "cell_type": "markdown",
   "metadata": {},
   "source": [
    "These are the most common states"
   ]
  },
  {
   "cell_type": "code",
   "execution_count": 24,
   "metadata": {},
   "outputs": [
    {
     "data": {
      "text/html": [
       "<div>\n",
       "<style scoped>\n",
       "    .dataframe tbody tr th:only-of-type {\n",
       "        vertical-align: middle;\n",
       "    }\n",
       "\n",
       "    .dataframe tbody tr th {\n",
       "        vertical-align: top;\n",
       "    }\n",
       "\n",
       "    .dataframe thead th {\n",
       "        text-align: right;\n",
       "    }\n",
       "</style>\n",
       "<table border=\"1\" class=\"dataframe\">\n",
       "  <thead>\n",
       "    <tr style=\"text-align: right;\">\n",
       "      <th></th>\n",
       "      <th>status</th>\n",
       "    </tr>\n",
       "  </thead>\n",
       "  <tbody>\n",
       "    <tr>\n",
       "      <td>Die Sendung wurde von DHL bearbeitet und wird fu00FCr den Weitertransport in die Region des Empfu00E4ngers vorbereitet.</td>\n",
       "      <td>58</td>\n",
       "    </tr>\n",
       "    <tr>\n",
       "      <td>Die Sendung wurde elektronisch angeku00FCndigt. Sobald die Sendung von uns bearbeitet wurde, erhalten Sie weitere Informationen.</td>\n",
       "      <td>55</td>\n",
       "    </tr>\n",
       "    <tr>\n",
       "      <td>Die Sendung ist in der Region des Empfu00E4ngers angekommen und wird im nu00E4chsten Schritt zur Zustellbasis transportiert.</td>\n",
       "      <td>35</td>\n",
       "    </tr>\n",
       "    <tr>\n",
       "      <td>Die Sendung wurde in das Zustellfahrzeug geladen. Die Zustellung erfolgt voraussichtlich heute.</td>\n",
       "      <td>29</td>\n",
       "    </tr>\n",
       "    <tr>\n",
       "      <td>Die Sendung wird fu00FCr die Verladung ins Zustellfahrzeug vorbereitet.</td>\n",
       "      <td>10</td>\n",
       "    </tr>\n",
       "    <tr>\n",
       "      <td>Die Sendung konnte nicht zugestellt werden und wird in die Filiale gebracht. Fu00FCr die Abholung ist neben der Benachrichtigung die Vorlage Ihres Ausweises sowie ggf. eine Vollmacht erforderlich.</td>\n",
       "      <td>6</td>\n",
       "    </tr>\n",
       "    <tr>\n",
       "      <td>Die Sendung wird fu00FCr den Weitertransport vorbereitet.</td>\n",
       "      <td>3</td>\n",
       "    </tr>\n",
       "    <tr>\n",
       "      <td>Die Sendung konnte nicht zugestellt werden und wird in eine Packstation gebracht.</td>\n",
       "      <td>2</td>\n",
       "    </tr>\n",
       "    <tr>\n",
       "      <td>Die Sendung befindet sich wie gewu00FCnscht auf dem Weg zur Filiale. Sie werden informiert, sobald die Sendung in der Filiale eingetroffen ist.</td>\n",
       "      <td>1</td>\n",
       "    </tr>\n",
       "    <tr>\n",
       "      <td>Die Zustellung am gewu00FCnschten Liefertag 14.12.2019 wurde gewu00E4hlt.</td>\n",
       "      <td>1</td>\n",
       "    </tr>\n",
       "  </tbody>\n",
       "</table>\n",
       "</div>"
      ],
      "text/plain": [
       "                                                    status\n",
       "Die Sendung wurde von DHL bearbeitet und wird f...      58\n",
       "Die Sendung wurde elektronisch angeku00FCndigt....      55\n",
       "Die Sendung ist in der Region des Empfu00E4nger...      35\n",
       "Die Sendung wurde in das Zustellfahrzeug gelade...      29\n",
       "Die Sendung wird fu00FCr die Verladung ins Zust...      10\n",
       "Die Sendung konnte nicht zugestellt werden und ...       6\n",
       "Die Sendung wird fu00FCr den Weitertransport vo...       3\n",
       "Die Sendung konnte nicht zugestellt werden und ...       2\n",
       "Die Sendung befindet sich wie gewu00FCnscht auf...       1\n",
       "Die Zustellung am gewu00FCnschten Liefertag 14....       1"
      ]
     },
     "execution_count": 24,
     "metadata": {},
     "output_type": "execute_result"
    }
   ],
   "source": [
    "pd.DataFrame(df[\"status\"].value_counts()).head(10)"
   ]
  },
  {
   "cell_type": "markdown",
   "metadata": {},
   "source": [
    "These are the least common states. What we see here is that there are some states that are basically the same and the following pattern:\n",
    "\n",
    "\"Die Sendung liegt in der ........ zur Abholung bereit\"\n",
    "\n",
    "But the address is each time different. This leads to too many states, which also makes machine learning hard. We ignore the address part and convert all these states to a single one."
   ]
  },
  {
   "cell_type": "code",
   "execution_count": 25,
   "metadata": {},
   "outputs": [
    {
     "data": {
      "text/html": [
       "<div>\n",
       "<style scoped>\n",
       "    .dataframe tbody tr th:only-of-type {\n",
       "        vertical-align: middle;\n",
       "    }\n",
       "\n",
       "    .dataframe tbody tr th {\n",
       "        vertical-align: top;\n",
       "    }\n",
       "\n",
       "    .dataframe thead th {\n",
       "        text-align: right;\n",
       "    }\n",
       "</style>\n",
       "<table border=\"1\" class=\"dataframe\">\n",
       "  <thead>\n",
       "    <tr style=\"text-align: right;\">\n",
       "      <th></th>\n",
       "      <th>status</th>\n",
       "    </tr>\n",
       "  </thead>\n",
       "  <tbody>\n",
       "    <tr>\n",
       "      <td>Die Sendung wird zur Abholung in die &amp;lt;a href='https://psf.dhl.com/?countrycode=DEu0026address=Oldenburg Nadorster+Str. 70' class='arrowLink' target='_blank'&amp;gt;&amp;lt;span class='arrow'&amp;gt;&amp;lt;/span&amp;gt;Filiale Oldenburg Nadorster Str. 70&amp;lt;/a&amp;gt; gebracht. Fu00FCr die Abholung ist neben der Benachrichtigung die Vorlage Ihres Ausweises sowie ggf. eine Vollmacht erforderlich.</td>\n",
       "      <td>1</td>\n",
       "    </tr>\n",
       "    <tr>\n",
       "      <td>Die Sendung wird zur Abholung in die &amp;lt;a href='https://psf.dhl.com/?countrycode=DEu0026address=Oberhausen Weierstr. 195' class='arrowLink' target='_blank'&amp;gt;&amp;lt;span class='arrow'&amp;gt;&amp;lt;/span&amp;gt;Filiale Oberhausen Weierstr. 195&amp;lt;/a&amp;gt; gebracht. Fu00FCr die Abholung ist neben der Benachrichtigung die Vorlage Ihres Ausweises sowie ggf. eine Vollmacht erforderlich.</td>\n",
       "      <td>1</td>\n",
       "    </tr>\n",
       "    <tr>\n",
       "      <td>Die Sendung befindet sich in der Zustellbasis und wird fu00FCr die Auslieferung vorbereitet.</td>\n",
       "      <td>1</td>\n",
       "    </tr>\n",
       "    <tr>\n",
       "      <td>Leider war eine Zustellung der Sendung nicht mu00F6glich. Gru00FCnde hierfu00FCr ku00F6nnen sein: Kein Zugang zum Gebu00E4ude, kein Schild an der Klingel, Empfu00E4nger ggf. verzogen, etc.</td>\n",
       "      <td>1</td>\n",
       "    </tr>\n",
       "    <tr>\n",
       "      <td>Die Sendung wird zum Weitertransport vorbereitet.</td>\n",
       "      <td>1</td>\n",
       "    </tr>\n",
       "    <tr>\n",
       "      <td>Die Sendung wird zur Abholung in die &amp;lt;a href='https://psf.dhl.com/?countrycode=DEu0026address=M%C3%BCnchen Kaflerstr. 2' class='arrowLink' target='_blank'&amp;gt;&amp;lt;span class='arrow'&amp;gt;&amp;lt;/span&amp;gt;Filiale Mu00FCnchen Kaflerstr. 2&amp;lt;/a&amp;gt; gebracht. Die fru00FChestmu00F6gliche Uhrzeit der Abholung kann der Benachrichtigung entnommen werden.</td>\n",
       "      <td>1</td>\n",
       "    </tr>\n",
       "    <tr>\n",
       "      <td>Ihr Paket wird bei uns gelagert und am gewu00FCnschten Liefertag zugestellt.</td>\n",
       "      <td>1</td>\n",
       "    </tr>\n",
       "    <tr>\n",
       "      <td>Die Sendung wird zur Abholung in die &amp;lt;a href='https://psf.dhl.com/?countrycode=DEu0026address= ' class='arrowLink' target='_blank'&amp;gt;&amp;lt;span class='arrow'&amp;gt;&amp;lt;/span&amp;gt;Filiale &amp;lt;/a&amp;gt; gebracht. Die fru00FChestmu00F6gliche Uhrzeit der Abholung kann der Benachrichtigung entnommen werden.</td>\n",
       "      <td>1</td>\n",
       "    </tr>\n",
       "    <tr>\n",
       "      <td>Die Sendung wurde zur Abholung in die &amp;lt;a href='http://standorte.deutschepost.de/Standortsuche?standorttyp=filialen_verkaufspunkteu0026ort=Bonnu0026strasse=Endenicher+Str.u0026hausnummer=333u0026postleitzahl=53121u0026lang=de' class='arrowLink' target='_blank'&amp;gt;&amp;lt;span class='arrow'&amp;gt;&amp;lt;/span&amp;gt;Filiale Endenicher Str. 333 53121 Bonn&amp;lt;/a&amp;gt; gebracht.</td>\n",
       "      <td>1</td>\n",
       "    </tr>\n",
       "    <tr>\n",
       "      <td>Die Sendung befindet sich auf dem Weg zur Packstation.</td>\n",
       "      <td>1</td>\n",
       "    </tr>\n",
       "  </tbody>\n",
       "</table>\n",
       "</div>"
      ],
      "text/plain": [
       "                                                    status\n",
       "Die Sendung wird zur Abholung in die &lt;a href...       1\n",
       "Die Sendung wird zur Abholung in die &lt;a href...       1\n",
       "Die Sendung befindet sich in der Zustellbasis u...       1\n",
       "Leider war eine Zustellung der Sendung nicht mu...       1\n",
       "Die Sendung wird zum Weitertransport vorbereitet.        1\n",
       "Die Sendung wird zur Abholung in die &lt;a href...       1\n",
       "Ihr Paket wird bei uns gelagert und am gewu00FC...       1\n",
       "Die Sendung wird zur Abholung in die &lt;a href...       1\n",
       "Die Sendung wurde zur Abholung in die &lt;a hre...       1\n",
       "Die Sendung befindet sich auf dem Weg zur Packs...       1"
      ]
     },
     "execution_count": 25,
     "metadata": {},
     "output_type": "execute_result"
    }
   ],
   "source": [
    "pd.DataFrame(df[\"status\"].value_counts()).tail(10)"
   ]
  },
  {
   "cell_type": "code",
   "execution_count": 26,
   "metadata": {},
   "outputs": [],
   "source": [
    "df.loc[(df['status'].str.startswith(\"Die Sendung liegt in der\")) & (df['status'].str.endswith(\"zur Abholung bereit.\")), \"status\"] = \"Die Sendung liegt in der ... zur Abholung bereit.\" \n",
    "df.loc[(df['status'].str.startswith(\"Die Sendung liegt ab sofort in der Filiale\")) & (df['status'].str.endswith(\"zur Abholung bereit.\")), \"status\"] = \"Die Sendung liegt ab sofort in dert Filiale ... zur Abholung bereit.\"\n",
    "df.loc[(df['status'].str.startswith(\"Die Sendung wird zur Abholung in die\")) & (df['status'].str.endswith(\"gebracht. Fu00FCr die Abholung ist neben der Benachrichtigung die Vorlage Ihres Ausweises sowie ggf. eine Vollmacht erforderlich.\")), \"status\"] = \"Die Sendung wird zur Abholung in die ... gebracht. Fu00FCr die Abholung ist neben der Benachrichtigung die Vorlage Ihres Ausweises sowie ggf. eine Vollmacht erforderlich.\" \n",
    "df.loc[(df['status'].str.startswith(\"Die Sendung wurde zur Abholung in die\")) & (df['status'].str.endswith(\"gebracht.\")), \"status\"] = \"Die Sendung wurde zur Abholung in die ... gebracht.\" \n",
    "df.loc[(df['status'].str.startswith(\"Die Zustellung am gewu00FCnschten Liefertag\")) & (df['status'].str.endswith(\"wurde gewu00E4hlt.\")), \"status\"] = \"Die Zustellung am gewu00FCnschten Liefertag ... wurde gewu00E4hlt.\" \n",
    "df.loc[(df['status'].str.startswith(\"Die Sendung wird zur Abholung in die\")) & (df['status'].str.endswith(\"gebracht. Die fru00FChestmu00F6gliche Uhrzeit der Abholung kann der Benachrichtigung entnommen werden.\")), \"status\"] = \"Die Sendung wird zur Abholung in die ... gebracht. Die fru00FChestmu00F6gliche Uhrzeit der Abholung kann der Benachrichtigung entnommen werden.\" \n",
    "\n",
    "\n",
    "df.loc[(df['status_next'].str.startswith(\"Die Sendung liegt in der\")) & (df['status_next'].str.endswith(\"zur Abholung bereit.\")), \"status_next\"] = \"Die Sendung liegt in der ... zur Abholung bereit.\" \n",
    "df.loc[(df['status'].str.startswith(\"Die Sendung liegt ab sofort in der Filiale\")) & (df['status'].str.endswith(\"zur Abholung bereit.\")), \"status\"] = \"Die Sendung liegt ab sofort in dert Filiale ... zur Abholung bereit.\"\n",
    "df.loc[(df['status_next'].str.startswith(\"Die Sendung wird zur Abholung in die\")) & (df['status_next'].str.endswith(\"gebracht. Fu00FCr die Abholung ist neben der Benachrichtigung die Vorlage Ihres Ausweises sowie ggf. eine Vollmacht erforderlich.\")), \"status_next\"] = \"Die Sendung wird zur Abholung in die ... gebracht. Fu00FCr die Abholung ist neben der Benachrichtigung die Vorlage Ihres Ausweises sowie ggf. eine Vollmacht erforderlich.\" \n",
    "df.loc[(df['status_next'].str.startswith(\"Die Sendung wurde zur Abholung in die\")) & (df['status_next'].str.endswith(\"gebracht.\")), \"status_next\"] = \"Die Sendung wurde zur Abholung in die ... gebracht.\" \n",
    "df.loc[(df['status_next'].str.startswith(\"Die Zustellung am gewu00FCnschten Liefertag\")) & (df['status_next'].str.endswith(\"wurde gewu00E4hlt.\")), \"status_next\"] = \"Die Zustellung am gewu00FCnschten Liefertag ... wurde gewu00E4hlt.\" \n",
    "df.loc[(df['status_next'].str.startswith(\"Die Sendung wird zur Abholung in die\")) & (df['status_next'].str.endswith(\"gebracht. Die fru00FChestmu00F6gliche Uhrzeit der Abholung kann der Benachrichtigung entnommen werden.\")), \"status_next\"] = \"Die Sendung wird zur Abholung in die ... gebracht. Die fru00FChestmu00F6gliche Uhrzeit der Abholung kann der Benachrichtigung entnommen werden.\" "
   ]
  },
  {
   "cell_type": "code",
   "execution_count": 27,
   "metadata": {},
   "outputs": [
    {
     "data": {
      "text/html": [
       "<div>\n",
       "<style scoped>\n",
       "    .dataframe tbody tr th:only-of-type {\n",
       "        vertical-align: middle;\n",
       "    }\n",
       "\n",
       "    .dataframe tbody tr th {\n",
       "        vertical-align: top;\n",
       "    }\n",
       "\n",
       "    .dataframe thead th {\n",
       "        text-align: right;\n",
       "    }\n",
       "</style>\n",
       "<table border=\"1\" class=\"dataframe\">\n",
       "  <thead>\n",
       "    <tr style=\"text-align: right;\">\n",
       "      <th></th>\n",
       "      <th>status</th>\n",
       "    </tr>\n",
       "  </thead>\n",
       "  <tbody>\n",
       "    <tr>\n",
       "      <td>Die Sendung wurde von DHL bearbeitet und wird fu00FCr den Weitertransport in die Region des Empfu00E4ngers vorbereitet.</td>\n",
       "      <td>58</td>\n",
       "    </tr>\n",
       "    <tr>\n",
       "      <td>Die Sendung wurde elektronisch angeku00FCndigt. Sobald die Sendung von uns bearbeitet wurde, erhalten Sie weitere Informationen.</td>\n",
       "      <td>55</td>\n",
       "    </tr>\n",
       "    <tr>\n",
       "      <td>Die Sendung ist in der Region des Empfu00E4ngers angekommen und wird im nu00E4chsten Schritt zur Zustellbasis transportiert.</td>\n",
       "      <td>35</td>\n",
       "    </tr>\n",
       "    <tr>\n",
       "      <td>Die Sendung wurde in das Zustellfahrzeug geladen. Die Zustellung erfolgt voraussichtlich heute.</td>\n",
       "      <td>29</td>\n",
       "    </tr>\n",
       "    <tr>\n",
       "      <td>Die Sendung wird fu00FCr die Verladung ins Zustellfahrzeug vorbereitet.</td>\n",
       "      <td>10</td>\n",
       "    </tr>\n",
       "    <tr>\n",
       "      <td>Die Sendung konnte nicht zugestellt werden und wird in die Filiale gebracht. Fu00FCr die Abholung ist neben der Benachrichtigung die Vorlage Ihres Ausweises sowie ggf. eine Vollmacht erforderlich.</td>\n",
       "      <td>6</td>\n",
       "    </tr>\n",
       "    <tr>\n",
       "      <td>Die Sendung wird fu00FCr den Weitertransport vorbereitet.</td>\n",
       "      <td>3</td>\n",
       "    </tr>\n",
       "    <tr>\n",
       "      <td>Die Sendung wird zur Abholung in die ... gebracht. Fu00FCr die Abholung ist neben der Benachrichtigung die Vorlage Ihres Ausweises sowie ggf. eine Vollmacht erforderlich.</td>\n",
       "      <td>2</td>\n",
       "    </tr>\n",
       "    <tr>\n",
       "      <td>Die Sendung wird zur Abholung in die ... gebracht. Die fru00FChestmu00F6gliche Uhrzeit der Abholung kann der Benachrichtigung entnommen werden.</td>\n",
       "      <td>2</td>\n",
       "    </tr>\n",
       "    <tr>\n",
       "      <td>Die Sendung konnte nicht zugestellt werden und wird in eine Packstation gebracht.</td>\n",
       "      <td>2</td>\n",
       "    </tr>\n",
       "  </tbody>\n",
       "</table>\n",
       "</div>"
      ],
      "text/plain": [
       "                                                    status\n",
       "Die Sendung wurde von DHL bearbeitet und wird f...      58\n",
       "Die Sendung wurde elektronisch angeku00FCndigt....      55\n",
       "Die Sendung ist in der Region des Empfu00E4nger...      35\n",
       "Die Sendung wurde in das Zustellfahrzeug gelade...      29\n",
       "Die Sendung wird fu00FCr die Verladung ins Zust...      10\n",
       "Die Sendung konnte nicht zugestellt werden und ...       6\n",
       "Die Sendung wird fu00FCr den Weitertransport vo...       3\n",
       "Die Sendung wird zur Abholung in die ... gebrac...       2\n",
       "Die Sendung wird zur Abholung in die ... gebrac...       2\n",
       "Die Sendung konnte nicht zugestellt werden und ...       2"
      ]
     },
     "execution_count": 27,
     "metadata": {},
     "output_type": "execute_result"
    }
   ],
   "source": [
    "pd.DataFrame(df[\"status\"].value_counts()).head(10)"
   ]
  },
  {
   "cell_type": "code",
   "execution_count": 28,
   "metadata": {},
   "outputs": [
    {
     "data": {
      "text/html": [
       "<div>\n",
       "<style scoped>\n",
       "    .dataframe tbody tr th:only-of-type {\n",
       "        vertical-align: middle;\n",
       "    }\n",
       "\n",
       "    .dataframe tbody tr th {\n",
       "        vertical-align: top;\n",
       "    }\n",
       "\n",
       "    .dataframe thead th {\n",
       "        text-align: right;\n",
       "    }\n",
       "</style>\n",
       "<table border=\"1\" class=\"dataframe\">\n",
       "  <thead>\n",
       "    <tr style=\"text-align: right;\">\n",
       "      <th></th>\n",
       "      <th>status</th>\n",
       "    </tr>\n",
       "  </thead>\n",
       "  <tbody>\n",
       "    <tr>\n",
       "      <td>Die Sendung konnte nicht zugestellt werden und wird in eine Packstation gebracht.</td>\n",
       "      <td>2</td>\n",
       "    </tr>\n",
       "    <tr>\n",
       "      <td>Die Sendung befindet sich wie gewu00FCnscht auf dem Weg zur Filiale. Sie werden informiert, sobald die Sendung in der Filiale eingetroffen ist.</td>\n",
       "      <td>1</td>\n",
       "    </tr>\n",
       "    <tr>\n",
       "      <td>Leider war eine Zustellung der Sendung nicht mu00F6glich. Gru00FCnde hierfu00FCr ku00F6nnen sein: Kein Zugang zum Gebu00E4ude, kein Schild an der Klingel, Empfu00E4nger ggf. verzogen, etc.</td>\n",
       "      <td>1</td>\n",
       "    </tr>\n",
       "    <tr>\n",
       "      <td>Die Sendung befindet sich in der Zustellbasis und wird fu00FCr die Auslieferung vorbereitet.</td>\n",
       "      <td>1</td>\n",
       "    </tr>\n",
       "    <tr>\n",
       "      <td>Die Zustellung am gewu00FCnschten Liefertag ... wurde gewu00E4hlt.</td>\n",
       "      <td>1</td>\n",
       "    </tr>\n",
       "    <tr>\n",
       "      <td>Die Sendung wird zum Weitertransport vorbereitet.</td>\n",
       "      <td>1</td>\n",
       "    </tr>\n",
       "    <tr>\n",
       "      <td>Die Sendung wurde zur Abholung in die ... gebracht.</td>\n",
       "      <td>1</td>\n",
       "    </tr>\n",
       "    <tr>\n",
       "      <td>Ihr Paket wird bei uns gelagert und am gewu00FCnschten Liefertag zugestellt.</td>\n",
       "      <td>1</td>\n",
       "    </tr>\n",
       "    <tr>\n",
       "      <td>Die Sendung liegt ab sofort in dert Filiale ... zur Abholung bereit.</td>\n",
       "      <td>1</td>\n",
       "    </tr>\n",
       "    <tr>\n",
       "      <td>Die Sendung befindet sich auf dem Weg zur Packstation.</td>\n",
       "      <td>1</td>\n",
       "    </tr>\n",
       "  </tbody>\n",
       "</table>\n",
       "</div>"
      ],
      "text/plain": [
       "                                                    status\n",
       "Die Sendung konnte nicht zugestellt werden und ...       2\n",
       "Die Sendung befindet sich wie gewu00FCnscht auf...       1\n",
       "Leider war eine Zustellung der Sendung nicht mu...       1\n",
       "Die Sendung befindet sich in der Zustellbasis u...       1\n",
       "Die Zustellung am gewu00FCnschten Liefertag ......       1\n",
       "Die Sendung wird zum Weitertransport vorbereitet.        1\n",
       "Die Sendung wurde zur Abholung in die ... gebra...       1\n",
       "Ihr Paket wird bei uns gelagert und am gewu00FC...       1\n",
       "Die Sendung liegt ab sofort in dert Filiale ......       1\n",
       "Die Sendung befindet sich auf dem Weg zur Packs...       1"
      ]
     },
     "execution_count": 28,
     "metadata": {},
     "output_type": "execute_result"
    }
   ],
   "source": [
    "pd.DataFrame(df[\"status\"].value_counts()).tail(10)"
   ]
  },
  {
   "cell_type": "code",
   "execution_count": 29,
   "metadata": {},
   "outputs": [
    {
     "data": {
      "text/plain": [
       "19"
      ]
     },
     "execution_count": 29,
     "metadata": {},
     "output_type": "execute_result"
    }
   ],
   "source": [
    "len(df[\"status\"].unique())"
   ]
  },
  {
   "cell_type": "code",
   "execution_count": 30,
   "metadata": {},
   "outputs": [
    {
     "data": {
      "text/plain": [
       "19"
      ]
     },
     "execution_count": 30,
     "metadata": {},
     "output_type": "execute_result"
    }
   ],
   "source": [
    "len(df[\"status_next\"].unique())"
   ]
  },
  {
   "cell_type": "markdown",
   "metadata": {},
   "source": [
    "### Distribution of the locations"
   ]
  },
  {
   "cell_type": "code",
   "execution_count": 31,
   "metadata": {},
   "outputs": [
    {
     "data": {
      "text/plain": [
       "29"
      ]
     },
     "execution_count": 31,
     "metadata": {},
     "output_type": "execute_result"
    }
   ],
   "source": [
    "len(df[\"ort\"].unique())"
   ]
  },
  {
   "cell_type": "code",
   "execution_count": 32,
   "metadata": {},
   "outputs": [
    {
     "data": {
      "text/html": [
       "<div>\n",
       "<style scoped>\n",
       "    .dataframe tbody tr th:only-of-type {\n",
       "        vertical-align: middle;\n",
       "    }\n",
       "\n",
       "    .dataframe tbody tr th {\n",
       "        vertical-align: top;\n",
       "    }\n",
       "\n",
       "    .dataframe thead th {\n",
       "        text-align: right;\n",
       "    }\n",
       "</style>\n",
       "<table border=\"1\" class=\"dataframe\">\n",
       "  <thead>\n",
       "    <tr style=\"text-align: right;\">\n",
       "      <th></th>\n",
       "      <th>ort</th>\n",
       "    </tr>\n",
       "  </thead>\n",
       "  <tbody>\n",
       "    <tr>\n",
       "      <td>Unbekannt</td>\n",
       "      <td>103</td>\n",
       "    </tr>\n",
       "    <tr>\n",
       "      <td>Neumu00FCnster</td>\n",
       "      <td>32</td>\n",
       "    </tr>\n",
       "    <tr>\n",
       "      <td>Hamburg</td>\n",
       "      <td>26</td>\n",
       "    </tr>\n",
       "    <tr>\n",
       "      <td>Staufenberg</td>\n",
       "      <td>4</td>\n",
       "    </tr>\n",
       "    <tr>\n",
       "      <td>Dorsten</td>\n",
       "      <td>4</td>\n",
       "    </tr>\n",
       "    <tr>\n",
       "      <td>Augsburg</td>\n",
       "      <td>3</td>\n",
       "    </tr>\n",
       "    <tr>\n",
       "      <td>Bremen GVZ</td>\n",
       "      <td>3</td>\n",
       "    </tr>\n",
       "    <tr>\n",
       "      <td>Speyer</td>\n",
       "      <td>3</td>\n",
       "    </tr>\n",
       "    <tr>\n",
       "      <td>Bu00F6rnicke</td>\n",
       "      <td>3</td>\n",
       "    </tr>\n",
       "    <tr>\n",
       "      <td>Bremen</td>\n",
       "      <td>2</td>\n",
       "    </tr>\n",
       "    <tr>\n",
       "      <td>Dinslaken (MechZB)</td>\n",
       "      <td>2</td>\n",
       "    </tr>\n",
       "    <tr>\n",
       "      <td>Ku00F6ngen</td>\n",
       "      <td>2</td>\n",
       "    </tr>\n",
       "    <tr>\n",
       "      <td>Hamm MechZB</td>\n",
       "      <td>2</td>\n",
       "    </tr>\n",
       "    <tr>\n",
       "      <td>Oldenburg MechZB</td>\n",
       "      <td>2</td>\n",
       "    </tr>\n",
       "    <tr>\n",
       "      <td>Obertshausen</td>\n",
       "      <td>2</td>\n",
       "    </tr>\n",
       "    <tr>\n",
       "      <td>Germering MechZB</td>\n",
       "      <td>2</td>\n",
       "    </tr>\n",
       "    <tr>\n",
       "      <td>Bielefeld</td>\n",
       "      <td>2</td>\n",
       "    </tr>\n",
       "    <tr>\n",
       "      <td>Kitzingen</td>\n",
       "      <td>2</td>\n",
       "    </tr>\n",
       "    <tr>\n",
       "      <td>Ottendorf-Okrilla</td>\n",
       "      <td>2</td>\n",
       "    </tr>\n",
       "    <tr>\n",
       "      <td>Krefeld</td>\n",
       "      <td>1</td>\n",
       "    </tr>\n",
       "  </tbody>\n",
       "</table>\n",
       "</div>"
      ],
      "text/plain": [
       "                    ort\n",
       "Unbekannt           103\n",
       "Neumu00FCnster       32\n",
       "Hamburg              26\n",
       "Staufenberg           4\n",
       "Dorsten               4\n",
       "Augsburg              3\n",
       "Bremen GVZ            3\n",
       "Speyer                3\n",
       "Bu00F6rnicke          3\n",
       "Bremen                2\n",
       "Dinslaken (MechZB)    2\n",
       "Ku00F6ngen            2\n",
       "Hamm MechZB           2\n",
       "Oldenburg MechZB      2\n",
       "Obertshausen          2\n",
       "Germering MechZB      2\n",
       "Bielefeld             2\n",
       "Kitzingen             2\n",
       "Ottendorf-Okrilla     2\n",
       "Krefeld               1"
      ]
     },
     "execution_count": 32,
     "metadata": {},
     "output_type": "execute_result"
    }
   ],
   "source": [
    "pd.DataFrame(df[\"ort\"].value_counts()).head(20)"
   ]
  },
  {
   "cell_type": "code",
   "execution_count": 33,
   "metadata": {},
   "outputs": [
    {
     "data": {
      "text/html": [
       "<div>\n",
       "<style scoped>\n",
       "    .dataframe tbody tr th:only-of-type {\n",
       "        vertical-align: middle;\n",
       "    }\n",
       "\n",
       "    .dataframe tbody tr th {\n",
       "        vertical-align: top;\n",
       "    }\n",
       "\n",
       "    .dataframe thead th {\n",
       "        text-align: right;\n",
       "    }\n",
       "</style>\n",
       "<table border=\"1\" class=\"dataframe\">\n",
       "  <thead>\n",
       "    <tr style=\"text-align: right;\">\n",
       "      <th></th>\n",
       "      <th>ort</th>\n",
       "    </tr>\n",
       "  </thead>\n",
       "  <tbody>\n",
       "    <tr>\n",
       "      <td>Bremen</td>\n",
       "      <td>2</td>\n",
       "    </tr>\n",
       "    <tr>\n",
       "      <td>Dinslaken (MechZB)</td>\n",
       "      <td>2</td>\n",
       "    </tr>\n",
       "    <tr>\n",
       "      <td>Ku00F6ngen</td>\n",
       "      <td>2</td>\n",
       "    </tr>\n",
       "    <tr>\n",
       "      <td>Hamm MechZB</td>\n",
       "      <td>2</td>\n",
       "    </tr>\n",
       "    <tr>\n",
       "      <td>Oldenburg MechZB</td>\n",
       "      <td>2</td>\n",
       "    </tr>\n",
       "    <tr>\n",
       "      <td>Obertshausen</td>\n",
       "      <td>2</td>\n",
       "    </tr>\n",
       "    <tr>\n",
       "      <td>Germering MechZB</td>\n",
       "      <td>2</td>\n",
       "    </tr>\n",
       "    <tr>\n",
       "      <td>Bielefeld</td>\n",
       "      <td>2</td>\n",
       "    </tr>\n",
       "    <tr>\n",
       "      <td>Kitzingen</td>\n",
       "      <td>2</td>\n",
       "    </tr>\n",
       "    <tr>\n",
       "      <td>Ottendorf-Okrilla</td>\n",
       "      <td>2</td>\n",
       "    </tr>\n",
       "    <tr>\n",
       "      <td>Krefeld</td>\n",
       "      <td>1</td>\n",
       "    </tr>\n",
       "    <tr>\n",
       "      <td>Feucht</td>\n",
       "      <td>1</td>\n",
       "    </tr>\n",
       "    <tr>\n",
       "      <td>Hannover</td>\n",
       "      <td>1</td>\n",
       "    </tr>\n",
       "    <tr>\n",
       "      <td>Neustrelitz</td>\n",
       "      <td>1</td>\n",
       "    </tr>\n",
       "    <tr>\n",
       "      <td>Nohra</td>\n",
       "      <td>1</td>\n",
       "    </tr>\n",
       "    <tr>\n",
       "      <td>Bonn MechZB</td>\n",
       "      <td>1</td>\n",
       "    </tr>\n",
       "    <tr>\n",
       "      <td>Kiel</td>\n",
       "      <td>1</td>\n",
       "    </tr>\n",
       "    <tr>\n",
       "      <td>Mu00FCnchen Neuaubing MechZB</td>\n",
       "      <td>1</td>\n",
       "    </tr>\n",
       "    <tr>\n",
       "      <td>Hagen</td>\n",
       "      <td>1</td>\n",
       "    </tr>\n",
       "    <tr>\n",
       "      <td>Essen MechZB</td>\n",
       "      <td>1</td>\n",
       "    </tr>\n",
       "  </tbody>\n",
       "</table>\n",
       "</div>"
      ],
      "text/plain": [
       "                              ort\n",
       "Bremen                          2\n",
       "Dinslaken (MechZB)              2\n",
       "Ku00F6ngen                      2\n",
       "Hamm MechZB                     2\n",
       "Oldenburg MechZB                2\n",
       "Obertshausen                    2\n",
       "Germering MechZB                2\n",
       "Bielefeld                       2\n",
       "Kitzingen                       2\n",
       "Ottendorf-Okrilla               2\n",
       "Krefeld                         1\n",
       "Feucht                          1\n",
       "Hannover                        1\n",
       "Neustrelitz                     1\n",
       "Nohra                           1\n",
       "Bonn MechZB                     1\n",
       "Kiel                            1\n",
       "Mu00FCnchen Neuaubing MechZB    1\n",
       "Hagen                           1\n",
       "Essen MechZB                    1"
      ]
     },
     "execution_count": 33,
     "metadata": {},
     "output_type": "execute_result"
    }
   ],
   "source": [
    "pd.DataFrame(df[\"ort\"].value_counts()).tail(20)"
   ]
  },
  {
   "cell_type": "markdown",
   "metadata": {},
   "source": [
    "Notice: One idea here could be to merge some locations. "
   ]
  },
  {
   "cell_type": "markdown",
   "metadata": {},
   "source": [
    "### Remove unused columns"
   ]
  },
  {
   "cell_type": "code",
   "execution_count": 34,
   "metadata": {},
   "outputs": [],
   "source": [
    "df.drop(columns=[\"crawltime\", \"url\"], inplace=True)"
   ]
  },
  {
   "cell_type": "code",
   "execution_count": 35,
   "metadata": {},
   "outputs": [
    {
     "data": {
      "text/html": [
       "<div>\n",
       "<style scoped>\n",
       "    .dataframe tbody tr th:only-of-type {\n",
       "        vertical-align: middle;\n",
       "    }\n",
       "\n",
       "    .dataframe tbody tr th {\n",
       "        vertical-align: top;\n",
       "    }\n",
       "\n",
       "    .dataframe thead th {\n",
       "        text-align: right;\n",
       "    }\n",
       "</style>\n",
       "<table border=\"1\" class=\"dataframe\">\n",
       "  <thead>\n",
       "    <tr style=\"text-align: right;\">\n",
       "      <th></th>\n",
       "      <th>shipment_number</th>\n",
       "      <th>datum</th>\n",
       "      <th>status</th>\n",
       "      <th>ort</th>\n",
       "      <th>is_final_event</th>\n",
       "      <th>status_next</th>\n",
       "      <th>ort_next</th>\n",
       "      <th>datum_next</th>\n",
       "    </tr>\n",
       "  </thead>\n",
       "  <tbody>\n",
       "    <tr>\n",
       "      <td>0</td>\n",
       "      <td>00340434188193345907</td>\n",
       "      <td>2019-12-10 15:27:00+00:00</td>\n",
       "      <td>Die Sendung wurde elektronisch angeku00FCndigt...</td>\n",
       "      <td>Unbekannt</td>\n",
       "      <td>0.0</td>\n",
       "      <td>Die Sendung wurde von DHL bearbeitet und wird ...</td>\n",
       "      <td>Hamburg</td>\n",
       "      <td>2019-12-10 18:56:00</td>\n",
       "    </tr>\n",
       "    <tr>\n",
       "      <td>1</td>\n",
       "      <td>00340434188193345907</td>\n",
       "      <td>2019-12-10 18:56:00+00:00</td>\n",
       "      <td>Die Sendung wurde von DHL bearbeitet und wird ...</td>\n",
       "      <td>Hamburg</td>\n",
       "      <td>0.0</td>\n",
       "      <td>Die Sendung ist in der Region des Empfu00E4nge...</td>\n",
       "      <td>Bu00F6rnicke</td>\n",
       "      <td>2019-12-11 03:59:00</td>\n",
       "    </tr>\n",
       "    <tr>\n",
       "      <td>2</td>\n",
       "      <td>00340434188193345907</td>\n",
       "      <td>2019-12-11 03:59:00+00:00</td>\n",
       "      <td>Die Sendung ist in der Region des Empfu00E4nge...</td>\n",
       "      <td>Bu00F6rnicke</td>\n",
       "      <td>0.0</td>\n",
       "      <td>Die Sendung wurde in das Zustellfahrzeug gelad...</td>\n",
       "      <td>Unbekannt</td>\n",
       "      <td>2019-12-11 10:01:00</td>\n",
       "    </tr>\n",
       "    <tr>\n",
       "      <td>3</td>\n",
       "      <td>00340434188193345907</td>\n",
       "      <td>2019-12-11 10:01:00+00:00</td>\n",
       "      <td>Die Sendung wurde in das Zustellfahrzeug gelad...</td>\n",
       "      <td>Unbekannt</td>\n",
       "      <td>0.0</td>\n",
       "      <td>Die Sendung konnte nicht zugestellt werden und...</td>\n",
       "      <td>Unbekannt</td>\n",
       "      <td>2019-12-11 11:25:00</td>\n",
       "    </tr>\n",
       "    <tr>\n",
       "      <td>4</td>\n",
       "      <td>00340434188193345907</td>\n",
       "      <td>2019-12-11 11:25:00+00:00</td>\n",
       "      <td>Die Sendung konnte nicht zugestellt werden und...</td>\n",
       "      <td>Unbekannt</td>\n",
       "      <td>0.0</td>\n",
       "      <td>Die Sendung wird zur Abholung in die ... gebra...</td>\n",
       "      <td>Unbekannt</td>\n",
       "      <td>2019-12-11 17:14:00</td>\n",
       "    </tr>\n",
       "  </tbody>\n",
       "</table>\n",
       "</div>"
      ],
      "text/plain": [
       "        shipment_number                     datum  \\\n",
       "0  00340434188193345907 2019-12-10 15:27:00+00:00   \n",
       "1  00340434188193345907 2019-12-10 18:56:00+00:00   \n",
       "2  00340434188193345907 2019-12-11 03:59:00+00:00   \n",
       "3  00340434188193345907 2019-12-11 10:01:00+00:00   \n",
       "4  00340434188193345907 2019-12-11 11:25:00+00:00   \n",
       "\n",
       "                                              status           ort  \\\n",
       "0  Die Sendung wurde elektronisch angeku00FCndigt...     Unbekannt   \n",
       "1  Die Sendung wurde von DHL bearbeitet und wird ...       Hamburg   \n",
       "2  Die Sendung ist in der Region des Empfu00E4nge...  Bu00F6rnicke   \n",
       "3  Die Sendung wurde in das Zustellfahrzeug gelad...     Unbekannt   \n",
       "4  Die Sendung konnte nicht zugestellt werden und...     Unbekannt   \n",
       "\n",
       "   is_final_event                                        status_next  \\\n",
       "0             0.0  Die Sendung wurde von DHL bearbeitet und wird ...   \n",
       "1             0.0  Die Sendung ist in der Region des Empfu00E4nge...   \n",
       "2             0.0  Die Sendung wurde in das Zustellfahrzeug gelad...   \n",
       "3             0.0  Die Sendung konnte nicht zugestellt werden und...   \n",
       "4             0.0  Die Sendung wird zur Abholung in die ... gebra...   \n",
       "\n",
       "       ort_next          datum_next  \n",
       "0       Hamburg 2019-12-10 18:56:00  \n",
       "1  Bu00F6rnicke 2019-12-11 03:59:00  \n",
       "2     Unbekannt 2019-12-11 10:01:00  \n",
       "3     Unbekannt 2019-12-11 11:25:00  \n",
       "4     Unbekannt 2019-12-11 17:14:00  "
      ]
     },
     "execution_count": 35,
     "metadata": {},
     "output_type": "execute_result"
    }
   ],
   "source": [
    "df.head()"
   ]
  },
  {
   "cell_type": "markdown",
   "metadata": {},
   "source": [
    "### Time diff between events"
   ]
  },
  {
   "cell_type": "code",
   "execution_count": 36,
   "metadata": {},
   "outputs": [],
   "source": [
    "df['datum'] = pd.to_datetime(df['datum'], utc=True)\n",
    "df['datum_next'] = pd.to_datetime(df['datum_next'], utc=True)\n",
    "df[\"datum_diff\"] = df[\"datum_next\"] - df[\"datum\"]"
   ]
  },
  {
   "cell_type": "markdown",
   "metadata": {},
   "source": [
    "Notice that for is_final_event=1, the datum_diff does not make any sense. Do not use it in the analysis"
   ]
  },
  {
   "cell_type": "code",
   "execution_count": 37,
   "metadata": {},
   "outputs": [
    {
     "data": {
      "text/html": [
       "<div>\n",
       "<style scoped>\n",
       "    .dataframe tbody tr th:only-of-type {\n",
       "        vertical-align: middle;\n",
       "    }\n",
       "\n",
       "    .dataframe tbody tr th {\n",
       "        vertical-align: top;\n",
       "    }\n",
       "\n",
       "    .dataframe thead th {\n",
       "        text-align: right;\n",
       "    }\n",
       "</style>\n",
       "<table border=\"1\" class=\"dataframe\">\n",
       "  <thead>\n",
       "    <tr style=\"text-align: right;\">\n",
       "      <th></th>\n",
       "      <th>shipment_number</th>\n",
       "      <th>datum</th>\n",
       "      <th>status</th>\n",
       "      <th>ort</th>\n",
       "      <th>is_final_event</th>\n",
       "      <th>status_next</th>\n",
       "      <th>ort_next</th>\n",
       "      <th>datum_next</th>\n",
       "      <th>datum_diff</th>\n",
       "    </tr>\n",
       "  </thead>\n",
       "  <tbody>\n",
       "    <tr>\n",
       "      <td>0</td>\n",
       "      <td>00340434188193345907</td>\n",
       "      <td>2019-12-10 15:27:00+00:00</td>\n",
       "      <td>Die Sendung wurde elektronisch angeku00FCndigt...</td>\n",
       "      <td>Unbekannt</td>\n",
       "      <td>0.0</td>\n",
       "      <td>Die Sendung wurde von DHL bearbeitet und wird ...</td>\n",
       "      <td>Hamburg</td>\n",
       "      <td>2019-12-10 18:56:00+00:00</td>\n",
       "      <td>03:29:00</td>\n",
       "    </tr>\n",
       "    <tr>\n",
       "      <td>1</td>\n",
       "      <td>00340434188193345907</td>\n",
       "      <td>2019-12-10 18:56:00+00:00</td>\n",
       "      <td>Die Sendung wurde von DHL bearbeitet und wird ...</td>\n",
       "      <td>Hamburg</td>\n",
       "      <td>0.0</td>\n",
       "      <td>Die Sendung ist in der Region des Empfu00E4nge...</td>\n",
       "      <td>Bu00F6rnicke</td>\n",
       "      <td>2019-12-11 03:59:00+00:00</td>\n",
       "      <td>09:03:00</td>\n",
       "    </tr>\n",
       "    <tr>\n",
       "      <td>2</td>\n",
       "      <td>00340434188193345907</td>\n",
       "      <td>2019-12-11 03:59:00+00:00</td>\n",
       "      <td>Die Sendung ist in der Region des Empfu00E4nge...</td>\n",
       "      <td>Bu00F6rnicke</td>\n",
       "      <td>0.0</td>\n",
       "      <td>Die Sendung wurde in das Zustellfahrzeug gelad...</td>\n",
       "      <td>Unbekannt</td>\n",
       "      <td>2019-12-11 10:01:00+00:00</td>\n",
       "      <td>06:02:00</td>\n",
       "    </tr>\n",
       "    <tr>\n",
       "      <td>3</td>\n",
       "      <td>00340434188193345907</td>\n",
       "      <td>2019-12-11 10:01:00+00:00</td>\n",
       "      <td>Die Sendung wurde in das Zustellfahrzeug gelad...</td>\n",
       "      <td>Unbekannt</td>\n",
       "      <td>0.0</td>\n",
       "      <td>Die Sendung konnte nicht zugestellt werden und...</td>\n",
       "      <td>Unbekannt</td>\n",
       "      <td>2019-12-11 11:25:00+00:00</td>\n",
       "      <td>01:24:00</td>\n",
       "    </tr>\n",
       "    <tr>\n",
       "      <td>4</td>\n",
       "      <td>00340434188193345907</td>\n",
       "      <td>2019-12-11 11:25:00+00:00</td>\n",
       "      <td>Die Sendung konnte nicht zugestellt werden und...</td>\n",
       "      <td>Unbekannt</td>\n",
       "      <td>0.0</td>\n",
       "      <td>Die Sendung wird zur Abholung in die ... gebra...</td>\n",
       "      <td>Unbekannt</td>\n",
       "      <td>2019-12-11 17:14:00+00:00</td>\n",
       "      <td>05:49:00</td>\n",
       "    </tr>\n",
       "  </tbody>\n",
       "</table>\n",
       "</div>"
      ],
      "text/plain": [
       "        shipment_number                     datum  \\\n",
       "0  00340434188193345907 2019-12-10 15:27:00+00:00   \n",
       "1  00340434188193345907 2019-12-10 18:56:00+00:00   \n",
       "2  00340434188193345907 2019-12-11 03:59:00+00:00   \n",
       "3  00340434188193345907 2019-12-11 10:01:00+00:00   \n",
       "4  00340434188193345907 2019-12-11 11:25:00+00:00   \n",
       "\n",
       "                                              status           ort  \\\n",
       "0  Die Sendung wurde elektronisch angeku00FCndigt...     Unbekannt   \n",
       "1  Die Sendung wurde von DHL bearbeitet und wird ...       Hamburg   \n",
       "2  Die Sendung ist in der Region des Empfu00E4nge...  Bu00F6rnicke   \n",
       "3  Die Sendung wurde in das Zustellfahrzeug gelad...     Unbekannt   \n",
       "4  Die Sendung konnte nicht zugestellt werden und...     Unbekannt   \n",
       "\n",
       "   is_final_event                                        status_next  \\\n",
       "0             0.0  Die Sendung wurde von DHL bearbeitet und wird ...   \n",
       "1             0.0  Die Sendung ist in der Region des Empfu00E4nge...   \n",
       "2             0.0  Die Sendung wurde in das Zustellfahrzeug gelad...   \n",
       "3             0.0  Die Sendung konnte nicht zugestellt werden und...   \n",
       "4             0.0  Die Sendung wird zur Abholung in die ... gebra...   \n",
       "\n",
       "       ort_next                datum_next datum_diff  \n",
       "0       Hamburg 2019-12-10 18:56:00+00:00   03:29:00  \n",
       "1  Bu00F6rnicke 2019-12-11 03:59:00+00:00   09:03:00  \n",
       "2     Unbekannt 2019-12-11 10:01:00+00:00   06:02:00  \n",
       "3     Unbekannt 2019-12-11 11:25:00+00:00   01:24:00  \n",
       "4     Unbekannt 2019-12-11 17:14:00+00:00   05:49:00  "
      ]
     },
     "execution_count": 37,
     "metadata": {},
     "output_type": "execute_result"
    }
   ],
   "source": [
    "df.head()"
   ]
  },
  {
   "cell_type": "markdown",
   "metadata": {},
   "source": [
    "### Define the problem as a regression problem"
   ]
  },
  {
   "cell_type": "code",
   "execution_count": 38,
   "metadata": {},
   "outputs": [],
   "source": [
    "df[\"datum_diff_h\"] = df['datum_diff'].astype('timedelta64[h]')"
   ]
  },
  {
   "cell_type": "markdown",
   "metadata": {},
   "source": [
    "This means now that we want to predict the time between two events. The column \"datum_diff_h\" tells us the time diff betwen the two events in hours"
   ]
  },
  {
   "cell_type": "markdown",
   "metadata": {},
   "source": [
    "##### First we only use two features. So the question is, given status and ort of an event, can we predict, when the next event will happen?"
   ]
  },
  {
   "cell_type": "code",
   "execution_count": 39,
   "metadata": {},
   "outputs": [],
   "source": [
    "df_temp = df[df[\"is_final_event\"] == 0]\n",
    "X = df_temp[[\"status\", \"ort\"]]\n",
    "y = df_temp[\"datum_diff_h\"]"
   ]
  },
  {
   "cell_type": "markdown",
   "metadata": {},
   "source": [
    "Notice that \"status\" and \"ort\" are categorical variables. We shoud encode them!"
   ]
  },
  {
   "cell_type": "code",
   "execution_count": 40,
   "metadata": {},
   "outputs": [],
   "source": [
    "X[\"status\"] = X[\"status\"].astype('category')\n",
    "X[\"status_code\"] = X[\"status\"].cat.codes\n",
    "X[\"ort\"] = X[\"ort\"].astype('category')\n",
    "X[\"ort_code\"] = X[\"ort\"].cat.codes"
   ]
  },
  {
   "cell_type": "markdown",
   "metadata": {},
   "source": [
    "Create trainig and test set"
   ]
  },
  {
   "cell_type": "code",
   "execution_count": 41,
   "metadata": {},
   "outputs": [],
   "source": [
    "from sklearn.model_selection import train_test_split\n",
    "X_train, X_test, y_train, y_test = train_test_split(X, y, test_size=0.33, random_state=42)"
   ]
  },
  {
   "cell_type": "code",
   "execution_count": 42,
   "metadata": {},
   "outputs": [
    {
     "data": {
      "text/html": [
       "<div>\n",
       "<style scoped>\n",
       "    .dataframe tbody tr th:only-of-type {\n",
       "        vertical-align: middle;\n",
       "    }\n",
       "\n",
       "    .dataframe tbody tr th {\n",
       "        vertical-align: top;\n",
       "    }\n",
       "\n",
       "    .dataframe thead th {\n",
       "        text-align: right;\n",
       "    }\n",
       "</style>\n",
       "<table border=\"1\" class=\"dataframe\">\n",
       "  <thead>\n",
       "    <tr style=\"text-align: right;\">\n",
       "      <th></th>\n",
       "      <th>status</th>\n",
       "      <th>ort</th>\n",
       "      <th>status_code</th>\n",
       "      <th>ort_code</th>\n",
       "    </tr>\n",
       "  </thead>\n",
       "  <tbody>\n",
       "    <tr>\n",
       "      <td>0</td>\n",
       "      <td>Die Sendung wurde elektronisch angeku00FCndigt...</td>\n",
       "      <td>Unbekannt</td>\n",
       "      <td>8</td>\n",
       "      <td>26</td>\n",
       "    </tr>\n",
       "    <tr>\n",
       "      <td>1</td>\n",
       "      <td>Die Sendung wurde von DHL bearbeitet und wird ...</td>\n",
       "      <td>Hamburg</td>\n",
       "      <td>10</td>\n",
       "      <td>12</td>\n",
       "    </tr>\n",
       "    <tr>\n",
       "      <td>2</td>\n",
       "      <td>Die Sendung ist in der Region des Empfu00E4nge...</td>\n",
       "      <td>Bu00F6rnicke</td>\n",
       "      <td>2</td>\n",
       "      <td>5</td>\n",
       "    </tr>\n",
       "    <tr>\n",
       "      <td>3</td>\n",
       "      <td>Die Sendung wurde in das Zustellfahrzeug gelad...</td>\n",
       "      <td>Unbekannt</td>\n",
       "      <td>9</td>\n",
       "      <td>26</td>\n",
       "    </tr>\n",
       "    <tr>\n",
       "      <td>4</td>\n",
       "      <td>Die Sendung konnte nicht zugestellt werden und...</td>\n",
       "      <td>Unbekannt</td>\n",
       "      <td>3</td>\n",
       "      <td>26</td>\n",
       "    </tr>\n",
       "  </tbody>\n",
       "</table>\n",
       "</div>"
      ],
      "text/plain": [
       "                                              status           ort  \\\n",
       "0  Die Sendung wurde elektronisch angeku00FCndigt...     Unbekannt   \n",
       "1  Die Sendung wurde von DHL bearbeitet und wird ...       Hamburg   \n",
       "2  Die Sendung ist in der Region des Empfu00E4nge...  Bu00F6rnicke   \n",
       "3  Die Sendung wurde in das Zustellfahrzeug gelad...     Unbekannt   \n",
       "4  Die Sendung konnte nicht zugestellt werden und...     Unbekannt   \n",
       "\n",
       "   status_code  ort_code  \n",
       "0            8        26  \n",
       "1           10        12  \n",
       "2            2         5  \n",
       "3            9        26  \n",
       "4            3        26  "
      ]
     },
     "execution_count": 42,
     "metadata": {},
     "output_type": "execute_result"
    }
   ],
   "source": [
    "X.head()"
   ]
  },
  {
   "cell_type": "code",
   "execution_count": 43,
   "metadata": {},
   "outputs": [
    {
     "data": {
      "text/plain": [
       "RandomForestRegressor(bootstrap=True, ccp_alpha=0.0, criterion='mse',\n",
       "                      max_depth=5, max_features='auto', max_leaf_nodes=None,\n",
       "                      max_samples=None, min_impurity_decrease=0.0,\n",
       "                      min_impurity_split=None, min_samples_leaf=1,\n",
       "                      min_samples_split=2, min_weight_fraction_leaf=0.0,\n",
       "                      n_estimators=50, n_jobs=None, oob_score=False,\n",
       "                      random_state=0, verbose=0, warm_start=False)"
      ]
     },
     "execution_count": 43,
     "metadata": {},
     "output_type": "execute_result"
    }
   ],
   "source": [
    "from sklearn.ensemble import RandomForestRegressor\n",
    "from sklearn.model_selection import cross_val_score\n",
    "\n",
    "regr = RandomForestRegressor(n_estimators=50, max_depth=5, random_state=0)\n",
    "regr.fit(X_train[[\"status_code\", \"ort_code\"]], y_train)"
   ]
  },
  {
   "cell_type": "markdown",
   "metadata": {},
   "source": [
    "##### Coefficient of determination R^2 of the prediction with cross validation"
   ]
  },
  {
   "cell_type": "code",
   "execution_count": 44,
   "metadata": {},
   "outputs": [
    {
     "data": {
      "text/plain": [
       "array([-0.18457366,  0.15591046,  0.3964944 ,  0.5085847 ,  0.33235475,\n",
       "        0.14908121,  0.24366292,  0.08195787,  0.45086146,  0.35141677])"
      ]
     },
     "execution_count": 44,
     "metadata": {},
     "output_type": "execute_result"
    }
   ],
   "source": [
    "cross_val_score(regr, X_train[[\"status_code\", \"ort_code\"]], y_train, cv=10)"
   ]
  },
  {
   "cell_type": "markdown",
   "metadata": {},
   "source": [
    "##### Feature Importance"
   ]
  },
  {
   "cell_type": "code",
   "execution_count": 45,
   "metadata": {},
   "outputs": [
    {
     "name": "stdout",
     "output_type": "stream",
     "text": [
      "[0.8445427 0.1554573]\n"
     ]
    }
   ],
   "source": [
    "print(regr.feature_importances_)"
   ]
  },
  {
   "cell_type": "markdown",
   "metadata": {},
   "source": [
    "\"status\" played a bigger role in predictions comparing to \"ort\""
   ]
  },
  {
   "cell_type": "markdown",
   "metadata": {},
   "source": [
    "##### Fit the model and test it on the test set"
   ]
  },
  {
   "cell_type": "code",
   "execution_count": 46,
   "metadata": {},
   "outputs": [],
   "source": [
    "model = regr.fit(X_train[[\"status_code\", \"ort_code\"]], y_train)"
   ]
  },
  {
   "cell_type": "code",
   "execution_count": 47,
   "metadata": {},
   "outputs": [],
   "source": [
    "y_pred = model.predict(X_test[[\"status_code\", \"ort_code\"]])"
   ]
  },
  {
   "cell_type": "markdown",
   "metadata": {},
   "source": [
    "##### Metrics"
   ]
  },
  {
   "cell_type": "code",
   "execution_count": 48,
   "metadata": {},
   "outputs": [
    {
     "name": "stdout",
     "output_type": "stream",
     "text": [
      "Mean Absolute Error: 9.471017869493265\n",
      "Mean Squared Error: 161.65612447520834\n",
      "Root Mean Squared Error: 12.714406178630929\n"
     ]
    }
   ],
   "source": [
    "from sklearn import metrics\n",
    "import numpy as np\n",
    "print('Mean Absolute Error:', metrics.mean_absolute_error(y_test, y_pred))\n",
    "print('Mean Squared Error:', metrics.mean_squared_error(y_test, y_pred))\n",
    "print('Root Mean Squared Error:', np.sqrt(metrics.mean_squared_error(y_test, y_pred)))"
   ]
  },
  {
   "cell_type": "markdown",
   "metadata": {},
   "source": [
    "##### Distribution of errors"
   ]
  },
  {
   "cell_type": "code",
   "execution_count": 64,
   "metadata": {},
   "outputs": [
    {
     "data": {
      "text/plain": [
       "<matplotlib.axes._subplots.AxesSubplot at 0x7ff8bfaa4240>"
      ]
     },
     "execution_count": 64,
     "metadata": {},
     "output_type": "execute_result"
    },
    {
     "data": {
      "image/png": "[encoded data removed]",
      "text/plain": [
       "<Figure size 432x288 with 1 Axes>"
      ]
     },
     "metadata": {
      "needs_background": "light"
     },
     "output_type": "display_data"
    }
   ],
   "source": [
    "import seaborn as sns\n",
    "sns.distplot(y_test-y_pred, hist=True, kde=True, \n",
    "             bins=int(180/5), color = 'darkblue', \n",
    "             hist_kws={'edgecolor':'black'},\n",
    "             kde_kws={'linewidth': 1})"
   ]
  },
  {
   "cell_type": "markdown",
   "metadata": {},
   "source": [
    "### For which data point do I have a minimal error?"
   ]
  },
  {
   "cell_type": "code",
   "execution_count": 50,
   "metadata": {},
   "outputs": [],
   "source": [
    "X_test_df = pd.DataFrame(X_test).reset_index(drop=True)\n",
    "y_test_df = pd.DataFrame(y_test).reset_index(drop=True)\n",
    "y_pred_df = pd.DataFrame(y_pred).reset_index(drop=True)"
   ]
  },
  {
   "cell_type": "code",
   "execution_count": 51,
   "metadata": {},
   "outputs": [],
   "source": [
    "prediction_df = pd.concat([X_test_df, y_test_df, y_pred_df], axis=1)"
   ]
  },
  {
   "cell_type": "code",
   "execution_count": 52,
   "metadata": {},
   "outputs": [
    {
     "data": {
      "text/html": [
       "<div>\n",
       "<style scoped>\n",
       "    .dataframe tbody tr th:only-of-type {\n",
       "        vertical-align: middle;\n",
       "    }\n",
       "\n",
       "    .dataframe tbody tr th {\n",
       "        vertical-align: top;\n",
       "    }\n",
       "\n",
       "    .dataframe thead th {\n",
       "        text-align: right;\n",
       "    }\n",
       "</style>\n",
       "<table border=\"1\" class=\"dataframe\">\n",
       "  <thead>\n",
       "    <tr style=\"text-align: right;\">\n",
       "      <th></th>\n",
       "      <th>status</th>\n",
       "      <th>ort</th>\n",
       "      <th>status_code</th>\n",
       "      <th>ort_code</th>\n",
       "      <th>datum_diff_h</th>\n",
       "      <th>0</th>\n",
       "    </tr>\n",
       "  </thead>\n",
       "  <tbody>\n",
       "    <tr>\n",
       "      <td>0</td>\n",
       "      <td>Die Sendung wurde in das Zustellfahrzeug gelad...</td>\n",
       "      <td>Unbekannt</td>\n",
       "      <td>9</td>\n",
       "      <td>26</td>\n",
       "      <td>5.0</td>\n",
       "      <td>3.158369</td>\n",
       "    </tr>\n",
       "    <tr>\n",
       "      <td>1</td>\n",
       "      <td>Die Sendung wurde elektronisch angeku00FCndigt...</td>\n",
       "      <td>Unbekannt</td>\n",
       "      <td>8</td>\n",
       "      <td>26</td>\n",
       "      <td>23.0</td>\n",
       "      <td>27.610746</td>\n",
       "    </tr>\n",
       "    <tr>\n",
       "      <td>2</td>\n",
       "      <td>Die Sendung wurde von DHL bearbeitet und wird ...</td>\n",
       "      <td>Neumu00FCnster</td>\n",
       "      <td>10</td>\n",
       "      <td>18</td>\n",
       "      <td>8.0</td>\n",
       "      <td>11.866129</td>\n",
       "    </tr>\n",
       "    <tr>\n",
       "      <td>3</td>\n",
       "      <td>Die Sendung wurde von DHL bearbeitet und wird ...</td>\n",
       "      <td>Neumu00FCnster</td>\n",
       "      <td>10</td>\n",
       "      <td>18</td>\n",
       "      <td>8.0</td>\n",
       "      <td>11.866129</td>\n",
       "    </tr>\n",
       "    <tr>\n",
       "      <td>4</td>\n",
       "      <td>Die Sendung wurde elektronisch angeku00FCndigt...</td>\n",
       "      <td>Unbekannt</td>\n",
       "      <td>8</td>\n",
       "      <td>26</td>\n",
       "      <td>2.0</td>\n",
       "      <td>27.610746</td>\n",
       "    </tr>\n",
       "  </tbody>\n",
       "</table>\n",
       "</div>"
      ],
      "text/plain": [
       "                                              status             ort  \\\n",
       "0  Die Sendung wurde in das Zustellfahrzeug gelad...       Unbekannt   \n",
       "1  Die Sendung wurde elektronisch angeku00FCndigt...       Unbekannt   \n",
       "2  Die Sendung wurde von DHL bearbeitet und wird ...  Neumu00FCnster   \n",
       "3  Die Sendung wurde von DHL bearbeitet und wird ...  Neumu00FCnster   \n",
       "4  Die Sendung wurde elektronisch angeku00FCndigt...       Unbekannt   \n",
       "\n",
       "   status_code  ort_code  datum_diff_h          0  \n",
       "0            9        26           5.0   3.158369  \n",
       "1            8        26          23.0  27.610746  \n",
       "2           10        18           8.0  11.866129  \n",
       "3           10        18           8.0  11.866129  \n",
       "4            8        26           2.0  27.610746  "
      ]
     },
     "execution_count": 52,
     "metadata": {},
     "output_type": "execute_result"
    }
   ],
   "source": [
    "prediction_df.head()"
   ]
  },
  {
   "cell_type": "code",
   "execution_count": 53,
   "metadata": {},
   "outputs": [],
   "source": [
    "prediction_df.columns = ['status', 'ort', 'status_code', 'ort_code', 'y', 'y_pred']"
   ]
  },
  {
   "cell_type": "code",
   "execution_count": 54,
   "metadata": {},
   "outputs": [
    {
     "data": {
      "text/html": [
       "<div>\n",
       "<style scoped>\n",
       "    .dataframe tbody tr th:only-of-type {\n",
       "        vertical-align: middle;\n",
       "    }\n",
       "\n",
       "    .dataframe tbody tr th {\n",
       "        vertical-align: top;\n",
       "    }\n",
       "\n",
       "    .dataframe thead th {\n",
       "        text-align: right;\n",
       "    }\n",
       "</style>\n",
       "<table border=\"1\" class=\"dataframe\">\n",
       "  <thead>\n",
       "    <tr style=\"text-align: right;\">\n",
       "      <th></th>\n",
       "      <th>status</th>\n",
       "      <th>ort</th>\n",
       "      <th>status_code</th>\n",
       "      <th>ort_code</th>\n",
       "      <th>y</th>\n",
       "      <th>y_pred</th>\n",
       "    </tr>\n",
       "  </thead>\n",
       "  <tbody>\n",
       "    <tr>\n",
       "      <td>0</td>\n",
       "      <td>Die Sendung wurde in das Zustellfahrzeug gelad...</td>\n",
       "      <td>Unbekannt</td>\n",
       "      <td>9</td>\n",
       "      <td>26</td>\n",
       "      <td>5.0</td>\n",
       "      <td>3.158369</td>\n",
       "    </tr>\n",
       "    <tr>\n",
       "      <td>1</td>\n",
       "      <td>Die Sendung wurde elektronisch angeku00FCndigt...</td>\n",
       "      <td>Unbekannt</td>\n",
       "      <td>8</td>\n",
       "      <td>26</td>\n",
       "      <td>23.0</td>\n",
       "      <td>27.610746</td>\n",
       "    </tr>\n",
       "    <tr>\n",
       "      <td>2</td>\n",
       "      <td>Die Sendung wurde von DHL bearbeitet und wird ...</td>\n",
       "      <td>Neumu00FCnster</td>\n",
       "      <td>10</td>\n",
       "      <td>18</td>\n",
       "      <td>8.0</td>\n",
       "      <td>11.866129</td>\n",
       "    </tr>\n",
       "    <tr>\n",
       "      <td>3</td>\n",
       "      <td>Die Sendung wurde von DHL bearbeitet und wird ...</td>\n",
       "      <td>Neumu00FCnster</td>\n",
       "      <td>10</td>\n",
       "      <td>18</td>\n",
       "      <td>8.0</td>\n",
       "      <td>11.866129</td>\n",
       "    </tr>\n",
       "    <tr>\n",
       "      <td>4</td>\n",
       "      <td>Die Sendung wurde elektronisch angeku00FCndigt...</td>\n",
       "      <td>Unbekannt</td>\n",
       "      <td>8</td>\n",
       "      <td>26</td>\n",
       "      <td>2.0</td>\n",
       "      <td>27.610746</td>\n",
       "    </tr>\n",
       "  </tbody>\n",
       "</table>\n",
       "</div>"
      ],
      "text/plain": [
       "                                              status             ort  \\\n",
       "0  Die Sendung wurde in das Zustellfahrzeug gelad...       Unbekannt   \n",
       "1  Die Sendung wurde elektronisch angeku00FCndigt...       Unbekannt   \n",
       "2  Die Sendung wurde von DHL bearbeitet und wird ...  Neumu00FCnster   \n",
       "3  Die Sendung wurde von DHL bearbeitet und wird ...  Neumu00FCnster   \n",
       "4  Die Sendung wurde elektronisch angeku00FCndigt...       Unbekannt   \n",
       "\n",
       "   status_code  ort_code     y     y_pred  \n",
       "0            9        26   5.0   3.158369  \n",
       "1            8        26  23.0  27.610746  \n",
       "2           10        18   8.0  11.866129  \n",
       "3           10        18   8.0  11.866129  \n",
       "4            8        26   2.0  27.610746  "
      ]
     },
     "execution_count": 54,
     "metadata": {},
     "output_type": "execute_result"
    }
   ],
   "source": [
    "prediction_df.head()"
   ]
  },
  {
   "cell_type": "code",
   "execution_count": 55,
   "metadata": {},
   "outputs": [],
   "source": [
    "prediction_df[\"diff\"] = abs(prediction_df[\"y\"] - prediction_df[\"y_pred\"])"
   ]
  },
  {
   "cell_type": "code",
   "execution_count": 56,
   "metadata": {},
   "outputs": [
    {
     "data": {
      "text/html": [
       "<div>\n",
       "<style scoped>\n",
       "    .dataframe tbody tr th:only-of-type {\n",
       "        vertical-align: middle;\n",
       "    }\n",
       "\n",
       "    .dataframe tbody tr th {\n",
       "        vertical-align: top;\n",
       "    }\n",
       "\n",
       "    .dataframe thead th {\n",
       "        text-align: right;\n",
       "    }\n",
       "</style>\n",
       "<table border=\"1\" class=\"dataframe\">\n",
       "  <thead>\n",
       "    <tr style=\"text-align: right;\">\n",
       "      <th></th>\n",
       "      <th>status</th>\n",
       "      <th>ort</th>\n",
       "      <th>status_code</th>\n",
       "      <th>ort_code</th>\n",
       "      <th>y</th>\n",
       "      <th>y_pred</th>\n",
       "      <th>diff</th>\n",
       "    </tr>\n",
       "  </thead>\n",
       "  <tbody>\n",
       "    <tr>\n",
       "      <td>0</td>\n",
       "      <td>Die Sendung wurde in das Zustellfahrzeug gelad...</td>\n",
       "      <td>Unbekannt</td>\n",
       "      <td>9</td>\n",
       "      <td>26</td>\n",
       "      <td>5.0</td>\n",
       "      <td>3.158369</td>\n",
       "      <td>1.841631</td>\n",
       "    </tr>\n",
       "    <tr>\n",
       "      <td>1</td>\n",
       "      <td>Die Sendung wurde elektronisch angeku00FCndigt...</td>\n",
       "      <td>Unbekannt</td>\n",
       "      <td>8</td>\n",
       "      <td>26</td>\n",
       "      <td>23.0</td>\n",
       "      <td>27.610746</td>\n",
       "      <td>4.610746</td>\n",
       "    </tr>\n",
       "    <tr>\n",
       "      <td>2</td>\n",
       "      <td>Die Sendung wurde von DHL bearbeitet und wird ...</td>\n",
       "      <td>Neumu00FCnster</td>\n",
       "      <td>10</td>\n",
       "      <td>18</td>\n",
       "      <td>8.0</td>\n",
       "      <td>11.866129</td>\n",
       "      <td>3.866129</td>\n",
       "    </tr>\n",
       "    <tr>\n",
       "      <td>3</td>\n",
       "      <td>Die Sendung wurde von DHL bearbeitet und wird ...</td>\n",
       "      <td>Neumu00FCnster</td>\n",
       "      <td>10</td>\n",
       "      <td>18</td>\n",
       "      <td>8.0</td>\n",
       "      <td>11.866129</td>\n",
       "      <td>3.866129</td>\n",
       "    </tr>\n",
       "    <tr>\n",
       "      <td>4</td>\n",
       "      <td>Die Sendung wurde elektronisch angeku00FCndigt...</td>\n",
       "      <td>Unbekannt</td>\n",
       "      <td>8</td>\n",
       "      <td>26</td>\n",
       "      <td>2.0</td>\n",
       "      <td>27.610746</td>\n",
       "      <td>25.610746</td>\n",
       "    </tr>\n",
       "  </tbody>\n",
       "</table>\n",
       "</div>"
      ],
      "text/plain": [
       "                                              status             ort  \\\n",
       "0  Die Sendung wurde in das Zustellfahrzeug gelad...       Unbekannt   \n",
       "1  Die Sendung wurde elektronisch angeku00FCndigt...       Unbekannt   \n",
       "2  Die Sendung wurde von DHL bearbeitet und wird ...  Neumu00FCnster   \n",
       "3  Die Sendung wurde von DHL bearbeitet und wird ...  Neumu00FCnster   \n",
       "4  Die Sendung wurde elektronisch angeku00FCndigt...       Unbekannt   \n",
       "\n",
       "   status_code  ort_code     y     y_pred       diff  \n",
       "0            9        26   5.0   3.158369   1.841631  \n",
       "1            8        26  23.0  27.610746   4.610746  \n",
       "2           10        18   8.0  11.866129   3.866129  \n",
       "3           10        18   8.0  11.866129   3.866129  \n",
       "4            8        26   2.0  27.610746  25.610746  "
      ]
     },
     "execution_count": 56,
     "metadata": {},
     "output_type": "execute_result"
    }
   ],
   "source": [
    "prediction_df.head()"
   ]
  },
  {
   "cell_type": "code",
   "execution_count": 62,
   "metadata": {},
   "outputs": [
    {
     "data": {
      "text/plain": [
       "array([['Die Sendung wurde elektronisch angeku00FCndigt. Sobald die Sendung von uns bearbeitet wurde, erhalten Sie weitere Informationen.',\n",
       "        'Unbekannt', 8, 26, 2.0, 27.61074641631514, 25.61074641631514],\n",
       "       ['Die Sendung wurde elektronisch angeku00FCndigt. Sobald die Sendung von uns bearbeitet wurde, erhalten Sie weitere Informationen.',\n",
       "        'Unbekannt', 8, 26, 2.0, 27.61074641631514, 25.61074641631514]],\n",
       "      dtype=object)"
      ]
     },
     "execution_count": 62,
     "metadata": {},
     "output_type": "execute_result"
    }
   ],
   "source": [
    "prediction_df[prediction_df[\"diff\"] > 25].values"
   ]
  },
  {
   "cell_type": "code",
   "execution_count": null,
   "metadata": {},
   "outputs": [],
   "source": []
  },
  {
   "cell_type": "code",
   "execution_count": null,
   "metadata": {},
   "outputs": [],
   "source": []
  }
 ],
 "metadata": {
  "kernelspec": {
   "display_name": "Python 3",
   "language": "python",
   "name": "python3"
  },
  "language_info": {
   "codemirror_mode": {
    "name": "ipython",
    "version": 3
   },
   "file_extension": ".py",
   "mimetype": "text/x-python",
   "name": "python",
   "nbconvert_exporter": "python",
   "pygments_lexer": "ipython3",
   "version": "3.7.3"
  }
 },
 "nbformat": 4,
 "nbformat_minor": 2
}

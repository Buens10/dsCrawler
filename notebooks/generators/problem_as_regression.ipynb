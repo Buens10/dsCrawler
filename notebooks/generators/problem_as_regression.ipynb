{
 "cells": [
  {
   "cell_type": "markdown",
   "metadata": {},
   "source": [
    "# Data Exploration"
   ]
  },
  {
   "cell_type": "code",
   "execution_count": 1,
   "metadata": {},
   "outputs": [],
   "source": [
    "import logging\n",
    "for handler in logging.root.handlers[:]:\n",
    "    logging.root.removeHandler(handler)\n",
    "logging.basicConfig(level=logging.INFO)\n",
    "\n",
    "logger = logging.getLogger('baseline')"
   ]
  },
  {
   "cell_type": "code",
   "execution_count": 2,
   "metadata": {},
   "outputs": [],
   "source": [
    "def json_to_df(json_file=None):\n",
    "    \"\"\" Reads a single JSON file containing the\n",
    "    shipment information and converts it to a\n",
    "    structured dataframe\n",
    "    \"\"\"\n",
    "    import pandas as pd\n",
    "    from pandas.io.json import json_normalize\n",
    "    import numpy as np\n",
    "    logger.debug(\"Converting to dataframe: {}\".format(json_file))\n",
    "    df = pd.read_json(json_file, dtype={\"shipment_number\": str})\n",
    "    normalized_df = json_normalize(df['events'])\n",
    "    df.drop([\"events\"], axis=1, inplace=True)\n",
    "    df = pd.concat([df, normalized_df], axis=1)\n",
    "    if \"Die Sendung wurde elektronisch angeku00FCndigt. Sobald die Sendung von uns bearbeitet wurde, erhalten Sie weitere Informationen.\" == df.tail(1)[\"status\"].item():\n",
    "        logger.warning(\"Final delivery state is strange! Ignoring the file {}\".format(json_file))\n",
    "        return\n",
    "    # Some files have multiple states. It does not make sense!\n",
    "    if df[df[\"status\"] == \"Die Sendung wurde erfolgreich zugestellt.\"].shape[0] > 1:\n",
    "        logger.warning(\"Multiple final states! Ignoring the file {}\".format(json_file))\n",
    "        return\n",
    "    if df[\"status\"].isnull().any():\n",
    "        logger.warning(\"Status column has missing values! Ignoring the file {}\".format(json_file))\n",
    "        return\n",
    "    if len(df[\"url\"].unique()) > 1:\n",
    "        logger.warning(\"Multiple URLs for a single shipment number! Something is wrong\")\n",
    "    if len(df[\"shipment_number\"].unique()) > 1:\n",
    "        logger.warning(\"Multiple shipment numbers in the same file. Something is wrong\")\n",
    "    # Ignore the ones which have this status somewhere before the last event. This makes the problem simpler!\n",
    "    if len(df.index[df[\"status\"] == \"Der Empfu00E4nger hat die Sendung in der Filiale abgeholt.\"].tolist()) > 0:\n",
    "        if df.index[df[\"status\"] == \"Der Empfu00E4nger hat die Sendung in der Filiale abgeholt.\"].tolist()[0] < len(df):\n",
    "            return\n",
    "    if len(df.index[df[\"status\"] == \"Die Sendung wurde erfolgreich zugestellt.\"].tolist()) > 0:\n",
    "        if df.index[df[\"status\"] == \"Die Sendung wurde erfolgreich zugestellt.\"].tolist()[0] < len(df):\n",
    "            return\n",
    "    if len(df.index[df[\"status\"].str.startswith(\"Die Sendung liegt in der\") & df[\"status\"].str.endswith(\"zur Abholung bereit.\")].tolist()) > 0:\n",
    "        if df.index[df[\"status\"].str.startswith(\"Die Sendung liegt in der\") & df[\"status\"].str.endswith(\"zur Abholung bereit.\")].tolist()[0] < len(df):\n",
    "            return\n",
    "    if len(df.index[df[\"status\"] == \"Die Sendung in Paketkasten-Anlage eingestellt\"].tolist()) > 0:\n",
    "        if df.index[df[\"status\"] == \"Die Sendung in Paketkasten-Anlage eingestellt\"].tolist()[0] < len(df):\n",
    "            return\n",
    "    df['crawltime'] = pd.to_datetime(df['crawltime'], utc=True)\n",
    "    df['datum'] = pd.to_datetime(df['datum'], utc=True)\n",
    "    if df[\"status\"].isnull().values.any():\n",
    "        logger.warning(\"Column status has missing values! ShipmentNumber: {}\".format(df[\"shipment_number\"].values[0]))\n",
    "    final_event_array = np.zeros(len(df))\n",
    "    final_event_array[-1] = 1\n",
    "    df[\"is_final_event\"] = final_event_array\n",
    "    return df"
   ]
  },
  {
   "cell_type": "code",
   "execution_count": 3,
   "metadata": {},
   "outputs": [],
   "source": [
    "def files_to_df(path='../data'):\n",
    "    \"\"\" Convert all files to a single dataframe\n",
    "    \"\"\"\n",
    "    import os\n",
    "    import pandas as pd\n",
    "    files = []\n",
    "    for r, d, f in os.walk(path):\n",
    "        for file in f:\n",
    "            if '.json' in file:\n",
    "                files.append(os.path.join(r, file))\n",
    "    dfs = [json_to_df(json_file=file) for file in files]\n",
    "    df = pd.concat(dfs, sort=False)\n",
    "    return df"
   ]
  },
  {
   "cell_type": "code",
   "execution_count": 4,
   "metadata": {
    "scrolled": true
   },
   "outputs": [
    {
     "name": "stderr",
     "output_type": "stream",
     "text": [
      "/opt/conda/lib/python3.7/site-packages/ipykernel_launcher.py:11: FutureWarning: pandas.io.json.json_normalize is deprecated, use pandas.json_normalize instead\n",
      "  # This is added back by InteractiveShellApp.init_path()\n",
      "WARNING:baseline:Final delivery state is strange! Ignoring the file ../../data/00340434311100805144.json\n",
      "WARNING:baseline:Final delivery state is strange! Ignoring the file ../../data/00340434154847537844.json\n",
      "WARNING:baseline:Status column has missing values! Ignoring the file ../../data/00340434193824536241.json\n",
      "WARNING:baseline:Multiple final states! Ignoring the file ../../data/00340434311100805113.json\n",
      "WARNING:baseline:Final delivery state is strange! Ignoring the file ../../data/00340434193824462816.json\n",
      "WARNING:baseline:Final delivery state is strange! Ignoring the file ../../data/00340434154847547584.json\n",
      "WARNING:baseline:Final delivery state is strange! Ignoring the file ../../data/00340434311100800491.json\n",
      "WARNING:baseline:Multiple final states! Ignoring the file ../../data/00340434193824456372.json\n",
      "WARNING:baseline:Multiple final states! Ignoring the file ../../data/00340434193824456020.json\n",
      "WARNING:baseline:Multiple final states! Ignoring the file ../../data/00340434311100785651.json\n",
      "WARNING:baseline:Multiple final states! Ignoring the file ../../data/00340434188193339036.json\n",
      "WARNING:baseline:Final delivery state is strange! Ignoring the file ../../data/00340434311100811756.json\n",
      "WARNING:baseline:Final delivery state is strange! Ignoring the file ../../data/00340434154847550294.json\n",
      "WARNING:baseline:Final delivery state is strange! Ignoring the file ../../data/00340434193824446427.json\n",
      "WARNING:baseline:Final delivery state is strange! Ignoring the file ../../data/00340434311100780557.json\n",
      "WARNING:baseline:Final delivery state is strange! Ignoring the file ../../data/00340434154847510977.json\n",
      "WARNING:baseline:Final delivery state is strange! Ignoring the file ../../data/00340434154847504488.json\n",
      "WARNING:baseline:Multiple final states! Ignoring the file ../../data/00340434154847529122.json\n",
      "WARNING:baseline:Final delivery state is strange! Ignoring the file ../../data/00340434154352821834.json\n",
      "WARNING:baseline:Final delivery state is strange! Ignoring the file ../../data/00340434188193332532.json\n",
      "WARNING:baseline:Status column has missing values! Ignoring the file ../../data/00340434193824588530.json\n",
      "WARNING:baseline:Final delivery state is strange! Ignoring the file ../../data/00340434154847506246.json\n",
      "WARNING:baseline:Final delivery state is strange! Ignoring the file ../../data/00340434154847521027.json\n",
      "WARNING:baseline:Status column has missing values! Ignoring the file ../../data/00340434193824591615.json\n",
      "WARNING:baseline:Multiple final states! Ignoring the file ../../data/00340434311100822387.json\n",
      "WARNING:baseline:Multiple final states! Ignoring the file ../../data/00340434188193333270.json\n",
      "WARNING:baseline:Status column has missing values! Ignoring the file ../../data/00340434193824591547.json\n",
      "WARNING:baseline:Status column has missing values! Ignoring the file ../../data/00340434193824592384.json\n",
      "WARNING:baseline:Final delivery state is strange! Ignoring the file ../../data/00340434311100823056.json\n",
      "WARNING:baseline:Final delivery state is strange! Ignoring the file ../../data/00340434188193331108.json\n",
      "WARNING:baseline:Final delivery state is strange! Ignoring the file ../../data/00340434188193330934.json\n",
      "WARNING:baseline:Final delivery state is strange! Ignoring the file ../../data/00340434311100809845.json\n",
      "WARNING:baseline:Multiple final states! Ignoring the file ../../data/00340434193824593428.json\n",
      "WARNING:baseline:Status column has missing values! Ignoring the file ../../data/00340434188193360795.json\n",
      "WARNING:baseline:Final delivery state is strange! Ignoring the file ../../data/00340434154847511783.json\n",
      "WARNING:baseline:Final delivery state is strange! Ignoring the file ../../data/00340434154847548703.json\n",
      "WARNING:baseline:Status column has missing values! Ignoring the file ../../data/00384279070327356615.json\n",
      "WARNING:baseline:Final delivery state is strange! Ignoring the file ../../data/00384279070327403234.json\n",
      "WARNING:baseline:Multiple final states! Ignoring the file ../../data/00340434311100824497.json\n",
      "WARNING:baseline:Final delivery state is strange! Ignoring the file ../../data/00340434154847511776.json\n",
      "WARNING:baseline:Multiple final states! Ignoring the file ../../data/00340434188193353407.json\n",
      "WARNING:baseline:Final delivery state is strange! Ignoring the file ../../data/00340434188193331153.json\n",
      "WARNING:baseline:Final delivery state is strange! Ignoring the file ../../data/00340434188193332440.json\n",
      "WARNING:baseline:Final delivery state is strange! Ignoring the file ../../data/00340434154847517525.json\n",
      "WARNING:baseline:Final delivery state is strange! Ignoring the file ../../data/00340434188193330538.json\n",
      "WARNING:baseline:Final delivery state is strange! Ignoring the file ../../data/00340434154847550256.json\n",
      "WARNING:baseline:Final delivery state is strange! Ignoring the file ../../data/00340434154847551451.json\n",
      "WARNING:baseline:Multiple final states! Ignoring the file ../../data/00340434311100819424.json\n",
      "WARNING:baseline:Multiple final states! Ignoring the file ../../data/00340434188193332587.json\n",
      "WARNING:baseline:Final delivery state is strange! Ignoring the file ../../data/00340434154847551406.json\n",
      "WARNING:baseline:Final delivery state is strange! Ignoring the file ../../data/00340434188193332495.json\n",
      "WARNING:baseline:Final delivery state is strange! Ignoring the file ../../data/00340434154847551390.json\n",
      "WARNING:baseline:Final delivery state is strange! Ignoring the file ../../data/00340434154352822121.json\n",
      "WARNING:baseline:Status column has missing values! Ignoring the file ../../data/00340434193824595187.json\n",
      "WARNING:baseline:Final delivery state is strange! Ignoring the file ../../data/00340434154847550836.json\n",
      "WARNING:baseline:Status column has missing values! Ignoring the file ../../data/00340434193824526532.json\n",
      "WARNING:baseline:Final delivery state is strange! Ignoring the file ../../data/00340434154352822176.json\n",
      "WARNING:baseline:Status column has missing values! Ignoring the file ../../data/00340434154847529368.json\n",
      "WARNING:baseline:Final delivery state is strange! Ignoring the file ../../data/00340434188193367305.json\n",
      "WARNING:baseline:Final delivery state is strange! Ignoring the file ../../data/00340434154847550621.json\n",
      "WARNING:baseline:Status column has missing values! Ignoring the file ../../data/00340434193824596115.json\n",
      "WARNING:baseline:Status column has missing values! Ignoring the file ../../data/00340434311100795476.json\n",
      "WARNING:baseline:Final delivery state is strange! Ignoring the file ../../data/00340434154847515460.json\n",
      "WARNING:baseline:Multiple final states! Ignoring the file ../../data/00340434193824473539.json\n",
      "WARNING:baseline:Status column has missing values! Ignoring the file ../../data/00340434154847539299.json\n",
      "WARNING:baseline:Status column has missing values! Ignoring the file ../../data/00340434154847542503.json\n",
      "WARNING:baseline:Status column has missing values! Ignoring the file ../../data/00340434154847507236.json\n",
      "WARNING:baseline:Final delivery state is strange! Ignoring the file ../../data/00340434154847551505.json\n",
      "WARNING:baseline:Final delivery state is strange! Ignoring the file ../../data/00340434188193330682.json\n",
      "WARNING:baseline:Final delivery state is strange! Ignoring the file ../../data/00340434154847518751.json\n",
      "WARNING:baseline:Status column has missing values! Ignoring the file ../../data/00340434154847532139.json\n",
      "WARNING:baseline:Final delivery state is strange! Ignoring the file ../../data/00340434311100786283.json\n",
      "WARNING:baseline:Status column has missing values! Ignoring the file ../../data/00340434188193339319.json\n",
      "WARNING:baseline:Status column has missing values! Ignoring the file ../../data/00340434193824599468.json\n",
      "WARNING:baseline:Multiple final states! Ignoring the file ../../data/00340434311100824633.json\n",
      "WARNING:baseline:Status column has missing values! Ignoring the file ../../data/00340434193824530645.json\n",
      "WARNING:baseline:Final delivery state is strange! Ignoring the file ../../data/00340434154847550904.json\n",
      "WARNING:baseline:Final delivery state is strange! Ignoring the file ../../data/00340434154847542893.json\n"
     ]
    },
    {
     "name": "stderr",
     "output_type": "stream",
     "text": [
      "WARNING:baseline:Multiple final states! Ignoring the file ../../data/00340434311100816980.json\n",
      "WARNING:baseline:Final delivery state is strange! Ignoring the file ../../data/00340434188193330712.json\n",
      "WARNING:baseline:Multiple final states! Ignoring the file ../../data/00340434311100806714.json\n",
      "WARNING:baseline:Status column has missing values! Ignoring the file ../../data/00340434311100811985.json\n",
      "WARNING:baseline:Status column has missing values! Ignoring the file ../../data/00340434193824523357.json\n",
      "WARNING:baseline:Final delivery state is strange! Ignoring the file ../../data/00340434154847551482.json\n",
      "WARNING:baseline:Final delivery state is strange! Ignoring the file ../../data/00340434188193331092.json\n",
      "WARNING:baseline:Final delivery state is strange! Ignoring the file ../../data/00340434188193330545.json\n",
      "WARNING:baseline:Final delivery state is strange! Ignoring the file ../../data/00340434154847551512.json\n",
      "WARNING:baseline:Final delivery state is strange! Ignoring the file ../../data/00340434154352821995.json\n",
      "WARNING:baseline:Final delivery state is strange! Ignoring the file ../../data/00340434154847505768.json\n",
      "WARNING:baseline:Final delivery state is strange! Ignoring the file ../../data/00340434188193330477.json\n",
      "WARNING:baseline:Final delivery state is strange! Ignoring the file ../../data/00340434311100792598.json\n",
      "WARNING:baseline:Multiple final states! Ignoring the file ../../data/00340434188193351021.json\n",
      "WARNING:baseline:Final delivery state is strange! Ignoring the file ../../data/00340434188193330989.json\n",
      "WARNING:baseline:Final delivery state is strange! Ignoring the file ../../data/00340434311100792574.json\n",
      "WARNING:baseline:Final delivery state is strange! Ignoring the file ../../data/00340434188193331009.json\n",
      "WARNING:baseline:Final delivery state is strange! Ignoring the file ../../data/00340434154847511769.json\n",
      "WARNING:baseline:Final delivery state is strange! Ignoring the file ../../data/00384279070327342151.json\n",
      "WARNING:baseline:Final delivery state is strange! Ignoring the file ../../data/00340434188193367350.json\n",
      "WARNING:baseline:Final delivery state is strange! Ignoring the file ../../data/00340434193824430051.json\n",
      "WARNING:baseline:Final delivery state is strange! Ignoring the file ../../data/00340434311100808046.json\n",
      "WARNING:baseline:Final delivery state is strange! Ignoring the file ../../data/00340434188193330675.json\n",
      "WARNING:baseline:Status column has missing values! Ignoring the file ../../data/00340434193824505315.json\n",
      "WARNING:baseline:Final delivery state is strange! Ignoring the file ../../data/00340434154352821902.json\n",
      "WARNING:baseline:Final delivery state is strange! Ignoring the file ../../data/00340434311100806202.json\n",
      "WARNING:baseline:Multiple final states! Ignoring the file ../../data/00340434188193347512.json\n",
      "WARNING:baseline:Status column has missing values! Ignoring the file ../../data/00340434193824480155.json\n",
      "WARNING:baseline:Final delivery state is strange! Ignoring the file ../../data/00340434311100811695.json\n",
      "WARNING:baseline:Final delivery state is strange! Ignoring the file ../../data/00340434193824592476.json\n",
      "WARNING:baseline:Status column has missing values! Ignoring the file ../../data/00340434311100794585.json\n",
      "WARNING:baseline:Final delivery state is strange! Ignoring the file ../../data/00340434154847513626.json\n",
      "WARNING:baseline:Multiple final states! Ignoring the file ../../data/00340434154847541506.json\n",
      "WARNING:baseline:Final delivery state is strange! Ignoring the file ../../data/00340434154352822138.json\n",
      "WARNING:baseline:Status column has missing values! Ignoring the file ../../data/00340434193824499027.json\n",
      "WARNING:baseline:Final delivery state is strange! Ignoring the file ../../data/00340434188193332501.json\n",
      "WARNING:baseline:Final delivery state is strange! Ignoring the file ../../data/00340434188193330880.json\n",
      "WARNING:baseline:Final delivery state is strange! Ignoring the file ../../data/00340434188193330750.json\n",
      "WARNING:baseline:Status column has missing values! Ignoring the file ../../data/00340434193824594920.json\n",
      "WARNING:baseline:Final delivery state is strange! Ignoring the file ../../data/00340434311100779032.json\n",
      "WARNING:baseline:Status column has missing values! Ignoring the file ../../data/00340434193824557901.json\n",
      "WARNING:baseline:Final delivery state is strange! Ignoring the file ../../data/00340434188193367367.json\n",
      "WARNING:baseline:Multiple final states! Ignoring the file ../../data/00384279070327386513.json\n",
      "WARNING:baseline:Final delivery state is strange! Ignoring the file ../../data/00340434311100819752.json\n",
      "WARNING:baseline:Multiple final states! Ignoring the file ../../data/00340434311100782261.json\n",
      "WARNING:baseline:Status column has missing values! Ignoring the file ../../data/00340434311100791621.json\n",
      "WARNING:baseline:Final delivery state is strange! Ignoring the file ../../data/00340434154847522024.json\n",
      "WARNING:baseline:Final delivery state is strange! Ignoring the file ../../data/00340434188193332464.json\n",
      "WARNING:baseline:Final delivery state is strange! Ignoring the file ../../data/00340434154352821827.json\n",
      "WARNING:baseline:Multiple final states! Ignoring the file ../../data/00340434188193326098.json\n",
      "WARNING:baseline:Final delivery state is strange! Ignoring the file ../../data/00340434154847512001.json\n",
      "WARNING:baseline:Multiple final states! Ignoring the file ../../data/00340434311100819103.json\n",
      "WARNING:baseline:Final delivery state is strange! Ignoring the file ../../data/00340434311100806219.json\n",
      "WARNING:baseline:Multiple final states! Ignoring the file ../../data/00340434311100796473.json\n",
      "WARNING:baseline:Status column has missing values! Ignoring the file ../../data/00340434193824453401.json\n",
      "WARNING:baseline:Multiple final states! Ignoring the file ../../data/00340434311100795834.json\n",
      "WARNING:baseline:Final delivery state is strange! Ignoring the file ../../data/00340434154352822152.json\n",
      "WARNING:baseline:Final delivery state is strange! Ignoring the file ../../data/00340434311100784111.json\n",
      "WARNING:baseline:Status column has missing values! Ignoring the file ../../data/00384279070327322849.json\n",
      "WARNING:baseline:Final delivery state is strange! Ignoring the file ../../data/00340434311100782704.json\n",
      "WARNING:baseline:Status column has missing values! Ignoring the file ../../data/00340434193824524194.json\n",
      "WARNING:baseline:Multiple final states! Ignoring the file ../../data/00340434311100798866.json\n",
      "WARNING:baseline:Final delivery state is strange! Ignoring the file ../../data/00340434311100797906.json\n",
      "WARNING:baseline:Final delivery state is strange! Ignoring the file ../../data/00340434311100806479.json\n",
      "WARNING:baseline:Multiple final states! Ignoring the file ../../data/00340434154847542213.json\n",
      "WARNING:baseline:Final delivery state is strange! Ignoring the file ../../data/00340434188193330491.json\n",
      "WARNING:baseline:Multiple final states! Ignoring the file ../../data/00340434311100796497.json\n",
      "WARNING:baseline:Final delivery state is strange! Ignoring the file ../../data/00340434188193331054.json\n",
      "WARNING:baseline:Final delivery state is strange! Ignoring the file ../../data/00340434154847551192.json\n",
      "WARNING:baseline:Multiple final states! Ignoring the file ../../data/00340434154847542244.json\n",
      "WARNING:baseline:Status column has missing values! Ignoring the file ../../data/00340434193824446472.json\n",
      "WARNING:baseline:Final delivery state is strange! Ignoring the file ../../data/00340434154847550652.json\n",
      "WARNING:baseline:Multiple final states! Ignoring the file ../../data/00340434311100805557.json\n",
      "WARNING:baseline:Final delivery state is strange! Ignoring the file ../../data/00340434154847535314.json\n",
      "WARNING:baseline:Final delivery state is strange! Ignoring the file ../../data/00340434311100778608.json\n",
      "WARNING:baseline:Multiple final states! Ignoring the file ../../data/00384279070327342458.json\n",
      "WARNING:baseline:Multiple final states! Ignoring the file ../../data/00340434188193361129.json\n",
      "WARNING:baseline:Final delivery state is strange! Ignoring the file ../../data/00340434154352821322.json\n",
      "WARNING:baseline:Final delivery state is strange! Ignoring the file ../../data/00340434154847550799.json\n",
      "WARNING:baseline:Status column has missing values! Ignoring the file ../../data/00340434188193352608.json\n"
     ]
    },
    {
     "name": "stderr",
     "output_type": "stream",
     "text": [
      "WARNING:baseline:Status column has missing values! Ignoring the file ../../data/00340434193824557789.json\n",
      "WARNING:baseline:Final delivery state is strange! Ignoring the file ../../data/00340434188193367213.json\n",
      "WARNING:baseline:Multiple final states! Ignoring the file ../../data/00340434311100801689.json\n",
      "WARNING:baseline:Final delivery state is strange! Ignoring the file ../../data/00340434311100800309.json\n",
      "WARNING:baseline:Final delivery state is strange! Ignoring the file ../../data/00340434311100809128.json\n",
      "WARNING:baseline:Final delivery state is strange! Ignoring the file ../../data/00340434154847548239.json\n",
      "WARNING:baseline:Multiple final states! Ignoring the file ../../data/00340434311100782773.json\n",
      "WARNING:baseline:Final delivery state is strange! Ignoring the file ../../data/00340434188193330736.json\n",
      "WARNING:baseline:Status column has missing values! Ignoring the file ../../data/00340434193824535527.json\n",
      "WARNING:baseline:Multiple final states! Ignoring the file ../../data/00340434311100823452.json\n",
      "WARNING:baseline:Final delivery state is strange! Ignoring the file ../../data/00340434311100825586.json\n",
      "WARNING:baseline:Status column has missing values! Ignoring the file ../../data/00340434154847521706.json\n",
      "WARNING:baseline:Multiple final states! Ignoring the file ../../data/00340434311100782292.json\n",
      "WARNING:baseline:Final delivery state is strange! Ignoring the file ../../data/00340434154352822169.json\n",
      "WARNING:baseline:Multiple final states! Ignoring the file ../../data/00340434193824530553.json\n",
      "WARNING:baseline:Multiple final states! Ignoring the file ../../data/00340434311100815297.json\n",
      "WARNING:baseline:Status column has missing values! Ignoring the file ../../data/00340434193824550780.json\n",
      "WARNING:baseline:Final delivery state is strange! Ignoring the file ../../data/00340434154352822145.json\n",
      "WARNING:baseline:Final delivery state is strange! Ignoring the file ../../data/00340434311100798934.json\n",
      "WARNING:baseline:Final delivery state is strange! Ignoring the file ../../data/00340434188193330613.json\n",
      "WARNING:baseline:Multiple final states! Ignoring the file ../../data/00340434188193325411.json\n",
      "WARNING:baseline:Status column has missing values! Ignoring the file ../../data/00340434193824464810.json\n",
      "WARNING:baseline:Final delivery state is strange! Ignoring the file ../../data/00340434154847550669.json\n"
     ]
    }
   ],
   "source": [
    "df = files_to_df(path='../../data')"
   ]
  },
  {
   "cell_type": "markdown",
   "metadata": {},
   "source": [
    "### Are there any missing values?"
   ]
  },
  {
   "cell_type": "code",
   "execution_count": 5,
   "metadata": {},
   "outputs": [],
   "source": [
    "import pandas as pd\n",
    "def count_missing_values(df):\n",
    "    percent_missing = df.isnull().sum() * 100 / len(df)\n",
    "    missing_value_df = pd.DataFrame({'column_name': df.columns,\n",
    "                                 'percent_missing': percent_missing})\n",
    "    return missing_value_df\n",
    "missing_value_df = count_missing_values(df)"
   ]
  },
  {
   "cell_type": "code",
   "execution_count": 6,
   "metadata": {},
   "outputs": [
    {
     "data": {
      "text/html": [
       "<div>\n",
       "<style scoped>\n",
       "    .dataframe tbody tr th:only-of-type {\n",
       "        vertical-align: middle;\n",
       "    }\n",
       "\n",
       "    .dataframe tbody tr th {\n",
       "        vertical-align: top;\n",
       "    }\n",
       "\n",
       "    .dataframe thead th {\n",
       "        text-align: right;\n",
       "    }\n",
       "</style>\n",
       "<table border=\"1\" class=\"dataframe\">\n",
       "  <thead>\n",
       "    <tr style=\"text-align: right;\">\n",
       "      <th></th>\n",
       "      <th>column_name</th>\n",
       "      <th>percent_missing</th>\n",
       "    </tr>\n",
       "  </thead>\n",
       "  <tbody>\n",
       "    <tr>\n",
       "      <th>shipment_number</th>\n",
       "      <td>shipment_number</td>\n",
       "      <td>0.000000</td>\n",
       "    </tr>\n",
       "    <tr>\n",
       "      <th>crawltime</th>\n",
       "      <td>crawltime</td>\n",
       "      <td>0.000000</td>\n",
       "    </tr>\n",
       "    <tr>\n",
       "      <th>url</th>\n",
       "      <td>url</td>\n",
       "      <td>0.000000</td>\n",
       "    </tr>\n",
       "    <tr>\n",
       "      <th>datum</th>\n",
       "      <td>datum</td>\n",
       "      <td>0.000000</td>\n",
       "    </tr>\n",
       "    <tr>\n",
       "      <th>status</th>\n",
       "      <td>status</td>\n",
       "      <td>0.000000</td>\n",
       "    </tr>\n",
       "    <tr>\n",
       "      <th>is_final_event</th>\n",
       "      <td>is_final_event</td>\n",
       "      <td>0.000000</td>\n",
       "    </tr>\n",
       "    <tr>\n",
       "      <th>ort</th>\n",
       "      <td>ort</td>\n",
       "      <td>60.701754</td>\n",
       "    </tr>\n",
       "  </tbody>\n",
       "</table>\n",
       "</div>"
      ],
      "text/plain": [
       "                     column_name  percent_missing\n",
       "shipment_number  shipment_number         0.000000\n",
       "crawltime              crawltime         0.000000\n",
       "url                          url         0.000000\n",
       "datum                      datum         0.000000\n",
       "status                    status         0.000000\n",
       "is_final_event    is_final_event         0.000000\n",
       "ort                          ort        60.701754"
      ]
     },
     "execution_count": 6,
     "metadata": {},
     "output_type": "execute_result"
    }
   ],
   "source": [
    "missing_value_df"
   ]
  },
  {
   "cell_type": "markdown",
   "metadata": {},
   "source": [
    "Column \"ort\" has many missing values. We fill them with \"Unbekannt\""
   ]
  },
  {
   "cell_type": "code",
   "execution_count": 7,
   "metadata": {},
   "outputs": [],
   "source": [
    "def fill_missing_values(df):\n",
    "    \"\"\" Fills missing values of specific columns\n",
    "    in the data frame with pre-defined values.\n",
    "    \"\"\"\n",
    "    df['ort'].fillna(\"Unbekannt\", inplace=True)\n",
    "    logger.debug(\"Filled missing values for ort column\")\n",
    "    return df"
   ]
  },
  {
   "cell_type": "code",
   "execution_count": 8,
   "metadata": {},
   "outputs": [],
   "source": [
    "df = fill_missing_values(df)"
   ]
  },
  {
   "cell_type": "markdown",
   "metadata": {},
   "source": [
    "Check again if there are any missing values"
   ]
  },
  {
   "cell_type": "code",
   "execution_count": 9,
   "metadata": {},
   "outputs": [
    {
     "data": {
      "text/html": [
       "<div>\n",
       "<style scoped>\n",
       "    .dataframe tbody tr th:only-of-type {\n",
       "        vertical-align: middle;\n",
       "    }\n",
       "\n",
       "    .dataframe tbody tr th {\n",
       "        vertical-align: top;\n",
       "    }\n",
       "\n",
       "    .dataframe thead th {\n",
       "        text-align: right;\n",
       "    }\n",
       "</style>\n",
       "<table border=\"1\" class=\"dataframe\">\n",
       "  <thead>\n",
       "    <tr style=\"text-align: right;\">\n",
       "      <th></th>\n",
       "      <th>column_name</th>\n",
       "      <th>percent_missing</th>\n",
       "    </tr>\n",
       "  </thead>\n",
       "  <tbody>\n",
       "    <tr>\n",
       "      <th>shipment_number</th>\n",
       "      <td>shipment_number</td>\n",
       "      <td>0.0</td>\n",
       "    </tr>\n",
       "    <tr>\n",
       "      <th>crawltime</th>\n",
       "      <td>crawltime</td>\n",
       "      <td>0.0</td>\n",
       "    </tr>\n",
       "    <tr>\n",
       "      <th>url</th>\n",
       "      <td>url</td>\n",
       "      <td>0.0</td>\n",
       "    </tr>\n",
       "    <tr>\n",
       "      <th>datum</th>\n",
       "      <td>datum</td>\n",
       "      <td>0.0</td>\n",
       "    </tr>\n",
       "    <tr>\n",
       "      <th>status</th>\n",
       "      <td>status</td>\n",
       "      <td>0.0</td>\n",
       "    </tr>\n",
       "    <tr>\n",
       "      <th>is_final_event</th>\n",
       "      <td>is_final_event</td>\n",
       "      <td>0.0</td>\n",
       "    </tr>\n",
       "    <tr>\n",
       "      <th>ort</th>\n",
       "      <td>ort</td>\n",
       "      <td>0.0</td>\n",
       "    </tr>\n",
       "  </tbody>\n",
       "</table>\n",
       "</div>"
      ],
      "text/plain": [
       "                     column_name  percent_missing\n",
       "shipment_number  shipment_number              0.0\n",
       "crawltime              crawltime              0.0\n",
       "url                          url              0.0\n",
       "datum                      datum              0.0\n",
       "status                    status              0.0\n",
       "is_final_event    is_final_event              0.0\n",
       "ort                          ort              0.0"
      ]
     },
     "execution_count": 9,
     "metadata": {},
     "output_type": "execute_result"
    }
   ],
   "source": [
    "count_missing_values(df)"
   ]
  },
  {
   "cell_type": "markdown",
   "metadata": {},
   "source": [
    "### Data Stats"
   ]
  },
  {
   "cell_type": "code",
   "execution_count": 10,
   "metadata": {},
   "outputs": [
    {
     "data": {
      "text/plain": [
       "(1995, 7)"
      ]
     },
     "execution_count": 10,
     "metadata": {},
     "output_type": "execute_result"
    }
   ],
   "source": [
    "df.shape"
   ]
  },
  {
   "cell_type": "markdown",
   "metadata": {},
   "source": [
    "Number of unique shipment numbers"
   ]
  },
  {
   "cell_type": "code",
   "execution_count": 11,
   "metadata": {},
   "outputs": [
    {
     "data": {
      "text/plain": [
       "495"
      ]
     },
     "execution_count": 11,
     "metadata": {},
     "output_type": "execute_result"
    }
   ],
   "source": [
    "len(df.shipment_number.unique())"
   ]
  },
  {
   "cell_type": "markdown",
   "metadata": {},
   "source": [
    "### Investigate Data Types"
   ]
  },
  {
   "cell_type": "code",
   "execution_count": 12,
   "metadata": {},
   "outputs": [
    {
     "name": "stdout",
     "output_type": "stream",
     "text": [
      "<class 'pandas.core.frame.DataFrame'>\n",
      "Int64Index: 1995 entries, 0 to 0\n",
      "Data columns (total 7 columns):\n",
      " #   Column           Non-Null Count  Dtype              \n",
      "---  ------           --------------  -----              \n",
      " 0   shipment_number  1995 non-null   object             \n",
      " 1   crawltime        1995 non-null   datetime64[ns, UTC]\n",
      " 2   url              1995 non-null   object             \n",
      " 3   datum            1995 non-null   datetime64[ns, UTC]\n",
      " 4   status           1995 non-null   object             \n",
      " 5   is_final_event   1995 non-null   float64            \n",
      " 6   ort              1995 non-null   object             \n",
      "dtypes: datetime64[ns, UTC](2), float64(1), object(4)\n",
      "memory usage: 124.7+ KB\n"
     ]
    }
   ],
   "source": [
    "df.info()"
   ]
  },
  {
   "cell_type": "markdown",
   "metadata": {},
   "source": [
    "Everything regarding data types seems to be fine! No need for conversion"
   ]
  },
  {
   "cell_type": "markdown",
   "metadata": {},
   "source": [
    "### Prepare data for exploration and machine learning"
   ]
  },
  {
   "cell_type": "markdown",
   "metadata": {},
   "source": [
    "- Given the features \"datum\", \"status\" and \"ort\" we want to predict the next \"datum\" and hopefully also the next \"status\" and the next \"ort\"\n",
    "- We create 3 new columns. \"datum_next\", \"ort_next\" and \"status_next\"."
   ]
  },
  {
   "cell_type": "code",
   "execution_count": 13,
   "metadata": {},
   "outputs": [],
   "source": [
    "def create_target_columns(df):\n",
    "    import numpy as np \n",
    "\n",
    "    df['status_next'] = df.groupby(['shipment_number'])['status'].shift(-1)\n",
    "    df['ort_next'] = df.groupby(['shipment_number'])['ort'].shift(-1)\n",
    "    df['datum_next'] = df.groupby(['shipment_number'])['datum'].shift(-1)\n",
    "    # we define values for the case the package is already delivered.\n",
    "    df.loc[df['is_final_event'] == 1, 'status_next'] = \"SuccessDelivery\"\n",
    "    df.loc[df['is_final_event'] == 1, 'ort_next'] = \"SuccessDelivery\"\n",
    "    df.loc[df['is_final_event'] == 1, 'datum_next'] = np.datetime64('today')\n",
    "    \n",
    "    return df"
   ]
  },
  {
   "cell_type": "code",
   "execution_count": 14,
   "metadata": {},
   "outputs": [],
   "source": [
    "# Disable warnings\n",
    "pd.set_option('mode.chained_assignment', None)\n",
    "df = create_target_columns(df)"
   ]
  },
  {
   "cell_type": "code",
   "execution_count": 15,
   "metadata": {},
   "outputs": [
    {
     "data": {
      "text/html": [
       "<div>\n",
       "<style scoped>\n",
       "    .dataframe tbody tr th:only-of-type {\n",
       "        vertical-align: middle;\n",
       "    }\n",
       "\n",
       "    .dataframe tbody tr th {\n",
       "        vertical-align: top;\n",
       "    }\n",
       "\n",
       "    .dataframe thead th {\n",
       "        text-align: right;\n",
       "    }\n",
       "</style>\n",
       "<table border=\"1\" class=\"dataframe\">\n",
       "  <thead>\n",
       "    <tr style=\"text-align: right;\">\n",
       "      <th></th>\n",
       "      <th>shipment_number</th>\n",
       "      <th>crawltime</th>\n",
       "      <th>url</th>\n",
       "      <th>datum</th>\n",
       "      <th>status</th>\n",
       "      <th>is_final_event</th>\n",
       "      <th>ort</th>\n",
       "      <th>status_next</th>\n",
       "      <th>ort_next</th>\n",
       "      <th>datum_next</th>\n",
       "    </tr>\n",
       "  </thead>\n",
       "  <tbody>\n",
       "    <tr>\n",
       "      <th>0</th>\n",
       "      <td>00340434154847512209</td>\n",
       "      <td>2020-02-11 01:38:49+00:00</td>\n",
       "      <td>https://www.dhl.de/int-verfolgen/search?langua...</td>\n",
       "      <td>2019-11-15 16:59:00+00:00</td>\n",
       "      <td>Die Sendung wurde storniert.</td>\n",
       "      <td>1.0</td>\n",
       "      <td>Unbekannt</td>\n",
       "      <td>SuccessDelivery</td>\n",
       "      <td>SuccessDelivery</td>\n",
       "      <td>2020-04-14</td>\n",
       "    </tr>\n",
       "    <tr>\n",
       "      <th>0</th>\n",
       "      <td>00340434193824592131</td>\n",
       "      <td>2020-02-11 05:03:57+00:00</td>\n",
       "      <td>https://www.dhl.de/int-verfolgen/search?langua...</td>\n",
       "      <td>2020-02-06 13:59:00+00:00</td>\n",
       "      <td>Die Sendung wurde elektronisch angeku00FCndigt...</td>\n",
       "      <td>0.0</td>\n",
       "      <td>Unbekannt</td>\n",
       "      <td>Die Sendung wurde von DHL bearbeitet und wird ...</td>\n",
       "      <td>Bu00F6rnicke</td>\n",
       "      <td>2020-02-06 15:47:00+00:00</td>\n",
       "    </tr>\n",
       "    <tr>\n",
       "      <th>1</th>\n",
       "      <td>00340434193824592131</td>\n",
       "      <td>2020-02-11 05:03:57+00:00</td>\n",
       "      <td>https://www.dhl.de/int-verfolgen/search?langua...</td>\n",
       "      <td>2020-02-06 15:47:00+00:00</td>\n",
       "      <td>Die Sendung wurde von DHL bearbeitet und wird ...</td>\n",
       "      <td>0.0</td>\n",
       "      <td>Bu00F6rnicke</td>\n",
       "      <td>Die geringfu00FCgig beschu00E4digte Sendung wi...</td>\n",
       "      <td>Bu00F6rnicke</td>\n",
       "      <td>2020-02-06 15:50:00+00:00</td>\n",
       "    </tr>\n",
       "    <tr>\n",
       "      <th>2</th>\n",
       "      <td>00340434193824592131</td>\n",
       "      <td>2020-02-11 05:03:57+00:00</td>\n",
       "      <td>https://www.dhl.de/int-verfolgen/search?langua...</td>\n",
       "      <td>2020-02-06 15:50:00+00:00</td>\n",
       "      <td>Die geringfu00FCgig beschu00E4digte Sendung wi...</td>\n",
       "      <td>0.0</td>\n",
       "      <td>Bu00F6rnicke</td>\n",
       "      <td>Die Sendung wird fu00FCr den Weitertransport v...</td>\n",
       "      <td>Staufenberg</td>\n",
       "      <td>2020-02-07 00:43:00+00:00</td>\n",
       "    </tr>\n",
       "    <tr>\n",
       "      <th>3</th>\n",
       "      <td>00340434193824592131</td>\n",
       "      <td>2020-02-11 05:03:57+00:00</td>\n",
       "      <td>https://www.dhl.de/int-verfolgen/search?langua...</td>\n",
       "      <td>2020-02-07 00:43:00+00:00</td>\n",
       "      <td>Die Sendung wird fu00FCr den Weitertransport v...</td>\n",
       "      <td>0.0</td>\n",
       "      <td>Staufenberg</td>\n",
       "      <td>Die Sendung ist in der Region des Empfu00E4nge...</td>\n",
       "      <td>Staufenberg</td>\n",
       "      <td>2020-02-07 02:44:00+00:00</td>\n",
       "    </tr>\n",
       "  </tbody>\n",
       "</table>\n",
       "</div>"
      ],
      "text/plain": [
       "        shipment_number                 crawltime  \\\n",
       "0  00340434154847512209 2020-02-11 01:38:49+00:00   \n",
       "0  00340434193824592131 2020-02-11 05:03:57+00:00   \n",
       "1  00340434193824592131 2020-02-11 05:03:57+00:00   \n",
       "2  00340434193824592131 2020-02-11 05:03:57+00:00   \n",
       "3  00340434193824592131 2020-02-11 05:03:57+00:00   \n",
       "\n",
       "                                                 url  \\\n",
       "0  https://www.dhl.de/int-verfolgen/search?langua...   \n",
       "0  https://www.dhl.de/int-verfolgen/search?langua...   \n",
       "1  https://www.dhl.de/int-verfolgen/search?langua...   \n",
       "2  https://www.dhl.de/int-verfolgen/search?langua...   \n",
       "3  https://www.dhl.de/int-verfolgen/search?langua...   \n",
       "\n",
       "                      datum  \\\n",
       "0 2019-11-15 16:59:00+00:00   \n",
       "0 2020-02-06 13:59:00+00:00   \n",
       "1 2020-02-06 15:47:00+00:00   \n",
       "2 2020-02-06 15:50:00+00:00   \n",
       "3 2020-02-07 00:43:00+00:00   \n",
       "\n",
       "                                              status  is_final_event  \\\n",
       "0                       Die Sendung wurde storniert.             1.0   \n",
       "0  Die Sendung wurde elektronisch angeku00FCndigt...             0.0   \n",
       "1  Die Sendung wurde von DHL bearbeitet und wird ...             0.0   \n",
       "2  Die geringfu00FCgig beschu00E4digte Sendung wi...             0.0   \n",
       "3  Die Sendung wird fu00FCr den Weitertransport v...             0.0   \n",
       "\n",
       "            ort                                        status_next  \\\n",
       "0     Unbekannt                                    SuccessDelivery   \n",
       "0     Unbekannt  Die Sendung wurde von DHL bearbeitet und wird ...   \n",
       "1  Bu00F6rnicke  Die geringfu00FCgig beschu00E4digte Sendung wi...   \n",
       "2  Bu00F6rnicke  Die Sendung wird fu00FCr den Weitertransport v...   \n",
       "3   Staufenberg  Die Sendung ist in der Region des Empfu00E4nge...   \n",
       "\n",
       "          ort_next                 datum_next  \n",
       "0  SuccessDelivery                 2020-04-14  \n",
       "0     Bu00F6rnicke  2020-02-06 15:47:00+00:00  \n",
       "1     Bu00F6rnicke  2020-02-06 15:50:00+00:00  \n",
       "2      Staufenberg  2020-02-07 00:43:00+00:00  \n",
       "3      Staufenberg  2020-02-07 02:44:00+00:00  "
      ]
     },
     "execution_count": 15,
     "metadata": {},
     "output_type": "execute_result"
    }
   ],
   "source": [
    "df.head()"
   ]
  },
  {
   "cell_type": "code",
   "execution_count": 16,
   "metadata": {},
   "outputs": [
    {
     "name": "stdout",
     "output_type": "stream",
     "text": [
      "<class 'pandas.core.frame.DataFrame'>\n",
      "Int64Index: 1995 entries, 0 to 0\n",
      "Data columns (total 10 columns):\n",
      " #   Column           Non-Null Count  Dtype              \n",
      "---  ------           --------------  -----              \n",
      " 0   shipment_number  1995 non-null   object             \n",
      " 1   crawltime        1995 non-null   datetime64[ns, UTC]\n",
      " 2   url              1995 non-null   object             \n",
      " 3   datum            1995 non-null   datetime64[ns, UTC]\n",
      " 4   status           1995 non-null   object             \n",
      " 5   is_final_event   1995 non-null   float64            \n",
      " 6   ort              1995 non-null   object             \n",
      " 7   status_next      1995 non-null   object             \n",
      " 8   ort_next         1995 non-null   object             \n",
      " 9   datum_next       1995 non-null   object             \n",
      "dtypes: datetime64[ns, UTC](2), float64(1), object(7)\n",
      "memory usage: 171.4+ KB\n"
     ]
    }
   ],
   "source": [
    "df.info()"
   ]
  },
  {
   "cell_type": "markdown",
   "metadata": {},
   "source": [
    "### Data Stats"
   ]
  },
  {
   "cell_type": "code",
   "execution_count": 17,
   "metadata": {},
   "outputs": [
    {
     "data": {
      "text/html": [
       "<div>\n",
       "<style scoped>\n",
       "    .dataframe tbody tr th:only-of-type {\n",
       "        vertical-align: middle;\n",
       "    }\n",
       "\n",
       "    .dataframe tbody tr th {\n",
       "        vertical-align: top;\n",
       "    }\n",
       "\n",
       "    .dataframe thead th {\n",
       "        text-align: right;\n",
       "    }\n",
       "</style>\n",
       "<table border=\"1\" class=\"dataframe\">\n",
       "  <thead>\n",
       "    <tr style=\"text-align: right;\">\n",
       "      <th></th>\n",
       "      <th>column_name</th>\n",
       "      <th>percent_missing</th>\n",
       "    </tr>\n",
       "  </thead>\n",
       "  <tbody>\n",
       "    <tr>\n",
       "      <th>shipment_number</th>\n",
       "      <td>shipment_number</td>\n",
       "      <td>0.0</td>\n",
       "    </tr>\n",
       "    <tr>\n",
       "      <th>crawltime</th>\n",
       "      <td>crawltime</td>\n",
       "      <td>0.0</td>\n",
       "    </tr>\n",
       "    <tr>\n",
       "      <th>url</th>\n",
       "      <td>url</td>\n",
       "      <td>0.0</td>\n",
       "    </tr>\n",
       "    <tr>\n",
       "      <th>datum</th>\n",
       "      <td>datum</td>\n",
       "      <td>0.0</td>\n",
       "    </tr>\n",
       "    <tr>\n",
       "      <th>status</th>\n",
       "      <td>status</td>\n",
       "      <td>0.0</td>\n",
       "    </tr>\n",
       "    <tr>\n",
       "      <th>is_final_event</th>\n",
       "      <td>is_final_event</td>\n",
       "      <td>0.0</td>\n",
       "    </tr>\n",
       "    <tr>\n",
       "      <th>ort</th>\n",
       "      <td>ort</td>\n",
       "      <td>0.0</td>\n",
       "    </tr>\n",
       "    <tr>\n",
       "      <th>status_next</th>\n",
       "      <td>status_next</td>\n",
       "      <td>0.0</td>\n",
       "    </tr>\n",
       "    <tr>\n",
       "      <th>ort_next</th>\n",
       "      <td>ort_next</td>\n",
       "      <td>0.0</td>\n",
       "    </tr>\n",
       "    <tr>\n",
       "      <th>datum_next</th>\n",
       "      <td>datum_next</td>\n",
       "      <td>0.0</td>\n",
       "    </tr>\n",
       "  </tbody>\n",
       "</table>\n",
       "</div>"
      ],
      "text/plain": [
       "                     column_name  percent_missing\n",
       "shipment_number  shipment_number              0.0\n",
       "crawltime              crawltime              0.0\n",
       "url                          url              0.0\n",
       "datum                      datum              0.0\n",
       "status                    status              0.0\n",
       "is_final_event    is_final_event              0.0\n",
       "ort                          ort              0.0\n",
       "status_next          status_next              0.0\n",
       "ort_next                ort_next              0.0\n",
       "datum_next            datum_next              0.0"
      ]
     },
     "execution_count": 17,
     "metadata": {},
     "output_type": "execute_result"
    }
   ],
   "source": [
    "count_missing_values(df)"
   ]
  },
  {
   "cell_type": "code",
   "execution_count": 18,
   "metadata": {},
   "outputs": [
    {
     "data": {
      "text/plain": [
       "(1995, 10)"
      ]
     },
     "execution_count": 18,
     "metadata": {},
     "output_type": "execute_result"
    }
   ],
   "source": [
    "df.shape"
   ]
  },
  {
   "cell_type": "markdown",
   "metadata": {},
   "source": [
    "Number of unique shipment numbers"
   ]
  },
  {
   "cell_type": "code",
   "execution_count": 19,
   "metadata": {},
   "outputs": [
    {
     "data": {
      "text/plain": [
       "495"
      ]
     },
     "execution_count": 19,
     "metadata": {},
     "output_type": "execute_result"
    }
   ],
   "source": [
    "len(df.shipment_number.unique())"
   ]
  },
  {
   "cell_type": "code",
   "execution_count": 20,
   "metadata": {},
   "outputs": [
    {
     "data": {
      "text/plain": [
       "193"
      ]
     },
     "execution_count": 20,
     "metadata": {},
     "output_type": "execute_result"
    }
   ],
   "source": [
    "len(df.status.unique())"
   ]
  },
  {
   "cell_type": "code",
   "execution_count": 21,
   "metadata": {},
   "outputs": [
    {
     "data": {
      "text/plain": [
       "84"
      ]
     },
     "execution_count": 21,
     "metadata": {},
     "output_type": "execute_result"
    }
   ],
   "source": [
    "len(df.ort.unique())"
   ]
  },
  {
   "cell_type": "markdown",
   "metadata": {},
   "source": [
    "### How many different final delivery states exist?"
   ]
  },
  {
   "cell_type": "code",
   "execution_count": 22,
   "metadata": {},
   "outputs": [
    {
     "name": "stdout",
     "output_type": "stream",
     "text": [
      "['Die Sendung wurde storniert.'\n",
      " \"Die Sendung wird zur Abholung in die &lt;a href='https://psf.dhl.com/?countrycode=DEu0026address=Weimar+%28Lahn%29 Alte+Bahnhofstr. 15' class='arrowLink' target='_blank'&gt;&lt;span class='arrow'&gt;&lt;/span&gt;Filiale Weimar (Lahn) Alte Bahnhofstr. 15&lt;/a&gt; gebracht. Die fru00FChestmu00F6gliche Uhrzeit der Abholung kann der Benachrichtigung entnommen werden.\"\n",
      " \"Die Sendung wurde zur Abholung in die &lt;a href='http://standorte.deutschepost.de/Standortsuche?standorttyp=filialen_verkaufspunkteu0026ort=Stuttgartu0026strasse=Olgastr.u0026hausnummer=86u0026postleitzahl=70180u0026lang=de' class='arrowLink' target='_blank'&gt;&lt;span class='arrow'&gt;&lt;/span&gt;Filiale Olgastr. 86 70180 Stuttgart&lt;/a&gt; gebracht.\"\n",
      " \"Die Sendung liegt ab sofort in der Filiale &lt;a href='http://standorte.deutschepost.de/Standortsuche?standorttyp=filialen_verkaufspunkteu0026ort=Dachauu0026strasse=Anton-G%C3%BCnther-Str.+7u0026hausnummer=u0026postleitzahl=85221u0026lang=de' class='arrowLink' target='_blank'&gt;&lt;span class='arrow'&gt;&lt;/span&gt;Filiale Anton-Gu00FCnther-Str. 7 85221 Dachau&lt;/a&gt; zur Abholung bereit.\"\n",
      " 'Die Sendung wurde direkt ab Paketzentrum dem Geschu00E4ftskunden zugestellt.'\n",
      " \"Die Sendung liegt ab sofort in der Filiale &lt;a href='http://standorte.deutschepost.de/Standortsuche?standorttyp=filialen_verkaufspunkteu0026ort=Hamburgu0026strasse=Kiebitzstr.+21u0026hausnummer=u0026postleitzahl=22089u0026lang=de' class='arrowLink' target='_blank'&gt;&lt;span class='arrow'&gt;&lt;/span&gt;Filiale Kiebitzstr. 21 22089 Hamburg&lt;/a&gt; zur Abholung bereit.\"\n",
      " \"Die Sendung wurde zur Abholung in die &lt;a href='http://standorte.deutschepost.de/Standortsuche?standorttyp=filialen_verkaufspunkteu0026ort=Rodgauu0026strasse=Ludwig-Erhard-Platzu0026hausnummer=6u0026postleitzahl=63110u0026lang=de' class='arrowLink' target='_blank'&gt;&lt;span class='arrow'&gt;&lt;/span&gt;Filiale Ludwig-Erhard-Platz 6 63110 Rodgau&lt;/a&gt; gebracht.\"\n",
      " \"Die Sendung liegt ab sofort in der Filiale &lt;a href='http://standorte.deutschepost.de/Standortsuche?standorttyp=filialen_verkaufspunkteu0026ort=Leipzigu0026strasse=Br%C3%BChl+8u0026hausnummer=u0026postleitzahl=04109u0026lang=de' class='arrowLink' target='_blank'&gt;&lt;span class='arrow'&gt;&lt;/span&gt;Filiale Bru00FChl 8 04109 Leipzig&lt;/a&gt; zur Abholung bereit.\"\n",
      " 'Die Sendung ist in der Region des Empfu00E4ngers angekommen und wird im nu00E4chsten Schritt zur Zustellbasis transportiert.'\n",
      " \"Die Sendung wurde zur Abholung in die &lt;a href='http://standorte.deutschepost.de/Standortsuche?standorttyp=filialen_verkaufspunkteu0026ort=Berlinu0026strasse=Brunnenstr.u0026hausnummer=105-1u0026postleitzahl=13355u0026lang=de' class='arrowLink' target='_blank'&gt;&lt;span class='arrow'&gt;&lt;/span&gt;Filiale Brunnenstr. 105-1 13355 Berlin&lt;/a&gt; gebracht.\"\n",
      " \"Die Sendung wird zur Abholung in die &lt;a href='https://psf.dhl.com/?countrycode=DEu0026address=Berlin Leopoldstr. 22' class='arrowLink' target='_blank'&gt;&lt;span class='arrow'&gt;&lt;/span&gt;Filiale Berlin Leopoldstr. 22&lt;/a&gt; gebracht. Fu00FCr die Abholung ist neben der Benachrichtigung die Vorlage Ihres Ausweises sowie ggf. eine Vollmacht erforderlich.\"\n",
      " 'Die Sendung wird fu00FCr den Weitertransport vorbereitet.'\n",
      " 'Die Sendung wird zum Weitertransport vorbereitet.'\n",
      " 'Die Sendung wurde ausgeliefert.'\n",
      " 'Die Sendung wird fu00FCr die Verladung ins Zustellfahrzeug vorbereitet.'\n",
      " 'Die Sendung wurde leider fehlgeleitet. Gegebenenfalls verzu00F6gert sich dadurch die Zustellung.'\n",
      " \"Die Sendung wird zur Abholung in die &lt;a href='https://psf.dhl.com/?countrycode=DEu0026address=Frankfurt+am+Main Kaiserstr. 57' class='arrowLink' target='_blank'&gt;&lt;span class='arrow'&gt;&lt;/span&gt;Filiale Frankfurt am Main Kaiserstr. 57&lt;/a&gt; gebracht. Fu00FCr die Abholung ist neben der Benachrichtigung die Vorlage Ihres Ausweises sowie ggf. eine Vollmacht erforderlich.\"\n",
      " \"Die Sendung wird zur Abholung in die &lt;a href='https://psf.dhl.com/?countrycode=DEu0026address=Obing Bahnhofstr. 6' class='arrowLink' target='_blank'&gt;&lt;span class='arrow'&gt;&lt;/span&gt;Filiale Obing Bahnhofstr. 6&lt;/a&gt; gebracht. Die fru00FChestmu00F6gliche Uhrzeit der Abholung kann der Benachrichtigung entnommen werden.\"\n",
      " 'Die Sendung befindet sich auf dem Weg zur Packstation.'\n",
      " 'Die Sendung befindet sich in der Zustellbasis und wird fu00FCr die Auslieferung vorbereitet.'\n",
      " \"Die Sendung wird zur Abholung in die &lt;a href='https://psf.dhl.com/?countrycode=DEu0026address=Dessau-Ro%C3%9Flau Lichtenauer+Str. 34' class='arrowLink' target='_blank'&gt;&lt;span class='arrow'&gt;&lt;/span&gt;Filiale Dessau-Rou00DFlau Lichtenauer Str. 34&lt;/a&gt; gebracht. Fu00FCr die Abholung ist neben der Benachrichtigung die Vorlage Ihres Ausweises sowie ggf. eine Vollmacht erforderlich.\"\n",
      " \"Die Sendung wird zur Abholung in die &lt;a href='https://psf.dhl.com/?countrycode=DEu0026address=Cloppenburg Bahnhofstra%C3%9Fe 14' class='arrowLink' target='_blank'&gt;&lt;span class='arrow'&gt;&lt;/span&gt;Filiale Cloppenburg Bahnhofstrau00DFe 14&lt;/a&gt; gebracht. Die fru00FChestmu00F6gliche Uhrzeit der Abholung kann der Benachrichtigung entnommen werden.\"\n",
      " 'Die Sendung konnte nicht zugestellt werden und wird in eine Packstation gebracht.'\n",
      " \"Die Sendung wird zur Abholung in die &lt;a href='https://psf.dhl.com/?countrycode=DEu0026address=Odenthal Altenberger-Dom-Str. 38' class='arrowLink' target='_blank'&gt;&lt;span class='arrow'&gt;&lt;/span&gt;Filiale Odenthal Altenberger-Dom-Str. 38&lt;/a&gt; gebracht. Die fru00FChestmu00F6gliche Uhrzeit der Abholung kann der Benachrichtigung entnommen werden.\"\n",
      " 'Leider war eine Zustellung der Sendung heute nicht mu00F6glich. Mu00F6gliche Gru00FCnde: Abbruch der Zustelltour aufgrund von Krankheit, Unfall, u00DCberschreitung der Arbeitszeit. Wir versuchen es am nu00E4chsten Werktag.'\n",
      " 'Die Sendung wurde in das Zustellfahrzeug geladen. Die Zustellung erfolgt voraussichtlich heute.'\n",
      " 'Die Sendung wurde zuru00FCckgestellt. Die Zustellung erfolgt vrs. am nu00E4chsten Werktag.'\n",
      " \"Die Sendung wird zur Abholung in die &lt;a href='https://psf.dhl.com/?countrycode=DEu0026address=Wardenburg Hunoldstr. 62b' class='arrowLink' target='_blank'&gt;&lt;span class='arrow'&gt;&lt;/span&gt;Filiale Wardenburg Hunoldstr. 62b&lt;/a&gt; gebracht. Fu00FCr die Abholung ist neben der Benachrichtigung die Vorlage Ihres Ausweises sowie ggf. eine Vollmacht erforderlich.\"\n",
      " \"Die Sendung wird zur Abholung in die &lt;a href='https://psf.dhl.com/?countrycode=DEu0026address=M%C3%BCnchen Arnulfstr. 195' class='arrowLink' target='_blank'&gt;&lt;span class='arrow'&gt;&lt;/span&gt;Filiale Mu00FCnchen Arnulfstr. 195&lt;/a&gt; gebracht. Die fru00FChestmu00F6gliche Uhrzeit der Abholung kann der Benachrichtigung entnommen werden.\"\n",
      " \"Die Sendung wird zur Abholung in die &lt;a href='https://psf.dhl.com/?countrycode=DEu0026address=K%C3%B6ln Roonstr. 40-42' class='arrowLink' target='_blank'&gt;&lt;span class='arrow'&gt;&lt;/span&gt;Filiale Ku00F6ln Roonstr. 40-42&lt;/a&gt; gebracht. Fu00FCr die Abholung ist neben der Benachrichtigung die Vorlage Ihres Ausweises sowie ggf. eine Vollmacht erforderlich.\"\n",
      " \"Die Sendung wird zur Abholung in die &lt;a href='https://psf.dhl.com/?countrycode=DEu0026address=Grenzach-Wyhlen Gartenstr. 11' class='arrowLink' target='_blank'&gt;&lt;span class='arrow'&gt;&lt;/span&gt;Filiale Grenzach-Wyhlen Gartenstr. 11&lt;/a&gt; gebracht. Fu00FCr die Abholung ist neben der Benachrichtigung die Vorlage Ihres Ausweises sowie ggf. eine Vollmacht erforderlich.\"\n",
      " \"Die Sendung wird zur Abholung in die &lt;a href='https://psf.dhl.com/?countrycode=DEu0026address=Seevetal Schulstr. 35' class='arrowLink' target='_blank'&gt;&lt;span class='arrow'&gt;&lt;/span&gt;Filiale Seevetal Schulstr. 35&lt;/a&gt; gebracht. Die fru00FChestmu00F6gliche Uhrzeit der Abholung kann der Benachrichtigung entnommen werden.\"\n",
      " \"Die Sendung wird zur Abholung in die &lt;a href='https://psf.dhl.com/?countrycode=DEu0026address=D%C3%BCsseldorf Brunnenstr. 62' class='arrowLink' target='_blank'&gt;&lt;span class='arrow'&gt;&lt;/span&gt;Filiale Du00FCsseldorf Brunnenstr. 62&lt;/a&gt; gebracht. Fu00FCr die Abholung ist neben der Benachrichtigung die Vorlage Ihres Ausweises sowie ggf. eine Vollmacht erforderlich.\"\n",
      " \"Die Sendung wird zur Abholung in die &lt;a href='https://psf.dhl.com/?countrycode=DEu0026address=Heilbronn Frankenbacher+Str. 47' class='arrowLink' target='_blank'&gt;&lt;span class='arrow'&gt;&lt;/span&gt;Filiale Heilbronn Frankenbacher Str. 47&lt;/a&gt; gebracht. Fu00FCr die Abholung ist neben der Benachrichtigung die Vorlage Ihres Ausweises sowie ggf. eine Vollmacht erforderlich.\"\n",
      " \"Die Sendung wurde zur Abholung in die &lt;a href='http://standorte.deutschepost.de/Standortsuche?standorttyp=filialen_verkaufspunkteu0026ort=Schwetzingenu0026strasse=Scheffelstr.u0026hausnummer=63u0026postleitzahl=68723u0026lang=de' class='arrowLink' target='_blank'&gt;&lt;span class='arrow'&gt;&lt;/span&gt;Filiale Scheffelstr. 63 68723 Schwetzingen&lt;/a&gt; gebracht.\"\n",
      " 'Ihr Paket wird bei uns gelagert und am gewu00FCnschten Liefertag zugestellt.'\n",
      " \"Die Sendung wird zur Abholung in die &lt;a href='https://psf.dhl.com/?countrycode=DEu0026address=Berlin Greifswalder+Stra%C3%9Fe 87' class='arrowLink' target='_blank'&gt;&lt;span class='arrow'&gt;&lt;/span&gt;Filiale Berlin Greifswalder Strau00DFe 87&lt;/a&gt; gebracht. Die fru00FChestmu00F6gliche Uhrzeit der Abholung kann der Benachrichtigung entnommen werden.\"\n",
      " \"Die Sendung wird zur Abholung in die &lt;a href='https://psf.dhl.com/?countrycode=DEu0026address=Bochum Hattinger+Str. 804' class='arrowLink' target='_blank'&gt;&lt;span class='arrow'&gt;&lt;/span&gt;Filiale Bochum Hattinger Str. 804&lt;/a&gt; gebracht. Fu00FCr die Abholung ist neben der Benachrichtigung die Vorlage Ihres Ausweises sowie ggf. eine Vollmacht erforderlich.\"\n",
      " \"Die Sendung liegt ab sofort in der Filiale &lt;a href='http://standorte.deutschepost.de/Standortsuche?standorttyp=filialen_verkaufspunkteu0026ort=Altenburgu0026strasse=Keplerplatz+5u0026hausnummer=u0026postleitzahl=04600u0026lang=de' class='arrowLink' target='_blank'&gt;&lt;span class='arrow'&gt;&lt;/span&gt;Filiale Keplerplatz 5 04600 Altenburg&lt;/a&gt; zur Abholung bereit.\"\n",
      " \"Die Sendung wird zur Abholung in die &lt;a href='https://psf.dhl.com/?countrycode=DEu0026address=Hamburg Weidestr. 122a-' class='arrowLink' target='_blank'&gt;&lt;span class='arrow'&gt;&lt;/span&gt;Filiale Hamburg Weidestr. 122a-&lt;/a&gt; gebracht. Die fru00FChestmu00F6gliche Uhrzeit der Abholung kann der Benachrichtigung entnommen werden.\"\n",
      " 'Die Sendung wurde von DHL bearbeitet und wird fu00FCr den Weitertransport in die Region des Empfu00E4ngers vorbereitet.'\n",
      " \"Die Sendung wird zur Abholung in die &lt;a href='https://psf.dhl.com/?countrycode=DEu0026address=Darmstadt Heidelberger+Str. 132' class='arrowLink' target='_blank'&gt;&lt;span class='arrow'&gt;&lt;/span&gt;Filiale Darmstadt Heidelberger Str. 132&lt;/a&gt; gebracht. Die fru00FChestmu00F6gliche Uhrzeit der Abholung kann der Benachrichtigung entnommen werden.\"\n",
      " 'Die Sendung konnte nicht zugestellt werden und wird in die Filiale gebracht. Fu00FCr die Abholung ist neben der Benachrichtigung die Vorlage Ihres Ausweises sowie ggf. eine Vollmacht erforderlich.'\n",
      " \"Die Sendung wird zur Abholung in die &lt;a href='https://psf.dhl.com/?countrycode=DEu0026address=Frankfurt+am+Main Rh%C3%B6nstr. 94' class='arrowLink' target='_blank'&gt;&lt;span class='arrow'&gt;&lt;/span&gt;Filiale Frankfurt am Main Rhu00F6nstr. 94&lt;/a&gt; gebracht. Fu00FCr die Abholung ist neben der Benachrichtigung die Vorlage Ihres Ausweises sowie ggf. eine Vollmacht erforderlich.\"\n",
      " \"Die Sendung wird zur Abholung in die &lt;a href='https://psf.dhl.com/?countrycode=DEu0026address=Frankfurt+am+Main Sophienstr. 45' class='arrowLink' target='_blank'&gt;&lt;span class='arrow'&gt;&lt;/span&gt;Filiale Frankfurt am Main Sophienstr. 45&lt;/a&gt; gebracht. Fu00FCr die Abholung ist neben der Benachrichtigung die Vorlage Ihres Ausweises sowie ggf. eine Vollmacht erforderlich.\"\n",
      " \"Die Sendung wird zur Abholung in die &lt;a href='https://psf.dhl.com/?countrycode=DEu0026address= ' class='arrowLink' target='_blank'&gt;&lt;span class='arrow'&gt;&lt;/span&gt;Filiale &lt;/a&gt; gebracht. Fu00FCr die Abholung ist neben der Benachrichtigung die Vorlage Ihres Ausweises sowie ggf. eine Vollmacht erforderlich.\"\n",
      " \"Die Sendung wird zur Abholung in die &lt;a href='https://psf.dhl.com/?countrycode=DEu0026address=Kornwestheim Kimry-Platz 10' class='arrowLink' target='_blank'&gt;&lt;span class='arrow'&gt;&lt;/span&gt;Filiale Kornwestheim Kimry-Platz 10&lt;/a&gt; gebracht. Die fru00FChestmu00F6gliche Uhrzeit der Abholung kann der Benachrichtigung entnommen werden.\"\n",
      " \"Die Sendung wird zur Abholung in die &lt;a href='https://psf.dhl.com/?countrycode=DEu0026address=Brandenburg+an+der+Havel Am+Neuendorfer+Sand 2a' class='arrowLink' target='_blank'&gt;&lt;span class='arrow'&gt;&lt;/span&gt;Filiale Brandenburg an der Havel Am Neuendorfer Sand 2a&lt;/a&gt; gebracht. Fu00FCr die Abholung ist neben der Benachrichtigung die Vorlage Ihres Ausweises sowie ggf. eine Vollmacht erforderlich.\"\n",
      " \"Die Sendung liegt ab sofort in der Filiale &lt;a href='http://standorte.deutschepost.de/Standortsuche?standorttyp=filialen_verkaufspunkteu0026ort=Dortmundu0026strasse=Eisenacher+Str.+17au0026hausnummer=u0026postleitzahl=44143u0026lang=de' class='arrowLink' target='_blank'&gt;&lt;span class='arrow'&gt;&lt;/span&gt;Filiale Eisenacher Str. 17a 44143 Dortmund&lt;/a&gt; zur Abholung bereit.\"\n",
      " 'Der Inhalt der Sendung wurde beschu00E4digt. Der DHL Kundenservice wird den Absender kontaktieren.'\n",
      " \"Die Sendung liegt ab sofort in der Filiale &lt;a href='http://standorte.deutschepost.de/Standortsuche?standorttyp=filialen_verkaufspunkteu0026ort=Leverkusenu0026strasse=Bahnhofstr.+3++-+5u0026hausnummer=u0026postleitzahl=51379u0026lang=de' class='arrowLink' target='_blank'&gt;&lt;span class='arrow'&gt;&lt;/span&gt;Filiale Bahnhofstr. 3 - 5 51379 Leverkusen&lt;/a&gt; zur Abholung bereit.\"\n",
      " \"Die Sendung wird zur Abholung in die &lt;a href='https://psf.dhl.com/?countrycode=DEu0026address=Stimpfach Kirchstr. 15' class='arrowLink' target='_blank'&gt;&lt;span class='arrow'&gt;&lt;/span&gt;Filiale Stimpfach Kirchstr. 15&lt;/a&gt; gebracht. Die fru00FChestmu00F6gliche Uhrzeit der Abholung kann der Benachrichtigung entnommen werden.\"\n",
      " \"Die Sendung wird zur Abholung in die &lt;a href='https://psf.dhl.com/?countrycode=DEu0026address=Vellmar Lange+Wender 7' class='arrowLink' target='_blank'&gt;&lt;span class='arrow'&gt;&lt;/span&gt;Filiale Vellmar Lange Wender 7&lt;/a&gt; gebracht. Fu00FCr die Abholung ist neben der Benachrichtigung die Vorlage Ihres Ausweises sowie ggf. eine Vollmacht erforderlich.\"\n",
      " \"Die Sendung liegt ab sofort in der Filiale &lt;a href='http://standorte.deutschepost.de/Standortsuche?standorttyp=filialen_verkaufspunkteu0026ort=Duisburgu0026strasse=Beethovenstr.+19u0026hausnummer=u0026postleitzahl=47226u0026lang=de' class='arrowLink' target='_blank'&gt;&lt;span class='arrow'&gt;&lt;/span&gt;Filiale Beethovenstr. 19 47226 Duisburg&lt;/a&gt; zur Abholung bereit.\"\n",
      " \"Die Sendung wird zur Abholung in die &lt;a href='https://psf.dhl.com/?countrycode=DEu0026address=Br%C3%A4unlingen Gumppstr. 20' class='arrowLink' target='_blank'&gt;&lt;span class='arrow'&gt;&lt;/span&gt;Filiale Bru00E4unlingen Gumppstr. 20&lt;/a&gt; gebracht. Die fru00FChestmu00F6gliche Uhrzeit der Abholung kann der Benachrichtigung entnommen werden.\"\n",
      " 'Die Zustellung an einen gewu00FCnschten Ablageort/Nachbarn wurde gewu00E4hlt.'\n",
      " \"Die Sendung wird zur Abholung in die &lt;a href='https://psf.dhl.com/?countrycode=DEu0026address=Schorfheide Biesenthaler+Str. 2' class='arrowLink' target='_blank'&gt;&lt;span class='arrow'&gt;&lt;/span&gt;Filiale Schorfheide Biesenthaler Str. 2&lt;/a&gt; gebracht. Die fru00FChestmu00F6gliche Uhrzeit der Abholung kann der Benachrichtigung entnommen werden.\"\n",
      " \"Die Sendung wird zur Abholung in die &lt;a href='https://psf.dhl.com/?countrycode=DEu0026address=Mainhausen Erwin-Grimm-Ring 1' class='arrowLink' target='_blank'&gt;&lt;span class='arrow'&gt;&lt;/span&gt;Filiale Mainhausen Erwin-Grimm-Ring 1&lt;/a&gt; gebracht. Die fru00FChestmu00F6gliche Uhrzeit der Abholung kann der Benachrichtigung entnommen werden.\"\n",
      " \"Die Sendung wird zur Abholung in die &lt;a href='https://psf.dhl.com/?countrycode=DEu0026address=Bad+Freienwalde Karl-Marx-Str. 23' class='arrowLink' target='_blank'&gt;&lt;span class='arrow'&gt;&lt;/span&gt;Filiale Bad Freienwalde Karl-Marx-Str. 23&lt;/a&gt; gebracht. Die fru00FChestmu00F6gliche Uhrzeit der Abholung kann der Benachrichtigung entnommen werden.\"\n",
      " \"Die Sendung wird zur Abholung in die &lt;a href='https://psf.dhl.com/?countrycode=DEu0026address=Schopfloch Hauptstr. 23' class='arrowLink' target='_blank'&gt;&lt;span class='arrow'&gt;&lt;/span&gt;Filiale Schopfloch Hauptstr. 23&lt;/a&gt; gebracht. Die fru00FChestmu00F6gliche Uhrzeit der Abholung kann der Benachrichtigung entnommen werden.\"\n",
      " \"Die Sendung wird zur Abholung in die &lt;a href='https://psf.dhl.com/?countrycode=DEu0026address=Potsdam Weidendamm 4' class='arrowLink' target='_blank'&gt;&lt;span class='arrow'&gt;&lt;/span&gt;Filiale Potsdam Weidendamm 4&lt;/a&gt; gebracht. Fu00FCr die Abholung ist neben der Benachrichtigung die Vorlage Ihres Ausweises sowie ggf. eine Vollmacht erforderlich.\"\n",
      " \"Die Sendung wird zur Abholung in die &lt;a href='https://psf.dhl.com/?countrycode=DEu0026address=Moorrege Wedeler+Chaussee 43c' class='arrowLink' target='_blank'&gt;&lt;span class='arrow'&gt;&lt;/span&gt;Filiale Moorrege Wedeler Chaussee 43c&lt;/a&gt; gebracht. Die fru00FChestmu00F6gliche Uhrzeit der Abholung kann der Benachrichtigung entnommen werden.\"\n",
      " \"Die Sendung liegt ab sofort in der Filiale &lt;a href='http://standorte.deutschepost.de/Standortsuche?standorttyp=filialen_verkaufspunkteu0026ort=Berlinu0026strasse=Alt-Moabit+98u0026hausnummer=u0026postleitzahl=10559u0026lang=de' class='arrowLink' target='_blank'&gt;&lt;span class='arrow'&gt;&lt;/span&gt;Filiale Alt-Moabit 98 10559 Berlin&lt;/a&gt; zur Abholung bereit.\"\n",
      " 'Die Zustellung am gewu00FCnschten Liefertag 21.02.2020 wurde gewu00E4hlt.'\n",
      " \"Die Sendung wurde zur Abholung in die &lt;a href='http://standorte.deutschepost.de/Standortsuche?standorttyp=filialen_verkaufspunkteu0026ort=u0026strasse=u0026hausnummer=u0026postleitzahl=u0026lang=de' class='arrowLink' target='_blank'&gt;&lt;span class='arrow'&gt;&lt;/span&gt;Filiale &lt;/a&gt; gebracht.\"\n",
      " \"Die Sendung wird zur Abholung in die &lt;a href='https://psf.dhl.com/?countrycode=DEu0026address=Nast%C3%A4tten R%C3%B6merstr. 35-37' class='arrowLink' target='_blank'&gt;&lt;span class='arrow'&gt;&lt;/span&gt;Filiale Nastu00E4tten Ru00F6merstr. 35-37&lt;/a&gt; gebracht. Die fru00FChestmu00F6gliche Uhrzeit der Abholung kann der Benachrichtigung entnommen werden.\"\n",
      " 'Leider war eine Zustellung der Sendung nicht mu00F6glich. Gru00FCnde hierfu00FCr ku00F6nnen sein: Kein Zugang zum Gebu00E4ude, kein Schild an der Klingel, Empfu00E4nger ggf. verzogen, etc.'\n",
      " 'Die geringfu00FCgig beschu00E4digte Sendung wurde nachverpackt und wird jetzt zum Empfu00E4nger transportiert'\n",
      " \"Die Sendung wird zur Abholung in die &lt;a href='https://psf.dhl.com/?countrycode=DEu0026address=Berlin Potsdamer+Str. 172' class='arrowLink' target='_blank'&gt;&lt;span class='arrow'&gt;&lt;/span&gt;Filiale Berlin Potsdamer Str. 172&lt;/a&gt; gebracht. Fu00FCr die Abholung ist neben der Benachrichtigung die Vorlage Ihres Ausweises sowie ggf. eine Vollmacht erforderlich.\"\n",
      " \"Die Sendung liegt ab sofort in der Filiale &lt;a href='http://standorte.deutschepost.de/Standortsuche?standorttyp=filialen_verkaufspunkteu0026ort=M%C3%BCnchenu0026strasse=Winthirstr.+4++-+6u0026hausnummer=u0026postleitzahl=80639u0026lang=de' class='arrowLink' target='_blank'&gt;&lt;span class='arrow'&gt;&lt;/span&gt;Filiale Winthirstr. 4 - 6 80639 Mu00FCnchen&lt;/a&gt; zur Abholung bereit.\"\n",
      " \"Die Sendung liegt ab sofort in der Filiale &lt;a href='http://standorte.deutschepost.de/Standortsuche?standorttyp=filialen_verkaufspunkteu0026ort=Stuttgartu0026strasse=Stuttgarter+Str.+74++-+74au0026hausnummer=u0026postleitzahl=70469u0026lang=de' class='arrowLink' target='_blank'&gt;&lt;span class='arrow'&gt;&lt;/span&gt;Filiale Stuttgarter Str. 74 - 74a 70469 Stuttgart&lt;/a&gt; zur Abholung bereit.\"\n",
      " 'Die Sendung wurde aus der Packstation entnommen.'\n",
      " \"Die Sendung wird zur Abholung in die &lt;a href='https://psf.dhl.com/?countrycode=DEu0026address=Celle Blumlage 67' class='arrowLink' target='_blank'&gt;&lt;span class='arrow'&gt;&lt;/span&gt;Filiale Celle Blumlage 67&lt;/a&gt; gebracht. Fu00FCr die Abholung ist neben der Benachrichtigung die Vorlage Ihres Ausweises sowie ggf. eine Vollmacht erforderlich.\"\n",
      " \"Die Sendung liegt ab sofort in der Filiale &lt;a href='http://standorte.deutschepost.de/Standortsuche?standorttyp=filialen_verkaufspunkteu0026ort=Cloppenburgu0026strasse=Lange+Str.+60u0026hausnummer=u0026postleitzahl=49661u0026lang=de' class='arrowLink' target='_blank'&gt;&lt;span class='arrow'&gt;&lt;/span&gt;Filiale Lange Str. 60 49661 Cloppenburg&lt;/a&gt; zur Abholung bereit.\"\n",
      " \"Die Sendung wird zur Abholung in die &lt;a href='https://psf.dhl.com/?countrycode=DEu0026address=Alzey Antoniterstr. 46' class='arrowLink' target='_blank'&gt;&lt;span class='arrow'&gt;&lt;/span&gt;Filiale Alzey Antoniterstr. 46&lt;/a&gt; gebracht. Die fru00FChestmu00F6gliche Uhrzeit der Abholung kann der Benachrichtigung entnommen werden.\"\n",
      " \"Die Sendung wird zur Abholung in die &lt;a href='https://psf.dhl.com/?countrycode=DEu0026address=Berlin Hermannstr. 216-2' class='arrowLink' target='_blank'&gt;&lt;span class='arrow'&gt;&lt;/span&gt;Filiale Berlin Hermannstr. 216-2&lt;/a&gt; gebracht. Die fru00FChestmu00F6gliche Uhrzeit der Abholung kann der Benachrichtigung entnommen werden.\"\n",
      " 'Die Zustellung der Sendung verzu00F6gert sich. Sie erfolgt voraussichtlich am nu00E4chsten Werktag.'\n",
      " \"Die Sendung liegt ab sofort in der Filiale &lt;a href='http://standorte.deutschepost.de/Standortsuche?standorttyp=filialen_verkaufspunkteu0026ort=Berlinu0026strasse=Mariendorfer+Damm+422u0026hausnummer=u0026postleitzahl=12107u0026lang=de' class='arrowLink' target='_blank'&gt;&lt;span class='arrow'&gt;&lt;/span&gt;Filiale Mariendorfer Damm 422 12107 Berlin&lt;/a&gt; zur Abholung bereit.\"\n",
      " \"Die Sendung wird zur Abholung in die &lt;a href='https://psf.dhl.com/?countrycode=DEu0026address=Augsburg G%C3%B6gginger+Str. 38+1%2F' class='arrowLink' target='_blank'&gt;&lt;span class='arrow'&gt;&lt;/span&gt;Filiale Augsburg Gu00F6gginger Str. 38 1/&lt;/a&gt; gebracht. Fu00FCr die Abholung ist neben der Benachrichtigung die Vorlage Ihres Ausweises sowie ggf. eine Vollmacht erforderlich.\"\n",
      " 'Leider war eine Zustellung Ihrer Sendung heute nicht mu00F6glich. Wir versuchen es am nu00E4chsten Werktag.'\n",
      " \"Die Sendung wird zur Abholung in die &lt;a href='https://psf.dhl.com/?countrycode=DEu0026address=Arnsberg Zum+Sch%C3%BCtzenhof 1' class='arrowLink' target='_blank'&gt;&lt;span class='arrow'&gt;&lt;/span&gt;Filiale Arnsberg Zum Schu00FCtzenhof 1&lt;/a&gt; gebracht. Fu00FCr die Abholung ist neben der Benachrichtigung die Vorlage Ihres Ausweises sowie ggf. eine Vollmacht erforderlich.\"\n",
      " \"Die Sendung wird zur Abholung in die &lt;a href='https://psf.dhl.com/?countrycode=DEu0026address=Erfurt Johannesstr. 21' class='arrowLink' target='_blank'&gt;&lt;span class='arrow'&gt;&lt;/span&gt;Filiale Erfurt Johannesstr. 21&lt;/a&gt; gebracht. Die fru00FChestmu00F6gliche Uhrzeit der Abholung kann der Benachrichtigung entnommen werden.\"\n",
      " \"Die Sendung wird zur Abholung in die &lt;a href='https://psf.dhl.com/?countrycode=DEu0026address=Berlin Hallesches+Ufer 24' class='arrowLink' target='_blank'&gt;&lt;span class='arrow'&gt;&lt;/span&gt;Filiale Berlin Hallesches Ufer 24&lt;/a&gt; gebracht. Fu00FCr die Abholung ist neben der Benachrichtigung die Vorlage Ihres Ausweises sowie ggf. eine Vollmacht erforderlich.\"\n",
      " \"Die Sendung liegt ab sofort in der Filiale &lt;a href='http://standorte.deutschepost.de/Standortsuche?standorttyp=filialen_verkaufspunkteu0026ort=Eschweileru0026strasse=Franzstr.+17u0026hausnummer=u0026postleitzahl=52249u0026lang=de' class='arrowLink' target='_blank'&gt;&lt;span class='arrow'&gt;&lt;/span&gt;Filiale Franzstr. 17 52249 Eschweiler&lt;/a&gt; zur Abholung bereit.\"\n",
      " \"Die Sendung liegt ab sofort in der Filiale &lt;a href='http://standorte.deutschepost.de/Standortsuche?standorttyp=filialen_verkaufspunkteu0026ort=Landshutu0026strasse=Dreifaltigkeitsplatz+177u0026hausnummer=u0026postleitzahl=84028u0026lang=de' class='arrowLink' target='_blank'&gt;&lt;span class='arrow'&gt;&lt;/span&gt;Filiale Dreifaltigkeitsplatz 177 84028 Landshut&lt;/a&gt; zur Abholung bereit.\"\n",
      " \"Die Sendung wird zur Abholung in die &lt;a href='https://psf.dhl.com/?countrycode=DEu0026address=Regensburg Diepenbrockstr. 5' class='arrowLink' target='_blank'&gt;&lt;span class='arrow'&gt;&lt;/span&gt;Filiale Regensburg Diepenbrockstr. 5&lt;/a&gt; gebracht. Fu00FCr die Abholung ist neben der Benachrichtigung die Vorlage Ihres Ausweises sowie ggf. eine Vollmacht erforderlich.\"\n",
      " \"Die Sendung liegt ab sofort in der Filiale &lt;a href='http://standorte.deutschepost.de/Standortsuche?standorttyp=filialen_verkaufspunkteu0026ort=Halle+%28Saale%29u0026strasse=Gro%C3%9Fe+Steinstr.+72u0026hausnummer=u0026postleitzahl=06108u0026lang=de' class='arrowLink' target='_blank'&gt;&lt;span class='arrow'&gt;&lt;/span&gt;Filiale Grou00DFe Steinstr. 72 06108 Halle (Saale)&lt;/a&gt; zur Abholung bereit.\"\n",
      " \"Die Sendung wird zur Abholung in die &lt;a href='https://psf.dhl.com/?countrycode=DEu0026address=Recklinghausen Karlstr. 22a' class='arrowLink' target='_blank'&gt;&lt;span class='arrow'&gt;&lt;/span&gt;Filiale Recklinghausen Karlstr. 22a&lt;/a&gt; gebracht. Fu00FCr die Abholung ist neben der Benachrichtigung die Vorlage Ihres Ausweises sowie ggf. eine Vollmacht erforderlich.\"\n",
      " \"Die Sendung liegt ab sofort in der Filiale &lt;a href='http://standorte.deutschepost.de/Standortsuche?standorttyp=filialen_verkaufspunkteu0026ort=M%C3%BCnchenu0026strasse=Tegernseer+Platz+7u0026hausnummer=u0026postleitzahl=81541u0026lang=de' class='arrowLink' target='_blank'&gt;&lt;span class='arrow'&gt;&lt;/span&gt;Filiale Tegernseer Platz 7 81541 Mu00FCnchen&lt;/a&gt; zur Abholung bereit.\"\n",
      " \"Die Sendung wird zur Abholung in die &lt;a href='https://psf.dhl.com/?countrycode=DEu0026address=T%C3%BCbingen Beim+Nonnenhaus 14' class='arrowLink' target='_blank'&gt;&lt;span class='arrow'&gt;&lt;/span&gt;Filiale Tu00FCbingen Beim Nonnenhaus 14&lt;/a&gt; gebracht. Fu00FCr die Abholung ist neben der Benachrichtigung die Vorlage Ihres Ausweises sowie ggf. eine Vollmacht erforderlich.\"\n",
      " \"Die Sendung liegt ab sofort in der Filiale &lt;a href='http://standorte.deutschepost.de/Standortsuche?standorttyp=filialen_verkaufspunkteu0026ort=Friedrichshafenu0026strasse=Bahnhofplatz+1u0026hausnummer=u0026postleitzahl=88045u0026lang=de' class='arrowLink' target='_blank'&gt;&lt;span class='arrow'&gt;&lt;/span&gt;Filiale Bahnhofplatz 1 88045 Friedrichshafen&lt;/a&gt; zur Abholung bereit.\"\n",
      " \"Die Sendung liegt ab sofort in der Filiale &lt;a href='http://standorte.deutschepost.de/Standortsuche?standorttyp=filialen_verkaufspunkteu0026ort=Berlinu0026strasse=Heinsestr.+36u0026hausnummer=u0026postleitzahl=13467u0026lang=de' class='arrowLink' target='_blank'&gt;&lt;span class='arrow'&gt;&lt;/span&gt;Filiale Heinsestr. 36 13467 Berlin&lt;/a&gt; zur Abholung bereit.\"\n",
      " \"Die Sendung wird zur Abholung in die &lt;a href='https://psf.dhl.com/?countrycode=DEu0026address=Bad+Driburg Lange+Str. 124' class='arrowLink' target='_blank'&gt;&lt;span class='arrow'&gt;&lt;/span&gt;Filiale Bad Driburg Lange Str. 124&lt;/a&gt; gebracht. Die fru00FChestmu00F6gliche Uhrzeit der Abholung kann der Benachrichtigung entnommen werden.\"\n",
      " \"Die Sendung wird zur Abholung in die &lt;a href='https://psf.dhl.com/?countrycode=DEu0026address=Leipzig Permoserstr. 2' class='arrowLink' target='_blank'&gt;&lt;span class='arrow'&gt;&lt;/span&gt;Filiale Leipzig Permoserstr. 2&lt;/a&gt; gebracht. Die fru00FChestmu00F6gliche Uhrzeit der Abholung kann der Benachrichtigung entnommen werden.\"\n",
      " \"Die Sendung wurde zur Abholung in die &lt;a href='http://standorte.deutschepost.de/Standortsuche?standorttyp=filialen_verkaufspunkteu0026ort=Berlinu0026strasse=Buckower+Dammu0026hausnummer=221cu0026postleitzahl=12349u0026lang=de' class='arrowLink' target='_blank'&gt;&lt;span class='arrow'&gt;&lt;/span&gt;Filiale Buckower Damm 221c 12349 Berlin&lt;/a&gt; gebracht.\"\n",
      " \"Die Sendung wird zur Abholung in die &lt;a href='https://psf.dhl.com/?countrycode=DEu0026address=T%C3%BCbingen Beim+Nonnenhaus 14' class='arrowLink' target='_blank'&gt;&lt;span class='arrow'&gt;&lt;/span&gt;Filiale Tu00FCbingen Beim Nonnenhaus 14&lt;/a&gt; gebracht. Die fru00FChestmu00F6gliche Uhrzeit der Abholung kann der Benachrichtigung entnommen werden.\"\n",
      " \"Die Sendung wird zur Abholung in die &lt;a href='https://psf.dhl.com/?countrycode=DEu0026address=Berlin Heiligenberger+Stra%C3%9Fe 14' class='arrowLink' target='_blank'&gt;&lt;span class='arrow'&gt;&lt;/span&gt;Filiale Berlin Heiligenberger Strau00DFe 14&lt;/a&gt; gebracht. Fu00FCr die Abholung ist neben der Benachrichtigung die Vorlage Ihres Ausweises sowie ggf. eine Vollmacht erforderlich.\"\n",
      " \"Die Sendung wird zur Abholung in die &lt;a href='https://psf.dhl.com/?countrycode=DEu0026address=Duisburg Kommandantenstr. 43-51' class='arrowLink' target='_blank'&gt;&lt;span class='arrow'&gt;&lt;/span&gt;Filiale Duisburg Kommandantenstr. 43-51&lt;/a&gt; gebracht. Fu00FCr die Abholung ist neben der Benachrichtigung die Vorlage Ihres Ausweises sowie ggf. eine Vollmacht erforderlich.\"\n",
      " \"Die Sendung liegt ab sofort in der Filiale &lt;a href='http://standorte.deutschepost.de/Standortsuche?standorttyp=filialen_verkaufspunkteu0026ort=Bad+Hersfeldu0026strasse=Hainstr.+5au0026hausnummer=u0026postleitzahl=36251u0026lang=de' class='arrowLink' target='_blank'&gt;&lt;span class='arrow'&gt;&lt;/span&gt;Filiale Hainstr. 5a 36251 Bad Hersfeld&lt;/a&gt; zur Abholung bereit.\"\n",
      " \"Die Sendung wird zur Abholung in die &lt;a href='https://psf.dhl.com/?countrycode=DEu0026address=Obertshausen Beethovenstr. 14-16' class='arrowLink' target='_blank'&gt;&lt;span class='arrow'&gt;&lt;/span&gt;Filiale Obertshausen Beethovenstr. 14-16&lt;/a&gt; gebracht. Fu00FCr die Abholung ist neben der Benachrichtigung die Vorlage Ihres Ausweises sowie ggf. eine Vollmacht erforderlich.\"\n",
      " \"Die Sendung wird zur Abholung in die &lt;a href='https://psf.dhl.com/?countrycode=DEu0026address=Essen Bochumer+Landstr. 302' class='arrowLink' target='_blank'&gt;&lt;span class='arrow'&gt;&lt;/span&gt;Filiale Essen Bochumer Landstr. 302&lt;/a&gt; gebracht. Die fru00FChestmu00F6gliche Uhrzeit der Abholung kann der Benachrichtigung entnommen werden.\"\n",
      " \"Die Sendung liegt ab sofort in der Filiale &lt;a href='http://standorte.deutschepost.de/Standortsuche?standorttyp=filialen_verkaufspunkteu0026ort=Augsburgu0026strasse=Ludwigstr.+3++-+5u0026hausnummer=u0026postleitzahl=86150u0026lang=de' class='arrowLink' target='_blank'&gt;&lt;span class='arrow'&gt;&lt;/span&gt;Filiale Ludwigstr. 3 - 5 86150 Augsburg&lt;/a&gt; zur Abholung bereit.\"\n",
      " \"Die Sendung wird zur Abholung in die &lt;a href='https://psf.dhl.com/?countrycode=DEu0026address=Hamburg Neugrabener+Bahnhofstr. 26' class='arrowLink' target='_blank'&gt;&lt;span class='arrow'&gt;&lt;/span&gt;Filiale Hamburg Neugrabener Bahnhofstr. 26&lt;/a&gt; gebracht. Fu00FCr die Abholung ist neben der Benachrichtigung die Vorlage Ihres Ausweises sowie ggf. eine Vollmacht erforderlich.\"\n",
      " \"Die Sendung wird zur Abholung in die &lt;a href='https://psf.dhl.com/?countrycode=DEu0026address=Remscheid Barmer+Str. 5' class='arrowLink' target='_blank'&gt;&lt;span class='arrow'&gt;&lt;/span&gt;Filiale Remscheid Barmer Str. 5&lt;/a&gt; gebracht. Die fru00FChestmu00F6gliche Uhrzeit der Abholung kann der Benachrichtigung entnommen werden.\"\n",
      " \"Die Sendung wird zur Abholung in die &lt;a href='https://psf.dhl.com/?countrycode=DEu0026address=Berlin Bergstr. 75' class='arrowLink' target='_blank'&gt;&lt;span class='arrow'&gt;&lt;/span&gt;Filiale Berlin Bergstr. 75&lt;/a&gt; gebracht. Fu00FCr die Abholung ist neben der Benachrichtigung die Vorlage Ihres Ausweises sowie ggf. eine Vollmacht erforderlich.\"\n",
      " \"Die Sendung wird zur Abholung in die &lt;a href='https://psf.dhl.com/?countrycode=DEu0026address=Dortmund Deutsche+Str. 4' class='arrowLink' target='_blank'&gt;&lt;span class='arrow'&gt;&lt;/span&gt;Filiale Dortmund Deutsche Str. 4&lt;/a&gt; gebracht. Fu00FCr die Abholung ist neben der Benachrichtigung die Vorlage Ihres Ausweises sowie ggf. eine Vollmacht erforderlich.\"\n",
      " 'Die Sendung wurde abgeholt.'\n",
      " \"Die Sendung wird zur Abholung in die &lt;a href='https://psf.dhl.com/?countrycode=DEu0026address=Hamburg Friedrich-Ebert-Damm 160a' class='arrowLink' target='_blank'&gt;&lt;span class='arrow'&gt;&lt;/span&gt;Filiale Hamburg Friedrich-Ebert-Damm 160a&lt;/a&gt; gebracht. Die fru00FChestmu00F6gliche Uhrzeit der Abholung kann der Benachrichtigung entnommen werden.\"\n",
      " \"Die Sendung wird zur Abholung in die &lt;a href='https://psf.dhl.com/?countrycode=DEu0026address=Selmsdorf Am+Kanal 15' class='arrowLink' target='_blank'&gt;&lt;span class='arrow'&gt;&lt;/span&gt;Filiale Selmsdorf Am Kanal 15&lt;/a&gt; gebracht. Die fru00FChestmu00F6gliche Uhrzeit der Abholung kann der Benachrichtigung entnommen werden.\"\n",
      " \"Die Sendung wird zur Abholung in die &lt;a href='https://psf.dhl.com/?countrycode=DEu0026address=Frankfurt Gr%C3%BCneburgweg 58-62' class='arrowLink' target='_blank'&gt;&lt;span class='arrow'&gt;&lt;/span&gt;Filiale Frankfurt Gru00FCneburgweg 58-62&lt;/a&gt; gebracht. Die fru00FChestmu00F6gliche Uhrzeit der Abholung kann der Benachrichtigung entnommen werden.\"\n",
      " \"Die Sendung liegt ab sofort in der Filiale &lt;a href='http://standorte.deutschepost.de/Standortsuche?standorttyp=filialen_verkaufspunkteu0026ort=Landsberg+am+Lechu0026strasse=Von-K%C3%BChlmann-Str.+1u0026hausnummer=u0026postleitzahl=86899u0026lang=de' class='arrowLink' target='_blank'&gt;&lt;span class='arrow'&gt;&lt;/span&gt;Filiale Von-Ku00FChlmann-Str. 1 86899 Landsberg am Lech&lt;/a&gt; zur Abholung bereit.\"\n",
      " \"Die Sendung wurde zur Abholung in die &lt;a href='http://standorte.deutschepost.de/Standortsuche?standorttyp=filialen_verkaufspunkteu0026ort=Lehrteu0026strasse=Am+Rathausu0026hausnummer=2u0026postleitzahl=31275u0026lang=de' class='arrowLink' target='_blank'&gt;&lt;span class='arrow'&gt;&lt;/span&gt;Filiale Am Rathaus 2 31275 Lehrte&lt;/a&gt; gebracht.\"\n",
      " \"Die Sendung wird zur Abholung in die &lt;a href='https://psf.dhl.com/?countrycode=DEu0026address=Oberhausen Lothringer+Str. 147' class='arrowLink' target='_blank'&gt;&lt;span class='arrow'&gt;&lt;/span&gt;Filiale Oberhausen Lothringer Str. 147&lt;/a&gt; gebracht. Fu00FCr die Abholung ist neben der Benachrichtigung die Vorlage Ihres Ausweises sowie ggf. eine Vollmacht erforderlich.\"\n",
      " \"Die Sendung wird zur Abholung in die &lt;a href='https://psf.dhl.com/?countrycode=DEu0026address=Hemmingen Heimerdinger+Str. 14' class='arrowLink' target='_blank'&gt;&lt;span class='arrow'&gt;&lt;/span&gt;Filiale Hemmingen Heimerdinger Str. 14&lt;/a&gt; gebracht. Die fru00FChestmu00F6gliche Uhrzeit der Abholung kann der Benachrichtigung entnommen werden.\"\n",
      " \"Die Sendung wird zur Abholung in die &lt;a href='https://psf.dhl.com/?countrycode=DEu0026address=Wuppertal Berghauser+Str. 2' class='arrowLink' target='_blank'&gt;&lt;span class='arrow'&gt;&lt;/span&gt;Filiale Wuppertal Berghauser Str. 2&lt;/a&gt; gebracht. Fu00FCr die Abholung ist neben der Benachrichtigung die Vorlage Ihres Ausweises sowie ggf. eine Vollmacht erforderlich.\"]\n"
     ]
    }
   ],
   "source": [
    "final_delivery_states = df.groupby(['shipment_number']).tail(1)[[\"status\"]][\"status\"].unique()\n",
    "print(final_delivery_states)"
   ]
  },
  {
   "cell_type": "markdown",
   "metadata": {},
   "source": [
    "### How many different initial delivery states exist?"
   ]
  },
  {
   "cell_type": "code",
   "execution_count": 23,
   "metadata": {},
   "outputs": [
    {
     "name": "stdout",
     "output_type": "stream",
     "text": [
      "['Die Sendung wurde storniert.'\n",
      " 'Die Sendung wurde elektronisch angeku00FCndigt. Sobald die Sendung von uns bearbeitet wurde, erhalten Sie weitere Informationen.'\n",
      " 'Die Sendung wurde von DHL bearbeitet und wird fu00FCr den Weitertransport in die Region des Empfu00E4ngers vorbereitet.'\n",
      " 'Die Sendung ist in der Region des Empfu00E4ngers angekommen und wird im nu00E4chsten Schritt zur Zustellbasis transportiert.'\n",
      " 'Die Sendung wurde vom Absender in der Filiale eingeliefert.'\n",
      " 'Die Sendung wurde abgeholt.'\n",
      " 'Die Sendung wird fu00FCr den Weitertransport vorbereitet.'\n",
      " 'Die Sendung wurde am Wunschort abgeholt.']\n"
     ]
    }
   ],
   "source": [
    "initial_delivery_states = df.groupby(['shipment_number']).head(1)[[\"status\"]][\"status\"].unique()\n",
    "print(initial_delivery_states)"
   ]
  },
  {
   "cell_type": "markdown",
   "metadata": {},
   "source": [
    "### Distribution of all states"
   ]
  },
  {
   "cell_type": "markdown",
   "metadata": {},
   "source": [
    "These are the most common states"
   ]
  },
  {
   "cell_type": "code",
   "execution_count": 24,
   "metadata": {},
   "outputs": [
    {
     "data": {
      "text/html": [
       "<div>\n",
       "<style scoped>\n",
       "    .dataframe tbody tr th:only-of-type {\n",
       "        vertical-align: middle;\n",
       "    }\n",
       "\n",
       "    .dataframe tbody tr th {\n",
       "        vertical-align: top;\n",
       "    }\n",
       "\n",
       "    .dataframe thead th {\n",
       "        text-align: right;\n",
       "    }\n",
       "</style>\n",
       "<table border=\"1\" class=\"dataframe\">\n",
       "  <thead>\n",
       "    <tr style=\"text-align: right;\">\n",
       "      <th></th>\n",
       "      <th>status</th>\n",
       "    </tr>\n",
       "  </thead>\n",
       "  <tbody>\n",
       "    <tr>\n",
       "      <th>Die Sendung ist in der Region des Empfu00E4ngers angekommen und wird im nu00E4chsten Schritt zur Zustellbasis transportiert.</th>\n",
       "      <td>275</td>\n",
       "    </tr>\n",
       "    <tr>\n",
       "      <th>Die Sendung wurde von DHL bearbeitet und wird fu00FCr den Weitertransport in die Region des Empfu00E4ngers vorbereitet.</th>\n",
       "      <td>274</td>\n",
       "    </tr>\n",
       "    <tr>\n",
       "      <th>Die Sendung wurde elektronisch angeku00FCndigt. Sobald die Sendung von uns bearbeitet wurde, erhalten Sie weitere Informationen.</th>\n",
       "      <td>248</td>\n",
       "    </tr>\n",
       "    <tr>\n",
       "      <th>Die Sendung wurde storniert.</th>\n",
       "      <td>244</td>\n",
       "    </tr>\n",
       "    <tr>\n",
       "      <th>Die Sendung wurde in das Zustellfahrzeug geladen. Die Zustellung erfolgt voraussichtlich heute.</th>\n",
       "      <td>177</td>\n",
       "    </tr>\n",
       "    <tr>\n",
       "      <th>Die Sendung wird fu00FCr den Weitertransport vorbereitet.</th>\n",
       "      <td>121</td>\n",
       "    </tr>\n",
       "    <tr>\n",
       "      <th>Die Sendung konnte nicht zugestellt werden und wird in die Filiale gebracht. Fu00FCr die Abholung ist neben der Benachrichtigung die Vorlage Ihres Ausweises sowie ggf. eine Vollmacht erforderlich.</th>\n",
       "      <td>111</td>\n",
       "    </tr>\n",
       "    <tr>\n",
       "      <th>Die Sendung wird fu00FCr die Verladung ins Zustellfahrzeug vorbereitet.</th>\n",
       "      <td>99</td>\n",
       "    </tr>\n",
       "    <tr>\n",
       "      <th>Die Sendung wurde direkt ab Paketzentrum dem Geschu00E4ftskunden zugestellt.</th>\n",
       "      <td>49</td>\n",
       "    </tr>\n",
       "    <tr>\n",
       "      <th>Die Sendung wurde ausgeliefert.</th>\n",
       "      <td>31</td>\n",
       "    </tr>\n",
       "  </tbody>\n",
       "</table>\n",
       "</div>"
      ],
      "text/plain": [
       "                                                    status\n",
       "Die Sendung ist in der Region des Empfu00E4nger...     275\n",
       "Die Sendung wurde von DHL bearbeitet und wird f...     274\n",
       "Die Sendung wurde elektronisch angeku00FCndigt....     248\n",
       "Die Sendung wurde storniert.                           244\n",
       "Die Sendung wurde in das Zustellfahrzeug gelade...     177\n",
       "Die Sendung wird fu00FCr den Weitertransport vo...     121\n",
       "Die Sendung konnte nicht zugestellt werden und ...     111\n",
       "Die Sendung wird fu00FCr die Verladung ins Zust...      99\n",
       "Die Sendung wurde direkt ab Paketzentrum dem Ge...      49\n",
       "Die Sendung wurde ausgeliefert.                         31"
      ]
     },
     "execution_count": 24,
     "metadata": {},
     "output_type": "execute_result"
    }
   ],
   "source": [
    "pd.DataFrame(df[\"status\"].value_counts()).head(10)"
   ]
  },
  {
   "cell_type": "markdown",
   "metadata": {},
   "source": [
    "These are the least common states. What we see here is that there are some states that are basically the same and the following pattern:\n",
    "\n",
    "\"Die Sendung liegt in der ........ zur Abholung bereit\"\n",
    "\n",
    "But the address is each time different. This leads to too many states, which also makes machine learning hard. We ignore the address part and convert all these states to a single one."
   ]
  },
  {
   "cell_type": "code",
   "execution_count": 25,
   "metadata": {},
   "outputs": [
    {
     "data": {
      "text/html": [
       "<div>\n",
       "<style scoped>\n",
       "    .dataframe tbody tr th:only-of-type {\n",
       "        vertical-align: middle;\n",
       "    }\n",
       "\n",
       "    .dataframe tbody tr th {\n",
       "        vertical-align: top;\n",
       "    }\n",
       "\n",
       "    .dataframe thead th {\n",
       "        text-align: right;\n",
       "    }\n",
       "</style>\n",
       "<table border=\"1\" class=\"dataframe\">\n",
       "  <thead>\n",
       "    <tr style=\"text-align: right;\">\n",
       "      <th></th>\n",
       "      <th>status</th>\n",
       "    </tr>\n",
       "  </thead>\n",
       "  <tbody>\n",
       "    <tr>\n",
       "      <th>Die Sendung wird zur Abholung in die &amp;lt;a href='https://psf.dhl.com/?countrycode=DEu0026address=Stuttgart Senefelderstra%C3%9Fe 49' class='arrowLink' target='_blank'&amp;gt;&amp;lt;span class='arrow'&amp;gt;&amp;lt;/span&amp;gt;Filiale Stuttgart Senefelderstrau00DFe 49&amp;lt;/a&amp;gt; gebracht. Fu00FCr die Abholung ist neben der Benachrichtigung die Vorlage Ihres Ausweises sowie ggf. eine Vollmacht erforderlich.</th>\n",
       "      <td>1</td>\n",
       "    </tr>\n",
       "    <tr>\n",
       "      <th>Die Sendung wird zur Abholung in die &amp;lt;a href='https://psf.dhl.com/?countrycode=DEu0026address=Mainhausen Erwin-Grimm-Ring 1' class='arrowLink' target='_blank'&amp;gt;&amp;lt;span class='arrow'&amp;gt;&amp;lt;/span&amp;gt;Filiale Mainhausen Erwin-Grimm-Ring 1&amp;lt;/a&amp;gt; gebracht. Die fru00FChestmu00F6gliche Uhrzeit der Abholung kann der Benachrichtigung entnommen werden.</th>\n",
       "      <td>1</td>\n",
       "    </tr>\n",
       "    <tr>\n",
       "      <th>Die Sendung liegt ab sofort in der Filiale &amp;lt;a href='http://standorte.deutschepost.de/Standortsuche?standorttyp=filialen_verkaufspunkteu0026ort=Hamburgu0026strasse=Kiebitzstr.+21u0026hausnummer=u0026postleitzahl=22089u0026lang=de' class='arrowLink' target='_blank'&amp;gt;&amp;lt;span class='arrow'&amp;gt;&amp;lt;/span&amp;gt;Filiale Kiebitzstr. 21 22089 Hamburg&amp;lt;/a&amp;gt; zur Abholung bereit.</th>\n",
       "      <td>1</td>\n",
       "    </tr>\n",
       "    <tr>\n",
       "      <th>Die Sendung wird zur Abholung in die &amp;lt;a href='https://psf.dhl.com/?countrycode=DEu0026address=Weimar+%28Lahn%29 Alte+Bahnhofstr. 15' class='arrowLink' target='_blank'&amp;gt;&amp;lt;span class='arrow'&amp;gt;&amp;lt;/span&amp;gt;Filiale Weimar (Lahn) Alte Bahnhofstr. 15&amp;lt;/a&amp;gt; gebracht. Die fru00FChestmu00F6gliche Uhrzeit der Abholung kann der Benachrichtigung entnommen werden.</th>\n",
       "      <td>1</td>\n",
       "    </tr>\n",
       "    <tr>\n",
       "      <th>Die Sendung befindet sich auf dem Weg zum Empfu00E4nger.</th>\n",
       "      <td>1</td>\n",
       "    </tr>\n",
       "    <tr>\n",
       "      <th>Die Sendung liegt ab sofort in der Filiale &amp;lt;a href='http://standorte.deutschepost.de/Standortsuche?standorttyp=filialen_verkaufspunkteu0026ort=Landshutu0026strasse=Dreifaltigkeitsplatz+177u0026hausnummer=u0026postleitzahl=84028u0026lang=de' class='arrowLink' target='_blank'&amp;gt;&amp;lt;span class='arrow'&amp;gt;&amp;lt;/span&amp;gt;Filiale Dreifaltigkeitsplatz 177 84028 Landshut&amp;lt;/a&amp;gt; zur Abholung bereit.</th>\n",
       "      <td>1</td>\n",
       "    </tr>\n",
       "    <tr>\n",
       "      <th>Die Sendung wird zur Abholung in die &amp;lt;a href='https://psf.dhl.com/?countrycode=DEu0026address=Alzey Antoniterstr. 46' class='arrowLink' target='_blank'&amp;gt;&amp;lt;span class='arrow'&amp;gt;&amp;lt;/span&amp;gt;Filiale Alzey Antoniterstr. 46&amp;lt;/a&amp;gt; gebracht. Die fru00FChestmu00F6gliche Uhrzeit der Abholung kann der Benachrichtigung entnommen werden.</th>\n",
       "      <td>1</td>\n",
       "    </tr>\n",
       "    <tr>\n",
       "      <th>Die Zustellung am gewu00FCnschten Liefertag 08.02.2020 wurde gewu00E4hlt.</th>\n",
       "      <td>1</td>\n",
       "    </tr>\n",
       "    <tr>\n",
       "      <th>Die Sendung wird zur Abholung in die &amp;lt;a href='https://psf.dhl.com/?countrycode=DEu0026address=Bad+Driburg Lange+Str. 124' class='arrowLink' target='_blank'&amp;gt;&amp;lt;span class='arrow'&amp;gt;&amp;lt;/span&amp;gt;Filiale Bad Driburg Lange Str. 124&amp;lt;/a&amp;gt; gebracht. Die fru00FChestmu00F6gliche Uhrzeit der Abholung kann der Benachrichtigung entnommen werden.</th>\n",
       "      <td>1</td>\n",
       "    </tr>\n",
       "    <tr>\n",
       "      <th>Die Sendung wurde zur Abholung in die &amp;lt;a href='http://standorte.deutschepost.de/Standortsuche?standorttyp=filialen_verkaufspunkteu0026ort=Berlinu0026strasse=Brunnenstr.u0026hausnummer=105-1u0026postleitzahl=13355u0026lang=de' class='arrowLink' target='_blank'&amp;gt;&amp;lt;span class='arrow'&amp;gt;&amp;lt;/span&amp;gt;Filiale Brunnenstr. 105-1 13355 Berlin&amp;lt;/a&amp;gt; gebracht.</th>\n",
       "      <td>1</td>\n",
       "    </tr>\n",
       "  </tbody>\n",
       "</table>\n",
       "</div>"
      ],
      "text/plain": [
       "                                                    status\n",
       "Die Sendung wird zur Abholung in die &lt;a href...       1\n",
       "Die Sendung wird zur Abholung in die &lt;a href...       1\n",
       "Die Sendung liegt ab sofort in der Filiale &lt;...       1\n",
       "Die Sendung wird zur Abholung in die &lt;a href...       1\n",
       "Die Sendung befindet sich auf dem Weg zum Empfu...       1\n",
       "Die Sendung liegt ab sofort in der Filiale &lt;...       1\n",
       "Die Sendung wird zur Abholung in die &lt;a href...       1\n",
       "Die Zustellung am gewu00FCnschten Liefertag 08....       1\n",
       "Die Sendung wird zur Abholung in die &lt;a href...       1\n",
       "Die Sendung wurde zur Abholung in die &lt;a hre...       1"
      ]
     },
     "execution_count": 25,
     "metadata": {},
     "output_type": "execute_result"
    }
   ],
   "source": [
    "pd.DataFrame(df[\"status\"].value_counts()).tail(10)"
   ]
  },
  {
   "cell_type": "code",
   "execution_count": 26,
   "metadata": {},
   "outputs": [],
   "source": [
    "df.loc[(df['status'].str.startswith(\"Die Sendung liegt in der\")) & (df['status'].str.endswith(\"zur Abholung bereit.\")), \"status\"] = \"Die Sendung liegt in der ... zur Abholung bereit.\" \n",
    "df.loc[(df['status'].str.startswith(\"Die Sendung liegt ab sofort in der Filiale\")) & (df['status'].str.endswith(\"zur Abholung bereit.\")), \"status\"] = \"Die Sendung liegt ab sofort in dert Filiale ... zur Abholung bereit.\"\n",
    "df.loc[(df['status'].str.startswith(\"Die Sendung wird zur Abholung in die\")) & (df['status'].str.endswith(\"gebracht. Fu00FCr die Abholung ist neben der Benachrichtigung die Vorlage Ihres Ausweises sowie ggf. eine Vollmacht erforderlich.\")), \"status\"] = \"Die Sendung wird zur Abholung in die ... gebracht. Fu00FCr die Abholung ist neben der Benachrichtigung die Vorlage Ihres Ausweises sowie ggf. eine Vollmacht erforderlich.\" \n",
    "df.loc[(df['status'].str.startswith(\"Die Sendung wurde zur Abholung in die\")) & (df['status'].str.endswith(\"gebracht.\")), \"status\"] = \"Die Sendung wurde zur Abholung in die ... gebracht.\" \n",
    "df.loc[(df['status'].str.startswith(\"Die Zustellung am gewu00FCnschten Liefertag\")) & (df['status'].str.endswith(\"wurde gewu00E4hlt.\")), \"status\"] = \"Die Zustellung am gewu00FCnschten Liefertag ... wurde gewu00E4hlt.\" \n",
    "df.loc[(df['status'].str.startswith(\"Die Sendung wird zur Abholung in die\")) & (df['status'].str.endswith(\"gebracht. Die fru00FChestmu00F6gliche Uhrzeit der Abholung kann der Benachrichtigung entnommen werden.\")), \"status\"] = \"Die Sendung wird zur Abholung in die ... gebracht. Die fru00FChestmu00F6gliche Uhrzeit der Abholung kann der Benachrichtigung entnommen werden.\" \n",
    "\n",
    "\n",
    "df.loc[(df['status_next'].str.startswith(\"Die Sendung liegt in der\")) & (df['status_next'].str.endswith(\"zur Abholung bereit.\")), \"status_next\"] = \"Die Sendung liegt in der ... zur Abholung bereit.\" \n",
    "df.loc[(df['status'].str.startswith(\"Die Sendung liegt ab sofort in der Filiale\")) & (df['status'].str.endswith(\"zur Abholung bereit.\")), \"status\"] = \"Die Sendung liegt ab sofort in dert Filiale ... zur Abholung bereit.\"\n",
    "df.loc[(df['status_next'].str.startswith(\"Die Sendung wird zur Abholung in die\")) & (df['status_next'].str.endswith(\"gebracht. Fu00FCr die Abholung ist neben der Benachrichtigung die Vorlage Ihres Ausweises sowie ggf. eine Vollmacht erforderlich.\")), \"status_next\"] = \"Die Sendung wird zur Abholung in die ... gebracht. Fu00FCr die Abholung ist neben der Benachrichtigung die Vorlage Ihres Ausweises sowie ggf. eine Vollmacht erforderlich.\" \n",
    "df.loc[(df['status_next'].str.startswith(\"Die Sendung wurde zur Abholung in die\")) & (df['status_next'].str.endswith(\"gebracht.\")), \"status_next\"] = \"Die Sendung wurde zur Abholung in die ... gebracht.\" \n",
    "df.loc[(df['status_next'].str.startswith(\"Die Zustellung am gewu00FCnschten Liefertag\")) & (df['status_next'].str.endswith(\"wurde gewu00E4hlt.\")), \"status_next\"] = \"Die Zustellung am gewu00FCnschten Liefertag ... wurde gewu00E4hlt.\" \n",
    "df.loc[(df['status_next'].str.startswith(\"Die Sendung wird zur Abholung in die\")) & (df['status_next'].str.endswith(\"gebracht. Die fru00FChestmu00F6gliche Uhrzeit der Abholung kann der Benachrichtigung entnommen werden.\")), \"status_next\"] = \"Die Sendung wird zur Abholung in die ... gebracht. Die fru00FChestmu00F6gliche Uhrzeit der Abholung kann der Benachrichtigung entnommen werden.\" "
   ]
  },
  {
   "cell_type": "code",
   "execution_count": 27,
   "metadata": {},
   "outputs": [
    {
     "data": {
      "text/html": [
       "<div>\n",
       "<style scoped>\n",
       "    .dataframe tbody tr th:only-of-type {\n",
       "        vertical-align: middle;\n",
       "    }\n",
       "\n",
       "    .dataframe tbody tr th {\n",
       "        vertical-align: top;\n",
       "    }\n",
       "\n",
       "    .dataframe thead th {\n",
       "        text-align: right;\n",
       "    }\n",
       "</style>\n",
       "<table border=\"1\" class=\"dataframe\">\n",
       "  <thead>\n",
       "    <tr style=\"text-align: right;\">\n",
       "      <th></th>\n",
       "      <th>status</th>\n",
       "    </tr>\n",
       "  </thead>\n",
       "  <tbody>\n",
       "    <tr>\n",
       "      <th>Die Sendung ist in der Region des Empfu00E4ngers angekommen und wird im nu00E4chsten Schritt zur Zustellbasis transportiert.</th>\n",
       "      <td>275</td>\n",
       "    </tr>\n",
       "    <tr>\n",
       "      <th>Die Sendung wurde von DHL bearbeitet und wird fu00FCr den Weitertransport in die Region des Empfu00E4ngers vorbereitet.</th>\n",
       "      <td>274</td>\n",
       "    </tr>\n",
       "    <tr>\n",
       "      <th>Die Sendung wurde elektronisch angeku00FCndigt. Sobald die Sendung von uns bearbeitet wurde, erhalten Sie weitere Informationen.</th>\n",
       "      <td>248</td>\n",
       "    </tr>\n",
       "    <tr>\n",
       "      <th>Die Sendung wurde storniert.</th>\n",
       "      <td>244</td>\n",
       "    </tr>\n",
       "    <tr>\n",
       "      <th>Die Sendung wurde in das Zustellfahrzeug geladen. Die Zustellung erfolgt voraussichtlich heute.</th>\n",
       "      <td>177</td>\n",
       "    </tr>\n",
       "    <tr>\n",
       "      <th>Die Sendung wird fu00FCr den Weitertransport vorbereitet.</th>\n",
       "      <td>121</td>\n",
       "    </tr>\n",
       "    <tr>\n",
       "      <th>Die Sendung konnte nicht zugestellt werden und wird in die Filiale gebracht. Fu00FCr die Abholung ist neben der Benachrichtigung die Vorlage Ihres Ausweises sowie ggf. eine Vollmacht erforderlich.</th>\n",
       "      <td>111</td>\n",
       "    </tr>\n",
       "    <tr>\n",
       "      <th>Die Sendung wird fu00FCr die Verladung ins Zustellfahrzeug vorbereitet.</th>\n",
       "      <td>99</td>\n",
       "    </tr>\n",
       "    <tr>\n",
       "      <th>Die Sendung wird zur Abholung in die ... gebracht. Die fru00FChestmu00F6gliche Uhrzeit der Abholung kann der Benachrichtigung entnommen werden.</th>\n",
       "      <td>57</td>\n",
       "    </tr>\n",
       "    <tr>\n",
       "      <th>Die Sendung wird zur Abholung in die ... gebracht. Fu00FCr die Abholung ist neben der Benachrichtigung die Vorlage Ihres Ausweises sowie ggf. eine Vollmacht erforderlich.</th>\n",
       "      <td>50</td>\n",
       "    </tr>\n",
       "  </tbody>\n",
       "</table>\n",
       "</div>"
      ],
      "text/plain": [
       "                                                    status\n",
       "Die Sendung ist in der Region des Empfu00E4nger...     275\n",
       "Die Sendung wurde von DHL bearbeitet und wird f...     274\n",
       "Die Sendung wurde elektronisch angeku00FCndigt....     248\n",
       "Die Sendung wurde storniert.                           244\n",
       "Die Sendung wurde in das Zustellfahrzeug gelade...     177\n",
       "Die Sendung wird fu00FCr den Weitertransport vo...     121\n",
       "Die Sendung konnte nicht zugestellt werden und ...     111\n",
       "Die Sendung wird fu00FCr die Verladung ins Zust...      99\n",
       "Die Sendung wird zur Abholung in die ... gebrac...      57\n",
       "Die Sendung wird zur Abholung in die ... gebrac...      50"
      ]
     },
     "execution_count": 27,
     "metadata": {},
     "output_type": "execute_result"
    }
   ],
   "source": [
    "pd.DataFrame(df[\"status\"].value_counts()).head(10)"
   ]
  },
  {
   "cell_type": "code",
   "execution_count": 28,
   "metadata": {},
   "outputs": [
    {
     "data": {
      "text/html": [
       "<div>\n",
       "<style scoped>\n",
       "    .dataframe tbody tr th:only-of-type {\n",
       "        vertical-align: middle;\n",
       "    }\n",
       "\n",
       "    .dataframe tbody tr th {\n",
       "        vertical-align: top;\n",
       "    }\n",
       "\n",
       "    .dataframe thead th {\n",
       "        text-align: right;\n",
       "    }\n",
       "</style>\n",
       "<table border=\"1\" class=\"dataframe\">\n",
       "  <thead>\n",
       "    <tr style=\"text-align: right;\">\n",
       "      <th></th>\n",
       "      <th>status</th>\n",
       "    </tr>\n",
       "  </thead>\n",
       "  <tbody>\n",
       "    <tr>\n",
       "      <th>Die Sendung wird zum Weitertransport vorbereitet.</th>\n",
       "      <td>1</td>\n",
       "    </tr>\n",
       "    <tr>\n",
       "      <th>Aufgrund einer Beschu00E4digung der Umverpackung wurde die Sendung neu verpackt.</th>\n",
       "      <td>1</td>\n",
       "    </tr>\n",
       "    <tr>\n",
       "      <th>Der gewu00FCnschte Liefertag wurde storniert oder kann aus betrieblichen Gru00FCnden leider nicht beru00FCcksichtigt werden.</th>\n",
       "      <td>1</td>\n",
       "    </tr>\n",
       "    <tr>\n",
       "      <th>Der Inhalt der Sendung wurde beschu00E4digt. Der DHL Kundenservice wird den Absender kontaktieren.</th>\n",
       "      <td>1</td>\n",
       "    </tr>\n",
       "    <tr>\n",
       "      <th>Die Sendung wurde leider beschu00E4digt und muss neu verpackt werden. Wir informieren Sie hier u00FCber den nu00E4chsten Schritt.</th>\n",
       "      <td>1</td>\n",
       "    </tr>\n",
       "    <tr>\n",
       "      <th>Die Sendung wurde aus der Packstation entnommen.</th>\n",
       "      <td>1</td>\n",
       "    </tr>\n",
       "    <tr>\n",
       "      <th>Die Zustellvorgaben des Versenders konnten nicht erfu00FCllt werden.</th>\n",
       "      <td>1</td>\n",
       "    </tr>\n",
       "    <tr>\n",
       "      <th>Die beschu00E4digte Sendung wird an die Nachverpackungsstelle weitergeleitet.</th>\n",
       "      <td>1</td>\n",
       "    </tr>\n",
       "    <tr>\n",
       "      <th>Die Sendung befindet sich auf dem Weg zum Empfu00E4nger.</th>\n",
       "      <td>1</td>\n",
       "    </tr>\n",
       "    <tr>\n",
       "      <th>Die geringfu00FCgig beschu00E4digte Sendung wurde nachverpackt und wird jetzt zum Empfu00E4nger transportiert</th>\n",
       "      <td>1</td>\n",
       "    </tr>\n",
       "  </tbody>\n",
       "</table>\n",
       "</div>"
      ],
      "text/plain": [
       "                                                    status\n",
       "Die Sendung wird zum Weitertransport vorbereitet.        1\n",
       "Aufgrund einer Beschu00E4digung der Umverpackun...       1\n",
       "Der gewu00FCnschte Liefertag wurde storniert od...       1\n",
       "Der Inhalt der Sendung wurde beschu00E4digt. De...       1\n",
       "Die Sendung wurde leider beschu00E4digt und mus...       1\n",
       "Die Sendung wurde aus der Packstation entnommen.         1\n",
       "Die Zustellvorgaben des Versenders konnten nich...       1\n",
       "Die beschu00E4digte Sendung wird an die Nachver...       1\n",
       "Die Sendung befindet sich auf dem Weg zum Empfu...       1\n",
       "Die geringfu00FCgig beschu00E4digte Sendung wur...       1"
      ]
     },
     "execution_count": 28,
     "metadata": {},
     "output_type": "execute_result"
    }
   ],
   "source": [
    "pd.DataFrame(df[\"status\"].value_counts()).tail(10)"
   ]
  },
  {
   "cell_type": "code",
   "execution_count": 29,
   "metadata": {},
   "outputs": [
    {
     "data": {
      "text/plain": [
       "51"
      ]
     },
     "execution_count": 29,
     "metadata": {},
     "output_type": "execute_result"
    }
   ],
   "source": [
    "len(df[\"status\"].unique())"
   ]
  },
  {
   "cell_type": "code",
   "execution_count": 30,
   "metadata": {},
   "outputs": [
    {
     "data": {
      "text/plain": [
       "77"
      ]
     },
     "execution_count": 30,
     "metadata": {},
     "output_type": "execute_result"
    }
   ],
   "source": [
    "len(df[\"status_next\"].unique())"
   ]
  },
  {
   "cell_type": "markdown",
   "metadata": {},
   "source": [
    "### Distribution of the locations"
   ]
  },
  {
   "cell_type": "code",
   "execution_count": 31,
   "metadata": {},
   "outputs": [
    {
     "data": {
      "text/plain": [
       "84"
      ]
     },
     "execution_count": 31,
     "metadata": {},
     "output_type": "execute_result"
    }
   ],
   "source": [
    "len(df[\"ort\"].unique())"
   ]
  },
  {
   "cell_type": "code",
   "execution_count": 32,
   "metadata": {},
   "outputs": [
    {
     "data": {
      "text/html": [
       "<div>\n",
       "<style scoped>\n",
       "    .dataframe tbody tr th:only-of-type {\n",
       "        vertical-align: middle;\n",
       "    }\n",
       "\n",
       "    .dataframe tbody tr th {\n",
       "        vertical-align: top;\n",
       "    }\n",
       "\n",
       "    .dataframe thead th {\n",
       "        text-align: right;\n",
       "    }\n",
       "</style>\n",
       "<table border=\"1\" class=\"dataframe\">\n",
       "  <thead>\n",
       "    <tr style=\"text-align: right;\">\n",
       "      <th></th>\n",
       "      <th>ort</th>\n",
       "    </tr>\n",
       "  </thead>\n",
       "  <tbody>\n",
       "    <tr>\n",
       "      <th>Unbekannt</th>\n",
       "      <td>1211</td>\n",
       "    </tr>\n",
       "    <tr>\n",
       "      <th>Ru00FCdersdorf</th>\n",
       "      <td>125</td>\n",
       "    </tr>\n",
       "    <tr>\n",
       "      <th>Bu00F6rnicke</th>\n",
       "      <td>99</td>\n",
       "    </tr>\n",
       "    <tr>\n",
       "      <th>Hamburg</th>\n",
       "      <td>96</td>\n",
       "    </tr>\n",
       "    <tr>\n",
       "      <th>Neumu00FCnster</th>\n",
       "      <td>36</td>\n",
       "    </tr>\n",
       "    <tr>\n",
       "      <th>Dorsten</th>\n",
       "      <td>30</td>\n",
       "    </tr>\n",
       "    <tr>\n",
       "      <th>Ku00F6ngen</th>\n",
       "      <td>22</td>\n",
       "    </tr>\n",
       "    <tr>\n",
       "      <th>Lahr</th>\n",
       "      <td>20</td>\n",
       "    </tr>\n",
       "    <tr>\n",
       "      <th>Krefeld</th>\n",
       "      <td>20</td>\n",
       "    </tr>\n",
       "    <tr>\n",
       "      <th>Ku00F6ln</th>\n",
       "      <td>19</td>\n",
       "    </tr>\n",
       "    <tr>\n",
       "      <th>Aschheim</th>\n",
       "      <td>17</td>\n",
       "    </tr>\n",
       "    <tr>\n",
       "      <th>Hannover</th>\n",
       "      <td>17</td>\n",
       "    </tr>\n",
       "    <tr>\n",
       "      <th>Eutingen im Gu00E4u</th>\n",
       "      <td>15</td>\n",
       "    </tr>\n",
       "    <tr>\n",
       "      <th>Rodgau</th>\n",
       "      <td>14</td>\n",
       "    </tr>\n",
       "    <tr>\n",
       "      <th>Obertshausen</th>\n",
       "      <td>14</td>\n",
       "    </tr>\n",
       "    <tr>\n",
       "      <th>Bruchsal</th>\n",
       "      <td>12</td>\n",
       "    </tr>\n",
       "    <tr>\n",
       "      <th>Speyer</th>\n",
       "      <td>12</td>\n",
       "    </tr>\n",
       "    <tr>\n",
       "      <th>Neuwied</th>\n",
       "      <td>12</td>\n",
       "    </tr>\n",
       "    <tr>\n",
       "      <th>Greven</th>\n",
       "      <td>11</td>\n",
       "    </tr>\n",
       "    <tr>\n",
       "      <th>Bochum</th>\n",
       "      <td>9</td>\n",
       "    </tr>\n",
       "  </tbody>\n",
       "</table>\n",
       "</div>"
      ],
      "text/plain": [
       "                      ort\n",
       "Unbekannt            1211\n",
       "Ru00FCdersdorf        125\n",
       "Bu00F6rnicke           99\n",
       "Hamburg                96\n",
       "Neumu00FCnster         36\n",
       "Dorsten                30\n",
       "Ku00F6ngen             22\n",
       "Lahr                   20\n",
       "Krefeld                20\n",
       "Ku00F6ln               19\n",
       "Aschheim               17\n",
       "Hannover               17\n",
       "Eutingen im Gu00E4u    15\n",
       "Rodgau                 14\n",
       "Obertshausen           14\n",
       "Bruchsal               12\n",
       "Speyer                 12\n",
       "Neuwied                12\n",
       "Greven                 11\n",
       "Bochum                  9"
      ]
     },
     "execution_count": 32,
     "metadata": {},
     "output_type": "execute_result"
    }
   ],
   "source": [
    "pd.DataFrame(df[\"ort\"].value_counts()).head(20)"
   ]
  },
  {
   "cell_type": "code",
   "execution_count": 33,
   "metadata": {},
   "outputs": [
    {
     "data": {
      "text/html": [
       "<div>\n",
       "<style scoped>\n",
       "    .dataframe tbody tr th:only-of-type {\n",
       "        vertical-align: middle;\n",
       "    }\n",
       "\n",
       "    .dataframe tbody tr th {\n",
       "        vertical-align: top;\n",
       "    }\n",
       "\n",
       "    .dataframe thead th {\n",
       "        text-align: right;\n",
       "    }\n",
       "</style>\n",
       "<table border=\"1\" class=\"dataframe\">\n",
       "  <thead>\n",
       "    <tr style=\"text-align: right;\">\n",
       "      <th></th>\n",
       "      <th>ort</th>\n",
       "    </tr>\n",
       "  </thead>\n",
       "  <tbody>\n",
       "    <tr>\n",
       "      <th>Heilbronn MechZB</th>\n",
       "      <td>1</td>\n",
       "    </tr>\n",
       "    <tr>\n",
       "      <th>Mannheim Nord MechZB</th>\n",
       "      <td>1</td>\n",
       "    </tr>\n",
       "    <tr>\n",
       "      <th>Leipzig MechZB</th>\n",
       "      <td>1</td>\n",
       "    </tr>\n",
       "    <tr>\n",
       "      <th>Osnabru00FCck MechZB</th>\n",
       "      <td>1</td>\n",
       "    </tr>\n",
       "    <tr>\n",
       "      <th>Nohra</th>\n",
       "      <td>1</td>\n",
       "    </tr>\n",
       "    <tr>\n",
       "      <th>Erfurt MechZB</th>\n",
       "      <td>1</td>\n",
       "    </tr>\n",
       "    <tr>\n",
       "      <th>Kitzingen</th>\n",
       "      <td>1</td>\n",
       "    </tr>\n",
       "    <tr>\n",
       "      <th>Moers MechZB</th>\n",
       "      <td>1</td>\n",
       "    </tr>\n",
       "    <tr>\n",
       "      <th>Berlin-Zentrum MechZB</th>\n",
       "      <td>1</td>\n",
       "    </tr>\n",
       "    <tr>\n",
       "      <th>Kiel</th>\n",
       "      <td>1</td>\n",
       "    </tr>\n",
       "    <tr>\n",
       "      <th>Hannover-Su00FCd MechZB</th>\n",
       "      <td>1</td>\n",
       "    </tr>\n",
       "    <tr>\n",
       "      <th>Reutlingen MechZB</th>\n",
       "      <td>1</td>\n",
       "    </tr>\n",
       "    <tr>\n",
       "      <th>Wu00FCrselen MechZB</th>\n",
       "      <td>1</td>\n",
       "    </tr>\n",
       "    <tr>\n",
       "      <th>Augsburg MechZB</th>\n",
       "      <td>1</td>\n",
       "    </tr>\n",
       "    <tr>\n",
       "      <th>Nu00FCrnberg MechZB</th>\n",
       "      <td>1</td>\n",
       "    </tr>\n",
       "    <tr>\n",
       "      <th>Waiblingen MechZB</th>\n",
       "      <td>1</td>\n",
       "    </tr>\n",
       "    <tr>\n",
       "      <th>Mannheim Su00FCd MechZB</th>\n",
       "      <td>1</td>\n",
       "    </tr>\n",
       "    <tr>\n",
       "      <th>Anderten MechZB</th>\n",
       "      <td>1</td>\n",
       "    </tr>\n",
       "    <tr>\n",
       "      <th>Kleinmachnow MechZB</th>\n",
       "      <td>1</td>\n",
       "    </tr>\n",
       "    <tr>\n",
       "      <th>Mainz-Hechtsheim MechZB</th>\n",
       "      <td>1</td>\n",
       "    </tr>\n",
       "  </tbody>\n",
       "</table>\n",
       "</div>"
      ],
      "text/plain": [
       "                         ort\n",
       "Heilbronn MechZB           1\n",
       "Mannheim Nord MechZB       1\n",
       "Leipzig MechZB             1\n",
       "Osnabru00FCck MechZB       1\n",
       "Nohra                      1\n",
       "Erfurt MechZB              1\n",
       "Kitzingen                  1\n",
       "Moers MechZB               1\n",
       "Berlin-Zentrum MechZB      1\n",
       "Kiel                       1\n",
       "Hannover-Su00FCd MechZB    1\n",
       "Reutlingen MechZB          1\n",
       "Wu00FCrselen MechZB        1\n",
       "Augsburg MechZB            1\n",
       "Nu00FCrnberg MechZB        1\n",
       "Waiblingen MechZB          1\n",
       "Mannheim Su00FCd MechZB    1\n",
       "Anderten MechZB            1\n",
       "Kleinmachnow MechZB        1\n",
       "Mainz-Hechtsheim MechZB    1"
      ]
     },
     "execution_count": 33,
     "metadata": {},
     "output_type": "execute_result"
    }
   ],
   "source": [
    "pd.DataFrame(df[\"ort\"].value_counts()).tail(20)"
   ]
  },
  {
   "cell_type": "markdown",
   "metadata": {},
   "source": [
    "Notice: One idea here could be to merge some locations. "
   ]
  },
  {
   "cell_type": "markdown",
   "metadata": {},
   "source": [
    "### Remove unused columns"
   ]
  },
  {
   "cell_type": "code",
   "execution_count": 34,
   "metadata": {},
   "outputs": [],
   "source": [
    "df.drop(columns=[\"crawltime\", \"url\"], inplace=True)"
   ]
  },
  {
   "cell_type": "code",
   "execution_count": 35,
   "metadata": {},
   "outputs": [
    {
     "data": {
      "text/html": [
       "<div>\n",
       "<style scoped>\n",
       "    .dataframe tbody tr th:only-of-type {\n",
       "        vertical-align: middle;\n",
       "    }\n",
       "\n",
       "    .dataframe tbody tr th {\n",
       "        vertical-align: top;\n",
       "    }\n",
       "\n",
       "    .dataframe thead th {\n",
       "        text-align: right;\n",
       "    }\n",
       "</style>\n",
       "<table border=\"1\" class=\"dataframe\">\n",
       "  <thead>\n",
       "    <tr style=\"text-align: right;\">\n",
       "      <th></th>\n",
       "      <th>shipment_number</th>\n",
       "      <th>datum</th>\n",
       "      <th>status</th>\n",
       "      <th>is_final_event</th>\n",
       "      <th>ort</th>\n",
       "      <th>status_next</th>\n",
       "      <th>ort_next</th>\n",
       "      <th>datum_next</th>\n",
       "    </tr>\n",
       "  </thead>\n",
       "  <tbody>\n",
       "    <tr>\n",
       "      <th>0</th>\n",
       "      <td>00340434154847512209</td>\n",
       "      <td>2019-11-15 16:59:00+00:00</td>\n",
       "      <td>Die Sendung wurde storniert.</td>\n",
       "      <td>1.0</td>\n",
       "      <td>Unbekannt</td>\n",
       "      <td>SuccessDelivery</td>\n",
       "      <td>SuccessDelivery</td>\n",
       "      <td>2020-04-14</td>\n",
       "    </tr>\n",
       "    <tr>\n",
       "      <th>0</th>\n",
       "      <td>00340434193824592131</td>\n",
       "      <td>2020-02-06 13:59:00+00:00</td>\n",
       "      <td>Die Sendung wurde elektronisch angeku00FCndigt...</td>\n",
       "      <td>0.0</td>\n",
       "      <td>Unbekannt</td>\n",
       "      <td>Die Sendung wurde von DHL bearbeitet und wird ...</td>\n",
       "      <td>Bu00F6rnicke</td>\n",
       "      <td>2020-02-06 15:47:00+00:00</td>\n",
       "    </tr>\n",
       "    <tr>\n",
       "      <th>1</th>\n",
       "      <td>00340434193824592131</td>\n",
       "      <td>2020-02-06 15:47:00+00:00</td>\n",
       "      <td>Die Sendung wurde von DHL bearbeitet und wird ...</td>\n",
       "      <td>0.0</td>\n",
       "      <td>Bu00F6rnicke</td>\n",
       "      <td>Die geringfu00FCgig beschu00E4digte Sendung wi...</td>\n",
       "      <td>Bu00F6rnicke</td>\n",
       "      <td>2020-02-06 15:50:00+00:00</td>\n",
       "    </tr>\n",
       "    <tr>\n",
       "      <th>2</th>\n",
       "      <td>00340434193824592131</td>\n",
       "      <td>2020-02-06 15:50:00+00:00</td>\n",
       "      <td>Die geringfu00FCgig beschu00E4digte Sendung wi...</td>\n",
       "      <td>0.0</td>\n",
       "      <td>Bu00F6rnicke</td>\n",
       "      <td>Die Sendung wird fu00FCr den Weitertransport v...</td>\n",
       "      <td>Staufenberg</td>\n",
       "      <td>2020-02-07 00:43:00+00:00</td>\n",
       "    </tr>\n",
       "    <tr>\n",
       "      <th>3</th>\n",
       "      <td>00340434193824592131</td>\n",
       "      <td>2020-02-07 00:43:00+00:00</td>\n",
       "      <td>Die Sendung wird fu00FCr den Weitertransport v...</td>\n",
       "      <td>0.0</td>\n",
       "      <td>Staufenberg</td>\n",
       "      <td>Die Sendung ist in der Region des Empfu00E4nge...</td>\n",
       "      <td>Staufenberg</td>\n",
       "      <td>2020-02-07 02:44:00+00:00</td>\n",
       "    </tr>\n",
       "  </tbody>\n",
       "</table>\n",
       "</div>"
      ],
      "text/plain": [
       "        shipment_number                     datum  \\\n",
       "0  00340434154847512209 2019-11-15 16:59:00+00:00   \n",
       "0  00340434193824592131 2020-02-06 13:59:00+00:00   \n",
       "1  00340434193824592131 2020-02-06 15:47:00+00:00   \n",
       "2  00340434193824592131 2020-02-06 15:50:00+00:00   \n",
       "3  00340434193824592131 2020-02-07 00:43:00+00:00   \n",
       "\n",
       "                                              status  is_final_event  \\\n",
       "0                       Die Sendung wurde storniert.             1.0   \n",
       "0  Die Sendung wurde elektronisch angeku00FCndigt...             0.0   \n",
       "1  Die Sendung wurde von DHL bearbeitet und wird ...             0.0   \n",
       "2  Die geringfu00FCgig beschu00E4digte Sendung wi...             0.0   \n",
       "3  Die Sendung wird fu00FCr den Weitertransport v...             0.0   \n",
       "\n",
       "            ort                                        status_next  \\\n",
       "0     Unbekannt                                    SuccessDelivery   \n",
       "0     Unbekannt  Die Sendung wurde von DHL bearbeitet und wird ...   \n",
       "1  Bu00F6rnicke  Die geringfu00FCgig beschu00E4digte Sendung wi...   \n",
       "2  Bu00F6rnicke  Die Sendung wird fu00FCr den Weitertransport v...   \n",
       "3   Staufenberg  Die Sendung ist in der Region des Empfu00E4nge...   \n",
       "\n",
       "          ort_next                 datum_next  \n",
       "0  SuccessDelivery                 2020-04-14  \n",
       "0     Bu00F6rnicke  2020-02-06 15:47:00+00:00  \n",
       "1     Bu00F6rnicke  2020-02-06 15:50:00+00:00  \n",
       "2      Staufenberg  2020-02-07 00:43:00+00:00  \n",
       "3      Staufenberg  2020-02-07 02:44:00+00:00  "
      ]
     },
     "execution_count": 35,
     "metadata": {},
     "output_type": "execute_result"
    }
   ],
   "source": [
    "df.head()"
   ]
  },
  {
   "cell_type": "markdown",
   "metadata": {},
   "source": [
    "### Time diff between events"
   ]
  },
  {
   "cell_type": "code",
   "execution_count": 36,
   "metadata": {},
   "outputs": [],
   "source": [
    "df['datum'] = pd.to_datetime(df['datum'], utc=True)\n",
    "df['datum_next'] = pd.to_datetime(df['datum_next'], utc=True)\n",
    "df[\"datum_diff\"] = df[\"datum_next\"] - df[\"datum\"]"
   ]
  },
  {
   "cell_type": "markdown",
   "metadata": {},
   "source": [
    "Notice that for is_final_event=1, the datum_diff does not make any sense. Do not use it in the analysis"
   ]
  },
  {
   "cell_type": "code",
   "execution_count": 37,
   "metadata": {},
   "outputs": [
    {
     "data": {
      "text/html": [
       "<div>\n",
       "<style scoped>\n",
       "    .dataframe tbody tr th:only-of-type {\n",
       "        vertical-align: middle;\n",
       "    }\n",
       "\n",
       "    .dataframe tbody tr th {\n",
       "        vertical-align: top;\n",
       "    }\n",
       "\n",
       "    .dataframe thead th {\n",
       "        text-align: right;\n",
       "    }\n",
       "</style>\n",
       "<table border=\"1\" class=\"dataframe\">\n",
       "  <thead>\n",
       "    <tr style=\"text-align: right;\">\n",
       "      <th></th>\n",
       "      <th>shipment_number</th>\n",
       "      <th>datum</th>\n",
       "      <th>status</th>\n",
       "      <th>is_final_event</th>\n",
       "      <th>ort</th>\n",
       "      <th>status_next</th>\n",
       "      <th>ort_next</th>\n",
       "      <th>datum_next</th>\n",
       "      <th>datum_diff</th>\n",
       "    </tr>\n",
       "  </thead>\n",
       "  <tbody>\n",
       "    <tr>\n",
       "      <th>0</th>\n",
       "      <td>00340434154847512209</td>\n",
       "      <td>2019-11-15 16:59:00+00:00</td>\n",
       "      <td>Die Sendung wurde storniert.</td>\n",
       "      <td>1.0</td>\n",
       "      <td>Unbekannt</td>\n",
       "      <td>SuccessDelivery</td>\n",
       "      <td>SuccessDelivery</td>\n",
       "      <td>2020-04-14 00:00:00+00:00</td>\n",
       "      <td>150 days 07:01:00</td>\n",
       "    </tr>\n",
       "    <tr>\n",
       "      <th>0</th>\n",
       "      <td>00340434193824592131</td>\n",
       "      <td>2020-02-06 13:59:00+00:00</td>\n",
       "      <td>Die Sendung wurde elektronisch angeku00FCndigt...</td>\n",
       "      <td>0.0</td>\n",
       "      <td>Unbekannt</td>\n",
       "      <td>Die Sendung wurde von DHL bearbeitet und wird ...</td>\n",
       "      <td>Bu00F6rnicke</td>\n",
       "      <td>2020-02-06 15:47:00+00:00</td>\n",
       "      <td>0 days 01:48:00</td>\n",
       "    </tr>\n",
       "    <tr>\n",
       "      <th>1</th>\n",
       "      <td>00340434193824592131</td>\n",
       "      <td>2020-02-06 15:47:00+00:00</td>\n",
       "      <td>Die Sendung wurde von DHL bearbeitet und wird ...</td>\n",
       "      <td>0.0</td>\n",
       "      <td>Bu00F6rnicke</td>\n",
       "      <td>Die geringfu00FCgig beschu00E4digte Sendung wi...</td>\n",
       "      <td>Bu00F6rnicke</td>\n",
       "      <td>2020-02-06 15:50:00+00:00</td>\n",
       "      <td>0 days 00:03:00</td>\n",
       "    </tr>\n",
       "    <tr>\n",
       "      <th>2</th>\n",
       "      <td>00340434193824592131</td>\n",
       "      <td>2020-02-06 15:50:00+00:00</td>\n",
       "      <td>Die geringfu00FCgig beschu00E4digte Sendung wi...</td>\n",
       "      <td>0.0</td>\n",
       "      <td>Bu00F6rnicke</td>\n",
       "      <td>Die Sendung wird fu00FCr den Weitertransport v...</td>\n",
       "      <td>Staufenberg</td>\n",
       "      <td>2020-02-07 00:43:00+00:00</td>\n",
       "      <td>0 days 08:53:00</td>\n",
       "    </tr>\n",
       "    <tr>\n",
       "      <th>3</th>\n",
       "      <td>00340434193824592131</td>\n",
       "      <td>2020-02-07 00:43:00+00:00</td>\n",
       "      <td>Die Sendung wird fu00FCr den Weitertransport v...</td>\n",
       "      <td>0.0</td>\n",
       "      <td>Staufenberg</td>\n",
       "      <td>Die Sendung ist in der Region des Empfu00E4nge...</td>\n",
       "      <td>Staufenberg</td>\n",
       "      <td>2020-02-07 02:44:00+00:00</td>\n",
       "      <td>0 days 02:01:00</td>\n",
       "    </tr>\n",
       "  </tbody>\n",
       "</table>\n",
       "</div>"
      ],
      "text/plain": [
       "        shipment_number                     datum  \\\n",
       "0  00340434154847512209 2019-11-15 16:59:00+00:00   \n",
       "0  00340434193824592131 2020-02-06 13:59:00+00:00   \n",
       "1  00340434193824592131 2020-02-06 15:47:00+00:00   \n",
       "2  00340434193824592131 2020-02-06 15:50:00+00:00   \n",
       "3  00340434193824592131 2020-02-07 00:43:00+00:00   \n",
       "\n",
       "                                              status  is_final_event  \\\n",
       "0                       Die Sendung wurde storniert.             1.0   \n",
       "0  Die Sendung wurde elektronisch angeku00FCndigt...             0.0   \n",
       "1  Die Sendung wurde von DHL bearbeitet und wird ...             0.0   \n",
       "2  Die geringfu00FCgig beschu00E4digte Sendung wi...             0.0   \n",
       "3  Die Sendung wird fu00FCr den Weitertransport v...             0.0   \n",
       "\n",
       "            ort                                        status_next  \\\n",
       "0     Unbekannt                                    SuccessDelivery   \n",
       "0     Unbekannt  Die Sendung wurde von DHL bearbeitet und wird ...   \n",
       "1  Bu00F6rnicke  Die geringfu00FCgig beschu00E4digte Sendung wi...   \n",
       "2  Bu00F6rnicke  Die Sendung wird fu00FCr den Weitertransport v...   \n",
       "3   Staufenberg  Die Sendung ist in der Region des Empfu00E4nge...   \n",
       "\n",
       "          ort_next                datum_next        datum_diff  \n",
       "0  SuccessDelivery 2020-04-14 00:00:00+00:00 150 days 07:01:00  \n",
       "0     Bu00F6rnicke 2020-02-06 15:47:00+00:00   0 days 01:48:00  \n",
       "1     Bu00F6rnicke 2020-02-06 15:50:00+00:00   0 days 00:03:00  \n",
       "2      Staufenberg 2020-02-07 00:43:00+00:00   0 days 08:53:00  \n",
       "3      Staufenberg 2020-02-07 02:44:00+00:00   0 days 02:01:00  "
      ]
     },
     "execution_count": 37,
     "metadata": {},
     "output_type": "execute_result"
    }
   ],
   "source": [
    "df.head()"
   ]
  },
  {
   "cell_type": "markdown",
   "metadata": {},
   "source": [
    "### Define the problem as a regression problem"
   ]
  },
  {
   "cell_type": "code",
   "execution_count": 38,
   "metadata": {},
   "outputs": [],
   "source": [
    "df[\"datum_diff_h\"] = df['datum_diff'].astype('timedelta64[h]')"
   ]
  },
  {
   "cell_type": "markdown",
   "metadata": {},
   "source": [
    "This means now that we want to predict the time between two events. The column \"datum_diff_h\" tells us the time diff betwen the two events in hours"
   ]
  },
  {
   "cell_type": "markdown",
   "metadata": {},
   "source": [
    "##### First we only use two features. So the question is, given status and ort of an event, can we predict, when the next event will happen?"
   ]
  },
  {
   "cell_type": "code",
   "execution_count": 39,
   "metadata": {},
   "outputs": [],
   "source": [
    "df_temp = df[df[\"is_final_event\"] == 0]\n",
    "X = df_temp[[\"status\", \"ort\"]]\n",
    "y = df_temp[\"datum_diff_h\"]"
   ]
  },
  {
   "cell_type": "markdown",
   "metadata": {},
   "source": [
    "Notice that \"status\" and \"ort\" are categorical variables. We shoud encode them!"
   ]
  },
  {
   "cell_type": "code",
   "execution_count": 40,
   "metadata": {},
   "outputs": [],
   "source": [
    "X[\"status\"] = X[\"status\"].astype('category')\n",
    "X[\"status_code\"] = X[\"status\"].cat.codes\n",
    "X[\"ort\"] = X[\"ort\"].astype('category')\n",
    "X[\"ort_code\"] = X[\"ort\"].cat.codes"
   ]
  },
  {
   "cell_type": "markdown",
   "metadata": {},
   "source": [
    "Create trainig and test set"
   ]
  },
  {
   "cell_type": "code",
   "execution_count": 41,
   "metadata": {},
   "outputs": [],
   "source": [
    "from sklearn.model_selection import train_test_split\n",
    "X_train, X_test, y_train, y_test = train_test_split(X, y, test_size=0.33, random_state=42)"
   ]
  },
  {
   "cell_type": "code",
   "execution_count": 42,
   "metadata": {},
   "outputs": [
    {
     "data": {
      "text/html": [
       "<div>\n",
       "<style scoped>\n",
       "    .dataframe tbody tr th:only-of-type {\n",
       "        vertical-align: middle;\n",
       "    }\n",
       "\n",
       "    .dataframe tbody tr th {\n",
       "        vertical-align: top;\n",
       "    }\n",
       "\n",
       "    .dataframe thead th {\n",
       "        text-align: right;\n",
       "    }\n",
       "</style>\n",
       "<table border=\"1\" class=\"dataframe\">\n",
       "  <thead>\n",
       "    <tr style=\"text-align: right;\">\n",
       "      <th></th>\n",
       "      <th>status</th>\n",
       "      <th>ort</th>\n",
       "      <th>status_code</th>\n",
       "      <th>ort_code</th>\n",
       "    </tr>\n",
       "  </thead>\n",
       "  <tbody>\n",
       "    <tr>\n",
       "      <th>0</th>\n",
       "      <td>Die Sendung wurde elektronisch angeku00FCndigt...</td>\n",
       "      <td>Unbekannt</td>\n",
       "      <td>23</td>\n",
       "      <td>78</td>\n",
       "    </tr>\n",
       "    <tr>\n",
       "      <th>1</th>\n",
       "      <td>Die Sendung wurde von DHL bearbeitet und wird ...</td>\n",
       "      <td>Bu00F6rnicke</td>\n",
       "      <td>28</td>\n",
       "      <td>15</td>\n",
       "    </tr>\n",
       "    <tr>\n",
       "      <th>2</th>\n",
       "      <td>Die geringfu00FCgig beschu00E4digte Sendung wi...</td>\n",
       "      <td>Bu00F6rnicke</td>\n",
       "      <td>37</td>\n",
       "      <td>15</td>\n",
       "    </tr>\n",
       "    <tr>\n",
       "      <th>3</th>\n",
       "      <td>Die Sendung wird fu00FCr den Weitertransport v...</td>\n",
       "      <td>Staufenberg</td>\n",
       "      <td>15</td>\n",
       "      <td>77</td>\n",
       "    </tr>\n",
       "    <tr>\n",
       "      <th>4</th>\n",
       "      <td>Die Sendung ist in der Region des Empfu00E4nge...</td>\n",
       "      <td>Staufenberg</td>\n",
       "      <td>8</td>\n",
       "      <td>77</td>\n",
       "    </tr>\n",
       "  </tbody>\n",
       "</table>\n",
       "</div>"
      ],
      "text/plain": [
       "                                              status           ort  \\\n",
       "0  Die Sendung wurde elektronisch angeku00FCndigt...     Unbekannt   \n",
       "1  Die Sendung wurde von DHL bearbeitet und wird ...  Bu00F6rnicke   \n",
       "2  Die geringfu00FCgig beschu00E4digte Sendung wi...  Bu00F6rnicke   \n",
       "3  Die Sendung wird fu00FCr den Weitertransport v...   Staufenberg   \n",
       "4  Die Sendung ist in der Region des Empfu00E4nge...   Staufenberg   \n",
       "\n",
       "   status_code  ort_code  \n",
       "0           23        78  \n",
       "1           28        15  \n",
       "2           37        15  \n",
       "3           15        77  \n",
       "4            8        77  "
      ]
     },
     "execution_count": 42,
     "metadata": {},
     "output_type": "execute_result"
    }
   ],
   "source": [
    "X.head()"
   ]
  },
  {
   "cell_type": "code",
   "execution_count": 43,
   "metadata": {},
   "outputs": [
    {
     "data": {
      "text/plain": [
       "RandomForestRegressor(bootstrap=True, ccp_alpha=0.0, criterion='mse',\n",
       "                      max_depth=5, max_features='auto', max_leaf_nodes=None,\n",
       "                      max_samples=None, min_impurity_decrease=0.0,\n",
       "                      min_impurity_split=None, min_samples_leaf=1,\n",
       "                      min_samples_split=2, min_weight_fraction_leaf=0.0,\n",
       "                      n_estimators=50, n_jobs=None, oob_score=False,\n",
       "                      random_state=0, verbose=0, warm_start=False)"
      ]
     },
     "execution_count": 43,
     "metadata": {},
     "output_type": "execute_result"
    }
   ],
   "source": [
    "from sklearn.ensemble import RandomForestRegressor\n",
    "from sklearn.model_selection import cross_val_score\n",
    "\n",
    "regr = RandomForestRegressor(n_estimators=50, max_depth=5, random_state=0)\n",
    "regr.fit(X_train[[\"status_code\", \"ort_code\"]], y_train)"
   ]
  },
  {
   "cell_type": "markdown",
   "metadata": {},
   "source": [
    "##### Coefficient of determination R^2 of the prediction with cross validation"
   ]
  },
  {
   "cell_type": "code",
   "execution_count": 60,
   "metadata": {},
   "outputs": [
    {
     "data": {
      "text/plain": [
       "array([ 0.48118663, -0.60201811, -0.22048232,  0.37464111,  0.62548041,\n",
       "        0.43853726,  0.37316986,  0.2944233 , -0.5714411 , -1.67321228])"
      ]
     },
     "execution_count": 60,
     "metadata": {},
     "output_type": "execute_result"
    }
   ],
   "source": [
    "cross_val_score(regr, X_train[[\"status_code\", \"ort_code\"]], y_train, cv=10)"
   ]
  },
  {
   "cell_type": "markdown",
   "metadata": {},
   "source": [
    "##### Feature Importance"
   ]
  },
  {
   "cell_type": "code",
   "execution_count": 45,
   "metadata": {},
   "outputs": [
    {
     "name": "stdout",
     "output_type": "stream",
     "text": [
      "[0.9409265 0.0590735]\n"
     ]
    }
   ],
   "source": [
    "print(regr.feature_importances_)"
   ]
  },
  {
   "cell_type": "markdown",
   "metadata": {},
   "source": [
    "\"status\" played a bigger role in predictions comparing to \"ort\""
   ]
  },
  {
   "cell_type": "markdown",
   "metadata": {},
   "source": [
    "##### Fit the model and test it on the test set"
   ]
  },
  {
   "cell_type": "code",
   "execution_count": 46,
   "metadata": {},
   "outputs": [],
   "source": [
    "model = regr.fit(X_train[[\"status_code\", \"ort_code\"]], y_train)"
   ]
  },
  {
   "cell_type": "code",
   "execution_count": 47,
   "metadata": {},
   "outputs": [],
   "source": [
    "y_pred = model.predict(X_test[[\"status_code\", \"ort_code\"]])"
   ]
  },
  {
   "cell_type": "markdown",
   "metadata": {},
   "source": [
    "##### Metrics"
   ]
  },
  {
   "cell_type": "code",
   "execution_count": 65,
   "metadata": {},
   "outputs": [
    {
     "name": "stdout",
     "output_type": "stream",
     "text": [
      "Mean Absolute Error: 12.170167209118363\n",
      "Mean Squared Error: 794.0503201960557\n",
      "Root Mean Squared Error: 28.178898491531847\n"
     ]
    }
   ],
   "source": [
    "from sklearn import metrics\n",
    "import numpy as np\n",
    "print('Mean Absolute Error:', metrics.mean_absolute_error(y_test, y_pred))\n",
    "print('Mean Squared Error:', metrics.mean_squared_error(y_test, y_pred))\n",
    "print('Root Mean Squared Error:', np.sqrt(metrics.mean_squared_error(y_test, y_pred)))"
   ]
  },
  {
   "cell_type": "markdown",
   "metadata": {},
   "source": [
    "##### Distribution of errors"
   ]
  },
  {
   "cell_type": "code",
   "execution_count": 66,
   "metadata": {},
   "outputs": [
    {
     "data": {
      "image/png": "[encoded data removed]",
      "text/plain": [
       "<Figure size 432x288 with 1 Axes>"
      ]
     },
     "metadata": {
      "needs_background": "light"
     },
     "output_type": "display_data"
    }
   ],
   "source": [
    "import seaborn as sns\n",
    "sns.distplot(y_test-y_pred, hist=True, kde=True, \n",
    "             bins=int(180/5), color = 'darkblue', \n",
    "             hist_kws={'edgecolor':'black'},\n",
    "             kde_kws={'linewidth': 1});"
   ]
  },
  {
   "cell_type": "markdown",
   "metadata": {},
   "source": [
    "### For which data point do I have a minimal error?"
   ]
  },
  {
   "cell_type": "code",
   "execution_count": 67,
   "metadata": {},
   "outputs": [],
   "source": [
    "X_test_df = pd.DataFrame(X_test).reset_index(drop=True)\n",
    "y_test_df = pd.DataFrame(y_test).reset_index(drop=True)\n",
    "y_pred_df = pd.DataFrame(y_pred).reset_index(drop=True)"
   ]
  },
  {
   "cell_type": "code",
   "execution_count": 68,
   "metadata": {},
   "outputs": [],
   "source": [
    "prediction_df = pd.concat([X_test_df, y_test_df, y_pred_df], axis=1)"
   ]
  },
  {
   "cell_type": "code",
   "execution_count": 69,
   "metadata": {},
   "outputs": [
    {
     "data": {
      "text/html": [
       "<div>\n",
       "<style scoped>\n",
       "    .dataframe tbody tr th:only-of-type {\n",
       "        vertical-align: middle;\n",
       "    }\n",
       "\n",
       "    .dataframe tbody tr th {\n",
       "        vertical-align: top;\n",
       "    }\n",
       "\n",
       "    .dataframe thead th {\n",
       "        text-align: right;\n",
       "    }\n",
       "</style>\n",
       "<table border=\"1\" class=\"dataframe\">\n",
       "  <thead>\n",
       "    <tr style=\"text-align: right;\">\n",
       "      <th></th>\n",
       "      <th>status</th>\n",
       "      <th>ort</th>\n",
       "      <th>status_code</th>\n",
       "      <th>ort_code</th>\n",
       "      <th>datum_diff_h</th>\n",
       "      <th>0</th>\n",
       "    </tr>\n",
       "  </thead>\n",
       "  <tbody>\n",
       "    <tr>\n",
       "      <th>0</th>\n",
       "      <td>Die Sendung befindet sich auf dem Weg zum Empf...</td>\n",
       "      <td>Krefeld</td>\n",
       "      <td>4</td>\n",
       "      <td>44</td>\n",
       "      <td>4.0</td>\n",
       "      <td>6.383037</td>\n",
       "    </tr>\n",
       "    <tr>\n",
       "      <th>1</th>\n",
       "      <td>Die Sendung wurde elektronisch angeku00FCndigt...</td>\n",
       "      <td>Unbekannt</td>\n",
       "      <td>23</td>\n",
       "      <td>78</td>\n",
       "      <td>2.0</td>\n",
       "      <td>12.541315</td>\n",
       "    </tr>\n",
       "    <tr>\n",
       "      <th>2</th>\n",
       "      <td>Die Sendung wurde abgeholt.</td>\n",
       "      <td>Unbekannt</td>\n",
       "      <td>19</td>\n",
       "      <td>78</td>\n",
       "      <td>9.0</td>\n",
       "      <td>16.794468</td>\n",
       "    </tr>\n",
       "    <tr>\n",
       "      <th>3</th>\n",
       "      <td>Die Sendung wird fu00FCr die Verladung ins Zus...</td>\n",
       "      <td>Oldenburg MechZB</td>\n",
       "      <td>16</td>\n",
       "      <td>64</td>\n",
       "      <td>16.0</td>\n",
       "      <td>7.189202</td>\n",
       "    </tr>\n",
       "    <tr>\n",
       "      <th>4</th>\n",
       "      <td>Die Sendung wurde von DHL bearbeitet und wird ...</td>\n",
       "      <td>Hamburg</td>\n",
       "      <td>28</td>\n",
       "      <td>36</td>\n",
       "      <td>9.0</td>\n",
       "      <td>14.876673</td>\n",
       "    </tr>\n",
       "  </tbody>\n",
       "</table>\n",
       "</div>"
      ],
      "text/plain": [
       "                                              status               ort  \\\n",
       "0  Die Sendung befindet sich auf dem Weg zum Empf...           Krefeld   \n",
       "1  Die Sendung wurde elektronisch angeku00FCndigt...         Unbekannt   \n",
       "2                        Die Sendung wurde abgeholt.         Unbekannt   \n",
       "3  Die Sendung wird fu00FCr die Verladung ins Zus...  Oldenburg MechZB   \n",
       "4  Die Sendung wurde von DHL bearbeitet und wird ...           Hamburg   \n",
       "\n",
       "   status_code  ort_code  datum_diff_h          0  \n",
       "0            4        44           4.0   6.383037  \n",
       "1           23        78           2.0  12.541315  \n",
       "2           19        78           9.0  16.794468  \n",
       "3           16        64          16.0   7.189202  \n",
       "4           28        36           9.0  14.876673  "
      ]
     },
     "execution_count": 69,
     "metadata": {},
     "output_type": "execute_result"
    }
   ],
   "source": [
    "prediction_df.head()"
   ]
  },
  {
   "cell_type": "code",
   "execution_count": 70,
   "metadata": {},
   "outputs": [],
   "source": [
    "prediction_df.columns = ['status', 'ort', 'status_code', 'ort_code', 'y', 'y_pred']"
   ]
  },
  {
   "cell_type": "code",
   "execution_count": 71,
   "metadata": {},
   "outputs": [
    {
     "data": {
      "text/html": [
       "<div>\n",
       "<style scoped>\n",
       "    .dataframe tbody tr th:only-of-type {\n",
       "        vertical-align: middle;\n",
       "    }\n",
       "\n",
       "    .dataframe tbody tr th {\n",
       "        vertical-align: top;\n",
       "    }\n",
       "\n",
       "    .dataframe thead th {\n",
       "        text-align: right;\n",
       "    }\n",
       "</style>\n",
       "<table border=\"1\" class=\"dataframe\">\n",
       "  <thead>\n",
       "    <tr style=\"text-align: right;\">\n",
       "      <th></th>\n",
       "      <th>status</th>\n",
       "      <th>ort</th>\n",
       "      <th>status_code</th>\n",
       "      <th>ort_code</th>\n",
       "      <th>y</th>\n",
       "      <th>y_pred</th>\n",
       "    </tr>\n",
       "  </thead>\n",
       "  <tbody>\n",
       "    <tr>\n",
       "      <th>0</th>\n",
       "      <td>Die Sendung befindet sich auf dem Weg zum Empf...</td>\n",
       "      <td>Krefeld</td>\n",
       "      <td>4</td>\n",
       "      <td>44</td>\n",
       "      <td>4.0</td>\n",
       "      <td>6.383037</td>\n",
       "    </tr>\n",
       "    <tr>\n",
       "      <th>1</th>\n",
       "      <td>Die Sendung wurde elektronisch angeku00FCndigt...</td>\n",
       "      <td>Unbekannt</td>\n",
       "      <td>23</td>\n",
       "      <td>78</td>\n",
       "      <td>2.0</td>\n",
       "      <td>12.541315</td>\n",
       "    </tr>\n",
       "    <tr>\n",
       "      <th>2</th>\n",
       "      <td>Die Sendung wurde abgeholt.</td>\n",
       "      <td>Unbekannt</td>\n",
       "      <td>19</td>\n",
       "      <td>78</td>\n",
       "      <td>9.0</td>\n",
       "      <td>16.794468</td>\n",
       "    </tr>\n",
       "    <tr>\n",
       "      <th>3</th>\n",
       "      <td>Die Sendung wird fu00FCr die Verladung ins Zus...</td>\n",
       "      <td>Oldenburg MechZB</td>\n",
       "      <td>16</td>\n",
       "      <td>64</td>\n",
       "      <td>16.0</td>\n",
       "      <td>7.189202</td>\n",
       "    </tr>\n",
       "    <tr>\n",
       "      <th>4</th>\n",
       "      <td>Die Sendung wurde von DHL bearbeitet und wird ...</td>\n",
       "      <td>Hamburg</td>\n",
       "      <td>28</td>\n",
       "      <td>36</td>\n",
       "      <td>9.0</td>\n",
       "      <td>14.876673</td>\n",
       "    </tr>\n",
       "  </tbody>\n",
       "</table>\n",
       "</div>"
      ],
      "text/plain": [
       "                                              status               ort  \\\n",
       "0  Die Sendung befindet sich auf dem Weg zum Empf...           Krefeld   \n",
       "1  Die Sendung wurde elektronisch angeku00FCndigt...         Unbekannt   \n",
       "2                        Die Sendung wurde abgeholt.         Unbekannt   \n",
       "3  Die Sendung wird fu00FCr die Verladung ins Zus...  Oldenburg MechZB   \n",
       "4  Die Sendung wurde von DHL bearbeitet und wird ...           Hamburg   \n",
       "\n",
       "   status_code  ort_code     y     y_pred  \n",
       "0            4        44   4.0   6.383037  \n",
       "1           23        78   2.0  12.541315  \n",
       "2           19        78   9.0  16.794468  \n",
       "3           16        64  16.0   7.189202  \n",
       "4           28        36   9.0  14.876673  "
      ]
     },
     "execution_count": 71,
     "metadata": {},
     "output_type": "execute_result"
    }
   ],
   "source": [
    "prediction_df.head()"
   ]
  },
  {
   "cell_type": "code",
   "execution_count": 72,
   "metadata": {},
   "outputs": [],
   "source": [
    "prediction_df[\"diff\"] = abs(prediction_df[\"y\"] - prediction_df[\"y_pred\"])"
   ]
  },
  {
   "cell_type": "code",
   "execution_count": 73,
   "metadata": {},
   "outputs": [
    {
     "data": {
      "text/html": [
       "<div>\n",
       "<style scoped>\n",
       "    .dataframe tbody tr th:only-of-type {\n",
       "        vertical-align: middle;\n",
       "    }\n",
       "\n",
       "    .dataframe tbody tr th {\n",
       "        vertical-align: top;\n",
       "    }\n",
       "\n",
       "    .dataframe thead th {\n",
       "        text-align: right;\n",
       "    }\n",
       "</style>\n",
       "<table border=\"1\" class=\"dataframe\">\n",
       "  <thead>\n",
       "    <tr style=\"text-align: right;\">\n",
       "      <th></th>\n",
       "      <th>status</th>\n",
       "      <th>ort</th>\n",
       "      <th>status_code</th>\n",
       "      <th>ort_code</th>\n",
       "      <th>y</th>\n",
       "      <th>y_pred</th>\n",
       "      <th>diff</th>\n",
       "    </tr>\n",
       "  </thead>\n",
       "  <tbody>\n",
       "    <tr>\n",
       "      <th>0</th>\n",
       "      <td>Die Sendung befindet sich auf dem Weg zum Empf...</td>\n",
       "      <td>Krefeld</td>\n",
       "      <td>4</td>\n",
       "      <td>44</td>\n",
       "      <td>4.0</td>\n",
       "      <td>6.383037</td>\n",
       "      <td>2.383037</td>\n",
       "    </tr>\n",
       "    <tr>\n",
       "      <th>1</th>\n",
       "      <td>Die Sendung wurde elektronisch angeku00FCndigt...</td>\n",
       "      <td>Unbekannt</td>\n",
       "      <td>23</td>\n",
       "      <td>78</td>\n",
       "      <td>2.0</td>\n",
       "      <td>12.541315</td>\n",
       "      <td>10.541315</td>\n",
       "    </tr>\n",
       "    <tr>\n",
       "      <th>2</th>\n",
       "      <td>Die Sendung wurde abgeholt.</td>\n",
       "      <td>Unbekannt</td>\n",
       "      <td>19</td>\n",
       "      <td>78</td>\n",
       "      <td>9.0</td>\n",
       "      <td>16.794468</td>\n",
       "      <td>7.794468</td>\n",
       "    </tr>\n",
       "    <tr>\n",
       "      <th>3</th>\n",
       "      <td>Die Sendung wird fu00FCr die Verladung ins Zus...</td>\n",
       "      <td>Oldenburg MechZB</td>\n",
       "      <td>16</td>\n",
       "      <td>64</td>\n",
       "      <td>16.0</td>\n",
       "      <td>7.189202</td>\n",
       "      <td>8.810798</td>\n",
       "    </tr>\n",
       "    <tr>\n",
       "      <th>4</th>\n",
       "      <td>Die Sendung wurde von DHL bearbeitet und wird ...</td>\n",
       "      <td>Hamburg</td>\n",
       "      <td>28</td>\n",
       "      <td>36</td>\n",
       "      <td>9.0</td>\n",
       "      <td>14.876673</td>\n",
       "      <td>5.876673</td>\n",
       "    </tr>\n",
       "  </tbody>\n",
       "</table>\n",
       "</div>"
      ],
      "text/plain": [
       "                                              status               ort  \\\n",
       "0  Die Sendung befindet sich auf dem Weg zum Empf...           Krefeld   \n",
       "1  Die Sendung wurde elektronisch angeku00FCndigt...         Unbekannt   \n",
       "2                        Die Sendung wurde abgeholt.         Unbekannt   \n",
       "3  Die Sendung wird fu00FCr die Verladung ins Zus...  Oldenburg MechZB   \n",
       "4  Die Sendung wurde von DHL bearbeitet und wird ...           Hamburg   \n",
       "\n",
       "   status_code  ort_code     y     y_pred       diff  \n",
       "0            4        44   4.0   6.383037   2.383037  \n",
       "1           23        78   2.0  12.541315  10.541315  \n",
       "2           19        78   9.0  16.794468   7.794468  \n",
       "3           16        64  16.0   7.189202   8.810798  \n",
       "4           28        36   9.0  14.876673   5.876673  "
      ]
     },
     "execution_count": 73,
     "metadata": {},
     "output_type": "execute_result"
    }
   ],
   "source": [
    "prediction_df.head()"
   ]
  },
  {
   "cell_type": "code",
   "execution_count": 74,
   "metadata": {},
   "outputs": [
    {
     "data": {
      "text/plain": [
       "array([['Die Sendung liegt ab sofort in dert Filiale ... zur Abholung bereit.',\n",
       "        'Unbekannt', 14, 78, 0.0, 175.9694027777778, 175.9694027777778],\n",
       "       ['Die Sendung wird zur Abholung in die ... gebracht. Die fru00FChestmu00F6gliche Uhrzeit der Abholung kann der Benachrichtigung entnommen werden.',\n",
       "        'Unbekannt', 17, 78, 373.0, 57.23536742159679, 315.7646325784032],\n",
       "       ['Die Sendung wird zur Abholung in die ... gebracht. Fu00FCr die Abholung ist neben der Benachrichtigung die Vorlage Ihres Ausweises sowie ggf. eine Vollmacht erforderlich.',\n",
       "        'Unbekannt', 18, 78, 271.0, 142.35790792265598,\n",
       "        128.64209207734402],\n",
       "       ['Leider war eine Zustellung der Sendung nicht mu00F6glich. Gru00FCnde hierfu00FCr ku00F6nnen sein: Kein Zugang zum Gebu00E4ude, kein Schild an der Klingel, Empfu00E4nger ggf. verzogen, etc.',\n",
       "        'Unbekannt', 45, 78, 74.0, 23.469724766292003, 50.530275233708],\n",
       "       ['Die Sendung wurde direkt ab Paketzentrum dem Geschu00E4ftskunden zugestellt.',\n",
       "        'Unbekannt', 22, 78, 187.0, 38.4968399847943, 148.5031600152057],\n",
       "       ['Die Sendung liegt ab sofort in dert Filiale ... zur Abholung bereit.',\n",
       "        'Unbekannt', 14, 78, 229.0, 175.9694027777778, 53.03059722222221],\n",
       "       ['Leider war eine Zustellung der Sendung nicht mu00F6glich. Gru00FCnde hierfu00FCr ku00F6nnen sein: Kein Zugang zum Gebu00E4ude, kein Schild an der Klingel, Empfu00E4nger ggf. verzogen, etc.',\n",
       "        'Unbekannt', 45, 78, 52.0, 23.469724766292003,\n",
       "        28.530275233707997],\n",
       "       ['Ihr Paket wird bei uns gelagert und am gewu00FCnschten Liefertag zugestellt.',\n",
       "        'Unbekannt', 41, 78, 72.0, 18.906430137488616, 53.09356986251139],\n",
       "       ['Die Sendung wird zur Abholung in die ... gebracht. Fu00FCr die Abholung ist neben der Benachrichtigung die Vorlage Ihres Ausweises sowie ggf. eine Vollmacht erforderlich.',\n",
       "        'Unbekannt', 18, 78, 284.0, 142.35790792265598,\n",
       "        141.64209207734402],\n",
       "       ['Die Zustellung der Sendung verzu00F6gert sich. Sie erfolgt voraussichtlich am nu00E4chsten Werktag.',\n",
       "        'Unbekannt', 34, 78, 47.0, 13.75081241323607, 33.24918758676393],\n",
       "       ['Die Sendung wird fu00FCr den Weitertransport vorbereitet.',\n",
       "        'Bochum', 15, 11, 48.0, 6.556096380771843, 41.44390361922816],\n",
       "       ['Die Sendung wurde elektronisch angeku00FCndigt. Sobald die Sendung von uns bearbeitet wurde, erhalten Sie weitere Informationen.',\n",
       "        'Unbekannt', 23, 78, 65.0, 12.541314687947747, 52.45868531205225],\n",
       "       ['Die Sendung ist in der Region des Empfu00E4ngers angekommen und wird im nu00E4chsten Schritt zur Zustellbasis transportiert.',\n",
       "        'Rodgau', 8, 73, 58.0, 7.2680251432306555, 50.73197485676934],\n",
       "       ['Die Sendung wird zur Abholung in die ... gebracht. Die fru00FChestmu00F6gliche Uhrzeit der Abholung kann der Benachrichtigung entnommen werden.',\n",
       "        'Unbekannt', 17, 78, 12.0, 57.23536742159679, 45.23536742159679],\n",
       "       ['Die Sendung wurde zuru00FCckgestellt. Die Zustellung erfolgt vrs. am nu00E4chsten Werktag.',\n",
       "        'Unbekannt', 31, 78, 45.0, 13.417012270146634,\n",
       "        31.582987729853365],\n",
       "       ['Die Sendung wurde elektronisch angeku00FCndigt. Sobald die Sendung von uns bearbeitet wurde, erhalten Sie weitere Informationen.',\n",
       "        'Unbekannt', 23, 78, 84.0, 12.541314687947747, 71.45868531205225],\n",
       "       ['Die Sendung wurde zuru00FCckgestellt. Die Zustellung erfolgt vrs. am nu00E4chsten Werktag.',\n",
       "        'Unbekannt', 31, 78, 45.0, 13.417012270146634,\n",
       "        31.582987729853365],\n",
       "       ['Die Sendung wurde leider beschu00E4digt und muss neu verpackt werden. Wir informieren Sie hier u00FCber den nu00E4chsten Schritt.',\n",
       "        'Unbekannt', 25, 78, 97.0, 7.798514557263619, 89.20148544273638],\n",
       "       ['Die Sendung wurde von DHL bearbeitet und wird fu00FCr den Weitertransport in die Region des Empfu00E4ngers vorbereitet.',\n",
       "        'Bu00F6rnicke', 28, 15, 60.0, 14.017313862763904,\n",
       "        45.982686137236094],\n",
       "       ['Die Sendung wurde von DHL bearbeitet und wird fu00FCr den Weitertransport in die Region des Empfu00E4ngers vorbereitet.',\n",
       "        'Augsburg', 28, 2, 11.0, 37.15855979695043, 26.158559796950428],\n",
       "       ['Der Empfu00E4nger hat die Sendung innerhalb der siebentu00E4gigen Lagerfrist nicht in der Filiale abgeholt.',\n",
       "        'Unbekannt', 2, 78, 73.0, 11.289335068489363, 61.710664931510635],\n",
       "       ['Die Sendung wurde leider fehlgeleitet. Gegebenenfalls verzu00F6gert sich dadurch die Zustellung.',\n",
       "        'Unbekannt', 26, 78, 53.0, 11.63787417472557, 41.36212582527443],\n",
       "       ['Die Sendung wird zur Abholung in die ... gebracht. Fu00FCr die Abholung ist neben der Benachrichtigung die Vorlage Ihres Ausweises sowie ggf. eine Vollmacht erforderlich.',\n",
       "        'Unbekannt', 18, 78, 49.0, 142.35790792265598, 93.35790792265598],\n",
       "       ['Die Sendung wurde von DHL bearbeitet und wird fu00FCr den Weitertransport in die Region des Empfu00E4ngers vorbereitet.',\n",
       "        'Hamburg', 28, 36, 53.0, 14.876672707120065, 38.123327292879935],\n",
       "       ['Die Sendung wurde direkt ab Paketzentrum dem Geschu00E4ftskunden zugestellt.',\n",
       "        'Unbekannt', 22, 78, 169.0, 38.4968399847943, 130.5031600152057],\n",
       "       ['Die Sendung wird zur Abholung in die ... gebracht. Fu00FCr die Abholung ist neben der Benachrichtigung die Vorlage Ihres Ausweises sowie ggf. eine Vollmacht erforderlich.',\n",
       "        'Unbekannt', 18, 78, 16.0, 142.35790792265598,\n",
       "        126.35790792265598],\n",
       "       ['Die Sendung liegt ab sofort in dert Filiale ... zur Abholung bereit.',\n",
       "        'Unbekannt', 14, 78, 258.0, 175.9694027777778, 82.03059722222221],\n",
       "       ['Die Sendung wird zur Abholung in die ... gebracht. Die fru00FChestmu00F6gliche Uhrzeit der Abholung kann der Benachrichtigung entnommen werden.',\n",
       "        'Unbekannt', 17, 78, 253.0, 57.23536742159679,\n",
       "        195.76463257840322],\n",
       "       ['Die Sendung wird zur Abholung in die ... gebracht. Die fru00FChestmu00F6gliche Uhrzeit der Abholung kann der Benachrichtigung entnommen werden.',\n",
       "        'Unbekannt', 17, 78, 19.0, 57.23536742159679, 38.23536742159679],\n",
       "       ['Der Empfu00E4nger hat die Annahme der Sendung verweigert.',\n",
       "        'Unbekannt', 1, 78, 47.0, 9.284366453770751, 37.71563354622925],\n",
       "       ['Die Sendung wurde von DHL bearbeitet und wird fu00FCr den Weitertransport in die Region des Empfu00E4ngers vorbereitet.',\n",
       "        'Bu00F6rnicke', 28, 15, 60.0, 14.017313862763904,\n",
       "        45.982686137236094],\n",
       "       ['Die Sendung wird fu00FCr den Weitertransport vorbereitet.',\n",
       "        'Bremen GVZ', 15, 13, 51.0, 6.936993816669278, 44.06300618333072],\n",
       "       ['Die Sendung wird fu00FCr die Verladung ins Zustellfahrzeug vorbereitet.',\n",
       "        'Essen-Steele-Horst MechZB', 16, 26, 71.0, 5.126041509401212,\n",
       "        65.8739584905988],\n",
       "       ['Die Sendung wurde elektronisch angeku00FCndigt. Sobald die Sendung von uns bearbeitet wurde, erhalten Sie weitere Informationen.',\n",
       "        'Unbekannt', 23, 78, 67.0, 12.541314687947747, 54.45868531205225],\n",
       "       ['Die Sendung wurde elektronisch angeku00FCndigt. Sobald die Sendung von uns bearbeitet wurde, erhalten Sie weitere Informationen.',\n",
       "        'Unbekannt', 23, 78, 71.0, 12.541314687947747, 58.45868531205225],\n",
       "       ['Leider ist eine Zustellung der Sendung nicht mu00F6glich, da sie nicht unseren Versandbedingungen entspricht. Die Sendung wird an den Absender zuru00FCckgeschickt.',\n",
       "        'Unbekannt', 42, 78, 52.0, 22.269420947988923,\n",
       "        29.730579052011077],\n",
       "       ['Die Sendung wurde elektronisch angeku00FCndigt. Sobald die Sendung von uns bearbeitet wurde, erhalten Sie weitere Informationen.',\n",
       "        'Unbekannt', 23, 78, 71.0, 12.541314687947747, 58.45868531205225],\n",
       "       ['Die Sendung wurde elektronisch angeku00FCndigt. Sobald die Sendung von uns bearbeitet wurde, erhalten Sie weitere Informationen.',\n",
       "        'Unbekannt', 23, 78, 42.0, 12.541314687947747,\n",
       "        29.458685312052253],\n",
       "       ['Die Sendung wurde elektronisch angeku00FCndigt. Sobald die Sendung von uns bearbeitet wurde, erhalten Sie weitere Informationen.',\n",
       "        'Unbekannt', 23, 78, 54.0, 12.541314687947747, 41.45868531205225],\n",
       "       ['Die Sendung ist in der Region des Empfu00E4ngers angekommen und wird im nu00E4chsten Schritt zur Zustellbasis transportiert.',\n",
       "        'Eutingen im Gu00E4u', 8, 27, 61.0, 6.264497081936807,\n",
       "        54.73550291806319],\n",
       "       ['Die Sendung wird zur Abholung in die ... gebracht. Fu00FCr die Abholung ist neben der Benachrichtigung die Vorlage Ihres Ausweises sowie ggf. eine Vollmacht erforderlich.',\n",
       "        'Unbekannt', 18, 78, 19.0, 142.35790792265598,\n",
       "        123.35790792265598]], dtype=object)"
      ]
     },
     "execution_count": 74,
     "metadata": {},
     "output_type": "execute_result"
    }
   ],
   "source": [
    "prediction_df[prediction_df[\"diff\"] > 25].values"
   ]
  },
  {
   "cell_type": "code",
   "execution_count": null,
   "metadata": {},
   "outputs": [],
   "source": []
  },
  {
   "cell_type": "code",
   "execution_count": null,
   "metadata": {},
   "outputs": [],
   "source": []
  }
 ],
 "metadata": {
  "kernelspec": {
   "display_name": "Python 3",
   "language": "python",
   "name": "python3"
  },
  "language_info": {
   "codemirror_mode": {
    "name": "ipython",
    "version": 3
   },
   "file_extension": ".py",
   "mimetype": "text/x-python",
   "name": "python",
   "nbconvert_exporter": "python",
   "pygments_lexer": "ipython3",
   "version": "3.7.3"
  }
 },
 "nbformat": 4,
 "nbformat_minor": 2
}

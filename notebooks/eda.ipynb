{
 "cells": [
  {
   "cell_type": "markdown",
   "metadata": {},
   "source": [
    "# EDA: Data Exploration"
   ]
  },
  {
   "cell_type": "code",
   "execution_count": 1,
   "metadata": {},
   "outputs": [],
   "source": [
    "def json_to_df(json_file=None):\n",
    "    import pandas as pd\n",
    "    from pandas.io.json import json_normalize  \n",
    "    df = pd.read_json(json_file)\n",
    "    normalized_df = json_normalize(df['events'])\n",
    "    df.drop([\"events\"], axis=1, inplace=True)\n",
    "    return pd.concat([df, normalized_df], axis=1)"
   ]
  },
  {
   "cell_type": "code",
   "execution_count": 2,
   "metadata": {},
   "outputs": [
    {
     "data": {
      "text/html": [
       "<div>\n",
       "<style scoped>\n",
       "    .dataframe tbody tr th:only-of-type {\n",
       "        vertical-align: middle;\n",
       "    }\n",
       "\n",
       "    .dataframe tbody tr th {\n",
       "        vertical-align: top;\n",
       "    }\n",
       "\n",
       "    .dataframe thead th {\n",
       "        text-align: right;\n",
       "    }\n",
       "</style>\n",
       "<table border=\"1\" class=\"dataframe\">\n",
       "  <thead>\n",
       "    <tr style=\"text-align: right;\">\n",
       "      <th></th>\n",
       "      <th>shipment_number</th>\n",
       "      <th>crawltime</th>\n",
       "      <th>url</th>\n",
       "      <th>datum</th>\n",
       "      <th>status</th>\n",
       "      <th>ort</th>\n",
       "    </tr>\n",
       "  </thead>\n",
       "  <tbody>\n",
       "    <tr>\n",
       "      <td>0</td>\n",
       "      <td>340434188193324544</td>\n",
       "      <td>2019-11-11 14:22:03</td>\n",
       "      <td>https://www.dhl.de/int-verfolgen/search?langua...</td>\n",
       "      <td>2019-10-07T16:27:00+02:00</td>\n",
       "      <td>Die Sendung wurde elektronisch angeku00FCndigt...</td>\n",
       "      <td>NaN</td>\n",
       "    </tr>\n",
       "    <tr>\n",
       "      <td>1</td>\n",
       "      <td>340434188193324544</td>\n",
       "      <td>2019-11-11 14:22:03</td>\n",
       "      <td>https://www.dhl.de/int-verfolgen/search?langua...</td>\n",
       "      <td>2019-10-08T14:51:00+02:00</td>\n",
       "      <td>Die Sendung wurde von DHL bearbeitet und wird ...</td>\n",
       "      <td>Hamburg</td>\n",
       "    </tr>\n",
       "    <tr>\n",
       "      <td>2</td>\n",
       "      <td>340434188193324544</td>\n",
       "      <td>2019-11-11 14:22:03</td>\n",
       "      <td>https://www.dhl.de/int-verfolgen/search?langua...</td>\n",
       "      <td>2019-10-09T04:46:00+02:00</td>\n",
       "      <td>Die Sendung ist in der Region des Empfu00E4nge...</td>\n",
       "      <td>Bruchsal</td>\n",
       "    </tr>\n",
       "    <tr>\n",
       "      <td>3</td>\n",
       "      <td>340434188193324544</td>\n",
       "      <td>2019-11-11 14:22:03</td>\n",
       "      <td>https://www.dhl.de/int-verfolgen/search?langua...</td>\n",
       "      <td>2019-10-09T08:59:00+02:00</td>\n",
       "      <td>Die Sendung wurde in das Zustellfahrzeug gelad...</td>\n",
       "      <td>NaN</td>\n",
       "    </tr>\n",
       "    <tr>\n",
       "      <td>4</td>\n",
       "      <td>340434188193324544</td>\n",
       "      <td>2019-11-11 14:22:03</td>\n",
       "      <td>https://www.dhl.de/int-verfolgen/search?langua...</td>\n",
       "      <td>2019-10-09T12:14:00+02:00</td>\n",
       "      <td>Die Sendung wurde erfolgreich zugestellt.</td>\n",
       "      <td>NaN</td>\n",
       "    </tr>\n",
       "  </tbody>\n",
       "</table>\n",
       "</div>"
      ],
      "text/plain": [
       "      shipment_number            crawltime  \\\n",
       "0  340434188193324544  2019-11-11 14:22:03   \n",
       "1  340434188193324544  2019-11-11 14:22:03   \n",
       "2  340434188193324544  2019-11-11 14:22:03   \n",
       "3  340434188193324544  2019-11-11 14:22:03   \n",
       "4  340434188193324544  2019-11-11 14:22:03   \n",
       "\n",
       "                                                 url  \\\n",
       "0  https://www.dhl.de/int-verfolgen/search?langua...   \n",
       "1  https://www.dhl.de/int-verfolgen/search?langua...   \n",
       "2  https://www.dhl.de/int-verfolgen/search?langua...   \n",
       "3  https://www.dhl.de/int-verfolgen/search?langua...   \n",
       "4  https://www.dhl.de/int-verfolgen/search?langua...   \n",
       "\n",
       "                       datum  \\\n",
       "0  2019-10-07T16:27:00+02:00   \n",
       "1  2019-10-08T14:51:00+02:00   \n",
       "2  2019-10-09T04:46:00+02:00   \n",
       "3  2019-10-09T08:59:00+02:00   \n",
       "4  2019-10-09T12:14:00+02:00   \n",
       "\n",
       "                                              status       ort  \n",
       "0  Die Sendung wurde elektronisch angeku00FCndigt...       NaN  \n",
       "1  Die Sendung wurde von DHL bearbeitet und wird ...   Hamburg  \n",
       "2  Die Sendung ist in der Region des Empfu00E4nge...  Bruchsal  \n",
       "3  Die Sendung wurde in das Zustellfahrzeug gelad...       NaN  \n",
       "4          Die Sendung wurde erfolgreich zugestellt.       NaN  "
      ]
     },
     "execution_count": 2,
     "metadata": {},
     "output_type": "execute_result"
    }
   ],
   "source": [
    "json_to_df('../data/00340434188193324544.json')"
   ]
  },
  {
   "cell_type": "code",
   "execution_count": 7,
   "metadata": {},
   "outputs": [],
   "source": [
    "def files_to_df(path='../data'):\n",
    "    import os\n",
    "    import pandas as pd\n",
    "    files = []\n",
    "    for r, d, f in os.walk(path):\n",
    "        for file in f:\n",
    "            if '.json' in file:\n",
    "                files.append(os.path.join(r, file))\n",
    "    dfs = [json_to_df(json_file=file) for file in files]\n",
    "    df = pd.concat(dfs)\n",
    "    return df"
   ]
  },
  {
   "cell_type": "code",
   "execution_count": 8,
   "metadata": {},
   "outputs": [],
   "source": [
    "df = files_to_df(path='../data')"
   ]
  },
  {
   "cell_type": "code",
   "execution_count": 9,
   "metadata": {},
   "outputs": [
    {
     "name": "stdout",
     "output_type": "stream",
     "text": [
      "<class 'pandas.core.frame.DataFrame'>\n",
      "Int64Index: 385 entries, 0 to 4\n",
      "Data columns (total 6 columns):\n",
      "shipment_number    385 non-null int64\n",
      "crawltime          385 non-null object\n",
      "url                385 non-null object\n",
      "datum              385 non-null object\n",
      "status             382 non-null object\n",
      "ort                155 non-null object\n",
      "dtypes: int64(1), object(5)\n",
      "memory usage: 21.1+ KB\n"
     ]
    }
   ],
   "source": [
    "df.info()"
   ]
  },
  {
   "cell_type": "code",
   "execution_count": 48,
   "metadata": {},
   "outputs": [
    {
     "data": {
      "text/html": [
       "<div>\n",
       "<style scoped>\n",
       "    .dataframe tbody tr th:only-of-type {\n",
       "        vertical-align: middle;\n",
       "    }\n",
       "\n",
       "    .dataframe tbody tr th {\n",
       "        vertical-align: top;\n",
       "    }\n",
       "\n",
       "    .dataframe thead th {\n",
       "        text-align: right;\n",
       "    }\n",
       "</style>\n",
       "<table border=\"1\" class=\"dataframe\">\n",
       "  <thead>\n",
       "    <tr style=\"text-align: right;\">\n",
       "      <th></th>\n",
       "      <th>shipment_number</th>\n",
       "      <th>crawltime</th>\n",
       "      <th>url</th>\n",
       "      <th>datum</th>\n",
       "      <th>status</th>\n",
       "      <th>ort</th>\n",
       "    </tr>\n",
       "  </thead>\n",
       "  <tbody>\n",
       "    <tr>\n",
       "      <td>0</td>\n",
       "      <td>340434188193324480</td>\n",
       "      <td>2019-11-18 17:49:55</td>\n",
       "      <td>https://www.dhl.de/int-verfolgen/search?langua...</td>\n",
       "      <td>2019-10-07 16:27:00+02:00</td>\n",
       "      <td>Die Sendung wurde elektronisch angeku00FCndigt...</td>\n",
       "      <td>NaN</td>\n",
       "    </tr>\n",
       "    <tr>\n",
       "      <td>1</td>\n",
       "      <td>340434188193324480</td>\n",
       "      <td>2019-11-18 17:49:55</td>\n",
       "      <td>https://www.dhl.de/int-verfolgen/search?langua...</td>\n",
       "      <td>2019-10-09 20:10:00+02:00</td>\n",
       "      <td>Die Sendung wurde von DHL bearbeitet und wird ...</td>\n",
       "      <td>Hamburg</td>\n",
       "    </tr>\n",
       "    <tr>\n",
       "      <td>2</td>\n",
       "      <td>340434188193324480</td>\n",
       "      <td>2019-11-18 17:49:55</td>\n",
       "      <td>https://www.dhl.de/int-verfolgen/search?langua...</td>\n",
       "      <td>2019-10-11 23:52:00+02:00</td>\n",
       "      <td>Die Sendung ist in der Region des Empfu00E4nge...</td>\n",
       "      <td>Feucht</td>\n",
       "    </tr>\n",
       "    <tr>\n",
       "      <td>3</td>\n",
       "      <td>340434188193324480</td>\n",
       "      <td>2019-11-18 17:49:55</td>\n",
       "      <td>https://www.dhl.de/int-verfolgen/search?langua...</td>\n",
       "      <td>2019-10-12 08:26:00+02:00</td>\n",
       "      <td>Die Sendung wurde in das Zustellfahrzeug gelad...</td>\n",
       "      <td>NaN</td>\n",
       "    </tr>\n",
       "    <tr>\n",
       "      <td>4</td>\n",
       "      <td>340434188193324480</td>\n",
       "      <td>2019-11-18 17:49:55</td>\n",
       "      <td>https://www.dhl.de/int-verfolgen/search?langua...</td>\n",
       "      <td>2019-10-12 08:54:00+02:00</td>\n",
       "      <td>Die Sendung wurde erfolgreich zugestellt.</td>\n",
       "      <td>NaN</td>\n",
       "    </tr>\n",
       "  </tbody>\n",
       "</table>\n",
       "</div>"
      ],
      "text/plain": [
       "      shipment_number           crawltime  \\\n",
       "0  340434188193324480 2019-11-18 17:49:55   \n",
       "1  340434188193324480 2019-11-18 17:49:55   \n",
       "2  340434188193324480 2019-11-18 17:49:55   \n",
       "3  340434188193324480 2019-11-18 17:49:55   \n",
       "4  340434188193324480 2019-11-18 17:49:55   \n",
       "\n",
       "                                                 url  \\\n",
       "0  https://www.dhl.de/int-verfolgen/search?langua...   \n",
       "1  https://www.dhl.de/int-verfolgen/search?langua...   \n",
       "2  https://www.dhl.de/int-verfolgen/search?langua...   \n",
       "3  https://www.dhl.de/int-verfolgen/search?langua...   \n",
       "4  https://www.dhl.de/int-verfolgen/search?langua...   \n",
       "\n",
       "                      datum  \\\n",
       "0 2019-10-07 16:27:00+02:00   \n",
       "1 2019-10-09 20:10:00+02:00   \n",
       "2 2019-10-11 23:52:00+02:00   \n",
       "3 2019-10-12 08:26:00+02:00   \n",
       "4 2019-10-12 08:54:00+02:00   \n",
       "\n",
       "                                              status      ort  \n",
       "0  Die Sendung wurde elektronisch angeku00FCndigt...      NaN  \n",
       "1  Die Sendung wurde von DHL bearbeitet und wird ...  Hamburg  \n",
       "2  Die Sendung ist in der Region des Empfu00E4nge...   Feucht  \n",
       "3  Die Sendung wurde in das Zustellfahrzeug gelad...      NaN  \n",
       "4          Die Sendung wurde erfolgreich zugestellt.      NaN  "
      ]
     },
     "execution_count": 48,
     "metadata": {},
     "output_type": "execute_result"
    }
   ],
   "source": [
    "df.head()"
   ]
  },
  {
   "cell_type": "code",
   "execution_count": 49,
   "metadata": {},
   "outputs": [],
   "source": [
    "def preprocess_df(df):\n",
    "    import pandas as pd\n",
    "    df['crawltime'] = pd.to_datetime(df['crawltime'])\n",
    "    df['datum'] = pd.to_datetime(df['datum'])\n",
    "    return df"
   ]
  },
  {
   "cell_type": "code",
   "execution_count": 50,
   "metadata": {},
   "outputs": [],
   "source": [
    "df = preprocess_df(df)"
   ]
  },
  {
   "cell_type": "code",
   "execution_count": 51,
   "metadata": {},
   "outputs": [
    {
     "name": "stdout",
     "output_type": "stream",
     "text": [
      "<class 'pandas.core.frame.DataFrame'>\n",
      "Int64Index: 385 entries, 0 to 4\n",
      "Data columns (total 6 columns):\n",
      "shipment_number    385 non-null int64\n",
      "crawltime          385 non-null datetime64[ns]\n",
      "url                385 non-null object\n",
      "datum              385 non-null datetime64[ns, pytz.FixedOffset(120)]\n",
      "status             382 non-null object\n",
      "ort                155 non-null object\n",
      "dtypes: datetime64[ns, pytz.FixedOffset(120)](1), datetime64[ns](1), int64(1), object(3)\n",
      "memory usage: 31.1+ KB\n"
     ]
    }
   ],
   "source": [
    "df.info()"
   ]
  },
  {
   "cell_type": "code",
   "execution_count": 54,
   "metadata": {},
   "outputs": [
    {
     "name": "stdout",
     "output_type": "stream",
     "text": [
      "2    Die Sendung ist in der Region des Empfu00E4nge...\n",
      "3    Die Sendung wurde in das Zustellfahrzeug geladen.\n",
      "Name: status, dtype: object\n",
      "2    Die Sendung ist in der Region des Empfu00E4nge...\n",
      "3    Die Sendung wurde in das Zustellfahrzeug geladen.\n",
      "Name: status, dtype: object\n",
      "2    Die Sendung ist in der Region des Empfu00E4nge...\n",
      "3    Die Sendung wurde in das Zustellfahrzeug gelad...\n",
      "Name: status, dtype: object\n",
      "2    Die Sendung ist in der Region des Empfu00E4nge...\n",
      "3    Die Sendung wurde in das Zustellfahrzeug gelad...\n",
      "Name: status, dtype: object\n",
      "2    Die Sendung ist in der Region des Empfu00E4nge...\n",
      "3    Die Sendung wurde in das Zustellfahrzeug gelad...\n",
      "Name: status, dtype: object\n",
      "2    Die Sendung ist in der Region des Empfu00E4nge...\n",
      "3    Die Sendung wurde in das Zustellfahrzeug gelad...\n",
      "Name: status, dtype: object\n",
      "2    Die Sendung ist in der Region des Empfu00E4nge...\n",
      "3    Die Sendung wurde in das Zustellfahrzeug gelad...\n",
      "Name: status, dtype: object\n",
      "2    Die Sendung ist in der Region des Empfu00E4nge...\n",
      "3    Die Sendung wurde in das Zustellfahrzeug gelad...\n",
      "Name: status, dtype: object\n",
      "2    Die Sendung ist in der Region des Empfu00E4nge...\n",
      "3    Die Sendung wird fu00FCr die Verladung ins Zus...\n",
      "Name: status, dtype: object\n",
      "2    Die Sendung ist in der Region des Empfu00E4nge...\n",
      "3    Die Sendung wird fu00FCr die Verladung ins Zus...\n",
      "Name: status, dtype: object\n",
      "2    Die Sendung ist in der Region des Empfu00E4nge...\n",
      "3    Die Sendung wurde in das Zustellfahrzeug gelad...\n",
      "Name: status, dtype: object\n",
      "2    Die Sendung ist in der Region des Empfu00E4nge...\n",
      "3    Die Sendung wird fu00FCr die Verladung ins Zus...\n",
      "Name: status, dtype: object\n"
     ]
    }
   ],
   "source": [
    "for key,group_df in df.groupby('shipment_number'):\n",
    "    print(group_df.head()[\"status\"][2:4])\n"
   ]
  },
  {
   "cell_type": "code",
   "execution_count": null,
   "metadata": {},
   "outputs": [],
   "source": []
  },
  {
   "cell_type": "code",
   "execution_count": null,
   "metadata": {},
   "outputs": [],
   "source": []
  }
 ],
 "metadata": {
  "kernelspec": {
   "display_name": "Python 3",
   "language": "python",
   "name": "python3"
  },
  "language_info": {
   "codemirror_mode": {
    "name": "ipython",
    "version": 3
   },
   "file_extension": ".py",
   "mimetype": "text/x-python",
   "name": "python",
   "nbconvert_exporter": "python",
   "pygments_lexer": "ipython3",
   "version": "3.7.3"
  }
 },
 "nbformat": 4,
 "nbformat_minor": 2
}

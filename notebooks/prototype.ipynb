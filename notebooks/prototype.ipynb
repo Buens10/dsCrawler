{
 "cells": [
  {
   "cell_type": "markdown",
   "metadata": {},
   "source": [
    "# Scrabu Prototype (for a List of Shipment Numbers)"
   ]
  },
  {
   "cell_type": "markdown",
   "metadata": {},
   "source": [
    "This notebook is for creating a prototype of the Scrabu project. The goal is to download DHL pages for a specific shipment number and scrap the shipment information from it."
   ]
  },
  {
   "cell_type": "markdown",
   "metadata": {},
   "source": [
    "#### Generate a list of shipment numbers"
   ]
  },
  {
   "cell_type": "code",
   "execution_count": 25,
   "metadata": {},
   "outputs": [],
   "source": [
    "def generate_shipment_numbers(start_shipment_number=340434188193324407, size=100):\n",
    "    import numpy as np\n",
    "    shipment_numbers_list = []\n",
    "    for i in np.arange(1, size):\n",
    "        shipment_number = start_shipment_number + i\n",
    "        shipment_numbers = list(map(int, str(shipment_number)))\n",
    "        shipment_number = str(shipment_number).rjust(20, '0')\n",
    "        shipment_numbers_list.append(shipment_number)\n",
    "    return shipment_numbers_list"
   ]
  },
  {
   "cell_type": "code",
   "execution_count": 26,
   "metadata": {},
   "outputs": [
    {
     "name": "stdout",
     "output_type": "stream",
     "text": [
      "First elements of the list ['00340434188193324408', '00340434188193324409', '00340434188193324410', '00340434188193324411', '00340434188193324412', '00340434188193324413', '00340434188193324414', '00340434188193324415', '00340434188193324416', '00340434188193324417', '00340434188193324418', '00340434188193324419', '00340434188193324420', '00340434188193324421', '00340434188193324422', '00340434188193324423', '00340434188193324424', '00340434188193324425', '00340434188193324426', '00340434188193324427', '00340434188193324428', '00340434188193324429', '00340434188193324430', '00340434188193324431', '00340434188193324432', '00340434188193324433', '00340434188193324434', '00340434188193324435', '00340434188193324436', '00340434188193324437', '00340434188193324438', '00340434188193324439', '00340434188193324440', '00340434188193324441', '00340434188193324442', '00340434188193324443', '00340434188193324444', '00340434188193324445', '00340434188193324446', '00340434188193324447', '00340434188193324448', '00340434188193324449', '00340434188193324450', '00340434188193324451', '00340434188193324452', '00340434188193324453', '00340434188193324454', '00340434188193324455', '00340434188193324456', '00340434188193324457', '00340434188193324458', '00340434188193324459', '00340434188193324460', '00340434188193324461', '00340434188193324462', '00340434188193324463', '00340434188193324464', '00340434188193324465', '00340434188193324466', '00340434188193324467', '00340434188193324468', '00340434188193324469', '00340434188193324470', '00340434188193324471', '00340434188193324472', '00340434188193324473', '00340434188193324474', '00340434188193324475', '00340434188193324476', '00340434188193324477', '00340434188193324478', '00340434188193324479', '00340434188193324480', '00340434188193324481', '00340434188193324482', '00340434188193324483', '00340434188193324484', '00340434188193324485', '00340434188193324486', '00340434188193324487', '00340434188193324488', '00340434188193324489', '00340434188193324490', '00340434188193324491', '00340434188193324492', '00340434188193324493', '00340434188193324494', '00340434188193324495', '00340434188193324496', '00340434188193324497', '00340434188193324498', '00340434188193324499', '00340434188193324500', '00340434188193324501', '00340434188193324502', '00340434188193324503', '00340434188193324504', '00340434188193324505', '00340434188193324506']\n"
     ]
    }
   ],
   "source": [
    "shipment_numbers = generate_shipment_numbers(start_shipment_number=340434188193324407, size=100)\n",
    "print(\"First elements of the list\", shipment_numbers[0:100])"
   ]
  },
  {
   "cell_type": "markdown",
   "metadata": {},
   "source": [
    "#### Download the HTML content for a list of shipment numbers"
   ]
  },
  {
   "cell_type": "code",
   "execution_count": 27,
   "metadata": {
    "scrolled": true
   },
   "outputs": [],
   "source": [
    "def request(shipment_numbers, start_url=\"https://www.dhl.de/int-verfolgen/search?language=de&lang=de&domain=de&piececode=\"):\n",
    "    import requests\n",
    "    import numpy as np\n",
    "    for shipment_number in shipment_numbers:\n",
    "        request_url = start_url + shipment_number\n",
    "    return requests.get(request_url).content"
   ]
  },
  {
   "cell_type": "code",
   "execution_count": 28,
   "metadata": {},
   "outputs": [
    {
     "name": "stdout",
     "output_type": "stream",
     "text": [
      "Sample of HTML response:\n",
      " b'\\n<div id=\"verfolgen-main-content\">\\n  \\n\\n\\n\\n\\n\\n\\t\\n\\n\\n<script>\\n  \\n    window.__INITIAL_APP_STATE__ = {\\n    '\n",
      "Sample of HTML response:\n",
      " b'\\n<div id=\"verfolgen-main-content\">\\n  \\n\\n\\n\\n\\n\\n\\t\\n\\n\\n<script>\\n  \\n    window.__INITIAL_APP_STATE__ = {\\n    '\n",
      "Sample of HTML response:\n",
      " b'\\n<div id=\"verfolgen-main-content\">\\n  \\n\\n\\n\\n\\n\\n\\t\\n\\n\\n<script>\\n  \\n    window.__INITIAL_APP_STATE__ = {\\n    '\n",
      "Sample of HTML response:\n",
      " b'\\n<div id=\"verfolgen-main-content\">\\n  \\n\\n\\n\\n\\n\\n\\t\\n\\n\\n<script>\\n  \\n    window.__INITIAL_APP_STATE__ = {\\n    '\n",
      "Sample of HTML response:\n",
      " b'\\n<div id=\"verfolgen-main-content\">\\n  \\n\\n\\n\\n\\n\\n\\t\\n\\n\\n<script>\\n  \\n    window.__INITIAL_APP_STATE__ = {\\n    '\n",
      "Sample of HTML response:\n",
      " b'\\n<div id=\"verfolgen-main-content\">\\n  \\n\\n\\n\\n\\n\\n\\t\\n\\n\\n<script>\\n  \\n    window.__INITIAL_APP_STATE__ = {\\n    '\n",
      "Sample of HTML response:\n",
      " b'\\n<div id=\"verfolgen-main-content\">\\n  \\n\\n\\n\\n\\n\\n\\t\\n\\n\\n<script>\\n  \\n    window.__INITIAL_APP_STATE__ = {\\n    '\n",
      "Sample of HTML response:\n",
      " b'\\n<div id=\"verfolgen-main-content\">\\n  \\n\\n\\n\\n\\n\\n\\t\\n\\n\\n<script>\\n  \\n    window.__INITIAL_APP_STATE__ = {\\n    '\n",
      "Sample of HTML response:\n",
      " b'\\n<div id=\"verfolgen-main-content\">\\n  \\n\\n\\n\\n\\n\\n\\t\\n\\n\\n<script>\\n  \\n    window.__INITIAL_APP_STATE__ = {\\n    '\n",
      "Sample of HTML response:\n",
      " b'\\n<div id=\"verfolgen-main-content\">\\n  \\n\\n\\n\\n\\n\\n\\t\\n\\n\\n<script>\\n  \\n    window.__INITIAL_APP_STATE__ = {\\n    '\n",
      "Sample of HTML response:\n",
      " b'\\n<div id=\"verfolgen-main-content\">\\n  \\n\\n\\n\\n\\n\\n\\t\\n\\n\\n<script>\\n  \\n    window.__INITIAL_APP_STATE__ = {\\n    '\n",
      "Sample of HTML response:\n",
      " b'\\n<div id=\"verfolgen-main-content\">\\n  \\n\\n\\n\\n\\n\\n\\t\\n\\n\\n<script>\\n  \\n    window.__INITIAL_APP_STATE__ = {\\n    '\n",
      "Sample of HTML response:\n",
      " b'\\n<div id=\"verfolgen-main-content\">\\n  \\n\\n\\n\\n\\n\\n\\t\\n\\n\\n<script>\\n  \\n    window.__INITIAL_APP_STATE__ = {\\n    '\n",
      "Sample of HTML response:\n",
      " b'\\n<div id=\"verfolgen-main-content\">\\n  \\n\\n\\n\\n\\n\\n\\t\\n\\n\\n<script>\\n  \\n    window.__INITIAL_APP_STATE__ = {\\n    '\n",
      "Sample of HTML response:\n",
      " b'\\n<div id=\"verfolgen-main-content\">\\n  \\n\\n\\n\\n\\n\\n\\t\\n\\n\\n<script>\\n  \\n    window.__INITIAL_APP_STATE__ = {\\n    '\n",
      "Sample of HTML response:\n",
      " b'\\n<div id=\"verfolgen-main-content\">\\n  \\n\\n\\n\\n\\n\\n\\t\\n\\n\\n<script>\\n  \\n    window.__INITIAL_APP_STATE__ = {\\n    '\n",
      "Sample of HTML response:\n",
      " b'\\n<div id=\"verfolgen-main-content\">\\n  \\n\\n\\n\\n\\n\\n\\t\\n\\n\\n<script>\\n  \\n    window.__INITIAL_APP_STATE__ = {\\n    '\n",
      "Sample of HTML response:\n",
      " b'\\n<div id=\"verfolgen-main-content\">\\n  \\n\\n\\n\\n\\n\\n\\t\\n\\n\\n<script>\\n  \\n    window.__INITIAL_APP_STATE__ = {\\n    '\n",
      "Sample of HTML response:\n",
      " b'\\n<div id=\"verfolgen-main-content\">\\n  \\n\\n\\n\\n\\n\\n\\t\\n\\n\\n<script>\\n  \\n    window.__INITIAL_APP_STATE__ = {\\n    '\n",
      "Sample of HTML response:\n",
      " b'\\n<div id=\"verfolgen-main-content\">\\n  \\n\\n\\n\\n\\n\\n\\t\\n\\n\\n<script>\\n  \\n    window.__INITIAL_APP_STATE__ = {\\n    '\n",
      "Sample of HTML response:\n",
      " b'\\n<div id=\"verfolgen-main-content\">\\n  \\n\\n\\n\\n\\n\\n\\t\\n\\n\\n<script>\\n  \\n    window.__INITIAL_APP_STATE__ = {\\n    '\n",
      "Sample of HTML response:\n",
      " b'\\n<div id=\"verfolgen-main-content\">\\n  \\n\\n\\n\\n\\n\\n\\t\\n\\n\\n<script>\\n  \\n    window.__INITIAL_APP_STATE__ = {\\n    '\n",
      "Sample of HTML response:\n",
      " b'\\n<div id=\"verfolgen-main-content\">\\n  \\n\\n\\n\\n\\n\\n\\t\\n\\n\\n<script>\\n  \\n    window.__INITIAL_APP_STATE__ = {\\n    '\n",
      "Sample of HTML response:\n",
      " b'\\n<div id=\"verfolgen-main-content\">\\n  \\n\\n\\n\\n\\n\\n\\t\\n\\n\\n<script>\\n  \\n    window.__INITIAL_APP_STATE__ = {\\n    '\n",
      "Sample of HTML response:\n",
      " b'\\n<div id=\"verfolgen-main-content\">\\n  \\n\\n\\n\\n\\n\\n\\t\\n\\n\\n<script>\\n  \\n    window.__INITIAL_APP_STATE__ = {\\n    '\n",
      "Sample of HTML response:\n",
      " b'\\n<div id=\"verfolgen-main-content\">\\n  \\n\\n\\n\\n\\n\\n\\t\\n\\n\\n<script>\\n  \\n    window.__INITIAL_APP_STATE__ = {\\n    '\n",
      "Sample of HTML response:\n",
      " b'\\n<div id=\"verfolgen-main-content\">\\n  \\n\\n\\n\\n\\n\\n\\t\\n\\n\\n<script>\\n  \\n    window.__INITIAL_APP_STATE__ = {\\n    '\n",
      "Sample of HTML response:\n",
      " b'\\n<div id=\"verfolgen-main-content\">\\n  \\n\\n\\n\\n\\n\\n\\t\\n\\n\\n<script>\\n  \\n    window.__INITIAL_APP_STATE__ = {\\n    '\n",
      "Sample of HTML response:\n",
      " b'\\n<div id=\"verfolgen-main-content\">\\n  \\n\\n\\n\\n\\n\\n\\t\\n\\n\\n<script>\\n  \\n    window.__INITIAL_APP_STATE__ = {\\n    '\n",
      "Sample of HTML response:\n",
      " b'\\n<div id=\"verfolgen-main-content\">\\n  \\n\\n\\n\\n\\n\\n\\t\\n\\n\\n<script>\\n  \\n    window.__INITIAL_APP_STATE__ = {\\n    '\n",
      "Sample of HTML response:\n",
      " b'\\n<div id=\"verfolgen-main-content\">\\n  \\n\\n\\n\\n\\n\\n\\t\\n\\n\\n<script>\\n  \\n    window.__INITIAL_APP_STATE__ = {\\n    '\n",
      "Sample of HTML response:\n",
      " b'\\n<div id=\"verfolgen-main-content\">\\n  \\n\\n\\n\\n\\n\\n\\t\\n\\n\\n<script>\\n  \\n    window.__INITIAL_APP_STATE__ = {\\n    '\n",
      "Sample of HTML response:\n",
      " b'\\n<div id=\"verfolgen-main-content\">\\n  \\n\\n\\n\\n\\n\\n\\t\\n\\n\\n<script>\\n  \\n    window.__INITIAL_APP_STATE__ = {\\n    '\n",
      "Sample of HTML response:\n",
      " b'\\n<div id=\"verfolgen-main-content\">\\n  \\n\\n\\n\\n\\n\\n\\t\\n\\n\\n<script>\\n  \\n    window.__INITIAL_APP_STATE__ = {\\n    '\n",
      "Sample of HTML response:\n",
      " b'\\n<div id=\"verfolgen-main-content\">\\n  \\n\\n\\n\\n\\n\\n\\t\\n\\n\\n<script>\\n  \\n    window.__INITIAL_APP_STATE__ = {\\n    '\n",
      "Sample of HTML response:\n",
      " b'\\n<div id=\"verfolgen-main-content\">\\n  \\n\\n\\n\\n\\n\\n\\t\\n\\n\\n<script>\\n  \\n    window.__INITIAL_APP_STATE__ = {\\n    '\n",
      "Sample of HTML response:\n",
      " b'\\n<div id=\"verfolgen-main-content\">\\n  \\n\\n\\n\\n\\n\\n\\t\\n\\n\\n<script>\\n  \\n    window.__INITIAL_APP_STATE__ = {\\n    '\n",
      "Sample of HTML response:\n",
      " b'\\n<div id=\"verfolgen-main-content\">\\n  \\n\\n\\n\\n\\n\\n\\t\\n\\n\\n<script>\\n  \\n    window.__INITIAL_APP_STATE__ = {\\n    '\n",
      "Sample of HTML response:\n",
      " b'\\n<div id=\"verfolgen-main-content\">\\n  \\n\\n\\n\\n\\n\\n\\t\\n\\n\\n<script>\\n  \\n    window.__INITIAL_APP_STATE__ = {\\n    '\n",
      "Sample of HTML response:\n",
      " b'\\n<div id=\"verfolgen-main-content\">\\n  \\n\\n\\n\\n\\n\\n\\t\\n\\n\\n<script>\\n  \\n    window.__INITIAL_APP_STATE__ = {\\n    '\n",
      "Sample of HTML response:\n",
      " b'\\n<div id=\"verfolgen-main-content\">\\n  \\n\\n\\n\\n\\n\\n\\t\\n\\n\\n<script>\\n  \\n    window.__INITIAL_APP_STATE__ = {\\n    '\n",
      "Sample of HTML response:\n",
      " b'\\n<div id=\"verfolgen-main-content\">\\n  \\n\\n\\n\\n\\n\\n\\t\\n\\n\\n<script>\\n  \\n    window.__INITIAL_APP_STATE__ = {\\n    '\n",
      "Sample of HTML response:\n",
      " b'\\n<div id=\"verfolgen-main-content\">\\n  \\n\\n\\n\\n\\n\\n\\t\\n\\n\\n<script>\\n  \\n    window.__INITIAL_APP_STATE__ = {\\n    '\n",
      "Sample of HTML response:\n",
      " b'\\n<div id=\"verfolgen-main-content\">\\n  \\n\\n\\n\\n\\n\\n\\t\\n\\n\\n<script>\\n  \\n    window.__INITIAL_APP_STATE__ = {\\n    '\n",
      "Sample of HTML response:\n",
      " b'\\n<div id=\"verfolgen-main-content\">\\n  \\n\\n\\n\\n\\n\\n\\t\\n\\n\\n<script>\\n  \\n    window.__INITIAL_APP_STATE__ = {\\n    '\n",
      "Sample of HTML response:\n",
      " b'\\n<div id=\"verfolgen-main-content\">\\n  \\n\\n\\n\\n\\n\\n\\t\\n\\n\\n<script>\\n  \\n    window.__INITIAL_APP_STATE__ = {\\n    '\n",
      "Sample of HTML response:\n",
      " b'\\n<div id=\"verfolgen-main-content\">\\n  \\n\\n\\n\\n\\n\\n\\t\\n\\n\\n<script>\\n  \\n    window.__INITIAL_APP_STATE__ = {\\n    '\n",
      "Sample of HTML response:\n",
      " b'\\n<div id=\"verfolgen-main-content\">\\n  \\n\\n\\n\\n\\n\\n\\t\\n\\n\\n<script>\\n  \\n    window.__INITIAL_APP_STATE__ = {\\n    '\n",
      "Sample of HTML response:\n",
      " b'\\n<div id=\"verfolgen-main-content\">\\n  \\n\\n\\n\\n\\n\\n\\t\\n\\n\\n<script>\\n  \\n    window.__INITIAL_APP_STATE__ = {\\n    '\n",
      "Sample of HTML response:\n",
      " b'\\n<div id=\"verfolgen-main-content\">\\n  \\n\\n\\n\\n\\n\\n\\t\\n\\n\\n<script>\\n  \\n    window.__INITIAL_APP_STATE__ = {\\n    '\n",
      "Sample of HTML response:\n",
      " b'\\n<div id=\"verfolgen-main-content\">\\n  \\n\\n\\n\\n\\n\\n\\t\\n\\n\\n<script>\\n  \\n    window.__INITIAL_APP_STATE__ = {\\n    '\n",
      "Sample of HTML response:\n",
      " b'\\n<div id=\"verfolgen-main-content\">\\n  \\n\\n\\n\\n\\n\\n\\t\\n\\n\\n<script>\\n  \\n    window.__INITIAL_APP_STATE__ = {\\n    '\n",
      "Sample of HTML response:\n",
      " b'\\n<div id=\"verfolgen-main-content\">\\n  \\n\\n\\n\\n\\n\\n\\t\\n\\n\\n<script>\\n  \\n    window.__INITIAL_APP_STATE__ = {\\n    '\n",
      "Sample of HTML response:\n",
      " b'\\n<div id=\"verfolgen-main-content\">\\n  \\n\\n\\n\\n\\n\\n\\t\\n\\n\\n<script>\\n  \\n    window.__INITIAL_APP_STATE__ = {\\n    '\n",
      "Sample of HTML response:\n",
      " b'\\n<div id=\"verfolgen-main-content\">\\n  \\n\\n\\n\\n\\n\\n\\t\\n\\n\\n<script>\\n  \\n    window.__INITIAL_APP_STATE__ = {\\n    '\n",
      "Sample of HTML response:\n",
      " b'\\n<div id=\"verfolgen-main-content\">\\n  \\n\\n\\n\\n\\n\\n\\t\\n\\n\\n<script>\\n  \\n    window.__INITIAL_APP_STATE__ = {\\n    '\n",
      "Sample of HTML response:\n",
      " b'\\n<div id=\"verfolgen-main-content\">\\n  \\n\\n\\n\\n\\n\\n\\t\\n\\n\\n<script>\\n  \\n    window.__INITIAL_APP_STATE__ = {\\n    '\n",
      "Sample of HTML response:\n",
      " b'\\n<div id=\"verfolgen-main-content\">\\n  \\n\\n\\n\\n\\n\\n\\t\\n\\n\\n<script>\\n  \\n    window.__INITIAL_APP_STATE__ = {\\n    '\n"
     ]
    },
    {
     "name": "stdout",
     "output_type": "stream",
     "text": [
      "Sample of HTML response:\n",
      " b'\\n<div id=\"verfolgen-main-content\">\\n  \\n\\n\\n\\n\\n\\n\\t\\n\\n\\n<script>\\n  \\n    window.__INITIAL_APP_STATE__ = {\\n    '\n",
      "Sample of HTML response:\n",
      " b'\\n<div id=\"verfolgen-main-content\">\\n  \\n\\n\\n\\n\\n\\n\\t\\n\\n\\n<script>\\n  \\n    window.__INITIAL_APP_STATE__ = {\\n    '\n",
      "Sample of HTML response:\n",
      " b'\\n<div id=\"verfolgen-main-content\">\\n  \\n\\n\\n\\n\\n\\n\\t\\n\\n\\n<script>\\n  \\n    window.__INITIAL_APP_STATE__ = {\\n    '\n",
      "Sample of HTML response:\n",
      " b'\\n<div id=\"verfolgen-main-content\">\\n  \\n\\n\\n\\n\\n\\n\\t\\n\\n\\n<script>\\n  \\n    window.__INITIAL_APP_STATE__ = {\\n    '\n",
      "Sample of HTML response:\n",
      " b'\\n<div id=\"verfolgen-main-content\">\\n  \\n\\n\\n\\n\\n\\n\\t\\n\\n\\n<script>\\n  \\n    window.__INITIAL_APP_STATE__ = {\\n    '\n",
      "Sample of HTML response:\n",
      " b'\\n<div id=\"verfolgen-main-content\">\\n  \\n\\n\\n\\n\\n\\n\\t\\n\\n\\n<script>\\n  \\n    window.__INITIAL_APP_STATE__ = {\\n    '\n",
      "Sample of HTML response:\n",
      " b'\\n<div id=\"verfolgen-main-content\">\\n  \\n\\n\\n\\n\\n\\n\\t\\n\\n\\n<script>\\n  \\n    window.__INITIAL_APP_STATE__ = {\\n    '\n",
      "Sample of HTML response:\n",
      " b'\\n<div id=\"verfolgen-main-content\">\\n  \\n\\n\\n\\n\\n\\n\\t\\n\\n\\n<script>\\n  \\n    window.__INITIAL_APP_STATE__ = {\\n    '\n",
      "Sample of HTML response:\n",
      " b'\\n<div id=\"verfolgen-main-content\">\\n  \\n\\n\\n\\n\\n\\n\\t\\n\\n\\n<script>\\n  \\n    window.__INITIAL_APP_STATE__ = {\\n    '\n",
      "Sample of HTML response:\n",
      " b'\\n<div id=\"verfolgen-main-content\">\\n  \\n\\n\\n\\n\\n\\n\\t\\n\\n\\n<script>\\n  \\n    window.__INITIAL_APP_STATE__ = {\\n    '\n",
      "Sample of HTML response:\n",
      " b'\\n<div id=\"verfolgen-main-content\">\\n  \\n\\n\\n\\n\\n\\n\\t\\n\\n\\n<script>\\n  \\n    window.__INITIAL_APP_STATE__ = {\\n    '\n",
      "Sample of HTML response:\n",
      " b'\\n<div id=\"verfolgen-main-content\">\\n  \\n\\n\\n\\n\\n\\n\\t\\n\\n\\n<script>\\n  \\n    window.__INITIAL_APP_STATE__ = {\\n    '\n",
      "Sample of HTML response:\n",
      " b'\\n<div id=\"verfolgen-main-content\">\\n  \\n\\n\\n\\n\\n\\n\\t\\n\\n\\n<script>\\n  \\n    window.__INITIAL_APP_STATE__ = {\\n    '\n",
      "Sample of HTML response:\n",
      " b'\\n<div id=\"verfolgen-main-content\">\\n  \\n\\n\\n\\n\\n\\n\\t\\n\\n\\n<script>\\n  \\n    window.__INITIAL_APP_STATE__ = {\\n    '\n",
      "Sample of HTML response:\n",
      " b'\\n<div id=\"verfolgen-main-content\">\\n  \\n\\n\\n\\n\\n\\n\\t\\n\\n\\n<script>\\n  \\n    window.__INITIAL_APP_STATE__ = {\\n    '\n",
      "Sample of HTML response:\n",
      " b'\\n<div id=\"verfolgen-main-content\">\\n  \\n\\n\\n\\n\\n\\n\\t\\n\\n\\n<script>\\n  \\n    window.__INITIAL_APP_STATE__ = {\\n    '\n",
      "Sample of HTML response:\n",
      " b'\\n<div id=\"verfolgen-main-content\">\\n  \\n\\n\\n\\n\\n\\n\\t\\n\\n\\n<script>\\n  \\n    window.__INITIAL_APP_STATE__ = {\\n    '\n",
      "Sample of HTML response:\n",
      " b'\\n<div id=\"verfolgen-main-content\">\\n  \\n\\n\\n\\n\\n\\n\\t\\n\\n\\n<script>\\n  \\n    window.__INITIAL_APP_STATE__ = {\\n    '\n",
      "Sample of HTML response:\n",
      " b'\\n<div id=\"verfolgen-main-content\">\\n  \\n\\n\\n\\n\\n\\n\\t\\n\\n\\n<script>\\n  \\n    window.__INITIAL_APP_STATE__ = {\\n    '\n",
      "Sample of HTML response:\n",
      " b'\\n<div id=\"verfolgen-main-content\">\\n  \\n\\n\\n\\n\\n\\n\\t\\n\\n\\n<script>\\n  \\n    window.__INITIAL_APP_STATE__ = {\\n    '\n",
      "Sample of HTML response:\n",
      " b'\\n<div id=\"verfolgen-main-content\">\\n  \\n\\n\\n\\n\\n\\n\\t\\n\\n\\n<script>\\n  \\n    window.__INITIAL_APP_STATE__ = {\\n    '\n",
      "Sample of HTML response:\n",
      " b'\\n<div id=\"verfolgen-main-content\">\\n  \\n\\n\\n\\n\\n\\n\\t\\n\\n\\n<script>\\n  \\n    window.__INITIAL_APP_STATE__ = {\\n    '\n",
      "Sample of HTML response:\n",
      " b'\\n<div id=\"verfolgen-main-content\">\\n  \\n\\n\\n\\n\\n\\n\\t\\n\\n\\n<script>\\n  \\n    window.__INITIAL_APP_STATE__ = {\\n    '\n",
      "Sample of HTML response:\n",
      " b'\\n<div id=\"verfolgen-main-content\">\\n  \\n\\n\\n\\n\\n\\n\\t\\n\\n\\n<script>\\n  \\n    window.__INITIAL_APP_STATE__ = {\\n    '\n",
      "Sample of HTML response:\n",
      " b'\\n<div id=\"verfolgen-main-content\">\\n  \\n\\n\\n\\n\\n\\n\\t\\n\\n\\n<script>\\n  \\n    window.__INITIAL_APP_STATE__ = {\\n    '\n",
      "Sample of HTML response:\n",
      " b'\\n<div id=\"verfolgen-main-content\">\\n  \\n\\n\\n\\n\\n\\n\\t\\n\\n\\n<script>\\n  \\n    window.__INITIAL_APP_STATE__ = {\\n    '\n",
      "Sample of HTML response:\n",
      " b'\\n<div id=\"verfolgen-main-content\">\\n  \\n\\n\\n\\n\\n\\n\\t\\n\\n\\n<script>\\n  \\n    window.__INITIAL_APP_STATE__ = {\\n    '\n",
      "Sample of HTML response:\n",
      " b'\\n<div id=\"verfolgen-main-content\">\\n  \\n\\n\\n\\n\\n\\n\\t\\n\\n\\n<script>\\n  \\n    window.__INITIAL_APP_STATE__ = {\\n    '\n",
      "Sample of HTML response:\n",
      " b'\\n<div id=\"verfolgen-main-content\">\\n  \\n\\n\\n\\n\\n\\n\\t\\n\\n\\n<script>\\n  \\n    window.__INITIAL_APP_STATE__ = {\\n    '\n",
      "Sample of HTML response:\n",
      " b'\\n<div id=\"verfolgen-main-content\">\\n  \\n\\n\\n\\n\\n\\n\\t\\n\\n\\n<script>\\n  \\n    window.__INITIAL_APP_STATE__ = {\\n    '\n",
      "Sample of HTML response:\n",
      " b'\\n<div id=\"verfolgen-main-content\">\\n  \\n\\n\\n\\n\\n\\n\\t\\n\\n\\n<script>\\n  \\n    window.__INITIAL_APP_STATE__ = {\\n    '\n",
      "Sample of HTML response:\n",
      " b'\\n<div id=\"verfolgen-main-content\">\\n  \\n\\n\\n\\n\\n\\n\\t\\n\\n\\n<script>\\n  \\n    window.__INITIAL_APP_STATE__ = {\\n    '\n",
      "Sample of HTML response:\n",
      " b'\\n<div id=\"verfolgen-main-content\">\\n  \\n\\n\\n\\n\\n\\n\\t\\n\\n\\n<script>\\n  \\n    window.__INITIAL_APP_STATE__ = {\\n    '\n",
      "Sample of HTML response:\n",
      " b'\\n<div id=\"verfolgen-main-content\">\\n  \\n\\n\\n\\n\\n\\n\\t\\n\\n\\n<script>\\n  \\n    window.__INITIAL_APP_STATE__ = {\\n    '\n",
      "Sample of HTML response:\n",
      " b'\\n<div id=\"verfolgen-main-content\">\\n  \\n\\n\\n\\n\\n\\n\\t\\n\\n\\n<script>\\n  \\n    window.__INITIAL_APP_STATE__ = {\\n    '\n",
      "Sample of HTML response:\n",
      " b'\\n<div id=\"verfolgen-main-content\">\\n  \\n\\n\\n\\n\\n\\n\\t\\n\\n\\n<script>\\n  \\n    window.__INITIAL_APP_STATE__ = {\\n    '\n",
      "Sample of HTML response:\n",
      " b'\\n<div id=\"verfolgen-main-content\">\\n  \\n\\n\\n\\n\\n\\n\\t\\n\\n\\n<script>\\n  \\n    window.__INITIAL_APP_STATE__ = {\\n    '\n",
      "Sample of HTML response:\n",
      " b'\\n<div id=\"verfolgen-main-content\">\\n  \\n\\n\\n\\n\\n\\n\\t\\n\\n\\n<script>\\n  \\n    window.__INITIAL_APP_STATE__ = {\\n    '\n",
      "Sample of HTML response:\n",
      " b'\\n<div id=\"verfolgen-main-content\">\\n  \\n\\n\\n\\n\\n\\n\\t\\n\\n\\n<script>\\n  \\n    window.__INITIAL_APP_STATE__ = {\\n    '\n",
      "Sample of HTML response:\n",
      " b'\\n<div id=\"verfolgen-main-content\">\\n  \\n\\n\\n\\n\\n\\n\\t\\n\\n\\n<script>\\n  \\n    window.__INITIAL_APP_STATE__ = {\\n    '\n",
      "Sample of HTML response:\n",
      " b'\\n<div id=\"verfolgen-main-content\">\\n  \\n\\n\\n\\n\\n\\n\\t\\n\\n\\n<script>\\n  \\n    window.__INITIAL_APP_STATE__ = {\\n    '\n"
     ]
    }
   ],
   "source": [
    "for shipment_number in shipment_numbers:\n",
    "    html_response = request(shipment_number)\n",
    "    print(\"Sample of HTML response:\\n\", html_response[0:100])"
   ]
  },
  {
   "cell_type": "markdown",
   "metadata": {},
   "source": [
    "#### Parsing HTML and converting it into JSON"
   ]
  },
  {
   "cell_type": "code",
   "execution_count": 44,
   "metadata": {},
   "outputs": [],
   "source": [
    "def html_to_json(html, start_url=\"https://www.dhl.de/int-verfolgen/search?language=de&lang=de&domain=de&piececode=\", shipment_numbers=None):\n",
    "    from lxml import etree\n",
    "    import json\n",
    "    \n",
    "    html_tree = etree.HTML(html)\n",
    "    \n",
    "    def clean_json(json):\n",
    "        for i in html_response:\n",
    "            start = json.find('JSON.parse(')\n",
    "            end = json.find('\"),', start)\n",
    "            json = json[start:end]\n",
    "            json = json.replace('JSON.parse(\"', '')\n",
    "            json = json.replace('\\\\', '')\n",
    "    return json\n",
    "    \n",
    "    def find_json_element(html_tree):\n",
    "        json_element = html_tree.xpath('//div')\n",
    "        return str(etree.tostring(json_element[0]))\n",
    "    \n",
    "    dirty_json = find_json_element(html_tree)\n",
    "    json_string = clean_json(dirty_json)\n",
    "    return json.loads(json_string)"
   ]
  },
  {
   "cell_type": "code",
   "execution_count": 45,
   "metadata": {},
   "outputs": [
    {
     "name": "stdout",
     "output_type": "stream",
     "text": [
      "<module 'json' from '/opt/conda/lib/python3.7/json/__init__.py'>\n"
     ]
    }
   ],
   "source": [
    "shipment_details_json = html_to_json(html_response)\n",
    "print(shipment_details_json)"
   ]
  },
  {
   "cell_type": "markdown",
   "metadata": {},
   "source": [
    "#### Structure the shipment details in JSON format"
   ]
  },
  {
   "cell_type": "code",
   "execution_count": 50,
   "metadata": {
    "scrolled": true
   },
   "outputs": [],
   "source": [
    "def shipment_details(shipment_details_json, start_url=\"https://www.dhl.de/int-verfolgen/search?language=de&lang=de&domain=de&piececode=\", shipment_number=\"00340434188193324407\"):\n",
    "    import datetime\n",
    "    for i in shipment_details_json:\n",
    "        delivery_history_dict = {}\n",
    "        delivery_history_dict[\"shipment_number\"] = shipment_details_json[\"sendungen\"][0][\"sendungsdetails\"][\"sendungsnummern\"].get(\"sendungsnummer\")\n",
    "        delivery_history_dict[\"crawltime\"] = datetime.datetime.now().strftime('%Y-%m-%d %H:%M:%S')\n",
    "        delivery_history_dict[\"url\"] = start_url + shipment_number \n",
    "        delivery_history_dict[\"events\"] = shipment_details_json[\"sendungen\"][0][\"sendungsdetails\"][\"sendungsverlauf\"].get(\"events\", [])\n",
    "        return delivery_history_dict"
   ]
  },
  {
   "cell_type": "code",
   "execution_count": 51,
   "metadata": {},
   "outputs": [
    {
     "ename": "TypeError",
     "evalue": "'module' object is not iterable",
     "output_type": "error",
     "traceback": [
      "\u001b[0;31m---------------------------------------------------------------------------\u001b[0m",
      "\u001b[0;31mTypeError\u001b[0m                                 Traceback (most recent call last)",
      "\u001b[0;32m<ipython-input-51-ae02defd70ad>\u001b[0m in \u001b[0;36m<module>\u001b[0;34m\u001b[0m\n\u001b[0;32m----> 1\u001b[0;31m \u001b[0mshipment_history\u001b[0m \u001b[0;34m=\u001b[0m \u001b[0mshipment_details\u001b[0m\u001b[0;34m(\u001b[0m\u001b[0mshipment_details_json\u001b[0m\u001b[0;34m)\u001b[0m\u001b[0;34m\u001b[0m\u001b[0;34m\u001b[0m\u001b[0m\n\u001b[0m\u001b[1;32m      2\u001b[0m \u001b[0mprint\u001b[0m\u001b[0;34m(\u001b[0m\u001b[0mshipment_history\u001b[0m\u001b[0;34m)\u001b[0m\u001b[0;34m\u001b[0m\u001b[0;34m\u001b[0m\u001b[0m\n",
      "\u001b[0;32m<ipython-input-50-d4f76df12ec9>\u001b[0m in \u001b[0;36mshipment_details\u001b[0;34m(shipment_details_json, start_url, shipment_number)\u001b[0m\n\u001b[1;32m      1\u001b[0m \u001b[0;32mdef\u001b[0m \u001b[0mshipment_details\u001b[0m\u001b[0;34m(\u001b[0m\u001b[0mshipment_details_json\u001b[0m\u001b[0;34m,\u001b[0m \u001b[0mstart_url\u001b[0m\u001b[0;34m=\u001b[0m\u001b[0;34m\"https://www.dhl.de/int-verfolgen/search?language=de&lang=de&domain=de&piececode=\"\u001b[0m\u001b[0;34m,\u001b[0m \u001b[0mshipment_number\u001b[0m\u001b[0;34m=\u001b[0m\u001b[0;34m\"00340434188193324407\"\u001b[0m\u001b[0;34m)\u001b[0m\u001b[0;34m:\u001b[0m\u001b[0;34m\u001b[0m\u001b[0;34m\u001b[0m\u001b[0m\n\u001b[1;32m      2\u001b[0m     \u001b[0;32mimport\u001b[0m \u001b[0mdatetime\u001b[0m\u001b[0;34m\u001b[0m\u001b[0;34m\u001b[0m\u001b[0m\n\u001b[0;32m----> 3\u001b[0;31m     \u001b[0;32mfor\u001b[0m \u001b[0mi\u001b[0m \u001b[0;32min\u001b[0m \u001b[0mshipment_details_json\u001b[0m\u001b[0;34m:\u001b[0m\u001b[0;34m\u001b[0m\u001b[0;34m\u001b[0m\u001b[0m\n\u001b[0m\u001b[1;32m      4\u001b[0m         \u001b[0mdelivery_history_dict\u001b[0m \u001b[0;34m=\u001b[0m \u001b[0;34m{\u001b[0m\u001b[0;34m}\u001b[0m\u001b[0;34m\u001b[0m\u001b[0;34m\u001b[0m\u001b[0m\n\u001b[1;32m      5\u001b[0m         \u001b[0mdelivery_history_dict\u001b[0m\u001b[0;34m[\u001b[0m\u001b[0;34m\"shipment_number\"\u001b[0m\u001b[0;34m]\u001b[0m \u001b[0;34m=\u001b[0m \u001b[0mshipment_details_json\u001b[0m\u001b[0;34m[\u001b[0m\u001b[0;34m\"sendungen\"\u001b[0m\u001b[0;34m]\u001b[0m\u001b[0;34m[\u001b[0m\u001b[0;36m0\u001b[0m\u001b[0;34m]\u001b[0m\u001b[0;34m[\u001b[0m\u001b[0;34m\"sendungsdetails\"\u001b[0m\u001b[0;34m]\u001b[0m\u001b[0;34m[\u001b[0m\u001b[0;34m\"sendungsnummern\"\u001b[0m\u001b[0;34m]\u001b[0m\u001b[0;34m.\u001b[0m\u001b[0mget\u001b[0m\u001b[0;34m(\u001b[0m\u001b[0;34m\"sendungsnummer\"\u001b[0m\u001b[0;34m)\u001b[0m\u001b[0;34m\u001b[0m\u001b[0;34m\u001b[0m\u001b[0m\n",
      "\u001b[0;31mTypeError\u001b[0m: 'module' object is not iterable"
     ]
    }
   ],
   "source": [
    "shipment_history = shipment_details(shipment_details_json)\n",
    "print(shipment_history)"
   ]
  },
  {
   "cell_type": "code",
   "execution_count": 12,
   "metadata": {},
   "outputs": [],
   "source": [
    "import json\n",
    "def save_dictionary(shipment_history=None, filename=None):\n",
    "    print(\"Writing file {}\".format(filename))\n",
    "    with open(filename, 'w') as f:\n",
    "        json.dump(shipment_history, f)"
   ]
  },
  {
   "cell_type": "code",
   "execution_count": 13,
   "metadata": {},
   "outputs": [
    {
     "name": "stdout",
     "output_type": "stream",
     "text": [
      "Writing file ../data/00340434188193324407.json\n"
     ]
    }
   ],
   "source": [
    "save_dictionary(shipment_history, filename=\"../data/00340434188193324407.json\")"
   ]
  },
  {
   "cell_type": "markdown",
   "metadata": {},
   "source": [
    "#### Main function, which goes through all shipment numbers and uses the previous methods"
   ]
  },
  {
   "cell_type": "code",
   "execution_count": 14,
   "metadata": {},
   "outputs": [],
   "source": [
    "import time\n",
    "def main():\n",
    "    shipment_numbers = generate_shipment_numbers(shipment_number=340434188193324407, size=100)\n",
    "    for shipment_number in shipment_numbers:\n",
    "        time.sleep(0.5)\n",
    "        print(\"Processing shipment number {}\".format(shipment_number))\n",
    "        html_response = request(shipment_number=shipment_number)\n",
    "        shipment_details_json = html_to_json(html_response)\n",
    "        shipment_history = shipment_details(shipment_details_json)\n",
    "        save_dictionary(shipment_history, filename=\"../data/{}.json\".format(shipment_number))"
   ]
  },
  {
   "cell_type": "code",
   "execution_count": 15,
   "metadata": {},
   "outputs": [
    {
     "ename": "TypeError",
     "evalue": "generate_shipment_numbers() got an unexpected keyword argument 'shipment_number'",
     "output_type": "error",
     "traceback": [
      "\u001b[0;31m---------------------------------------------------------------------------\u001b[0m",
      "\u001b[0;31mTypeError\u001b[0m                                 Traceback (most recent call last)",
      "\u001b[0;32m<ipython-input-15-263240bbee7e>\u001b[0m in \u001b[0;36m<module>\u001b[0;34m\u001b[0m\n\u001b[0;32m----> 1\u001b[0;31m \u001b[0mmain\u001b[0m\u001b[0;34m(\u001b[0m\u001b[0;34m)\u001b[0m\u001b[0;34m\u001b[0m\u001b[0;34m\u001b[0m\u001b[0m\n\u001b[0m",
      "\u001b[0;32m<ipython-input-14-8092cd9f6b82>\u001b[0m in \u001b[0;36mmain\u001b[0;34m()\u001b[0m\n\u001b[1;32m      1\u001b[0m \u001b[0;32mimport\u001b[0m \u001b[0mtime\u001b[0m\u001b[0;34m\u001b[0m\u001b[0;34m\u001b[0m\u001b[0m\n\u001b[1;32m      2\u001b[0m \u001b[0;32mdef\u001b[0m \u001b[0mmain\u001b[0m\u001b[0;34m(\u001b[0m\u001b[0;34m)\u001b[0m\u001b[0;34m:\u001b[0m\u001b[0;34m\u001b[0m\u001b[0;34m\u001b[0m\u001b[0m\n\u001b[0;32m----> 3\u001b[0;31m     \u001b[0mshipment_numbers\u001b[0m \u001b[0;34m=\u001b[0m \u001b[0mgenerate_shipment_numbers\u001b[0m\u001b[0;34m(\u001b[0m\u001b[0mshipment_number\u001b[0m\u001b[0;34m=\u001b[0m\u001b[0;36m340434188193324407\u001b[0m\u001b[0;34m,\u001b[0m \u001b[0msize\u001b[0m\u001b[0;34m=\u001b[0m\u001b[0;36m100\u001b[0m\u001b[0;34m)\u001b[0m\u001b[0;34m\u001b[0m\u001b[0;34m\u001b[0m\u001b[0m\n\u001b[0m\u001b[1;32m      4\u001b[0m     \u001b[0;32mfor\u001b[0m \u001b[0mshipment_number\u001b[0m \u001b[0;32min\u001b[0m \u001b[0mshipment_numbers\u001b[0m\u001b[0;34m:\u001b[0m\u001b[0;34m\u001b[0m\u001b[0;34m\u001b[0m\u001b[0m\n\u001b[1;32m      5\u001b[0m         \u001b[0mtime\u001b[0m\u001b[0;34m.\u001b[0m\u001b[0msleep\u001b[0m\u001b[0;34m(\u001b[0m\u001b[0;36m0.5\u001b[0m\u001b[0;34m)\u001b[0m\u001b[0;34m\u001b[0m\u001b[0;34m\u001b[0m\u001b[0m\n",
      "\u001b[0;31mTypeError\u001b[0m: generate_shipment_numbers() got an unexpected keyword argument 'shipment_number'"
     ]
    }
   ],
   "source": [
    "main()"
   ]
  },
  {
   "cell_type": "code",
   "execution_count": null,
   "metadata": {},
   "outputs": [],
   "source": []
  }
 ],
 "metadata": {
  "kernelspec": {
   "display_name": "Python 3",
   "language": "python",
   "name": "python3"
  },
  "language_info": {
   "codemirror_mode": {
    "name": "ipython",
    "version": 3
   },
   "file_extension": ".py",
   "mimetype": "text/x-python",
   "name": "python",
   "nbconvert_exporter": "python",
   "pygments_lexer": "ipython3",
   "version": "3.7.3"
  }
 },
 "nbformat": 4,
 "nbformat_minor": 2
}

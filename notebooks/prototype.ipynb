{
 "cells": [
  {
   "cell_type": "markdown",
   "metadata": {},
   "source": [
    "# Scrabu Prototype (for a List of Shipment Numbers)"
   ]
  },
  {
   "cell_type": "markdown",
   "metadata": {},
   "source": [
    "This notebook is for creating a prototype of the Scrabu project. The goal is to download DHL pages for a specific shipment number and scrap the shipment information from it."
   ]
  },
  {
   "cell_type": "markdown",
   "metadata": {},
   "source": [
    "#### Generate a list of shipment numbers"
   ]
  },
  {
   "cell_type": "code",
   "execution_count": 131,
   "metadata": {},
   "outputs": [],
   "source": [
    "def generate_shipment_numbers(shipment_number=340434188193323500, size=50): #340434188193324407\n",
    "    import numpy as np\n",
    "    shipment_numbers_list = []\n",
    "    for i in np.arange(1, size):\n",
    "        shipment_number = int(shipment_number) + i\n",
    "        shipment_numbers = list(map(int, str(shipment_number)))\n",
    "        shipment_number = str(shipment_number).rjust(20, '0')\n",
    "        shipment_numbers_list.append(shipment_number)\n",
    "    return shipment_numbers_list"
   ]
  },
  {
   "cell_type": "code",
   "execution_count": 132,
   "metadata": {},
   "outputs": [
    {
     "name": "stdout",
     "output_type": "stream",
     "text": [
      "First elements of the list ['00340434188193323501', '00340434188193323503', '00340434188193323506', '00340434188193323510', '00340434188193323515']\n"
     ]
    }
   ],
   "source": [
    "shipment_numbers = generate_shipment_numbers(shipment_number=340434188193323500, size=50)\n",
    "print(\"First elements of the list\", shipment_numbers[0:5])"
   ]
  },
  {
   "cell_type": "markdown",
   "metadata": {},
   "source": [
    "#### Download the HTML content for a list of shipment numbers"
   ]
  },
  {
   "cell_type": "code",
   "execution_count": 133,
   "metadata": {
    "scrolled": true
   },
   "outputs": [],
   "source": [
    "def request(shipment_number=\"00340434188193323500\", start_url=\"https://www.dhl.de/int-verfolgen/search?language=de&lang=de&domain=de&piececode=\"):\n",
    "    import requests\n",
    "    import numpy as np\n",
    "    for shipment_number in shipment_numbers:\n",
    "        request_url = start_url + shipment_number\n",
    "    return requests.get(request_url).content"
   ]
  },
  {
   "cell_type": "code",
   "execution_count": 134,
   "metadata": {},
   "outputs": [
    {
     "name": "stdout",
     "output_type": "stream",
     "text": [
      "b'\\n<div id=\"verfolgen-main-content\">\\n  \\n\\n\\n\\n\\n\\n\\t\\n\\n\\n<sc'\n"
     ]
    }
   ],
   "source": [
    "html_response = request(shipment_number=\"00340434188193323500\")\n",
    "print(html_response[0:50])"
   ]
  },
  {
   "cell_type": "markdown",
   "metadata": {},
   "source": [
    "#### Parsing HTML and converting it into JSON"
   ]
  },
  {
   "cell_type": "code",
   "execution_count": 135,
   "metadata": {},
   "outputs": [],
   "source": [
    "def html_to_json(html, start_url=\"https://www.dhl.de/int-verfolgen/search?language=de&lang=de&domain=de&piececode=\", shipment_numbers=None):\n",
    "    from lxml import etree\n",
    "    import json\n",
    "    \n",
    "    html_tree = etree.HTML(html)\n",
    "    \n",
    "    def clean_json(dirty_json):\n",
    "        start = dirty_json.find('JSON.parse(')\n",
    "        end = dirty_json.find('\"),', start)\n",
    "        cjson = dirty_json[start:end]\n",
    "        cjson = cjson.replace('JSON.parse(\"', '')\n",
    "        cjson = cjson.replace('\\\\', '')\n",
    "        return cjson\n",
    "    \n",
    "    def find_json_element(html_tree):\n",
    "        json_element = html_tree.xpath('//div')\n",
    "        return str(etree.tostring(json_element[0]))\n",
    "    \n",
    "    dirty_json = find_json_element(html_tree)\n",
    "    json_string = clean_json(dirty_json)\n",
    "    return json.loads(json_string)"
   ]
  },
  {
   "cell_type": "code",
   "execution_count": 136,
   "metadata": {},
   "outputs": [
    {
     "name": "stdout",
     "output_type": "stream",
     "text": [
      "{'sendungen': [{'id': '00340434188193324725', 'hasCompleteDetails': True, 'sendungsinfo': {'gesuchteSendungsnummer': '00340434188193324725', 'sendungsrichtung': 'ANKOMMEND'}, 'sendungsdetails': {'sendungsnummern': {'sendungsnummer': '00340434188193324725'}, 'sendungsverlauf': {'fortschritt': 0, 'farbe': 0}}, 'sendungNichtGefunden': {'keineDatenVerfuegbar': True}}]}\n"
     ]
    }
   ],
   "source": [
    "shipment_details_json = html_to_json(html_response)\n",
    "print(shipment_details_json)"
   ]
  },
  {
   "cell_type": "markdown",
   "metadata": {},
   "source": [
    "#### Structure the shipment details in JSON format"
   ]
  },
  {
   "cell_type": "code",
   "execution_count": 137,
   "metadata": {
    "scrolled": true
   },
   "outputs": [],
   "source": [
    "def shipment_details(shipment_details_json, start_url=\"https://www.dhl.de/int-verfolgen/search?language=de&lang=de&domain=de&piececode=\", shipment_number=\"00340434188193323500\"):\n",
    "    import datetime\n",
    "    delivery_history_dict = {}\n",
    "    delivery_history_dict[\"shipment_number\"] = shipment_details_json[\"sendungen\"][0][\"sendungsdetails\"][\"sendungsnummern\"].get(\"sendungsnummer\")\n",
    "    delivery_history_dict[\"crawltime\"] = datetime.datetime.now().strftime('%Y-%m-%d %H:%M:%S')\n",
    "    delivery_history_dict[\"url\"] = start_url + shipment_number \n",
    "    delivery_history_dict[\"events\"] = shipment_details_json[\"sendungen\"][0][\"sendungsdetails\"][\"sendungsverlauf\"].get(\"events\", [])\n",
    "    return delivery_history_dict"
   ]
  },
  {
   "cell_type": "code",
   "execution_count": 155,
   "metadata": {},
   "outputs": [],
   "source": [
    "def drop_empty_values(shipment_details):\n",
    "    shipment_history = shipment_details(shipment_details_json)\n",
    "    for i in range(len(shipment_history)):\n",
    "        if shipment_history[i]['events'] == None or []:\n",
    "            del shipment_history[1]\n",
    "        else:\n",
    "            return shipment_history\n",
    "    return "
   ]
  },
  {
   "cell_type": "code",
   "execution_count": 156,
   "metadata": {},
   "outputs": [],
   "source": [
    "import json\n",
    "def save_dictionary(shipment_history=None, filename=None):\n",
    "    print(\"Writing file {}\".format(filename))\n",
    "    with open(filename, 'w') as f:\n",
    "        json.dump(shipment_history, f)"
   ]
  },
  {
   "cell_type": "code",
   "execution_count": 157,
   "metadata": {},
   "outputs": [
    {
     "name": "stdout",
     "output_type": "stream",
     "text": [
      "Writing file ../data/00340434188193323500.json\n"
     ]
    }
   ],
   "source": [
    "save_dictionary(shipment_history=None, filename=\"../data/00340434188193323500.json\")"
   ]
  },
  {
   "cell_type": "markdown",
   "metadata": {},
   "source": [
    "#### Main function, which goes through all shipment numbers and uses the previous methods"
   ]
  },
  {
   "cell_type": "code",
   "execution_count": 158,
   "metadata": {},
   "outputs": [],
   "source": [
    "import time\n",
    "def main():\n",
    "    shipment_numbers = generate_shipment_numbers(shipment_number=340434188193323500, size=50)\n",
    "    for shipment_number in shipment_numbers:\n",
    "        time.sleep(0.5)\n",
    "        print(\"Processing shipment number {}\".format(shipment_number))\n",
    "        html_response = request(shipment_number=shipment_number)\n",
    "        shipment_details_json = html_to_json(html_response)\n",
    "        shipment_history = shipment_details(shipment_details_json)\n",
    "        save_dictionary(shipment_history, filename=\"../data/{}.json\".format(shipment_number))\n",
    "        print(\"\\n\")"
   ]
  },
  {
   "cell_type": "code",
   "execution_count": 159,
   "metadata": {},
   "outputs": [
    {
     "name": "stdout",
     "output_type": "stream",
     "text": [
      "Processing shipment number 00340434188193323501\n",
      "Writing file ../data/00340434188193323501.json\n",
      "\n",
      "\n",
      "Processing shipment number 00340434188193323503\n",
      "Writing file ../data/00340434188193323503.json\n",
      "\n",
      "\n",
      "Processing shipment number 00340434188193323506\n",
      "Writing file ../data/00340434188193323506.json\n",
      "\n",
      "\n",
      "Processing shipment number 00340434188193323510\n",
      "Writing file ../data/00340434188193323510.json\n",
      "\n",
      "\n",
      "Processing shipment number 00340434188193323515\n",
      "Writing file ../data/00340434188193323515.json\n",
      "\n",
      "\n",
      "Processing shipment number 00340434188193323521\n",
      "Writing file ../data/00340434188193323521.json\n",
      "\n",
      "\n",
      "Processing shipment number 00340434188193323528\n",
      "Writing file ../data/00340434188193323528.json\n",
      "\n",
      "\n",
      "Processing shipment number 00340434188193323536\n",
      "Writing file ../data/00340434188193323536.json\n",
      "\n",
      "\n",
      "Processing shipment number 00340434188193323545\n",
      "Writing file ../data/00340434188193323545.json\n",
      "\n",
      "\n",
      "Processing shipment number 00340434188193323555\n",
      "Writing file ../data/00340434188193323555.json\n",
      "\n",
      "\n",
      "Processing shipment number 00340434188193323566\n",
      "Writing file ../data/00340434188193323566.json\n",
      "\n",
      "\n",
      "Processing shipment number 00340434188193323578\n",
      "Writing file ../data/00340434188193323578.json\n",
      "\n",
      "\n",
      "Processing shipment number 00340434188193323591\n",
      "Writing file ../data/00340434188193323591.json\n",
      "\n",
      "\n",
      "Processing shipment number 00340434188193323605\n",
      "Writing file ../data/00340434188193323605.json\n",
      "\n",
      "\n",
      "Processing shipment number 00340434188193323620\n",
      "Writing file ../data/00340434188193323620.json\n",
      "\n",
      "\n",
      "Processing shipment number 00340434188193323636\n",
      "Writing file ../data/00340434188193323636.json\n",
      "\n",
      "\n",
      "Processing shipment number 00340434188193323653\n",
      "Writing file ../data/00340434188193323653.json\n",
      "\n",
      "\n",
      "Processing shipment number 00340434188193323671\n",
      "Writing file ../data/00340434188193323671.json\n",
      "\n",
      "\n",
      "Processing shipment number 00340434188193323690\n",
      "Writing file ../data/00340434188193323690.json\n",
      "\n",
      "\n",
      "Processing shipment number 00340434188193323710\n",
      "Writing file ../data/00340434188193323710.json\n",
      "\n",
      "\n",
      "Processing shipment number 00340434188193323731\n",
      "Writing file ../data/00340434188193323731.json\n",
      "\n",
      "\n",
      "Processing shipment number 00340434188193323753\n",
      "Writing file ../data/00340434188193323753.json\n",
      "\n",
      "\n",
      "Processing shipment number 00340434188193323776\n",
      "Writing file ../data/00340434188193323776.json\n",
      "\n",
      "\n",
      "Processing shipment number 00340434188193323800\n",
      "Writing file ../data/00340434188193323800.json\n",
      "\n",
      "\n",
      "Processing shipment number 00340434188193323825\n",
      "Writing file ../data/00340434188193323825.json\n",
      "\n",
      "\n",
      "Processing shipment number 00340434188193323851\n",
      "Writing file ../data/00340434188193323851.json\n",
      "\n",
      "\n",
      "Processing shipment number 00340434188193323878\n",
      "Writing file ../data/00340434188193323878.json\n",
      "\n",
      "\n",
      "Processing shipment number 00340434188193323906\n",
      "Writing file ../data/00340434188193323906.json\n",
      "\n",
      "\n",
      "Processing shipment number 00340434188193323935\n",
      "Writing file ../data/00340434188193323935.json\n",
      "\n",
      "\n",
      "Processing shipment number 00340434188193323965\n",
      "Writing file ../data/00340434188193323965.json\n",
      "\n",
      "\n",
      "Processing shipment number 00340434188193323996\n",
      "Writing file ../data/00340434188193323996.json\n",
      "\n",
      "\n",
      "Processing shipment number 00340434188193324028\n",
      "Writing file ../data/00340434188193324028.json\n",
      "\n",
      "\n",
      "Processing shipment number 00340434188193324061\n",
      "Writing file ../data/00340434188193324061.json\n",
      "\n",
      "\n",
      "Processing shipment number 00340434188193324095\n",
      "Writing file ../data/00340434188193324095.json\n",
      "\n",
      "\n",
      "Processing shipment number 00340434188193324130\n",
      "Writing file ../data/00340434188193324130.json\n",
      "\n",
      "\n",
      "Processing shipment number 00340434188193324166\n",
      "Writing file ../data/00340434188193324166.json\n",
      "\n",
      "\n",
      "Processing shipment number 00340434188193324203\n",
      "Writing file ../data/00340434188193324203.json\n",
      "\n",
      "\n",
      "Processing shipment number 00340434188193324241\n",
      "Writing file ../data/00340434188193324241.json\n",
      "\n",
      "\n",
      "Processing shipment number 00340434188193324280\n",
      "Writing file ../data/00340434188193324280.json\n",
      "\n",
      "\n",
      "Processing shipment number 00340434188193324320\n",
      "Writing file ../data/00340434188193324320.json\n",
      "\n",
      "\n",
      "Processing shipment number 00340434188193324361\n",
      "Writing file ../data/00340434188193324361.json\n",
      "\n",
      "\n",
      "Processing shipment number 00340434188193324403\n",
      "Writing file ../data/00340434188193324403.json\n",
      "\n",
      "\n",
      "Processing shipment number 00340434188193324446\n",
      "Writing file ../data/00340434188193324446.json\n",
      "\n",
      "\n",
      "Processing shipment number 00340434188193324490\n",
      "Writing file ../data/00340434188193324490.json\n",
      "\n",
      "\n",
      "Processing shipment number 00340434188193324535\n",
      "Writing file ../data/00340434188193324535.json\n",
      "\n",
      "\n",
      "Processing shipment number 00340434188193324581\n",
      "Writing file ../data/00340434188193324581.json\n",
      "\n",
      "\n",
      "Processing shipment number 00340434188193324628\n",
      "Writing file ../data/00340434188193324628.json\n",
      "\n",
      "\n",
      "Processing shipment number 00340434188193324676\n",
      "Writing file ../data/00340434188193324676.json\n",
      "\n",
      "\n",
      "Processing shipment number 00340434188193324725\n",
      "Writing file ../data/00340434188193324725.json\n",
      "\n",
      "\n"
     ]
    }
   ],
   "source": [
    "main()"
   ]
  },
  {
   "cell_type": "code",
   "execution_count": null,
   "metadata": {},
   "outputs": [],
   "source": []
  }
 ],
 "metadata": {
  "kernelspec": {
   "display_name": "Python 3",
   "language": "python",
   "name": "python3"
  },
  "language_info": {
   "codemirror_mode": {
    "name": "ipython",
    "version": 3
   },
   "file_extension": ".py",
   "mimetype": "text/x-python",
   "name": "python",
   "nbconvert_exporter": "python",
   "pygments_lexer": "ipython3",
   "version": "3.7.3"
  }
 },
 "nbformat": 4,
 "nbformat_minor": 2
}
